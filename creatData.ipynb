{
 "cells": [
  {
   "cell_type": "code",
   "execution_count": 1,
   "metadata": {},
   "outputs": [],
   "source": [
    "import math\n",
    "import cv2\n",
    "import numpy as np\n",
    "from time import time\n",
    "import mediapipe as mp\n",
    "import matplotlib.pyplot as plt\n",
    "import os\n",
    "import pandas as pd\n",
    "os.environ[\"CUDA_VISIBLE_DEVICES\"]=\"0\""
   ]
  },
  {
   "cell_type": "code",
   "execution_count": 2,
   "metadata": {},
   "outputs": [],
   "source": [
    "# 미디어 파이프 설정 변수 선언\n",
    "mp_pose = mp.solutions.pose\n",
    "pose = mp_pose.Pose(static_image_mode=True,min_detection_confidence=0.3, model_complexity=0)\n",
    "mp_drawing = mp.solutions.drawing_utils\n"
   ]
  },
  {
   "cell_type": "code",
   "execution_count": 3,
   "metadata": {},
   "outputs": [],
   "source": [
    "# 포즈 감지 함수\n",
    "def detectPose(image,pose,display=True):\n",
    "    # input 이미지 복사\n",
    "    output_image = image.copy()\n",
    "    # RGB로 변환\n",
    "    imageRGB = cv2.cvtColor(image,cv2.COLOR_BGR2RGB)\n",
    "    # 렌드마크 찍기\n",
    "    results = pose.process(imageRGB)\n",
    "    # 사진 사이즈 구하기\n",
    "    height, width, _ = image.shape\n",
    "    # 렌드마크 값 리스트 만들기\n",
    "    landmarks = []\n",
    "\n",
    "    if results.pose_landmarks:\n",
    "        # 렌드마크 그리기\n",
    "        mp_drawing.draw_landmarks(image=output_image, landmark_list=results.pose_landmarks, connections=mp_pose.POSE_CONNECTIONS)\n",
    "        #렌드마크 정규값 landmarks 리스트에 넣기\n",
    "        for landmark in results.pose_landmarks.landmark:\n",
    "\n",
    "            landmarks.append((int(landmark.x*width), int(landmark.y*height), (landmark.z*width)))\n",
    "    # # 사진 결과 보기\n",
    "    # if display:\n",
    "    #     plt.figure(figsize=[22,22])\n",
    "    #     plt.subplot(121);plt.imshow(image[:,:,::-1]);plt.title(\"Original Image\");plt.axis('off');\n",
    "    #     plt.subplot(122);plt.imshow(output_image[:,:,::-1]);plt.title(\"Output Image\");plt.axis('off');\n",
    "    #     # 3차원으로도 봐보기\n",
    "    #     mp_drawing.plot_landmarks(results.pose_world_landmarks, mp_pose.POSE_CONNECTIONS)\n",
    "    # else:\n",
    "    \n",
    "    return output_image, landmarks"
   ]
  },
  {
   "cell_type": "code",
   "execution_count": 4,
   "metadata": {},
   "outputs": [],
   "source": [
    "# 각도 구하는 함수\n",
    "def calculateAngle(landmark1, landmark2, landmark3):\n",
    "    x1,y1,_ = landmark1 # z 좌표는 사용 x\n",
    "    x2,y2,_ = landmark2\n",
    "    x3,y3,_ = landmark3\n",
    "    # 3점의 각도 -> 선 2개 -> 각도\n",
    "    angle = math.degrees(math.atan2(y3-y2, x3-x2) - math.atan2(y1-y2,x1-x2))\n",
    "\n",
    "    angle = np.abs(angle)\n",
    "    # 음수의 각도가 나오면 양수로 바꾸기\n",
    "    if angle >180.0:\n",
    "        angle = 360 - angle\n",
    "        \n",
    "    return angle"
   ]
  },
  {
   "cell_type": "code",
   "execution_count": 16,
   "metadata": {},
   "outputs": [],
   "source": [
    "# 사진 한장 -> 3가지 각도를 저장할 프레임 선언 \n",
    "Datas = pd.DataFrame()"
   ]
  },
  {
   "cell_type": "code",
   "execution_count": 6,
   "metadata": {},
   "outputs": [],
   "source": [
    "# 사진 파일 경로 설정\n",
    "right_path = './legraise/right/'\n",
    "right_pic = os.listdir('./legraise/right/')\n",
    "leg_path = './legraise/leg/'\n",
    "leg_pic = os.listdir('./legraise/leg/')\n",
    "headup_path = './legraise/headup/'\n",
    "headup_pic = os.listdir('./legraise/headup/')"
   ]
  },
  {
   "cell_type": "code",
   "execution_count": 20,
   "metadata": {},
   "outputs": [
    {
     "name": "stdout",
     "output_type": "stream",
     "text": [
      "다리 쭉 펴진 상태 -> 140~180도\n",
      "다리 들어 올린상태 -> 110도보다 작아질 정도로 올리기\n",
      "다시 다시 내린 상태 -> 전과같이 140~180도\n",
      "[87.10500198126117, 145.1755108430432, 111.80140948635182, 147.55356907357756, 117.30890486184887, 142.57840360781344]\n",
      "다리 쭉 펴진 상태 -> 140~180도\n"
     ]
    },
    {
     "name": "stderr",
     "output_type": "stream",
     "text": [
      "C:\\Users\\smhrd\\AppData\\Local\\Temp\\ipykernel_14320\\1222695273.py:63: FutureWarning: The frame.append method is deprecated and will be removed from pandas in a future version. Use pandas.concat instead.\n",
      "  df= df.append([globals()[f'f{counter}']])\n"
     ]
    },
    {
     "name": "stdout",
     "output_type": "stream",
     "text": [
      "다리 들어 올린상태 -> 110도보다 작아질 정도로 올리기\n",
      "다시 다시 내린 상태 -> 전과같이 140~180도\n",
      "[117.63285225945035, 144.53054768127288, 113.70288093537948, 146.36824247436465, 114.37021014880204, 144.668569623565]\n",
      "다리 쭉 펴진 상태 -> 140~180도\n",
      "다리 들어 올린상태 -> 110도보다 작아질 정도로 올리기\n",
      "다시 다시 내린 상태 -> 전과같이 140~180도\n",
      "[113.02350096595933, 144.517421350721, 120.73101758982628, 151.99918056307152, 113.21419818951195, 144.77267805324067]\n",
      "다리 쭉 펴진 상태 -> 140~180도\n",
      "다리 들어 올린상태 -> 110도보다 작아질 정도로 올리기\n",
      "다시 다시 내린 상태 -> 전과같이 140~180도\n",
      "[173.66231466769236, 159.69815656829732, 138.1814889278133, 139.99411679406035, 85.93538436006442, 130.20986927763678]\n"
     ]
    },
    {
     "name": "stderr",
     "output_type": "stream",
     "text": [
      "C:\\Users\\smhrd\\AppData\\Local\\Temp\\ipykernel_14320\\1222695273.py:63: FutureWarning: The frame.append method is deprecated and will be removed from pandas in a future version. Use pandas.concat instead.\n",
      "  df= df.append([globals()[f'f{counter}']])\n"
     ]
    },
    {
     "name": "stdout",
     "output_type": "stream",
     "text": [
      "다리 쭉 펴진 상태 -> 140~180도\n",
      "다리 들어 올린상태 -> 110도보다 작아질 정도로 올리기\n",
      "다시 다시 내린 상태 -> 전과같이 140~180도\n",
      "[81.80748396735801, 131.17600478235943, 112.82012400353591, 155.03398624893683, 63.21058629984949, 147.66105393596234]\n",
      "다리 쭉 펴진 상태 -> 140~180도\n",
      "다리 들어 올린상태 -> 110도보다 작아질 정도로 올리기\n"
     ]
    },
    {
     "name": "stderr",
     "output_type": "stream",
     "text": [
      "C:\\Users\\smhrd\\AppData\\Local\\Temp\\ipykernel_14320\\1222695273.py:63: FutureWarning: The frame.append method is deprecated and will be removed from pandas in a future version. Use pandas.concat instead.\n",
      "  df= df.append([globals()[f'f{counter}']])\n"
     ]
    },
    {
     "name": "stdout",
     "output_type": "stream",
     "text": [
      "다시 다시 내린 상태 -> 전과같이 140~180도\n",
      "[64.7570343881873, 148.62428891381816, 109.33135095440977, 151.5855455704464, 62.25672020432193, 147.46361278082847]\n",
      "다리 쭉 펴진 상태 -> 140~180도\n",
      "다리 들어 올린상태 -> 110도보다 작아질 정도로 올리기\n"
     ]
    },
    {
     "name": "stderr",
     "output_type": "stream",
     "text": [
      "C:\\Users\\smhrd\\AppData\\Local\\Temp\\ipykernel_14320\\1222695273.py:63: FutureWarning: The frame.append method is deprecated and will be removed from pandas in a future version. Use pandas.concat instead.\n",
      "  df= df.append([globals()[f'f{counter}']])\n"
     ]
    },
    {
     "name": "stdout",
     "output_type": "stream",
     "text": [
      "다시 다시 내린 상태 -> 전과같이 140~180도\n",
      "[64.71960563593892, 148.46917578956015, 128.18025470395227, 154.67262805459285, 46.8580864796373, 157.53851515910318]\n",
      "다리 쭉 펴진 상태 -> 140~180도\n"
     ]
    },
    {
     "name": "stderr",
     "output_type": "stream",
     "text": [
      "C:\\Users\\smhrd\\AppData\\Local\\Temp\\ipykernel_14320\\1222695273.py:63: FutureWarning: The frame.append method is deprecated and will be removed from pandas in a future version. Use pandas.concat instead.\n",
      "  df= df.append([globals()[f'f{counter}']])\n"
     ]
    },
    {
     "name": "stdout",
     "output_type": "stream",
     "text": [
      "다리 들어 올린상태 -> 110도보다 작아질 정도로 올리기\n",
      "다시 다시 내린 상태 -> 전과같이 140~180도\n",
      "[50.049773514262824, 158.7789146594791, 103.583574044047, 164.64264575502628, 48.59237007433729, 162.01817179670198]\n",
      "다리 쭉 펴진 상태 -> 140~180도\n"
     ]
    },
    {
     "name": "stderr",
     "output_type": "stream",
     "text": [
      "C:\\Users\\smhrd\\AppData\\Local\\Temp\\ipykernel_14320\\1222695273.py:63: FutureWarning: The frame.append method is deprecated and will be removed from pandas in a future version. Use pandas.concat instead.\n",
      "  df= df.append([globals()[f'f{counter}']])\n"
     ]
    },
    {
     "name": "stdout",
     "output_type": "stream",
     "text": [
      "다리 들어 올린상태 -> 110도보다 작아질 정도로 올리기\n",
      "다시 다시 내린 상태 -> 전과같이 140~180도\n",
      "[47.33492775015108, 161.79258050893287, 113.65421335091023, 143.72532212383047, 98.71149713531396, 140.35995374102026]\n"
     ]
    },
    {
     "name": "stderr",
     "output_type": "stream",
     "text": [
      "C:\\Users\\smhrd\\AppData\\Local\\Temp\\ipykernel_14320\\1222695273.py:63: FutureWarning: The frame.append method is deprecated and will be removed from pandas in a future version. Use pandas.concat instead.\n",
      "  df= df.append([globals()[f'f{counter}']])\n"
     ]
    },
    {
     "name": "stdout",
     "output_type": "stream",
     "text": [
      "다리 쭉 펴진 상태 -> 140~180도\n",
      "다리 들어 올린상태 -> 110도보다 작아질 정도로 올리기\n",
      "다시 다시 내린 상태 -> 전과같이 140~180도\n",
      "[105.71325957455005, 144.15945693941725, 132.5357067282678, 147.0844338471012, 126.01172851582272, 139.2339786658815]\n"
     ]
    },
    {
     "name": "stderr",
     "output_type": "stream",
     "text": [
      "C:\\Users\\smhrd\\AppData\\Local\\Temp\\ipykernel_14320\\1222695273.py:63: FutureWarning: The frame.append method is deprecated and will be removed from pandas in a future version. Use pandas.concat instead.\n",
      "  df= df.append([globals()[f'f{counter}']])\n"
     ]
    },
    {
     "name": "stdout",
     "output_type": "stream",
     "text": [
      "다리 쭉 펴진 상태 -> 140~180도\n",
      "다리 들어 올린상태 -> 110도보다 작아질 정도로 올리기\n",
      "다시 다시 내린 상태 -> 전과같이 140~180도\n",
      "[125.49681576711448, 141.10354345264653, 134.19046971029323, 143.12219348823712, 152.01983807591643, 143.01288965275697]\n"
     ]
    },
    {
     "name": "stderr",
     "output_type": "stream",
     "text": [
      "C:\\Users\\smhrd\\AppData\\Local\\Temp\\ipykernel_14320\\1222695273.py:63: FutureWarning: The frame.append method is deprecated and will be removed from pandas in a future version. Use pandas.concat instead.\n",
      "  df= df.append([globals()[f'f{counter}']])\n"
     ]
    },
    {
     "name": "stdout",
     "output_type": "stream",
     "text": [
      "다리 쭉 펴진 상태 -> 140~180도\n",
      "다리 들어 올린상태 -> 110도보다 작아질 정도로 올리기\n",
      "다시 다시 내린 상태 -> 전과같이 140~180도\n",
      "[135.47050347718687, 142.45627872806855, 128.77686263259577, 143.49976120114525, 138.59811861433482, 144.60469013221604]\n"
     ]
    },
    {
     "name": "stderr",
     "output_type": "stream",
     "text": [
      "C:\\Users\\smhrd\\AppData\\Local\\Temp\\ipykernel_14320\\1222695273.py:63: FutureWarning: The frame.append method is deprecated and will be removed from pandas in a future version. Use pandas.concat instead.\n",
      "  df= df.append([globals()[f'f{counter}']])\n"
     ]
    },
    {
     "name": "stdout",
     "output_type": "stream",
     "text": [
      "다리 쭉 펴진 상태 -> 140~180도\n",
      "다리 들어 올린상태 -> 110도보다 작아질 정도로 올리기\n",
      "다시 다시 내린 상태 -> 전과같이 140~180도\n",
      "[177.11366887081894, 153.06012196778104, 101.57754219227013, 147.1542001224013, 48.44819200651457, 139.44883288333708]\n"
     ]
    },
    {
     "name": "stderr",
     "output_type": "stream",
     "text": [
      "C:\\Users\\smhrd\\AppData\\Local\\Temp\\ipykernel_14320\\1222695273.py:63: FutureWarning: The frame.append method is deprecated and will be removed from pandas in a future version. Use pandas.concat instead.\n",
      "  df= df.append([globals()[f'f{counter}']])\n"
     ]
    },
    {
     "name": "stdout",
     "output_type": "stream",
     "text": [
      "다리 쭉 펴진 상태 -> 140~180도\n",
      "다리 들어 올린상태 -> 110도보다 작아질 정도로 올리기\n",
      "다시 다시 내린 상태 -> 전과같이 140~180도\n",
      "[52.587087129536286, 134.29976761338855, 91.66069567793062, 133.5243976670639, 50.43507465321851, 136.542919196487]\n",
      "다리 쭉 펴진 상태 -> 140~180도\n",
      "다리 들어 올린상태 -> 110도보다 작아질 정도로 올리기\n"
     ]
    },
    {
     "name": "stderr",
     "output_type": "stream",
     "text": [
      "C:\\Users\\smhrd\\AppData\\Local\\Temp\\ipykernel_14320\\1222695273.py:63: FutureWarning: The frame.append method is deprecated and will be removed from pandas in a future version. Use pandas.concat instead.\n",
      "  df= df.append([globals()[f'f{counter}']])\n"
     ]
    },
    {
     "name": "stdout",
     "output_type": "stream",
     "text": [
      "다시 다시 내린 상태 -> 전과같이 140~180도\n",
      "[121.64465903709257, 169.32017274479747, 110.04944806854812, 139.3263502167778, 41.3653026281483, 138.9381586240861]\n",
      "다리 쭉 펴진 상태 -> 140~180도\n"
     ]
    },
    {
     "name": "stderr",
     "output_type": "stream",
     "text": [
      "C:\\Users\\smhrd\\AppData\\Local\\Temp\\ipykernel_14320\\1222695273.py:63: FutureWarning: The frame.append method is deprecated and will be removed from pandas in a future version. Use pandas.concat instead.\n",
      "  df= df.append([globals()[f'f{counter}']])\n"
     ]
    },
    {
     "name": "stdout",
     "output_type": "stream",
     "text": [
      "다리 들어 올린상태 -> 110도보다 작아질 정도로 올리기\n",
      "다시 다시 내린 상태 -> 전과같이 140~180도\n",
      "[43.310810271229975, 150.63455540447674, 97.86470949377008, 137.1403941310078, 59.863253031100484, 139.69325838542233]\n",
      "다리 쭉 펴진 상태 -> 140~180도\n"
     ]
    },
    {
     "name": "stderr",
     "output_type": "stream",
     "text": [
      "C:\\Users\\smhrd\\AppData\\Local\\Temp\\ipykernel_14320\\1222695273.py:63: FutureWarning: The frame.append method is deprecated and will be removed from pandas in a future version. Use pandas.concat instead.\n",
      "  df= df.append([globals()[f'f{counter}']])\n"
     ]
    },
    {
     "name": "stdout",
     "output_type": "stream",
     "text": [
      "다리 들어 올린상태 -> 110도보다 작아질 정도로 올리기\n",
      "다시 다시 내린 상태 -> 전과같이 140~180도\n",
      "[52.16746464666873, 139.6807129661008, 116.7179754923618, 130.0253682582422, 39.527866610551406, 129.50573475537595]\n",
      "다리 쭉 펴진 상태 -> 140~180도\n"
     ]
    },
    {
     "name": "stderr",
     "output_type": "stream",
     "text": [
      "C:\\Users\\smhrd\\AppData\\Local\\Temp\\ipykernel_14320\\1222695273.py:63: FutureWarning: The frame.append method is deprecated and will be removed from pandas in a future version. Use pandas.concat instead.\n",
      "  df= df.append([globals()[f'f{counter}']])\n"
     ]
    },
    {
     "name": "stdout",
     "output_type": "stream",
     "text": [
      "다리 들어 올린상태 -> 110도보다 작아질 정도로 올리기\n",
      "다시 다시 내린 상태 -> 전과같이 140~180도\n",
      "[41.366592244952535, 129.83711120771477, 102.49102078636616, 128.23002907541905, 41.85190390043724, 125.64201316824075]\n",
      "다리 쭉 펴진 상태 -> 140~180도\n"
     ]
    },
    {
     "name": "stderr",
     "output_type": "stream",
     "text": [
      "C:\\Users\\smhrd\\AppData\\Local\\Temp\\ipykernel_14320\\1222695273.py:63: FutureWarning: The frame.append method is deprecated and will be removed from pandas in a future version. Use pandas.concat instead.\n",
      "  df= df.append([globals()[f'f{counter}']])\n"
     ]
    },
    {
     "name": "stdout",
     "output_type": "stream",
     "text": [
      "다리 들어 올린상태 -> 110도보다 작아질 정도로 올리기\n",
      "다시 다시 내린 상태 -> 전과같이 140~180도\n",
      "[31.85302768338664, 129.53837859916945, 114.20748657489304, 131.7362791283256, 42.08427080135394, 129.34101775111614]\n",
      "다리 쭉 펴진 상태 -> 140~180도\n"
     ]
    },
    {
     "name": "stderr",
     "output_type": "stream",
     "text": [
      "C:\\Users\\smhrd\\AppData\\Local\\Temp\\ipykernel_14320\\1222695273.py:63: FutureWarning: The frame.append method is deprecated and will be removed from pandas in a future version. Use pandas.concat instead.\n",
      "  df= df.append([globals()[f'f{counter}']])\n"
     ]
    },
    {
     "name": "stdout",
     "output_type": "stream",
     "text": [
      "다리 들어 올린상태 -> 110도보다 작아질 정도로 올리기\n",
      "다시 다시 내린 상태 -> 전과같이 140~180도\n",
      "[44.15955516052721, 129.87928521058717, 110.4622715234222, 135.312519334367, 34.96238285390022, 130.6452949789989]\n",
      "다리 쭉 펴진 상태 -> 140~180도\n"
     ]
    },
    {
     "name": "stderr",
     "output_type": "stream",
     "text": [
      "C:\\Users\\smhrd\\AppData\\Local\\Temp\\ipykernel_14320\\1222695273.py:63: FutureWarning: The frame.append method is deprecated and will be removed from pandas in a future version. Use pandas.concat instead.\n",
      "  df= df.append([globals()[f'f{counter}']])\n"
     ]
    },
    {
     "name": "stdout",
     "output_type": "stream",
     "text": [
      "다리 들어 올린상태 -> 110도보다 작아질 정도로 올리기\n",
      "다시 다시 내린 상태 -> 전과같이 140~180도\n",
      "[28.695679857757746, 131.53751556381283, 89.22594584964497, 147.7805110476033, 150.56337372390703, 141.32488400571225]\n",
      "다리 쭉 펴진 상태 -> 140~180도\n"
     ]
    },
    {
     "name": "stderr",
     "output_type": "stream",
     "text": [
      "C:\\Users\\smhrd\\AppData\\Local\\Temp\\ipykernel_14320\\1222695273.py:63: FutureWarning: The frame.append method is deprecated and will be removed from pandas in a future version. Use pandas.concat instead.\n",
      "  df= df.append([globals()[f'f{counter}']])\n"
     ]
    },
    {
     "name": "stdout",
     "output_type": "stream",
     "text": [
      "다리 들어 올린상태 -> 110도보다 작아질 정도로 올리기\n",
      "다시 다시 내린 상태 -> 전과같이 140~180도\n",
      "[145.404191122883, 149.63387507293612, 118.52649937147243, 140.25198366438116, 83.83606675780136, 129.36054560876406]\n",
      "다리 쭉 펴진 상태 -> 140~180도\n"
     ]
    },
    {
     "name": "stderr",
     "output_type": "stream",
     "text": [
      "C:\\Users\\smhrd\\AppData\\Local\\Temp\\ipykernel_14320\\1222695273.py:63: FutureWarning: The frame.append method is deprecated and will be removed from pandas in a future version. Use pandas.concat instead.\n",
      "  df= df.append([globals()[f'f{counter}']])\n"
     ]
    },
    {
     "name": "stdout",
     "output_type": "stream",
     "text": [
      "다리 들어 올린상태 -> 110도보다 작아질 정도로 올리기\n",
      "다시 다시 내린 상태 -> 전과같이 140~180도\n",
      "[78.38455620874637, 134.79604752631943, 111.29841166613099, 132.5578593356056, 61.5354267853967, 148.57683074609014]\n",
      "다리 쭉 펴진 상태 -> 140~180도\n",
      "다리 들어 올린상태 -> 110도보다 작아질 정도로 올리기\n"
     ]
    },
    {
     "name": "stderr",
     "output_type": "stream",
     "text": [
      "C:\\Users\\smhrd\\AppData\\Local\\Temp\\ipykernel_14320\\1222695273.py:63: FutureWarning: The frame.append method is deprecated and will be removed from pandas in a future version. Use pandas.concat instead.\n",
      "  df= df.append([globals()[f'f{counter}']])\n"
     ]
    },
    {
     "name": "stdout",
     "output_type": "stream",
     "text": [
      "다시 다시 내린 상태 -> 전과같이 140~180도\n",
      "[63.82956126227446, 144.1835128295809, 108.78268094151991, 148.94239188857162, 59.95478375304523, 143.93089626574715]\n"
     ]
    },
    {
     "name": "stderr",
     "output_type": "stream",
     "text": [
      "C:\\Users\\smhrd\\AppData\\Local\\Temp\\ipykernel_14320\\1222695273.py:63: FutureWarning: The frame.append method is deprecated and will be removed from pandas in a future version. Use pandas.concat instead.\n",
      "  df= df.append([globals()[f'f{counter}']])\n"
     ]
    },
    {
     "name": "stdout",
     "output_type": "stream",
     "text": [
      "다리 쭉 펴진 상태 -> 140~180도\n",
      "다리 들어 올린상태 -> 110도보다 작아질 정도로 올리기\n",
      "다시 다시 내린 상태 -> 전과같이 140~180도\n",
      "[177.4968066468718, 148.37296793596815, 108.64468695836806, 147.6103301820294, 115.94140829186625, 145.42811633723505]\n",
      "다리 쭉 펴진 상태 -> 140~180도\n",
      "다리 들어 올린상태 -> 110도보다 작아질 정도로 올리기\n"
     ]
    },
    {
     "name": "stderr",
     "output_type": "stream",
     "text": [
      "C:\\Users\\smhrd\\AppData\\Local\\Temp\\ipykernel_14320\\1222695273.py:63: FutureWarning: The frame.append method is deprecated and will be removed from pandas in a future version. Use pandas.concat instead.\n",
      "  df= df.append([globals()[f'f{counter}']])\n"
     ]
    },
    {
     "name": "stdout",
     "output_type": "stream",
     "text": [
      "다시 다시 내린 상태 -> 전과같이 140~180도\n",
      "[175.286047333007, 157.92513845552702, 125.81699377401642, 138.0036399382815, 152.1244896134725, 144.40733587220691]\n",
      "다리 쭉 펴진 상태 -> 140~180도\n",
      "다리 들어 올린상태 -> 110도보다 작아질 정도로 올리기\n"
     ]
    },
    {
     "name": "stderr",
     "output_type": "stream",
     "text": [
      "C:\\Users\\smhrd\\AppData\\Local\\Temp\\ipykernel_14320\\1222695273.py:63: FutureWarning: The frame.append method is deprecated and will be removed from pandas in a future version. Use pandas.concat instead.\n",
      "  df= df.append([globals()[f'f{counter}']])\n"
     ]
    },
    {
     "name": "stdout",
     "output_type": "stream",
     "text": [
      "다시 다시 내린 상태 -> 전과같이 140~180도\n",
      "[163.55519355224783, 150.7246705432257, 129.46405207718888, 139.94046133098408, 157.17917838258077, 148.34610900085335]\n",
      "다리 쭉 펴진 상태 -> 140~180도\n",
      "다리 들어 올린상태 -> 110도보다 작아질 정도로 올리기\n"
     ]
    },
    {
     "name": "stderr",
     "output_type": "stream",
     "text": [
      "C:\\Users\\smhrd\\AppData\\Local\\Temp\\ipykernel_14320\\1222695273.py:63: FutureWarning: The frame.append method is deprecated and will be removed from pandas in a future version. Use pandas.concat instead.\n",
      "  df= df.append([globals()[f'f{counter}']])\n"
     ]
    },
    {
     "name": "stdout",
     "output_type": "stream",
     "text": [
      "다시 다시 내린 상태 -> 전과같이 140~180도\n",
      "[141.5069426706625, 147.5688851096338, 124.31821787421231, 150.10227637575892, 171.20569340635183, 149.25736760347303]\n",
      "다리 쭉 펴진 상태 -> 140~180도\n"
     ]
    },
    {
     "name": "stderr",
     "output_type": "stream",
     "text": [
      "C:\\Users\\smhrd\\AppData\\Local\\Temp\\ipykernel_14320\\1222695273.py:63: FutureWarning: The frame.append method is deprecated and will be removed from pandas in a future version. Use pandas.concat instead.\n",
      "  df= df.append([globals()[f'f{counter}']])\n"
     ]
    },
    {
     "name": "stdout",
     "output_type": "stream",
     "text": [
      "다리 들어 올린상태 -> 110도보다 작아질 정도로 올리기\n",
      "다시 다시 내린 상태 -> 전과같이 140~180도\n",
      "[179.68385741543634, 150.71602511359487, 98.06192018144588, 147.58320085537625, 45.87467677112132, 131.13926737511673]\n",
      "다리 쭉 펴진 상태 -> 140~180도\n"
     ]
    },
    {
     "name": "stderr",
     "output_type": "stream",
     "text": [
      "C:\\Users\\smhrd\\AppData\\Local\\Temp\\ipykernel_14320\\1222695273.py:63: FutureWarning: The frame.append method is deprecated and will be removed from pandas in a future version. Use pandas.concat instead.\n",
      "  df= df.append([globals()[f'f{counter}']])\n"
     ]
    },
    {
     "name": "stdout",
     "output_type": "stream",
     "text": [
      "다리 들어 올린상태 -> 110도보다 작아질 정도로 올리기\n",
      "다시 다시 내린 상태 -> 전과같이 140~180도\n",
      "[48.41374070280812, 131.73561679596716, 93.03779992164039, 139.41515925710857, 45.27781978778769, 130.58471120711354]\n",
      "다리 쭉 펴진 상태 -> 140~180도\n"
     ]
    },
    {
     "name": "stderr",
     "output_type": "stream",
     "text": [
      "C:\\Users\\smhrd\\AppData\\Local\\Temp\\ipykernel_14320\\1222695273.py:63: FutureWarning: The frame.append method is deprecated and will be removed from pandas in a future version. Use pandas.concat instead.\n",
      "  df= df.append([globals()[f'f{counter}']])\n"
     ]
    },
    {
     "name": "stdout",
     "output_type": "stream",
     "text": [
      "다리 들어 올린상태 -> 110도보다 작아질 정도로 올리기\n",
      "다시 다시 내린 상태 -> 전과같이 140~180도\n",
      "[43.98649680962743, 136.24496928826272, 93.25030193660717, 146.33636366579447, 45.64346405216759, 135.86641077110465]\n",
      "다리 쭉 펴진 상태 -> 140~180도\n"
     ]
    },
    {
     "name": "stderr",
     "output_type": "stream",
     "text": [
      "C:\\Users\\smhrd\\AppData\\Local\\Temp\\ipykernel_14320\\1222695273.py:63: FutureWarning: The frame.append method is deprecated and will be removed from pandas in a future version. Use pandas.concat instead.\n",
      "  df= df.append([globals()[f'f{counter}']])\n"
     ]
    },
    {
     "name": "stdout",
     "output_type": "stream",
     "text": [
      "다리 들어 올린상태 -> 110도보다 작아질 정도로 올리기\n",
      "다시 다시 내린 상태 -> 전과같이 140~180도\n",
      "[46.94701635753428, 131.14547157428177, 105.97584345596843, 147.75197892347288, 51.78778620600698, 150.67932937427804]\n",
      "다리 쭉 펴진 상태 -> 140~180도\n",
      "다리 들어 올린상태 -> 110도보다 작아질 정도로 올리기\n"
     ]
    },
    {
     "name": "stderr",
     "output_type": "stream",
     "text": [
      "C:\\Users\\smhrd\\AppData\\Local\\Temp\\ipykernel_14320\\1222695273.py:63: FutureWarning: The frame.append method is deprecated and will be removed from pandas in a future version. Use pandas.concat instead.\n",
      "  df= df.append([globals()[f'f{counter}']])\n"
     ]
    },
    {
     "name": "stdout",
     "output_type": "stream",
     "text": [
      "다시 다시 내린 상태 -> 전과같이 140~180도\n",
      "[56.83490336604778, 141.19770692381792, 104.50831141035621, 147.29385949228165, 36.9764067956001, 138.88661609045369]\n",
      "다리 쭉 펴진 상태 -> 140~180도\n"
     ]
    },
    {
     "name": "stderr",
     "output_type": "stream",
     "text": [
      "C:\\Users\\smhrd\\AppData\\Local\\Temp\\ipykernel_14320\\1222695273.py:63: FutureWarning: The frame.append method is deprecated and will be removed from pandas in a future version. Use pandas.concat instead.\n",
      "  df= df.append([globals()[f'f{counter}']])\n"
     ]
    },
    {
     "name": "stdout",
     "output_type": "stream",
     "text": [
      "다리 들어 올린상태 -> 110도보다 작아질 정도로 올리기\n",
      "다시 다시 내린 상태 -> 전과같이 140~180도\n",
      "[35.30126984122194, 139.2708373904349, 117.46751182674089, 144.95413564336104, 126.88773820842437, 138.23892097904755]\n",
      "다리 쭉 펴진 상태 -> 140~180도\n"
     ]
    },
    {
     "name": "stderr",
     "output_type": "stream",
     "text": [
      "C:\\Users\\smhrd\\AppData\\Local\\Temp\\ipykernel_14320\\1222695273.py:63: FutureWarning: The frame.append method is deprecated and will be removed from pandas in a future version. Use pandas.concat instead.\n",
      "  df= df.append([globals()[f'f{counter}']])\n"
     ]
    },
    {
     "name": "stdout",
     "output_type": "stream",
     "text": [
      "다리 들어 올린상태 -> 110도보다 작아질 정도로 올리기\n",
      "다시 다시 내린 상태 -> 전과같이 140~180도\n",
      "[178.41804878322642, 140.32632224094132, 128.5461894848375, 141.81735099410488, 148.507838875273, 142.80942036965524]\n",
      "다리 쭉 펴진 상태 -> 140~180도\n"
     ]
    },
    {
     "name": "stderr",
     "output_type": "stream",
     "text": [
      "C:\\Users\\smhrd\\AppData\\Local\\Temp\\ipykernel_14320\\1222695273.py:63: FutureWarning: The frame.append method is deprecated and will be removed from pandas in a future version. Use pandas.concat instead.\n",
      "  df= df.append([globals()[f'f{counter}']])\n"
     ]
    },
    {
     "name": "stdout",
     "output_type": "stream",
     "text": [
      "다리 들어 올린상태 -> 110도보다 작아질 정도로 올리기\n",
      "다시 다시 내린 상태 -> 전과같이 140~180도\n",
      "[179.85303423342305, 141.37818628908937, 132.82620381615956, 145.43747535111817, 155.4495476107926, 144.81233967357966]\n",
      "다리 쭉 펴진 상태 -> 140~180도\n"
     ]
    },
    {
     "name": "stderr",
     "output_type": "stream",
     "text": [
      "C:\\Users\\smhrd\\AppData\\Local\\Temp\\ipykernel_14320\\1222695273.py:63: FutureWarning: The frame.append method is deprecated and will be removed from pandas in a future version. Use pandas.concat instead.\n",
      "  df= df.append([globals()[f'f{counter}']])\n"
     ]
    },
    {
     "name": "stdout",
     "output_type": "stream",
     "text": [
      "다리 들어 올린상태 -> 110도보다 작아질 정도로 올리기\n",
      "다시 다시 내린 상태 -> 전과같이 140~180도\n",
      "[177.1125282636148, 146.7158917997388, 127.09200173533114, 139.68897594769152, 175.87922637328558, 144.87479164333183]\n",
      "다리 쭉 펴진 상태 -> 140~180도\n"
     ]
    },
    {
     "name": "stderr",
     "output_type": "stream",
     "text": [
      "C:\\Users\\smhrd\\AppData\\Local\\Temp\\ipykernel_14320\\1222695273.py:63: FutureWarning: The frame.append method is deprecated and will be removed from pandas in a future version. Use pandas.concat instead.\n",
      "  df= df.append([globals()[f'f{counter}']])\n"
     ]
    },
    {
     "name": "stdout",
     "output_type": "stream",
     "text": [
      "다리 들어 올린상태 -> 110도보다 작아질 정도로 올리기\n",
      "다시 다시 내린 상태 -> 전과같이 140~180도\n",
      "[179.30405634163372, 144.09184633036818, 78.19882335875576, 134.8766508267047, 55.49332010155219, 128.5206837593795]\n",
      "다리 쭉 펴진 상태 -> 140~180도\n"
     ]
    },
    {
     "name": "stderr",
     "output_type": "stream",
     "text": [
      "C:\\Users\\smhrd\\AppData\\Local\\Temp\\ipykernel_14320\\1222695273.py:63: FutureWarning: The frame.append method is deprecated and will be removed from pandas in a future version. Use pandas.concat instead.\n",
      "  df= df.append([globals()[f'f{counter}']])\n"
     ]
    },
    {
     "name": "stdout",
     "output_type": "stream",
     "text": [
      "다리 들어 올린상태 -> 110도보다 작아질 정도로 올리기\n",
      "다시 다시 내린 상태 -> 전과같이 140~180도\n",
      "[51.668866290296194, 130.13388945849442, 86.35017245031753, 132.52771524490208, 55.94242016115252, 130.15776332494494]\n",
      "다리 쭉 펴진 상태 -> 140~180도\n"
     ]
    },
    {
     "name": "stderr",
     "output_type": "stream",
     "text": [
      "C:\\Users\\smhrd\\AppData\\Local\\Temp\\ipykernel_14320\\1222695273.py:63: FutureWarning: The frame.append method is deprecated and will be removed from pandas in a future version. Use pandas.concat instead.\n",
      "  df= df.append([globals()[f'f{counter}']])\n"
     ]
    },
    {
     "name": "stdout",
     "output_type": "stream",
     "text": [
      "다리 들어 올린상태 -> 110도보다 작아질 정도로 올리기\n",
      "다시 다시 내린 상태 -> 전과같이 140~180도\n",
      "[55.59281421567107, 127.45699478969169, 75.47685195213565, 135.75608648831374, 52.06919066389175, 130.67040894141323]\n",
      "다리 쭉 펴진 상태 -> 140~180도\n"
     ]
    },
    {
     "name": "stderr",
     "output_type": "stream",
     "text": [
      "C:\\Users\\smhrd\\AppData\\Local\\Temp\\ipykernel_14320\\1222695273.py:63: FutureWarning: The frame.append method is deprecated and will be removed from pandas in a future version. Use pandas.concat instead.\n",
      "  df= df.append([globals()[f'f{counter}']])\n"
     ]
    },
    {
     "name": "stdout",
     "output_type": "stream",
     "text": [
      "다리 들어 올린상태 -> 110도보다 작아질 정도로 올리기\n",
      "다시 다시 내린 상태 -> 전과같이 140~180도\n",
      "[46.77393000820125, 128.29813533349022, 118.12317869118067, 151.95115318638406, 44.35467916577133, 144.49098912834697]\n"
     ]
    },
    {
     "name": "stderr",
     "output_type": "stream",
     "text": [
      "C:\\Users\\smhrd\\AppData\\Local\\Temp\\ipykernel_14320\\1222695273.py:63: FutureWarning: The frame.append method is deprecated and will be removed from pandas in a future version. Use pandas.concat instead.\n",
      "  df= df.append([globals()[f'f{counter}']])\n"
     ]
    },
    {
     "name": "stdout",
     "output_type": "stream",
     "text": [
      "다리 쭉 펴진 상태 -> 140~180도\n",
      "다리 들어 올린상태 -> 110도보다 작아질 정도로 올리기\n",
      "다시 다시 내린 상태 -> 전과같이 140~180도\n",
      "[48.47605055835282, 149.59697966532542, 101.85863824801623, 147.59545651140456, 46.46023342466752, 147.63627915077825]\n"
     ]
    },
    {
     "name": "stderr",
     "output_type": "stream",
     "text": [
      "C:\\Users\\smhrd\\AppData\\Local\\Temp\\ipykernel_14320\\1222695273.py:63: FutureWarning: The frame.append method is deprecated and will be removed from pandas in a future version. Use pandas.concat instead.\n",
      "  df= df.append([globals()[f'f{counter}']])\n"
     ]
    },
    {
     "name": "stdout",
     "output_type": "stream",
     "text": [
      "다리 쭉 펴진 상태 -> 140~180도\n",
      "다리 들어 올린상태 -> 110도보다 작아질 정도로 올리기\n",
      "다시 다시 내린 상태 -> 전과같이 140~180도\n",
      "[179.29268063145577, 144.21225624870206, 111.14621312262318, 138.77655421567428, 116.69601273075341, 136.21023058522258]\n",
      "다리 쭉 펴진 상태 -> 140~180도\n",
      "다리 들어 올린상태 -> 110도보다 작아질 정도로 올리기\n"
     ]
    },
    {
     "name": "stderr",
     "output_type": "stream",
     "text": [
      "C:\\Users\\smhrd\\AppData\\Local\\Temp\\ipykernel_14320\\1222695273.py:63: FutureWarning: The frame.append method is deprecated and will be removed from pandas in a future version. Use pandas.concat instead.\n",
      "  df= df.append([globals()[f'f{counter}']])\n"
     ]
    },
    {
     "name": "stdout",
     "output_type": "stream",
     "text": [
      "다시 다시 내린 상태 -> 전과같이 140~180도\n",
      "[176.79333502254025, 142.6269207165134, 110.14483236434108, 139.18762108478748, 178.01953319425513, 144.323591778138]\n",
      "다리 쭉 펴진 상태 -> 140~180도\n",
      "다리 들어 올린상태 -> 110도보다 작아질 정도로 올리기\n"
     ]
    },
    {
     "name": "stderr",
     "output_type": "stream",
     "text": [
      "C:\\Users\\smhrd\\AppData\\Local\\Temp\\ipykernel_14320\\1222695273.py:63: FutureWarning: The frame.append method is deprecated and will be removed from pandas in a future version. Use pandas.concat instead.\n",
      "  df= df.append([globals()[f'f{counter}']])\n"
     ]
    },
    {
     "name": "stdout",
     "output_type": "stream",
     "text": [
      "다시 다시 내린 상태 -> 전과같이 140~180도\n",
      "[164.0516006246735, 143.49100669345606, 126.5475279536602, 145.04701854305586, 172.42576963339357, 142.62671788260224]\n",
      "다리 쭉 펴진 상태 -> 140~180도\n",
      "다리 들어 올린상태 -> 110도보다 작아질 정도로 올리기\n"
     ]
    },
    {
     "name": "stderr",
     "output_type": "stream",
     "text": [
      "C:\\Users\\smhrd\\AppData\\Local\\Temp\\ipykernel_14320\\1222695273.py:63: FutureWarning: The frame.append method is deprecated and will be removed from pandas in a future version. Use pandas.concat instead.\n",
      "  df= df.append([globals()[f'f{counter}']])\n"
     ]
    },
    {
     "name": "stdout",
     "output_type": "stream",
     "text": [
      "다시 다시 내린 상태 -> 전과같이 140~180도\n",
      "[178.77415023300867, 140.67741666204532, 104.8255577587168, 146.75867507580978, 179.59319072990974, 145.6398369517957]\n",
      "다리 쭉 펴진 상태 -> 140~180도\n"
     ]
    },
    {
     "name": "stderr",
     "output_type": "stream",
     "text": [
      "C:\\Users\\smhrd\\AppData\\Local\\Temp\\ipykernel_14320\\1222695273.py:63: FutureWarning: The frame.append method is deprecated and will be removed from pandas in a future version. Use pandas.concat instead.\n",
      "  df= df.append([globals()[f'f{counter}']])\n"
     ]
    }
   ],
   "source": [
    "# 개수 카운트\n",
    "counter = 0\n",
    "# 처음 상태\n",
    "stage = 'start'\n",
    "a = [] #시작각도\n",
    "b = [] #고점\n",
    "c = [] #1회 끝 (다시 시작 각도)\n",
    "\n",
    "df = pd.DataFrame()\n",
    "\n",
    "for i in range(int(len(leg_pic))):\n",
    "    # right_pic, headup_pic, leg_pic 바꿔주기 -> 라벨달기 편하게\n",
    "    image = cv2.imread(leg_path+leg_pic[i])\n",
    "    output_image, landmarks = detectPose(image,pose,display=False)\n",
    "\n",
    "    if landmarks:\n",
    "        # 랜드마크 추출 후 각도 계산\n",
    "        # 귀 - 어깨 - 엉덩이 => 고개 각도 구하기 위함\n",
    "        left_shoulder_angle = calculateAngle(landmarks[mp_pose.PoseLandmark.LEFT_EAR.value],\n",
    "                                        landmarks[mp_pose.PoseLandmark.LEFT_SHOULDER.value],\n",
    "                                        landmarks[mp_pose.PoseLandmark.LEFT_HIP.value])\n",
    "        \n",
    "        # 어깨 - 엉덩이 - 무릎 => 올리는 동작 각도 구하기 위함 -> Main angle\n",
    "        angle = calculateAngle(landmarks[mp_pose.PoseLandmark.LEFT_SHOULDER.value],\n",
    "                                            landmarks[mp_pose.PoseLandmark.LEFT_HIP.value],\n",
    "                                            landmarks[mp_pose.PoseLandmark.LEFT_KNEE.value])\n",
    "        \n",
    "        # 엉덩이 - 무릎 - 발목 => 무릎 꺾였는지 보기 위함\n",
    "        left_knee_angle = calculateAngle(landmarks[mp_pose.PoseLandmark.LEFT_HIP.value],\n",
    "                                        landmarks[mp_pose.PoseLandmark.LEFT_KNEE.value],\n",
    "                                        landmarks[mp_pose.PoseLandmark.LEFT_ANKLE.value])\n",
    "       \n",
    "       # start -> 각각 리스트 길이가 초기에 0이고 1회 완료시 a,c 의 리스트 길이가 같아짐\n",
    "        if len(a) == 0 or len(a) == len(c) :\n",
    "            if angle >140 : \n",
    "                print('다리 쭉 펴진 상태 -> 140~180도')\n",
    "                # 이때의 고개 , 무릎 각도 저장\n",
    "                a.append(left_knee_angle)\n",
    "                a.append(left_shoulder_angle)\n",
    "                stage='start'\n",
    "        \n",
    "        \n",
    "        # 고점에 도착했을때            \n",
    "        elif len(b) < len(a) :\n",
    "            if angle < 110 :\n",
    "                print('다리 들어 올린상태 -> 110도보다 작아질 정도로 올리기')\n",
    "                b.append(left_knee_angle)\n",
    "                b.append(left_shoulder_angle)\n",
    "                stage = 'up'\n",
    "        \n",
    "        # 1회 완성 했을 때\n",
    "        elif len(c) < len(b) :\n",
    "            if angle >140 :\n",
    "                print('다시 다시 내린 상태 -> 전과같이 140~180도')\n",
    "                c.append(left_knee_angle)\n",
    "                c.append(left_shoulder_angle)\n",
    "                stage = 'complete'\n",
    "                counter += 1 # 1회 동작 완료\n",
    "                # 동작 완료 후 a,b,c 에 있는 각도 -> 한개의 행으로 합치기 (한개 할때의 각각의 각도가 저장됨)\n",
    "                globals()[f'f{counter}'] = a+b+c\n",
    "                print(globals()[f'f{counter}'])\n",
    "                # 임시 dataframe에 저장\n",
    "                df= df.append([globals()[f'f{counter}']])\n",
    "                # 다시 abc 리스트 0으로 초기화\n",
    "                a = []\n",
    "                b = []\n",
    "                c = []\n",
    "\n",
    "        # # 횟수 카운트 하는 사각형 만들기\n",
    "        # cv2.rectangle(output_image, (0,0), (225,73), (245,117,16), -1)\n",
    "\n",
    "        # # 횟수\n",
    "        # cv2.putText(output_image, '1set', (15,12), \n",
    "        #             cv2.FONT_HERSHEY_SIMPLEX, 0.5, (0,0,0), 1, cv2.LINE_AA)\n",
    "\n",
    "        # cv2.putText(output_image, str(counter), \n",
    "        #             (10,60), \n",
    "        #         cv2.FONT_HERSHEY_SIMPLEX, 2, (255,255,255), 2, cv2.LINE_AA)\n",
    "        # # 상태\n",
    "        # cv2.putText(output_image, 'STAGE', (65,12), \n",
    "        #                     cv2.FONT_HERSHEY_SIMPLEX, 0.5, (0,0,0), 1, cv2.LINE_AA)\n",
    "        # cv2.putText(output_image, stage, \n",
    "        #                 (60,60), \n",
    "        #             cv2.FONT_HERSHEY_SIMPLEX, 2, (255,255,255), 2, cv2.LINE_AA)\n",
    "        # plt.figure(figsize=[10,10])\n",
    "        # plt.imshow(output_image[:,:,::-1]);plt.title(\"Output Image\");plt.axis('off');\n"
   ]
  },
  {
   "cell_type": "code",
   "execution_count": 21,
   "metadata": {},
   "outputs": [
    {
     "name": "stderr",
     "output_type": "stream",
     "text": [
      "C:\\Users\\smhrd\\AppData\\Local\\Temp\\ipykernel_14320\\310810813.py:4: FutureWarning: The frame.append method is deprecated and will be removed from pandas in a future version. Use pandas.concat instead.\n",
      "  Datas = Datas.append(df)\n"
     ]
    },
    {
     "data": {
      "text/html": [
       "<div>\n",
       "<style scoped>\n",
       "    .dataframe tbody tr th:only-of-type {\n",
       "        vertical-align: middle;\n",
       "    }\n",
       "\n",
       "    .dataframe tbody tr th {\n",
       "        vertical-align: top;\n",
       "    }\n",
       "\n",
       "    .dataframe thead th {\n",
       "        text-align: right;\n",
       "    }\n",
       "</style>\n",
       "<table border=\"1\" class=\"dataframe\">\n",
       "  <thead>\n",
       "    <tr style=\"text-align: right;\">\n",
       "      <th></th>\n",
       "      <th>0</th>\n",
       "      <th>1</th>\n",
       "      <th>2</th>\n",
       "      <th>3</th>\n",
       "      <th>4</th>\n",
       "      <th>5</th>\n",
       "      <th>y</th>\n",
       "    </tr>\n",
       "  </thead>\n",
       "  <tbody>\n",
       "    <tr>\n",
       "      <th>0</th>\n",
       "      <td>170.457588</td>\n",
       "      <td>151.629708</td>\n",
       "      <td>164.946441</td>\n",
       "      <td>152.001762</td>\n",
       "      <td>169.258602</td>\n",
       "      <td>150.901133</td>\n",
       "      <td>0</td>\n",
       "    </tr>\n",
       "    <tr>\n",
       "      <th>0</th>\n",
       "      <td>169.258602</td>\n",
       "      <td>150.901133</td>\n",
       "      <td>160.183737</td>\n",
       "      <td>151.013425</td>\n",
       "      <td>175.739815</td>\n",
       "      <td>152.158787</td>\n",
       "      <td>0</td>\n",
       "    </tr>\n",
       "    <tr>\n",
       "      <th>0</th>\n",
       "      <td>173.679040</td>\n",
       "      <td>151.482938</td>\n",
       "      <td>157.068102</td>\n",
       "      <td>149.034440</td>\n",
       "      <td>157.542638</td>\n",
       "      <td>141.082513</td>\n",
       "      <td>0</td>\n",
       "    </tr>\n",
       "    <tr>\n",
       "      <th>0</th>\n",
       "      <td>145.664882</td>\n",
       "      <td>142.793593</td>\n",
       "      <td>158.368783</td>\n",
       "      <td>152.322292</td>\n",
       "      <td>151.356825</td>\n",
       "      <td>142.188505</td>\n",
       "      <td>0</td>\n",
       "    </tr>\n",
       "    <tr>\n",
       "      <th>0</th>\n",
       "      <td>142.979015</td>\n",
       "      <td>145.097972</td>\n",
       "      <td>156.726610</td>\n",
       "      <td>151.590351</td>\n",
       "      <td>149.836584</td>\n",
       "      <td>147.106296</td>\n",
       "      <td>0</td>\n",
       "    </tr>\n",
       "    <tr>\n",
       "      <th>...</th>\n",
       "      <td>...</td>\n",
       "      <td>...</td>\n",
       "      <td>...</td>\n",
       "      <td>...</td>\n",
       "      <td>...</td>\n",
       "      <td>...</td>\n",
       "      <td>...</td>\n",
       "    </tr>\n",
       "    <tr>\n",
       "      <th>0</th>\n",
       "      <td>48.476051</td>\n",
       "      <td>149.596980</td>\n",
       "      <td>101.858638</td>\n",
       "      <td>147.595457</td>\n",
       "      <td>46.460233</td>\n",
       "      <td>147.636279</td>\n",
       "      <td>2</td>\n",
       "    </tr>\n",
       "    <tr>\n",
       "      <th>0</th>\n",
       "      <td>179.292681</td>\n",
       "      <td>144.212256</td>\n",
       "      <td>111.146213</td>\n",
       "      <td>138.776554</td>\n",
       "      <td>116.696013</td>\n",
       "      <td>136.210231</td>\n",
       "      <td>2</td>\n",
       "    </tr>\n",
       "    <tr>\n",
       "      <th>0</th>\n",
       "      <td>176.793335</td>\n",
       "      <td>142.626921</td>\n",
       "      <td>110.144832</td>\n",
       "      <td>139.187621</td>\n",
       "      <td>178.019533</td>\n",
       "      <td>144.323592</td>\n",
       "      <td>2</td>\n",
       "    </tr>\n",
       "    <tr>\n",
       "      <th>0</th>\n",
       "      <td>164.051601</td>\n",
       "      <td>143.491007</td>\n",
       "      <td>126.547528</td>\n",
       "      <td>145.047019</td>\n",
       "      <td>172.425770</td>\n",
       "      <td>142.626718</td>\n",
       "      <td>2</td>\n",
       "    </tr>\n",
       "    <tr>\n",
       "      <th>0</th>\n",
       "      <td>178.774150</td>\n",
       "      <td>140.677417</td>\n",
       "      <td>104.825558</td>\n",
       "      <td>146.758675</td>\n",
       "      <td>179.593191</td>\n",
       "      <td>145.639837</td>\n",
       "      <td>2</td>\n",
       "    </tr>\n",
       "  </tbody>\n",
       "</table>\n",
       "<p>207 rows × 7 columns</p>\n",
       "</div>"
      ],
      "text/plain": [
       "             0           1           2           3           4           5  y\n",
       "0   170.457588  151.629708  164.946441  152.001762  169.258602  150.901133  0\n",
       "0   169.258602  150.901133  160.183737  151.013425  175.739815  152.158787  0\n",
       "0   173.679040  151.482938  157.068102  149.034440  157.542638  141.082513  0\n",
       "0   145.664882  142.793593  158.368783  152.322292  151.356825  142.188505  0\n",
       "0   142.979015  145.097972  156.726610  151.590351  149.836584  147.106296  0\n",
       "..         ...         ...         ...         ...         ...         ... ..\n",
       "0    48.476051  149.596980  101.858638  147.595457   46.460233  147.636279  2\n",
       "0   179.292681  144.212256  111.146213  138.776554  116.696013  136.210231  2\n",
       "0   176.793335  142.626921  110.144832  139.187621  178.019533  144.323592  2\n",
       "0   164.051601  143.491007  126.547528  145.047019  172.425770  142.626718  2\n",
       "0   178.774150  140.677417  104.825558  146.758675  179.593191  145.639837  2\n",
       "\n",
       "[207 rows x 7 columns]"
      ]
     },
     "execution_count": 21,
     "metadata": {},
     "output_type": "execute_result"
    }
   ],
   "source": [
    "# 라벨값 추가 -> 0 : 정상 , 1 : 목 , 2 : 다리\n",
    "df['y'] = 2\n",
    "# 임시 데이터 프레임을 차례차례 넣어주기\n",
    "Datas = Datas.append(df)\n",
    "Datas"
   ]
  },
  {
   "cell_type": "code",
   "execution_count": 22,
   "metadata": {},
   "outputs": [],
   "source": [
    "# 3동작 했으면 csv 파일로 저장하기\n",
    "Datas.to_csv(\"Datas.csv\",index=None)"
   ]
  }
 ],
 "metadata": {
  "kernelspec": {
   "display_name": "Python 3.9.15 ('project')",
   "language": "python",
   "name": "python3"
  },
  "language_info": {
   "codemirror_mode": {
    "name": "ipython",
    "version": 3
   },
   "file_extension": ".py",
   "mimetype": "text/x-python",
   "name": "python",
   "nbconvert_exporter": "python",
   "pygments_lexer": "ipython3",
   "version": "3.9.15"
  },
  "orig_nbformat": 4,
  "vscode": {
   "interpreter": {
    "hash": "25f0ce4f8edf86d47345577984872101956248f255ca518b20876280a4f11d3d"
   }
  }
 },
 "nbformat": 4,
 "nbformat_minor": 2
}
