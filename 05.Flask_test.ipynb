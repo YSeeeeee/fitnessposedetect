{
 "cells": [
  {
   "cell_type": "code",
   "execution_count": 2,
   "metadata": {},
   "outputs": [],
   "source": [
    "from flask import Flask, request, redirect, jsonify\n",
    "from flask_cors import CORS\n",
    "import json\n",
    "import cv2\n",
    "import mediapipe as mp\n",
    "import pickle\n",
    "import math\n",
    "import os\n",
    "import numpy as np\n",
    "os.environ[\"CUDA_VISIBLE_DEVICES\"]=\"0\"\n",
    "import pandas as pd\n",
    "import matplotlib.pyplot as plt"
   ]
  },
  {
   "cell_type": "code",
   "execution_count": 4,
   "metadata": {},
   "outputs": [],
   "source": [
    "# media pipe pose 전역변수로 설정\n",
    "mp_pose = mp.solutions.pose\n",
    "pose = mp_pose.Pose(static_image_mode=True,min_detection_confidence=0.3, model_complexity=0)\n",
    "mp_drawing = mp.solutions.drawing_utils"
   ]
  },
  {
   "cell_type": "code",
   "execution_count": 5,
   "metadata": {},
   "outputs": [],
   "source": [
    "# 포즈 감지 함수\n",
    "def detectPose(image,pose,display=True):\n",
    "    # input 이미지 복사\n",
    "    output_image = image.copy()\n",
    "    # RGB로 변환\n",
    "    image_BGR = cv2.cvtColor(image,cv2.COLOR_BGR2RGB)\n",
    "    # 렌드마크 찍기\n",
    "    image_BGR.flags.writeable = False\n",
    "    results = pose.process(image_BGR)\n",
    "    image_BGR.flags.writeable = True\n",
    "    \n",
    "    # 사진 사이즈 구하기\n",
    "    height, width, _ = image.shape\n",
    "    # 렌드마크 값 리스트 만들기\n",
    "    landmarks = []\n",
    "    visible = []\n",
    "    if results.pose_landmarks:\n",
    "        # 렌드마크 그리기\n",
    "        mp_drawing.draw_landmarks(image=output_image, landmark_list=results.pose_landmarks, connections=mp_pose.POSE_CONNECTIONS)\n",
    "        #렌드마크 정규값 landmarks 리스트에 넣기\n",
    "        for landmark in results.pose_landmarks.landmark:\n",
    "            landmarks.append((int(landmark.x*width), int(landmark.y*height), (landmark.z*width)))\n",
    "            # visible 값 따로 리스트에 넣기 \n",
    "            visible.append(landmark.visibility)\n",
    "    # 사진 결과 보기\n",
    "    if display:\n",
    "        plt.figure(figsize=[22,22])\n",
    "        plt.subplot(121);plt.imshow(image[:,:,::-1]);plt.title(\"Original Image\");plt.axis('off');\n",
    "        plt.subplot(122);plt.imshow(output_image[:,:,::-1]);plt.title(\"Output Image\");plt.axis('off');\n",
    "        # 3차원으로도 봐보기\n",
    "        mp_drawing.plot_landmarks(results.pose_world_landmarks, mp_pose.POSE_CONNECTIONS)\n",
    "    else:\n",
    "        \n",
    "        return output_image, landmarks , visible"
   ]
  },
  {
   "cell_type": "code",
   "execution_count": 6,
   "metadata": {},
   "outputs": [],
   "source": [
    "# 각도 구하는 함수\n",
    "def calculateAngle(landmark1, landmark2, landmark3):\n",
    "    x1,y1,_ = landmark1 # z 좌표는 사용 x\n",
    "    x2,y2,_ = landmark2\n",
    "    x3,y3,_ = landmark3\n",
    "    # 3점의 각도 -> 선 2개 -> 각도\n",
    "    angle = math.degrees(math.atan2(y3-y2, x3-x2) - math.atan2(y1-y2,x1-x2))\n",
    "\n",
    "    angle = np.abs(angle)\n",
    "    # 음수의 각도가 나오면 양수로 바꾸기\n",
    "    if angle >180.0:\n",
    "        angle = 360 - angle\n",
    "        \n",
    "    return angle"
   ]
  },
  {
   "cell_type": "code",
   "execution_count": 7,
   "metadata": {},
   "outputs": [],
   "source": [
    "# 중앙 각도 구하는 함수\n",
    "def center_Landmark(landmarks1,landmarks2):\n",
    "    x1,y1,_ = landmarks1\n",
    "    x2,y2,_ = landmarks2\n",
    "    x_cen = (x1+x2)/2\n",
    "    y_cen = (y1+y2)/2\n",
    "    return x_cen,y_cen,_"
   ]
  },
  {
   "cell_type": "code",
   "execution_count": 8,
   "metadata": {},
   "outputs": [
    {
     "name": "stdout",
     "output_type": "stream",
     "text": [
      " * Serving Flask app '__main__' (lazy loading)\n",
      " * Environment: production\n",
      "\u001b[31m   WARNING: This is a development server. Do not use it in a production deployment.\u001b[0m\n",
      "\u001b[2m   Use a production WSGI server instead.\u001b[0m\n",
      " * Debug mode: off\n"
     ]
    },
    {
     "name": "stderr",
     "output_type": "stream",
     "text": [
      " * Running on all addresses.\n",
      "   WARNING: This is a development server. Do not use it in a production deployment.\n",
      " * Running on http://210.223.239.172:5000/ (Press CTRL+C to quit)\n",
      "C:\\Users\\smhrd\\AppData\\Local\\Temp\\ipykernel_6176\\3034425392.py:75: FutureWarning: The frame.append method is deprecated and will be removed from pandas in a future version. Use pandas.concat instead.\n",
      "  df = df.append([globals()[f'list']])\n"
     ]
    },
    {
     "name": "stdout",
     "output_type": "stream",
     "text": [
      "(173.2679012931122, 145.58930330886233, -18.0)\n"
     ]
    },
    {
     "name": "stderr",
     "output_type": "stream",
     "text": [
      "C:\\Users\\smhrd\\AppData\\Roaming\\Python\\Python39\\site-packages\\sklearn\\base.py:450: UserWarning: X does not have valid feature names, but KNeighborsClassifier was fitted with feature names\n",
      "  warnings.warn(\n",
      "C:\\Users\\smhrd\\AppData\\Local\\Temp\\ipykernel_6176\\3034425392.py:75: FutureWarning: The frame.append method is deprecated and will be removed from pandas in a future version. Use pandas.concat instead.\n",
      "  df = df.append([globals()[f'list']])\n",
      "C:\\Users\\smhrd\\AppData\\Roaming\\Python\\Python39\\site-packages\\sklearn\\base.py:450: UserWarning: X does not have valid feature names, but KNeighborsClassifier was fitted with feature names\n",
      "  warnings.warn(\n"
     ]
    },
    {
     "name": "stdout",
     "output_type": "stream",
     "text": [
      "[[0. 0. 1. 0.]]\n",
      "(173.50752747109385, 145.53617337282523, -17.5)\n",
      "[[0. 0. 1. 0.]]\n"
     ]
    },
    {
     "name": "stderr",
     "output_type": "stream",
     "text": [
      "C:\\Users\\smhrd\\AppData\\Local\\Temp\\ipykernel_6176\\3034425392.py:75: FutureWarning: The frame.append method is deprecated and will be removed from pandas in a future version. Use pandas.concat instead.\n",
      "  df = df.append([globals()[f'list']])\n",
      "C:\\Users\\smhrd\\AppData\\Roaming\\Python\\Python39\\site-packages\\sklearn\\base.py:450: UserWarning: X does not have valid feature names, but KNeighborsClassifier was fitted with feature names\n",
      "  warnings.warn(\n",
      "C:\\Users\\smhrd\\AppData\\Local\\Temp\\ipykernel_6176\\3034425392.py:75: FutureWarning: The frame.append method is deprecated and will be removed from pandas in a future version. Use pandas.concat instead.\n",
      "  df = df.append([globals()[f'list']])\n",
      "C:\\Users\\smhrd\\AppData\\Roaming\\Python\\Python39\\site-packages\\sklearn\\base.py:450: UserWarning: X does not have valid feature names, but KNeighborsClassifier was fitted with feature names\n",
      "  warnings.warn(\n",
      "C:\\Users\\smhrd\\AppData\\Local\\Temp\\ipykernel_6176\\3034425392.py:75: FutureWarning: The frame.append method is deprecated and will be removed from pandas in a future version. Use pandas.concat instead.\n",
      "  df = df.append([globals()[f'list']])\n",
      "C:\\Users\\smhrd\\AppData\\Roaming\\Python\\Python39\\site-packages\\sklearn\\base.py:450: UserWarning: X does not have valid feature names, but KNeighborsClassifier was fitted with feature names\n",
      "  warnings.warn(\n"
     ]
    },
    {
     "name": "stdout",
     "output_type": "stream",
     "text": [
      "(172.90827095571214, 145.11134103782564, -18.0)\n",
      "[[0. 0. 1. 0.]]\n",
      "(174.00002612384972, 145.10461777260247, -18.5)\n",
      "[[0. 0. 1. 0.]]\n",
      "(173.71822721407045, 144.40659458396422, -19.5)\n",
      "[[0. 0. 1. 0.]]\n"
     ]
    },
    {
     "name": "stderr",
     "output_type": "stream",
     "text": [
      "C:\\Users\\smhrd\\AppData\\Local\\Temp\\ipykernel_6176\\3034425392.py:75: FutureWarning: The frame.append method is deprecated and will be removed from pandas in a future version. Use pandas.concat instead.\n",
      "  df = df.append([globals()[f'list']])\n",
      "C:\\Users\\smhrd\\AppData\\Roaming\\Python\\Python39\\site-packages\\sklearn\\base.py:450: UserWarning: X does not have valid feature names, but KNeighborsClassifier was fitted with feature names\n",
      "  warnings.warn(\n",
      "C:\\Users\\smhrd\\AppData\\Local\\Temp\\ipykernel_6176\\3034425392.py:75: FutureWarning: The frame.append method is deprecated and will be removed from pandas in a future version. Use pandas.concat instead.\n",
      "  df = df.append([globals()[f'list']])\n",
      "C:\\Users\\smhrd\\AppData\\Roaming\\Python\\Python39\\site-packages\\sklearn\\base.py:450: UserWarning: X does not have valid feature names, but KNeighborsClassifier was fitted with feature names\n",
      "  warnings.warn(\n",
      "C:\\Users\\smhrd\\AppData\\Local\\Temp\\ipykernel_6176\\3034425392.py:75: FutureWarning: The frame.append method is deprecated and will be removed from pandas in a future version. Use pandas.concat instead.\n",
      "  df = df.append([globals()[f'list']])\n",
      "C:\\Users\\smhrd\\AppData\\Roaming\\Python\\Python39\\site-packages\\sklearn\\base.py:450: UserWarning: X does not have valid feature names, but KNeighborsClassifier was fitted with feature names\n",
      "  warnings.warn(\n",
      "C:\\Users\\smhrd\\AppData\\Local\\Temp\\ipykernel_6176\\3034425392.py:75: FutureWarning: The frame.append method is deprecated and will be removed from pandas in a future version. Use pandas.concat instead.\n",
      "  df = df.append([globals()[f'list']])\n"
     ]
    },
    {
     "name": "stdout",
     "output_type": "stream",
     "text": [
      "(175.21380091693024, 144.81099792951022, -19.0)\n",
      "[[0. 0. 1. 0.]]\n",
      "(174.91015096876058, 144.572974340802, -19.0)\n",
      "[[0. 0. 1. 0.]]\n",
      "(174.85094414493915, 145.07452591244038, -18.0)\n",
      "[[0. 0. 1. 0.]]\n",
      "(174.43681814990833, 145.32742508638677, -19.0)\n"
     ]
    },
    {
     "name": "stderr",
     "output_type": "stream",
     "text": [
      "C:\\Users\\smhrd\\AppData\\Roaming\\Python\\Python39\\site-packages\\sklearn\\base.py:450: UserWarning: X does not have valid feature names, but KNeighborsClassifier was fitted with feature names\n",
      "  warnings.warn(\n",
      "C:\\Users\\smhrd\\AppData\\Local\\Temp\\ipykernel_6176\\3034425392.py:75: FutureWarning: The frame.append method is deprecated and will be removed from pandas in a future version. Use pandas.concat instead.\n",
      "  df = df.append([globals()[f'list']])\n",
      "C:\\Users\\smhrd\\AppData\\Roaming\\Python\\Python39\\site-packages\\sklearn\\base.py:450: UserWarning: X does not have valid feature names, but KNeighborsClassifier was fitted with feature names\n",
      "  warnings.warn(\n",
      "C:\\Users\\smhrd\\AppData\\Local\\Temp\\ipykernel_6176\\3034425392.py:75: FutureWarning: The frame.append method is deprecated and will be removed from pandas in a future version. Use pandas.concat instead.\n",
      "  df = df.append([globals()[f'list']])\n",
      "C:\\Users\\smhrd\\AppData\\Roaming\\Python\\Python39\\site-packages\\sklearn\\base.py:450: UserWarning: X does not have valid feature names, but KNeighborsClassifier was fitted with feature names\n",
      "  warnings.warn(\n",
      "C:\\Users\\smhrd\\AppData\\Local\\Temp\\ipykernel_6176\\3034425392.py:75: FutureWarning: The frame.append method is deprecated and will be removed from pandas in a future version. Use pandas.concat instead.\n",
      "  df = df.append([globals()[f'list']])\n",
      "C:\\Users\\smhrd\\AppData\\Roaming\\Python\\Python39\\site-packages\\sklearn\\base.py:450: UserWarning: X does not have valid feature names, but KNeighborsClassifier was fitted with feature names\n",
      "  warnings.warn(\n"
     ]
    },
    {
     "name": "stdout",
     "output_type": "stream",
     "text": [
      "[[0. 0. 1. 0.]]\n",
      "(174.70774309105502, 144.87645637140494, -19.0)\n",
      "[[0. 0. 1. 0.]]\n",
      "(173.96860172417934, 145.3625778383138, -18.5)\n",
      "[[0. 0. 1. 0.]]\n",
      "(174.0121536290461, 145.55079450939957, -17.5)\n",
      "[[0. 0. 1. 0.]]\n"
     ]
    },
    {
     "name": "stderr",
     "output_type": "stream",
     "text": [
      "C:\\Users\\smhrd\\AppData\\Local\\Temp\\ipykernel_6176\\3034425392.py:75: FutureWarning: The frame.append method is deprecated and will be removed from pandas in a future version. Use pandas.concat instead.\n",
      "  df = df.append([globals()[f'list']])\n",
      "C:\\Users\\smhrd\\AppData\\Roaming\\Python\\Python39\\site-packages\\sklearn\\base.py:450: UserWarning: X does not have valid feature names, but KNeighborsClassifier was fitted with feature names\n",
      "  warnings.warn(\n",
      "C:\\Users\\smhrd\\AppData\\Local\\Temp\\ipykernel_6176\\3034425392.py:75: FutureWarning: The frame.append method is deprecated and will be removed from pandas in a future version. Use pandas.concat instead.\n",
      "  df = df.append([globals()[f'list']])\n",
      "C:\\Users\\smhrd\\AppData\\Roaming\\Python\\Python39\\site-packages\\sklearn\\base.py:450: UserWarning: X does not have valid feature names, but KNeighborsClassifier was fitted with feature names\n",
      "  warnings.warn(\n",
      "C:\\Users\\smhrd\\AppData\\Local\\Temp\\ipykernel_6176\\3034425392.py:75: FutureWarning: The frame.append method is deprecated and will be removed from pandas in a future version. Use pandas.concat instead.\n",
      "  df = df.append([globals()[f'list']])\n",
      "C:\\Users\\smhrd\\AppData\\Roaming\\Python\\Python39\\site-packages\\sklearn\\base.py:450: UserWarning: X does not have valid feature names, but KNeighborsClassifier was fitted with feature names\n",
      "  warnings.warn(\n",
      "C:\\Users\\smhrd\\AppData\\Local\\Temp\\ipykernel_6176\\3034425392.py:75: FutureWarning: The frame.append method is deprecated and will be removed from pandas in a future version. Use pandas.concat instead.\n",
      "  df = df.append([globals()[f'list']])\n",
      "C:\\Users\\smhrd\\AppData\\Roaming\\Python\\Python39\\site-packages\\sklearn\\base.py:450: UserWarning: X does not have valid feature names, but KNeighborsClassifier was fitted with feature names\n",
      "  warnings.warn(\n"
     ]
    },
    {
     "name": "stdout",
     "output_type": "stream",
     "text": [
      "(173.4941827292711, 145.45682430732992, -18.0)\n",
      "[[0. 0. 1. 0.]]\n",
      "(173.9861366502758, 145.4704499477994, -19.0)\n",
      "[[0. 0. 1. 0.]]\n",
      "(173.94978329254465, 145.417397557968, -19.5)\n",
      "[[0. 0. 1. 0.]]\n",
      "(174.2022482518097, 145.4850793182945, -18.5)\n",
      "[[0. 0. 1. 0.]]\n"
     ]
    },
    {
     "name": "stderr",
     "output_type": "stream",
     "text": [
      "C:\\Users\\smhrd\\AppData\\Local\\Temp\\ipykernel_6176\\3034425392.py:75: FutureWarning: The frame.append method is deprecated and will be removed from pandas in a future version. Use pandas.concat instead.\n",
      "  df = df.append([globals()[f'list']])\n",
      "C:\\Users\\smhrd\\AppData\\Roaming\\Python\\Python39\\site-packages\\sklearn\\base.py:450: UserWarning: X does not have valid feature names, but KNeighborsClassifier was fitted with feature names\n",
      "  warnings.warn(\n",
      "C:\\Users\\smhrd\\AppData\\Local\\Temp\\ipykernel_6176\\3034425392.py:75: FutureWarning: The frame.append method is deprecated and will be removed from pandas in a future version. Use pandas.concat instead.\n",
      "  df = df.append([globals()[f'list']])\n",
      "C:\\Users\\smhrd\\AppData\\Roaming\\Python\\Python39\\site-packages\\sklearn\\base.py:450: UserWarning: X does not have valid feature names, but KNeighborsClassifier was fitted with feature names\n",
      "  warnings.warn(\n",
      "C:\\Users\\smhrd\\AppData\\Local\\Temp\\ipykernel_6176\\3034425392.py:75: FutureWarning: The frame.append method is deprecated and will be removed from pandas in a future version. Use pandas.concat instead.\n",
      "  df = df.append([globals()[f'list']])\n",
      "C:\\Users\\smhrd\\AppData\\Roaming\\Python\\Python39\\site-packages\\sklearn\\base.py:450: UserWarning: X does not have valid feature names, but KNeighborsClassifier was fitted with feature names\n",
      "  warnings.warn(\n"
     ]
    },
    {
     "name": "stdout",
     "output_type": "stream",
     "text": [
      "(174.18882667816644, 146.0208386047527, -18.5)\n",
      "[[0. 0. 1. 0.]]\n",
      "(173.9422280676738, 146.22467790776255, -18.0)\n",
      "[[0. 0. 1. 0.]]\n",
      "(174.26388826986107, 146.49095217374062, -17.0)\n",
      "[[0. 0. 1. 0.]]\n"
     ]
    },
    {
     "name": "stderr",
     "output_type": "stream",
     "text": [
      "C:\\Users\\smhrd\\AppData\\Local\\Temp\\ipykernel_6176\\3034425392.py:75: FutureWarning: The frame.append method is deprecated and will be removed from pandas in a future version. Use pandas.concat instead.\n",
      "  df = df.append([globals()[f'list']])\n",
      "C:\\Users\\smhrd\\AppData\\Roaming\\Python\\Python39\\site-packages\\sklearn\\base.py:450: UserWarning: X does not have valid feature names, but KNeighborsClassifier was fitted with feature names\n",
      "  warnings.warn(\n",
      "C:\\Users\\smhrd\\AppData\\Local\\Temp\\ipykernel_6176\\3034425392.py:75: FutureWarning: The frame.append method is deprecated and will be removed from pandas in a future version. Use pandas.concat instead.\n",
      "  df = df.append([globals()[f'list']])\n",
      "C:\\Users\\smhrd\\AppData\\Roaming\\Python\\Python39\\site-packages\\sklearn\\base.py:450: UserWarning: X does not have valid feature names, but KNeighborsClassifier was fitted with feature names\n",
      "  warnings.warn(\n",
      "C:\\Users\\smhrd\\AppData\\Local\\Temp\\ipykernel_6176\\3034425392.py:75: FutureWarning: The frame.append method is deprecated and will be removed from pandas in a future version. Use pandas.concat instead.\n",
      "  df = df.append([globals()[f'list']])\n",
      "C:\\Users\\smhrd\\AppData\\Roaming\\Python\\Python39\\site-packages\\sklearn\\base.py:450: UserWarning: X does not have valid feature names, but KNeighborsClassifier was fitted with feature names\n",
      "  warnings.warn(\n"
     ]
    },
    {
     "name": "stdout",
     "output_type": "stream",
     "text": [
      "(173.48415634394811, 146.08069731088514, -17.0)\n",
      "[[0. 0. 1. 0.]]\n",
      "(174.22674637190664, 146.21046248773044, -17.0)\n",
      "[[0. 0. 1. 0.]]\n",
      "(173.4892390816852, 145.86152176055919, -18.0)\n",
      "[[0. 0. 1. 0.]]\n"
     ]
    },
    {
     "name": "stderr",
     "output_type": "stream",
     "text": [
      "C:\\Users\\smhrd\\AppData\\Local\\Temp\\ipykernel_6176\\3034425392.py:75: FutureWarning: The frame.append method is deprecated and will be removed from pandas in a future version. Use pandas.concat instead.\n",
      "  df = df.append([globals()[f'list']])\n",
      "C:\\Users\\smhrd\\AppData\\Roaming\\Python\\Python39\\site-packages\\sklearn\\base.py:450: UserWarning: X does not have valid feature names, but KNeighborsClassifier was fitted with feature names\n",
      "  warnings.warn(\n",
      "C:\\Users\\smhrd\\AppData\\Local\\Temp\\ipykernel_6176\\3034425392.py:75: FutureWarning: The frame.append method is deprecated and will be removed from pandas in a future version. Use pandas.concat instead.\n",
      "  df = df.append([globals()[f'list']])\n",
      "C:\\Users\\smhrd\\AppData\\Roaming\\Python\\Python39\\site-packages\\sklearn\\base.py:450: UserWarning: X does not have valid feature names, but KNeighborsClassifier was fitted with feature names\n",
      "  warnings.warn(\n",
      "C:\\Users\\smhrd\\AppData\\Local\\Temp\\ipykernel_6176\\3034425392.py:75: FutureWarning: The frame.append method is deprecated and will be removed from pandas in a future version. Use pandas.concat instead.\n",
      "  df = df.append([globals()[f'list']])\n",
      "C:\\Users\\smhrd\\AppData\\Roaming\\Python\\Python39\\site-packages\\sklearn\\base.py:450: UserWarning: X does not have valid feature names, but KNeighborsClassifier was fitted with feature names\n",
      "  warnings.warn(\n",
      "C:\\Users\\smhrd\\AppData\\Local\\Temp\\ipykernel_6176\\3034425392.py:75: FutureWarning: The frame.append method is deprecated and will be removed from pandas in a future version. Use pandas.concat instead.\n",
      "  df = df.append([globals()[f'list']])\n",
      "C:\\Users\\smhrd\\AppData\\Roaming\\Python\\Python39\\site-packages\\sklearn\\base.py:450: UserWarning: X does not have valid feature names, but KNeighborsClassifier was fitted with feature names\n",
      "  warnings.warn(\n"
     ]
    },
    {
     "name": "stdout",
     "output_type": "stream",
     "text": [
      "(173.46700598590638, 146.22653109123743, -17.5)\n",
      "[[0. 0. 1. 0.]]\n",
      "(173.22012695799825, 146.22653109123743, -17.5)\n",
      "[[0. 0. 1. 0.]]\n",
      "(174.23759662479742, 146.09372301155787, -16.5)\n",
      "[[0. 0. 1. 0.]]\n",
      "(173.745484466607, 145.99999908324205, -17.0)\n",
      "[[0. 0. 1. 0.]]\n"
     ]
    },
    {
     "name": "stderr",
     "output_type": "stream",
     "text": [
      "C:\\Users\\smhrd\\AppData\\Local\\Temp\\ipykernel_6176\\3034425392.py:75: FutureWarning: The frame.append method is deprecated and will be removed from pandas in a future version. Use pandas.concat instead.\n",
      "  df = df.append([globals()[f'list']])\n",
      "C:\\Users\\smhrd\\AppData\\Roaming\\Python\\Python39\\site-packages\\sklearn\\base.py:450: UserWarning: X does not have valid feature names, but KNeighborsClassifier was fitted with feature names\n",
      "  warnings.warn(\n",
      "C:\\Users\\smhrd\\AppData\\Local\\Temp\\ipykernel_6176\\3034425392.py:75: FutureWarning: The frame.append method is deprecated and will be removed from pandas in a future version. Use pandas.concat instead.\n",
      "  df = df.append([globals()[f'list']])\n",
      "C:\\Users\\smhrd\\AppData\\Roaming\\Python\\Python39\\site-packages\\sklearn\\base.py:450: UserWarning: X does not have valid feature names, but KNeighborsClassifier was fitted with feature names\n",
      "  warnings.warn(\n",
      "C:\\Users\\smhrd\\AppData\\Local\\Temp\\ipykernel_6176\\3034425392.py:75: FutureWarning: The frame.append method is deprecated and will be removed from pandas in a future version. Use pandas.concat instead.\n",
      "  df = df.append([globals()[f'list']])\n",
      "C:\\Users\\smhrd\\AppData\\Roaming\\Python\\Python39\\site-packages\\sklearn\\base.py:450: UserWarning: X does not have valid feature names, but KNeighborsClassifier was fitted with feature names\n",
      "  warnings.warn(\n",
      "C:\\Users\\smhrd\\AppData\\Local\\Temp\\ipykernel_6176\\3034425392.py:75: FutureWarning: The frame.append method is deprecated and will be removed from pandas in a future version. Use pandas.concat instead.\n",
      "  df = df.append([globals()[f'list']])\n",
      "C:\\Users\\smhrd\\AppData\\Roaming\\Python\\Python39\\site-packages\\sklearn\\base.py:450: UserWarning: X does not have valid feature names, but KNeighborsClassifier was fitted with feature names\n",
      "  warnings.warn(\n"
     ]
    },
    {
     "name": "stdout",
     "output_type": "stream",
     "text": [
      "(173.55924100136238, 145.94525726355582, -17.0)\n",
      "[[0. 0. 1. 0.]]\n",
      "(173.3520441480694, 145.37320161182882, -17.0)\n",
      "[[0. 0. 1. 0.]]\n",
      "(174.86485860680105, 145.07295641459754, -18.5)\n",
      "[[0. 0. 1. 0.]]\n",
      "(174.85346038760463, 144.5727589407709, -20.5)\n",
      "[[0. 0. 1. 0.]]\n"
     ]
    },
    {
     "name": "stderr",
     "output_type": "stream",
     "text": [
      "C:\\Users\\smhrd\\AppData\\Local\\Temp\\ipykernel_6176\\3034425392.py:75: FutureWarning: The frame.append method is deprecated and will be removed from pandas in a future version. Use pandas.concat instead.\n",
      "  df = df.append([globals()[f'list']])\n",
      "C:\\Users\\smhrd\\AppData\\Roaming\\Python\\Python39\\site-packages\\sklearn\\base.py:450: UserWarning: X does not have valid feature names, but KNeighborsClassifier was fitted with feature names\n",
      "  warnings.warn(\n",
      "C:\\Users\\smhrd\\AppData\\Local\\Temp\\ipykernel_6176\\3034425392.py:75: FutureWarning: The frame.append method is deprecated and will be removed from pandas in a future version. Use pandas.concat instead.\n",
      "  df = df.append([globals()[f'list']])\n",
      "C:\\Users\\smhrd\\AppData\\Roaming\\Python\\Python39\\site-packages\\sklearn\\base.py:450: UserWarning: X does not have valid feature names, but KNeighborsClassifier was fitted with feature names\n",
      "  warnings.warn(\n",
      "C:\\Users\\smhrd\\AppData\\Local\\Temp\\ipykernel_6176\\3034425392.py:75: FutureWarning: The frame.append method is deprecated and will be removed from pandas in a future version. Use pandas.concat instead.\n",
      "  df = df.append([globals()[f'list']])\n",
      "C:\\Users\\smhrd\\AppData\\Roaming\\Python\\Python39\\site-packages\\sklearn\\base.py:450: UserWarning: X does not have valid feature names, but KNeighborsClassifier was fitted with feature names\n",
      "  warnings.warn(\n",
      "C:\\Users\\smhrd\\AppData\\Local\\Temp\\ipykernel_6176\\3034425392.py:75: FutureWarning: The frame.append method is deprecated and will be removed from pandas in a future version. Use pandas.concat instead.\n",
      "  df = df.append([globals()[f'list']])\n",
      "C:\\Users\\smhrd\\AppData\\Roaming\\Python\\Python39\\site-packages\\sklearn\\base.py:450: UserWarning: X does not have valid feature names, but KNeighborsClassifier was fitted with feature names\n",
      "  warnings.warn(\n"
     ]
    },
    {
     "name": "stdout",
     "output_type": "stream",
     "text": [
      "(175.6709118506088, 144.92795418513575, -18.5)\n",
      "[[0. 0. 1. 0.]]\n",
      "(174.45327411237076, 145.25166551032845, -17.0)\n",
      "[[0. 0. 1. 0.]]\n",
      "(174.88760441619883, 144.92795418513575, -18.5)\n",
      "[[0. 0. 1. 0.]]\n",
      "(174.95328637304382, 145.18772967700355, -17.5)\n",
      "[[0. 0. 1. 0.]]\n"
     ]
    },
    {
     "name": "stderr",
     "output_type": "stream",
     "text": [
      "C:\\Users\\smhrd\\AppData\\Local\\Temp\\ipykernel_6176\\3034425392.py:75: FutureWarning: The frame.append method is deprecated and will be removed from pandas in a future version. Use pandas.concat instead.\n",
      "  df = df.append([globals()[f'list']])\n",
      "C:\\Users\\smhrd\\AppData\\Roaming\\Python\\Python39\\site-packages\\sklearn\\base.py:450: UserWarning: X does not have valid feature names, but KNeighborsClassifier was fitted with feature names\n",
      "  warnings.warn(\n",
      "C:\\Users\\smhrd\\AppData\\Local\\Temp\\ipykernel_6176\\3034425392.py:75: FutureWarning: The frame.append method is deprecated and will be removed from pandas in a future version. Use pandas.concat instead.\n",
      "  df = df.append([globals()[f'list']])\n",
      "C:\\Users\\smhrd\\AppData\\Roaming\\Python\\Python39\\site-packages\\sklearn\\base.py:450: UserWarning: X does not have valid feature names, but KNeighborsClassifier was fitted with feature names\n",
      "  warnings.warn(\n",
      "C:\\Users\\smhrd\\AppData\\Local\\Temp\\ipykernel_6176\\3034425392.py:75: FutureWarning: The frame.append method is deprecated and will be removed from pandas in a future version. Use pandas.concat instead.\n",
      "  df = df.append([globals()[f'list']])\n",
      "C:\\Users\\smhrd\\AppData\\Roaming\\Python\\Python39\\site-packages\\sklearn\\base.py:450: UserWarning: X does not have valid feature names, but KNeighborsClassifier was fitted with feature names\n",
      "  warnings.warn(\n",
      "C:\\Users\\smhrd\\AppData\\Local\\Temp\\ipykernel_6176\\3034425392.py:75: FutureWarning: The frame.append method is deprecated and will be removed from pandas in a future version. Use pandas.concat instead.\n",
      "  df = df.append([globals()[f'list']])\n",
      "C:\\Users\\smhrd\\AppData\\Roaming\\Python\\Python39\\site-packages\\sklearn\\base.py:450: UserWarning: X does not have valid feature names, but KNeighborsClassifier was fitted with feature names\n",
      "  warnings.warn(\n"
     ]
    },
    {
     "name": "stdout",
     "output_type": "stream",
     "text": [
      "(175.60464408148604, 145.2191832032521, -18.5)\n",
      "[[0. 0. 1. 0.]]\n",
      "(174.93815662576694, 145.48062403921668, -17.5)\n",
      "[[0. 0. 1. 0.]]\n",
      "(175.16768677043686, 145.5652800365794, -17.5)\n",
      "[[0. 0. 1. 0.]]\n",
      "(174.8999689071191, 145.68951113685745, -17.0)\n",
      "[[0. 0. 1. 0.]]\n"
     ]
    },
    {
     "name": "stderr",
     "output_type": "stream",
     "text": [
      "C:\\Users\\smhrd\\AppData\\Local\\Temp\\ipykernel_6176\\3034425392.py:75: FutureWarning: The frame.append method is deprecated and will be removed from pandas in a future version. Use pandas.concat instead.\n",
      "  df = df.append([globals()[f'list']])\n",
      "C:\\Users\\smhrd\\AppData\\Roaming\\Python\\Python39\\site-packages\\sklearn\\base.py:450: UserWarning: X does not have valid feature names, but KNeighborsClassifier was fitted with feature names\n",
      "  warnings.warn(\n",
      "C:\\Users\\smhrd\\AppData\\Local\\Temp\\ipykernel_6176\\3034425392.py:75: FutureWarning: The frame.append method is deprecated and will be removed from pandas in a future version. Use pandas.concat instead.\n",
      "  df = df.append([globals()[f'list']])\n",
      "C:\\Users\\smhrd\\AppData\\Roaming\\Python\\Python39\\site-packages\\sklearn\\base.py:450: UserWarning: X does not have valid feature names, but KNeighborsClassifier was fitted with feature names\n",
      "  warnings.warn(\n",
      "C:\\Users\\smhrd\\AppData\\Local\\Temp\\ipykernel_6176\\3034425392.py:75: FutureWarning: The frame.append method is deprecated and will be removed from pandas in a future version. Use pandas.concat instead.\n",
      "  df = df.append([globals()[f'list']])\n",
      "C:\\Users\\smhrd\\AppData\\Roaming\\Python\\Python39\\site-packages\\sklearn\\base.py:450: UserWarning: X does not have valid feature names, but KNeighborsClassifier was fitted with feature names\n",
      "  warnings.warn(\n",
      "C:\\Users\\smhrd\\AppData\\Local\\Temp\\ipykernel_6176\\3034425392.py:75: FutureWarning: The frame.append method is deprecated and will be removed from pandas in a future version. Use pandas.concat instead.\n",
      "  df = df.append([globals()[f'list']])\n",
      "C:\\Users\\smhrd\\AppData\\Roaming\\Python\\Python39\\site-packages\\sklearn\\base.py:450: UserWarning: X does not have valid feature names, but KNeighborsClassifier was fitted with feature names\n",
      "  warnings.warn(\n"
     ]
    },
    {
     "name": "stdout",
     "output_type": "stream",
     "text": [
      "(174.6209473806207, 145.6585196280125, -17.0)\n",
      "[[0. 0. 1. 0.]]\n",
      "(174.6458374268445, 145.57527425792068, -17.0)\n",
      "[[0. 0. 1. 0.]]\n",
      "(174.638851232091, 145.669197382171, -18.0)\n",
      "[[0. 0. 1. 0.]]\n",
      "(174.7388556872508, 146.03774075619853, -18.0)\n",
      "[[0. 0. 1. 0.]]\n"
     ]
    },
    {
     "name": "stderr",
     "output_type": "stream",
     "text": [
      "C:\\Users\\smhrd\\AppData\\Local\\Temp\\ipykernel_6176\\3034425392.py:75: FutureWarning: The frame.append method is deprecated and will be removed from pandas in a future version. Use pandas.concat instead.\n",
      "  df = df.append([globals()[f'list']])\n",
      "C:\\Users\\smhrd\\AppData\\Roaming\\Python\\Python39\\site-packages\\sklearn\\base.py:450: UserWarning: X does not have valid feature names, but KNeighborsClassifier was fitted with feature names\n",
      "  warnings.warn(\n",
      "C:\\Users\\smhrd\\AppData\\Local\\Temp\\ipykernel_6176\\3034425392.py:75: FutureWarning: The frame.append method is deprecated and will be removed from pandas in a future version. Use pandas.concat instead.\n",
      "  df = df.append([globals()[f'list']])\n",
      "C:\\Users\\smhrd\\AppData\\Roaming\\Python\\Python39\\site-packages\\sklearn\\base.py:450: UserWarning: X does not have valid feature names, but KNeighborsClassifier was fitted with feature names\n",
      "  warnings.warn(\n",
      "C:\\Users\\smhrd\\AppData\\Local\\Temp\\ipykernel_6176\\3034425392.py:75: FutureWarning: The frame.append method is deprecated and will be removed from pandas in a future version. Use pandas.concat instead.\n",
      "  df = df.append([globals()[f'list']])\n",
      "C:\\Users\\smhrd\\AppData\\Roaming\\Python\\Python39\\site-packages\\sklearn\\base.py:450: UserWarning: X does not have valid feature names, but KNeighborsClassifier was fitted with feature names\n",
      "  warnings.warn(\n",
      "C:\\Users\\smhrd\\AppData\\Local\\Temp\\ipykernel_6176\\3034425392.py:75: FutureWarning: The frame.append method is deprecated and will be removed from pandas in a future version. Use pandas.concat instead.\n",
      "  df = df.append([globals()[f'list']])\n",
      "C:\\Users\\smhrd\\AppData\\Roaming\\Python\\Python39\\site-packages\\sklearn\\base.py:450: UserWarning: X does not have valid feature names, but KNeighborsClassifier was fitted with feature names\n",
      "  warnings.warn(\n"
     ]
    },
    {
     "name": "stdout",
     "output_type": "stream",
     "text": [
      "(173.34879332445246, 145.83670375836394, -18.0)\n",
      "[[0. 0. 1. 0.]]\n",
      "(169.03949416908748, 145.85678105769472, -18.0)\n",
      "[[0. 0. 1. 0.]]\n",
      "(167.20826449034428, 144.15681208550478, -21.5)\n",
      "[[0. 0. 1. 0.]]\n",
      "(161.41172950362954, 144.74007173171813, -21.0)\n",
      "[[0. 0. 1. 0.]]\n"
     ]
    },
    {
     "name": "stderr",
     "output_type": "stream",
     "text": [
      "C:\\Users\\smhrd\\AppData\\Local\\Temp\\ipykernel_6176\\3034425392.py:75: FutureWarning: The frame.append method is deprecated and will be removed from pandas in a future version. Use pandas.concat instead.\n",
      "  df = df.append([globals()[f'list']])\n",
      "C:\\Users\\smhrd\\AppData\\Roaming\\Python\\Python39\\site-packages\\sklearn\\base.py:450: UserWarning: X does not have valid feature names, but KNeighborsClassifier was fitted with feature names\n",
      "  warnings.warn(\n",
      "C:\\Users\\smhrd\\AppData\\Local\\Temp\\ipykernel_6176\\3034425392.py:75: FutureWarning: The frame.append method is deprecated and will be removed from pandas in a future version. Use pandas.concat instead.\n",
      "  df = df.append([globals()[f'list']])\n",
      "C:\\Users\\smhrd\\AppData\\Roaming\\Python\\Python39\\site-packages\\sklearn\\base.py:450: UserWarning: X does not have valid feature names, but KNeighborsClassifier was fitted with feature names\n",
      "  warnings.warn(\n",
      "C:\\Users\\smhrd\\AppData\\Local\\Temp\\ipykernel_6176\\3034425392.py:75: FutureWarning: The frame.append method is deprecated and will be removed from pandas in a future version. Use pandas.concat instead.\n",
      "  df = df.append([globals()[f'list']])\n",
      "C:\\Users\\smhrd\\AppData\\Roaming\\Python\\Python39\\site-packages\\sklearn\\base.py:450: UserWarning: X does not have valid feature names, but KNeighborsClassifier was fitted with feature names\n",
      "  warnings.warn(\n",
      "C:\\Users\\smhrd\\AppData\\Local\\Temp\\ipykernel_6176\\3034425392.py:75: FutureWarning: The frame.append method is deprecated and will be removed from pandas in a future version. Use pandas.concat instead.\n",
      "  df = df.append([globals()[f'list']])\n",
      "C:\\Users\\smhrd\\AppData\\Roaming\\Python\\Python39\\site-packages\\sklearn\\base.py:450: UserWarning: X does not have valid feature names, but KNeighborsClassifier was fitted with feature names\n",
      "  warnings.warn(\n"
     ]
    },
    {
     "name": "stdout",
     "output_type": "stream",
     "text": [
      "(158.91102425460463, 146.79372335728516, -15.5)\n",
      "[[0. 0. 1. 0.]]\n",
      "(158.1448677068723, 145.3623575390768, -18.0)\n",
      "[[0. 0. 1. 0.]]\n",
      "(163.85434504358167, 145.39306526123548, -18.5)\n",
      "[[0. 0. 1. 0.]]\n",
      "(164.91283472020547, 145.55656154849885, -19.0)\n",
      "[[0. 0. 1. 0.]]\n"
     ]
    },
    {
     "name": "stderr",
     "output_type": "stream",
     "text": [
      "C:\\Users\\smhrd\\AppData\\Local\\Temp\\ipykernel_6176\\3034425392.py:75: FutureWarning: The frame.append method is deprecated and will be removed from pandas in a future version. Use pandas.concat instead.\n",
      "  df = df.append([globals()[f'list']])\n",
      "C:\\Users\\smhrd\\AppData\\Roaming\\Python\\Python39\\site-packages\\sklearn\\base.py:450: UserWarning: X does not have valid feature names, but KNeighborsClassifier was fitted with feature names\n",
      "  warnings.warn(\n",
      "C:\\Users\\smhrd\\AppData\\Local\\Temp\\ipykernel_6176\\3034425392.py:75: FutureWarning: The frame.append method is deprecated and will be removed from pandas in a future version. Use pandas.concat instead.\n",
      "  df = df.append([globals()[f'list']])\n",
      "C:\\Users\\smhrd\\AppData\\Roaming\\Python\\Python39\\site-packages\\sklearn\\base.py:450: UserWarning: X does not have valid feature names, but KNeighborsClassifier was fitted with feature names\n",
      "  warnings.warn(\n",
      "C:\\Users\\smhrd\\AppData\\Local\\Temp\\ipykernel_6176\\3034425392.py:75: FutureWarning: The frame.append method is deprecated and will be removed from pandas in a future version. Use pandas.concat instead.\n",
      "  df = df.append([globals()[f'list']])\n",
      "C:\\Users\\smhrd\\AppData\\Roaming\\Python\\Python39\\site-packages\\sklearn\\base.py:450: UserWarning: X does not have valid feature names, but KNeighborsClassifier was fitted with feature names\n",
      "  warnings.warn(\n"
     ]
    },
    {
     "name": "stdout",
     "output_type": "stream",
     "text": [
      "(167.63128866659991, 145.74291742134028, -18.5)\n",
      "[[0. 0. 1. 0.]]\n",
      "(169.45424434255457, 146.76466706545935, -16.5)\n",
      "[[0. 0. 1. 0.]]\n",
      "(168.21005960823206, 146.4574422842326, -19.0)\n",
      "[[0. 0. 1. 0.]]\n"
     ]
    },
    {
     "name": "stderr",
     "output_type": "stream",
     "text": [
      "C:\\Users\\smhrd\\AppData\\Local\\Temp\\ipykernel_6176\\3034425392.py:75: FutureWarning: The frame.append method is deprecated and will be removed from pandas in a future version. Use pandas.concat instead.\n",
      "  df = df.append([globals()[f'list']])\n",
      "C:\\Users\\smhrd\\AppData\\Roaming\\Python\\Python39\\site-packages\\sklearn\\base.py:450: UserWarning: X does not have valid feature names, but KNeighborsClassifier was fitted with feature names\n",
      "  warnings.warn(\n",
      "C:\\Users\\smhrd\\AppData\\Local\\Temp\\ipykernel_6176\\3034425392.py:75: FutureWarning: The frame.append method is deprecated and will be removed from pandas in a future version. Use pandas.concat instead.\n",
      "  df = df.append([globals()[f'list']])\n",
      "C:\\Users\\smhrd\\AppData\\Roaming\\Python\\Python39\\site-packages\\sklearn\\base.py:450: UserWarning: X does not have valid feature names, but KNeighborsClassifier was fitted with feature names\n",
      "  warnings.warn(\n",
      "C:\\Users\\smhrd\\AppData\\Local\\Temp\\ipykernel_6176\\3034425392.py:75: FutureWarning: The frame.append method is deprecated and will be removed from pandas in a future version. Use pandas.concat instead.\n",
      "  df = df.append([globals()[f'list']])\n",
      "C:\\Users\\smhrd\\AppData\\Roaming\\Python\\Python39\\site-packages\\sklearn\\base.py:450: UserWarning: X does not have valid feature names, but KNeighborsClassifier was fitted with feature names\n",
      "  warnings.warn(\n"
     ]
    },
    {
     "name": "stdout",
     "output_type": "stream",
     "text": [
      "(168.91652457156331, 147.32986557334928, -18.5)\n",
      "[[0. 0. 1. 0.]]\n",
      "(169.43488234071532, 145.6919318311423, -19.5)\n",
      "[[0. 0. 1. 0.]]\n",
      "(167.39646625274403, 145.52508670446747, -19.0)\n",
      "[[0. 0. 1. 0.]]\n"
     ]
    },
    {
     "name": "stderr",
     "output_type": "stream",
     "text": [
      "C:\\Users\\smhrd\\AppData\\Local\\Temp\\ipykernel_6176\\3034425392.py:75: FutureWarning: The frame.append method is deprecated and will be removed from pandas in a future version. Use pandas.concat instead.\n",
      "  df = df.append([globals()[f'list']])\n",
      "C:\\Users\\smhrd\\AppData\\Roaming\\Python\\Python39\\site-packages\\sklearn\\base.py:450: UserWarning: X does not have valid feature names, but KNeighborsClassifier was fitted with feature names\n",
      "  warnings.warn(\n",
      "C:\\Users\\smhrd\\AppData\\Local\\Temp\\ipykernel_6176\\3034425392.py:75: FutureWarning: The frame.append method is deprecated and will be removed from pandas in a future version. Use pandas.concat instead.\n",
      "  df = df.append([globals()[f'list']])\n",
      "C:\\Users\\smhrd\\AppData\\Roaming\\Python\\Python39\\site-packages\\sklearn\\base.py:450: UserWarning: X does not have valid feature names, but KNeighborsClassifier was fitted with feature names\n",
      "  warnings.warn(\n",
      "C:\\Users\\smhrd\\AppData\\Local\\Temp\\ipykernel_6176\\3034425392.py:75: FutureWarning: The frame.append method is deprecated and will be removed from pandas in a future version. Use pandas.concat instead.\n",
      "  df = df.append([globals()[f'list']])\n",
      "C:\\Users\\smhrd\\AppData\\Roaming\\Python\\Python39\\site-packages\\sklearn\\base.py:450: UserWarning: X does not have valid feature names, but KNeighborsClassifier was fitted with feature names\n",
      "  warnings.warn(\n",
      "C:\\Users\\smhrd\\AppData\\Local\\Temp\\ipykernel_6176\\3034425392.py:75: FutureWarning: The frame.append method is deprecated and will be removed from pandas in a future version. Use pandas.concat instead.\n",
      "  df = df.append([globals()[f'list']])\n"
     ]
    },
    {
     "name": "stdout",
     "output_type": "stream",
     "text": [
      "(169.66541793481213, 144.48184201292864, -19.5)\n",
      "[[0. 0. 1. 0.]]\n",
      "(169.3083433054965, 144.7366099617974, -18.5)\n",
      "[[0. 0. 1. 0.]]\n",
      "(168.25946270380234, 143.64820051550447, -21.5)\n",
      "[[0. 0. 1. 0.]]\n",
      "(166.84466593431014, 146.4266302068125, -16.5)\n"
     ]
    },
    {
     "name": "stderr",
     "output_type": "stream",
     "text": [
      "C:\\Users\\smhrd\\AppData\\Roaming\\Python\\Python39\\site-packages\\sklearn\\base.py:450: UserWarning: X does not have valid feature names, but KNeighborsClassifier was fitted with feature names\n",
      "  warnings.warn(\n",
      "C:\\Users\\smhrd\\AppData\\Local\\Temp\\ipykernel_6176\\3034425392.py:75: FutureWarning: The frame.append method is deprecated and will be removed from pandas in a future version. Use pandas.concat instead.\n",
      "  df = df.append([globals()[f'list']])\n",
      "C:\\Users\\smhrd\\AppData\\Roaming\\Python\\Python39\\site-packages\\sklearn\\base.py:450: UserWarning: X does not have valid feature names, but KNeighborsClassifier was fitted with feature names\n",
      "  warnings.warn(\n",
      "C:\\Users\\smhrd\\AppData\\Local\\Temp\\ipykernel_6176\\3034425392.py:75: FutureWarning: The frame.append method is deprecated and will be removed from pandas in a future version. Use pandas.concat instead.\n",
      "  df = df.append([globals()[f'list']])\n",
      "C:\\Users\\smhrd\\AppData\\Roaming\\Python\\Python39\\site-packages\\sklearn\\base.py:450: UserWarning: X does not have valid feature names, but KNeighborsClassifier was fitted with feature names\n",
      "  warnings.warn(\n",
      "C:\\Users\\smhrd\\AppData\\Local\\Temp\\ipykernel_6176\\3034425392.py:75: FutureWarning: The frame.append method is deprecated and will be removed from pandas in a future version. Use pandas.concat instead.\n",
      "  df = df.append([globals()[f'list']])\n",
      "C:\\Users\\smhrd\\AppData\\Roaming\\Python\\Python39\\site-packages\\sklearn\\base.py:450: UserWarning: X does not have valid feature names, but KNeighborsClassifier was fitted with feature names\n",
      "  warnings.warn(\n"
     ]
    },
    {
     "name": "stdout",
     "output_type": "stream",
     "text": [
      "[[0. 0. 1. 0.]]\n",
      "(171.1587721128457, 146.72691187482332, -18.0)\n",
      "[[0. 0. 1. 0.]]\n",
      "(171.48454860965714, 146.40124956743054, -19.5)\n",
      "[[0. 0. 1. 0.]]\n",
      "(170.6105749046122, 146.0826842920342, -17.0)\n",
      "[[0. 0. 1. 0.]]\n"
     ]
    },
    {
     "name": "stderr",
     "output_type": "stream",
     "text": [
      "C:\\Users\\smhrd\\AppData\\Local\\Temp\\ipykernel_6176\\3034425392.py:75: FutureWarning: The frame.append method is deprecated and will be removed from pandas in a future version. Use pandas.concat instead.\n",
      "  df = df.append([globals()[f'list']])\n",
      "C:\\Users\\smhrd\\AppData\\Roaming\\Python\\Python39\\site-packages\\sklearn\\base.py:450: UserWarning: X does not have valid feature names, but KNeighborsClassifier was fitted with feature names\n",
      "  warnings.warn(\n",
      "C:\\Users\\smhrd\\AppData\\Local\\Temp\\ipykernel_6176\\3034425392.py:75: FutureWarning: The frame.append method is deprecated and will be removed from pandas in a future version. Use pandas.concat instead.\n",
      "  df = df.append([globals()[f'list']])\n",
      "C:\\Users\\smhrd\\AppData\\Roaming\\Python\\Python39\\site-packages\\sklearn\\base.py:450: UserWarning: X does not have valid feature names, but KNeighborsClassifier was fitted with feature names\n",
      "  warnings.warn(\n",
      "C:\\Users\\smhrd\\AppData\\Local\\Temp\\ipykernel_6176\\3034425392.py:75: FutureWarning: The frame.append method is deprecated and will be removed from pandas in a future version. Use pandas.concat instead.\n",
      "  df = df.append([globals()[f'list']])\n",
      "C:\\Users\\smhrd\\AppData\\Roaming\\Python\\Python39\\site-packages\\sklearn\\base.py:450: UserWarning: X does not have valid feature names, but KNeighborsClassifier was fitted with feature names\n",
      "  warnings.warn(\n",
      "C:\\Users\\smhrd\\AppData\\Local\\Temp\\ipykernel_6176\\3034425392.py:75: FutureWarning: The frame.append method is deprecated and will be removed from pandas in a future version. Use pandas.concat instead.\n",
      "  df = df.append([globals()[f'list']])\n",
      "C:\\Users\\smhrd\\AppData\\Roaming\\Python\\Python39\\site-packages\\sklearn\\base.py:450: UserWarning: X does not have valid feature names, but KNeighborsClassifier was fitted with feature names\n",
      "  warnings.warn(\n"
     ]
    },
    {
     "name": "stdout",
     "output_type": "stream",
     "text": [
      "(170.16643603579288, 145.33478785342209, -18.5)\n",
      "[[0. 0. 1. 0.]]\n",
      "(169.91732552064, 145.4523283623418, -17.0)\n",
      "[[0. 0. 1. 0.]]\n",
      "(170.8252505657261, 145.1821946079104, -17.5)\n",
      "[[0. 0. 1. 0.]]\n",
      "(170.200828202169, 145.05160463421885, -16.5)\n",
      "[[0. 0. 1. 0.]]\n"
     ]
    },
    {
     "name": "stderr",
     "output_type": "stream",
     "text": [
      "C:\\Users\\smhrd\\AppData\\Local\\Temp\\ipykernel_6176\\3034425392.py:75: FutureWarning: The frame.append method is deprecated and will be removed from pandas in a future version. Use pandas.concat instead.\n",
      "  df = df.append([globals()[f'list']])\n",
      "C:\\Users\\smhrd\\AppData\\Roaming\\Python\\Python39\\site-packages\\sklearn\\base.py:450: UserWarning: X does not have valid feature names, but KNeighborsClassifier was fitted with feature names\n",
      "  warnings.warn(\n",
      "C:\\Users\\smhrd\\AppData\\Local\\Temp\\ipykernel_6176\\3034425392.py:75: FutureWarning: The frame.append method is deprecated and will be removed from pandas in a future version. Use pandas.concat instead.\n",
      "  df = df.append([globals()[f'list']])\n",
      "C:\\Users\\smhrd\\AppData\\Roaming\\Python\\Python39\\site-packages\\sklearn\\base.py:450: UserWarning: X does not have valid feature names, but KNeighborsClassifier was fitted with feature names\n",
      "  warnings.warn(\n",
      "C:\\Users\\smhrd\\AppData\\Local\\Temp\\ipykernel_6176\\3034425392.py:75: FutureWarning: The frame.append method is deprecated and will be removed from pandas in a future version. Use pandas.concat instead.\n",
      "  df = df.append([globals()[f'list']])\n",
      "C:\\Users\\smhrd\\AppData\\Roaming\\Python\\Python39\\site-packages\\sklearn\\base.py:450: UserWarning: X does not have valid feature names, but KNeighborsClassifier was fitted with feature names\n",
      "  warnings.warn(\n",
      "C:\\Users\\smhrd\\AppData\\Local\\Temp\\ipykernel_6176\\3034425392.py:75: FutureWarning: The frame.append method is deprecated and will be removed from pandas in a future version. Use pandas.concat instead.\n",
      "  df = df.append([globals()[f'list']])\n",
      "C:\\Users\\smhrd\\AppData\\Roaming\\Python\\Python39\\site-packages\\sklearn\\base.py:450: UserWarning: X does not have valid feature names, but KNeighborsClassifier was fitted with feature names\n",
      "  warnings.warn(\n"
     ]
    },
    {
     "name": "stdout",
     "output_type": "stream",
     "text": [
      "(168.00534609048148, 146.88034946357766, -13.5)\n",
      "[[0. 0. 1. 0.]]\n",
      "(170.03655065486217, 147.4601272013928, -15.5)\n",
      "[[0. 0. 1. 0.]]\n",
      "(170.54094133102686, 147.73826293250397, -13.0)\n",
      "[[0. 0. 1. 0.]]\n",
      "(170.82957516221097, 146.0775421266427, -14.0)\n",
      "[[0. 0. 1. 0.]]\n"
     ]
    },
    {
     "name": "stderr",
     "output_type": "stream",
     "text": [
      "C:\\Users\\smhrd\\AppData\\Local\\Temp\\ipykernel_6176\\3034425392.py:75: FutureWarning: The frame.append method is deprecated and will be removed from pandas in a future version. Use pandas.concat instead.\n",
      "  df = df.append([globals()[f'list']])\n",
      "C:\\Users\\smhrd\\AppData\\Roaming\\Python\\Python39\\site-packages\\sklearn\\base.py:450: UserWarning: X does not have valid feature names, but KNeighborsClassifier was fitted with feature names\n",
      "  warnings.warn(\n",
      "C:\\Users\\smhrd\\AppData\\Local\\Temp\\ipykernel_6176\\3034425392.py:75: FutureWarning: The frame.append method is deprecated and will be removed from pandas in a future version. Use pandas.concat instead.\n",
      "  df = df.append([globals()[f'list']])\n",
      "C:\\Users\\smhrd\\AppData\\Roaming\\Python\\Python39\\site-packages\\sklearn\\base.py:450: UserWarning: X does not have valid feature names, but KNeighborsClassifier was fitted with feature names\n",
      "  warnings.warn(\n",
      "C:\\Users\\smhrd\\AppData\\Local\\Temp\\ipykernel_6176\\3034425392.py:75: FutureWarning: The frame.append method is deprecated and will be removed from pandas in a future version. Use pandas.concat instead.\n",
      "  df = df.append([globals()[f'list']])\n",
      "C:\\Users\\smhrd\\AppData\\Roaming\\Python\\Python39\\site-packages\\sklearn\\base.py:450: UserWarning: X does not have valid feature names, but KNeighborsClassifier was fitted with feature names\n",
      "  warnings.warn(\n",
      "C:\\Users\\smhrd\\AppData\\Local\\Temp\\ipykernel_6176\\3034425392.py:75: FutureWarning: The frame.append method is deprecated and will be removed from pandas in a future version. Use pandas.concat instead.\n",
      "  df = df.append([globals()[f'list']])\n",
      "C:\\Users\\smhrd\\AppData\\Roaming\\Python\\Python39\\site-packages\\sklearn\\base.py:450: UserWarning: X does not have valid feature names, but KNeighborsClassifier was fitted with feature names\n",
      "  warnings.warn(\n"
     ]
    },
    {
     "name": "stdout",
     "output_type": "stream",
     "text": [
      "(168.72970457108678, 146.28831873988227, -14.5)\n",
      "[[0. 0. 1. 0.]]\n",
      "(170.6982517082087, 144.8162886454578, -17.5)\n",
      "[[0. 0. 1. 0.]]\n",
      "(166.32507045018787, 145.8829707860088, -16.5)\n",
      "[[0. 0. 1. 0.]]\n",
      "(162.94331021711216, 144.9595294490113, -17.0)\n",
      "[[0. 0. 1. 0.]]\n"
     ]
    },
    {
     "name": "stderr",
     "output_type": "stream",
     "text": [
      "C:\\Users\\smhrd\\AppData\\Local\\Temp\\ipykernel_6176\\3034425392.py:75: FutureWarning: The frame.append method is deprecated and will be removed from pandas in a future version. Use pandas.concat instead.\n",
      "  df = df.append([globals()[f'list']])\n",
      "C:\\Users\\smhrd\\AppData\\Roaming\\Python\\Python39\\site-packages\\sklearn\\base.py:450: UserWarning: X does not have valid feature names, but KNeighborsClassifier was fitted with feature names\n",
      "  warnings.warn(\n",
      "C:\\Users\\smhrd\\AppData\\Local\\Temp\\ipykernel_6176\\3034425392.py:75: FutureWarning: The frame.append method is deprecated and will be removed from pandas in a future version. Use pandas.concat instead.\n",
      "  df = df.append([globals()[f'list']])\n",
      "C:\\Users\\smhrd\\AppData\\Roaming\\Python\\Python39\\site-packages\\sklearn\\base.py:450: UserWarning: X does not have valid feature names, but KNeighborsClassifier was fitted with feature names\n",
      "  warnings.warn(\n",
      "C:\\Users\\smhrd\\AppData\\Local\\Temp\\ipykernel_6176\\3034425392.py:75: FutureWarning: The frame.append method is deprecated and will be removed from pandas in a future version. Use pandas.concat instead.\n",
      "  df = df.append([globals()[f'list']])\n",
      "C:\\Users\\smhrd\\AppData\\Roaming\\Python\\Python39\\site-packages\\sklearn\\base.py:450: UserWarning: X does not have valid feature names, but KNeighborsClassifier was fitted with feature names\n",
      "  warnings.warn(\n"
     ]
    },
    {
     "name": "stdout",
     "output_type": "stream",
     "text": [
      "(157.12893998248492, 144.75926736593058, -16.5)\n",
      "[[0. 0. 1. 0.]]\n",
      "(144.58583846745492, 145.0919004792295, -17.5)\n",
      "[[0. 0. 1. 0.]]\n",
      "(142.70295208443102, 145.54977701640948, -17.5)\n",
      "[[0. 0. 1. 0.]]\n"
     ]
    },
    {
     "name": "stderr",
     "output_type": "stream",
     "text": [
      "C:\\Users\\smhrd\\AppData\\Local\\Temp\\ipykernel_6176\\3034425392.py:75: FutureWarning: The frame.append method is deprecated and will be removed from pandas in a future version. Use pandas.concat instead.\n",
      "  df = df.append([globals()[f'list']])\n",
      "C:\\Users\\smhrd\\AppData\\Roaming\\Python\\Python39\\site-packages\\sklearn\\base.py:450: UserWarning: X does not have valid feature names, but KNeighborsClassifier was fitted with feature names\n",
      "  warnings.warn(\n",
      "C:\\Users\\smhrd\\AppData\\Local\\Temp\\ipykernel_6176\\3034425392.py:75: FutureWarning: The frame.append method is deprecated and will be removed from pandas in a future version. Use pandas.concat instead.\n",
      "  df = df.append([globals()[f'list']])\n",
      "C:\\Users\\smhrd\\AppData\\Roaming\\Python\\Python39\\site-packages\\sklearn\\base.py:450: UserWarning: X does not have valid feature names, but KNeighborsClassifier was fitted with feature names\n",
      "  warnings.warn(\n",
      "C:\\Users\\smhrd\\AppData\\Local\\Temp\\ipykernel_6176\\3034425392.py:75: FutureWarning: The frame.append method is deprecated and will be removed from pandas in a future version. Use pandas.concat instead.\n",
      "  df = df.append([globals()[f'list']])\n",
      "C:\\Users\\smhrd\\AppData\\Roaming\\Python\\Python39\\site-packages\\sklearn\\base.py:450: UserWarning: X does not have valid feature names, but KNeighborsClassifier was fitted with feature names\n",
      "  warnings.warn(\n"
     ]
    },
    {
     "name": "stdout",
     "output_type": "stream",
     "text": [
      "(134.9105639216746, 147.80043843622485, -17.5)\n",
      "[[0. 0. 1. 0.]]\n",
      "(130.58284250041166, 145.30457928457486, -24.0)\n",
      "[[0. 0. 1. 0.]]\n",
      "(122.53298256251718, 145.39999489618998, -23.0)\n",
      "[[0. 0. 1. 0.]]\n"
     ]
    },
    {
     "name": "stderr",
     "output_type": "stream",
     "text": [
      "C:\\Users\\smhrd\\AppData\\Local\\Temp\\ipykernel_6176\\3034425392.py:75: FutureWarning: The frame.append method is deprecated and will be removed from pandas in a future version. Use pandas.concat instead.\n",
      "  df = df.append([globals()[f'list']])\n",
      "C:\\Users\\smhrd\\AppData\\Roaming\\Python\\Python39\\site-packages\\sklearn\\base.py:450: UserWarning: X does not have valid feature names, but KNeighborsClassifier was fitted with feature names\n",
      "  warnings.warn(\n",
      "C:\\Users\\smhrd\\AppData\\Local\\Temp\\ipykernel_6176\\3034425392.py:75: FutureWarning: The frame.append method is deprecated and will be removed from pandas in a future version. Use pandas.concat instead.\n",
      "  df = df.append([globals()[f'list']])\n",
      "C:\\Users\\smhrd\\AppData\\Roaming\\Python\\Python39\\site-packages\\sklearn\\base.py:450: UserWarning: X does not have valid feature names, but KNeighborsClassifier was fitted with feature names\n",
      "  warnings.warn(\n",
      "C:\\Users\\smhrd\\AppData\\Local\\Temp\\ipykernel_6176\\3034425392.py:75: FutureWarning: The frame.append method is deprecated and will be removed from pandas in a future version. Use pandas.concat instead.\n",
      "  df = df.append([globals()[f'list']])\n",
      "C:\\Users\\smhrd\\AppData\\Roaming\\Python\\Python39\\site-packages\\sklearn\\base.py:450: UserWarning: X does not have valid feature names, but KNeighborsClassifier was fitted with feature names\n",
      "  warnings.warn(\n",
      "C:\\Users\\smhrd\\AppData\\Local\\Temp\\ipykernel_6176\\3034425392.py:75: FutureWarning: The frame.append method is deprecated and will be removed from pandas in a future version. Use pandas.concat instead.\n",
      "  df = df.append([globals()[f'list']])\n",
      "C:\\Users\\smhrd\\AppData\\Roaming\\Python\\Python39\\site-packages\\sklearn\\base.py:450: UserWarning: X does not have valid feature names, but KNeighborsClassifier was fitted with feature names\n",
      "  warnings.warn(\n"
     ]
    },
    {
     "name": "stdout",
     "output_type": "stream",
     "text": [
      "(105.87540098580718, 146.92983342903037, -18.0)\n",
      "[[0.66666667 0.         0.33333333 0.        ]]\n",
      "(101.05012557001399, 144.30877655667783, -18.0)\n",
      "[[1. 0. 0. 0.]]\n",
      "(92.64591137233818, 145.23414185080173, -18.0)\n",
      "[[1. 0. 0. 0.]]\n",
      "(87.48400061632498, 144.63222086696948, -17.5)\n",
      "[[1. 0. 0. 0.]]\n"
     ]
    },
    {
     "name": "stderr",
     "output_type": "stream",
     "text": [
      "C:\\Users\\smhrd\\AppData\\Local\\Temp\\ipykernel_6176\\3034425392.py:75: FutureWarning: The frame.append method is deprecated and will be removed from pandas in a future version. Use pandas.concat instead.\n",
      "  df = df.append([globals()[f'list']])\n",
      "C:\\Users\\smhrd\\AppData\\Roaming\\Python\\Python39\\site-packages\\sklearn\\base.py:450: UserWarning: X does not have valid feature names, but KNeighborsClassifier was fitted with feature names\n",
      "  warnings.warn(\n",
      "C:\\Users\\smhrd\\AppData\\Local\\Temp\\ipykernel_6176\\3034425392.py:75: FutureWarning: The frame.append method is deprecated and will be removed from pandas in a future version. Use pandas.concat instead.\n",
      "  df = df.append([globals()[f'list']])\n",
      "C:\\Users\\smhrd\\AppData\\Roaming\\Python\\Python39\\site-packages\\sklearn\\base.py:450: UserWarning: X does not have valid feature names, but KNeighborsClassifier was fitted with feature names\n",
      "  warnings.warn(\n",
      "C:\\Users\\smhrd\\AppData\\Local\\Temp\\ipykernel_6176\\3034425392.py:75: FutureWarning: The frame.append method is deprecated and will be removed from pandas in a future version. Use pandas.concat instead.\n",
      "  df = df.append([globals()[f'list']])\n",
      "C:\\Users\\smhrd\\AppData\\Roaming\\Python\\Python39\\site-packages\\sklearn\\base.py:450: UserWarning: X does not have valid feature names, but KNeighborsClassifier was fitted with feature names\n",
      "  warnings.warn(\n",
      "C:\\Users\\smhrd\\AppData\\Local\\Temp\\ipykernel_6176\\3034425392.py:75: FutureWarning: The frame.append method is deprecated and will be removed from pandas in a future version. Use pandas.concat instead.\n",
      "  df = df.append([globals()[f'list']])\n",
      "C:\\Users\\smhrd\\AppData\\Roaming\\Python\\Python39\\site-packages\\sklearn\\base.py:450: UserWarning: X does not have valid feature names, but KNeighborsClassifier was fitted with feature names\n",
      "  warnings.warn(\n"
     ]
    },
    {
     "name": "stdout",
     "output_type": "stream",
     "text": [
      "(83.20389455797951, 144.39372812954326, -16.0)\n",
      "[[1. 0. 0. 0.]]\n",
      "(80.57539630688315, 145.62453003376507, -16.0)\n",
      "[[1. 0. 0. 0.]]\n",
      "(72.78830270233613, 145.71534051014814, -18.0)\n",
      "[[1. 0. 0. 0.]]\n",
      "(52.52703328550715, 147.99351543109185, -17.0)\n",
      "[[1. 0. 0. 0.]]\n"
     ]
    },
    {
     "name": "stderr",
     "output_type": "stream",
     "text": [
      "C:\\Users\\smhrd\\AppData\\Local\\Temp\\ipykernel_6176\\3034425392.py:75: FutureWarning: The frame.append method is deprecated and will be removed from pandas in a future version. Use pandas.concat instead.\n",
      "  df = df.append([globals()[f'list']])\n",
      "C:\\Users\\smhrd\\AppData\\Roaming\\Python\\Python39\\site-packages\\sklearn\\base.py:450: UserWarning: X does not have valid feature names, but KNeighborsClassifier was fitted with feature names\n",
      "  warnings.warn(\n",
      "C:\\Users\\smhrd\\AppData\\Local\\Temp\\ipykernel_6176\\3034425392.py:75: FutureWarning: The frame.append method is deprecated and will be removed from pandas in a future version. Use pandas.concat instead.\n",
      "  df = df.append([globals()[f'list']])\n",
      "C:\\Users\\smhrd\\AppData\\Roaming\\Python\\Python39\\site-packages\\sklearn\\base.py:450: UserWarning: X does not have valid feature names, but KNeighborsClassifier was fitted with feature names\n",
      "  warnings.warn(\n",
      "C:\\Users\\smhrd\\AppData\\Local\\Temp\\ipykernel_6176\\3034425392.py:75: FutureWarning: The frame.append method is deprecated and will be removed from pandas in a future version. Use pandas.concat instead.\n",
      "  df = df.append([globals()[f'list']])\n",
      "C:\\Users\\smhrd\\AppData\\Roaming\\Python\\Python39\\site-packages\\sklearn\\base.py:450: UserWarning: X does not have valid feature names, but KNeighborsClassifier was fitted with feature names\n",
      "  warnings.warn(\n",
      "C:\\Users\\smhrd\\AppData\\Local\\Temp\\ipykernel_6176\\3034425392.py:75: FutureWarning: The frame.append method is deprecated and will be removed from pandas in a future version. Use pandas.concat instead.\n",
      "  df = df.append([globals()[f'list']])\n",
      "C:\\Users\\smhrd\\AppData\\Roaming\\Python\\Python39\\site-packages\\sklearn\\base.py:450: UserWarning: X does not have valid feature names, but KNeighborsClassifier was fitted with feature names\n",
      "  warnings.warn(\n"
     ]
    },
    {
     "name": "stdout",
     "output_type": "stream",
     "text": [
      "(49.65447703238433, 146.73684127909996, -16.5)\n",
      "[[0.33333333 0.         0.66666667 0.        ]]\n",
      "(49.98702996452551, 146.37180982214662, -17.5)\n",
      "[[0.33333333 0.         0.66666667 0.        ]]\n",
      "(45.34406588030017, 147.59690582547594, -15.0)\n",
      "[[0.33333333 0.         0.66666667 0.        ]]\n",
      "(42.19272882159616, 147.65437530542695, -16.0)\n",
      "[[0.33333333 0.         0.66666667 0.        ]]\n"
     ]
    },
    {
     "name": "stderr",
     "output_type": "stream",
     "text": [
      "C:\\Users\\smhrd\\AppData\\Local\\Temp\\ipykernel_6176\\3034425392.py:75: FutureWarning: The frame.append method is deprecated and will be removed from pandas in a future version. Use pandas.concat instead.\n",
      "  df = df.append([globals()[f'list']])\n",
      "C:\\Users\\smhrd\\AppData\\Roaming\\Python\\Python39\\site-packages\\sklearn\\base.py:450: UserWarning: X does not have valid feature names, but KNeighborsClassifier was fitted with feature names\n",
      "  warnings.warn(\n",
      "C:\\Users\\smhrd\\AppData\\Local\\Temp\\ipykernel_6176\\3034425392.py:75: FutureWarning: The frame.append method is deprecated and will be removed from pandas in a future version. Use pandas.concat instead.\n",
      "  df = df.append([globals()[f'list']])\n",
      "C:\\Users\\smhrd\\AppData\\Roaming\\Python\\Python39\\site-packages\\sklearn\\base.py:450: UserWarning: X does not have valid feature names, but KNeighborsClassifier was fitted with feature names\n",
      "  warnings.warn(\n",
      "C:\\Users\\smhrd\\AppData\\Local\\Temp\\ipykernel_6176\\3034425392.py:75: FutureWarning: The frame.append method is deprecated and will be removed from pandas in a future version. Use pandas.concat instead.\n",
      "  df = df.append([globals()[f'list']])\n",
      "C:\\Users\\smhrd\\AppData\\Roaming\\Python\\Python39\\site-packages\\sklearn\\base.py:450: UserWarning: X does not have valid feature names, but KNeighborsClassifier was fitted with feature names\n",
      "  warnings.warn(\n",
      "C:\\Users\\smhrd\\AppData\\Local\\Temp\\ipykernel_6176\\3034425392.py:75: FutureWarning: The frame.append method is deprecated and will be removed from pandas in a future version. Use pandas.concat instead.\n",
      "  df = df.append([globals()[f'list']])\n",
      "C:\\Users\\smhrd\\AppData\\Roaming\\Python\\Python39\\site-packages\\sklearn\\base.py:450: UserWarning: X does not have valid feature names, but KNeighborsClassifier was fitted with feature names\n",
      "  warnings.warn(\n"
     ]
    },
    {
     "name": "stdout",
     "output_type": "stream",
     "text": [
      "(38.24909285532503, 147.34314455801206, -16.5)\n",
      "[[0.33333333 0.         0.66666667 0.        ]]\n",
      "(36.13409988921482, 148.3093534809312, -14.5)\n",
      "[[0. 0. 1. 0.]]\n",
      "(36.21634299735609, 149.5810940626336, -10.5)\n",
      "[[0. 0. 1. 0.]]\n",
      "(37.00986406546931, 149.49150643503685, -13.0)\n",
      "[[0.33333333 0.         0.66666667 0.        ]]\n"
     ]
    },
    {
     "name": "stderr",
     "output_type": "stream",
     "text": [
      "C:\\Users\\smhrd\\AppData\\Local\\Temp\\ipykernel_6176\\3034425392.py:75: FutureWarning: The frame.append method is deprecated and will be removed from pandas in a future version. Use pandas.concat instead.\n",
      "  df = df.append([globals()[f'list']])\n",
      "C:\\Users\\smhrd\\AppData\\Roaming\\Python\\Python39\\site-packages\\sklearn\\base.py:450: UserWarning: X does not have valid feature names, but KNeighborsClassifier was fitted with feature names\n",
      "  warnings.warn(\n",
      "C:\\Users\\smhrd\\AppData\\Local\\Temp\\ipykernel_6176\\3034425392.py:75: FutureWarning: The frame.append method is deprecated and will be removed from pandas in a future version. Use pandas.concat instead.\n",
      "  df = df.append([globals()[f'list']])\n",
      "C:\\Users\\smhrd\\AppData\\Roaming\\Python\\Python39\\site-packages\\sklearn\\base.py:450: UserWarning: X does not have valid feature names, but KNeighborsClassifier was fitted with feature names\n",
      "  warnings.warn(\n",
      "C:\\Users\\smhrd\\AppData\\Local\\Temp\\ipykernel_6176\\3034425392.py:75: FutureWarning: The frame.append method is deprecated and will be removed from pandas in a future version. Use pandas.concat instead.\n",
      "  df = df.append([globals()[f'list']])\n",
      "C:\\Users\\smhrd\\AppData\\Roaming\\Python\\Python39\\site-packages\\sklearn\\base.py:450: UserWarning: X does not have valid feature names, but KNeighborsClassifier was fitted with feature names\n",
      "  warnings.warn(\n"
     ]
    },
    {
     "name": "stdout",
     "output_type": "stream",
     "text": [
      "(36.77217717743075, 148.4919417933022, -14.0)\n",
      "[[0. 0. 1. 0.]]\n",
      "(35.272421448598394, 147.64682150624228, -16.0)\n",
      "[[0. 0. 1. 0.]]\n",
      "(35.2698477252647, 147.94265327516035, -15.0)\n",
      "[[0. 0. 1. 0.]]\n"
     ]
    },
    {
     "name": "stderr",
     "output_type": "stream",
     "text": [
      "C:\\Users\\smhrd\\AppData\\Local\\Temp\\ipykernel_6176\\3034425392.py:75: FutureWarning: The frame.append method is deprecated and will be removed from pandas in a future version. Use pandas.concat instead.\n",
      "  df = df.append([globals()[f'list']])\n",
      "C:\\Users\\smhrd\\AppData\\Roaming\\Python\\Python39\\site-packages\\sklearn\\base.py:450: UserWarning: X does not have valid feature names, but KNeighborsClassifier was fitted with feature names\n",
      "  warnings.warn(\n",
      "C:\\Users\\smhrd\\AppData\\Local\\Temp\\ipykernel_6176\\3034425392.py:75: FutureWarning: The frame.append method is deprecated and will be removed from pandas in a future version. Use pandas.concat instead.\n",
      "  df = df.append([globals()[f'list']])\n",
      "C:\\Users\\smhrd\\AppData\\Roaming\\Python\\Python39\\site-packages\\sklearn\\base.py:450: UserWarning: X does not have valid feature names, but KNeighborsClassifier was fitted with feature names\n",
      "  warnings.warn(\n",
      "C:\\Users\\smhrd\\AppData\\Local\\Temp\\ipykernel_6176\\3034425392.py:75: FutureWarning: The frame.append method is deprecated and will be removed from pandas in a future version. Use pandas.concat instead.\n",
      "  df = df.append([globals()[f'list']])\n",
      "C:\\Users\\smhrd\\AppData\\Roaming\\Python\\Python39\\site-packages\\sklearn\\base.py:450: UserWarning: X does not have valid feature names, but KNeighborsClassifier was fitted with feature names\n",
      "  warnings.warn(\n",
      "C:\\Users\\smhrd\\AppData\\Local\\Temp\\ipykernel_6176\\3034425392.py:75: FutureWarning: The frame.append method is deprecated and will be removed from pandas in a future version. Use pandas.concat instead.\n",
      "  df = df.append([globals()[f'list']])\n",
      "C:\\Users\\smhrd\\AppData\\Roaming\\Python\\Python39\\site-packages\\sklearn\\base.py:450: UserWarning: X does not have valid feature names, but KNeighborsClassifier was fitted with feature names\n",
      "  warnings.warn(\n"
     ]
    },
    {
     "name": "stdout",
     "output_type": "stream",
     "text": [
      "(34.49170232107636, 146.54347376017358, -14.5)\n",
      "[[0. 0. 1. 0.]]\n",
      "(34.6585587280867, 146.71447856355675, -13.5)\n",
      "[[0. 0. 1. 0.]]\n",
      "(35.17437128485473, 146.45313109664528, -16.5)\n",
      "[[0. 0. 1. 0.]]\n",
      "(34.91889052063491, 146.9557640316046, -17.0)\n",
      "[[0. 0. 1. 0.]]\n"
     ]
    },
    {
     "name": "stderr",
     "output_type": "stream",
     "text": [
      "C:\\Users\\smhrd\\AppData\\Local\\Temp\\ipykernel_6176\\3034425392.py:75: FutureWarning: The frame.append method is deprecated and will be removed from pandas in a future version. Use pandas.concat instead.\n",
      "  df = df.append([globals()[f'list']])\n",
      "C:\\Users\\smhrd\\AppData\\Roaming\\Python\\Python39\\site-packages\\sklearn\\base.py:450: UserWarning: X does not have valid feature names, but KNeighborsClassifier was fitted with feature names\n",
      "  warnings.warn(\n",
      "C:\\Users\\smhrd\\AppData\\Local\\Temp\\ipykernel_6176\\3034425392.py:75: FutureWarning: The frame.append method is deprecated and will be removed from pandas in a future version. Use pandas.concat instead.\n",
      "  df = df.append([globals()[f'list']])\n",
      "C:\\Users\\smhrd\\AppData\\Roaming\\Python\\Python39\\site-packages\\sklearn\\base.py:450: UserWarning: X does not have valid feature names, but KNeighborsClassifier was fitted with feature names\n",
      "  warnings.warn(\n",
      "C:\\Users\\smhrd\\AppData\\Local\\Temp\\ipykernel_6176\\3034425392.py:75: FutureWarning: The frame.append method is deprecated and will be removed from pandas in a future version. Use pandas.concat instead.\n",
      "  df = df.append([globals()[f'list']])\n",
      "C:\\Users\\smhrd\\AppData\\Roaming\\Python\\Python39\\site-packages\\sklearn\\base.py:450: UserWarning: X does not have valid feature names, but KNeighborsClassifier was fitted with feature names\n",
      "  warnings.warn(\n",
      "C:\\Users\\smhrd\\AppData\\Local\\Temp\\ipykernel_6176\\3034425392.py:75: FutureWarning: The frame.append method is deprecated and will be removed from pandas in a future version. Use pandas.concat instead.\n",
      "  df = df.append([globals()[f'list']])\n",
      "C:\\Users\\smhrd\\AppData\\Roaming\\Python\\Python39\\site-packages\\sklearn\\base.py:450: UserWarning: X does not have valid feature names, but KNeighborsClassifier was fitted with feature names\n",
      "  warnings.warn(\n"
     ]
    },
    {
     "name": "stdout",
     "output_type": "stream",
     "text": [
      "(36.00105153760146, 147.848507419735, -16.0)\n",
      "[[0.33333333 0.         0.66666667 0.        ]]\n",
      "(34.56192563252246, 147.21999634742497, -18.0)\n",
      "[[0.33333333 0.         0.66666667 0.        ]]\n",
      "(35.066210999783145, 146.34513676822885, -17.5)\n",
      "[[0. 0. 1. 0.]]\n",
      "(34.82287906652367, 146.92946210133297, -16.5)\n",
      "[[0. 0. 1. 0.]]\n"
     ]
    },
    {
     "name": "stderr",
     "output_type": "stream",
     "text": [
      "C:\\Users\\smhrd\\AppData\\Local\\Temp\\ipykernel_6176\\3034425392.py:75: FutureWarning: The frame.append method is deprecated and will be removed from pandas in a future version. Use pandas.concat instead.\n",
      "  df = df.append([globals()[f'list']])\n",
      "C:\\Users\\smhrd\\AppData\\Roaming\\Python\\Python39\\site-packages\\sklearn\\base.py:450: UserWarning: X does not have valid feature names, but KNeighborsClassifier was fitted with feature names\n",
      "  warnings.warn(\n",
      "C:\\Users\\smhrd\\AppData\\Local\\Temp\\ipykernel_6176\\3034425392.py:75: FutureWarning: The frame.append method is deprecated and will be removed from pandas in a future version. Use pandas.concat instead.\n",
      "  df = df.append([globals()[f'list']])\n",
      "C:\\Users\\smhrd\\AppData\\Roaming\\Python\\Python39\\site-packages\\sklearn\\base.py:450: UserWarning: X does not have valid feature names, but KNeighborsClassifier was fitted with feature names\n",
      "  warnings.warn(\n",
      "C:\\Users\\smhrd\\AppData\\Local\\Temp\\ipykernel_6176\\3034425392.py:75: FutureWarning: The frame.append method is deprecated and will be removed from pandas in a future version. Use pandas.concat instead.\n",
      "  df = df.append([globals()[f'list']])\n",
      "C:\\Users\\smhrd\\AppData\\Roaming\\Python\\Python39\\site-packages\\sklearn\\base.py:450: UserWarning: X does not have valid feature names, but KNeighborsClassifier was fitted with feature names\n",
      "  warnings.warn(\n",
      "C:\\Users\\smhrd\\AppData\\Local\\Temp\\ipykernel_6176\\3034425392.py:75: FutureWarning: The frame.append method is deprecated and will be removed from pandas in a future version. Use pandas.concat instead.\n",
      "  df = df.append([globals()[f'list']])\n",
      "C:\\Users\\smhrd\\AppData\\Roaming\\Python\\Python39\\site-packages\\sklearn\\base.py:450: UserWarning: X does not have valid feature names, but KNeighborsClassifier was fitted with feature names\n",
      "  warnings.warn(\n"
     ]
    },
    {
     "name": "stdout",
     "output_type": "stream",
     "text": [
      "(34.51919025043075, 146.57475216001828, -17.5)\n",
      "[[0. 0. 1. 0.]]\n",
      "(35.003960550477736, 146.8100554107479, -17.0)\n",
      "[[0. 0. 1. 0.]]\n",
      "(35.92459640729141, 147.27187408336513, -16.5)\n",
      "[[0.33333333 0.         0.66666667 0.        ]]\n",
      "(36.25509756198808, 145.12512791129828, -18.0)\n",
      "[[0. 0. 1. 0.]]\n"
     ]
    },
    {
     "name": "stderr",
     "output_type": "stream",
     "text": [
      "C:\\Users\\smhrd\\AppData\\Local\\Temp\\ipykernel_6176\\3034425392.py:75: FutureWarning: The frame.append method is deprecated and will be removed from pandas in a future version. Use pandas.concat instead.\n",
      "  df = df.append([globals()[f'list']])\n",
      "C:\\Users\\smhrd\\AppData\\Roaming\\Python\\Python39\\site-packages\\sklearn\\base.py:450: UserWarning: X does not have valid feature names, but KNeighborsClassifier was fitted with feature names\n",
      "  warnings.warn(\n",
      "C:\\Users\\smhrd\\AppData\\Local\\Temp\\ipykernel_6176\\3034425392.py:75: FutureWarning: The frame.append method is deprecated and will be removed from pandas in a future version. Use pandas.concat instead.\n",
      "  df = df.append([globals()[f'list']])\n",
      "C:\\Users\\smhrd\\AppData\\Roaming\\Python\\Python39\\site-packages\\sklearn\\base.py:450: UserWarning: X does not have valid feature names, but KNeighborsClassifier was fitted with feature names\n",
      "  warnings.warn(\n",
      "C:\\Users\\smhrd\\AppData\\Local\\Temp\\ipykernel_6176\\3034425392.py:75: FutureWarning: The frame.append method is deprecated and will be removed from pandas in a future version. Use pandas.concat instead.\n",
      "  df = df.append([globals()[f'list']])\n",
      "C:\\Users\\smhrd\\AppData\\Roaming\\Python\\Python39\\site-packages\\sklearn\\base.py:450: UserWarning: X does not have valid feature names, but KNeighborsClassifier was fitted with feature names\n",
      "  warnings.warn(\n",
      "C:\\Users\\smhrd\\AppData\\Local\\Temp\\ipykernel_6176\\3034425392.py:75: FutureWarning: The frame.append method is deprecated and will be removed from pandas in a future version. Use pandas.concat instead.\n",
      "  df = df.append([globals()[f'list']])\n",
      "C:\\Users\\smhrd\\AppData\\Roaming\\Python\\Python39\\site-packages\\sklearn\\base.py:450: UserWarning: X does not have valid feature names, but KNeighborsClassifier was fitted with feature names\n",
      "  warnings.warn(\n"
     ]
    },
    {
     "name": "stdout",
     "output_type": "stream",
     "text": [
      "(36.86764370545171, 144.53972112614812, -19.5)\n",
      "[[0. 0. 1. 0.]]\n",
      "(36.24605647372325, 145.2032886697346, -18.0)\n",
      "[[0. 0. 1. 0.]]\n",
      "(35.7750741563643, 144.13700495344332, -21.0)\n",
      "[[0.33333333 0.         0.66666667 0.        ]]\n",
      "(36.590229375718295, 147.00095873468513, -15.5)\n",
      "[[0. 0. 1. 0.]]\n"
     ]
    },
    {
     "name": "stderr",
     "output_type": "stream",
     "text": [
      "C:\\Users\\smhrd\\AppData\\Local\\Temp\\ipykernel_6176\\3034425392.py:75: FutureWarning: The frame.append method is deprecated and will be removed from pandas in a future version. Use pandas.concat instead.\n",
      "  df = df.append([globals()[f'list']])\n",
      "C:\\Users\\smhrd\\AppData\\Roaming\\Python\\Python39\\site-packages\\sklearn\\base.py:450: UserWarning: X does not have valid feature names, but KNeighborsClassifier was fitted with feature names\n",
      "  warnings.warn(\n",
      "C:\\Users\\smhrd\\AppData\\Local\\Temp\\ipykernel_6176\\3034425392.py:75: FutureWarning: The frame.append method is deprecated and will be removed from pandas in a future version. Use pandas.concat instead.\n",
      "  df = df.append([globals()[f'list']])\n",
      "C:\\Users\\smhrd\\AppData\\Roaming\\Python\\Python39\\site-packages\\sklearn\\base.py:450: UserWarning: X does not have valid feature names, but KNeighborsClassifier was fitted with feature names\n",
      "  warnings.warn(\n",
      "C:\\Users\\smhrd\\AppData\\Local\\Temp\\ipykernel_6176\\3034425392.py:75: FutureWarning: The frame.append method is deprecated and will be removed from pandas in a future version. Use pandas.concat instead.\n",
      "  df = df.append([globals()[f'list']])\n",
      "C:\\Users\\smhrd\\AppData\\Roaming\\Python\\Python39\\site-packages\\sklearn\\base.py:450: UserWarning: X does not have valid feature names, but KNeighborsClassifier was fitted with feature names\n",
      "  warnings.warn(\n",
      "C:\\Users\\smhrd\\AppData\\Local\\Temp\\ipykernel_6176\\3034425392.py:75: FutureWarning: The frame.append method is deprecated and will be removed from pandas in a future version. Use pandas.concat instead.\n",
      "  df = df.append([globals()[f'list']])\n",
      "C:\\Users\\smhrd\\AppData\\Roaming\\Python\\Python39\\site-packages\\sklearn\\base.py:450: UserWarning: X does not have valid feature names, but KNeighborsClassifier was fitted with feature names\n",
      "  warnings.warn(\n"
     ]
    },
    {
     "name": "stdout",
     "output_type": "stream",
     "text": [
      "(39.16454832989614, 145.95670568705532, -18.5)\n",
      "[[0.33333333 0.         0.66666667 0.        ]]\n",
      "(41.857790499116895, 145.37780011789076, -15.0)\n",
      "[[0. 0. 1. 0.]]\n",
      "(41.1021614938902, 145.70352213715165, -20.5)\n",
      "[[0.33333333 0.         0.66666667 0.        ]]\n",
      "(39.003214420592876, 143.43464373766167, -28.0)\n",
      "[[0.33333333 0.         0.66666667 0.        ]]\n"
     ]
    },
    {
     "name": "stderr",
     "output_type": "stream",
     "text": [
      "C:\\Users\\smhrd\\AppData\\Local\\Temp\\ipykernel_6176\\3034425392.py:75: FutureWarning: The frame.append method is deprecated and will be removed from pandas in a future version. Use pandas.concat instead.\n",
      "  df = df.append([globals()[f'list']])\n",
      "C:\\Users\\smhrd\\AppData\\Roaming\\Python\\Python39\\site-packages\\sklearn\\base.py:450: UserWarning: X does not have valid feature names, but KNeighborsClassifier was fitted with feature names\n",
      "  warnings.warn(\n",
      "C:\\Users\\smhrd\\AppData\\Local\\Temp\\ipykernel_6176\\3034425392.py:75: FutureWarning: The frame.append method is deprecated and will be removed from pandas in a future version. Use pandas.concat instead.\n",
      "  df = df.append([globals()[f'list']])\n",
      "C:\\Users\\smhrd\\AppData\\Roaming\\Python\\Python39\\site-packages\\sklearn\\base.py:450: UserWarning: X does not have valid feature names, but KNeighborsClassifier was fitted with feature names\n",
      "  warnings.warn(\n",
      "C:\\Users\\smhrd\\AppData\\Local\\Temp\\ipykernel_6176\\3034425392.py:75: FutureWarning: The frame.append method is deprecated and will be removed from pandas in a future version. Use pandas.concat instead.\n",
      "  df = df.append([globals()[f'list']])\n",
      "C:\\Users\\smhrd\\AppData\\Roaming\\Python\\Python39\\site-packages\\sklearn\\base.py:450: UserWarning: X does not have valid feature names, but KNeighborsClassifier was fitted with feature names\n",
      "  warnings.warn(\n",
      "C:\\Users\\smhrd\\AppData\\Local\\Temp\\ipykernel_6176\\3034425392.py:75: FutureWarning: The frame.append method is deprecated and will be removed from pandas in a future version. Use pandas.concat instead.\n",
      "  df = df.append([globals()[f'list']])\n",
      "C:\\Users\\smhrd\\AppData\\Roaming\\Python\\Python39\\site-packages\\sklearn\\base.py:450: UserWarning: X does not have valid feature names, but KNeighborsClassifier was fitted with feature names\n",
      "  warnings.warn(\n"
     ]
    },
    {
     "name": "stdout",
     "output_type": "stream",
     "text": [
      "(41.79392794710921, 145.36795326061244, -24.0)\n",
      "[[0.33333333 0.         0.66666667 0.        ]]\n",
      "(40.925955928591115, 145.28263332447156, -24.0)\n",
      "[[0.33333333 0.         0.66666667 0.        ]]\n",
      "(39.67561401536816, 143.80365182490482, -28.5)\n",
      "[[0.33333333 0.         0.66666667 0.        ]]\n",
      "(39.2860847077355, 142.04382507845568, -34.5)\n",
      "[[0.66666667 0.         0.33333333 0.        ]]\n"
     ]
    },
    {
     "name": "stderr",
     "output_type": "stream",
     "text": [
      "C:\\Users\\smhrd\\AppData\\Local\\Temp\\ipykernel_6176\\3034425392.py:75: FutureWarning: The frame.append method is deprecated and will be removed from pandas in a future version. Use pandas.concat instead.\n",
      "  df = df.append([globals()[f'list']])\n",
      "C:\\Users\\smhrd\\AppData\\Roaming\\Python\\Python39\\site-packages\\sklearn\\base.py:450: UserWarning: X does not have valid feature names, but KNeighborsClassifier was fitted with feature names\n",
      "  warnings.warn(\n",
      "C:\\Users\\smhrd\\AppData\\Local\\Temp\\ipykernel_6176\\3034425392.py:75: FutureWarning: The frame.append method is deprecated and will be removed from pandas in a future version. Use pandas.concat instead.\n",
      "  df = df.append([globals()[f'list']])\n",
      "C:\\Users\\smhrd\\AppData\\Roaming\\Python\\Python39\\site-packages\\sklearn\\base.py:450: UserWarning: X does not have valid feature names, but KNeighborsClassifier was fitted with feature names\n",
      "  warnings.warn(\n",
      "C:\\Users\\smhrd\\AppData\\Local\\Temp\\ipykernel_6176\\3034425392.py:75: FutureWarning: The frame.append method is deprecated and will be removed from pandas in a future version. Use pandas.concat instead.\n",
      "  df = df.append([globals()[f'list']])\n",
      "C:\\Users\\smhrd\\AppData\\Roaming\\Python\\Python39\\site-packages\\sklearn\\base.py:450: UserWarning: X does not have valid feature names, but KNeighborsClassifier was fitted with feature names\n",
      "  warnings.warn(\n"
     ]
    },
    {
     "name": "stdout",
     "output_type": "stream",
     "text": [
      "(39.86693571108248, 139.81876254128807, -41.0)\n",
      "[[1. 0. 0. 0.]]\n",
      "(40.351022719647354, 142.17570301319768, -37.0)\n",
      "[[0.66666667 0.         0.33333333 0.        ]]\n",
      "(41.15184883584425, 142.02414809086122, -33.5)\n",
      "[[0.66666667 0.         0.33333333 0.        ]]\n"
     ]
    },
    {
     "name": "stderr",
     "output_type": "stream",
     "text": [
      "C:\\Users\\smhrd\\AppData\\Local\\Temp\\ipykernel_6176\\3034425392.py:75: FutureWarning: The frame.append method is deprecated and will be removed from pandas in a future version. Use pandas.concat instead.\n",
      "  df = df.append([globals()[f'list']])\n",
      "C:\\Users\\smhrd\\AppData\\Roaming\\Python\\Python39\\site-packages\\sklearn\\base.py:450: UserWarning: X does not have valid feature names, but KNeighborsClassifier was fitted with feature names\n",
      "  warnings.warn(\n",
      "C:\\Users\\smhrd\\AppData\\Local\\Temp\\ipykernel_6176\\3034425392.py:75: FutureWarning: The frame.append method is deprecated and will be removed from pandas in a future version. Use pandas.concat instead.\n",
      "  df = df.append([globals()[f'list']])\n",
      "C:\\Users\\smhrd\\AppData\\Roaming\\Python\\Python39\\site-packages\\sklearn\\base.py:450: UserWarning: X does not have valid feature names, but KNeighborsClassifier was fitted with feature names\n",
      "  warnings.warn(\n",
      "C:\\Users\\smhrd\\AppData\\Local\\Temp\\ipykernel_6176\\3034425392.py:75: FutureWarning: The frame.append method is deprecated and will be removed from pandas in a future version. Use pandas.concat instead.\n",
      "  df = df.append([globals()[f'list']])\n",
      "C:\\Users\\smhrd\\AppData\\Roaming\\Python\\Python39\\site-packages\\sklearn\\base.py:450: UserWarning: X does not have valid feature names, but KNeighborsClassifier was fitted with feature names\n",
      "  warnings.warn(\n",
      "C:\\Users\\smhrd\\AppData\\Local\\Temp\\ipykernel_6176\\3034425392.py:75: FutureWarning: The frame.append method is deprecated and will be removed from pandas in a future version. Use pandas.concat instead.\n",
      "  df = df.append([globals()[f'list']])\n",
      "C:\\Users\\smhrd\\AppData\\Roaming\\Python\\Python39\\site-packages\\sklearn\\base.py:450: UserWarning: X does not have valid feature names, but KNeighborsClassifier was fitted with feature names\n",
      "  warnings.warn(\n"
     ]
    },
    {
     "name": "stdout",
     "output_type": "stream",
     "text": [
      "(40.5074575139074, 140.49514846828407, -35.5)\n",
      "[[0.66666667 0.         0.33333333 0.        ]]\n",
      "(41.12476452599513, 141.7874034276497, -36.5)\n",
      "[[0.66666667 0.         0.33333333 0.        ]]\n",
      "(40.51576981631327, 141.09287284708552, -35.0)\n",
      "[[0.66666667 0.         0.33333333 0.        ]]\n",
      "(41.267869623562184, 142.22164217617856, -34.0)\n",
      "[[0.66666667 0.         0.33333333 0.        ]]\n"
     ]
    },
    {
     "name": "stderr",
     "output_type": "stream",
     "text": [
      "C:\\Users\\smhrd\\AppData\\Local\\Temp\\ipykernel_6176\\3034425392.py:75: FutureWarning: The frame.append method is deprecated and will be removed from pandas in a future version. Use pandas.concat instead.\n",
      "  df = df.append([globals()[f'list']])\n",
      "C:\\Users\\smhrd\\AppData\\Roaming\\Python\\Python39\\site-packages\\sklearn\\base.py:450: UserWarning: X does not have valid feature names, but KNeighborsClassifier was fitted with feature names\n",
      "  warnings.warn(\n",
      "C:\\Users\\smhrd\\AppData\\Local\\Temp\\ipykernel_6176\\3034425392.py:75: FutureWarning: The frame.append method is deprecated and will be removed from pandas in a future version. Use pandas.concat instead.\n",
      "  df = df.append([globals()[f'list']])\n",
      "C:\\Users\\smhrd\\AppData\\Roaming\\Python\\Python39\\site-packages\\sklearn\\base.py:450: UserWarning: X does not have valid feature names, but KNeighborsClassifier was fitted with feature names\n",
      "  warnings.warn(\n",
      "C:\\Users\\smhrd\\AppData\\Local\\Temp\\ipykernel_6176\\3034425392.py:75: FutureWarning: The frame.append method is deprecated and will be removed from pandas in a future version. Use pandas.concat instead.\n",
      "  df = df.append([globals()[f'list']])\n",
      "C:\\Users\\smhrd\\AppData\\Roaming\\Python\\Python39\\site-packages\\sklearn\\base.py:450: UserWarning: X does not have valid feature names, but KNeighborsClassifier was fitted with feature names\n",
      "  warnings.warn(\n"
     ]
    },
    {
     "name": "stdout",
     "output_type": "stream",
     "text": [
      "(41.048646580177675, 142.305480997015, -34.0)\n",
      "[[0.66666667 0.         0.33333333 0.        ]]\n",
      "(40.8553762588957, 142.08829776629716, -35.0)\n",
      "[[0.66666667 0.         0.33333333 0.        ]]\n",
      "(41.557645276909085, 142.70986314280677, -34.0)\n",
      "[[0.66666667 0.         0.33333333 0.        ]]\n"
     ]
    },
    {
     "name": "stderr",
     "output_type": "stream",
     "text": [
      "C:\\Users\\smhrd\\AppData\\Local\\Temp\\ipykernel_6176\\3034425392.py:75: FutureWarning: The frame.append method is deprecated and will be removed from pandas in a future version. Use pandas.concat instead.\n",
      "  df = df.append([globals()[f'list']])\n",
      "C:\\Users\\smhrd\\AppData\\Roaming\\Python\\Python39\\site-packages\\sklearn\\base.py:450: UserWarning: X does not have valid feature names, but KNeighborsClassifier was fitted with feature names\n",
      "  warnings.warn(\n",
      "C:\\Users\\smhrd\\AppData\\Local\\Temp\\ipykernel_6176\\3034425392.py:75: FutureWarning: The frame.append method is deprecated and will be removed from pandas in a future version. Use pandas.concat instead.\n",
      "  df = df.append([globals()[f'list']])\n",
      "C:\\Users\\smhrd\\AppData\\Roaming\\Python\\Python39\\site-packages\\sklearn\\base.py:450: UserWarning: X does not have valid feature names, but KNeighborsClassifier was fitted with feature names\n",
      "  warnings.warn(\n",
      "C:\\Users\\smhrd\\AppData\\Local\\Temp\\ipykernel_6176\\3034425392.py:75: FutureWarning: The frame.append method is deprecated and will be removed from pandas in a future version. Use pandas.concat instead.\n",
      "  df = df.append([globals()[f'list']])\n",
      "C:\\Users\\smhrd\\AppData\\Roaming\\Python\\Python39\\site-packages\\sklearn\\base.py:450: UserWarning: X does not have valid feature names, but KNeighborsClassifier was fitted with feature names\n",
      "  warnings.warn(\n",
      "C:\\Users\\smhrd\\AppData\\Local\\Temp\\ipykernel_6176\\3034425392.py:75: FutureWarning: The frame.append method is deprecated and will be removed from pandas in a future version. Use pandas.concat instead.\n",
      "  df = df.append([globals()[f'list']])\n",
      "C:\\Users\\smhrd\\AppData\\Roaming\\Python\\Python39\\site-packages\\sklearn\\base.py:450: UserWarning: X does not have valid feature names, but KNeighborsClassifier was fitted with feature names\n",
      "  warnings.warn(\n"
     ]
    },
    {
     "name": "stdout",
     "output_type": "stream",
     "text": [
      "(41.52893747578755, 142.88706969319378, -33.5)\n",
      "[[0.66666667 0.         0.33333333 0.        ]]\n",
      "(42.046258952934274, 142.57656429947352, -34.5)\n",
      "[[0.66666667 0.         0.33333333 0.        ]]\n",
      "(41.16142498551727, 142.75011890151828, -34.5)\n",
      "[[0.66666667 0.         0.33333333 0.        ]]\n",
      "(41.722717358363504, 141.31194653380558, -37.0)\n",
      "[[0.66666667 0.         0.33333333 0.        ]]\n"
     ]
    },
    {
     "name": "stderr",
     "output_type": "stream",
     "text": [
      "C:\\Users\\smhrd\\AppData\\Local\\Temp\\ipykernel_6176\\3034425392.py:75: FutureWarning: The frame.append method is deprecated and will be removed from pandas in a future version. Use pandas.concat instead.\n",
      "  df = df.append([globals()[f'list']])\n",
      "C:\\Users\\smhrd\\AppData\\Roaming\\Python\\Python39\\site-packages\\sklearn\\base.py:450: UserWarning: X does not have valid feature names, but KNeighborsClassifier was fitted with feature names\n",
      "  warnings.warn(\n",
      "C:\\Users\\smhrd\\AppData\\Local\\Temp\\ipykernel_6176\\3034425392.py:75: FutureWarning: The frame.append method is deprecated and will be removed from pandas in a future version. Use pandas.concat instead.\n",
      "  df = df.append([globals()[f'list']])\n",
      "C:\\Users\\smhrd\\AppData\\Roaming\\Python\\Python39\\site-packages\\sklearn\\base.py:450: UserWarning: X does not have valid feature names, but KNeighborsClassifier was fitted with feature names\n",
      "  warnings.warn(\n",
      "C:\\Users\\smhrd\\AppData\\Local\\Temp\\ipykernel_6176\\3034425392.py:75: FutureWarning: The frame.append method is deprecated and will be removed from pandas in a future version. Use pandas.concat instead.\n",
      "  df = df.append([globals()[f'list']])\n",
      "C:\\Users\\smhrd\\AppData\\Roaming\\Python\\Python39\\site-packages\\sklearn\\base.py:450: UserWarning: X does not have valid feature names, but KNeighborsClassifier was fitted with feature names\n",
      "  warnings.warn(\n",
      "C:\\Users\\smhrd\\AppData\\Local\\Temp\\ipykernel_6176\\3034425392.py:75: FutureWarning: The frame.append method is deprecated and will be removed from pandas in a future version. Use pandas.concat instead.\n",
      "  df = df.append([globals()[f'list']])\n",
      "C:\\Users\\smhrd\\AppData\\Roaming\\Python\\Python39\\site-packages\\sklearn\\base.py:450: UserWarning: X does not have valid feature names, but KNeighborsClassifier was fitted with feature names\n",
      "  warnings.warn(\n"
     ]
    },
    {
     "name": "stdout",
     "output_type": "stream",
     "text": [
      "(42.30190756826662, 141.802391873054, -37.0)\n",
      "[[0.66666667 0.         0.33333333 0.        ]]\n",
      "(41.34675469152041, 142.3080037698439, -36.0)\n",
      "[[0.66666667 0.         0.33333333 0.        ]]\n",
      "(41.94944183837531, 141.7037474937149, -37.0)\n",
      "[[0.66666667 0.         0.33333333 0.        ]]\n",
      "(43.4374287867501, 143.89734629355664, -35.0)\n",
      "[[0.66666667 0.         0.33333333 0.        ]]\n"
     ]
    },
    {
     "name": "stderr",
     "output_type": "stream",
     "text": [
      "C:\\Users\\smhrd\\AppData\\Local\\Temp\\ipykernel_6176\\3034425392.py:75: FutureWarning: The frame.append method is deprecated and will be removed from pandas in a future version. Use pandas.concat instead.\n",
      "  df = df.append([globals()[f'list']])\n",
      "C:\\Users\\smhrd\\AppData\\Roaming\\Python\\Python39\\site-packages\\sklearn\\base.py:450: UserWarning: X does not have valid feature names, but KNeighborsClassifier was fitted with feature names\n",
      "  warnings.warn(\n",
      "C:\\Users\\smhrd\\AppData\\Local\\Temp\\ipykernel_6176\\3034425392.py:75: FutureWarning: The frame.append method is deprecated and will be removed from pandas in a future version. Use pandas.concat instead.\n",
      "  df = df.append([globals()[f'list']])\n",
      "C:\\Users\\smhrd\\AppData\\Roaming\\Python\\Python39\\site-packages\\sklearn\\base.py:450: UserWarning: X does not have valid feature names, but KNeighborsClassifier was fitted with feature names\n",
      "  warnings.warn(\n",
      "C:\\Users\\smhrd\\AppData\\Local\\Temp\\ipykernel_6176\\3034425392.py:75: FutureWarning: The frame.append method is deprecated and will be removed from pandas in a future version. Use pandas.concat instead.\n",
      "  df = df.append([globals()[f'list']])\n",
      "C:\\Users\\smhrd\\AppData\\Roaming\\Python\\Python39\\site-packages\\sklearn\\base.py:450: UserWarning: X does not have valid feature names, but KNeighborsClassifier was fitted with feature names\n",
      "  warnings.warn(\n"
     ]
    },
    {
     "name": "stdout",
     "output_type": "stream",
     "text": [
      "(45.667596317352476, 141.8698143963654, -36.0)\n",
      "[[0.66666667 0.         0.33333333 0.        ]]\n",
      "(45.73679643787861, 141.77794214783705, -35.0)\n",
      "[[0.66666667 0.         0.33333333 0.        ]]\n",
      "(47.22744160380109, 140.61259396406606, -40.5)\n",
      "[[1. 0. 0. 0.]]\n"
     ]
    },
    {
     "name": "stderr",
     "output_type": "stream",
     "text": [
      "C:\\Users\\smhrd\\AppData\\Local\\Temp\\ipykernel_6176\\3034425392.py:75: FutureWarning: The frame.append method is deprecated and will be removed from pandas in a future version. Use pandas.concat instead.\n",
      "  df = df.append([globals()[f'list']])\n",
      "C:\\Users\\smhrd\\AppData\\Roaming\\Python\\Python39\\site-packages\\sklearn\\base.py:450: UserWarning: X does not have valid feature names, but KNeighborsClassifier was fitted with feature names\n",
      "  warnings.warn(\n",
      "C:\\Users\\smhrd\\AppData\\Local\\Temp\\ipykernel_6176\\3034425392.py:75: FutureWarning: The frame.append method is deprecated and will be removed from pandas in a future version. Use pandas.concat instead.\n",
      "  df = df.append([globals()[f'list']])\n",
      "C:\\Users\\smhrd\\AppData\\Roaming\\Python\\Python39\\site-packages\\sklearn\\base.py:450: UserWarning: X does not have valid feature names, but KNeighborsClassifier was fitted with feature names\n",
      "  warnings.warn(\n",
      "C:\\Users\\smhrd\\AppData\\Local\\Temp\\ipykernel_6176\\3034425392.py:75: FutureWarning: The frame.append method is deprecated and will be removed from pandas in a future version. Use pandas.concat instead.\n",
      "  df = df.append([globals()[f'list']])\n",
      "C:\\Users\\smhrd\\AppData\\Roaming\\Python\\Python39\\site-packages\\sklearn\\base.py:450: UserWarning: X does not have valid feature names, but KNeighborsClassifier was fitted with feature names\n",
      "  warnings.warn(\n"
     ]
    },
    {
     "name": "stdout",
     "output_type": "stream",
     "text": [
      "(48.88597753095448, 140.51728546219465, -41.0)\n",
      "[[1. 0. 0. 0.]]\n",
      "(50.91291606697448, 140.25815127844405, -41.0)\n",
      "[[1. 0. 0. 0.]]\n",
      "(55.28111839355008, 143.10124203595555, -34.5)\n",
      "[[1. 0. 0. 0.]]\n"
     ]
    },
    {
     "name": "stderr",
     "output_type": "stream",
     "text": [
      "C:\\Users\\smhrd\\AppData\\Local\\Temp\\ipykernel_6176\\3034425392.py:75: FutureWarning: The frame.append method is deprecated and will be removed from pandas in a future version. Use pandas.concat instead.\n",
      "  df = df.append([globals()[f'list']])\n",
      "C:\\Users\\smhrd\\AppData\\Roaming\\Python\\Python39\\site-packages\\sklearn\\base.py:450: UserWarning: X does not have valid feature names, but KNeighborsClassifier was fitted with feature names\n",
      "  warnings.warn(\n",
      "C:\\Users\\smhrd\\AppData\\Local\\Temp\\ipykernel_6176\\3034425392.py:75: FutureWarning: The frame.append method is deprecated and will be removed from pandas in a future version. Use pandas.concat instead.\n",
      "  df = df.append([globals()[f'list']])\n",
      "C:\\Users\\smhrd\\AppData\\Roaming\\Python\\Python39\\site-packages\\sklearn\\base.py:450: UserWarning: X does not have valid feature names, but KNeighborsClassifier was fitted with feature names\n",
      "  warnings.warn(\n",
      "C:\\Users\\smhrd\\AppData\\Local\\Temp\\ipykernel_6176\\3034425392.py:75: FutureWarning: The frame.append method is deprecated and will be removed from pandas in a future version. Use pandas.concat instead.\n",
      "  df = df.append([globals()[f'list']])\n",
      "C:\\Users\\smhrd\\AppData\\Roaming\\Python\\Python39\\site-packages\\sklearn\\base.py:450: UserWarning: X does not have valid feature names, but KNeighborsClassifier was fitted with feature names\n",
      "  warnings.warn(\n"
     ]
    },
    {
     "name": "stdout",
     "output_type": "stream",
     "text": [
      "(59.11329579698581, 141.5561936886347, -38.0)\n",
      "[[1. 0. 0. 0.]]\n",
      "(78.36252699098999, 139.54666124662208, -35.5)\n",
      "[[1. 0. 0. 0.]]\n",
      "(78.49500212825633, 139.99175998955815, -30.0)\n",
      "[[1. 0. 0. 0.]]\n"
     ]
    },
    {
     "name": "stderr",
     "output_type": "stream",
     "text": [
      "C:\\Users\\smhrd\\AppData\\Local\\Temp\\ipykernel_6176\\3034425392.py:75: FutureWarning: The frame.append method is deprecated and will be removed from pandas in a future version. Use pandas.concat instead.\n",
      "  df = df.append([globals()[f'list']])\n",
      "C:\\Users\\smhrd\\AppData\\Roaming\\Python\\Python39\\site-packages\\sklearn\\base.py:450: UserWarning: X does not have valid feature names, but KNeighborsClassifier was fitted with feature names\n",
      "  warnings.warn(\n",
      "C:\\Users\\smhrd\\AppData\\Local\\Temp\\ipykernel_6176\\3034425392.py:75: FutureWarning: The frame.append method is deprecated and will be removed from pandas in a future version. Use pandas.concat instead.\n",
      "  df = df.append([globals()[f'list']])\n",
      "C:\\Users\\smhrd\\AppData\\Roaming\\Python\\Python39\\site-packages\\sklearn\\base.py:450: UserWarning: X does not have valid feature names, but KNeighborsClassifier was fitted with feature names\n",
      "  warnings.warn(\n",
      "C:\\Users\\smhrd\\AppData\\Local\\Temp\\ipykernel_6176\\3034425392.py:75: FutureWarning: The frame.append method is deprecated and will be removed from pandas in a future version. Use pandas.concat instead.\n",
      "  df = df.append([globals()[f'list']])\n",
      "C:\\Users\\smhrd\\AppData\\Roaming\\Python\\Python39\\site-packages\\sklearn\\base.py:450: UserWarning: X does not have valid feature names, but KNeighborsClassifier was fitted with feature names\n",
      "  warnings.warn(\n",
      "C:\\Users\\smhrd\\AppData\\Local\\Temp\\ipykernel_6176\\3034425392.py:75: FutureWarning: The frame.append method is deprecated and will be removed from pandas in a future version. Use pandas.concat instead.\n",
      "  df = df.append([globals()[f'list']])\n",
      "C:\\Users\\smhrd\\AppData\\Roaming\\Python\\Python39\\site-packages\\sklearn\\base.py:450: UserWarning: X does not have valid feature names, but KNeighborsClassifier was fitted with feature names\n",
      "  warnings.warn(\n"
     ]
    },
    {
     "name": "stdout",
     "output_type": "stream",
     "text": [
      "(81.1906285819133, 140.1755808595487, -33.5)\n",
      "[[1. 0. 0. 0.]]\n",
      "(82.16084688269495, 142.7501376446726, -29.5)\n",
      "[[1. 0. 0. 0.]]\n",
      "(91.26115325169229, 143.85395620064597, -21.0)\n",
      "[[1. 0. 0. 0.]]\n",
      "(95.60764440076997, 140.4411253623255, -32.0)\n",
      "[[1. 0. 0. 0.]]\n"
     ]
    },
    {
     "name": "stderr",
     "output_type": "stream",
     "text": [
      "C:\\Users\\smhrd\\AppData\\Local\\Temp\\ipykernel_6176\\3034425392.py:75: FutureWarning: The frame.append method is deprecated and will be removed from pandas in a future version. Use pandas.concat instead.\n",
      "  df = df.append([globals()[f'list']])\n",
      "C:\\Users\\smhrd\\AppData\\Roaming\\Python\\Python39\\site-packages\\sklearn\\base.py:450: UserWarning: X does not have valid feature names, but KNeighborsClassifier was fitted with feature names\n",
      "  warnings.warn(\n",
      "C:\\Users\\smhrd\\AppData\\Local\\Temp\\ipykernel_6176\\3034425392.py:75: FutureWarning: The frame.append method is deprecated and will be removed from pandas in a future version. Use pandas.concat instead.\n",
      "  df = df.append([globals()[f'list']])\n",
      "C:\\Users\\smhrd\\AppData\\Roaming\\Python\\Python39\\site-packages\\sklearn\\base.py:450: UserWarning: X does not have valid feature names, but KNeighborsClassifier was fitted with feature names\n",
      "  warnings.warn(\n",
      "C:\\Users\\smhrd\\AppData\\Local\\Temp\\ipykernel_6176\\3034425392.py:75: FutureWarning: The frame.append method is deprecated and will be removed from pandas in a future version. Use pandas.concat instead.\n",
      "  df = df.append([globals()[f'list']])\n",
      "C:\\Users\\smhrd\\AppData\\Roaming\\Python\\Python39\\site-packages\\sklearn\\base.py:450: UserWarning: X does not have valid feature names, but KNeighborsClassifier was fitted with feature names\n",
      "  warnings.warn(\n"
     ]
    },
    {
     "name": "stdout",
     "output_type": "stream",
     "text": [
      "(106.9810879502486, 141.01934911457786, -35.0)\n",
      "[[1. 0. 0. 0.]]\n",
      "(123.65101708844682, 141.2168642542617, -35.0)\n",
      "[[0.33333333 0.         0.66666667 0.        ]]\n",
      "(142.295332399014, 140.62281415678243, -38.5)\n",
      "[[0. 0. 1. 0.]]\n"
     ]
    },
    {
     "name": "stderr",
     "output_type": "stream",
     "text": [
      "C:\\Users\\smhrd\\AppData\\Local\\Temp\\ipykernel_6176\\3034425392.py:75: FutureWarning: The frame.append method is deprecated and will be removed from pandas in a future version. Use pandas.concat instead.\n",
      "  df = df.append([globals()[f'list']])\n",
      "C:\\Users\\smhrd\\AppData\\Roaming\\Python\\Python39\\site-packages\\sklearn\\base.py:450: UserWarning: X does not have valid feature names, but KNeighborsClassifier was fitted with feature names\n",
      "  warnings.warn(\n",
      "C:\\Users\\smhrd\\AppData\\Local\\Temp\\ipykernel_6176\\3034425392.py:75: FutureWarning: The frame.append method is deprecated and will be removed from pandas in a future version. Use pandas.concat instead.\n",
      "  df = df.append([globals()[f'list']])\n",
      "C:\\Users\\smhrd\\AppData\\Roaming\\Python\\Python39\\site-packages\\sklearn\\base.py:450: UserWarning: X does not have valid feature names, but KNeighborsClassifier was fitted with feature names\n",
      "  warnings.warn(\n",
      "C:\\Users\\smhrd\\AppData\\Local\\Temp\\ipykernel_6176\\3034425392.py:75: FutureWarning: The frame.append method is deprecated and will be removed from pandas in a future version. Use pandas.concat instead.\n",
      "  df = df.append([globals()[f'list']])\n",
      "C:\\Users\\smhrd\\AppData\\Roaming\\Python\\Python39\\site-packages\\sklearn\\base.py:450: UserWarning: X does not have valid feature names, but KNeighborsClassifier was fitted with feature names\n",
      "  warnings.warn(\n",
      "C:\\Users\\smhrd\\AppData\\Local\\Temp\\ipykernel_6176\\3034425392.py:75: FutureWarning: The frame.append method is deprecated and will be removed from pandas in a future version. Use pandas.concat instead.\n",
      "  df = df.append([globals()[f'list']])\n",
      "C:\\Users\\smhrd\\AppData\\Roaming\\Python\\Python39\\site-packages\\sklearn\\base.py:450: UserWarning: X does not have valid feature names, but KNeighborsClassifier was fitted with feature names\n",
      "  warnings.warn(\n"
     ]
    },
    {
     "name": "stdout",
     "output_type": "stream",
     "text": [
      "(145.45376482593605, 140.89364952852927, -38.5)\n",
      "[[0. 0. 1. 0.]]\n",
      "(143.15444940692544, 139.94734147476504, -39.5)\n",
      "[[0. 0. 1. 0.]]\n",
      "(149.3222817726852, 140.47919272948013, -36.5)\n",
      "[[0. 0. 1. 0.]]\n",
      "(152.34145956910845, 141.1577791568233, -31.5)\n",
      "[[0. 0. 1. 0.]]\n"
     ]
    },
    {
     "name": "stderr",
     "output_type": "stream",
     "text": [
      "C:\\Users\\smhrd\\AppData\\Local\\Temp\\ipykernel_6176\\3034425392.py:75: FutureWarning: The frame.append method is deprecated and will be removed from pandas in a future version. Use pandas.concat instead.\n",
      "  df = df.append([globals()[f'list']])\n",
      "C:\\Users\\smhrd\\AppData\\Roaming\\Python\\Python39\\site-packages\\sklearn\\base.py:450: UserWarning: X does not have valid feature names, but KNeighborsClassifier was fitted with feature names\n",
      "  warnings.warn(\n",
      "C:\\Users\\smhrd\\AppData\\Local\\Temp\\ipykernel_6176\\3034425392.py:75: FutureWarning: The frame.append method is deprecated and will be removed from pandas in a future version. Use pandas.concat instead.\n",
      "  df = df.append([globals()[f'list']])\n",
      "C:\\Users\\smhrd\\AppData\\Roaming\\Python\\Python39\\site-packages\\sklearn\\base.py:450: UserWarning: X does not have valid feature names, but KNeighborsClassifier was fitted with feature names\n",
      "  warnings.warn(\n",
      "C:\\Users\\smhrd\\AppData\\Local\\Temp\\ipykernel_6176\\3034425392.py:75: FutureWarning: The frame.append method is deprecated and will be removed from pandas in a future version. Use pandas.concat instead.\n",
      "  df = df.append([globals()[f'list']])\n",
      "C:\\Users\\smhrd\\AppData\\Roaming\\Python\\Python39\\site-packages\\sklearn\\base.py:450: UserWarning: X does not have valid feature names, but KNeighborsClassifier was fitted with feature names\n",
      "  warnings.warn(\n",
      "C:\\Users\\smhrd\\AppData\\Local\\Temp\\ipykernel_6176\\3034425392.py:75: FutureWarning: The frame.append method is deprecated and will be removed from pandas in a future version. Use pandas.concat instead.\n",
      "  df = df.append([globals()[f'list']])\n"
     ]
    },
    {
     "name": "stdout",
     "output_type": "stream",
     "text": [
      "(154.01753873449906, 143.47097904705018, -27.5)\n",
      "[[0. 0. 1. 0.]]\n",
      "(157.73981700662515, 143.01736731334665, -26.0)\n",
      "[[0. 0. 1. 0.]]\n",
      "(158.62767239171427, 141.62338494944336, -26.5)\n",
      "[[0. 0. 1. 0.]]\n",
      "(161.4564836992539, 143.08881931888456, -26.0)\n"
     ]
    },
    {
     "name": "stderr",
     "output_type": "stream",
     "text": [
      "C:\\Users\\smhrd\\AppData\\Roaming\\Python\\Python39\\site-packages\\sklearn\\base.py:450: UserWarning: X does not have valid feature names, but KNeighborsClassifier was fitted with feature names\n",
      "  warnings.warn(\n",
      "C:\\Users\\smhrd\\AppData\\Local\\Temp\\ipykernel_6176\\3034425392.py:75: FutureWarning: The frame.append method is deprecated and will be removed from pandas in a future version. Use pandas.concat instead.\n",
      "  df = df.append([globals()[f'list']])\n",
      "C:\\Users\\smhrd\\AppData\\Roaming\\Python\\Python39\\site-packages\\sklearn\\base.py:450: UserWarning: X does not have valid feature names, but KNeighborsClassifier was fitted with feature names\n",
      "  warnings.warn(\n",
      "C:\\Users\\smhrd\\AppData\\Local\\Temp\\ipykernel_6176\\3034425392.py:75: FutureWarning: The frame.append method is deprecated and will be removed from pandas in a future version. Use pandas.concat instead.\n",
      "  df = df.append([globals()[f'list']])\n",
      "C:\\Users\\smhrd\\AppData\\Roaming\\Python\\Python39\\site-packages\\sklearn\\base.py:450: UserWarning: X does not have valid feature names, but KNeighborsClassifier was fitted with feature names\n",
      "  warnings.warn(\n",
      "C:\\Users\\smhrd\\AppData\\Local\\Temp\\ipykernel_6176\\3034425392.py:75: FutureWarning: The frame.append method is deprecated and will be removed from pandas in a future version. Use pandas.concat instead.\n",
      "  df = df.append([globals()[f'list']])\n",
      "C:\\Users\\smhrd\\AppData\\Roaming\\Python\\Python39\\site-packages\\sklearn\\base.py:450: UserWarning: X does not have valid feature names, but KNeighborsClassifier was fitted with feature names\n",
      "  warnings.warn(\n"
     ]
    },
    {
     "name": "stdout",
     "output_type": "stream",
     "text": [
      "[[0. 0. 1. 0.]]\n",
      "(164.10582787565534, 142.24434826093847, -25.0)\n",
      "[[0. 0. 1. 0.]]\n",
      "(164.63940486260194, 142.29561448602144, -22.5)\n",
      "[[0. 0. 1. 0.]]\n",
      "(165.42447960958435, 143.50052211145223, -23.0)\n",
      "[[0. 0. 1. 0.]]\n"
     ]
    },
    {
     "name": "stderr",
     "output_type": "stream",
     "text": [
      "C:\\Users\\smhrd\\AppData\\Local\\Temp\\ipykernel_6176\\3034425392.py:75: FutureWarning: The frame.append method is deprecated and will be removed from pandas in a future version. Use pandas.concat instead.\n",
      "  df = df.append([globals()[f'list']])\n",
      "C:\\Users\\smhrd\\AppData\\Roaming\\Python\\Python39\\site-packages\\sklearn\\base.py:450: UserWarning: X does not have valid feature names, but KNeighborsClassifier was fitted with feature names\n",
      "  warnings.warn(\n",
      "C:\\Users\\smhrd\\AppData\\Local\\Temp\\ipykernel_6176\\3034425392.py:75: FutureWarning: The frame.append method is deprecated and will be removed from pandas in a future version. Use pandas.concat instead.\n",
      "  df = df.append([globals()[f'list']])\n",
      "C:\\Users\\smhrd\\AppData\\Roaming\\Python\\Python39\\site-packages\\sklearn\\base.py:450: UserWarning: X does not have valid feature names, but KNeighborsClassifier was fitted with feature names\n",
      "  warnings.warn(\n",
      "C:\\Users\\smhrd\\AppData\\Local\\Temp\\ipykernel_6176\\3034425392.py:75: FutureWarning: The frame.append method is deprecated and will be removed from pandas in a future version. Use pandas.concat instead.\n",
      "  df = df.append([globals()[f'list']])\n",
      "C:\\Users\\smhrd\\AppData\\Roaming\\Python\\Python39\\site-packages\\sklearn\\base.py:450: UserWarning: X does not have valid feature names, but KNeighborsClassifier was fitted with feature names\n",
      "  warnings.warn(\n",
      "C:\\Users\\smhrd\\AppData\\Local\\Temp\\ipykernel_6176\\3034425392.py:75: FutureWarning: The frame.append method is deprecated and will be removed from pandas in a future version. Use pandas.concat instead.\n",
      "  df = df.append([globals()[f'list']])\n",
      "C:\\Users\\smhrd\\AppData\\Roaming\\Python\\Python39\\site-packages\\sklearn\\base.py:450: UserWarning: X does not have valid feature names, but KNeighborsClassifier was fitted with feature names\n",
      "  warnings.warn(\n"
     ]
    },
    {
     "name": "stdout",
     "output_type": "stream",
     "text": [
      "(163.42004754052857, 142.59490888215848, -25.5)\n",
      "[[0. 0. 1. 0.]]\n",
      "(161.0092315888361, 143.6921167537014, -26.0)\n",
      "[[0. 0. 1. 0.]]\n",
      "(162.5893522474736, 143.84744767352927, -27.5)\n",
      "[[0. 0. 1. 0.]]\n",
      "(164.81617566057457, 142.74388524514347, -28.0)\n",
      "[[0. 0. 1. 0.]]\n"
     ]
    },
    {
     "name": "stderr",
     "output_type": "stream",
     "text": [
      "C:\\Users\\smhrd\\AppData\\Local\\Temp\\ipykernel_6176\\3034425392.py:75: FutureWarning: The frame.append method is deprecated and will be removed from pandas in a future version. Use pandas.concat instead.\n",
      "  df = df.append([globals()[f'list']])\n",
      "C:\\Users\\smhrd\\AppData\\Roaming\\Python\\Python39\\site-packages\\sklearn\\base.py:450: UserWarning: X does not have valid feature names, but KNeighborsClassifier was fitted with feature names\n",
      "  warnings.warn(\n",
      "C:\\Users\\smhrd\\AppData\\Local\\Temp\\ipykernel_6176\\3034425392.py:75: FutureWarning: The frame.append method is deprecated and will be removed from pandas in a future version. Use pandas.concat instead.\n",
      "  df = df.append([globals()[f'list']])\n",
      "C:\\Users\\smhrd\\AppData\\Roaming\\Python\\Python39\\site-packages\\sklearn\\base.py:450: UserWarning: X does not have valid feature names, but KNeighborsClassifier was fitted with feature names\n",
      "  warnings.warn(\n",
      "C:\\Users\\smhrd\\AppData\\Local\\Temp\\ipykernel_6176\\3034425392.py:75: FutureWarning: The frame.append method is deprecated and will be removed from pandas in a future version. Use pandas.concat instead.\n",
      "  df = df.append([globals()[f'list']])\n",
      "C:\\Users\\smhrd\\AppData\\Roaming\\Python\\Python39\\site-packages\\sklearn\\base.py:450: UserWarning: X does not have valid feature names, but KNeighborsClassifier was fitted with feature names\n",
      "  warnings.warn(\n"
     ]
    },
    {
     "name": "stdout",
     "output_type": "stream",
     "text": [
      "(165.61792984519874, 142.78987209619646, -31.5)\n",
      "[[0. 0. 1. 0.]]\n",
      "(164.96902534160074, 142.2878105480469, -33.0)\n",
      "[[0. 0. 1. 0.]]\n",
      "(163.9532541484652, 142.03015355798826, -34.0)\n",
      "[[0. 0. 1. 0.]]\n"
     ]
    },
    {
     "name": "stderr",
     "output_type": "stream",
     "text": [
      "C:\\Users\\smhrd\\AppData\\Local\\Temp\\ipykernel_6176\\3034425392.py:75: FutureWarning: The frame.append method is deprecated and will be removed from pandas in a future version. Use pandas.concat instead.\n",
      "  df = df.append([globals()[f'list']])\n",
      "C:\\Users\\smhrd\\AppData\\Roaming\\Python\\Python39\\site-packages\\sklearn\\base.py:450: UserWarning: X does not have valid feature names, but KNeighborsClassifier was fitted with feature names\n",
      "  warnings.warn(\n",
      "C:\\Users\\smhrd\\AppData\\Local\\Temp\\ipykernel_6176\\3034425392.py:75: FutureWarning: The frame.append method is deprecated and will be removed from pandas in a future version. Use pandas.concat instead.\n",
      "  df = df.append([globals()[f'list']])\n",
      "C:\\Users\\smhrd\\AppData\\Roaming\\Python\\Python39\\site-packages\\sklearn\\base.py:450: UserWarning: X does not have valid feature names, but KNeighborsClassifier was fitted with feature names\n",
      "  warnings.warn(\n",
      "C:\\Users\\smhrd\\AppData\\Local\\Temp\\ipykernel_6176\\3034425392.py:75: FutureWarning: The frame.append method is deprecated and will be removed from pandas in a future version. Use pandas.concat instead.\n",
      "  df = df.append([globals()[f'list']])\n",
      "C:\\Users\\smhrd\\AppData\\Roaming\\Python\\Python39\\site-packages\\sklearn\\base.py:450: UserWarning: X does not have valid feature names, but KNeighborsClassifier was fitted with feature names\n",
      "  warnings.warn(\n",
      "C:\\Users\\smhrd\\AppData\\Local\\Temp\\ipykernel_6176\\3034425392.py:75: FutureWarning: The frame.append method is deprecated and will be removed from pandas in a future version. Use pandas.concat instead.\n",
      "  df = df.append([globals()[f'list']])\n",
      "C:\\Users\\smhrd\\AppData\\Roaming\\Python\\Python39\\site-packages\\sklearn\\base.py:450: UserWarning: X does not have valid feature names, but KNeighborsClassifier was fitted with feature names\n",
      "  warnings.warn(\n"
     ]
    },
    {
     "name": "stdout",
     "output_type": "stream",
     "text": [
      "(167.09088382015608, 143.0380226064122, -32.0)\n",
      "[[0. 0. 1. 0.]]\n",
      "(167.33944752786925, 142.56858618680593, -32.5)\n",
      "[[0. 0. 1. 0.]]\n",
      "(164.5830945318624, 142.3755541980797, -32.5)\n",
      "[[0. 0. 1. 0.]]\n",
      "(163.04674447128724, 142.9595797043221, -30.5)\n",
      "[[0. 0. 1. 0.]]\n"
     ]
    },
    {
     "name": "stderr",
     "output_type": "stream",
     "text": [
      "C:\\Users\\smhrd\\AppData\\Local\\Temp\\ipykernel_6176\\3034425392.py:75: FutureWarning: The frame.append method is deprecated and will be removed from pandas in a future version. Use pandas.concat instead.\n",
      "  df = df.append([globals()[f'list']])\n",
      "C:\\Users\\smhrd\\AppData\\Roaming\\Python\\Python39\\site-packages\\sklearn\\base.py:450: UserWarning: X does not have valid feature names, but KNeighborsClassifier was fitted with feature names\n",
      "  warnings.warn(\n",
      "C:\\Users\\smhrd\\AppData\\Local\\Temp\\ipykernel_6176\\3034425392.py:75: FutureWarning: The frame.append method is deprecated and will be removed from pandas in a future version. Use pandas.concat instead.\n",
      "  df = df.append([globals()[f'list']])\n",
      "C:\\Users\\smhrd\\AppData\\Roaming\\Python\\Python39\\site-packages\\sklearn\\base.py:450: UserWarning: X does not have valid feature names, but KNeighborsClassifier was fitted with feature names\n",
      "  warnings.warn(\n",
      "C:\\Users\\smhrd\\AppData\\Local\\Temp\\ipykernel_6176\\3034425392.py:75: FutureWarning: The frame.append method is deprecated and will be removed from pandas in a future version. Use pandas.concat instead.\n",
      "  df = df.append([globals()[f'list']])\n",
      "C:\\Users\\smhrd\\AppData\\Roaming\\Python\\Python39\\site-packages\\sklearn\\base.py:450: UserWarning: X does not have valid feature names, but KNeighborsClassifier was fitted with feature names\n",
      "  warnings.warn(\n"
     ]
    },
    {
     "name": "stdout",
     "output_type": "stream",
     "text": [
      "(164.49747514660902, 144.32872916888095, -27.0)\n",
      "[[0. 0. 1. 0.]]\n",
      "(164.8488350874868, 143.99665419074185, -30.5)\n",
      "[[0. 0. 1. 0.]]\n",
      "(166.02420529795663, 142.39850247956863, -30.0)\n",
      "[[0. 0. 1. 0.]]\n"
     ]
    },
    {
     "name": "stderr",
     "output_type": "stream",
     "text": [
      "C:\\Users\\smhrd\\AppData\\Local\\Temp\\ipykernel_6176\\3034425392.py:75: FutureWarning: The frame.append method is deprecated and will be removed from pandas in a future version. Use pandas.concat instead.\n",
      "  df = df.append([globals()[f'list']])\n",
      "C:\\Users\\smhrd\\AppData\\Roaming\\Python\\Python39\\site-packages\\sklearn\\base.py:450: UserWarning: X does not have valid feature names, but KNeighborsClassifier was fitted with feature names\n",
      "  warnings.warn(\n",
      "C:\\Users\\smhrd\\AppData\\Local\\Temp\\ipykernel_6176\\3034425392.py:75: FutureWarning: The frame.append method is deprecated and will be removed from pandas in a future version. Use pandas.concat instead.\n",
      "  df = df.append([globals()[f'list']])\n",
      "C:\\Users\\smhrd\\AppData\\Roaming\\Python\\Python39\\site-packages\\sklearn\\base.py:450: UserWarning: X does not have valid feature names, but KNeighborsClassifier was fitted with feature names\n",
      "  warnings.warn(\n",
      "C:\\Users\\smhrd\\AppData\\Local\\Temp\\ipykernel_6176\\3034425392.py:75: FutureWarning: The frame.append method is deprecated and will be removed from pandas in a future version. Use pandas.concat instead.\n",
      "  df = df.append([globals()[f'list']])\n",
      "C:\\Users\\smhrd\\AppData\\Roaming\\Python\\Python39\\site-packages\\sklearn\\base.py:450: UserWarning: X does not have valid feature names, but KNeighborsClassifier was fitted with feature names\n",
      "  warnings.warn(\n",
      "C:\\Users\\smhrd\\AppData\\Local\\Temp\\ipykernel_6176\\3034425392.py:75: FutureWarning: The frame.append method is deprecated and will be removed from pandas in a future version. Use pandas.concat instead.\n",
      "  df = df.append([globals()[f'list']])\n",
      "C:\\Users\\smhrd\\AppData\\Roaming\\Python\\Python39\\site-packages\\sklearn\\base.py:450: UserWarning: X does not have valid feature names, but KNeighborsClassifier was fitted with feature names\n",
      "  warnings.warn(\n"
     ]
    },
    {
     "name": "stdout",
     "output_type": "stream",
     "text": [
      "(164.67466993278384, 142.87470057945393, -31.0)\n",
      "[[0. 0. 1. 0.]]\n",
      "(164.41135243673577, 142.73921141131262, -29.0)\n",
      "[[0. 0. 1. 0.]]\n",
      "(162.50603850871005, 141.3579718303047, -31.5)\n",
      "[[0. 0. 1. 0.]]\n",
      "(163.60485021992852, 142.165032931145, -32.0)\n",
      "[[0. 0. 1. 0.]]\n"
     ]
    },
    {
     "name": "stderr",
     "output_type": "stream",
     "text": [
      "C:\\Users\\smhrd\\AppData\\Local\\Temp\\ipykernel_6176\\3034425392.py:75: FutureWarning: The frame.append method is deprecated and will be removed from pandas in a future version. Use pandas.concat instead.\n",
      "  df = df.append([globals()[f'list']])\n",
      "C:\\Users\\smhrd\\AppData\\Roaming\\Python\\Python39\\site-packages\\sklearn\\base.py:450: UserWarning: X does not have valid feature names, but KNeighborsClassifier was fitted with feature names\n",
      "  warnings.warn(\n",
      "C:\\Users\\smhrd\\AppData\\Local\\Temp\\ipykernel_6176\\3034425392.py:75: FutureWarning: The frame.append method is deprecated and will be removed from pandas in a future version. Use pandas.concat instead.\n",
      "  df = df.append([globals()[f'list']])\n",
      "C:\\Users\\smhrd\\AppData\\Roaming\\Python\\Python39\\site-packages\\sklearn\\base.py:450: UserWarning: X does not have valid feature names, but KNeighborsClassifier was fitted with feature names\n",
      "  warnings.warn(\n",
      "C:\\Users\\smhrd\\AppData\\Local\\Temp\\ipykernel_6176\\3034425392.py:75: FutureWarning: The frame.append method is deprecated and will be removed from pandas in a future version. Use pandas.concat instead.\n",
      "  df = df.append([globals()[f'list']])\n",
      "C:\\Users\\smhrd\\AppData\\Roaming\\Python\\Python39\\site-packages\\sklearn\\base.py:450: UserWarning: X does not have valid feature names, but KNeighborsClassifier was fitted with feature names\n",
      "  warnings.warn(\n",
      "C:\\Users\\smhrd\\AppData\\Local\\Temp\\ipykernel_6176\\3034425392.py:75: FutureWarning: The frame.append method is deprecated and will be removed from pandas in a future version. Use pandas.concat instead.\n",
      "  df = df.append([globals()[f'list']])\n",
      "C:\\Users\\smhrd\\AppData\\Roaming\\Python\\Python39\\site-packages\\sklearn\\base.py:450: UserWarning: X does not have valid feature names, but KNeighborsClassifier was fitted with feature names\n",
      "  warnings.warn(\n"
     ]
    },
    {
     "name": "stdout",
     "output_type": "stream",
     "text": [
      "(162.53953266344456, 140.26303091466963, -33.5)\n",
      "[[0. 0. 1. 0.]]\n",
      "(163.4076453922485, 141.1051184339457, -31.0)\n",
      "[[0. 0. 1. 0.]]\n",
      "(161.09984762102965, 141.7712369914204, -29.0)\n",
      "[[0. 0. 1. 0.]]\n",
      "(161.21215598572624, 142.41685742248865, -31.0)\n",
      "[[0. 0. 1. 0.]]\n"
     ]
    },
    {
     "name": "stderr",
     "output_type": "stream",
     "text": [
      "C:\\Users\\smhrd\\AppData\\Local\\Temp\\ipykernel_6176\\3034425392.py:75: FutureWarning: The frame.append method is deprecated and will be removed from pandas in a future version. Use pandas.concat instead.\n",
      "  df = df.append([globals()[f'list']])\n",
      "C:\\Users\\smhrd\\AppData\\Roaming\\Python\\Python39\\site-packages\\sklearn\\base.py:450: UserWarning: X does not have valid feature names, but KNeighborsClassifier was fitted with feature names\n",
      "  warnings.warn(\n",
      "C:\\Users\\smhrd\\AppData\\Local\\Temp\\ipykernel_6176\\3034425392.py:75: FutureWarning: The frame.append method is deprecated and will be removed from pandas in a future version. Use pandas.concat instead.\n",
      "  df = df.append([globals()[f'list']])\n",
      "C:\\Users\\smhrd\\AppData\\Roaming\\Python\\Python39\\site-packages\\sklearn\\base.py:450: UserWarning: X does not have valid feature names, but KNeighborsClassifier was fitted with feature names\n",
      "  warnings.warn(\n",
      "C:\\Users\\smhrd\\AppData\\Local\\Temp\\ipykernel_6176\\3034425392.py:75: FutureWarning: The frame.append method is deprecated and will be removed from pandas in a future version. Use pandas.concat instead.\n",
      "  df = df.append([globals()[f'list']])\n",
      "C:\\Users\\smhrd\\AppData\\Roaming\\Python\\Python39\\site-packages\\sklearn\\base.py:450: UserWarning: X does not have valid feature names, but KNeighborsClassifier was fitted with feature names\n",
      "  warnings.warn(\n"
     ]
    },
    {
     "name": "stdout",
     "output_type": "stream",
     "text": [
      "(162.282296526468, 141.8166684189817, -30.0)\n",
      "[[0. 0. 1. 0.]]\n",
      "(161.916893751116, 142.96402854464623, -28.5)\n",
      "[[0. 0. 1. 0.]]\n",
      "(162.37912080479967, 142.47898563399505, -29.0)\n",
      "[[0. 0. 1. 0.]]\n"
     ]
    },
    {
     "name": "stderr",
     "output_type": "stream",
     "text": [
      "C:\\Users\\smhrd\\AppData\\Local\\Temp\\ipykernel_6176\\3034425392.py:75: FutureWarning: The frame.append method is deprecated and will be removed from pandas in a future version. Use pandas.concat instead.\n",
      "  df = df.append([globals()[f'list']])\n",
      "C:\\Users\\smhrd\\AppData\\Roaming\\Python\\Python39\\site-packages\\sklearn\\base.py:450: UserWarning: X does not have valid feature names, but KNeighborsClassifier was fitted with feature names\n",
      "  warnings.warn(\n",
      "C:\\Users\\smhrd\\AppData\\Local\\Temp\\ipykernel_6176\\3034425392.py:75: FutureWarning: The frame.append method is deprecated and will be removed from pandas in a future version. Use pandas.concat instead.\n",
      "  df = df.append([globals()[f'list']])\n",
      "C:\\Users\\smhrd\\AppData\\Roaming\\Python\\Python39\\site-packages\\sklearn\\base.py:450: UserWarning: X does not have valid feature names, but KNeighborsClassifier was fitted with feature names\n",
      "  warnings.warn(\n",
      "C:\\Users\\smhrd\\AppData\\Local\\Temp\\ipykernel_6176\\3034425392.py:75: FutureWarning: The frame.append method is deprecated and will be removed from pandas in a future version. Use pandas.concat instead.\n",
      "  df = df.append([globals()[f'list']])\n",
      "C:\\Users\\smhrd\\AppData\\Roaming\\Python\\Python39\\site-packages\\sklearn\\base.py:450: UserWarning: X does not have valid feature names, but KNeighborsClassifier was fitted with feature names\n",
      "  warnings.warn(\n",
      "C:\\Users\\smhrd\\AppData\\Local\\Temp\\ipykernel_6176\\3034425392.py:75: FutureWarning: The frame.append method is deprecated and will be removed from pandas in a future version. Use pandas.concat instead.\n",
      "  df = df.append([globals()[f'list']])\n",
      "C:\\Users\\smhrd\\AppData\\Roaming\\Python\\Python39\\site-packages\\sklearn\\base.py:450: UserWarning: X does not have valid feature names, but KNeighborsClassifier was fitted with feature names\n",
      "  warnings.warn(\n"
     ]
    },
    {
     "name": "stdout",
     "output_type": "stream",
     "text": [
      "(163.43497897412578, 143.05895206087513, -27.0)\n",
      "[[0. 0. 1. 0.]]\n",
      "(163.43391182573384, 142.91906986167692, -25.5)\n",
      "[[0. 0. 1. 0.]]\n",
      "(166.71932233488795, 142.82472925732608, -28.0)\n",
      "[[0. 0. 1. 0.]]\n",
      "(162.69950360692226, 143.2856153348233, -27.0)\n",
      "[[0. 0. 1. 0.]]\n"
     ]
    },
    {
     "name": "stderr",
     "output_type": "stream",
     "text": [
      "C:\\Users\\smhrd\\AppData\\Local\\Temp\\ipykernel_6176\\3034425392.py:75: FutureWarning: The frame.append method is deprecated and will be removed from pandas in a future version. Use pandas.concat instead.\n",
      "  df = df.append([globals()[f'list']])\n",
      "C:\\Users\\smhrd\\AppData\\Roaming\\Python\\Python39\\site-packages\\sklearn\\base.py:450: UserWarning: X does not have valid feature names, but KNeighborsClassifier was fitted with feature names\n",
      "  warnings.warn(\n",
      "C:\\Users\\smhrd\\AppData\\Local\\Temp\\ipykernel_6176\\3034425392.py:75: FutureWarning: The frame.append method is deprecated and will be removed from pandas in a future version. Use pandas.concat instead.\n",
      "  df = df.append([globals()[f'list']])\n",
      "C:\\Users\\smhrd\\AppData\\Roaming\\Python\\Python39\\site-packages\\sklearn\\base.py:450: UserWarning: X does not have valid feature names, but KNeighborsClassifier was fitted with feature names\n",
      "  warnings.warn(\n",
      "C:\\Users\\smhrd\\AppData\\Local\\Temp\\ipykernel_6176\\3034425392.py:75: FutureWarning: The frame.append method is deprecated and will be removed from pandas in a future version. Use pandas.concat instead.\n",
      "  df = df.append([globals()[f'list']])\n",
      "C:\\Users\\smhrd\\AppData\\Roaming\\Python\\Python39\\site-packages\\sklearn\\base.py:450: UserWarning: X does not have valid feature names, but KNeighborsClassifier was fitted with feature names\n",
      "  warnings.warn(\n",
      "C:\\Users\\smhrd\\AppData\\Local\\Temp\\ipykernel_6176\\3034425392.py:75: FutureWarning: The frame.append method is deprecated and will be removed from pandas in a future version. Use pandas.concat instead.\n",
      "  df = df.append([globals()[f'list']])\n",
      "C:\\Users\\smhrd\\AppData\\Roaming\\Python\\Python39\\site-packages\\sklearn\\base.py:450: UserWarning: X does not have valid feature names, but KNeighborsClassifier was fitted with feature names\n",
      "  warnings.warn(\n"
     ]
    },
    {
     "name": "stdout",
     "output_type": "stream",
     "text": [
      "(164.71116235502552, 142.156586862179, -29.0)\n",
      "[[0. 0. 1. 0.]]\n",
      "(161.4215338622878, 142.458878629089, -29.0)\n",
      "[[0. 0. 1. 0.]]\n",
      "(161.8739863986043, 143.8802888418102, -25.0)\n",
      "[[0. 0. 1. 0.]]\n",
      "(162.20293944018744, 143.29419212930358, -27.0)\n",
      "[[0. 0. 1. 0.]]\n"
     ]
    },
    {
     "name": "stderr",
     "output_type": "stream",
     "text": [
      "C:\\Users\\smhrd\\AppData\\Local\\Temp\\ipykernel_6176\\3034425392.py:75: FutureWarning: The frame.append method is deprecated and will be removed from pandas in a future version. Use pandas.concat instead.\n",
      "  df = df.append([globals()[f'list']])\n",
      "C:\\Users\\smhrd\\AppData\\Roaming\\Python\\Python39\\site-packages\\sklearn\\base.py:450: UserWarning: X does not have valid feature names, but KNeighborsClassifier was fitted with feature names\n",
      "  warnings.warn(\n",
      "C:\\Users\\smhrd\\AppData\\Local\\Temp\\ipykernel_6176\\3034425392.py:75: FutureWarning: The frame.append method is deprecated and will be removed from pandas in a future version. Use pandas.concat instead.\n",
      "  df = df.append([globals()[f'list']])\n",
      "C:\\Users\\smhrd\\AppData\\Roaming\\Python\\Python39\\site-packages\\sklearn\\base.py:450: UserWarning: X does not have valid feature names, but KNeighborsClassifier was fitted with feature names\n",
      "  warnings.warn(\n",
      "C:\\Users\\smhrd\\AppData\\Local\\Temp\\ipykernel_6176\\3034425392.py:75: FutureWarning: The frame.append method is deprecated and will be removed from pandas in a future version. Use pandas.concat instead.\n",
      "  df = df.append([globals()[f'list']])\n",
      "C:\\Users\\smhrd\\AppData\\Roaming\\Python\\Python39\\site-packages\\sklearn\\base.py:450: UserWarning: X does not have valid feature names, but KNeighborsClassifier was fitted with feature names\n",
      "  warnings.warn(\n"
     ]
    },
    {
     "name": "stdout",
     "output_type": "stream",
     "text": [
      "(161.8105944590668, 143.54545841853675, -24.0)\n",
      "[[0. 0. 1. 0.]]\n",
      "(162.1867733152314, 143.76060491019027, -24.0)\n",
      "[[0. 0. 1. 0.]]\n",
      "(162.96591691843437, 142.92308974357638, -25.5)\n",
      "[[0. 0. 1. 0.]]\n"
     ]
    },
    {
     "name": "stderr",
     "output_type": "stream",
     "text": [
      "C:\\Users\\smhrd\\AppData\\Local\\Temp\\ipykernel_6176\\3034425392.py:75: FutureWarning: The frame.append method is deprecated and will be removed from pandas in a future version. Use pandas.concat instead.\n",
      "  df = df.append([globals()[f'list']])\n",
      "C:\\Users\\smhrd\\AppData\\Roaming\\Python\\Python39\\site-packages\\sklearn\\base.py:450: UserWarning: X does not have valid feature names, but KNeighborsClassifier was fitted with feature names\n",
      "  warnings.warn(\n",
      "C:\\Users\\smhrd\\AppData\\Local\\Temp\\ipykernel_6176\\3034425392.py:75: FutureWarning: The frame.append method is deprecated and will be removed from pandas in a future version. Use pandas.concat instead.\n",
      "  df = df.append([globals()[f'list']])\n",
      "C:\\Users\\smhrd\\AppData\\Roaming\\Python\\Python39\\site-packages\\sklearn\\base.py:450: UserWarning: X does not have valid feature names, but KNeighborsClassifier was fitted with feature names\n",
      "  warnings.warn(\n",
      "C:\\Users\\smhrd\\AppData\\Local\\Temp\\ipykernel_6176\\3034425392.py:75: FutureWarning: The frame.append method is deprecated and will be removed from pandas in a future version. Use pandas.concat instead.\n",
      "  df = df.append([globals()[f'list']])\n",
      "C:\\Users\\smhrd\\AppData\\Roaming\\Python\\Python39\\site-packages\\sklearn\\base.py:450: UserWarning: X does not have valid feature names, but KNeighborsClassifier was fitted with feature names\n",
      "  warnings.warn(\n",
      "C:\\Users\\smhrd\\AppData\\Local\\Temp\\ipykernel_6176\\3034425392.py:75: FutureWarning: The frame.append method is deprecated and will be removed from pandas in a future version. Use pandas.concat instead.\n",
      "  df = df.append([globals()[f'list']])\n",
      "C:\\Users\\smhrd\\AppData\\Roaming\\Python\\Python39\\site-packages\\sklearn\\base.py:450: UserWarning: X does not have valid feature names, but KNeighborsClassifier was fitted with feature names\n",
      "  warnings.warn(\n"
     ]
    },
    {
     "name": "stdout",
     "output_type": "stream",
     "text": [
      "(162.9035508091759, 144.45884025633978, -25.0)\n",
      "[[0. 0. 1. 0.]]\n",
      "(162.1530145917072, 143.9787620267202, -22.5)\n",
      "[[0. 0. 1. 0.]]\n",
      "(162.65145065356913, 142.47624415087904, -30.0)\n",
      "[[0. 0. 1. 0.]]\n",
      "(162.00124047673606, 142.3843092166201, -29.5)\n",
      "[[0. 0. 1. 0.]]\n"
     ]
    },
    {
     "name": "stderr",
     "output_type": "stream",
     "text": [
      "C:\\Users\\smhrd\\AppData\\Local\\Temp\\ipykernel_6176\\3034425392.py:75: FutureWarning: The frame.append method is deprecated and will be removed from pandas in a future version. Use pandas.concat instead.\n",
      "  df = df.append([globals()[f'list']])\n",
      "C:\\Users\\smhrd\\AppData\\Roaming\\Python\\Python39\\site-packages\\sklearn\\base.py:450: UserWarning: X does not have valid feature names, but KNeighborsClassifier was fitted with feature names\n",
      "  warnings.warn(\n",
      "C:\\Users\\smhrd\\AppData\\Local\\Temp\\ipykernel_6176\\3034425392.py:75: FutureWarning: The frame.append method is deprecated and will be removed from pandas in a future version. Use pandas.concat instead.\n",
      "  df = df.append([globals()[f'list']])\n",
      "C:\\Users\\smhrd\\AppData\\Roaming\\Python\\Python39\\site-packages\\sklearn\\base.py:450: UserWarning: X does not have valid feature names, but KNeighborsClassifier was fitted with feature names\n",
      "  warnings.warn(\n",
      "C:\\Users\\smhrd\\AppData\\Local\\Temp\\ipykernel_6176\\3034425392.py:75: FutureWarning: The frame.append method is deprecated and will be removed from pandas in a future version. Use pandas.concat instead.\n",
      "  df = df.append([globals()[f'list']])\n",
      "C:\\Users\\smhrd\\AppData\\Roaming\\Python\\Python39\\site-packages\\sklearn\\base.py:450: UserWarning: X does not have valid feature names, but KNeighborsClassifier was fitted with feature names\n",
      "  warnings.warn(\n"
     ]
    },
    {
     "name": "stdout",
     "output_type": "stream",
     "text": [
      "(162.22282640375673, 143.02335750959537, -28.5)\n",
      "[[0. 0. 1. 0.]]\n",
      "(161.17853961606002, 141.62446274197237, -27.5)\n",
      "[[0. 0. 1. 0.]]\n",
      "(161.24746712989815, 143.00097839495945, -26.5)\n",
      "[[0. 0. 1. 0.]]\n"
     ]
    },
    {
     "name": "stderr",
     "output_type": "stream",
     "text": [
      "C:\\Users\\smhrd\\AppData\\Local\\Temp\\ipykernel_6176\\3034425392.py:75: FutureWarning: The frame.append method is deprecated and will be removed from pandas in a future version. Use pandas.concat instead.\n",
      "  df = df.append([globals()[f'list']])\n",
      "C:\\Users\\smhrd\\AppData\\Roaming\\Python\\Python39\\site-packages\\sklearn\\base.py:450: UserWarning: X does not have valid feature names, but KNeighborsClassifier was fitted with feature names\n",
      "  warnings.warn(\n",
      "C:\\Users\\smhrd\\AppData\\Local\\Temp\\ipykernel_6176\\3034425392.py:75: FutureWarning: The frame.append method is deprecated and will be removed from pandas in a future version. Use pandas.concat instead.\n",
      "  df = df.append([globals()[f'list']])\n",
      "C:\\Users\\smhrd\\AppData\\Roaming\\Python\\Python39\\site-packages\\sklearn\\base.py:450: UserWarning: X does not have valid feature names, but KNeighborsClassifier was fitted with feature names\n",
      "  warnings.warn(\n",
      "C:\\Users\\smhrd\\AppData\\Local\\Temp\\ipykernel_6176\\3034425392.py:75: FutureWarning: The frame.append method is deprecated and will be removed from pandas in a future version. Use pandas.concat instead.\n",
      "  df = df.append([globals()[f'list']])\n",
      "C:\\Users\\smhrd\\AppData\\Roaming\\Python\\Python39\\site-packages\\sklearn\\base.py:450: UserWarning: X does not have valid feature names, but KNeighborsClassifier was fitted with feature names\n",
      "  warnings.warn(\n"
     ]
    },
    {
     "name": "stdout",
     "output_type": "stream",
     "text": [
      "(167.8789370194806, 142.0833545742743, -31.0)\n",
      "[[0. 0. 1. 0.]]\n",
      "(163.25673406009093, 142.12713581919758, -27.5)\n",
      "[[0. 0. 1. 0.]]\n",
      "(161.57474838201537, 143.35282074583387, -24.0)\n",
      "[[0. 0. 1. 0.]]\n"
     ]
    },
    {
     "name": "stderr",
     "output_type": "stream",
     "text": [
      "C:\\Users\\smhrd\\AppData\\Local\\Temp\\ipykernel_6176\\3034425392.py:75: FutureWarning: The frame.append method is deprecated and will be removed from pandas in a future version. Use pandas.concat instead.\n",
      "  df = df.append([globals()[f'list']])\n",
      "C:\\Users\\smhrd\\AppData\\Roaming\\Python\\Python39\\site-packages\\sklearn\\base.py:450: UserWarning: X does not have valid feature names, but KNeighborsClassifier was fitted with feature names\n",
      "  warnings.warn(\n",
      "C:\\Users\\smhrd\\AppData\\Local\\Temp\\ipykernel_6176\\3034425392.py:75: FutureWarning: The frame.append method is deprecated and will be removed from pandas in a future version. Use pandas.concat instead.\n",
      "  df = df.append([globals()[f'list']])\n",
      "C:\\Users\\smhrd\\AppData\\Roaming\\Python\\Python39\\site-packages\\sklearn\\base.py:450: UserWarning: X does not have valid feature names, but KNeighborsClassifier was fitted with feature names\n",
      "  warnings.warn(\n",
      "C:\\Users\\smhrd\\AppData\\Local\\Temp\\ipykernel_6176\\3034425392.py:75: FutureWarning: The frame.append method is deprecated and will be removed from pandas in a future version. Use pandas.concat instead.\n",
      "  df = df.append([globals()[f'list']])\n",
      "C:\\Users\\smhrd\\AppData\\Roaming\\Python\\Python39\\site-packages\\sklearn\\base.py:450: UserWarning: X does not have valid feature names, but KNeighborsClassifier was fitted with feature names\n",
      "  warnings.warn(\n",
      "C:\\Users\\smhrd\\AppData\\Local\\Temp\\ipykernel_6176\\3034425392.py:75: FutureWarning: The frame.append method is deprecated and will be removed from pandas in a future version. Use pandas.concat instead.\n",
      "  df = df.append([globals()[f'list']])\n"
     ]
    },
    {
     "name": "stdout",
     "output_type": "stream",
     "text": [
      "(161.61020150619797, 143.5710566275518, -21.0)\n",
      "[[0. 0. 1. 0.]]\n",
      "(161.7336742787872, 143.90899410736077, -21.5)\n",
      "[[0. 0. 1. 0.]]\n",
      "(159.9676142452205, 143.06750684426748, -25.0)\n",
      "[[0. 0. 1. 0.]]\n",
      "(160.6365201566909, 143.42421881330276, -22.5)\n"
     ]
    },
    {
     "name": "stderr",
     "output_type": "stream",
     "text": [
      "C:\\Users\\smhrd\\AppData\\Roaming\\Python\\Python39\\site-packages\\sklearn\\base.py:450: UserWarning: X does not have valid feature names, but KNeighborsClassifier was fitted with feature names\n",
      "  warnings.warn(\n",
      "C:\\Users\\smhrd\\AppData\\Local\\Temp\\ipykernel_6176\\3034425392.py:75: FutureWarning: The frame.append method is deprecated and will be removed from pandas in a future version. Use pandas.concat instead.\n",
      "  df = df.append([globals()[f'list']])\n",
      "C:\\Users\\smhrd\\AppData\\Roaming\\Python\\Python39\\site-packages\\sklearn\\base.py:450: UserWarning: X does not have valid feature names, but KNeighborsClassifier was fitted with feature names\n",
      "  warnings.warn(\n",
      "C:\\Users\\smhrd\\AppData\\Local\\Temp\\ipykernel_6176\\3034425392.py:75: FutureWarning: The frame.append method is deprecated and will be removed from pandas in a future version. Use pandas.concat instead.\n",
      "  df = df.append([globals()[f'list']])\n",
      "C:\\Users\\smhrd\\AppData\\Roaming\\Python\\Python39\\site-packages\\sklearn\\base.py:450: UserWarning: X does not have valid feature names, but KNeighborsClassifier was fitted with feature names\n",
      "  warnings.warn(\n"
     ]
    },
    {
     "name": "stdout",
     "output_type": "stream",
     "text": [
      "[[0. 0. 1. 0.]]\n",
      "(159.30273163330025, 142.44171044667905, -23.5)\n",
      "[[0. 0. 1. 0.]]\n",
      "(159.53159419967935, 143.3351867014336, -24.0)\n",
      "[[0. 0. 1. 0.]]\n"
     ]
    },
    {
     "name": "stderr",
     "output_type": "stream",
     "text": [
      "C:\\Users\\smhrd\\AppData\\Local\\Temp\\ipykernel_6176\\3034425392.py:75: FutureWarning: The frame.append method is deprecated and will be removed from pandas in a future version. Use pandas.concat instead.\n",
      "  df = df.append([globals()[f'list']])\n",
      "C:\\Users\\smhrd\\AppData\\Roaming\\Python\\Python39\\site-packages\\sklearn\\base.py:450: UserWarning: X does not have valid feature names, but KNeighborsClassifier was fitted with feature names\n",
      "  warnings.warn(\n",
      "C:\\Users\\smhrd\\AppData\\Local\\Temp\\ipykernel_6176\\3034425392.py:75: FutureWarning: The frame.append method is deprecated and will be removed from pandas in a future version. Use pandas.concat instead.\n",
      "  df = df.append([globals()[f'list']])\n",
      "C:\\Users\\smhrd\\AppData\\Roaming\\Python\\Python39\\site-packages\\sklearn\\base.py:450: UserWarning: X does not have valid feature names, but KNeighborsClassifier was fitted with feature names\n",
      "  warnings.warn(\n",
      "C:\\Users\\smhrd\\AppData\\Local\\Temp\\ipykernel_6176\\3034425392.py:75: FutureWarning: The frame.append method is deprecated and will be removed from pandas in a future version. Use pandas.concat instead.\n",
      "  df = df.append([globals()[f'list']])\n",
      "C:\\Users\\smhrd\\AppData\\Roaming\\Python\\Python39\\site-packages\\sklearn\\base.py:450: UserWarning: X does not have valid feature names, but KNeighborsClassifier was fitted with feature names\n",
      "  warnings.warn(\n",
      "C:\\Users\\smhrd\\AppData\\Local\\Temp\\ipykernel_6176\\3034425392.py:75: FutureWarning: The frame.append method is deprecated and will be removed from pandas in a future version. Use pandas.concat instead.\n",
      "  df = df.append([globals()[f'list']])\n"
     ]
    },
    {
     "name": "stdout",
     "output_type": "stream",
     "text": [
      "(159.44337835832462, 143.66225116348653, -25.0)\n",
      "[[0. 0. 1. 0.]]\n",
      "(159.6418319237625, 141.6255662971722, -26.0)\n",
      "[[0. 0. 1. 0.]]\n",
      "(158.69052072657857, 142.37113467434878, -24.5)\n",
      "[[0. 0. 1. 0.]]\n",
      "(160.82184068020675, 144.35927186781834, -26.5)\n"
     ]
    },
    {
     "name": "stderr",
     "output_type": "stream",
     "text": [
      "C:\\Users\\smhrd\\AppData\\Roaming\\Python\\Python39\\site-packages\\sklearn\\base.py:450: UserWarning: X does not have valid feature names, but KNeighborsClassifier was fitted with feature names\n",
      "  warnings.warn(\n",
      "C:\\Users\\smhrd\\AppData\\Local\\Temp\\ipykernel_6176\\3034425392.py:75: FutureWarning: The frame.append method is deprecated and will be removed from pandas in a future version. Use pandas.concat instead.\n",
      "  df = df.append([globals()[f'list']])\n",
      "C:\\Users\\smhrd\\AppData\\Roaming\\Python\\Python39\\site-packages\\sklearn\\base.py:450: UserWarning: X does not have valid feature names, but KNeighborsClassifier was fitted with feature names\n",
      "  warnings.warn(\n",
      "C:\\Users\\smhrd\\AppData\\Local\\Temp\\ipykernel_6176\\3034425392.py:75: FutureWarning: The frame.append method is deprecated and will be removed from pandas in a future version. Use pandas.concat instead.\n",
      "  df = df.append([globals()[f'list']])\n",
      "C:\\Users\\smhrd\\AppData\\Roaming\\Python\\Python39\\site-packages\\sklearn\\base.py:450: UserWarning: X does not have valid feature names, but KNeighborsClassifier was fitted with feature names\n",
      "  warnings.warn(\n",
      "C:\\Users\\smhrd\\AppData\\Local\\Temp\\ipykernel_6176\\3034425392.py:75: FutureWarning: The frame.append method is deprecated and will be removed from pandas in a future version. Use pandas.concat instead.\n",
      "  df = df.append([globals()[f'list']])\n",
      "C:\\Users\\smhrd\\AppData\\Roaming\\Python\\Python39\\site-packages\\sklearn\\base.py:450: UserWarning: X does not have valid feature names, but KNeighborsClassifier was fitted with feature names\n",
      "  warnings.warn(\n"
     ]
    },
    {
     "name": "stdout",
     "output_type": "stream",
     "text": [
      "[[0. 0. 1. 0.]]\n",
      "(161.55661379244174, 143.00225491114813, -25.5)\n",
      "[[0. 0. 1. 0.]]\n",
      "(161.30326732613156, 141.6232119685164, -31.5)\n",
      "[[0. 0. 1. 0.]]\n",
      "(161.97172765469077, 142.60913115030078, -25.0)\n",
      "[[0. 0. 1. 0.]]\n"
     ]
    },
    {
     "name": "stderr",
     "output_type": "stream",
     "text": [
      "C:\\Users\\smhrd\\AppData\\Local\\Temp\\ipykernel_6176\\3034425392.py:75: FutureWarning: The frame.append method is deprecated and will be removed from pandas in a future version. Use pandas.concat instead.\n",
      "  df = df.append([globals()[f'list']])\n",
      "C:\\Users\\smhrd\\AppData\\Roaming\\Python\\Python39\\site-packages\\sklearn\\base.py:450: UserWarning: X does not have valid feature names, but KNeighborsClassifier was fitted with feature names\n",
      "  warnings.warn(\n",
      "C:\\Users\\smhrd\\AppData\\Local\\Temp\\ipykernel_6176\\3034425392.py:75: FutureWarning: The frame.append method is deprecated and will be removed from pandas in a future version. Use pandas.concat instead.\n",
      "  df = df.append([globals()[f'list']])\n",
      "C:\\Users\\smhrd\\AppData\\Roaming\\Python\\Python39\\site-packages\\sklearn\\base.py:450: UserWarning: X does not have valid feature names, but KNeighborsClassifier was fitted with feature names\n",
      "  warnings.warn(\n",
      "C:\\Users\\smhrd\\AppData\\Local\\Temp\\ipykernel_6176\\3034425392.py:75: FutureWarning: The frame.append method is deprecated and will be removed from pandas in a future version. Use pandas.concat instead.\n",
      "  df = df.append([globals()[f'list']])\n",
      "C:\\Users\\smhrd\\AppData\\Roaming\\Python\\Python39\\site-packages\\sklearn\\base.py:450: UserWarning: X does not have valid feature names, but KNeighborsClassifier was fitted with feature names\n",
      "  warnings.warn(\n"
     ]
    },
    {
     "name": "stdout",
     "output_type": "stream",
     "text": [
      "(160.97505917692376, 144.53080656350116, -23.5)\n",
      "[[0. 0. 1. 0.]]\n",
      "(160.53317868254658, 144.34460470747717, -21.0)\n",
      "[[0. 0. 1. 0.]]\n",
      "(163.5857349207425, 144.63340394519696, -23.5)\n",
      "[[0. 0. 1. 0.]]\n"
     ]
    },
    {
     "name": "stderr",
     "output_type": "stream",
     "text": [
      "C:\\Users\\smhrd\\AppData\\Local\\Temp\\ipykernel_6176\\3034425392.py:75: FutureWarning: The frame.append method is deprecated and will be removed from pandas in a future version. Use pandas.concat instead.\n",
      "  df = df.append([globals()[f'list']])\n",
      "C:\\Users\\smhrd\\AppData\\Roaming\\Python\\Python39\\site-packages\\sklearn\\base.py:450: UserWarning: X does not have valid feature names, but KNeighborsClassifier was fitted with feature names\n",
      "  warnings.warn(\n",
      "C:\\Users\\smhrd\\AppData\\Local\\Temp\\ipykernel_6176\\3034425392.py:75: FutureWarning: The frame.append method is deprecated and will be removed from pandas in a future version. Use pandas.concat instead.\n",
      "  df = df.append([globals()[f'list']])\n",
      "C:\\Users\\smhrd\\AppData\\Roaming\\Python\\Python39\\site-packages\\sklearn\\base.py:450: UserWarning: X does not have valid feature names, but KNeighborsClassifier was fitted with feature names\n",
      "  warnings.warn(\n",
      "C:\\Users\\smhrd\\AppData\\Local\\Temp\\ipykernel_6176\\3034425392.py:75: FutureWarning: The frame.append method is deprecated and will be removed from pandas in a future version. Use pandas.concat instead.\n",
      "  df = df.append([globals()[f'list']])\n",
      "C:\\Users\\smhrd\\AppData\\Roaming\\Python\\Python39\\site-packages\\sklearn\\base.py:450: UserWarning: X does not have valid feature names, but KNeighborsClassifier was fitted with feature names\n",
      "  warnings.warn(\n"
     ]
    },
    {
     "name": "stdout",
     "output_type": "stream",
     "text": [
      "(160.45357269864036, 143.10853542992203, -22.0)\n",
      "[[0. 0. 1. 0.]]\n",
      "(166.10377865841272, 144.84020293845137, -18.5)\n",
      "[[0. 0. 1. 0.]]\n",
      "(163.28896037109027, 143.53337672873195, -20.5)\n",
      "[[0. 0. 1. 0.]]\n"
     ]
    },
    {
     "name": "stderr",
     "output_type": "stream",
     "text": [
      "C:\\Users\\smhrd\\AppData\\Local\\Temp\\ipykernel_6176\\3034425392.py:75: FutureWarning: The frame.append method is deprecated and will be removed from pandas in a future version. Use pandas.concat instead.\n",
      "  df = df.append([globals()[f'list']])\n",
      "C:\\Users\\smhrd\\AppData\\Roaming\\Python\\Python39\\site-packages\\sklearn\\base.py:450: UserWarning: X does not have valid feature names, but KNeighborsClassifier was fitted with feature names\n",
      "  warnings.warn(\n",
      "C:\\Users\\smhrd\\AppData\\Local\\Temp\\ipykernel_6176\\3034425392.py:75: FutureWarning: The frame.append method is deprecated and will be removed from pandas in a future version. Use pandas.concat instead.\n",
      "  df = df.append([globals()[f'list']])\n",
      "C:\\Users\\smhrd\\AppData\\Roaming\\Python\\Python39\\site-packages\\sklearn\\base.py:450: UserWarning: X does not have valid feature names, but KNeighborsClassifier was fitted with feature names\n",
      "  warnings.warn(\n",
      "C:\\Users\\smhrd\\AppData\\Local\\Temp\\ipykernel_6176\\3034425392.py:75: FutureWarning: The frame.append method is deprecated and will be removed from pandas in a future version. Use pandas.concat instead.\n",
      "  df = df.append([globals()[f'list']])\n",
      "C:\\Users\\smhrd\\AppData\\Roaming\\Python\\Python39\\site-packages\\sklearn\\base.py:450: UserWarning: X does not have valid feature names, but KNeighborsClassifier was fitted with feature names\n",
      "  warnings.warn(\n"
     ]
    },
    {
     "name": "stdout",
     "output_type": "stream",
     "text": [
      "(161.74435777310086, 143.5279020686607, -27.0)\n",
      "[[0. 0. 1. 0.]]\n",
      "(166.69424081704713, 144.5320061319955, -21.0)\n",
      "[[0. 0. 1. 0.]]\n",
      "(159.89265681598872, 143.6637865708766, -23.5)\n",
      "[[0. 0. 1. 0.]]\n"
     ]
    },
    {
     "name": "stderr",
     "output_type": "stream",
     "text": [
      "C:\\Users\\smhrd\\AppData\\Local\\Temp\\ipykernel_6176\\3034425392.py:75: FutureWarning: The frame.append method is deprecated and will be removed from pandas in a future version. Use pandas.concat instead.\n",
      "  df = df.append([globals()[f'list']])\n",
      "C:\\Users\\smhrd\\AppData\\Roaming\\Python\\Python39\\site-packages\\sklearn\\base.py:450: UserWarning: X does not have valid feature names, but KNeighborsClassifier was fitted with feature names\n",
      "  warnings.warn(\n",
      "C:\\Users\\smhrd\\AppData\\Local\\Temp\\ipykernel_6176\\3034425392.py:75: FutureWarning: The frame.append method is deprecated and will be removed from pandas in a future version. Use pandas.concat instead.\n",
      "  df = df.append([globals()[f'list']])\n",
      "C:\\Users\\smhrd\\AppData\\Roaming\\Python\\Python39\\site-packages\\sklearn\\base.py:450: UserWarning: X does not have valid feature names, but KNeighborsClassifier was fitted with feature names\n",
      "  warnings.warn(\n",
      "C:\\Users\\smhrd\\AppData\\Local\\Temp\\ipykernel_6176\\3034425392.py:75: FutureWarning: The frame.append method is deprecated and will be removed from pandas in a future version. Use pandas.concat instead.\n",
      "  df = df.append([globals()[f'list']])\n",
      "C:\\Users\\smhrd\\AppData\\Roaming\\Python\\Python39\\site-packages\\sklearn\\base.py:450: UserWarning: X does not have valid feature names, but KNeighborsClassifier was fitted with feature names\n",
      "  warnings.warn(\n"
     ]
    },
    {
     "name": "stdout",
     "output_type": "stream",
     "text": [
      "(166.5987537727254, 144.42708057822537, -23.0)\n",
      "[[0. 0. 1. 0.]]\n",
      "(163.92277396360163, 141.91891321941677, -31.0)\n",
      "[[0. 0. 1. 0.]]\n",
      "(160.7744725980917, 142.084253177131, -33.0)\n",
      "[[0. 0. 1. 0.]]\n"
     ]
    },
    {
     "name": "stderr",
     "output_type": "stream",
     "text": [
      "C:\\Users\\smhrd\\AppData\\Local\\Temp\\ipykernel_6176\\3034425392.py:75: FutureWarning: The frame.append method is deprecated and will be removed from pandas in a future version. Use pandas.concat instead.\n",
      "  df = df.append([globals()[f'list']])\n",
      "C:\\Users\\smhrd\\AppData\\Roaming\\Python\\Python39\\site-packages\\sklearn\\base.py:450: UserWarning: X does not have valid feature names, but KNeighborsClassifier was fitted with feature names\n",
      "  warnings.warn(\n",
      "C:\\Users\\smhrd\\AppData\\Local\\Temp\\ipykernel_6176\\3034425392.py:75: FutureWarning: The frame.append method is deprecated and will be removed from pandas in a future version. Use pandas.concat instead.\n",
      "  df = df.append([globals()[f'list']])\n",
      "C:\\Users\\smhrd\\AppData\\Roaming\\Python\\Python39\\site-packages\\sklearn\\base.py:450: UserWarning: X does not have valid feature names, but KNeighborsClassifier was fitted with feature names\n",
      "  warnings.warn(\n",
      "C:\\Users\\smhrd\\AppData\\Local\\Temp\\ipykernel_6176\\3034425392.py:75: FutureWarning: The frame.append method is deprecated and will be removed from pandas in a future version. Use pandas.concat instead.\n",
      "  df = df.append([globals()[f'list']])\n",
      "C:\\Users\\smhrd\\AppData\\Roaming\\Python\\Python39\\site-packages\\sklearn\\base.py:450: UserWarning: X does not have valid feature names, but KNeighborsClassifier was fitted with feature names\n",
      "  warnings.warn(\n",
      "C:\\Users\\smhrd\\AppData\\Local\\Temp\\ipykernel_6176\\3034425392.py:75: FutureWarning: The frame.append method is deprecated and will be removed from pandas in a future version. Use pandas.concat instead.\n",
      "  df = df.append([globals()[f'list']])\n",
      "C:\\Users\\smhrd\\AppData\\Roaming\\Python\\Python39\\site-packages\\sklearn\\base.py:450: UserWarning: X does not have valid feature names, but KNeighborsClassifier was fitted with feature names\n",
      "  warnings.warn(\n"
     ]
    },
    {
     "name": "stdout",
     "output_type": "stream",
     "text": [
      "(160.64886468079908, 142.32001979603382, -31.5)\n",
      "[[0. 0. 1. 0.]]\n",
      "(155.76170608817083, 143.4702063975095, -28.5)\n",
      "[[0. 0. 1. 0.]]\n",
      "(153.19399686393476, 143.2150157492908, -27.5)\n",
      "[[0. 0. 1. 0.]]\n",
      "(149.79718489838044, 143.5022972203048, -28.0)\n",
      "[[0. 0. 1. 0.]]\n"
     ]
    },
    {
     "name": "stderr",
     "output_type": "stream",
     "text": [
      "C:\\Users\\smhrd\\AppData\\Local\\Temp\\ipykernel_6176\\3034425392.py:75: FutureWarning: The frame.append method is deprecated and will be removed from pandas in a future version. Use pandas.concat instead.\n",
      "  df = df.append([globals()[f'list']])\n",
      "C:\\Users\\smhrd\\AppData\\Roaming\\Python\\Python39\\site-packages\\sklearn\\base.py:450: UserWarning: X does not have valid feature names, but KNeighborsClassifier was fitted with feature names\n",
      "  warnings.warn(\n",
      "C:\\Users\\smhrd\\AppData\\Local\\Temp\\ipykernel_6176\\3034425392.py:75: FutureWarning: The frame.append method is deprecated and will be removed from pandas in a future version. Use pandas.concat instead.\n",
      "  df = df.append([globals()[f'list']])\n",
      "C:\\Users\\smhrd\\AppData\\Roaming\\Python\\Python39\\site-packages\\sklearn\\base.py:450: UserWarning: X does not have valid feature names, but KNeighborsClassifier was fitted with feature names\n",
      "  warnings.warn(\n",
      "C:\\Users\\smhrd\\AppData\\Local\\Temp\\ipykernel_6176\\3034425392.py:75: FutureWarning: The frame.append method is deprecated and will be removed from pandas in a future version. Use pandas.concat instead.\n",
      "  df = df.append([globals()[f'list']])\n",
      "C:\\Users\\smhrd\\AppData\\Roaming\\Python\\Python39\\site-packages\\sklearn\\base.py:450: UserWarning: X does not have valid feature names, but KNeighborsClassifier was fitted with feature names\n",
      "  warnings.warn(\n"
     ]
    },
    {
     "name": "stdout",
     "output_type": "stream",
     "text": [
      "(149.420850585642, 144.12211342549577, -27.5)\n",
      "[[0. 0. 1. 0.]]\n",
      "(147.08907446877592, 144.967941084475, -26.0)\n",
      "[[0. 0. 1. 0.]]\n",
      "(142.4899526846324, 144.7077907252312, -22.0)\n",
      "[[0. 0. 1. 0.]]\n"
     ]
    },
    {
     "name": "stderr",
     "output_type": "stream",
     "text": [
      "C:\\Users\\smhrd\\AppData\\Local\\Temp\\ipykernel_6176\\3034425392.py:75: FutureWarning: The frame.append method is deprecated and will be removed from pandas in a future version. Use pandas.concat instead.\n",
      "  df = df.append([globals()[f'list']])\n",
      "C:\\Users\\smhrd\\AppData\\Roaming\\Python\\Python39\\site-packages\\sklearn\\base.py:450: UserWarning: X does not have valid feature names, but KNeighborsClassifier was fitted with feature names\n",
      "  warnings.warn(\n",
      "C:\\Users\\smhrd\\AppData\\Local\\Temp\\ipykernel_6176\\3034425392.py:75: FutureWarning: The frame.append method is deprecated and will be removed from pandas in a future version. Use pandas.concat instead.\n",
      "  df = df.append([globals()[f'list']])\n",
      "C:\\Users\\smhrd\\AppData\\Roaming\\Python\\Python39\\site-packages\\sklearn\\base.py:450: UserWarning: X does not have valid feature names, but KNeighborsClassifier was fitted with feature names\n",
      "  warnings.warn(\n",
      "C:\\Users\\smhrd\\AppData\\Local\\Temp\\ipykernel_6176\\3034425392.py:75: FutureWarning: The frame.append method is deprecated and will be removed from pandas in a future version. Use pandas.concat instead.\n",
      "  df = df.append([globals()[f'list']])\n",
      "C:\\Users\\smhrd\\AppData\\Roaming\\Python\\Python39\\site-packages\\sklearn\\base.py:450: UserWarning: X does not have valid feature names, but KNeighborsClassifier was fitted with feature names\n",
      "  warnings.warn(\n"
     ]
    },
    {
     "name": "stdout",
     "output_type": "stream",
     "text": [
      "(141.94639617675995, 144.76410728612055, -22.0)\n",
      "[[0. 0. 1. 0.]]\n",
      "(137.50423801673452, 144.1563350865726, -24.5)\n",
      "[[0. 0. 1. 0.]]\n",
      "(137.15418404389905, 145.2312155432248, -25.5)\n",
      "[[0. 0. 1. 0.]]\n"
     ]
    },
    {
     "name": "stderr",
     "output_type": "stream",
     "text": [
      "C:\\Users\\smhrd\\AppData\\Local\\Temp\\ipykernel_6176\\3034425392.py:75: FutureWarning: The frame.append method is deprecated and will be removed from pandas in a future version. Use pandas.concat instead.\n",
      "  df = df.append([globals()[f'list']])\n",
      "C:\\Users\\smhrd\\AppData\\Roaming\\Python\\Python39\\site-packages\\sklearn\\base.py:450: UserWarning: X does not have valid feature names, but KNeighborsClassifier was fitted with feature names\n",
      "  warnings.warn(\n",
      "C:\\Users\\smhrd\\AppData\\Local\\Temp\\ipykernel_6176\\3034425392.py:75: FutureWarning: The frame.append method is deprecated and will be removed from pandas in a future version. Use pandas.concat instead.\n",
      "  df = df.append([globals()[f'list']])\n",
      "C:\\Users\\smhrd\\AppData\\Roaming\\Python\\Python39\\site-packages\\sklearn\\base.py:450: UserWarning: X does not have valid feature names, but KNeighborsClassifier was fitted with feature names\n",
      "  warnings.warn(\n",
      "C:\\Users\\smhrd\\AppData\\Local\\Temp\\ipykernel_6176\\3034425392.py:75: FutureWarning: The frame.append method is deprecated and will be removed from pandas in a future version. Use pandas.concat instead.\n",
      "  df = df.append([globals()[f'list']])\n",
      "C:\\Users\\smhrd\\AppData\\Roaming\\Python\\Python39\\site-packages\\sklearn\\base.py:450: UserWarning: X does not have valid feature names, but KNeighborsClassifier was fitted with feature names\n",
      "  warnings.warn(\n"
     ]
    },
    {
     "name": "stdout",
     "output_type": "stream",
     "text": [
      "(137.75041489677062, 146.19626789940042, -24.0)\n",
      "[[0. 0. 1. 0.]]\n",
      "(136.27560044238464, 145.85909577660223, -27.5)\n",
      "[[0. 0. 1. 0.]]\n",
      "(134.93376865054066, 146.93145211858086, -23.0)\n",
      "[[0. 0. 1. 0.]]\n"
     ]
    },
    {
     "name": "stderr",
     "output_type": "stream",
     "text": [
      "C:\\Users\\smhrd\\AppData\\Local\\Temp\\ipykernel_6176\\3034425392.py:75: FutureWarning: The frame.append method is deprecated and will be removed from pandas in a future version. Use pandas.concat instead.\n",
      "  df = df.append([globals()[f'list']])\n",
      "C:\\Users\\smhrd\\AppData\\Roaming\\Python\\Python39\\site-packages\\sklearn\\base.py:450: UserWarning: X does not have valid feature names, but KNeighborsClassifier was fitted with feature names\n",
      "  warnings.warn(\n",
      "C:\\Users\\smhrd\\AppData\\Local\\Temp\\ipykernel_6176\\3034425392.py:75: FutureWarning: The frame.append method is deprecated and will be removed from pandas in a future version. Use pandas.concat instead.\n",
      "  df = df.append([globals()[f'list']])\n",
      "C:\\Users\\smhrd\\AppData\\Roaming\\Python\\Python39\\site-packages\\sklearn\\base.py:450: UserWarning: X does not have valid feature names, but KNeighborsClassifier was fitted with feature names\n",
      "  warnings.warn(\n",
      "C:\\Users\\smhrd\\AppData\\Local\\Temp\\ipykernel_6176\\3034425392.py:75: FutureWarning: The frame.append method is deprecated and will be removed from pandas in a future version. Use pandas.concat instead.\n",
      "  df = df.append([globals()[f'list']])\n",
      "C:\\Users\\smhrd\\AppData\\Roaming\\Python\\Python39\\site-packages\\sklearn\\base.py:450: UserWarning: X does not have valid feature names, but KNeighborsClassifier was fitted with feature names\n",
      "  warnings.warn(\n"
     ]
    },
    {
     "name": "stdout",
     "output_type": "stream",
     "text": [
      "(132.1708241623697, 147.735069267087, -24.5)\n",
      "[[0. 0. 1. 0.]]\n",
      "(130.16204475884004, 145.92581479743396, -25.5)\n",
      "[[0. 0. 1. 0.]]\n",
      "(132.7258090324459, 143.43294452724928, -25.5)\n",
      "[[0. 0. 1. 0.]]\n"
     ]
    },
    {
     "name": "stderr",
     "output_type": "stream",
     "text": [
      "C:\\Users\\smhrd\\AppData\\Local\\Temp\\ipykernel_6176\\3034425392.py:75: FutureWarning: The frame.append method is deprecated and will be removed from pandas in a future version. Use pandas.concat instead.\n",
      "  df = df.append([globals()[f'list']])\n",
      "C:\\Users\\smhrd\\AppData\\Roaming\\Python\\Python39\\site-packages\\sklearn\\base.py:450: UserWarning: X does not have valid feature names, but KNeighborsClassifier was fitted with feature names\n",
      "  warnings.warn(\n",
      "C:\\Users\\smhrd\\AppData\\Local\\Temp\\ipykernel_6176\\3034425392.py:75: FutureWarning: The frame.append method is deprecated and will be removed from pandas in a future version. Use pandas.concat instead.\n",
      "  df = df.append([globals()[f'list']])\n",
      "C:\\Users\\smhrd\\AppData\\Roaming\\Python\\Python39\\site-packages\\sklearn\\base.py:450: UserWarning: X does not have valid feature names, but KNeighborsClassifier was fitted with feature names\n",
      "  warnings.warn(\n",
      "C:\\Users\\smhrd\\AppData\\Local\\Temp\\ipykernel_6176\\3034425392.py:75: FutureWarning: The frame.append method is deprecated and will be removed from pandas in a future version. Use pandas.concat instead.\n",
      "  df = df.append([globals()[f'list']])\n",
      "C:\\Users\\smhrd\\AppData\\Roaming\\Python\\Python39\\site-packages\\sklearn\\base.py:450: UserWarning: X does not have valid feature names, but KNeighborsClassifier was fitted with feature names\n",
      "  warnings.warn(\n"
     ]
    },
    {
     "name": "stdout",
     "output_type": "stream",
     "text": [
      "(130.14118955670043, 145.65555692765946, -24.0)\n",
      "[[0. 0. 1. 0.]]\n",
      "(130.33108034059862, 147.62811208771657, -23.0)\n",
      "[[0. 0. 1. 0.]]\n",
      "(130.11490463558084, 145.38157954574575, -26.5)\n",
      "[[0. 0. 1. 0.]]\n"
     ]
    },
    {
     "name": "stderr",
     "output_type": "stream",
     "text": [
      "C:\\Users\\smhrd\\AppData\\Local\\Temp\\ipykernel_6176\\3034425392.py:75: FutureWarning: The frame.append method is deprecated and will be removed from pandas in a future version. Use pandas.concat instead.\n",
      "  df = df.append([globals()[f'list']])\n",
      "C:\\Users\\smhrd\\AppData\\Roaming\\Python\\Python39\\site-packages\\sklearn\\base.py:450: UserWarning: X does not have valid feature names, but KNeighborsClassifier was fitted with feature names\n",
      "  warnings.warn(\n",
      "C:\\Users\\smhrd\\AppData\\Local\\Temp\\ipykernel_6176\\3034425392.py:75: FutureWarning: The frame.append method is deprecated and will be removed from pandas in a future version. Use pandas.concat instead.\n",
      "  df = df.append([globals()[f'list']])\n",
      "C:\\Users\\smhrd\\AppData\\Roaming\\Python\\Python39\\site-packages\\sklearn\\base.py:450: UserWarning: X does not have valid feature names, but KNeighborsClassifier was fitted with feature names\n",
      "  warnings.warn(\n",
      "C:\\Users\\smhrd\\AppData\\Local\\Temp\\ipykernel_6176\\3034425392.py:75: FutureWarning: The frame.append method is deprecated and will be removed from pandas in a future version. Use pandas.concat instead.\n",
      "  df = df.append([globals()[f'list']])\n",
      "C:\\Users\\smhrd\\AppData\\Roaming\\Python\\Python39\\site-packages\\sklearn\\base.py:450: UserWarning: X does not have valid feature names, but KNeighborsClassifier was fitted with feature names\n",
      "  warnings.warn(\n",
      "C:\\Users\\smhrd\\AppData\\Local\\Temp\\ipykernel_6176\\3034425392.py:75: FutureWarning: The frame.append method is deprecated and will be removed from pandas in a future version. Use pandas.concat instead.\n",
      "  df = df.append([globals()[f'list']])\n",
      "C:\\Users\\smhrd\\AppData\\Roaming\\Python\\Python39\\site-packages\\sklearn\\base.py:450: UserWarning: X does not have valid feature names, but KNeighborsClassifier was fitted with feature names\n",
      "  warnings.warn(\n"
     ]
    },
    {
     "name": "stdout",
     "output_type": "stream",
     "text": [
      "(131.640133582906, 147.8481662000375, -24.0)\n",
      "[[0. 0. 1. 0.]]\n",
      "(132.01113932201383, 147.96330988300593, -24.5)\n",
      "[[0. 0. 1. 0.]]\n",
      "(132.09275183247672, 147.34356651418204, -24.0)\n",
      "[[0. 0. 1. 0.]]\n",
      "(134.36575528557387, 147.39399368703587, -23.5)\n",
      "[[0. 0. 1. 0.]]\n"
     ]
    },
    {
     "name": "stderr",
     "output_type": "stream",
     "text": [
      "C:\\Users\\smhrd\\AppData\\Local\\Temp\\ipykernel_6176\\3034425392.py:75: FutureWarning: The frame.append method is deprecated and will be removed from pandas in a future version. Use pandas.concat instead.\n",
      "  df = df.append([globals()[f'list']])\n",
      "C:\\Users\\smhrd\\AppData\\Roaming\\Python\\Python39\\site-packages\\sklearn\\base.py:450: UserWarning: X does not have valid feature names, but KNeighborsClassifier was fitted with feature names\n",
      "  warnings.warn(\n",
      "C:\\Users\\smhrd\\AppData\\Local\\Temp\\ipykernel_6176\\3034425392.py:75: FutureWarning: The frame.append method is deprecated and will be removed from pandas in a future version. Use pandas.concat instead.\n",
      "  df = df.append([globals()[f'list']])\n",
      "C:\\Users\\smhrd\\AppData\\Roaming\\Python\\Python39\\site-packages\\sklearn\\base.py:450: UserWarning: X does not have valid feature names, but KNeighborsClassifier was fitted with feature names\n",
      "  warnings.warn(\n",
      "C:\\Users\\smhrd\\AppData\\Local\\Temp\\ipykernel_6176\\3034425392.py:75: FutureWarning: The frame.append method is deprecated and will be removed from pandas in a future version. Use pandas.concat instead.\n",
      "  df = df.append([globals()[f'list']])\n",
      "C:\\Users\\smhrd\\AppData\\Roaming\\Python\\Python39\\site-packages\\sklearn\\base.py:450: UserWarning: X does not have valid feature names, but KNeighborsClassifier was fitted with feature names\n",
      "  warnings.warn(\n",
      "C:\\Users\\smhrd\\AppData\\Local\\Temp\\ipykernel_6176\\3034425392.py:75: FutureWarning: The frame.append method is deprecated and will be removed from pandas in a future version. Use pandas.concat instead.\n",
      "  df = df.append([globals()[f'list']])\n",
      "C:\\Users\\smhrd\\AppData\\Roaming\\Python\\Python39\\site-packages\\sklearn\\base.py:450: UserWarning: X does not have valid feature names, but KNeighborsClassifier was fitted with feature names\n",
      "  warnings.warn(\n"
     ]
    },
    {
     "name": "stdout",
     "output_type": "stream",
     "text": [
      "(133.56491530240632, 147.80005559142253, -23.5)\n",
      "[[0. 0. 1. 0.]]\n",
      "(133.13967618058555, 146.2170050034009, -24.5)\n",
      "[[0. 0. 1. 0.]]\n",
      "(136.93970229453404, 146.32947817434533, -24.0)\n",
      "[[0. 0. 1. 0.]]\n",
      "(134.9211848919419, 147.59803038689088, -23.5)\n",
      "[[0. 0. 1. 0.]]\n"
     ]
    },
    {
     "name": "stderr",
     "output_type": "stream",
     "text": [
      "C:\\Users\\smhrd\\AppData\\Local\\Temp\\ipykernel_6176\\3034425392.py:75: FutureWarning: The frame.append method is deprecated and will be removed from pandas in a future version. Use pandas.concat instead.\n",
      "  df = df.append([globals()[f'list']])\n",
      "C:\\Users\\smhrd\\AppData\\Roaming\\Python\\Python39\\site-packages\\sklearn\\base.py:450: UserWarning: X does not have valid feature names, but KNeighborsClassifier was fitted with feature names\n",
      "  warnings.warn(\n",
      "C:\\Users\\smhrd\\AppData\\Local\\Temp\\ipykernel_6176\\3034425392.py:75: FutureWarning: The frame.append method is deprecated and will be removed from pandas in a future version. Use pandas.concat instead.\n",
      "  df = df.append([globals()[f'list']])\n",
      "C:\\Users\\smhrd\\AppData\\Roaming\\Python\\Python39\\site-packages\\sklearn\\base.py:450: UserWarning: X does not have valid feature names, but KNeighborsClassifier was fitted with feature names\n",
      "  warnings.warn(\n",
      "C:\\Users\\smhrd\\AppData\\Local\\Temp\\ipykernel_6176\\3034425392.py:75: FutureWarning: The frame.append method is deprecated and will be removed from pandas in a future version. Use pandas.concat instead.\n",
      "  df = df.append([globals()[f'list']])\n",
      "C:\\Users\\smhrd\\AppData\\Roaming\\Python\\Python39\\site-packages\\sklearn\\base.py:450: UserWarning: X does not have valid feature names, but KNeighborsClassifier was fitted with feature names\n",
      "  warnings.warn(\n",
      "C:\\Users\\smhrd\\AppData\\Local\\Temp\\ipykernel_6176\\3034425392.py:75: FutureWarning: The frame.append method is deprecated and will be removed from pandas in a future version. Use pandas.concat instead.\n",
      "  df = df.append([globals()[f'list']])\n",
      "C:\\Users\\smhrd\\AppData\\Roaming\\Python\\Python39\\site-packages\\sklearn\\base.py:450: UserWarning: X does not have valid feature names, but KNeighborsClassifier was fitted with feature names\n",
      "  warnings.warn(\n"
     ]
    },
    {
     "name": "stdout",
     "output_type": "stream",
     "text": [
      "(132.41883316556476, 148.91640090665695, -22.5)\n",
      "[[0. 0. 1. 0.]]\n",
      "(132.7427747011929, 146.8426504972571, -21.5)\n",
      "[[0. 0. 1. 0.]]\n",
      "(131.9951754245583, 147.49829406106522, -22.5)\n",
      "[[0. 0. 1. 0.]]\n",
      "(138.4493590143674, 146.73112472968148, -23.5)\n",
      "[[0. 0. 1. 0.]]\n"
     ]
    },
    {
     "name": "stderr",
     "output_type": "stream",
     "text": [
      "C:\\Users\\smhrd\\AppData\\Local\\Temp\\ipykernel_6176\\3034425392.py:75: FutureWarning: The frame.append method is deprecated and will be removed from pandas in a future version. Use pandas.concat instead.\n",
      "  df = df.append([globals()[f'list']])\n",
      "C:\\Users\\smhrd\\AppData\\Roaming\\Python\\Python39\\site-packages\\sklearn\\base.py:450: UserWarning: X does not have valid feature names, but KNeighborsClassifier was fitted with feature names\n",
      "  warnings.warn(\n",
      "C:\\Users\\smhrd\\AppData\\Local\\Temp\\ipykernel_6176\\3034425392.py:75: FutureWarning: The frame.append method is deprecated and will be removed from pandas in a future version. Use pandas.concat instead.\n",
      "  df = df.append([globals()[f'list']])\n",
      "C:\\Users\\smhrd\\AppData\\Roaming\\Python\\Python39\\site-packages\\sklearn\\base.py:450: UserWarning: X does not have valid feature names, but KNeighborsClassifier was fitted with feature names\n",
      "  warnings.warn(\n",
      "C:\\Users\\smhrd\\AppData\\Local\\Temp\\ipykernel_6176\\3034425392.py:75: FutureWarning: The frame.append method is deprecated and will be removed from pandas in a future version. Use pandas.concat instead.\n",
      "  df = df.append([globals()[f'list']])\n",
      "C:\\Users\\smhrd\\AppData\\Roaming\\Python\\Python39\\site-packages\\sklearn\\base.py:450: UserWarning: X does not have valid feature names, but KNeighborsClassifier was fitted with feature names\n",
      "  warnings.warn(\n"
     ]
    },
    {
     "name": "stdout",
     "output_type": "stream",
     "text": [
      "(140.8855116978979, 145.76133984973612, -22.0)\n",
      "[[0. 0. 1. 0.]]\n",
      "(141.97086532693598, 145.19770043570236, -23.5)\n",
      "[[0. 0. 1. 0.]]\n",
      "(145.21973009181866, 145.35511565245523, -24.5)\n",
      "[[0. 0. 1. 0.]]\n"
     ]
    },
    {
     "name": "stderr",
     "output_type": "stream",
     "text": [
      "C:\\Users\\smhrd\\AppData\\Local\\Temp\\ipykernel_6176\\3034425392.py:75: FutureWarning: The frame.append method is deprecated and will be removed from pandas in a future version. Use pandas.concat instead.\n",
      "  df = df.append([globals()[f'list']])\n",
      "C:\\Users\\smhrd\\AppData\\Roaming\\Python\\Python39\\site-packages\\sklearn\\base.py:450: UserWarning: X does not have valid feature names, but KNeighborsClassifier was fitted with feature names\n",
      "  warnings.warn(\n",
      "C:\\Users\\smhrd\\AppData\\Local\\Temp\\ipykernel_6176\\3034425392.py:75: FutureWarning: The frame.append method is deprecated and will be removed from pandas in a future version. Use pandas.concat instead.\n",
      "  df = df.append([globals()[f'list']])\n",
      "C:\\Users\\smhrd\\AppData\\Roaming\\Python\\Python39\\site-packages\\sklearn\\base.py:450: UserWarning: X does not have valid feature names, but KNeighborsClassifier was fitted with feature names\n",
      "  warnings.warn(\n",
      "C:\\Users\\smhrd\\AppData\\Local\\Temp\\ipykernel_6176\\3034425392.py:75: FutureWarning: The frame.append method is deprecated and will be removed from pandas in a future version. Use pandas.concat instead.\n",
      "  df = df.append([globals()[f'list']])\n",
      "C:\\Users\\smhrd\\AppData\\Roaming\\Python\\Python39\\site-packages\\sklearn\\base.py:450: UserWarning: X does not have valid feature names, but KNeighborsClassifier was fitted with feature names\n",
      "  warnings.warn(\n"
     ]
    },
    {
     "name": "stdout",
     "output_type": "stream",
     "text": [
      "(150.14658541206217, 147.68389935014014, -18.0)\n",
      "[[0. 0. 1. 0.]]\n",
      "(143.99589440160642, 148.05014478286714, -15.5)\n",
      "[[0. 0. 1. 0.]]\n",
      "(148.26315333366475, 147.31288760538834, -19.0)\n",
      "[[0. 0. 1. 0.]]\n"
     ]
    },
    {
     "name": "stderr",
     "output_type": "stream",
     "text": [
      "C:\\Users\\smhrd\\AppData\\Local\\Temp\\ipykernel_6176\\3034425392.py:75: FutureWarning: The frame.append method is deprecated and will be removed from pandas in a future version. Use pandas.concat instead.\n",
      "  df = df.append([globals()[f'list']])\n",
      "C:\\Users\\smhrd\\AppData\\Roaming\\Python\\Python39\\site-packages\\sklearn\\base.py:450: UserWarning: X does not have valid feature names, but KNeighborsClassifier was fitted with feature names\n",
      "  warnings.warn(\n",
      "C:\\Users\\smhrd\\AppData\\Local\\Temp\\ipykernel_6176\\3034425392.py:75: FutureWarning: The frame.append method is deprecated and will be removed from pandas in a future version. Use pandas.concat instead.\n",
      "  df = df.append([globals()[f'list']])\n",
      "C:\\Users\\smhrd\\AppData\\Roaming\\Python\\Python39\\site-packages\\sklearn\\base.py:450: UserWarning: X does not have valid feature names, but KNeighborsClassifier was fitted with feature names\n",
      "  warnings.warn(\n",
      "C:\\Users\\smhrd\\AppData\\Local\\Temp\\ipykernel_6176\\3034425392.py:75: FutureWarning: The frame.append method is deprecated and will be removed from pandas in a future version. Use pandas.concat instead.\n",
      "  df = df.append([globals()[f'list']])\n",
      "C:\\Users\\smhrd\\AppData\\Roaming\\Python\\Python39\\site-packages\\sklearn\\base.py:450: UserWarning: X does not have valid feature names, but KNeighborsClassifier was fitted with feature names\n",
      "  warnings.warn(\n",
      "C:\\Users\\smhrd\\AppData\\Local\\Temp\\ipykernel_6176\\3034425392.py:75: FutureWarning: The frame.append method is deprecated and will be removed from pandas in a future version. Use pandas.concat instead.\n",
      "  df = df.append([globals()[f'list']])\n",
      "C:\\Users\\smhrd\\AppData\\Roaming\\Python\\Python39\\site-packages\\sklearn\\base.py:450: UserWarning: X does not have valid feature names, but KNeighborsClassifier was fitted with feature names\n",
      "  warnings.warn(\n"
     ]
    },
    {
     "name": "stdout",
     "output_type": "stream",
     "text": [
      "(148.36855333961876, 145.29680646046765, -22.5)\n",
      "[[0. 0. 1. 0.]]\n",
      "(151.79760599060478, 142.3865622523274, -27.5)\n",
      "[[0. 0. 1. 0.]]\n",
      "(169.60823938660434, 142.45883812962637, -35.0)\n",
      "[[0. 0. 1. 0.]]\n",
      "(169.1608384879591, 142.1824765692859, -39.0)\n",
      "[[0. 0. 1. 0.]]\n"
     ]
    },
    {
     "name": "stderr",
     "output_type": "stream",
     "text": [
      "C:\\Users\\smhrd\\AppData\\Local\\Temp\\ipykernel_6176\\3034425392.py:75: FutureWarning: The frame.append method is deprecated and will be removed from pandas in a future version. Use pandas.concat instead.\n",
      "  df = df.append([globals()[f'list']])\n",
      "C:\\Users\\smhrd\\AppData\\Roaming\\Python\\Python39\\site-packages\\sklearn\\base.py:450: UserWarning: X does not have valid feature names, but KNeighborsClassifier was fitted with feature names\n",
      "  warnings.warn(\n",
      "C:\\Users\\smhrd\\AppData\\Local\\Temp\\ipykernel_6176\\3034425392.py:75: FutureWarning: The frame.append method is deprecated and will be removed from pandas in a future version. Use pandas.concat instead.\n",
      "  df = df.append([globals()[f'list']])\n",
      "C:\\Users\\smhrd\\AppData\\Roaming\\Python\\Python39\\site-packages\\sklearn\\base.py:450: UserWarning: X does not have valid feature names, but KNeighborsClassifier was fitted with feature names\n",
      "  warnings.warn(\n",
      "C:\\Users\\smhrd\\AppData\\Local\\Temp\\ipykernel_6176\\3034425392.py:75: FutureWarning: The frame.append method is deprecated and will be removed from pandas in a future version. Use pandas.concat instead.\n",
      "  df = df.append([globals()[f'list']])\n",
      "C:\\Users\\smhrd\\AppData\\Roaming\\Python\\Python39\\site-packages\\sklearn\\base.py:450: UserWarning: X does not have valid feature names, but KNeighborsClassifier was fitted with feature names\n",
      "  warnings.warn(\n",
      "C:\\Users\\smhrd\\AppData\\Local\\Temp\\ipykernel_6176\\3034425392.py:75: FutureWarning: The frame.append method is deprecated and will be removed from pandas in a future version. Use pandas.concat instead.\n",
      "  df = df.append([globals()[f'list']])\n"
     ]
    },
    {
     "name": "stdout",
     "output_type": "stream",
     "text": [
      "(171.90495796044723, 139.52672350133162, -47.0)\n",
      "[[0. 0. 1. 0.]]\n",
      "(177.11332529851663, 137.10312350615868, -53.5)\n",
      "[[0. 0. 1. 0.]]\n",
      "(165.38459493212525, 136.29736702572944, -62.5)\n",
      "[[0.         0.         0.33333333 0.66666667]]\n",
      "(168.61396311977086, 135.8052539797971, -69.5)\n"
     ]
    },
    {
     "name": "stderr",
     "output_type": "stream",
     "text": [
      "C:\\Users\\smhrd\\AppData\\Roaming\\Python\\Python39\\site-packages\\sklearn\\base.py:450: UserWarning: X does not have valid feature names, but KNeighborsClassifier was fitted with feature names\n",
      "  warnings.warn(\n",
      "C:\\Users\\smhrd\\AppData\\Local\\Temp\\ipykernel_6176\\3034425392.py:75: FutureWarning: The frame.append method is deprecated and will be removed from pandas in a future version. Use pandas.concat instead.\n",
      "  df = df.append([globals()[f'list']])\n",
      "C:\\Users\\smhrd\\AppData\\Roaming\\Python\\Python39\\site-packages\\sklearn\\base.py:450: UserWarning: X does not have valid feature names, but KNeighborsClassifier was fitted with feature names\n",
      "  warnings.warn(\n",
      "C:\\Users\\smhrd\\AppData\\Local\\Temp\\ipykernel_6176\\3034425392.py:75: FutureWarning: The frame.append method is deprecated and will be removed from pandas in a future version. Use pandas.concat instead.\n",
      "  df = df.append([globals()[f'list']])\n",
      "C:\\Users\\smhrd\\AppData\\Roaming\\Python\\Python39\\site-packages\\sklearn\\base.py:450: UserWarning: X does not have valid feature names, but KNeighborsClassifier was fitted with feature names\n",
      "  warnings.warn(\n",
      "C:\\Users\\smhrd\\AppData\\Local\\Temp\\ipykernel_6176\\3034425392.py:75: FutureWarning: The frame.append method is deprecated and will be removed from pandas in a future version. Use pandas.concat instead.\n",
      "  df = df.append([globals()[f'list']])\n",
      "C:\\Users\\smhrd\\AppData\\Roaming\\Python\\Python39\\site-packages\\sklearn\\base.py:450: UserWarning: X does not have valid feature names, but KNeighborsClassifier was fitted with feature names\n",
      "  warnings.warn(\n"
     ]
    },
    {
     "name": "stdout",
     "output_type": "stream",
     "text": [
      "[[0. 0. 1. 0.]]\n",
      "(169.05891057174065, 134.6035667809858, -73.0)\n",
      "[[0.         0.         0.66666667 0.33333333]]\n",
      "(167.33932859653873, 133.4824049818482, -79.5)\n",
      "[[0.         0.         0.66666667 0.33333333]]\n",
      "(175.27885946140452, 133.56238280759612, -78.5)\n",
      "[[0.         0.         0.66666667 0.33333333]]\n"
     ]
    },
    {
     "name": "stderr",
     "output_type": "stream",
     "text": [
      "C:\\Users\\smhrd\\AppData\\Local\\Temp\\ipykernel_6176\\3034425392.py:75: FutureWarning: The frame.append method is deprecated and will be removed from pandas in a future version. Use pandas.concat instead.\n",
      "  df = df.append([globals()[f'list']])\n",
      "C:\\Users\\smhrd\\AppData\\Roaming\\Python\\Python39\\site-packages\\sklearn\\base.py:450: UserWarning: X does not have valid feature names, but KNeighborsClassifier was fitted with feature names\n",
      "  warnings.warn(\n",
      "C:\\Users\\smhrd\\AppData\\Local\\Temp\\ipykernel_6176\\3034425392.py:75: FutureWarning: The frame.append method is deprecated and will be removed from pandas in a future version. Use pandas.concat instead.\n",
      "  df = df.append([globals()[f'list']])\n",
      "C:\\Users\\smhrd\\AppData\\Roaming\\Python\\Python39\\site-packages\\sklearn\\base.py:450: UserWarning: X does not have valid feature names, but KNeighborsClassifier was fitted with feature names\n",
      "  warnings.warn(\n",
      "C:\\Users\\smhrd\\AppData\\Local\\Temp\\ipykernel_6176\\3034425392.py:75: FutureWarning: The frame.append method is deprecated and will be removed from pandas in a future version. Use pandas.concat instead.\n",
      "  df = df.append([globals()[f'list']])\n",
      "C:\\Users\\smhrd\\AppData\\Roaming\\Python\\Python39\\site-packages\\sklearn\\base.py:450: UserWarning: X does not have valid feature names, but KNeighborsClassifier was fitted with feature names\n",
      "  warnings.warn(\n"
     ]
    },
    {
     "name": "stdout",
     "output_type": "stream",
     "text": [
      "(167.25060215795753, 131.96639679414815, -81.0)\n",
      "[[0.         0.         0.66666667 0.33333333]]\n",
      "(171.27890785198318, 132.23870591345747, -79.5)\n",
      "[[0.         0.         0.33333333 0.66666667]]\n",
      "(166.0821030305446, 134.3262711599514, -84.0)\n",
      "[[0. 0. 1. 0.]]\n"
     ]
    },
    {
     "name": "stderr",
     "output_type": "stream",
     "text": [
      "C:\\Users\\smhrd\\AppData\\Local\\Temp\\ipykernel_6176\\3034425392.py:75: FutureWarning: The frame.append method is deprecated and will be removed from pandas in a future version. Use pandas.concat instead.\n",
      "  df = df.append([globals()[f'list']])\n",
      "C:\\Users\\smhrd\\AppData\\Roaming\\Python\\Python39\\site-packages\\sklearn\\base.py:450: UserWarning: X does not have valid feature names, but KNeighborsClassifier was fitted with feature names\n",
      "  warnings.warn(\n",
      "C:\\Users\\smhrd\\AppData\\Local\\Temp\\ipykernel_6176\\3034425392.py:75: FutureWarning: The frame.append method is deprecated and will be removed from pandas in a future version. Use pandas.concat instead.\n",
      "  df = df.append([globals()[f'list']])\n",
      "C:\\Users\\smhrd\\AppData\\Roaming\\Python\\Python39\\site-packages\\sklearn\\base.py:450: UserWarning: X does not have valid feature names, but KNeighborsClassifier was fitted with feature names\n",
      "  warnings.warn(\n",
      "C:\\Users\\smhrd\\AppData\\Local\\Temp\\ipykernel_6176\\3034425392.py:75: FutureWarning: The frame.append method is deprecated and will be removed from pandas in a future version. Use pandas.concat instead.\n",
      "  df = df.append([globals()[f'list']])\n",
      "C:\\Users\\smhrd\\AppData\\Roaming\\Python\\Python39\\site-packages\\sklearn\\base.py:450: UserWarning: X does not have valid feature names, but KNeighborsClassifier was fitted with feature names\n",
      "  warnings.warn(\n",
      "C:\\Users\\smhrd\\AppData\\Local\\Temp\\ipykernel_6176\\3034425392.py:75: FutureWarning: The frame.append method is deprecated and will be removed from pandas in a future version. Use pandas.concat instead.\n",
      "  df = df.append([globals()[f'list']])\n",
      "C:\\Users\\smhrd\\AppData\\Roaming\\Python\\Python39\\site-packages\\sklearn\\base.py:450: UserWarning: X does not have valid feature names, but KNeighborsClassifier was fitted with feature names\n",
      "  warnings.warn(\n"
     ]
    },
    {
     "name": "stdout",
     "output_type": "stream",
     "text": [
      "(165.35025527054944, 133.7470533622836, -86.5)\n",
      "[[0. 0. 1. 0.]]\n",
      "(166.87034708118864, 133.9503663297059, -85.0)\n",
      "[[0. 0. 1. 0.]]\n",
      "(165.9669405406488, 133.3910207475337, -87.0)\n",
      "[[0. 0. 1. 0.]]\n",
      "(165.52822362696108, 132.56283253393826, -82.5)\n",
      "[[0. 0. 1. 0.]]\n"
     ]
    },
    {
     "name": "stderr",
     "output_type": "stream",
     "text": [
      "C:\\Users\\smhrd\\AppData\\Local\\Temp\\ipykernel_6176\\3034425392.py:75: FutureWarning: The frame.append method is deprecated and will be removed from pandas in a future version. Use pandas.concat instead.\n",
      "  df = df.append([globals()[f'list']])\n",
      "C:\\Users\\smhrd\\AppData\\Roaming\\Python\\Python39\\site-packages\\sklearn\\base.py:450: UserWarning: X does not have valid feature names, but KNeighborsClassifier was fitted with feature names\n",
      "  warnings.warn(\n",
      "C:\\Users\\smhrd\\AppData\\Local\\Temp\\ipykernel_6176\\3034425392.py:75: FutureWarning: The frame.append method is deprecated and will be removed from pandas in a future version. Use pandas.concat instead.\n",
      "  df = df.append([globals()[f'list']])\n",
      "C:\\Users\\smhrd\\AppData\\Roaming\\Python\\Python39\\site-packages\\sklearn\\base.py:450: UserWarning: X does not have valid feature names, but KNeighborsClassifier was fitted with feature names\n",
      "  warnings.warn(\n",
      "C:\\Users\\smhrd\\AppData\\Local\\Temp\\ipykernel_6176\\3034425392.py:75: FutureWarning: The frame.append method is deprecated and will be removed from pandas in a future version. Use pandas.concat instead.\n",
      "  df = df.append([globals()[f'list']])\n",
      "C:\\Users\\smhrd\\AppData\\Roaming\\Python\\Python39\\site-packages\\sklearn\\base.py:450: UserWarning: X does not have valid feature names, but KNeighborsClassifier was fitted with feature names\n",
      "  warnings.warn(\n",
      "C:\\Users\\smhrd\\AppData\\Local\\Temp\\ipykernel_6176\\3034425392.py:75: FutureWarning: The frame.append method is deprecated and will be removed from pandas in a future version. Use pandas.concat instead.\n",
      "  df = df.append([globals()[f'list']])\n",
      "C:\\Users\\smhrd\\AppData\\Roaming\\Python\\Python39\\site-packages\\sklearn\\base.py:450: UserWarning: X does not have valid feature names, but KNeighborsClassifier was fitted with feature names\n",
      "  warnings.warn(\n"
     ]
    },
    {
     "name": "stdout",
     "output_type": "stream",
     "text": [
      "(172.18944307695236, 136.7765940107644, -72.5)\n",
      "[[0. 0. 1. 0.]]\n",
      "(171.5556121138661, 136.50006245144502, -71.0)\n",
      "[[0. 0. 1. 0.]]\n",
      "(174.3415519882145, 137.86848512128464, -67.5)\n",
      "[[0. 0. 1. 0.]]\n",
      "(164.47161256053735, 135.42939793171305, -71.5)\n",
      "[[0. 0. 1. 0.]]\n"
     ]
    },
    {
     "name": "stderr",
     "output_type": "stream",
     "text": [
      "C:\\Users\\smhrd\\AppData\\Local\\Temp\\ipykernel_6176\\3034425392.py:75: FutureWarning: The frame.append method is deprecated and will be removed from pandas in a future version. Use pandas.concat instead.\n",
      "  df = df.append([globals()[f'list']])\n",
      "C:\\Users\\smhrd\\AppData\\Roaming\\Python\\Python39\\site-packages\\sklearn\\base.py:450: UserWarning: X does not have valid feature names, but KNeighborsClassifier was fitted with feature names\n",
      "  warnings.warn(\n",
      "C:\\Users\\smhrd\\AppData\\Local\\Temp\\ipykernel_6176\\3034425392.py:75: FutureWarning: The frame.append method is deprecated and will be removed from pandas in a future version. Use pandas.concat instead.\n",
      "  df = df.append([globals()[f'list']])\n",
      "C:\\Users\\smhrd\\AppData\\Roaming\\Python\\Python39\\site-packages\\sklearn\\base.py:450: UserWarning: X does not have valid feature names, but KNeighborsClassifier was fitted with feature names\n",
      "  warnings.warn(\n",
      "C:\\Users\\smhrd\\AppData\\Local\\Temp\\ipykernel_6176\\3034425392.py:75: FutureWarning: The frame.append method is deprecated and will be removed from pandas in a future version. Use pandas.concat instead.\n",
      "  df = df.append([globals()[f'list']])\n",
      "C:\\Users\\smhrd\\AppData\\Roaming\\Python\\Python39\\site-packages\\sklearn\\base.py:450: UserWarning: X does not have valid feature names, but KNeighborsClassifier was fitted with feature names\n",
      "  warnings.warn(\n"
     ]
    },
    {
     "name": "stdout",
     "output_type": "stream",
     "text": [
      "(165.32415406359203, 136.95659727693902, -63.0)\n",
      "[[0.         0.         0.33333333 0.66666667]]\n",
      "(173.41175556365744, 138.77235391743554, -56.0)\n",
      "[[0. 0. 1. 0.]]\n",
      "(163.78677169412347, 138.31173564721115, -53.0)\n",
      "[[0. 0. 1. 0.]]\n"
     ]
    },
    {
     "name": "stderr",
     "output_type": "stream",
     "text": [
      "C:\\Users\\smhrd\\AppData\\Local\\Temp\\ipykernel_6176\\3034425392.py:75: FutureWarning: The frame.append method is deprecated and will be removed from pandas in a future version. Use pandas.concat instead.\n",
      "  df = df.append([globals()[f'list']])\n",
      "C:\\Users\\smhrd\\AppData\\Roaming\\Python\\Python39\\site-packages\\sklearn\\base.py:450: UserWarning: X does not have valid feature names, but KNeighborsClassifier was fitted with feature names\n",
      "  warnings.warn(\n",
      "C:\\Users\\smhrd\\AppData\\Local\\Temp\\ipykernel_6176\\3034425392.py:75: FutureWarning: The frame.append method is deprecated and will be removed from pandas in a future version. Use pandas.concat instead.\n",
      "  df = df.append([globals()[f'list']])\n",
      "C:\\Users\\smhrd\\AppData\\Roaming\\Python\\Python39\\site-packages\\sklearn\\base.py:450: UserWarning: X does not have valid feature names, but KNeighborsClassifier was fitted with feature names\n",
      "  warnings.warn(\n",
      "C:\\Users\\smhrd\\AppData\\Local\\Temp\\ipykernel_6176\\3034425392.py:75: FutureWarning: The frame.append method is deprecated and will be removed from pandas in a future version. Use pandas.concat instead.\n",
      "  df = df.append([globals()[f'list']])\n",
      "C:\\Users\\smhrd\\AppData\\Roaming\\Python\\Python39\\site-packages\\sklearn\\base.py:450: UserWarning: X does not have valid feature names, but KNeighborsClassifier was fitted with feature names\n",
      "  warnings.warn(\n"
     ]
    },
    {
     "name": "stdout",
     "output_type": "stream",
     "text": [
      "(165.25643716352926, 139.83127005104637, -50.0)\n",
      "[[0. 0. 1. 0.]]\n",
      "(162.07428588828827, 141.7765353956128, -44.5)\n",
      "[[0. 0. 1. 0.]]\n",
      "(170.62342014074144, 143.55812818784068, -32.0)\n",
      "[[0. 0. 1. 0.]]\n"
     ]
    },
    {
     "name": "stderr",
     "output_type": "stream",
     "text": [
      "C:\\Users\\smhrd\\AppData\\Local\\Temp\\ipykernel_6176\\3034425392.py:75: FutureWarning: The frame.append method is deprecated and will be removed from pandas in a future version. Use pandas.concat instead.\n",
      "  df = df.append([globals()[f'list']])\n",
      "C:\\Users\\smhrd\\AppData\\Roaming\\Python\\Python39\\site-packages\\sklearn\\base.py:450: UserWarning: X does not have valid feature names, but KNeighborsClassifier was fitted with feature names\n",
      "  warnings.warn(\n",
      "C:\\Users\\smhrd\\AppData\\Local\\Temp\\ipykernel_6176\\3034425392.py:75: FutureWarning: The frame.append method is deprecated and will be removed from pandas in a future version. Use pandas.concat instead.\n",
      "  df = df.append([globals()[f'list']])\n",
      "C:\\Users\\smhrd\\AppData\\Roaming\\Python\\Python39\\site-packages\\sklearn\\base.py:450: UserWarning: X does not have valid feature names, but KNeighborsClassifier was fitted with feature names\n",
      "  warnings.warn(\n",
      "C:\\Users\\smhrd\\AppData\\Local\\Temp\\ipykernel_6176\\3034425392.py:75: FutureWarning: The frame.append method is deprecated and will be removed from pandas in a future version. Use pandas.concat instead.\n",
      "  df = df.append([globals()[f'list']])\n",
      "C:\\Users\\smhrd\\AppData\\Roaming\\Python\\Python39\\site-packages\\sklearn\\base.py:450: UserWarning: X does not have valid feature names, but KNeighborsClassifier was fitted with feature names\n",
      "  warnings.warn(\n",
      "C:\\Users\\smhrd\\AppData\\Local\\Temp\\ipykernel_6176\\3034425392.py:75: FutureWarning: The frame.append method is deprecated and will be removed from pandas in a future version. Use pandas.concat instead.\n",
      "  df = df.append([globals()[f'list']])\n",
      "C:\\Users\\smhrd\\AppData\\Roaming\\Python\\Python39\\site-packages\\sklearn\\base.py:450: UserWarning: X does not have valid feature names, but KNeighborsClassifier was fitted with feature names\n",
      "  warnings.warn(\n"
     ]
    },
    {
     "name": "stdout",
     "output_type": "stream",
     "text": [
      "(171.72279981013546, 144.92913360512597, -26.5)\n",
      "[[0. 0. 1. 0.]]\n",
      "(165.5940996251085, 144.29533368614963, -26.0)\n",
      "[[0. 0. 1. 0.]]\n",
      "(157.2923911625758, 144.17798279398818, -25.0)\n",
      "[[0. 0. 1. 0.]]\n",
      "(157.8129023571976, 145.57462434047332, -21.0)\n",
      "[[0. 0. 1. 0.]]\n"
     ]
    },
    {
     "name": "stderr",
     "output_type": "stream",
     "text": [
      "C:\\Users\\smhrd\\AppData\\Local\\Temp\\ipykernel_6176\\3034425392.py:75: FutureWarning: The frame.append method is deprecated and will be removed from pandas in a future version. Use pandas.concat instead.\n",
      "  df = df.append([globals()[f'list']])\n",
      "C:\\Users\\smhrd\\AppData\\Roaming\\Python\\Python39\\site-packages\\sklearn\\base.py:450: UserWarning: X does not have valid feature names, but KNeighborsClassifier was fitted with feature names\n",
      "  warnings.warn(\n",
      "C:\\Users\\smhrd\\AppData\\Local\\Temp\\ipykernel_6176\\3034425392.py:75: FutureWarning: The frame.append method is deprecated and will be removed from pandas in a future version. Use pandas.concat instead.\n",
      "  df = df.append([globals()[f'list']])\n",
      "C:\\Users\\smhrd\\AppData\\Roaming\\Python\\Python39\\site-packages\\sklearn\\base.py:450: UserWarning: X does not have valid feature names, but KNeighborsClassifier was fitted with feature names\n",
      "  warnings.warn(\n",
      "C:\\Users\\smhrd\\AppData\\Local\\Temp\\ipykernel_6176\\3034425392.py:75: FutureWarning: The frame.append method is deprecated and will be removed from pandas in a future version. Use pandas.concat instead.\n",
      "  df = df.append([globals()[f'list']])\n",
      "C:\\Users\\smhrd\\AppData\\Roaming\\Python\\Python39\\site-packages\\sklearn\\base.py:450: UserWarning: X does not have valid feature names, but KNeighborsClassifier was fitted with feature names\n",
      "  warnings.warn(\n"
     ]
    },
    {
     "name": "stdout",
     "output_type": "stream",
     "text": [
      "(162.47274349378492, 149.28588132432267, -10.0)\n",
      "[[0. 0. 1. 0.]]\n",
      "(161.5366588208722, 146.10761580029126, -15.0)\n",
      "[[0. 0. 1. 0.]]\n",
      "(156.844538469922, 146.9809808664611, -19.5)\n",
      "[[0. 0. 1. 0.]]\n"
     ]
    },
    {
     "name": "stderr",
     "output_type": "stream",
     "text": [
      "C:\\Users\\smhrd\\AppData\\Local\\Temp\\ipykernel_6176\\3034425392.py:75: FutureWarning: The frame.append method is deprecated and will be removed from pandas in a future version. Use pandas.concat instead.\n",
      "  df = df.append([globals()[f'list']])\n",
      "C:\\Users\\smhrd\\AppData\\Roaming\\Python\\Python39\\site-packages\\sklearn\\base.py:450: UserWarning: X does not have valid feature names, but KNeighborsClassifier was fitted with feature names\n",
      "  warnings.warn(\n",
      "C:\\Users\\smhrd\\AppData\\Local\\Temp\\ipykernel_6176\\3034425392.py:75: FutureWarning: The frame.append method is deprecated and will be removed from pandas in a future version. Use pandas.concat instead.\n",
      "  df = df.append([globals()[f'list']])\n",
      "C:\\Users\\smhrd\\AppData\\Roaming\\Python\\Python39\\site-packages\\sklearn\\base.py:450: UserWarning: X does not have valid feature names, but KNeighborsClassifier was fitted with feature names\n",
      "  warnings.warn(\n",
      "C:\\Users\\smhrd\\AppData\\Local\\Temp\\ipykernel_6176\\3034425392.py:75: FutureWarning: The frame.append method is deprecated and will be removed from pandas in a future version. Use pandas.concat instead.\n",
      "  df = df.append([globals()[f'list']])\n",
      "C:\\Users\\smhrd\\AppData\\Roaming\\Python\\Python39\\site-packages\\sklearn\\base.py:450: UserWarning: X does not have valid feature names, but KNeighborsClassifier was fitted with feature names\n",
      "  warnings.warn(\n"
     ]
    },
    {
     "name": "stdout",
     "output_type": "stream",
     "text": [
      "(157.44469740852807, 144.95544507321145, -25.0)\n",
      "[[0. 0. 1. 0.]]\n",
      "(149.07979704564394, 144.62593672915665, -27.5)\n",
      "[[0. 0. 1. 0.]]\n",
      "(145.1927899223004, 145.75650185583137, -26.0)\n",
      "[[0. 0. 1. 0.]]\n"
     ]
    },
    {
     "name": "stderr",
     "output_type": "stream",
     "text": [
      "C:\\Users\\smhrd\\AppData\\Local\\Temp\\ipykernel_6176\\3034425392.py:75: FutureWarning: The frame.append method is deprecated and will be removed from pandas in a future version. Use pandas.concat instead.\n",
      "  df = df.append([globals()[f'list']])\n",
      "C:\\Users\\smhrd\\AppData\\Roaming\\Python\\Python39\\site-packages\\sklearn\\base.py:450: UserWarning: X does not have valid feature names, but KNeighborsClassifier was fitted with feature names\n",
      "  warnings.warn(\n",
      "C:\\Users\\smhrd\\AppData\\Local\\Temp\\ipykernel_6176\\3034425392.py:75: FutureWarning: The frame.append method is deprecated and will be removed from pandas in a future version. Use pandas.concat instead.\n",
      "  df = df.append([globals()[f'list']])\n",
      "C:\\Users\\smhrd\\AppData\\Roaming\\Python\\Python39\\site-packages\\sklearn\\base.py:450: UserWarning: X does not have valid feature names, but KNeighborsClassifier was fitted with feature names\n",
      "  warnings.warn(\n",
      "C:\\Users\\smhrd\\AppData\\Local\\Temp\\ipykernel_6176\\3034425392.py:75: FutureWarning: The frame.append method is deprecated and will be removed from pandas in a future version. Use pandas.concat instead.\n",
      "  df = df.append([globals()[f'list']])\n",
      "C:\\Users\\smhrd\\AppData\\Roaming\\Python\\Python39\\site-packages\\sklearn\\base.py:450: UserWarning: X does not have valid feature names, but KNeighborsClassifier was fitted with feature names\n",
      "  warnings.warn(\n"
     ]
    },
    {
     "name": "stdout",
     "output_type": "stream",
     "text": [
      "(144.18802326750347, 146.57910192938328, -22.0)\n",
      "[[0. 0. 1. 0.]]\n",
      "(142.1552764778659, 146.60739028830992, -21.5)\n",
      "[[0. 0. 1. 0.]]\n",
      "(140.16527649356075, 147.52312826678624, -21.0)\n",
      "[[0. 0. 1. 0.]]\n"
     ]
    },
    {
     "name": "stderr",
     "output_type": "stream",
     "text": [
      "C:\\Users\\smhrd\\AppData\\Local\\Temp\\ipykernel_6176\\3034425392.py:75: FutureWarning: The frame.append method is deprecated and will be removed from pandas in a future version. Use pandas.concat instead.\n",
      "  df = df.append([globals()[f'list']])\n",
      "C:\\Users\\smhrd\\AppData\\Roaming\\Python\\Python39\\site-packages\\sklearn\\base.py:450: UserWarning: X does not have valid feature names, but KNeighborsClassifier was fitted with feature names\n",
      "  warnings.warn(\n",
      "C:\\Users\\smhrd\\AppData\\Local\\Temp\\ipykernel_6176\\3034425392.py:75: FutureWarning: The frame.append method is deprecated and will be removed from pandas in a future version. Use pandas.concat instead.\n",
      "  df = df.append([globals()[f'list']])\n",
      "C:\\Users\\smhrd\\AppData\\Roaming\\Python\\Python39\\site-packages\\sklearn\\base.py:450: UserWarning: X does not have valid feature names, but KNeighborsClassifier was fitted with feature names\n",
      "  warnings.warn(\n",
      "C:\\Users\\smhrd\\AppData\\Local\\Temp\\ipykernel_6176\\3034425392.py:75: FutureWarning: The frame.append method is deprecated and will be removed from pandas in a future version. Use pandas.concat instead.\n",
      "  df = df.append([globals()[f'list']])\n",
      "C:\\Users\\smhrd\\AppData\\Roaming\\Python\\Python39\\site-packages\\sklearn\\base.py:450: UserWarning: X does not have valid feature names, but KNeighborsClassifier was fitted with feature names\n",
      "  warnings.warn(\n",
      "C:\\Users\\smhrd\\AppData\\Local\\Temp\\ipykernel_6176\\3034425392.py:75: FutureWarning: The frame.append method is deprecated and will be removed from pandas in a future version. Use pandas.concat instead.\n",
      "  df = df.append([globals()[f'list']])\n",
      "C:\\Users\\smhrd\\AppData\\Roaming\\Python\\Python39\\site-packages\\sklearn\\base.py:450: UserWarning: X does not have valid feature names, but KNeighborsClassifier was fitted with feature names\n",
      "  warnings.warn(\n"
     ]
    },
    {
     "name": "stdout",
     "output_type": "stream",
     "text": [
      "(141.01453181546427, 146.8483461923357, -23.0)\n",
      "[[0. 0. 1. 0.]]\n",
      "(142.95854589686024, 146.48473296248548, -22.5)\n",
      "[[0. 0. 1. 0.]]\n",
      "(140.7715850023825, 147.73566595657576, -20.0)\n",
      "[[0. 0. 1. 0.]]\n",
      "(139.65368663071328, 147.58951199003081, -20.0)\n",
      "[[0. 0. 1. 0.]]\n"
     ]
    },
    {
     "name": "stderr",
     "output_type": "stream",
     "text": [
      "C:\\Users\\smhrd\\AppData\\Local\\Temp\\ipykernel_6176\\3034425392.py:75: FutureWarning: The frame.append method is deprecated and will be removed from pandas in a future version. Use pandas.concat instead.\n",
      "  df = df.append([globals()[f'list']])\n",
      "C:\\Users\\smhrd\\AppData\\Roaming\\Python\\Python39\\site-packages\\sklearn\\base.py:450: UserWarning: X does not have valid feature names, but KNeighborsClassifier was fitted with feature names\n",
      "  warnings.warn(\n",
      "C:\\Users\\smhrd\\AppData\\Local\\Temp\\ipykernel_6176\\3034425392.py:75: FutureWarning: The frame.append method is deprecated and will be removed from pandas in a future version. Use pandas.concat instead.\n",
      "  df = df.append([globals()[f'list']])\n",
      "C:\\Users\\smhrd\\AppData\\Roaming\\Python\\Python39\\site-packages\\sklearn\\base.py:450: UserWarning: X does not have valid feature names, but KNeighborsClassifier was fitted with feature names\n",
      "  warnings.warn(\n",
      "C:\\Users\\smhrd\\AppData\\Local\\Temp\\ipykernel_6176\\3034425392.py:75: FutureWarning: The frame.append method is deprecated and will be removed from pandas in a future version. Use pandas.concat instead.\n",
      "  df = df.append([globals()[f'list']])\n",
      "C:\\Users\\smhrd\\AppData\\Roaming\\Python\\Python39\\site-packages\\sklearn\\base.py:450: UserWarning: X does not have valid feature names, but KNeighborsClassifier was fitted with feature names\n",
      "  warnings.warn(\n",
      "C:\\Users\\smhrd\\AppData\\Local\\Temp\\ipykernel_6176\\3034425392.py:75: FutureWarning: The frame.append method is deprecated and will be removed from pandas in a future version. Use pandas.concat instead.\n",
      "  df = df.append([globals()[f'list']])\n",
      "C:\\Users\\smhrd\\AppData\\Roaming\\Python\\Python39\\site-packages\\sklearn\\base.py:450: UserWarning: X does not have valid feature names, but KNeighborsClassifier was fitted with feature names\n",
      "  warnings.warn(\n"
     ]
    },
    {
     "name": "stdout",
     "output_type": "stream",
     "text": [
      "(137.5394277333722, 147.95041108029056, -18.5)\n",
      "[[0. 0. 1. 0.]]\n",
      "(137.32932935058784, 145.30615799123504, -20.0)\n",
      "[[0. 0. 1. 0.]]\n",
      "(140.4206501388734, 145.00169779101722, -21.5)\n",
      "[[0. 0. 1. 0.]]\n",
      "(140.29866025426023, 146.44189867006259, -20.0)\n",
      "[[0. 0. 1. 0.]]\n"
     ]
    },
    {
     "name": "stderr",
     "output_type": "stream",
     "text": [
      "C:\\Users\\smhrd\\AppData\\Local\\Temp\\ipykernel_6176\\3034425392.py:75: FutureWarning: The frame.append method is deprecated and will be removed from pandas in a future version. Use pandas.concat instead.\n",
      "  df = df.append([globals()[f'list']])\n",
      "C:\\Users\\smhrd\\AppData\\Roaming\\Python\\Python39\\site-packages\\sklearn\\base.py:450: UserWarning: X does not have valid feature names, but KNeighborsClassifier was fitted with feature names\n",
      "  warnings.warn(\n",
      "C:\\Users\\smhrd\\AppData\\Local\\Temp\\ipykernel_6176\\3034425392.py:75: FutureWarning: The frame.append method is deprecated and will be removed from pandas in a future version. Use pandas.concat instead.\n",
      "  df = df.append([globals()[f'list']])\n",
      "C:\\Users\\smhrd\\AppData\\Roaming\\Python\\Python39\\site-packages\\sklearn\\base.py:450: UserWarning: X does not have valid feature names, but KNeighborsClassifier was fitted with feature names\n",
      "  warnings.warn(\n",
      "C:\\Users\\smhrd\\AppData\\Local\\Temp\\ipykernel_6176\\3034425392.py:75: FutureWarning: The frame.append method is deprecated and will be removed from pandas in a future version. Use pandas.concat instead.\n",
      "  df = df.append([globals()[f'list']])\n",
      "C:\\Users\\smhrd\\AppData\\Roaming\\Python\\Python39\\site-packages\\sklearn\\base.py:450: UserWarning: X does not have valid feature names, but KNeighborsClassifier was fitted with feature names\n",
      "  warnings.warn(\n",
      "C:\\Users\\smhrd\\AppData\\Local\\Temp\\ipykernel_6176\\3034425392.py:75: FutureWarning: The frame.append method is deprecated and will be removed from pandas in a future version. Use pandas.concat instead.\n",
      "  df = df.append([globals()[f'list']])\n",
      "C:\\Users\\smhrd\\AppData\\Roaming\\Python\\Python39\\site-packages\\sklearn\\base.py:450: UserWarning: X does not have valid feature names, but KNeighborsClassifier was fitted with feature names\n",
      "  warnings.warn(\n"
     ]
    },
    {
     "name": "stdout",
     "output_type": "stream",
     "text": [
      "(142.0179784752032, 146.14846194713323, -21.5)\n",
      "[[0. 0. 1. 0.]]\n",
      "(138.37370443002862, 146.8324785014322, -19.0)\n",
      "[[0. 0. 1. 0.]]\n",
      "(138.69423813091743, 147.01374448647067, -18.0)\n",
      "[[0. 0. 1. 0.]]\n",
      "(140.22227388662145, 148.22106183697673, -18.0)\n",
      "[[0. 0. 1. 0.]]\n"
     ]
    },
    {
     "name": "stderr",
     "output_type": "stream",
     "text": [
      "C:\\Users\\smhrd\\AppData\\Local\\Temp\\ipykernel_6176\\3034425392.py:75: FutureWarning: The frame.append method is deprecated and will be removed from pandas in a future version. Use pandas.concat instead.\n",
      "  df = df.append([globals()[f'list']])\n",
      "C:\\Users\\smhrd\\AppData\\Roaming\\Python\\Python39\\site-packages\\sklearn\\base.py:450: UserWarning: X does not have valid feature names, but KNeighborsClassifier was fitted with feature names\n",
      "  warnings.warn(\n",
      "C:\\Users\\smhrd\\AppData\\Local\\Temp\\ipykernel_6176\\3034425392.py:75: FutureWarning: The frame.append method is deprecated and will be removed from pandas in a future version. Use pandas.concat instead.\n",
      "  df = df.append([globals()[f'list']])\n",
      "C:\\Users\\smhrd\\AppData\\Roaming\\Python\\Python39\\site-packages\\sklearn\\base.py:450: UserWarning: X does not have valid feature names, but KNeighborsClassifier was fitted with feature names\n",
      "  warnings.warn(\n",
      "C:\\Users\\smhrd\\AppData\\Local\\Temp\\ipykernel_6176\\3034425392.py:75: FutureWarning: The frame.append method is deprecated and will be removed from pandas in a future version. Use pandas.concat instead.\n",
      "  df = df.append([globals()[f'list']])\n",
      "C:\\Users\\smhrd\\AppData\\Roaming\\Python\\Python39\\site-packages\\sklearn\\base.py:450: UserWarning: X does not have valid feature names, but KNeighborsClassifier was fitted with feature names\n",
      "  warnings.warn(\n"
     ]
    },
    {
     "name": "stdout",
     "output_type": "stream",
     "text": [
      "(138.63724286754564, 146.1863858735094, -18.5)\n",
      "[[0. 0. 1. 0.]]\n",
      "(139.05109146685166, 145.83083971649432, -18.0)\n",
      "[[0. 0. 1. 0.]]\n",
      "(138.64941962569497, 147.73752002186995, -16.5)\n",
      "[[0. 0. 1. 0.]]\n"
     ]
    },
    {
     "name": "stderr",
     "output_type": "stream",
     "text": [
      "C:\\Users\\smhrd\\AppData\\Local\\Temp\\ipykernel_6176\\3034425392.py:75: FutureWarning: The frame.append method is deprecated and will be removed from pandas in a future version. Use pandas.concat instead.\n",
      "  df = df.append([globals()[f'list']])\n",
      "C:\\Users\\smhrd\\AppData\\Roaming\\Python\\Python39\\site-packages\\sklearn\\base.py:450: UserWarning: X does not have valid feature names, but KNeighborsClassifier was fitted with feature names\n",
      "  warnings.warn(\n",
      "C:\\Users\\smhrd\\AppData\\Local\\Temp\\ipykernel_6176\\3034425392.py:75: FutureWarning: The frame.append method is deprecated and will be removed from pandas in a future version. Use pandas.concat instead.\n",
      "  df = df.append([globals()[f'list']])\n",
      "C:\\Users\\smhrd\\AppData\\Roaming\\Python\\Python39\\site-packages\\sklearn\\base.py:450: UserWarning: X does not have valid feature names, but KNeighborsClassifier was fitted with feature names\n",
      "  warnings.warn(\n",
      "C:\\Users\\smhrd\\AppData\\Local\\Temp\\ipykernel_6176\\3034425392.py:75: FutureWarning: The frame.append method is deprecated and will be removed from pandas in a future version. Use pandas.concat instead.\n",
      "  df = df.append([globals()[f'list']])\n",
      "C:\\Users\\smhrd\\AppData\\Roaming\\Python\\Python39\\site-packages\\sklearn\\base.py:450: UserWarning: X does not have valid feature names, but KNeighborsClassifier was fitted with feature names\n",
      "  warnings.warn(\n",
      "C:\\Users\\smhrd\\AppData\\Local\\Temp\\ipykernel_6176\\3034425392.py:75: FutureWarning: The frame.append method is deprecated and will be removed from pandas in a future version. Use pandas.concat instead.\n",
      "  df = df.append([globals()[f'list']])\n"
     ]
    },
    {
     "name": "stdout",
     "output_type": "stream",
     "text": [
      "(138.998479394789, 148.84303110084517, -18.5)\n",
      "[[0. 0. 1. 0.]]\n",
      "(139.08188109079424, 149.40111176593535, -15.5)\n",
      "[[0. 0. 1. 0.]]\n",
      "(139.55621897767614, 150.49263389859678, -14.0)\n",
      "[[0. 0. 1. 0.]]\n",
      "(137.63604522730336, 147.49176178677604, -22.0)\n"
     ]
    },
    {
     "name": "stderr",
     "output_type": "stream",
     "text": [
      "C:\\Users\\smhrd\\AppData\\Roaming\\Python\\Python39\\site-packages\\sklearn\\base.py:450: UserWarning: X does not have valid feature names, but KNeighborsClassifier was fitted with feature names\n",
      "  warnings.warn(\n",
      "C:\\Users\\smhrd\\AppData\\Local\\Temp\\ipykernel_6176\\3034425392.py:75: FutureWarning: The frame.append method is deprecated and will be removed from pandas in a future version. Use pandas.concat instead.\n",
      "  df = df.append([globals()[f'list']])\n",
      "C:\\Users\\smhrd\\AppData\\Roaming\\Python\\Python39\\site-packages\\sklearn\\base.py:450: UserWarning: X does not have valid feature names, but KNeighborsClassifier was fitted with feature names\n",
      "  warnings.warn(\n",
      "C:\\Users\\smhrd\\AppData\\Local\\Temp\\ipykernel_6176\\3034425392.py:75: FutureWarning: The frame.append method is deprecated and will be removed from pandas in a future version. Use pandas.concat instead.\n",
      "  df = df.append([globals()[f'list']])\n",
      "C:\\Users\\smhrd\\AppData\\Roaming\\Python\\Python39\\site-packages\\sklearn\\base.py:450: UserWarning: X does not have valid feature names, but KNeighborsClassifier was fitted with feature names\n",
      "  warnings.warn(\n"
     ]
    },
    {
     "name": "stdout",
     "output_type": "stream",
     "text": [
      "[[0. 0. 1. 0.]]\n",
      "(137.34161365051548, 146.8717236819453, -20.0)\n",
      "[[0. 0. 1. 0.]]\n",
      "(143.0939297603725, 147.05724644280306, -16.5)\n",
      "[[0. 0. 1. 0.]]\n"
     ]
    },
    {
     "name": "stderr",
     "output_type": "stream",
     "text": [
      "C:\\Users\\smhrd\\AppData\\Local\\Temp\\ipykernel_6176\\3034425392.py:75: FutureWarning: The frame.append method is deprecated and will be removed from pandas in a future version. Use pandas.concat instead.\n",
      "  df = df.append([globals()[f'list']])\n",
      "C:\\Users\\smhrd\\AppData\\Roaming\\Python\\Python39\\site-packages\\sklearn\\base.py:450: UserWarning: X does not have valid feature names, but KNeighborsClassifier was fitted with feature names\n",
      "  warnings.warn(\n",
      "C:\\Users\\smhrd\\AppData\\Local\\Temp\\ipykernel_6176\\3034425392.py:75: FutureWarning: The frame.append method is deprecated and will be removed from pandas in a future version. Use pandas.concat instead.\n",
      "  df = df.append([globals()[f'list']])\n",
      "C:\\Users\\smhrd\\AppData\\Roaming\\Python\\Python39\\site-packages\\sklearn\\base.py:450: UserWarning: X does not have valid feature names, but KNeighborsClassifier was fitted with feature names\n",
      "  warnings.warn(\n",
      "C:\\Users\\smhrd\\AppData\\Local\\Temp\\ipykernel_6176\\3034425392.py:75: FutureWarning: The frame.append method is deprecated and will be removed from pandas in a future version. Use pandas.concat instead.\n",
      "  df = df.append([globals()[f'list']])\n",
      "C:\\Users\\smhrd\\AppData\\Roaming\\Python\\Python39\\site-packages\\sklearn\\base.py:450: UserWarning: X does not have valid feature names, but KNeighborsClassifier was fitted with feature names\n",
      "  warnings.warn(\n",
      "C:\\Users\\smhrd\\AppData\\Local\\Temp\\ipykernel_6176\\3034425392.py:75: FutureWarning: The frame.append method is deprecated and will be removed from pandas in a future version. Use pandas.concat instead.\n",
      "  df = df.append([globals()[f'list']])\n",
      "C:\\Users\\smhrd\\AppData\\Roaming\\Python\\Python39\\site-packages\\sklearn\\base.py:450: UserWarning: X does not have valid feature names, but KNeighborsClassifier was fitted with feature names\n",
      "  warnings.warn(\n"
     ]
    },
    {
     "name": "stdout",
     "output_type": "stream",
     "text": [
      "(145.13507189358936, 145.97399456337502, -20.0)\n",
      "[[0. 0. 1. 0.]]\n",
      "(147.07819423503219, 145.91810569706587, -19.0)\n",
      "[[0. 0. 1. 0.]]\n",
      "(156.27070089253507, 144.66168603601147, -23.5)\n",
      "[[0. 0. 1. 0.]]\n",
      "(149.4842908352679, 146.42037338759462, -16.0)\n",
      "[[0. 0. 1. 0.]]\n"
     ]
    },
    {
     "name": "stderr",
     "output_type": "stream",
     "text": [
      "C:\\Users\\smhrd\\AppData\\Local\\Temp\\ipykernel_6176\\3034425392.py:75: FutureWarning: The frame.append method is deprecated and will be removed from pandas in a future version. Use pandas.concat instead.\n",
      "  df = df.append([globals()[f'list']])\n",
      "C:\\Users\\smhrd\\AppData\\Roaming\\Python\\Python39\\site-packages\\sklearn\\base.py:450: UserWarning: X does not have valid feature names, but KNeighborsClassifier was fitted with feature names\n",
      "  warnings.warn(\n",
      "C:\\Users\\smhrd\\AppData\\Local\\Temp\\ipykernel_6176\\3034425392.py:75: FutureWarning: The frame.append method is deprecated and will be removed from pandas in a future version. Use pandas.concat instead.\n",
      "  df = df.append([globals()[f'list']])\n",
      "C:\\Users\\smhrd\\AppData\\Roaming\\Python\\Python39\\site-packages\\sklearn\\base.py:450: UserWarning: X does not have valid feature names, but KNeighborsClassifier was fitted with feature names\n",
      "  warnings.warn(\n",
      "C:\\Users\\smhrd\\AppData\\Local\\Temp\\ipykernel_6176\\3034425392.py:75: FutureWarning: The frame.append method is deprecated and will be removed from pandas in a future version. Use pandas.concat instead.\n",
      "  df = df.append([globals()[f'list']])\n",
      "C:\\Users\\smhrd\\AppData\\Roaming\\Python\\Python39\\site-packages\\sklearn\\base.py:450: UserWarning: X does not have valid feature names, but KNeighborsClassifier was fitted with feature names\n",
      "  warnings.warn(\n",
      "C:\\Users\\smhrd\\AppData\\Local\\Temp\\ipykernel_6176\\3034425392.py:75: FutureWarning: The frame.append method is deprecated and will be removed from pandas in a future version. Use pandas.concat instead.\n",
      "  df = df.append([globals()[f'list']])\n",
      "C:\\Users\\smhrd\\AppData\\Roaming\\Python\\Python39\\site-packages\\sklearn\\base.py:450: UserWarning: X does not have valid feature names, but KNeighborsClassifier was fitted with feature names\n",
      "  warnings.warn(\n"
     ]
    },
    {
     "name": "stdout",
     "output_type": "stream",
     "text": [
      "(147.93508605819065, 148.65017229693188, -13.0)\n",
      "[[0. 0. 1. 0.]]\n",
      "(140.66157388564716, 146.27290784624049, -19.5)\n",
      "[[0. 0. 1. 0.]]\n",
      "(149.55217858016633, 144.71454852289094, -21.5)\n",
      "[[0. 0. 1. 0.]]\n",
      "(153.4816446394073, 142.32566576045173, -31.5)\n",
      "[[0. 0. 1. 0.]]\n"
     ]
    },
    {
     "name": "stderr",
     "output_type": "stream",
     "text": [
      "C:\\Users\\smhrd\\AppData\\Local\\Temp\\ipykernel_6176\\3034425392.py:75: FutureWarning: The frame.append method is deprecated and will be removed from pandas in a future version. Use pandas.concat instead.\n",
      "  df = df.append([globals()[f'list']])\n",
      "C:\\Users\\smhrd\\AppData\\Roaming\\Python\\Python39\\site-packages\\sklearn\\base.py:450: UserWarning: X does not have valid feature names, but KNeighborsClassifier was fitted with feature names\n",
      "  warnings.warn(\n",
      "C:\\Users\\smhrd\\AppData\\Local\\Temp\\ipykernel_6176\\3034425392.py:75: FutureWarning: The frame.append method is deprecated and will be removed from pandas in a future version. Use pandas.concat instead.\n",
      "  df = df.append([globals()[f'list']])\n",
      "C:\\Users\\smhrd\\AppData\\Roaming\\Python\\Python39\\site-packages\\sklearn\\base.py:450: UserWarning: X does not have valid feature names, but KNeighborsClassifier was fitted with feature names\n",
      "  warnings.warn(\n",
      "C:\\Users\\smhrd\\AppData\\Local\\Temp\\ipykernel_6176\\3034425392.py:75: FutureWarning: The frame.append method is deprecated and will be removed from pandas in a future version. Use pandas.concat instead.\n",
      "  df = df.append([globals()[f'list']])\n",
      "C:\\Users\\smhrd\\AppData\\Roaming\\Python\\Python39\\site-packages\\sklearn\\base.py:450: UserWarning: X does not have valid feature names, but KNeighborsClassifier was fitted with feature names\n",
      "  warnings.warn(\n"
     ]
    },
    {
     "name": "stdout",
     "output_type": "stream",
     "text": [
      "(173.99208394785947, 142.5771557003258, -35.0)\n",
      "[[0. 0. 1. 0.]]\n",
      "(164.1893546022893, 140.986294337476, -41.0)\n",
      "[[0. 0. 1. 0.]]\n",
      "(172.04629222564367, 139.657570067309, -48.0)\n",
      "[[0. 0. 1. 0.]]\n"
     ]
    },
    {
     "name": "stderr",
     "output_type": "stream",
     "text": [
      "C:\\Users\\smhrd\\AppData\\Local\\Temp\\ipykernel_6176\\3034425392.py:75: FutureWarning: The frame.append method is deprecated and will be removed from pandas in a future version. Use pandas.concat instead.\n",
      "  df = df.append([globals()[f'list']])\n",
      "C:\\Users\\smhrd\\AppData\\Roaming\\Python\\Python39\\site-packages\\sklearn\\base.py:450: UserWarning: X does not have valid feature names, but KNeighborsClassifier was fitted with feature names\n",
      "  warnings.warn(\n",
      "C:\\Users\\smhrd\\AppData\\Local\\Temp\\ipykernel_6176\\3034425392.py:75: FutureWarning: The frame.append method is deprecated and will be removed from pandas in a future version. Use pandas.concat instead.\n",
      "  df = df.append([globals()[f'list']])\n",
      "C:\\Users\\smhrd\\AppData\\Roaming\\Python\\Python39\\site-packages\\sklearn\\base.py:450: UserWarning: X does not have valid feature names, but KNeighborsClassifier was fitted with feature names\n",
      "  warnings.warn(\n",
      "C:\\Users\\smhrd\\AppData\\Local\\Temp\\ipykernel_6176\\3034425392.py:75: FutureWarning: The frame.append method is deprecated and will be removed from pandas in a future version. Use pandas.concat instead.\n",
      "  df = df.append([globals()[f'list']])\n",
      "C:\\Users\\smhrd\\AppData\\Roaming\\Python\\Python39\\site-packages\\sklearn\\base.py:450: UserWarning: X does not have valid feature names, but KNeighborsClassifier was fitted with feature names\n",
      "  warnings.warn(\n",
      "C:\\Users\\smhrd\\AppData\\Local\\Temp\\ipykernel_6176\\3034425392.py:75: FutureWarning: The frame.append method is deprecated and will be removed from pandas in a future version. Use pandas.concat instead.\n",
      "  df = df.append([globals()[f'list']])\n",
      "C:\\Users\\smhrd\\AppData\\Roaming\\Python\\Python39\\site-packages\\sklearn\\base.py:450: UserWarning: X does not have valid feature names, but KNeighborsClassifier was fitted with feature names\n",
      "  warnings.warn(\n"
     ]
    },
    {
     "name": "stdout",
     "output_type": "stream",
     "text": [
      "(167.26590014607086, 137.23615870677227, -55.0)\n",
      "[[0. 0. 1. 0.]]\n",
      "(175.3435276265517, 136.70040389437278, -58.5)\n",
      "[[0. 0. 1. 0.]]\n",
      "(176.50460060688374, 136.89109689499878, -62.5)\n",
      "[[0. 0. 1. 0.]]\n",
      "(168.38256601073965, 134.3988972695162, -72.0)\n",
      "[[0. 0. 1. 0.]]\n"
     ]
    },
    {
     "name": "stderr",
     "output_type": "stream",
     "text": [
      "C:\\Users\\smhrd\\AppData\\Local\\Temp\\ipykernel_6176\\3034425392.py:75: FutureWarning: The frame.append method is deprecated and will be removed from pandas in a future version. Use pandas.concat instead.\n",
      "  df = df.append([globals()[f'list']])\n",
      "C:\\Users\\smhrd\\AppData\\Roaming\\Python\\Python39\\site-packages\\sklearn\\base.py:450: UserWarning: X does not have valid feature names, but KNeighborsClassifier was fitted with feature names\n",
      "  warnings.warn(\n",
      "C:\\Users\\smhrd\\AppData\\Local\\Temp\\ipykernel_6176\\3034425392.py:75: FutureWarning: The frame.append method is deprecated and will be removed from pandas in a future version. Use pandas.concat instead.\n",
      "  df = df.append([globals()[f'list']])\n",
      "C:\\Users\\smhrd\\AppData\\Roaming\\Python\\Python39\\site-packages\\sklearn\\base.py:450: UserWarning: X does not have valid feature names, but KNeighborsClassifier was fitted with feature names\n",
      "  warnings.warn(\n",
      "C:\\Users\\smhrd\\AppData\\Local\\Temp\\ipykernel_6176\\3034425392.py:75: FutureWarning: The frame.append method is deprecated and will be removed from pandas in a future version. Use pandas.concat instead.\n",
      "  df = df.append([globals()[f'list']])\n",
      "C:\\Users\\smhrd\\AppData\\Roaming\\Python\\Python39\\site-packages\\sklearn\\base.py:450: UserWarning: X does not have valid feature names, but KNeighborsClassifier was fitted with feature names\n",
      "  warnings.warn(\n",
      "C:\\Users\\smhrd\\AppData\\Local\\Temp\\ipykernel_6176\\3034425392.py:75: FutureWarning: The frame.append method is deprecated and will be removed from pandas in a future version. Use pandas.concat instead.\n",
      "  df = df.append([globals()[f'list']])\n",
      "C:\\Users\\smhrd\\AppData\\Roaming\\Python\\Python39\\site-packages\\sklearn\\base.py:450: UserWarning: X does not have valid feature names, but KNeighborsClassifier was fitted with feature names\n",
      "  warnings.warn(\n"
     ]
    },
    {
     "name": "stdout",
     "output_type": "stream",
     "text": [
      "(162.4177248427464, 134.76608833232297, -76.0)\n",
      "[[0. 0. 1. 0.]]\n",
      "(166.90708255283997, 135.0053422638086, -82.5)\n",
      "[[0. 0. 1. 0.]]\n",
      "(172.28861496797947, 134.65705661363592, -81.0)\n",
      "[[0.         0.         0.33333333 0.66666667]]\n",
      "(165.50543403991108, 133.42759817179748, -85.5)\n",
      "[[0. 0. 1. 0.]]\n"
     ]
    },
    {
     "name": "stderr",
     "output_type": "stream",
     "text": [
      "C:\\Users\\smhrd\\AppData\\Local\\Temp\\ipykernel_6176\\3034425392.py:75: FutureWarning: The frame.append method is deprecated and will be removed from pandas in a future version. Use pandas.concat instead.\n",
      "  df = df.append([globals()[f'list']])\n",
      "C:\\Users\\smhrd\\AppData\\Roaming\\Python\\Python39\\site-packages\\sklearn\\base.py:450: UserWarning: X does not have valid feature names, but KNeighborsClassifier was fitted with feature names\n",
      "  warnings.warn(\n",
      "C:\\Users\\smhrd\\AppData\\Local\\Temp\\ipykernel_6176\\3034425392.py:75: FutureWarning: The frame.append method is deprecated and will be removed from pandas in a future version. Use pandas.concat instead.\n",
      "  df = df.append([globals()[f'list']])\n",
      "C:\\Users\\smhrd\\AppData\\Roaming\\Python\\Python39\\site-packages\\sklearn\\base.py:450: UserWarning: X does not have valid feature names, but KNeighborsClassifier was fitted with feature names\n",
      "  warnings.warn(\n",
      "C:\\Users\\smhrd\\AppData\\Local\\Temp\\ipykernel_6176\\3034425392.py:75: FutureWarning: The frame.append method is deprecated and will be removed from pandas in a future version. Use pandas.concat instead.\n",
      "  df = df.append([globals()[f'list']])\n",
      "C:\\Users\\smhrd\\AppData\\Roaming\\Python\\Python39\\site-packages\\sklearn\\base.py:450: UserWarning: X does not have valid feature names, but KNeighborsClassifier was fitted with feature names\n",
      "  warnings.warn(\n"
     ]
    },
    {
     "name": "stdout",
     "output_type": "stream",
     "text": [
      "(169.86335844421995, 133.68674250423098, -87.5)\n",
      "[[0.         0.         0.33333333 0.66666667]]\n",
      "(167.46754960667047, 133.21519840008128, -91.0)\n",
      "[[0. 0. 1. 0.]]\n",
      "(167.23346246107604, 132.88748859631698, -92.5)\n",
      "[[0. 0. 1. 0.]]\n"
     ]
    },
    {
     "name": "stderr",
     "output_type": "stream",
     "text": [
      "C:\\Users\\smhrd\\AppData\\Local\\Temp\\ipykernel_6176\\3034425392.py:75: FutureWarning: The frame.append method is deprecated and will be removed from pandas in a future version. Use pandas.concat instead.\n",
      "  df = df.append([globals()[f'list']])\n",
      "C:\\Users\\smhrd\\AppData\\Roaming\\Python\\Python39\\site-packages\\sklearn\\base.py:450: UserWarning: X does not have valid feature names, but KNeighborsClassifier was fitted with feature names\n",
      "  warnings.warn(\n",
      "C:\\Users\\smhrd\\AppData\\Local\\Temp\\ipykernel_6176\\3034425392.py:75: FutureWarning: The frame.append method is deprecated and will be removed from pandas in a future version. Use pandas.concat instead.\n",
      "  df = df.append([globals()[f'list']])\n",
      "C:\\Users\\smhrd\\AppData\\Roaming\\Python\\Python39\\site-packages\\sklearn\\base.py:450: UserWarning: X does not have valid feature names, but KNeighborsClassifier was fitted with feature names\n",
      "  warnings.warn(\n",
      "C:\\Users\\smhrd\\AppData\\Local\\Temp\\ipykernel_6176\\3034425392.py:75: FutureWarning: The frame.append method is deprecated and will be removed from pandas in a future version. Use pandas.concat instead.\n",
      "  df = df.append([globals()[f'list']])\n",
      "C:\\Users\\smhrd\\AppData\\Roaming\\Python\\Python39\\site-packages\\sklearn\\base.py:450: UserWarning: X does not have valid feature names, but KNeighborsClassifier was fitted with feature names\n",
      "  warnings.warn(\n"
     ]
    },
    {
     "name": "stdout",
     "output_type": "stream",
     "text": [
      "(170.1806993612421, 131.59423249290452, -89.5)\n",
      "[[0. 0. 0. 1.]]\n",
      "(166.7495324644706, 132.51159052374814, -92.0)\n",
      "[[0. 0. 1. 0.]]\n",
      "(166.8728043085497, 132.07667991628736, -90.0)\n",
      "[[0. 0. 1. 0.]]\n"
     ]
    },
    {
     "name": "stderr",
     "output_type": "stream",
     "text": [
      "C:\\Users\\smhrd\\AppData\\Local\\Temp\\ipykernel_6176\\3034425392.py:75: FutureWarning: The frame.append method is deprecated and will be removed from pandas in a future version. Use pandas.concat instead.\n",
      "  df = df.append([globals()[f'list']])\n",
      "C:\\Users\\smhrd\\AppData\\Roaming\\Python\\Python39\\site-packages\\sklearn\\base.py:450: UserWarning: X does not have valid feature names, but KNeighborsClassifier was fitted with feature names\n",
      "  warnings.warn(\n",
      "C:\\Users\\smhrd\\AppData\\Local\\Temp\\ipykernel_6176\\3034425392.py:75: FutureWarning: The frame.append method is deprecated and will be removed from pandas in a future version. Use pandas.concat instead.\n",
      "  df = df.append([globals()[f'list']])\n",
      "C:\\Users\\smhrd\\AppData\\Roaming\\Python\\Python39\\site-packages\\sklearn\\base.py:450: UserWarning: X does not have valid feature names, but KNeighborsClassifier was fitted with feature names\n",
      "  warnings.warn(\n",
      "C:\\Users\\smhrd\\AppData\\Local\\Temp\\ipykernel_6176\\3034425392.py:75: FutureWarning: The frame.append method is deprecated and will be removed from pandas in a future version. Use pandas.concat instead.\n",
      "  df = df.append([globals()[f'list']])\n",
      "C:\\Users\\smhrd\\AppData\\Roaming\\Python\\Python39\\site-packages\\sklearn\\base.py:450: UserWarning: X does not have valid feature names, but KNeighborsClassifier was fitted with feature names\n",
      "  warnings.warn(\n",
      "C:\\Users\\smhrd\\AppData\\Local\\Temp\\ipykernel_6176\\3034425392.py:75: FutureWarning: The frame.append method is deprecated and will be removed from pandas in a future version. Use pandas.concat instead.\n",
      "  df = df.append([globals()[f'list']])\n",
      "C:\\Users\\smhrd\\AppData\\Roaming\\Python\\Python39\\site-packages\\sklearn\\base.py:450: UserWarning: X does not have valid feature names, but KNeighborsClassifier was fitted with feature names\n",
      "  warnings.warn(\n"
     ]
    },
    {
     "name": "stdout",
     "output_type": "stream",
     "text": [
      "(165.84898623333737, 133.32726708641232, -83.5)\n",
      "[[0. 0. 1. 0.]]\n",
      "(163.49094270477866, 134.8110037778292, -74.5)\n",
      "[[0. 0. 1. 0.]]\n",
      "(161.47517922810246, 136.20428631506084, -69.0)\n",
      "[[0.         0.         0.66666667 0.33333333]]\n",
      "(168.289501848351, 137.86378901356105, -59.5)\n",
      "[[0. 0. 1. 0.]]\n"
     ]
    },
    {
     "name": "stderr",
     "output_type": "stream",
     "text": [
      "C:\\Users\\smhrd\\AppData\\Local\\Temp\\ipykernel_6176\\3034425392.py:75: FutureWarning: The frame.append method is deprecated and will be removed from pandas in a future version. Use pandas.concat instead.\n",
      "  df = df.append([globals()[f'list']])\n",
      "C:\\Users\\smhrd\\AppData\\Roaming\\Python\\Python39\\site-packages\\sklearn\\base.py:450: UserWarning: X does not have valid feature names, but KNeighborsClassifier was fitted with feature names\n",
      "  warnings.warn(\n",
      "C:\\Users\\smhrd\\AppData\\Local\\Temp\\ipykernel_6176\\3034425392.py:75: FutureWarning: The frame.append method is deprecated and will be removed from pandas in a future version. Use pandas.concat instead.\n",
      "  df = df.append([globals()[f'list']])\n",
      "C:\\Users\\smhrd\\AppData\\Roaming\\Python\\Python39\\site-packages\\sklearn\\base.py:450: UserWarning: X does not have valid feature names, but KNeighborsClassifier was fitted with feature names\n",
      "  warnings.warn(\n",
      "C:\\Users\\smhrd\\AppData\\Local\\Temp\\ipykernel_6176\\3034425392.py:75: FutureWarning: The frame.append method is deprecated and will be removed from pandas in a future version. Use pandas.concat instead.\n",
      "  df = df.append([globals()[f'list']])\n",
      "C:\\Users\\smhrd\\AppData\\Roaming\\Python\\Python39\\site-packages\\sklearn\\base.py:450: UserWarning: X does not have valid feature names, but KNeighborsClassifier was fitted with feature names\n",
      "  warnings.warn(\n",
      "C:\\Users\\smhrd\\AppData\\Local\\Temp\\ipykernel_6176\\3034425392.py:75: FutureWarning: The frame.append method is deprecated and will be removed from pandas in a future version. Use pandas.concat instead.\n",
      "  df = df.append([globals()[f'list']])\n",
      "C:\\Users\\smhrd\\AppData\\Roaming\\Python\\Python39\\site-packages\\sklearn\\base.py:450: UserWarning: X does not have valid feature names, but KNeighborsClassifier was fitted with feature names\n",
      "  warnings.warn(\n"
     ]
    },
    {
     "name": "stdout",
     "output_type": "stream",
     "text": [
      "(165.93722661599776, 139.09284664664114, -55.5)\n",
      "[[0.         0.         0.66666667 0.33333333]]\n",
      "(164.82340606479622, 139.3122668515204, -48.5)\n",
      "[[0. 0. 1. 0.]]\n",
      "(170.30607446951728, 142.66051397816776, -44.0)\n",
      "[[0. 0. 1. 0.]]\n",
      "(162.06322133805432, 144.2077364502241, -37.5)\n",
      "[[0. 0. 1. 0.]]\n"
     ]
    },
    {
     "name": "stderr",
     "output_type": "stream",
     "text": [
      "C:\\Users\\smhrd\\AppData\\Local\\Temp\\ipykernel_6176\\3034425392.py:75: FutureWarning: The frame.append method is deprecated and will be removed from pandas in a future version. Use pandas.concat instead.\n",
      "  df = df.append([globals()[f'list']])\n",
      "C:\\Users\\smhrd\\AppData\\Roaming\\Python\\Python39\\site-packages\\sklearn\\base.py:450: UserWarning: X does not have valid feature names, but KNeighborsClassifier was fitted with feature names\n",
      "  warnings.warn(\n",
      "C:\\Users\\smhrd\\AppData\\Local\\Temp\\ipykernel_6176\\3034425392.py:75: FutureWarning: The frame.append method is deprecated and will be removed from pandas in a future version. Use pandas.concat instead.\n",
      "  df = df.append([globals()[f'list']])\n",
      "C:\\Users\\smhrd\\AppData\\Roaming\\Python\\Python39\\site-packages\\sklearn\\base.py:450: UserWarning: X does not have valid feature names, but KNeighborsClassifier was fitted with feature names\n",
      "  warnings.warn(\n",
      "C:\\Users\\smhrd\\AppData\\Local\\Temp\\ipykernel_6176\\3034425392.py:75: FutureWarning: The frame.append method is deprecated and will be removed from pandas in a future version. Use pandas.concat instead.\n",
      "  df = df.append([globals()[f'list']])\n",
      "C:\\Users\\smhrd\\AppData\\Roaming\\Python\\Python39\\site-packages\\sklearn\\base.py:450: UserWarning: X does not have valid feature names, but KNeighborsClassifier was fitted with feature names\n",
      "  warnings.warn(\n"
     ]
    },
    {
     "name": "stdout",
     "output_type": "stream",
     "text": [
      "(175.75636961289206, 146.67832554341274, -26.0)\n",
      "[[0. 0. 1. 0.]]\n",
      "(172.75605183410516, 145.96667679332222, -24.0)\n",
      "[[0. 0. 1. 0.]]\n",
      "(162.73661685844664, 147.30781836788677, -22.0)\n",
      "[[0. 0. 1. 0.]]\n"
     ]
    },
    {
     "name": "stderr",
     "output_type": "stream",
     "text": [
      "C:\\Users\\smhrd\\AppData\\Local\\Temp\\ipykernel_6176\\3034425392.py:75: FutureWarning: The frame.append method is deprecated and will be removed from pandas in a future version. Use pandas.concat instead.\n",
      "  df = df.append([globals()[f'list']])\n",
      "C:\\Users\\smhrd\\AppData\\Roaming\\Python\\Python39\\site-packages\\sklearn\\base.py:450: UserWarning: X does not have valid feature names, but KNeighborsClassifier was fitted with feature names\n",
      "  warnings.warn(\n",
      "C:\\Users\\smhrd\\AppData\\Local\\Temp\\ipykernel_6176\\3034425392.py:75: FutureWarning: The frame.append method is deprecated and will be removed from pandas in a future version. Use pandas.concat instead.\n",
      "  df = df.append([globals()[f'list']])\n",
      "C:\\Users\\smhrd\\AppData\\Roaming\\Python\\Python39\\site-packages\\sklearn\\base.py:450: UserWarning: X does not have valid feature names, but KNeighborsClassifier was fitted with feature names\n",
      "  warnings.warn(\n",
      "C:\\Users\\smhrd\\AppData\\Local\\Temp\\ipykernel_6176\\3034425392.py:75: FutureWarning: The frame.append method is deprecated and will be removed from pandas in a future version. Use pandas.concat instead.\n",
      "  df = df.append([globals()[f'list']])\n",
      "C:\\Users\\smhrd\\AppData\\Roaming\\Python\\Python39\\site-packages\\sklearn\\base.py:450: UserWarning: X does not have valid feature names, but KNeighborsClassifier was fitted with feature names\n",
      "  warnings.warn(\n",
      "C:\\Users\\smhrd\\AppData\\Local\\Temp\\ipykernel_6176\\3034425392.py:75: FutureWarning: The frame.append method is deprecated and will be removed from pandas in a future version. Use pandas.concat instead.\n",
      "  df = df.append([globals()[f'list']])\n",
      "C:\\Users\\smhrd\\AppData\\Roaming\\Python\\Python39\\site-packages\\sklearn\\base.py:450: UserWarning: X does not have valid feature names, but KNeighborsClassifier was fitted with feature names\n",
      "  warnings.warn(\n"
     ]
    },
    {
     "name": "stdout",
     "output_type": "stream",
     "text": [
      "(159.4334792183031, 146.23167066004473, -23.5)\n",
      "[[0. 0. 1. 0.]]\n",
      "(154.08744898524256, 148.7681149538909, -15.0)\n",
      "[[0. 0. 1. 0.]]\n",
      "(164.10113558276683, 150.31032014131063, -4.5)\n",
      "[[0. 0. 1. 0.]]\n",
      "(159.5944533248431, 148.48286438630566, -16.5)\n",
      "[[0. 0. 1. 0.]]\n"
     ]
    },
    {
     "name": "stderr",
     "output_type": "stream",
     "text": [
      "C:\\Users\\smhrd\\AppData\\Local\\Temp\\ipykernel_6176\\3034425392.py:75: FutureWarning: The frame.append method is deprecated and will be removed from pandas in a future version. Use pandas.concat instead.\n",
      "  df = df.append([globals()[f'list']])\n",
      "C:\\Users\\smhrd\\AppData\\Roaming\\Python\\Python39\\site-packages\\sklearn\\base.py:450: UserWarning: X does not have valid feature names, but KNeighborsClassifier was fitted with feature names\n",
      "  warnings.warn(\n",
      "C:\\Users\\smhrd\\AppData\\Local\\Temp\\ipykernel_6176\\3034425392.py:75: FutureWarning: The frame.append method is deprecated and will be removed from pandas in a future version. Use pandas.concat instead.\n",
      "  df = df.append([globals()[f'list']])\n",
      "C:\\Users\\smhrd\\AppData\\Roaming\\Python\\Python39\\site-packages\\sklearn\\base.py:450: UserWarning: X does not have valid feature names, but KNeighborsClassifier was fitted with feature names\n",
      "  warnings.warn(\n",
      "C:\\Users\\smhrd\\AppData\\Local\\Temp\\ipykernel_6176\\3034425392.py:75: FutureWarning: The frame.append method is deprecated and will be removed from pandas in a future version. Use pandas.concat instead.\n",
      "  df = df.append([globals()[f'list']])\n",
      "C:\\Users\\smhrd\\AppData\\Roaming\\Python\\Python39\\site-packages\\sklearn\\base.py:450: UserWarning: X does not have valid feature names, but KNeighborsClassifier was fitted with feature names\n",
      "  warnings.warn(\n",
      "C:\\Users\\smhrd\\AppData\\Local\\Temp\\ipykernel_6176\\3034425392.py:75: FutureWarning: The frame.append method is deprecated and will be removed from pandas in a future version. Use pandas.concat instead.\n",
      "  df = df.append([globals()[f'list']])\n",
      "C:\\Users\\smhrd\\AppData\\Roaming\\Python\\Python39\\site-packages\\sklearn\\base.py:450: UserWarning: X does not have valid feature names, but KNeighborsClassifier was fitted with feature names\n",
      "  warnings.warn(\n"
     ]
    },
    {
     "name": "stdout",
     "output_type": "stream",
     "text": [
      "(155.43667729970193, 147.9878584675174, -20.0)\n",
      "[[0. 0. 1. 0.]]\n",
      "(150.13658950411406, 147.23146466902307, -21.5)\n",
      "[[0. 0. 1. 0.]]\n",
      "(147.56679852557926, 147.2996243983368, -19.5)\n",
      "[[0. 0. 1. 0.]]\n",
      "(145.92430368471528, 146.89865503537624, -18.5)\n",
      "[[0. 0. 1. 0.]]\n"
     ]
    },
    {
     "name": "stderr",
     "output_type": "stream",
     "text": [
      "C:\\Users\\smhrd\\AppData\\Local\\Temp\\ipykernel_6176\\3034425392.py:75: FutureWarning: The frame.append method is deprecated and will be removed from pandas in a future version. Use pandas.concat instead.\n",
      "  df = df.append([globals()[f'list']])\n",
      "C:\\Users\\smhrd\\AppData\\Roaming\\Python\\Python39\\site-packages\\sklearn\\base.py:450: UserWarning: X does not have valid feature names, but KNeighborsClassifier was fitted with feature names\n",
      "  warnings.warn(\n",
      "C:\\Users\\smhrd\\AppData\\Local\\Temp\\ipykernel_6176\\3034425392.py:75: FutureWarning: The frame.append method is deprecated and will be removed from pandas in a future version. Use pandas.concat instead.\n",
      "  df = df.append([globals()[f'list']])\n",
      "C:\\Users\\smhrd\\AppData\\Roaming\\Python\\Python39\\site-packages\\sklearn\\base.py:450: UserWarning: X does not have valid feature names, but KNeighborsClassifier was fitted with feature names\n",
      "  warnings.warn(\n",
      "C:\\Users\\smhrd\\AppData\\Local\\Temp\\ipykernel_6176\\3034425392.py:75: FutureWarning: The frame.append method is deprecated and will be removed from pandas in a future version. Use pandas.concat instead.\n",
      "  df = df.append([globals()[f'list']])\n",
      "C:\\Users\\smhrd\\AppData\\Roaming\\Python\\Python39\\site-packages\\sklearn\\base.py:450: UserWarning: X does not have valid feature names, but KNeighborsClassifier was fitted with feature names\n",
      "  warnings.warn(\n",
      "C:\\Users\\smhrd\\AppData\\Local\\Temp\\ipykernel_6176\\3034425392.py:75: FutureWarning: The frame.append method is deprecated and will be removed from pandas in a future version. Use pandas.concat instead.\n",
      "  df = df.append([globals()[f'list']])\n",
      "C:\\Users\\smhrd\\AppData\\Roaming\\Python\\Python39\\site-packages\\sklearn\\base.py:450: UserWarning: X does not have valid feature names, but KNeighborsClassifier was fitted with feature names\n",
      "  warnings.warn(\n"
     ]
    },
    {
     "name": "stdout",
     "output_type": "stream",
     "text": [
      "(143.80370926459122, 148.83855341559615, -17.0)\n",
      "[[0. 0. 1. 0.]]\n",
      "(138.03441028810232, 147.81053607653934, -17.5)\n",
      "[[0. 0. 1. 0.]]\n",
      "(138.13031118537614, 148.803791083207, -18.0)\n",
      "[[0. 0. 1. 0.]]\n",
      "(137.12805499631557, 149.13872359418679, -19.0)\n",
      "[[0. 0. 1. 0.]]\n"
     ]
    },
    {
     "name": "stderr",
     "output_type": "stream",
     "text": [
      "C:\\Users\\smhrd\\AppData\\Local\\Temp\\ipykernel_6176\\3034425392.py:75: FutureWarning: The frame.append method is deprecated and will be removed from pandas in a future version. Use pandas.concat instead.\n",
      "  df = df.append([globals()[f'list']])\n",
      "C:\\Users\\smhrd\\AppData\\Roaming\\Python\\Python39\\site-packages\\sklearn\\base.py:450: UserWarning: X does not have valid feature names, but KNeighborsClassifier was fitted with feature names\n",
      "  warnings.warn(\n",
      "C:\\Users\\smhrd\\AppData\\Local\\Temp\\ipykernel_6176\\3034425392.py:75: FutureWarning: The frame.append method is deprecated and will be removed from pandas in a future version. Use pandas.concat instead.\n",
      "  df = df.append([globals()[f'list']])\n",
      "C:\\Users\\smhrd\\AppData\\Roaming\\Python\\Python39\\site-packages\\sklearn\\base.py:450: UserWarning: X does not have valid feature names, but KNeighborsClassifier was fitted with feature names\n",
      "  warnings.warn(\n",
      "C:\\Users\\smhrd\\AppData\\Local\\Temp\\ipykernel_6176\\3034425392.py:75: FutureWarning: The frame.append method is deprecated and will be removed from pandas in a future version. Use pandas.concat instead.\n",
      "  df = df.append([globals()[f'list']])\n",
      "C:\\Users\\smhrd\\AppData\\Roaming\\Python\\Python39\\site-packages\\sklearn\\base.py:450: UserWarning: X does not have valid feature names, but KNeighborsClassifier was fitted with feature names\n",
      "  warnings.warn(\n",
      "C:\\Users\\smhrd\\AppData\\Local\\Temp\\ipykernel_6176\\3034425392.py:75: FutureWarning: The frame.append method is deprecated and will be removed from pandas in a future version. Use pandas.concat instead.\n",
      "  df = df.append([globals()[f'list']])\n",
      "C:\\Users\\smhrd\\AppData\\Roaming\\Python\\Python39\\site-packages\\sklearn\\base.py:450: UserWarning: X does not have valid feature names, but KNeighborsClassifier was fitted with feature names\n",
      "  warnings.warn(\n"
     ]
    },
    {
     "name": "stdout",
     "output_type": "stream",
     "text": [
      "(140.1213165107786, 149.21674285735133, -21.0)\n",
      "[[0. 0. 1. 0.]]\n",
      "(139.16594287111133, 148.73824378451096, -17.5)\n",
      "[[0. 0. 1. 0.]]\n",
      "(137.42920520621723, 148.41151865316215, -17.0)\n",
      "[[0. 0. 1. 0.]]\n",
      "(138.01167172794106, 148.76626019149208, -18.5)\n",
      "[[0. 0. 1. 0.]]\n"
     ]
    },
    {
     "name": "stderr",
     "output_type": "stream",
     "text": [
      "C:\\Users\\smhrd\\AppData\\Local\\Temp\\ipykernel_6176\\3034425392.py:75: FutureWarning: The frame.append method is deprecated and will be removed from pandas in a future version. Use pandas.concat instead.\n",
      "  df = df.append([globals()[f'list']])\n",
      "C:\\Users\\smhrd\\AppData\\Roaming\\Python\\Python39\\site-packages\\sklearn\\base.py:450: UserWarning: X does not have valid feature names, but KNeighborsClassifier was fitted with feature names\n",
      "  warnings.warn(\n",
      "C:\\Users\\smhrd\\AppData\\Local\\Temp\\ipykernel_6176\\3034425392.py:75: FutureWarning: The frame.append method is deprecated and will be removed from pandas in a future version. Use pandas.concat instead.\n",
      "  df = df.append([globals()[f'list']])\n",
      "C:\\Users\\smhrd\\AppData\\Roaming\\Python\\Python39\\site-packages\\sklearn\\base.py:450: UserWarning: X does not have valid feature names, but KNeighborsClassifier was fitted with feature names\n",
      "  warnings.warn(\n",
      "C:\\Users\\smhrd\\AppData\\Local\\Temp\\ipykernel_6176\\3034425392.py:75: FutureWarning: The frame.append method is deprecated and will be removed from pandas in a future version. Use pandas.concat instead.\n",
      "  df = df.append([globals()[f'list']])\n",
      "C:\\Users\\smhrd\\AppData\\Roaming\\Python\\Python39\\site-packages\\sklearn\\base.py:450: UserWarning: X does not have valid feature names, but KNeighborsClassifier was fitted with feature names\n",
      "  warnings.warn(\n",
      "C:\\Users\\smhrd\\AppData\\Local\\Temp\\ipykernel_6176\\3034425392.py:75: FutureWarning: The frame.append method is deprecated and will be removed from pandas in a future version. Use pandas.concat instead.\n",
      "  df = df.append([globals()[f'list']])\n",
      "C:\\Users\\smhrd\\AppData\\Roaming\\Python\\Python39\\site-packages\\sklearn\\base.py:450: UserWarning: X does not have valid feature names, but KNeighborsClassifier was fitted with feature names\n",
      "  warnings.warn(\n"
     ]
    },
    {
     "name": "stdout",
     "output_type": "stream",
     "text": [
      "(134.65630775587462, 149.9697074797648, -16.5)\n",
      "[[0. 0. 1. 0.]]\n",
      "(135.891079341318, 149.01891181806508, -15.0)\n",
      "[[0. 0. 1. 0.]]\n",
      "(136.33573902418237, 147.1959016166317, -18.0)\n",
      "[[0. 0. 1. 0.]]\n",
      "(139.25582340800818, 146.73769563791097, -20.5)\n",
      "[[0. 0. 1. 0.]]\n"
     ]
    },
    {
     "name": "stderr",
     "output_type": "stream",
     "text": [
      "C:\\Users\\smhrd\\AppData\\Local\\Temp\\ipykernel_6176\\3034425392.py:75: FutureWarning: The frame.append method is deprecated and will be removed from pandas in a future version. Use pandas.concat instead.\n",
      "  df = df.append([globals()[f'list']])\n",
      "C:\\Users\\smhrd\\AppData\\Roaming\\Python\\Python39\\site-packages\\sklearn\\base.py:450: UserWarning: X does not have valid feature names, but KNeighborsClassifier was fitted with feature names\n",
      "  warnings.warn(\n",
      "C:\\Users\\smhrd\\AppData\\Local\\Temp\\ipykernel_6176\\3034425392.py:75: FutureWarning: The frame.append method is deprecated and will be removed from pandas in a future version. Use pandas.concat instead.\n",
      "  df = df.append([globals()[f'list']])\n",
      "C:\\Users\\smhrd\\AppData\\Roaming\\Python\\Python39\\site-packages\\sklearn\\base.py:450: UserWarning: X does not have valid feature names, but KNeighborsClassifier was fitted with feature names\n",
      "  warnings.warn(\n",
      "C:\\Users\\smhrd\\AppData\\Local\\Temp\\ipykernel_6176\\3034425392.py:75: FutureWarning: The frame.append method is deprecated and will be removed from pandas in a future version. Use pandas.concat instead.\n",
      "  df = df.append([globals()[f'list']])\n",
      "C:\\Users\\smhrd\\AppData\\Roaming\\Python\\Python39\\site-packages\\sklearn\\base.py:450: UserWarning: X does not have valid feature names, but KNeighborsClassifier was fitted with feature names\n",
      "  warnings.warn(\n",
      "C:\\Users\\smhrd\\AppData\\Local\\Temp\\ipykernel_6176\\3034425392.py:75: FutureWarning: The frame.append method is deprecated and will be removed from pandas in a future version. Use pandas.concat instead.\n",
      "  df = df.append([globals()[f'list']])\n",
      "C:\\Users\\smhrd\\AppData\\Roaming\\Python\\Python39\\site-packages\\sklearn\\base.py:450: UserWarning: X does not have valid feature names, but KNeighborsClassifier was fitted with feature names\n",
      "  warnings.warn(\n"
     ]
    },
    {
     "name": "stdout",
     "output_type": "stream",
     "text": [
      "(138.17917941873878, 149.05344643280756, -17.0)\n",
      "[[0. 0. 1. 0.]]\n",
      "(138.64841360785718, 148.39820507313786, -19.5)\n",
      "[[0. 0. 1. 0.]]\n",
      "(138.67398367033343, 147.24730143949085, -19.0)\n",
      "[[0. 0. 1. 0.]]\n",
      "(137.29473616398062, 147.6143535986689, -18.5)\n",
      "[[0. 0. 1. 0.]]\n"
     ]
    },
    {
     "name": "stderr",
     "output_type": "stream",
     "text": [
      "C:\\Users\\smhrd\\AppData\\Local\\Temp\\ipykernel_6176\\3034425392.py:75: FutureWarning: The frame.append method is deprecated and will be removed from pandas in a future version. Use pandas.concat instead.\n",
      "  df = df.append([globals()[f'list']])\n",
      "C:\\Users\\smhrd\\AppData\\Roaming\\Python\\Python39\\site-packages\\sklearn\\base.py:450: UserWarning: X does not have valid feature names, but KNeighborsClassifier was fitted with feature names\n",
      "  warnings.warn(\n",
      "C:\\Users\\smhrd\\AppData\\Local\\Temp\\ipykernel_6176\\3034425392.py:75: FutureWarning: The frame.append method is deprecated and will be removed from pandas in a future version. Use pandas.concat instead.\n",
      "  df = df.append([globals()[f'list']])\n",
      "C:\\Users\\smhrd\\AppData\\Roaming\\Python\\Python39\\site-packages\\sklearn\\base.py:450: UserWarning: X does not have valid feature names, but KNeighborsClassifier was fitted with feature names\n",
      "  warnings.warn(\n",
      "C:\\Users\\smhrd\\AppData\\Local\\Temp\\ipykernel_6176\\3034425392.py:75: FutureWarning: The frame.append method is deprecated and will be removed from pandas in a future version. Use pandas.concat instead.\n",
      "  df = df.append([globals()[f'list']])\n",
      "C:\\Users\\smhrd\\AppData\\Roaming\\Python\\Python39\\site-packages\\sklearn\\base.py:450: UserWarning: X does not have valid feature names, but KNeighborsClassifier was fitted with feature names\n",
      "  warnings.warn(\n",
      "C:\\Users\\smhrd\\AppData\\Local\\Temp\\ipykernel_6176\\3034425392.py:75: FutureWarning: The frame.append method is deprecated and will be removed from pandas in a future version. Use pandas.concat instead.\n",
      "  df = df.append([globals()[f'list']])\n",
      "C:\\Users\\smhrd\\AppData\\Roaming\\Python\\Python39\\site-packages\\sklearn\\base.py:450: UserWarning: X does not have valid feature names, but KNeighborsClassifier was fitted with feature names\n",
      "  warnings.warn(\n"
     ]
    },
    {
     "name": "stdout",
     "output_type": "stream",
     "text": [
      "(137.08699048355612, 148.09460143658097, -19.0)\n",
      "[[0. 0. 1. 0.]]\n",
      "(134.9425678382925, 149.67653989178748, -13.5)\n",
      "[[0. 0. 1. 0.]]\n",
      "(136.7248491682399, 150.29548489302076, -14.0)\n",
      "[[0. 0. 1. 0.]]\n",
      "(134.07708530448238, 148.15808313098154, -19.5)\n",
      "[[0. 0. 1. 0.]]\n"
     ]
    },
    {
     "name": "stderr",
     "output_type": "stream",
     "text": [
      "C:\\Users\\smhrd\\AppData\\Local\\Temp\\ipykernel_6176\\3034425392.py:75: FutureWarning: The frame.append method is deprecated and will be removed from pandas in a future version. Use pandas.concat instead.\n",
      "  df = df.append([globals()[f'list']])\n",
      "C:\\Users\\smhrd\\AppData\\Roaming\\Python\\Python39\\site-packages\\sklearn\\base.py:450: UserWarning: X does not have valid feature names, but KNeighborsClassifier was fitted with feature names\n",
      "  warnings.warn(\n",
      "C:\\Users\\smhrd\\AppData\\Local\\Temp\\ipykernel_6176\\3034425392.py:75: FutureWarning: The frame.append method is deprecated and will be removed from pandas in a future version. Use pandas.concat instead.\n",
      "  df = df.append([globals()[f'list']])\n",
      "C:\\Users\\smhrd\\AppData\\Roaming\\Python\\Python39\\site-packages\\sklearn\\base.py:450: UserWarning: X does not have valid feature names, but KNeighborsClassifier was fitted with feature names\n",
      "  warnings.warn(\n",
      "C:\\Users\\smhrd\\AppData\\Local\\Temp\\ipykernel_6176\\3034425392.py:75: FutureWarning: The frame.append method is deprecated and will be removed from pandas in a future version. Use pandas.concat instead.\n",
      "  df = df.append([globals()[f'list']])\n",
      "C:\\Users\\smhrd\\AppData\\Roaming\\Python\\Python39\\site-packages\\sklearn\\base.py:450: UserWarning: X does not have valid feature names, but KNeighborsClassifier was fitted with feature names\n",
      "  warnings.warn(\n"
     ]
    },
    {
     "name": "stdout",
     "output_type": "stream",
     "text": [
      "(137.16532014505174, 149.77769210836945, -14.5)\n",
      "[[0. 0. 1. 0.]]\n",
      "(135.40553734283404, 149.14046242799023, -17.0)\n",
      "[[0. 0. 1. 0.]]\n",
      "(134.58676677924004, 148.31829514293813, -16.5)\n",
      "[[0. 0. 1. 0.]]\n"
     ]
    },
    {
     "name": "stderr",
     "output_type": "stream",
     "text": [
      "C:\\Users\\smhrd\\AppData\\Local\\Temp\\ipykernel_6176\\3034425392.py:75: FutureWarning: The frame.append method is deprecated and will be removed from pandas in a future version. Use pandas.concat instead.\n",
      "  df = df.append([globals()[f'list']])\n",
      "C:\\Users\\smhrd\\AppData\\Roaming\\Python\\Python39\\site-packages\\sklearn\\base.py:450: UserWarning: X does not have valid feature names, but KNeighborsClassifier was fitted with feature names\n",
      "  warnings.warn(\n",
      "C:\\Users\\smhrd\\AppData\\Local\\Temp\\ipykernel_6176\\3034425392.py:75: FutureWarning: The frame.append method is deprecated and will be removed from pandas in a future version. Use pandas.concat instead.\n",
      "  df = df.append([globals()[f'list']])\n",
      "C:\\Users\\smhrd\\AppData\\Roaming\\Python\\Python39\\site-packages\\sklearn\\base.py:450: UserWarning: X does not have valid feature names, but KNeighborsClassifier was fitted with feature names\n",
      "  warnings.warn(\n",
      "C:\\Users\\smhrd\\AppData\\Local\\Temp\\ipykernel_6176\\3034425392.py:75: FutureWarning: The frame.append method is deprecated and will be removed from pandas in a future version. Use pandas.concat instead.\n",
      "  df = df.append([globals()[f'list']])\n",
      "C:\\Users\\smhrd\\AppData\\Roaming\\Python\\Python39\\site-packages\\sklearn\\base.py:450: UserWarning: X does not have valid feature names, but KNeighborsClassifier was fitted with feature names\n",
      "  warnings.warn(\n"
     ]
    },
    {
     "name": "stdout",
     "output_type": "stream",
     "text": [
      "(137.65866752466758, 147.38757206372145, -18.0)\n",
      "[[0. 0. 1. 0.]]\n",
      "(139.87421729191823, 146.73648398580897, -18.5)\n",
      "[[0. 0. 1. 0.]]\n",
      "(142.3362307562778, 147.1179503046235, -15.5)\n",
      "[[0. 0. 1. 0.]]\n"
     ]
    },
    {
     "name": "stderr",
     "output_type": "stream",
     "text": [
      "C:\\Users\\smhrd\\AppData\\Local\\Temp\\ipykernel_6176\\3034425392.py:75: FutureWarning: The frame.append method is deprecated and will be removed from pandas in a future version. Use pandas.concat instead.\n",
      "  df = df.append([globals()[f'list']])\n",
      "C:\\Users\\smhrd\\AppData\\Roaming\\Python\\Python39\\site-packages\\sklearn\\base.py:450: UserWarning: X does not have valid feature names, but KNeighborsClassifier was fitted with feature names\n",
      "  warnings.warn(\n",
      "C:\\Users\\smhrd\\AppData\\Local\\Temp\\ipykernel_6176\\3034425392.py:75: FutureWarning: The frame.append method is deprecated and will be removed from pandas in a future version. Use pandas.concat instead.\n",
      "  df = df.append([globals()[f'list']])\n",
      "C:\\Users\\smhrd\\AppData\\Roaming\\Python\\Python39\\site-packages\\sklearn\\base.py:450: UserWarning: X does not have valid feature names, but KNeighborsClassifier was fitted with feature names\n",
      "  warnings.warn(\n",
      "C:\\Users\\smhrd\\AppData\\Local\\Temp\\ipykernel_6176\\3034425392.py:75: FutureWarning: The frame.append method is deprecated and will be removed from pandas in a future version. Use pandas.concat instead.\n",
      "  df = df.append([globals()[f'list']])\n",
      "C:\\Users\\smhrd\\AppData\\Roaming\\Python\\Python39\\site-packages\\sklearn\\base.py:450: UserWarning: X does not have valid feature names, but KNeighborsClassifier was fitted with feature names\n",
      "  warnings.warn(\n",
      "C:\\Users\\smhrd\\AppData\\Local\\Temp\\ipykernel_6176\\3034425392.py:75: FutureWarning: The frame.append method is deprecated and will be removed from pandas in a future version. Use pandas.concat instead.\n",
      "  df = df.append([globals()[f'list']])\n",
      "C:\\Users\\smhrd\\AppData\\Roaming\\Python\\Python39\\site-packages\\sklearn\\base.py:450: UserWarning: X does not have valid feature names, but KNeighborsClassifier was fitted with feature names\n",
      "  warnings.warn(\n"
     ]
    },
    {
     "name": "stdout",
     "output_type": "stream",
     "text": [
      "(144.43254050613777, 146.64734845521969, -19.5)\n",
      "[[0. 0. 1. 0.]]\n",
      "(146.25843452113205, 146.26264455148566, -19.0)\n",
      "[[0. 0. 1. 0.]]\n",
      "(146.72316058350728, 146.6983379682, -15.5)\n",
      "[[0. 0. 1. 0.]]\n",
      "(146.7951954007753, 148.2294763457167, -12.5)\n",
      "[[0. 0. 1. 0.]]\n"
     ]
    },
    {
     "name": "stderr",
     "output_type": "stream",
     "text": [
      "C:\\Users\\smhrd\\AppData\\Local\\Temp\\ipykernel_6176\\3034425392.py:75: FutureWarning: The frame.append method is deprecated and will be removed from pandas in a future version. Use pandas.concat instead.\n",
      "  df = df.append([globals()[f'list']])\n",
      "C:\\Users\\smhrd\\AppData\\Roaming\\Python\\Python39\\site-packages\\sklearn\\base.py:450: UserWarning: X does not have valid feature names, but KNeighborsClassifier was fitted with feature names\n",
      "  warnings.warn(\n",
      "C:\\Users\\smhrd\\AppData\\Local\\Temp\\ipykernel_6176\\3034425392.py:75: FutureWarning: The frame.append method is deprecated and will be removed from pandas in a future version. Use pandas.concat instead.\n",
      "  df = df.append([globals()[f'list']])\n",
      "C:\\Users\\smhrd\\AppData\\Roaming\\Python\\Python39\\site-packages\\sklearn\\base.py:450: UserWarning: X does not have valid feature names, but KNeighborsClassifier was fitted with feature names\n",
      "  warnings.warn(\n",
      "C:\\Users\\smhrd\\AppData\\Local\\Temp\\ipykernel_6176\\3034425392.py:75: FutureWarning: The frame.append method is deprecated and will be removed from pandas in a future version. Use pandas.concat instead.\n",
      "  df = df.append([globals()[f'list']])\n",
      "C:\\Users\\smhrd\\AppData\\Roaming\\Python\\Python39\\site-packages\\sklearn\\base.py:450: UserWarning: X does not have valid feature names, but KNeighborsClassifier was fitted with feature names\n",
      "  warnings.warn(\n"
     ]
    },
    {
     "name": "stdout",
     "output_type": "stream",
     "text": [
      "(151.22149336169107, 145.84428884063814, -23.0)\n",
      "[[0. 0. 1. 0.]]\n",
      "(157.7940537198886, 144.9542858657046, -24.0)\n",
      "[[0. 0. 1. 0.]]\n",
      "(163.2651742295551, 144.29501999855182, -28.5)\n",
      "[[0. 0. 1. 0.]]\n"
     ]
    },
    {
     "name": "stderr",
     "output_type": "stream",
     "text": [
      "C:\\Users\\smhrd\\AppData\\Local\\Temp\\ipykernel_6176\\3034425392.py:75: FutureWarning: The frame.append method is deprecated and will be removed from pandas in a future version. Use pandas.concat instead.\n",
      "  df = df.append([globals()[f'list']])\n",
      "C:\\Users\\smhrd\\AppData\\Roaming\\Python\\Python39\\site-packages\\sklearn\\base.py:450: UserWarning: X does not have valid feature names, but KNeighborsClassifier was fitted with feature names\n",
      "  warnings.warn(\n",
      "C:\\Users\\smhrd\\AppData\\Local\\Temp\\ipykernel_6176\\3034425392.py:75: FutureWarning: The frame.append method is deprecated and will be removed from pandas in a future version. Use pandas.concat instead.\n",
      "  df = df.append([globals()[f'list']])\n",
      "C:\\Users\\smhrd\\AppData\\Roaming\\Python\\Python39\\site-packages\\sklearn\\base.py:450: UserWarning: X does not have valid feature names, but KNeighborsClassifier was fitted with feature names\n",
      "  warnings.warn(\n",
      "C:\\Users\\smhrd\\AppData\\Local\\Temp\\ipykernel_6176\\3034425392.py:75: FutureWarning: The frame.append method is deprecated and will be removed from pandas in a future version. Use pandas.concat instead.\n",
      "  df = df.append([globals()[f'list']])\n",
      "C:\\Users\\smhrd\\AppData\\Roaming\\Python\\Python39\\site-packages\\sklearn\\base.py:450: UserWarning: X does not have valid feature names, but KNeighborsClassifier was fitted with feature names\n",
      "  warnings.warn(\n"
     ]
    },
    {
     "name": "stdout",
     "output_type": "stream",
     "text": [
      "(174.97850789835485, 144.80680602130607, -32.5)\n",
      "[[0. 0. 1. 0.]]\n",
      "(166.24586305952462, 144.50519587650425, -35.5)\n",
      "[[0. 0. 1. 0.]]\n",
      "(168.36456172213167, 139.47238913480012, -46.5)\n",
      "[[0. 0. 1. 0.]]\n"
     ]
    },
    {
     "name": "stderr",
     "output_type": "stream",
     "text": [
      "C:\\Users\\smhrd\\AppData\\Local\\Temp\\ipykernel_6176\\3034425392.py:75: FutureWarning: The frame.append method is deprecated and will be removed from pandas in a future version. Use pandas.concat instead.\n",
      "  df = df.append([globals()[f'list']])\n",
      "C:\\Users\\smhrd\\AppData\\Roaming\\Python\\Python39\\site-packages\\sklearn\\base.py:450: UserWarning: X does not have valid feature names, but KNeighborsClassifier was fitted with feature names\n",
      "  warnings.warn(\n",
      "C:\\Users\\smhrd\\AppData\\Local\\Temp\\ipykernel_6176\\3034425392.py:75: FutureWarning: The frame.append method is deprecated and will be removed from pandas in a future version. Use pandas.concat instead.\n",
      "  df = df.append([globals()[f'list']])\n",
      "C:\\Users\\smhrd\\AppData\\Roaming\\Python\\Python39\\site-packages\\sklearn\\base.py:450: UserWarning: X does not have valid feature names, but KNeighborsClassifier was fitted with feature names\n",
      "  warnings.warn(\n",
      "C:\\Users\\smhrd\\AppData\\Local\\Temp\\ipykernel_6176\\3034425392.py:75: FutureWarning: The frame.append method is deprecated and will be removed from pandas in a future version. Use pandas.concat instead.\n",
      "  df = df.append([globals()[f'list']])\n",
      "C:\\Users\\smhrd\\AppData\\Roaming\\Python\\Python39\\site-packages\\sklearn\\base.py:450: UserWarning: X does not have valid feature names, but KNeighborsClassifier was fitted with feature names\n",
      "  warnings.warn(\n",
      "C:\\Users\\smhrd\\AppData\\Local\\Temp\\ipykernel_6176\\3034425392.py:75: FutureWarning: The frame.append method is deprecated and will be removed from pandas in a future version. Use pandas.concat instead.\n",
      "  df = df.append([globals()[f'list']])\n",
      "C:\\Users\\smhrd\\AppData\\Roaming\\Python\\Python39\\site-packages\\sklearn\\base.py:450: UserWarning: X does not have valid feature names, but KNeighborsClassifier was fitted with feature names\n",
      "  warnings.warn(\n"
     ]
    },
    {
     "name": "stdout",
     "output_type": "stream",
     "text": [
      "(166.40796473067533, 137.2319354759009, -54.5)\n",
      "[[0. 0. 1. 0.]]\n",
      "(169.2977045366215, 137.10595939912858, -57.5)\n",
      "[[0. 0. 1. 0.]]\n",
      "(170.2537229032158, 134.98343505512074, -66.0)\n",
      "[[0. 0. 1. 0.]]\n",
      "(172.01409664442937, 135.79280591810885, -67.5)\n",
      "[[0. 0. 1. 0.]]\n"
     ]
    },
    {
     "name": "stderr",
     "output_type": "stream",
     "text": [
      "C:\\Users\\smhrd\\AppData\\Local\\Temp\\ipykernel_6176\\3034425392.py:75: FutureWarning: The frame.append method is deprecated and will be removed from pandas in a future version. Use pandas.concat instead.\n",
      "  df = df.append([globals()[f'list']])\n",
      "C:\\Users\\smhrd\\AppData\\Roaming\\Python\\Python39\\site-packages\\sklearn\\base.py:450: UserWarning: X does not have valid feature names, but KNeighborsClassifier was fitted with feature names\n",
      "  warnings.warn(\n",
      "C:\\Users\\smhrd\\AppData\\Local\\Temp\\ipykernel_6176\\3034425392.py:75: FutureWarning: The frame.append method is deprecated and will be removed from pandas in a future version. Use pandas.concat instead.\n",
      "  df = df.append([globals()[f'list']])\n",
      "C:\\Users\\smhrd\\AppData\\Roaming\\Python\\Python39\\site-packages\\sklearn\\base.py:450: UserWarning: X does not have valid feature names, but KNeighborsClassifier was fitted with feature names\n",
      "  warnings.warn(\n",
      "C:\\Users\\smhrd\\AppData\\Local\\Temp\\ipykernel_6176\\3034425392.py:75: FutureWarning: The frame.append method is deprecated and will be removed from pandas in a future version. Use pandas.concat instead.\n",
      "  df = df.append([globals()[f'list']])\n",
      "C:\\Users\\smhrd\\AppData\\Roaming\\Python\\Python39\\site-packages\\sklearn\\base.py:450: UserWarning: X does not have valid feature names, but KNeighborsClassifier was fitted with feature names\n",
      "  warnings.warn(\n",
      "C:\\Users\\smhrd\\AppData\\Local\\Temp\\ipykernel_6176\\3034425392.py:75: FutureWarning: The frame.append method is deprecated and will be removed from pandas in a future version. Use pandas.concat instead.\n",
      "  df = df.append([globals()[f'list']])\n",
      "C:\\Users\\smhrd\\AppData\\Roaming\\Python\\Python39\\site-packages\\sklearn\\base.py:450: UserWarning: X does not have valid feature names, but KNeighborsClassifier was fitted with feature names\n",
      "  warnings.warn(\n"
     ]
    },
    {
     "name": "stdout",
     "output_type": "stream",
     "text": [
      "(166.83940863002033, 134.9180956010633, -76.0)\n",
      "[[0. 0. 1. 0.]]\n",
      "(165.500544542864, 131.79210789767782, -84.0)\n",
      "[[0. 0. 1. 0.]]\n",
      "(169.77958379883046, 131.4540611455592, -88.0)\n",
      "[[0. 0. 0. 1.]]\n",
      "(166.358265728378, 133.3175918121243, -80.5)\n",
      "[[0. 0. 1. 0.]]\n"
     ]
    },
    {
     "name": "stderr",
     "output_type": "stream",
     "text": [
      "C:\\Users\\smhrd\\AppData\\Local\\Temp\\ipykernel_6176\\3034425392.py:75: FutureWarning: The frame.append method is deprecated and will be removed from pandas in a future version. Use pandas.concat instead.\n",
      "  df = df.append([globals()[f'list']])\n",
      "C:\\Users\\smhrd\\AppData\\Roaming\\Python\\Python39\\site-packages\\sklearn\\base.py:450: UserWarning: X does not have valid feature names, but KNeighborsClassifier was fitted with feature names\n",
      "  warnings.warn(\n",
      "C:\\Users\\smhrd\\AppData\\Local\\Temp\\ipykernel_6176\\3034425392.py:75: FutureWarning: The frame.append method is deprecated and will be removed from pandas in a future version. Use pandas.concat instead.\n",
      "  df = df.append([globals()[f'list']])\n",
      "C:\\Users\\smhrd\\AppData\\Roaming\\Python\\Python39\\site-packages\\sklearn\\base.py:450: UserWarning: X does not have valid feature names, but KNeighborsClassifier was fitted with feature names\n",
      "  warnings.warn(\n",
      "C:\\Users\\smhrd\\AppData\\Local\\Temp\\ipykernel_6176\\3034425392.py:75: FutureWarning: The frame.append method is deprecated and will be removed from pandas in a future version. Use pandas.concat instead.\n",
      "  df = df.append([globals()[f'list']])\n",
      "C:\\Users\\smhrd\\AppData\\Roaming\\Python\\Python39\\site-packages\\sklearn\\base.py:450: UserWarning: X does not have valid feature names, but KNeighborsClassifier was fitted with feature names\n",
      "  warnings.warn(\n",
      "C:\\Users\\smhrd\\AppData\\Local\\Temp\\ipykernel_6176\\3034425392.py:75: FutureWarning: The frame.append method is deprecated and will be removed from pandas in a future version. Use pandas.concat instead.\n",
      "  df = df.append([globals()[f'list']])\n",
      "C:\\Users\\smhrd\\AppData\\Roaming\\Python\\Python39\\site-packages\\sklearn\\base.py:450: UserWarning: X does not have valid feature names, but KNeighborsClassifier was fitted with feature names\n",
      "  warnings.warn(\n"
     ]
    },
    {
     "name": "stdout",
     "output_type": "stream",
     "text": [
      "(171.7940168257637, 133.02032125227905, -84.0)\n",
      "[[0.         0.         0.33333333 0.66666667]]\n",
      "(170.83889507123519, 131.5037011384029, -89.0)\n",
      "[[0. 0. 0. 1.]]\n",
      "(163.89009547041832, 132.0803406528068, -87.5)\n",
      "[[0. 0. 1. 0.]]\n",
      "(164.9880549806179, 134.2919779078392, -85.5)\n",
      "[[0. 0. 1. 0.]]\n"
     ]
    },
    {
     "name": "stderr",
     "output_type": "stream",
     "text": [
      "C:\\Users\\smhrd\\AppData\\Local\\Temp\\ipykernel_6176\\3034425392.py:75: FutureWarning: The frame.append method is deprecated and will be removed from pandas in a future version. Use pandas.concat instead.\n",
      "  df = df.append([globals()[f'list']])\n",
      "C:\\Users\\smhrd\\AppData\\Roaming\\Python\\Python39\\site-packages\\sklearn\\base.py:450: UserWarning: X does not have valid feature names, but KNeighborsClassifier was fitted with feature names\n",
      "  warnings.warn(\n",
      "C:\\Users\\smhrd\\AppData\\Local\\Temp\\ipykernel_6176\\3034425392.py:75: FutureWarning: The frame.append method is deprecated and will be removed from pandas in a future version. Use pandas.concat instead.\n",
      "  df = df.append([globals()[f'list']])\n",
      "C:\\Users\\smhrd\\AppData\\Roaming\\Python\\Python39\\site-packages\\sklearn\\base.py:450: UserWarning: X does not have valid feature names, but KNeighborsClassifier was fitted with feature names\n",
      "  warnings.warn(\n",
      "C:\\Users\\smhrd\\AppData\\Local\\Temp\\ipykernel_6176\\3034425392.py:75: FutureWarning: The frame.append method is deprecated and will be removed from pandas in a future version. Use pandas.concat instead.\n",
      "  df = df.append([globals()[f'list']])\n",
      "C:\\Users\\smhrd\\AppData\\Roaming\\Python\\Python39\\site-packages\\sklearn\\base.py:450: UserWarning: X does not have valid feature names, but KNeighborsClassifier was fitted with feature names\n",
      "  warnings.warn(\n",
      "C:\\Users\\smhrd\\AppData\\Local\\Temp\\ipykernel_6176\\3034425392.py:75: FutureWarning: The frame.append method is deprecated and will be removed from pandas in a future version. Use pandas.concat instead.\n",
      "  df = df.append([globals()[f'list']])\n",
      "C:\\Users\\smhrd\\AppData\\Roaming\\Python\\Python39\\site-packages\\sklearn\\base.py:450: UserWarning: X does not have valid feature names, but KNeighborsClassifier was fitted with feature names\n",
      "  warnings.warn(\n"
     ]
    },
    {
     "name": "stdout",
     "output_type": "stream",
     "text": [
      "(164.8203599969191, 133.26009684151822, -84.0)\n",
      "[[0. 0. 1. 0.]]\n",
      "(167.7328486917962, 134.00235057571885, -76.5)\n",
      "[[0. 0. 1. 0.]]\n",
      "(166.2283032155185, 134.8801807669195, -71.0)\n",
      "[[0. 0. 1. 0.]]\n",
      "(165.39257148345948, 135.74889161851587, -65.5)\n",
      "[[0.         0.         0.66666667 0.33333333]]\n"
     ]
    },
    {
     "name": "stderr",
     "output_type": "stream",
     "text": [
      "C:\\Users\\smhrd\\AppData\\Local\\Temp\\ipykernel_6176\\3034425392.py:75: FutureWarning: The frame.append method is deprecated and will be removed from pandas in a future version. Use pandas.concat instead.\n",
      "  df = df.append([globals()[f'list']])\n",
      "C:\\Users\\smhrd\\AppData\\Roaming\\Python\\Python39\\site-packages\\sklearn\\base.py:450: UserWarning: X does not have valid feature names, but KNeighborsClassifier was fitted with feature names\n",
      "  warnings.warn(\n",
      "C:\\Users\\smhrd\\AppData\\Local\\Temp\\ipykernel_6176\\3034425392.py:75: FutureWarning: The frame.append method is deprecated and will be removed from pandas in a future version. Use pandas.concat instead.\n",
      "  df = df.append([globals()[f'list']])\n",
      "C:\\Users\\smhrd\\AppData\\Roaming\\Python\\Python39\\site-packages\\sklearn\\base.py:450: UserWarning: X does not have valid feature names, but KNeighborsClassifier was fitted with feature names\n",
      "  warnings.warn(\n",
      "C:\\Users\\smhrd\\AppData\\Local\\Temp\\ipykernel_6176\\3034425392.py:75: FutureWarning: The frame.append method is deprecated and will be removed from pandas in a future version. Use pandas.concat instead.\n",
      "  df = df.append([globals()[f'list']])\n",
      "C:\\Users\\smhrd\\AppData\\Roaming\\Python\\Python39\\site-packages\\sklearn\\base.py:450: UserWarning: X does not have valid feature names, but KNeighborsClassifier was fitted with feature names\n",
      "  warnings.warn(\n"
     ]
    },
    {
     "name": "stdout",
     "output_type": "stream",
     "text": [
      "(162.01157214746888, 138.75923372190195, -56.5)\n",
      "[[0. 0. 1. 0.]]\n",
      "(161.565051177078, 142.5684125457225, -46.5)\n",
      "[[0. 0. 1. 0.]]\n",
      "(160.68064673249174, 141.9819326929384, -42.5)\n",
      "[[0. 0. 1. 0.]]\n"
     ]
    },
    {
     "name": "stderr",
     "output_type": "stream",
     "text": [
      "C:\\Users\\smhrd\\AppData\\Local\\Temp\\ipykernel_6176\\3034425392.py:75: FutureWarning: The frame.append method is deprecated and will be removed from pandas in a future version. Use pandas.concat instead.\n",
      "  df = df.append([globals()[f'list']])\n",
      "C:\\Users\\smhrd\\AppData\\Roaming\\Python\\Python39\\site-packages\\sklearn\\base.py:450: UserWarning: X does not have valid feature names, but KNeighborsClassifier was fitted with feature names\n",
      "  warnings.warn(\n",
      "C:\\Users\\smhrd\\AppData\\Local\\Temp\\ipykernel_6176\\3034425392.py:75: FutureWarning: The frame.append method is deprecated and will be removed from pandas in a future version. Use pandas.concat instead.\n",
      "  df = df.append([globals()[f'list']])\n",
      "C:\\Users\\smhrd\\AppData\\Roaming\\Python\\Python39\\site-packages\\sklearn\\base.py:450: UserWarning: X does not have valid feature names, but KNeighborsClassifier was fitted with feature names\n",
      "  warnings.warn(\n",
      "C:\\Users\\smhrd\\AppData\\Local\\Temp\\ipykernel_6176\\3034425392.py:75: FutureWarning: The frame.append method is deprecated and will be removed from pandas in a future version. Use pandas.concat instead.\n",
      "  df = df.append([globals()[f'list']])\n",
      "C:\\Users\\smhrd\\AppData\\Roaming\\Python\\Python39\\site-packages\\sklearn\\base.py:450: UserWarning: X does not have valid feature names, but KNeighborsClassifier was fitted with feature names\n",
      "  warnings.warn(\n"
     ]
    },
    {
     "name": "stdout",
     "output_type": "stream",
     "text": [
      "(166.50126763410262, 145.1346144029806, -33.0)\n",
      "[[0. 0. 1. 0.]]\n",
      "(178.00913635045546, 146.9699554943338, -27.5)\n",
      "[[0. 0. 1. 0.]]\n",
      "(161.32928827186296, 145.96281780086062, -25.0)\n",
      "[[0. 0. 1. 0.]]\n"
     ]
    },
    {
     "name": "stderr",
     "output_type": "stream",
     "text": [
      "C:\\Users\\smhrd\\AppData\\Local\\Temp\\ipykernel_6176\\3034425392.py:75: FutureWarning: The frame.append method is deprecated and will be removed from pandas in a future version. Use pandas.concat instead.\n",
      "  df = df.append([globals()[f'list']])\n",
      "C:\\Users\\smhrd\\AppData\\Roaming\\Python\\Python39\\site-packages\\sklearn\\base.py:450: UserWarning: X does not have valid feature names, but KNeighborsClassifier was fitted with feature names\n",
      "  warnings.warn(\n",
      "C:\\Users\\smhrd\\AppData\\Local\\Temp\\ipykernel_6176\\3034425392.py:75: FutureWarning: The frame.append method is deprecated and will be removed from pandas in a future version. Use pandas.concat instead.\n",
      "  df = df.append([globals()[f'list']])\n",
      "C:\\Users\\smhrd\\AppData\\Roaming\\Python\\Python39\\site-packages\\sklearn\\base.py:450: UserWarning: X does not have valid feature names, but KNeighborsClassifier was fitted with feature names\n",
      "  warnings.warn(\n",
      "C:\\Users\\smhrd\\AppData\\Local\\Temp\\ipykernel_6176\\3034425392.py:75: FutureWarning: The frame.append method is deprecated and will be removed from pandas in a future version. Use pandas.concat instead.\n",
      "  df = df.append([globals()[f'list']])\n",
      "C:\\Users\\smhrd\\AppData\\Roaming\\Python\\Python39\\site-packages\\sklearn\\base.py:450: UserWarning: X does not have valid feature names, but KNeighborsClassifier was fitted with feature names\n",
      "  warnings.warn(\n"
     ]
    },
    {
     "name": "stdout",
     "output_type": "stream",
     "text": [
      "(158.44827067501706, 145.4001252062644, -28.0)\n",
      "[[0. 0. 1. 0.]]\n",
      "(153.93326808752454, 147.23893539412617, -21.5)\n",
      "[[0. 0. 1. 0.]]\n",
      "(154.5534055609943, 147.85844242400086, -15.5)\n",
      "[[0. 0. 1. 0.]]\n"
     ]
    },
    {
     "name": "stderr",
     "output_type": "stream",
     "text": [
      "C:\\Users\\smhrd\\AppData\\Local\\Temp\\ipykernel_6176\\3034425392.py:75: FutureWarning: The frame.append method is deprecated and will be removed from pandas in a future version. Use pandas.concat instead.\n",
      "  df = df.append([globals()[f'list']])\n",
      "C:\\Users\\smhrd\\AppData\\Roaming\\Python\\Python39\\site-packages\\sklearn\\base.py:450: UserWarning: X does not have valid feature names, but KNeighborsClassifier was fitted with feature names\n",
      "  warnings.warn(\n",
      "C:\\Users\\smhrd\\AppData\\Local\\Temp\\ipykernel_6176\\3034425392.py:75: FutureWarning: The frame.append method is deprecated and will be removed from pandas in a future version. Use pandas.concat instead.\n",
      "  df = df.append([globals()[f'list']])\n",
      "C:\\Users\\smhrd\\AppData\\Roaming\\Python\\Python39\\site-packages\\sklearn\\base.py:450: UserWarning: X does not have valid feature names, but KNeighborsClassifier was fitted with feature names\n",
      "  warnings.warn(\n",
      "C:\\Users\\smhrd\\AppData\\Local\\Temp\\ipykernel_6176\\3034425392.py:75: FutureWarning: The frame.append method is deprecated and will be removed from pandas in a future version. Use pandas.concat instead.\n",
      "  df = df.append([globals()[f'list']])\n",
      "C:\\Users\\smhrd\\AppData\\Roaming\\Python\\Python39\\site-packages\\sklearn\\base.py:450: UserWarning: X does not have valid feature names, but KNeighborsClassifier was fitted with feature names\n",
      "  warnings.warn(\n",
      "C:\\Users\\smhrd\\AppData\\Local\\Temp\\ipykernel_6176\\3034425392.py:75: FutureWarning: The frame.append method is deprecated and will be removed from pandas in a future version. Use pandas.concat instead.\n",
      "  df = df.append([globals()[f'list']])\n",
      "C:\\Users\\smhrd\\AppData\\Roaming\\Python\\Python39\\site-packages\\sklearn\\base.py:450: UserWarning: X does not have valid feature names, but KNeighborsClassifier was fitted with feature names\n",
      "  warnings.warn(\n"
     ]
    },
    {
     "name": "stdout",
     "output_type": "stream",
     "text": [
      "(163.71575014383237, 150.15062194427733, -9.0)\n",
      "[[0. 0. 1. 0.]]\n",
      "(160.05586407501357, 145.6856504983467, -19.0)\n",
      "[[0. 0. 1. 0.]]\n",
      "(156.4935149245218, 147.22476032967032, -19.0)\n",
      "[[0. 0. 1. 0.]]\n",
      "(152.8003563156753, 147.77738106385965, -21.0)\n",
      "[[0. 0. 1. 0.]]\n"
     ]
    },
    {
     "name": "stderr",
     "output_type": "stream",
     "text": [
      "C:\\Users\\smhrd\\AppData\\Local\\Temp\\ipykernel_6176\\3034425392.py:75: FutureWarning: The frame.append method is deprecated and will be removed from pandas in a future version. Use pandas.concat instead.\n",
      "  df = df.append([globals()[f'list']])\n",
      "C:\\Users\\smhrd\\AppData\\Roaming\\Python\\Python39\\site-packages\\sklearn\\base.py:450: UserWarning: X does not have valid feature names, but KNeighborsClassifier was fitted with feature names\n",
      "  warnings.warn(\n",
      "C:\\Users\\smhrd\\AppData\\Local\\Temp\\ipykernel_6176\\3034425392.py:75: FutureWarning: The frame.append method is deprecated and will be removed from pandas in a future version. Use pandas.concat instead.\n",
      "  df = df.append([globals()[f'list']])\n",
      "C:\\Users\\smhrd\\AppData\\Roaming\\Python\\Python39\\site-packages\\sklearn\\base.py:450: UserWarning: X does not have valid feature names, but KNeighborsClassifier was fitted with feature names\n",
      "  warnings.warn(\n",
      "C:\\Users\\smhrd\\AppData\\Local\\Temp\\ipykernel_6176\\3034425392.py:75: FutureWarning: The frame.append method is deprecated and will be removed from pandas in a future version. Use pandas.concat instead.\n",
      "  df = df.append([globals()[f'list']])\n",
      "C:\\Users\\smhrd\\AppData\\Roaming\\Python\\Python39\\site-packages\\sklearn\\base.py:450: UserWarning: X does not have valid feature names, but KNeighborsClassifier was fitted with feature names\n",
      "  warnings.warn(\n"
     ]
    },
    {
     "name": "stdout",
     "output_type": "stream",
     "text": [
      "(150.4202060315841, 147.73087071269185, -22.5)\n",
      "[[0. 0. 1. 0.]]\n",
      "(147.5372884888768, 149.1275029280715, -19.0)\n",
      "[[0. 0. 1. 0.]]\n",
      "(145.70135072389914, 148.85017500796454, -18.5)\n",
      "[[0. 0. 1. 0.]]\n"
     ]
    },
    {
     "name": "stderr",
     "output_type": "stream",
     "text": [
      "C:\\Users\\smhrd\\AppData\\Local\\Temp\\ipykernel_6176\\3034425392.py:75: FutureWarning: The frame.append method is deprecated and will be removed from pandas in a future version. Use pandas.concat instead.\n",
      "  df = df.append([globals()[f'list']])\n",
      "C:\\Users\\smhrd\\AppData\\Roaming\\Python\\Python39\\site-packages\\sklearn\\base.py:450: UserWarning: X does not have valid feature names, but KNeighborsClassifier was fitted with feature names\n",
      "  warnings.warn(\n",
      "C:\\Users\\smhrd\\AppData\\Local\\Temp\\ipykernel_6176\\3034425392.py:75: FutureWarning: The frame.append method is deprecated and will be removed from pandas in a future version. Use pandas.concat instead.\n",
      "  df = df.append([globals()[f'list']])\n",
      "C:\\Users\\smhrd\\AppData\\Roaming\\Python\\Python39\\site-packages\\sklearn\\base.py:450: UserWarning: X does not have valid feature names, but KNeighborsClassifier was fitted with feature names\n",
      "  warnings.warn(\n",
      "C:\\Users\\smhrd\\AppData\\Local\\Temp\\ipykernel_6176\\3034425392.py:75: FutureWarning: The frame.append method is deprecated and will be removed from pandas in a future version. Use pandas.concat instead.\n",
      "  df = df.append([globals()[f'list']])\n",
      "C:\\Users\\smhrd\\AppData\\Roaming\\Python\\Python39\\site-packages\\sklearn\\base.py:450: UserWarning: X does not have valid feature names, but KNeighborsClassifier was fitted with feature names\n",
      "  warnings.warn(\n"
     ]
    },
    {
     "name": "stdout",
     "output_type": "stream",
     "text": [
      "(141.49430430415842, 147.292253816314, -18.0)\n",
      "[[0. 0. 1. 0.]]\n",
      "(139.80601905405123, 148.59146979319155, -18.5)\n",
      "[[0. 0. 1. 0.]]\n",
      "(141.73363063494867, 148.8330204280921, -19.5)\n",
      "[[0. 0. 1. 0.]]\n"
     ]
    },
    {
     "name": "stderr",
     "output_type": "stream",
     "text": [
      "C:\\Users\\smhrd\\AppData\\Local\\Temp\\ipykernel_6176\\3034425392.py:75: FutureWarning: The frame.append method is deprecated and will be removed from pandas in a future version. Use pandas.concat instead.\n",
      "  df = df.append([globals()[f'list']])\n",
      "C:\\Users\\smhrd\\AppData\\Roaming\\Python\\Python39\\site-packages\\sklearn\\base.py:450: UserWarning: X does not have valid feature names, but KNeighborsClassifier was fitted with feature names\n",
      "  warnings.warn(\n",
      "C:\\Users\\smhrd\\AppData\\Local\\Temp\\ipykernel_6176\\3034425392.py:75: FutureWarning: The frame.append method is deprecated and will be removed from pandas in a future version. Use pandas.concat instead.\n",
      "  df = df.append([globals()[f'list']])\n",
      "C:\\Users\\smhrd\\AppData\\Roaming\\Python\\Python39\\site-packages\\sklearn\\base.py:450: UserWarning: X does not have valid feature names, but KNeighborsClassifier was fitted with feature names\n",
      "  warnings.warn(\n",
      "C:\\Users\\smhrd\\AppData\\Local\\Temp\\ipykernel_6176\\3034425392.py:75: FutureWarning: The frame.append method is deprecated and will be removed from pandas in a future version. Use pandas.concat instead.\n",
      "  df = df.append([globals()[f'list']])\n",
      "C:\\Users\\smhrd\\AppData\\Roaming\\Python\\Python39\\site-packages\\sklearn\\base.py:450: UserWarning: X does not have valid feature names, but KNeighborsClassifier was fitted with feature names\n",
      "  warnings.warn(\n",
      "C:\\Users\\smhrd\\AppData\\Local\\Temp\\ipykernel_6176\\3034425392.py:75: FutureWarning: The frame.append method is deprecated and will be removed from pandas in a future version. Use pandas.concat instead.\n",
      "  df = df.append([globals()[f'list']])\n",
      "C:\\Users\\smhrd\\AppData\\Roaming\\Python\\Python39\\site-packages\\sklearn\\base.py:450: UserWarning: X does not have valid feature names, but KNeighborsClassifier was fitted with feature names\n",
      "  warnings.warn(\n"
     ]
    },
    {
     "name": "stdout",
     "output_type": "stream",
     "text": [
      "(142.5764602676441, 148.30677919053196, -17.5)\n",
      "[[0. 0. 1. 0.]]\n",
      "(140.9009504714162, 148.3937541942212, -17.5)\n",
      "[[0. 0. 1. 0.]]\n",
      "(139.2335315952593, 149.02430772032753, -15.5)\n",
      "[[0. 0. 1. 0.]]\n",
      "(138.06940181840858, 149.2784648245532, -18.5)\n",
      "[[0. 0. 1. 0.]]\n"
     ]
    },
    {
     "name": "stderr",
     "output_type": "stream",
     "text": [
      "C:\\Users\\smhrd\\AppData\\Local\\Temp\\ipykernel_6176\\3034425392.py:75: FutureWarning: The frame.append method is deprecated and will be removed from pandas in a future version. Use pandas.concat instead.\n",
      "  df = df.append([globals()[f'list']])\n",
      "C:\\Users\\smhrd\\AppData\\Roaming\\Python\\Python39\\site-packages\\sklearn\\base.py:450: UserWarning: X does not have valid feature names, but KNeighborsClassifier was fitted with feature names\n",
      "  warnings.warn(\n",
      "C:\\Users\\smhrd\\AppData\\Local\\Temp\\ipykernel_6176\\3034425392.py:75: FutureWarning: The frame.append method is deprecated and will be removed from pandas in a future version. Use pandas.concat instead.\n",
      "  df = df.append([globals()[f'list']])\n",
      "C:\\Users\\smhrd\\AppData\\Roaming\\Python\\Python39\\site-packages\\sklearn\\base.py:450: UserWarning: X does not have valid feature names, but KNeighborsClassifier was fitted with feature names\n",
      "  warnings.warn(\n",
      "C:\\Users\\smhrd\\AppData\\Local\\Temp\\ipykernel_6176\\3034425392.py:75: FutureWarning: The frame.append method is deprecated and will be removed from pandas in a future version. Use pandas.concat instead.\n",
      "  df = df.append([globals()[f'list']])\n",
      "C:\\Users\\smhrd\\AppData\\Roaming\\Python\\Python39\\site-packages\\sklearn\\base.py:450: UserWarning: X does not have valid feature names, but KNeighborsClassifier was fitted with feature names\n",
      "  warnings.warn(\n"
     ]
    },
    {
     "name": "stdout",
     "output_type": "stream",
     "text": [
      "(139.3859995813778, 147.72014460077054, -17.5)\n",
      "[[0. 0. 1. 0.]]\n",
      "(138.48213803087322, 149.31878101626745, -18.5)\n",
      "[[0. 0. 1. 0.]]\n",
      "(140.56832171764373, 148.13345365575893, -19.5)\n",
      "[[0. 0. 1. 0.]]\n"
     ]
    },
    {
     "name": "stderr",
     "output_type": "stream",
     "text": [
      "C:\\Users\\smhrd\\AppData\\Local\\Temp\\ipykernel_6176\\3034425392.py:75: FutureWarning: The frame.append method is deprecated and will be removed from pandas in a future version. Use pandas.concat instead.\n",
      "  df = df.append([globals()[f'list']])\n",
      "C:\\Users\\smhrd\\AppData\\Roaming\\Python\\Python39\\site-packages\\sklearn\\base.py:450: UserWarning: X does not have valid feature names, but KNeighborsClassifier was fitted with feature names\n",
      "  warnings.warn(\n",
      "C:\\Users\\smhrd\\AppData\\Local\\Temp\\ipykernel_6176\\3034425392.py:75: FutureWarning: The frame.append method is deprecated and will be removed from pandas in a future version. Use pandas.concat instead.\n",
      "  df = df.append([globals()[f'list']])\n",
      "C:\\Users\\smhrd\\AppData\\Roaming\\Python\\Python39\\site-packages\\sklearn\\base.py:450: UserWarning: X does not have valid feature names, but KNeighborsClassifier was fitted with feature names\n",
      "  warnings.warn(\n",
      "C:\\Users\\smhrd\\AppData\\Local\\Temp\\ipykernel_6176\\3034425392.py:75: FutureWarning: The frame.append method is deprecated and will be removed from pandas in a future version. Use pandas.concat instead.\n",
      "  df = df.append([globals()[f'list']])\n",
      "C:\\Users\\smhrd\\AppData\\Roaming\\Python\\Python39\\site-packages\\sklearn\\base.py:450: UserWarning: X does not have valid feature names, but KNeighborsClassifier was fitted with feature names\n",
      "  warnings.warn(\n",
      "C:\\Users\\smhrd\\AppData\\Local\\Temp\\ipykernel_6176\\3034425392.py:75: FutureWarning: The frame.append method is deprecated and will be removed from pandas in a future version. Use pandas.concat instead.\n",
      "  df = df.append([globals()[f'list']])\n",
      "C:\\Users\\smhrd\\AppData\\Roaming\\Python\\Python39\\site-packages\\sklearn\\base.py:450: UserWarning: X does not have valid feature names, but KNeighborsClassifier was fitted with feature names\n",
      "  warnings.warn(\n"
     ]
    },
    {
     "name": "stdout",
     "output_type": "stream",
     "text": [
      "(142.14200980935334, 148.6125861217621, -18.5)\n",
      "[[0. 0. 1. 0.]]\n",
      "(141.90576992076998, 146.7415437265185, -19.5)\n",
      "[[0. 0. 1. 0.]]\n",
      "(141.35557474443272, 147.4231298038221, -18.5)\n",
      "[[0. 0. 1. 0.]]\n",
      "(141.55311739824003, 149.2490279587089, -16.5)\n",
      "[[0. 0. 1. 0.]]\n"
     ]
    },
    {
     "name": "stderr",
     "output_type": "stream",
     "text": [
      "C:\\Users\\smhrd\\AppData\\Local\\Temp\\ipykernel_6176\\3034425392.py:75: FutureWarning: The frame.append method is deprecated and will be removed from pandas in a future version. Use pandas.concat instead.\n",
      "  df = df.append([globals()[f'list']])\n",
      "C:\\Users\\smhrd\\AppData\\Roaming\\Python\\Python39\\site-packages\\sklearn\\base.py:450: UserWarning: X does not have valid feature names, but KNeighborsClassifier was fitted with feature names\n",
      "  warnings.warn(\n",
      "C:\\Users\\smhrd\\AppData\\Local\\Temp\\ipykernel_6176\\3034425392.py:75: FutureWarning: The frame.append method is deprecated and will be removed from pandas in a future version. Use pandas.concat instead.\n",
      "  df = df.append([globals()[f'list']])\n",
      "C:\\Users\\smhrd\\AppData\\Roaming\\Python\\Python39\\site-packages\\sklearn\\base.py:450: UserWarning: X does not have valid feature names, but KNeighborsClassifier was fitted with feature names\n",
      "  warnings.warn(\n",
      "C:\\Users\\smhrd\\AppData\\Local\\Temp\\ipykernel_6176\\3034425392.py:75: FutureWarning: The frame.append method is deprecated and will be removed from pandas in a future version. Use pandas.concat instead.\n",
      "  df = df.append([globals()[f'list']])\n",
      "C:\\Users\\smhrd\\AppData\\Roaming\\Python\\Python39\\site-packages\\sklearn\\base.py:450: UserWarning: X does not have valid feature names, but KNeighborsClassifier was fitted with feature names\n",
      "  warnings.warn(\n",
      "C:\\Users\\smhrd\\AppData\\Local\\Temp\\ipykernel_6176\\3034425392.py:75: FutureWarning: The frame.append method is deprecated and will be removed from pandas in a future version. Use pandas.concat instead.\n",
      "  df = df.append([globals()[f'list']])\n",
      "C:\\Users\\smhrd\\AppData\\Roaming\\Python\\Python39\\site-packages\\sklearn\\base.py:450: UserWarning: X does not have valid feature names, but KNeighborsClassifier was fitted with feature names\n",
      "  warnings.warn(\n"
     ]
    },
    {
     "name": "stdout",
     "output_type": "stream",
     "text": [
      "(140.83634248072656, 146.71993022187112, -20.5)\n",
      "[[0. 0. 1. 0.]]\n",
      "(139.9609564771875, 148.3636659973375, -17.5)\n",
      "[[0. 0. 1. 0.]]\n",
      "(138.62100852101423, 149.689635248864, -18.0)\n",
      "[[0. 0. 1. 0.]]\n",
      "(140.72565818278994, 149.47488588667585, -18.5)\n",
      "[[0. 0. 1. 0.]]\n"
     ]
    },
    {
     "name": "stderr",
     "output_type": "stream",
     "text": [
      "C:\\Users\\smhrd\\AppData\\Local\\Temp\\ipykernel_6176\\3034425392.py:75: FutureWarning: The frame.append method is deprecated and will be removed from pandas in a future version. Use pandas.concat instead.\n",
      "  df = df.append([globals()[f'list']])\n",
      "C:\\Users\\smhrd\\AppData\\Roaming\\Python\\Python39\\site-packages\\sklearn\\base.py:450: UserWarning: X does not have valid feature names, but KNeighborsClassifier was fitted with feature names\n",
      "  warnings.warn(\n",
      "C:\\Users\\smhrd\\AppData\\Local\\Temp\\ipykernel_6176\\3034425392.py:75: FutureWarning: The frame.append method is deprecated and will be removed from pandas in a future version. Use pandas.concat instead.\n",
      "  df = df.append([globals()[f'list']])\n",
      "C:\\Users\\smhrd\\AppData\\Roaming\\Python\\Python39\\site-packages\\sklearn\\base.py:450: UserWarning: X does not have valid feature names, but KNeighborsClassifier was fitted with feature names\n",
      "  warnings.warn(\n",
      "C:\\Users\\smhrd\\AppData\\Local\\Temp\\ipykernel_6176\\3034425392.py:75: FutureWarning: The frame.append method is deprecated and will be removed from pandas in a future version. Use pandas.concat instead.\n",
      "  df = df.append([globals()[f'list']])\n",
      "C:\\Users\\smhrd\\AppData\\Roaming\\Python\\Python39\\site-packages\\sklearn\\base.py:450: UserWarning: X does not have valid feature names, but KNeighborsClassifier was fitted with feature names\n",
      "  warnings.warn(\n"
     ]
    },
    {
     "name": "stdout",
     "output_type": "stream",
     "text": [
      "(137.0552074879433, 148.89873260387577, -16.5)\n",
      "[[0. 0. 1. 0.]]\n",
      "(140.1248664668706, 148.75901513802157, -18.0)\n",
      "[[0. 0. 1. 0.]]\n",
      "(142.78773726739976, 149.01409559509307, -17.0)\n",
      "[[0. 0. 1. 0.]]\n"
     ]
    },
    {
     "name": "stderr",
     "output_type": "stream",
     "text": [
      "C:\\Users\\smhrd\\AppData\\Local\\Temp\\ipykernel_6176\\3034425392.py:75: FutureWarning: The frame.append method is deprecated and will be removed from pandas in a future version. Use pandas.concat instead.\n",
      "  df = df.append([globals()[f'list']])\n",
      "C:\\Users\\smhrd\\AppData\\Roaming\\Python\\Python39\\site-packages\\sklearn\\base.py:450: UserWarning: X does not have valid feature names, but KNeighborsClassifier was fitted with feature names\n",
      "  warnings.warn(\n",
      "C:\\Users\\smhrd\\AppData\\Local\\Temp\\ipykernel_6176\\3034425392.py:75: FutureWarning: The frame.append method is deprecated and will be removed from pandas in a future version. Use pandas.concat instead.\n",
      "  df = df.append([globals()[f'list']])\n",
      "C:\\Users\\smhrd\\AppData\\Roaming\\Python\\Python39\\site-packages\\sklearn\\base.py:450: UserWarning: X does not have valid feature names, but KNeighborsClassifier was fitted with feature names\n",
      "  warnings.warn(\n",
      "C:\\Users\\smhrd\\AppData\\Local\\Temp\\ipykernel_6176\\3034425392.py:75: FutureWarning: The frame.append method is deprecated and will be removed from pandas in a future version. Use pandas.concat instead.\n",
      "  df = df.append([globals()[f'list']])\n",
      "C:\\Users\\smhrd\\AppData\\Roaming\\Python\\Python39\\site-packages\\sklearn\\base.py:450: UserWarning: X does not have valid feature names, but KNeighborsClassifier was fitted with feature names\n",
      "  warnings.warn(\n",
      "C:\\Users\\smhrd\\AppData\\Local\\Temp\\ipykernel_6176\\3034425392.py:75: FutureWarning: The frame.append method is deprecated and will be removed from pandas in a future version. Use pandas.concat instead.\n",
      "  df = df.append([globals()[f'list']])\n",
      "C:\\Users\\smhrd\\AppData\\Roaming\\Python\\Python39\\site-packages\\sklearn\\base.py:450: UserWarning: X does not have valid feature names, but KNeighborsClassifier was fitted with feature names\n",
      "  warnings.warn(\n"
     ]
    },
    {
     "name": "stdout",
     "output_type": "stream",
     "text": [
      "(140.82894258365735, 151.3479829793773, -13.5)\n",
      "[[0. 0. 1. 0.]]\n",
      "(139.08561677997488, 148.57989704476262, -17.0)\n",
      "[[0. 0. 1. 0.]]\n",
      "(143.58459628397563, 148.3131596128236, -16.0)\n",
      "[[0. 0. 1. 0.]]\n",
      "(145.861985022491, 147.9333326320216, -18.5)\n",
      "[[0. 0. 1. 0.]]\n"
     ]
    },
    {
     "name": "stderr",
     "output_type": "stream",
     "text": [
      "C:\\Users\\smhrd\\AppData\\Local\\Temp\\ipykernel_6176\\3034425392.py:75: FutureWarning: The frame.append method is deprecated and will be removed from pandas in a future version. Use pandas.concat instead.\n",
      "  df = df.append([globals()[f'list']])\n",
      "C:\\Users\\smhrd\\AppData\\Roaming\\Python\\Python39\\site-packages\\sklearn\\base.py:450: UserWarning: X does not have valid feature names, but KNeighborsClassifier was fitted with feature names\n",
      "  warnings.warn(\n",
      "C:\\Users\\smhrd\\AppData\\Local\\Temp\\ipykernel_6176\\3034425392.py:75: FutureWarning: The frame.append method is deprecated and will be removed from pandas in a future version. Use pandas.concat instead.\n",
      "  df = df.append([globals()[f'list']])\n",
      "C:\\Users\\smhrd\\AppData\\Roaming\\Python\\Python39\\site-packages\\sklearn\\base.py:450: UserWarning: X does not have valid feature names, but KNeighborsClassifier was fitted with feature names\n",
      "  warnings.warn(\n",
      "C:\\Users\\smhrd\\AppData\\Local\\Temp\\ipykernel_6176\\3034425392.py:75: FutureWarning: The frame.append method is deprecated and will be removed from pandas in a future version. Use pandas.concat instead.\n",
      "  df = df.append([globals()[f'list']])\n",
      "C:\\Users\\smhrd\\AppData\\Roaming\\Python\\Python39\\site-packages\\sklearn\\base.py:450: UserWarning: X does not have valid feature names, but KNeighborsClassifier was fitted with feature names\n",
      "  warnings.warn(\n",
      "C:\\Users\\smhrd\\AppData\\Local\\Temp\\ipykernel_6176\\3034425392.py:75: FutureWarning: The frame.append method is deprecated and will be removed from pandas in a future version. Use pandas.concat instead.\n",
      "  df = df.append([globals()[f'list']])\n",
      "C:\\Users\\smhrd\\AppData\\Roaming\\Python\\Python39\\site-packages\\sklearn\\base.py:450: UserWarning: X does not have valid feature names, but KNeighborsClassifier was fitted with feature names\n",
      "  warnings.warn(\n"
     ]
    },
    {
     "name": "stdout",
     "output_type": "stream",
     "text": [
      "(147.94287751296525, 146.35875877122265, -22.5)\n",
      "[[0. 0. 1. 0.]]\n",
      "(151.6985425235616, 144.86338418418586, -27.0)\n",
      "[[0. 0. 1. 0.]]\n",
      "(157.25419905090197, 148.94650743440172, -16.0)\n",
      "[[0. 0. 1. 0.]]\n",
      "(152.03107571530666, 147.59202479954834, -10.5)\n",
      "[[0. 0. 1. 0.]]\n"
     ]
    },
    {
     "name": "stderr",
     "output_type": "stream",
     "text": [
      "C:\\Users\\smhrd\\AppData\\Local\\Temp\\ipykernel_6176\\3034425392.py:75: FutureWarning: The frame.append method is deprecated and will be removed from pandas in a future version. Use pandas.concat instead.\n",
      "  df = df.append([globals()[f'list']])\n",
      "C:\\Users\\smhrd\\AppData\\Roaming\\Python\\Python39\\site-packages\\sklearn\\base.py:450: UserWarning: X does not have valid feature names, but KNeighborsClassifier was fitted with feature names\n",
      "  warnings.warn(\n",
      "C:\\Users\\smhrd\\AppData\\Local\\Temp\\ipykernel_6176\\3034425392.py:75: FutureWarning: The frame.append method is deprecated and will be removed from pandas in a future version. Use pandas.concat instead.\n",
      "  df = df.append([globals()[f'list']])\n",
      "C:\\Users\\smhrd\\AppData\\Roaming\\Python\\Python39\\site-packages\\sklearn\\base.py:450: UserWarning: X does not have valid feature names, but KNeighborsClassifier was fitted with feature names\n",
      "  warnings.warn(\n",
      "C:\\Users\\smhrd\\AppData\\Local\\Temp\\ipykernel_6176\\3034425392.py:75: FutureWarning: The frame.append method is deprecated and will be removed from pandas in a future version. Use pandas.concat instead.\n",
      "  df = df.append([globals()[f'list']])\n",
      "C:\\Users\\smhrd\\AppData\\Roaming\\Python\\Python39\\site-packages\\sklearn\\base.py:450: UserWarning: X does not have valid feature names, but KNeighborsClassifier was fitted with feature names\n",
      "  warnings.warn(\n"
     ]
    },
    {
     "name": "stdout",
     "output_type": "stream",
     "text": [
      "(147.77146315960587, 148.33453372061967, -13.5)\n",
      "[[0. 0. 1. 0.]]\n",
      "(157.17867369591403, 145.56446522700705, -22.5)\n",
      "[[0. 0. 1. 0.]]\n",
      "(161.53014969276484, 144.96849692333893, -25.0)\n",
      "[[0. 0. 1. 0.]]\n"
     ]
    },
    {
     "name": "stderr",
     "output_type": "stream",
     "text": [
      "C:\\Users\\smhrd\\AppData\\Local\\Temp\\ipykernel_6176\\3034425392.py:75: FutureWarning: The frame.append method is deprecated and will be removed from pandas in a future version. Use pandas.concat instead.\n",
      "  df = df.append([globals()[f'list']])\n",
      "C:\\Users\\smhrd\\AppData\\Roaming\\Python\\Python39\\site-packages\\sklearn\\base.py:450: UserWarning: X does not have valid feature names, but KNeighborsClassifier was fitted with feature names\n",
      "  warnings.warn(\n",
      "C:\\Users\\smhrd\\AppData\\Local\\Temp\\ipykernel_6176\\3034425392.py:75: FutureWarning: The frame.append method is deprecated and will be removed from pandas in a future version. Use pandas.concat instead.\n",
      "  df = df.append([globals()[f'list']])\n",
      "C:\\Users\\smhrd\\AppData\\Roaming\\Python\\Python39\\site-packages\\sklearn\\base.py:450: UserWarning: X does not have valid feature names, but KNeighborsClassifier was fitted with feature names\n",
      "  warnings.warn(\n",
      "C:\\Users\\smhrd\\AppData\\Local\\Temp\\ipykernel_6176\\3034425392.py:75: FutureWarning: The frame.append method is deprecated and will be removed from pandas in a future version. Use pandas.concat instead.\n",
      "  df = df.append([globals()[f'list']])\n",
      "C:\\Users\\smhrd\\AppData\\Roaming\\Python\\Python39\\site-packages\\sklearn\\base.py:450: UserWarning: X does not have valid feature names, but KNeighborsClassifier was fitted with feature names\n",
      "  warnings.warn(\n"
     ]
    },
    {
     "name": "stdout",
     "output_type": "stream",
     "text": [
      "(147.45066029920744, 144.6868882176628, -29.0)\n",
      "[[0. 0. 1. 0.]]\n",
      "(179.83632007127488, 145.1759416275813, -32.0)\n",
      "[[0. 0. 1. 0.]]\n",
      "(169.94413208237262, 144.27413732788915, -36.5)\n",
      "[[0. 0. 1. 0.]]\n"
     ]
    },
    {
     "name": "stderr",
     "output_type": "stream",
     "text": [
      "C:\\Users\\smhrd\\AppData\\Local\\Temp\\ipykernel_6176\\3034425392.py:75: FutureWarning: The frame.append method is deprecated and will be removed from pandas in a future version. Use pandas.concat instead.\n",
      "  df = df.append([globals()[f'list']])\n",
      "C:\\Users\\smhrd\\AppData\\Roaming\\Python\\Python39\\site-packages\\sklearn\\base.py:450: UserWarning: X does not have valid feature names, but KNeighborsClassifier was fitted with feature names\n",
      "  warnings.warn(\n",
      "C:\\Users\\smhrd\\AppData\\Local\\Temp\\ipykernel_6176\\3034425392.py:75: FutureWarning: The frame.append method is deprecated and will be removed from pandas in a future version. Use pandas.concat instead.\n",
      "  df = df.append([globals()[f'list']])\n",
      "C:\\Users\\smhrd\\AppData\\Roaming\\Python\\Python39\\site-packages\\sklearn\\base.py:450: UserWarning: X does not have valid feature names, but KNeighborsClassifier was fitted with feature names\n",
      "  warnings.warn(\n",
      "C:\\Users\\smhrd\\AppData\\Local\\Temp\\ipykernel_6176\\3034425392.py:75: FutureWarning: The frame.append method is deprecated and will be removed from pandas in a future version. Use pandas.concat instead.\n",
      "  df = df.append([globals()[f'list']])\n",
      "C:\\Users\\smhrd\\AppData\\Roaming\\Python\\Python39\\site-packages\\sklearn\\base.py:450: UserWarning: X does not have valid feature names, but KNeighborsClassifier was fitted with feature names\n",
      "  warnings.warn(\n",
      "C:\\Users\\smhrd\\AppData\\Local\\Temp\\ipykernel_6176\\3034425392.py:75: FutureWarning: The frame.append method is deprecated and will be removed from pandas in a future version. Use pandas.concat instead.\n",
      "  df = df.append([globals()[f'list']])\n",
      "C:\\Users\\smhrd\\AppData\\Roaming\\Python\\Python39\\site-packages\\sklearn\\base.py:450: UserWarning: X does not have valid feature names, but KNeighborsClassifier was fitted with feature names\n",
      "  warnings.warn(\n"
     ]
    },
    {
     "name": "stdout",
     "output_type": "stream",
     "text": [
      "(166.63379237323753, 140.5886607914992, -46.0)\n",
      "[[0. 0. 1. 0.]]\n",
      "(159.24263768491957, 139.0308680014062, -51.5)\n",
      "[[0. 0. 1. 0.]]\n",
      "(158.61102546366334, 135.51682935379708, -66.0)\n",
      "[[0. 0. 1. 0.]]\n",
      "(168.39993298903104, 134.90333002565802, -72.0)\n",
      "[[0. 0. 1. 0.]]\n"
     ]
    },
    {
     "name": "stderr",
     "output_type": "stream",
     "text": [
      "C:\\Users\\smhrd\\AppData\\Local\\Temp\\ipykernel_6176\\3034425392.py:75: FutureWarning: The frame.append method is deprecated and will be removed from pandas in a future version. Use pandas.concat instead.\n",
      "  df = df.append([globals()[f'list']])\n",
      "C:\\Users\\smhrd\\AppData\\Roaming\\Python\\Python39\\site-packages\\sklearn\\base.py:450: UserWarning: X does not have valid feature names, but KNeighborsClassifier was fitted with feature names\n",
      "  warnings.warn(\n",
      "C:\\Users\\smhrd\\AppData\\Local\\Temp\\ipykernel_6176\\3034425392.py:75: FutureWarning: The frame.append method is deprecated and will be removed from pandas in a future version. Use pandas.concat instead.\n",
      "  df = df.append([globals()[f'list']])\n",
      "C:\\Users\\smhrd\\AppData\\Roaming\\Python\\Python39\\site-packages\\sklearn\\base.py:450: UserWarning: X does not have valid feature names, but KNeighborsClassifier was fitted with feature names\n",
      "  warnings.warn(\n",
      "C:\\Users\\smhrd\\AppData\\Local\\Temp\\ipykernel_6176\\3034425392.py:75: FutureWarning: The frame.append method is deprecated and will be removed from pandas in a future version. Use pandas.concat instead.\n",
      "  df = df.append([globals()[f'list']])\n",
      "C:\\Users\\smhrd\\AppData\\Roaming\\Python\\Python39\\site-packages\\sklearn\\base.py:450: UserWarning: X does not have valid feature names, but KNeighborsClassifier was fitted with feature names\n",
      "  warnings.warn(\n",
      "C:\\Users\\smhrd\\AppData\\Local\\Temp\\ipykernel_6176\\3034425392.py:75: FutureWarning: The frame.append method is deprecated and will be removed from pandas in a future version. Use pandas.concat instead.\n",
      "  df = df.append([globals()[f'list']])\n",
      "C:\\Users\\smhrd\\AppData\\Roaming\\Python\\Python39\\site-packages\\sklearn\\base.py:450: UserWarning: X does not have valid feature names, but KNeighborsClassifier was fitted with feature names\n",
      "  warnings.warn(\n"
     ]
    },
    {
     "name": "stdout",
     "output_type": "stream",
     "text": [
      "(167.95133766727744, 135.50018854257377, -77.0)\n",
      "[[0. 0. 1. 0.]]\n",
      "(171.72049145646204, 135.20497122230066, -77.5)\n",
      "[[0.         0.         0.66666667 0.33333333]]\n",
      "(171.97060996948815, 135.1073302248191, -76.5)\n",
      "[[0. 0. 1. 0.]]\n",
      "(173.0607498297046, 133.83779679701067, -83.5)\n",
      "[[0. 0. 0. 1.]]\n"
     ]
    },
    {
     "name": "stderr",
     "output_type": "stream",
     "text": [
      "C:\\Users\\smhrd\\AppData\\Local\\Temp\\ipykernel_6176\\3034425392.py:75: FutureWarning: The frame.append method is deprecated and will be removed from pandas in a future version. Use pandas.concat instead.\n",
      "  df = df.append([globals()[f'list']])\n",
      "C:\\Users\\smhrd\\AppData\\Roaming\\Python\\Python39\\site-packages\\sklearn\\base.py:450: UserWarning: X does not have valid feature names, but KNeighborsClassifier was fitted with feature names\n",
      "  warnings.warn(\n",
      "C:\\Users\\smhrd\\AppData\\Local\\Temp\\ipykernel_6176\\3034425392.py:75: FutureWarning: The frame.append method is deprecated and will be removed from pandas in a future version. Use pandas.concat instead.\n",
      "  df = df.append([globals()[f'list']])\n",
      "C:\\Users\\smhrd\\AppData\\Roaming\\Python\\Python39\\site-packages\\sklearn\\base.py:450: UserWarning: X does not have valid feature names, but KNeighborsClassifier was fitted with feature names\n",
      "  warnings.warn(\n",
      "C:\\Users\\smhrd\\AppData\\Local\\Temp\\ipykernel_6176\\3034425392.py:75: FutureWarning: The frame.append method is deprecated and will be removed from pandas in a future version. Use pandas.concat instead.\n",
      "  df = df.append([globals()[f'list']])\n",
      "C:\\Users\\smhrd\\AppData\\Roaming\\Python\\Python39\\site-packages\\sklearn\\base.py:450: UserWarning: X does not have valid feature names, but KNeighborsClassifier was fitted with feature names\n",
      "  warnings.warn(\n"
     ]
    },
    {
     "name": "stdout",
     "output_type": "stream",
     "text": [
      "(167.0995219903083, 134.16643608114597, -81.0)\n",
      "[[0.         0.         0.33333333 0.66666667]]\n",
      "(173.58607767698842, 133.51074754718167, -81.5)\n",
      "[[0.         0.         0.33333333 0.66666667]]\n",
      "(168.82294705638157, 135.92115486759803, -76.0)\n",
      "[[0. 0. 1. 0.]]\n"
     ]
    },
    {
     "name": "stderr",
     "output_type": "stream",
     "text": [
      "C:\\Users\\smhrd\\AppData\\Local\\Temp\\ipykernel_6176\\3034425392.py:75: FutureWarning: The frame.append method is deprecated and will be removed from pandas in a future version. Use pandas.concat instead.\n",
      "  df = df.append([globals()[f'list']])\n",
      "C:\\Users\\smhrd\\AppData\\Roaming\\Python\\Python39\\site-packages\\sklearn\\base.py:450: UserWarning: X does not have valid feature names, but KNeighborsClassifier was fitted with feature names\n",
      "  warnings.warn(\n",
      "C:\\Users\\smhrd\\AppData\\Local\\Temp\\ipykernel_6176\\3034425392.py:75: FutureWarning: The frame.append method is deprecated and will be removed from pandas in a future version. Use pandas.concat instead.\n",
      "  df = df.append([globals()[f'list']])\n",
      "C:\\Users\\smhrd\\AppData\\Roaming\\Python\\Python39\\site-packages\\sklearn\\base.py:450: UserWarning: X does not have valid feature names, but KNeighborsClassifier was fitted with feature names\n",
      "  warnings.warn(\n",
      "C:\\Users\\smhrd\\AppData\\Local\\Temp\\ipykernel_6176\\3034425392.py:75: FutureWarning: The frame.append method is deprecated and will be removed from pandas in a future version. Use pandas.concat instead.\n",
      "  df = df.append([globals()[f'list']])\n",
      "C:\\Users\\smhrd\\AppData\\Roaming\\Python\\Python39\\site-packages\\sklearn\\base.py:450: UserWarning: X does not have valid feature names, but KNeighborsClassifier was fitted with feature names\n",
      "  warnings.warn(\n",
      "C:\\Users\\smhrd\\AppData\\Local\\Temp\\ipykernel_6176\\3034425392.py:75: FutureWarning: The frame.append method is deprecated and will be removed from pandas in a future version. Use pandas.concat instead.\n",
      "  df = df.append([globals()[f'list']])\n",
      "C:\\Users\\smhrd\\AppData\\Roaming\\Python\\Python39\\site-packages\\sklearn\\base.py:450: UserWarning: X does not have valid feature names, but KNeighborsClassifier was fitted with feature names\n",
      "  warnings.warn(\n"
     ]
    },
    {
     "name": "stdout",
     "output_type": "stream",
     "text": [
      "(170.64680423244866, 135.20022705704852, -77.0)\n",
      "[[0. 0. 1. 0.]]\n",
      "(168.10660311668687, 133.5606951197009, -83.5)\n",
      "[[0.         0.         0.33333333 0.66666667]]\n",
      "(168.2458682746852, 132.80260068502838, -78.5)\n",
      "[[0.         0.         0.66666667 0.33333333]]\n",
      "(174.2331442868828, 136.32010229310816, -72.0)\n",
      "[[0. 0. 1. 0.]]\n"
     ]
    },
    {
     "name": "stderr",
     "output_type": "stream",
     "text": [
      "C:\\Users\\smhrd\\AppData\\Local\\Temp\\ipykernel_6176\\3034425392.py:75: FutureWarning: The frame.append method is deprecated and will be removed from pandas in a future version. Use pandas.concat instead.\n",
      "  df = df.append([globals()[f'list']])\n",
      "C:\\Users\\smhrd\\AppData\\Roaming\\Python\\Python39\\site-packages\\sklearn\\base.py:450: UserWarning: X does not have valid feature names, but KNeighborsClassifier was fitted with feature names\n",
      "  warnings.warn(\n",
      "C:\\Users\\smhrd\\AppData\\Local\\Temp\\ipykernel_6176\\3034425392.py:75: FutureWarning: The frame.append method is deprecated and will be removed from pandas in a future version. Use pandas.concat instead.\n",
      "  df = df.append([globals()[f'list']])\n",
      "C:\\Users\\smhrd\\AppData\\Roaming\\Python\\Python39\\site-packages\\sklearn\\base.py:450: UserWarning: X does not have valid feature names, but KNeighborsClassifier was fitted with feature names\n",
      "  warnings.warn(\n",
      "C:\\Users\\smhrd\\AppData\\Local\\Temp\\ipykernel_6176\\3034425392.py:75: FutureWarning: The frame.append method is deprecated and will be removed from pandas in a future version. Use pandas.concat instead.\n",
      "  df = df.append([globals()[f'list']])\n",
      "C:\\Users\\smhrd\\AppData\\Roaming\\Python\\Python39\\site-packages\\sklearn\\base.py:450: UserWarning: X does not have valid feature names, but KNeighborsClassifier was fitted with feature names\n",
      "  warnings.warn(\n"
     ]
    },
    {
     "name": "stdout",
     "output_type": "stream",
     "text": [
      "(168.32908462833666, 136.9482449429134, -68.5)\n",
      "[[0. 0. 1. 0.]]\n",
      "(164.8474991158888, 139.9063730022774, -65.0)\n",
      "[[0. 0. 1. 0.]]\n",
      "(160.3482059435229, 139.23664198760557, -61.5)\n",
      "[[0. 0. 1. 0.]]\n"
     ]
    },
    {
     "name": "stderr",
     "output_type": "stream",
     "text": [
      "C:\\Users\\smhrd\\AppData\\Local\\Temp\\ipykernel_6176\\3034425392.py:75: FutureWarning: The frame.append method is deprecated and will be removed from pandas in a future version. Use pandas.concat instead.\n",
      "  df = df.append([globals()[f'list']])\n",
      "C:\\Users\\smhrd\\AppData\\Roaming\\Python\\Python39\\site-packages\\sklearn\\base.py:450: UserWarning: X does not have valid feature names, but KNeighborsClassifier was fitted with feature names\n",
      "  warnings.warn(\n",
      "C:\\Users\\smhrd\\AppData\\Local\\Temp\\ipykernel_6176\\3034425392.py:75: FutureWarning: The frame.append method is deprecated and will be removed from pandas in a future version. Use pandas.concat instead.\n",
      "  df = df.append([globals()[f'list']])\n",
      "C:\\Users\\smhrd\\AppData\\Roaming\\Python\\Python39\\site-packages\\sklearn\\base.py:450: UserWarning: X does not have valid feature names, but KNeighborsClassifier was fitted with feature names\n",
      "  warnings.warn(\n",
      "C:\\Users\\smhrd\\AppData\\Local\\Temp\\ipykernel_6176\\3034425392.py:75: FutureWarning: The frame.append method is deprecated and will be removed from pandas in a future version. Use pandas.concat instead.\n",
      "  df = df.append([globals()[f'list']])\n",
      "C:\\Users\\smhrd\\AppData\\Roaming\\Python\\Python39\\site-packages\\sklearn\\base.py:450: UserWarning: X does not have valid feature names, but KNeighborsClassifier was fitted with feature names\n",
      "  warnings.warn(\n"
     ]
    },
    {
     "name": "stdout",
     "output_type": "stream",
     "text": [
      "(162.1497487302261, 138.22801381703118, -58.5)\n",
      "[[0. 0. 1. 0.]]\n",
      "(175.080927616935, 141.28515762434645, -49.0)\n",
      "[[0. 0. 1. 0.]]\n",
      "(163.30035344826422, 141.15552914649135, -47.0)\n",
      "[[0. 0. 1. 0.]]\n"
     ]
    },
    {
     "name": "stderr",
     "output_type": "stream",
     "text": [
      "C:\\Users\\smhrd\\AppData\\Local\\Temp\\ipykernel_6176\\3034425392.py:75: FutureWarning: The frame.append method is deprecated and will be removed from pandas in a future version. Use pandas.concat instead.\n",
      "  df = df.append([globals()[f'list']])\n",
      "C:\\Users\\smhrd\\AppData\\Roaming\\Python\\Python39\\site-packages\\sklearn\\base.py:450: UserWarning: X does not have valid feature names, but KNeighborsClassifier was fitted with feature names\n",
      "  warnings.warn(\n",
      "C:\\Users\\smhrd\\AppData\\Local\\Temp\\ipykernel_6176\\3034425392.py:75: FutureWarning: The frame.append method is deprecated and will be removed from pandas in a future version. Use pandas.concat instead.\n",
      "  df = df.append([globals()[f'list']])\n",
      "C:\\Users\\smhrd\\AppData\\Roaming\\Python\\Python39\\site-packages\\sklearn\\base.py:450: UserWarning: X does not have valid feature names, but KNeighborsClassifier was fitted with feature names\n",
      "  warnings.warn(\n",
      "C:\\Users\\smhrd\\AppData\\Local\\Temp\\ipykernel_6176\\3034425392.py:75: FutureWarning: The frame.append method is deprecated and will be removed from pandas in a future version. Use pandas.concat instead.\n",
      "  df = df.append([globals()[f'list']])\n",
      "C:\\Users\\smhrd\\AppData\\Roaming\\Python\\Python39\\site-packages\\sklearn\\base.py:450: UserWarning: X does not have valid feature names, but KNeighborsClassifier was fitted with feature names\n",
      "  warnings.warn(\n",
      "C:\\Users\\smhrd\\AppData\\Local\\Temp\\ipykernel_6176\\3034425392.py:75: FutureWarning: The frame.append method is deprecated and will be removed from pandas in a future version. Use pandas.concat instead.\n",
      "  df = df.append([globals()[f'list']])\n",
      "C:\\Users\\smhrd\\AppData\\Roaming\\Python\\Python39\\site-packages\\sklearn\\base.py:450: UserWarning: X does not have valid feature names, but KNeighborsClassifier was fitted with feature names\n",
      "  warnings.warn(\n"
     ]
    },
    {
     "name": "stdout",
     "output_type": "stream",
     "text": [
      "(165.36674765717638, 143.75558476219024, -41.5)\n",
      "[[0. 0. 1. 0.]]\n",
      "(159.71744091108337, 145.7721315578197, -33.5)\n",
      "[[0. 0. 1. 0.]]\n",
      "(171.6385565900419, 145.57501505496634, -29.0)\n",
      "[[0. 0. 1. 0.]]\n",
      "(165.23590012260115, 146.40136775874026, -26.0)\n",
      "[[0. 0. 1. 0.]]\n"
     ]
    },
    {
     "name": "stderr",
     "output_type": "stream",
     "text": [
      "C:\\Users\\smhrd\\AppData\\Local\\Temp\\ipykernel_6176\\3034425392.py:75: FutureWarning: The frame.append method is deprecated and will be removed from pandas in a future version. Use pandas.concat instead.\n",
      "  df = df.append([globals()[f'list']])\n",
      "C:\\Users\\smhrd\\AppData\\Roaming\\Python\\Python39\\site-packages\\sklearn\\base.py:450: UserWarning: X does not have valid feature names, but KNeighborsClassifier was fitted with feature names\n",
      "  warnings.warn(\n",
      "C:\\Users\\smhrd\\AppData\\Local\\Temp\\ipykernel_6176\\3034425392.py:75: FutureWarning: The frame.append method is deprecated and will be removed from pandas in a future version. Use pandas.concat instead.\n",
      "  df = df.append([globals()[f'list']])\n",
      "C:\\Users\\smhrd\\AppData\\Roaming\\Python\\Python39\\site-packages\\sklearn\\base.py:450: UserWarning: X does not have valid feature names, but KNeighborsClassifier was fitted with feature names\n",
      "  warnings.warn(\n",
      "C:\\Users\\smhrd\\AppData\\Local\\Temp\\ipykernel_6176\\3034425392.py:75: FutureWarning: The frame.append method is deprecated and will be removed from pandas in a future version. Use pandas.concat instead.\n",
      "  df = df.append([globals()[f'list']])\n",
      "C:\\Users\\smhrd\\AppData\\Roaming\\Python\\Python39\\site-packages\\sklearn\\base.py:450: UserWarning: X does not have valid feature names, but KNeighborsClassifier was fitted with feature names\n",
      "  warnings.warn(\n",
      "C:\\Users\\smhrd\\AppData\\Local\\Temp\\ipykernel_6176\\3034425392.py:75: FutureWarning: The frame.append method is deprecated and will be removed from pandas in a future version. Use pandas.concat instead.\n",
      "  df = df.append([globals()[f'list']])\n",
      "C:\\Users\\smhrd\\AppData\\Roaming\\Python\\Python39\\site-packages\\sklearn\\base.py:450: UserWarning: X does not have valid feature names, but KNeighborsClassifier was fitted with feature names\n",
      "  warnings.warn(\n"
     ]
    },
    {
     "name": "stdout",
     "output_type": "stream",
     "text": [
      "(161.5033322284045, 147.02244625496326, -23.5)\n",
      "[[0. 0. 1. 0.]]\n",
      "(159.2508608235428, 146.9062468328814, -22.5)\n",
      "[[0. 0. 1. 0.]]\n",
      "(158.12496085783565, 147.85867551219485, -21.0)\n",
      "[[0. 0. 1. 0.]]\n",
      "(156.81119223479604, 149.56340296167699, -12.0)\n",
      "[[0. 0. 1. 0.]]\n"
     ]
    },
    {
     "name": "stderr",
     "output_type": "stream",
     "text": [
      "C:\\Users\\smhrd\\AppData\\Local\\Temp\\ipykernel_6176\\3034425392.py:75: FutureWarning: The frame.append method is deprecated and will be removed from pandas in a future version. Use pandas.concat instead.\n",
      "  df = df.append([globals()[f'list']])\n",
      "C:\\Users\\smhrd\\AppData\\Roaming\\Python\\Python39\\site-packages\\sklearn\\base.py:450: UserWarning: X does not have valid feature names, but KNeighborsClassifier was fitted with feature names\n",
      "  warnings.warn(\n",
      "C:\\Users\\smhrd\\AppData\\Local\\Temp\\ipykernel_6176\\3034425392.py:75: FutureWarning: The frame.append method is deprecated and will be removed from pandas in a future version. Use pandas.concat instead.\n",
      "  df = df.append([globals()[f'list']])\n",
      "C:\\Users\\smhrd\\AppData\\Roaming\\Python\\Python39\\site-packages\\sklearn\\base.py:450: UserWarning: X does not have valid feature names, but KNeighborsClassifier was fitted with feature names\n",
      "  warnings.warn(\n",
      "C:\\Users\\smhrd\\AppData\\Local\\Temp\\ipykernel_6176\\3034425392.py:75: FutureWarning: The frame.append method is deprecated and will be removed from pandas in a future version. Use pandas.concat instead.\n",
      "  df = df.append([globals()[f'list']])\n",
      "C:\\Users\\smhrd\\AppData\\Roaming\\Python\\Python39\\site-packages\\sklearn\\base.py:450: UserWarning: X does not have valid feature names, but KNeighborsClassifier was fitted with feature names\n",
      "  warnings.warn(\n",
      "C:\\Users\\smhrd\\AppData\\Local\\Temp\\ipykernel_6176\\3034425392.py:75: FutureWarning: The frame.append method is deprecated and will be removed from pandas in a future version. Use pandas.concat instead.\n",
      "  df = df.append([globals()[f'list']])\n",
      "C:\\Users\\smhrd\\AppData\\Roaming\\Python\\Python39\\site-packages\\sklearn\\base.py:450: UserWarning: X does not have valid feature names, but KNeighborsClassifier was fitted with feature names\n",
      "  warnings.warn(\n"
     ]
    },
    {
     "name": "stdout",
     "output_type": "stream",
     "text": [
      "(159.2879583286888, 147.9007860182106, -17.5)\n",
      "[[0. 0. 1. 0.]]\n",
      "(161.5825312190989, 145.99920850458489, -21.0)\n",
      "[[0. 0. 1. 0.]]\n",
      "(157.63321998474626, 147.09552020673385, -21.0)\n",
      "[[0. 0. 1. 0.]]\n",
      "(151.83747262567638, 146.31544194845037, -20.5)\n",
      "[[0. 0. 1. 0.]]\n"
     ]
    },
    {
     "name": "stderr",
     "output_type": "stream",
     "text": [
      "C:\\Users\\smhrd\\AppData\\Local\\Temp\\ipykernel_6176\\3034425392.py:75: FutureWarning: The frame.append method is deprecated and will be removed from pandas in a future version. Use pandas.concat instead.\n",
      "  df = df.append([globals()[f'list']])\n",
      "C:\\Users\\smhrd\\AppData\\Roaming\\Python\\Python39\\site-packages\\sklearn\\base.py:450: UserWarning: X does not have valid feature names, but KNeighborsClassifier was fitted with feature names\n",
      "  warnings.warn(\n",
      "C:\\Users\\smhrd\\AppData\\Local\\Temp\\ipykernel_6176\\3034425392.py:75: FutureWarning: The frame.append method is deprecated and will be removed from pandas in a future version. Use pandas.concat instead.\n",
      "  df = df.append([globals()[f'list']])\n",
      "C:\\Users\\smhrd\\AppData\\Roaming\\Python\\Python39\\site-packages\\sklearn\\base.py:450: UserWarning: X does not have valid feature names, but KNeighborsClassifier was fitted with feature names\n",
      "  warnings.warn(\n",
      "C:\\Users\\smhrd\\AppData\\Local\\Temp\\ipykernel_6176\\3034425392.py:75: FutureWarning: The frame.append method is deprecated and will be removed from pandas in a future version. Use pandas.concat instead.\n",
      "  df = df.append([globals()[f'list']])\n",
      "C:\\Users\\smhrd\\AppData\\Roaming\\Python\\Python39\\site-packages\\sklearn\\base.py:450: UserWarning: X does not have valid feature names, but KNeighborsClassifier was fitted with feature names\n",
      "  warnings.warn(\n",
      "C:\\Users\\smhrd\\AppData\\Local\\Temp\\ipykernel_6176\\3034425392.py:75: FutureWarning: The frame.append method is deprecated and will be removed from pandas in a future version. Use pandas.concat instead.\n",
      "  df = df.append([globals()[f'list']])\n",
      "C:\\Users\\smhrd\\AppData\\Roaming\\Python\\Python39\\site-packages\\sklearn\\base.py:450: UserWarning: X does not have valid feature names, but KNeighborsClassifier was fitted with feature names\n",
      "  warnings.warn(\n"
     ]
    },
    {
     "name": "stdout",
     "output_type": "stream",
     "text": [
      "(146.0667165143312, 147.16319240979553, -21.5)\n",
      "[[0. 0. 1. 0.]]\n",
      "(146.20474224849247, 147.8720682861103, -19.0)\n",
      "[[0. 0. 1. 0.]]\n",
      "(143.82248794626793, 148.75345427126132, -19.0)\n",
      "[[0. 0. 1. 0.]]\n",
      "(140.05114498132608, 148.15350998072805, -17.0)\n",
      "[[0. 0. 1. 0.]]\n"
     ]
    },
    {
     "name": "stderr",
     "output_type": "stream",
     "text": [
      "C:\\Users\\smhrd\\AppData\\Local\\Temp\\ipykernel_6176\\3034425392.py:75: FutureWarning: The frame.append method is deprecated and will be removed from pandas in a future version. Use pandas.concat instead.\n",
      "  df = df.append([globals()[f'list']])\n",
      "C:\\Users\\smhrd\\AppData\\Roaming\\Python\\Python39\\site-packages\\sklearn\\base.py:450: UserWarning: X does not have valid feature names, but KNeighborsClassifier was fitted with feature names\n",
      "  warnings.warn(\n",
      "C:\\Users\\smhrd\\AppData\\Local\\Temp\\ipykernel_6176\\3034425392.py:75: FutureWarning: The frame.append method is deprecated and will be removed from pandas in a future version. Use pandas.concat instead.\n",
      "  df = df.append([globals()[f'list']])\n",
      "C:\\Users\\smhrd\\AppData\\Roaming\\Python\\Python39\\site-packages\\sklearn\\base.py:450: UserWarning: X does not have valid feature names, but KNeighborsClassifier was fitted with feature names\n",
      "  warnings.warn(\n",
      "C:\\Users\\smhrd\\AppData\\Local\\Temp\\ipykernel_6176\\3034425392.py:75: FutureWarning: The frame.append method is deprecated and will be removed from pandas in a future version. Use pandas.concat instead.\n",
      "  df = df.append([globals()[f'list']])\n",
      "C:\\Users\\smhrd\\AppData\\Roaming\\Python\\Python39\\site-packages\\sklearn\\base.py:450: UserWarning: X does not have valid feature names, but KNeighborsClassifier was fitted with feature names\n",
      "  warnings.warn(\n",
      "C:\\Users\\smhrd\\AppData\\Local\\Temp\\ipykernel_6176\\3034425392.py:75: FutureWarning: The frame.append method is deprecated and will be removed from pandas in a future version. Use pandas.concat instead.\n",
      "  df = df.append([globals()[f'list']])\n",
      "C:\\Users\\smhrd\\AppData\\Roaming\\Python\\Python39\\site-packages\\sklearn\\base.py:450: UserWarning: X does not have valid feature names, but KNeighborsClassifier was fitted with feature names\n",
      "  warnings.warn(\n"
     ]
    },
    {
     "name": "stdout",
     "output_type": "stream",
     "text": [
      "(137.2464144604355, 147.75303413056395, -20.0)\n",
      "[[0. 0. 1. 0.]]\n",
      "(139.50423508509323, 149.22614545052704, -18.5)\n",
      "[[0. 0. 1. 0.]]\n",
      "(138.88886195147327, 146.6545431033146, -20.5)\n",
      "[[0. 0. 1. 0.]]\n",
      "(134.81381356160355, 148.6680816564675, -19.0)\n",
      "[[0. 0. 1. 0.]]\n"
     ]
    },
    {
     "name": "stderr",
     "output_type": "stream",
     "text": [
      "C:\\Users\\smhrd\\AppData\\Local\\Temp\\ipykernel_6176\\3034425392.py:75: FutureWarning: The frame.append method is deprecated and will be removed from pandas in a future version. Use pandas.concat instead.\n",
      "  df = df.append([globals()[f'list']])\n",
      "C:\\Users\\smhrd\\AppData\\Roaming\\Python\\Python39\\site-packages\\sklearn\\base.py:450: UserWarning: X does not have valid feature names, but KNeighborsClassifier was fitted with feature names\n",
      "  warnings.warn(\n",
      "C:\\Users\\smhrd\\AppData\\Local\\Temp\\ipykernel_6176\\3034425392.py:75: FutureWarning: The frame.append method is deprecated and will be removed from pandas in a future version. Use pandas.concat instead.\n",
      "  df = df.append([globals()[f'list']])\n",
      "C:\\Users\\smhrd\\AppData\\Roaming\\Python\\Python39\\site-packages\\sklearn\\base.py:450: UserWarning: X does not have valid feature names, but KNeighborsClassifier was fitted with feature names\n",
      "  warnings.warn(\n",
      "C:\\Users\\smhrd\\AppData\\Local\\Temp\\ipykernel_6176\\3034425392.py:75: FutureWarning: The frame.append method is deprecated and will be removed from pandas in a future version. Use pandas.concat instead.\n",
      "  df = df.append([globals()[f'list']])\n",
      "C:\\Users\\smhrd\\AppData\\Roaming\\Python\\Python39\\site-packages\\sklearn\\base.py:450: UserWarning: X does not have valid feature names, but KNeighborsClassifier was fitted with feature names\n",
      "  warnings.warn(\n"
     ]
    },
    {
     "name": "stdout",
     "output_type": "stream",
     "text": [
      "(134.85859589778326, 150.42709933299113, -16.0)\n",
      "[[0. 0. 1. 0.]]\n",
      "(135.85935065515775, 148.2670727023329, -16.0)\n",
      "[[0. 0. 1. 0.]]\n",
      "(134.9373941269679, 147.697469847874, -20.0)\n",
      "[[0. 0. 1. 0.]]\n"
     ]
    },
    {
     "name": "stderr",
     "output_type": "stream",
     "text": [
      "C:\\Users\\smhrd\\AppData\\Local\\Temp\\ipykernel_6176\\3034425392.py:75: FutureWarning: The frame.append method is deprecated and will be removed from pandas in a future version. Use pandas.concat instead.\n",
      "  df = df.append([globals()[f'list']])\n",
      "C:\\Users\\smhrd\\AppData\\Roaming\\Python\\Python39\\site-packages\\sklearn\\base.py:450: UserWarning: X does not have valid feature names, but KNeighborsClassifier was fitted with feature names\n",
      "  warnings.warn(\n",
      "C:\\Users\\smhrd\\AppData\\Local\\Temp\\ipykernel_6176\\3034425392.py:75: FutureWarning: The frame.append method is deprecated and will be removed from pandas in a future version. Use pandas.concat instead.\n",
      "  df = df.append([globals()[f'list']])\n",
      "C:\\Users\\smhrd\\AppData\\Roaming\\Python\\Python39\\site-packages\\sklearn\\base.py:450: UserWarning: X does not have valid feature names, but KNeighborsClassifier was fitted with feature names\n",
      "  warnings.warn(\n",
      "C:\\Users\\smhrd\\AppData\\Local\\Temp\\ipykernel_6176\\3034425392.py:75: FutureWarning: The frame.append method is deprecated and will be removed from pandas in a future version. Use pandas.concat instead.\n",
      "  df = df.append([globals()[f'list']])\n",
      "C:\\Users\\smhrd\\AppData\\Roaming\\Python\\Python39\\site-packages\\sklearn\\base.py:450: UserWarning: X does not have valid feature names, but KNeighborsClassifier was fitted with feature names\n",
      "  warnings.warn(\n"
     ]
    },
    {
     "name": "stdout",
     "output_type": "stream",
     "text": [
      "(135.23136667665247, 147.86742732442679, -16.5)\n",
      "[[0. 0. 1. 0.]]\n",
      "(135.08986156294546, 148.69749992074006, -18.5)\n",
      "[[0. 0. 1. 0.]]\n",
      "(137.02948140004355, 147.32996641213933, -20.0)\n",
      "[[0. 0. 1. 0.]]\n"
     ]
    },
    {
     "name": "stderr",
     "output_type": "stream",
     "text": [
      "C:\\Users\\smhrd\\AppData\\Local\\Temp\\ipykernel_6176\\3034425392.py:75: FutureWarning: The frame.append method is deprecated and will be removed from pandas in a future version. Use pandas.concat instead.\n",
      "  df = df.append([globals()[f'list']])\n",
      "C:\\Users\\smhrd\\AppData\\Roaming\\Python\\Python39\\site-packages\\sklearn\\base.py:450: UserWarning: X does not have valid feature names, but KNeighborsClassifier was fitted with feature names\n",
      "  warnings.warn(\n",
      "C:\\Users\\smhrd\\AppData\\Local\\Temp\\ipykernel_6176\\3034425392.py:75: FutureWarning: The frame.append method is deprecated and will be removed from pandas in a future version. Use pandas.concat instead.\n",
      "  df = df.append([globals()[f'list']])\n",
      "C:\\Users\\smhrd\\AppData\\Roaming\\Python\\Python39\\site-packages\\sklearn\\base.py:450: UserWarning: X does not have valid feature names, but KNeighborsClassifier was fitted with feature names\n",
      "  warnings.warn(\n",
      "C:\\Users\\smhrd\\AppData\\Local\\Temp\\ipykernel_6176\\3034425392.py:75: FutureWarning: The frame.append method is deprecated and will be removed from pandas in a future version. Use pandas.concat instead.\n",
      "  df = df.append([globals()[f'list']])\n",
      "C:\\Users\\smhrd\\AppData\\Roaming\\Python\\Python39\\site-packages\\sklearn\\base.py:450: UserWarning: X does not have valid feature names, but KNeighborsClassifier was fitted with feature names\n",
      "  warnings.warn(\n"
     ]
    },
    {
     "name": "stdout",
     "output_type": "stream",
     "text": [
      "(138.56842509966745, 147.83157471442735, -17.0)\n",
      "[[0. 0. 1. 0.]]\n",
      "(138.51040990031458, 147.12483462970596, -17.5)\n",
      "[[0. 0. 1. 0.]]\n",
      "(138.35917364848672, 148.3770401699712, -16.0)\n",
      "[[0. 0. 1. 0.]]\n"
     ]
    },
    {
     "name": "stderr",
     "output_type": "stream",
     "text": [
      "C:\\Users\\smhrd\\AppData\\Local\\Temp\\ipykernel_6176\\3034425392.py:75: FutureWarning: The frame.append method is deprecated and will be removed from pandas in a future version. Use pandas.concat instead.\n",
      "  df = df.append([globals()[f'list']])\n",
      "C:\\Users\\smhrd\\AppData\\Roaming\\Python\\Python39\\site-packages\\sklearn\\base.py:450: UserWarning: X does not have valid feature names, but KNeighborsClassifier was fitted with feature names\n",
      "  warnings.warn(\n",
      "C:\\Users\\smhrd\\AppData\\Local\\Temp\\ipykernel_6176\\3034425392.py:75: FutureWarning: The frame.append method is deprecated and will be removed from pandas in a future version. Use pandas.concat instead.\n",
      "  df = df.append([globals()[f'list']])\n",
      "C:\\Users\\smhrd\\AppData\\Roaming\\Python\\Python39\\site-packages\\sklearn\\base.py:450: UserWarning: X does not have valid feature names, but KNeighborsClassifier was fitted with feature names\n",
      "  warnings.warn(\n",
      "C:\\Users\\smhrd\\AppData\\Local\\Temp\\ipykernel_6176\\3034425392.py:75: FutureWarning: The frame.append method is deprecated and will be removed from pandas in a future version. Use pandas.concat instead.\n",
      "  df = df.append([globals()[f'list']])\n",
      "C:\\Users\\smhrd\\AppData\\Roaming\\Python\\Python39\\site-packages\\sklearn\\base.py:450: UserWarning: X does not have valid feature names, but KNeighborsClassifier was fitted with feature names\n",
      "  warnings.warn(\n"
     ]
    },
    {
     "name": "stdout",
     "output_type": "stream",
     "text": [
      "(137.43268125410248, 147.12059748094066, -19.0)\n",
      "[[0. 0. 1. 0.]]\n",
      "(137.65569711762532, 146.6270807418237, -19.5)\n",
      "[[0. 0. 1. 0.]]\n",
      "(136.79777440131144, 149.3317971761636, -16.5)\n",
      "[[0. 0. 1. 0.]]\n"
     ]
    },
    {
     "name": "stderr",
     "output_type": "stream",
     "text": [
      "C:\\Users\\smhrd\\AppData\\Local\\Temp\\ipykernel_6176\\3034425392.py:75: FutureWarning: The frame.append method is deprecated and will be removed from pandas in a future version. Use pandas.concat instead.\n",
      "  df = df.append([globals()[f'list']])\n",
      "C:\\Users\\smhrd\\AppData\\Roaming\\Python\\Python39\\site-packages\\sklearn\\base.py:450: UserWarning: X does not have valid feature names, but KNeighborsClassifier was fitted with feature names\n",
      "  warnings.warn(\n",
      "C:\\Users\\smhrd\\AppData\\Local\\Temp\\ipykernel_6176\\3034425392.py:75: FutureWarning: The frame.append method is deprecated and will be removed from pandas in a future version. Use pandas.concat instead.\n",
      "  df = df.append([globals()[f'list']])\n",
      "C:\\Users\\smhrd\\AppData\\Roaming\\Python\\Python39\\site-packages\\sklearn\\base.py:450: UserWarning: X does not have valid feature names, but KNeighborsClassifier was fitted with feature names\n",
      "  warnings.warn(\n",
      "C:\\Users\\smhrd\\AppData\\Local\\Temp\\ipykernel_6176\\3034425392.py:75: FutureWarning: The frame.append method is deprecated and will be removed from pandas in a future version. Use pandas.concat instead.\n",
      "  df = df.append([globals()[f'list']])\n",
      "C:\\Users\\smhrd\\AppData\\Roaming\\Python\\Python39\\site-packages\\sklearn\\base.py:450: UserWarning: X does not have valid feature names, but KNeighborsClassifier was fitted with feature names\n",
      "  warnings.warn(\n",
      "C:\\Users\\smhrd\\AppData\\Local\\Temp\\ipykernel_6176\\3034425392.py:75: FutureWarning: The frame.append method is deprecated and will be removed from pandas in a future version. Use pandas.concat instead.\n",
      "  df = df.append([globals()[f'list']])\n",
      "C:\\Users\\smhrd\\AppData\\Roaming\\Python\\Python39\\site-packages\\sklearn\\base.py:450: UserWarning: X does not have valid feature names, but KNeighborsClassifier was fitted with feature names\n",
      "  warnings.warn(\n"
     ]
    },
    {
     "name": "stdout",
     "output_type": "stream",
     "text": [
      "(138.59027149659323, 148.9768076250053, -16.5)\n",
      "[[0. 0. 1. 0.]]\n",
      "(138.17983011986422, 148.85547114635435, -16.0)\n",
      "[[0. 0. 1. 0.]]\n",
      "(141.74057110950295, 149.3805346427287, -16.0)\n",
      "[[0. 0. 1. 0.]]\n",
      "(142.76353560167098, 149.7152705808119, -15.5)\n",
      "[[0. 0. 1. 0.]]\n"
     ]
    },
    {
     "name": "stderr",
     "output_type": "stream",
     "text": [
      "C:\\Users\\smhrd\\AppData\\Local\\Temp\\ipykernel_6176\\3034425392.py:75: FutureWarning: The frame.append method is deprecated and will be removed from pandas in a future version. Use pandas.concat instead.\n",
      "  df = df.append([globals()[f'list']])\n",
      "C:\\Users\\smhrd\\AppData\\Roaming\\Python\\Python39\\site-packages\\sklearn\\base.py:450: UserWarning: X does not have valid feature names, but KNeighborsClassifier was fitted with feature names\n",
      "  warnings.warn(\n",
      "C:\\Users\\smhrd\\AppData\\Local\\Temp\\ipykernel_6176\\3034425392.py:75: FutureWarning: The frame.append method is deprecated and will be removed from pandas in a future version. Use pandas.concat instead.\n",
      "  df = df.append([globals()[f'list']])\n",
      "C:\\Users\\smhrd\\AppData\\Roaming\\Python\\Python39\\site-packages\\sklearn\\base.py:450: UserWarning: X does not have valid feature names, but KNeighborsClassifier was fitted with feature names\n",
      "  warnings.warn(\n",
      "C:\\Users\\smhrd\\AppData\\Local\\Temp\\ipykernel_6176\\3034425392.py:75: FutureWarning: The frame.append method is deprecated and will be removed from pandas in a future version. Use pandas.concat instead.\n",
      "  df = df.append([globals()[f'list']])\n",
      "C:\\Users\\smhrd\\AppData\\Roaming\\Python\\Python39\\site-packages\\sklearn\\base.py:450: UserWarning: X does not have valid feature names, but KNeighborsClassifier was fitted with feature names\n",
      "  warnings.warn(\n",
      "C:\\Users\\smhrd\\AppData\\Local\\Temp\\ipykernel_6176\\3034425392.py:75: FutureWarning: The frame.append method is deprecated and will be removed from pandas in a future version. Use pandas.concat instead.\n",
      "  df = df.append([globals()[f'list']])\n",
      "C:\\Users\\smhrd\\AppData\\Roaming\\Python\\Python39\\site-packages\\sklearn\\base.py:450: UserWarning: X does not have valid feature names, but KNeighborsClassifier was fitted with feature names\n",
      "  warnings.warn(\n"
     ]
    },
    {
     "name": "stdout",
     "output_type": "stream",
     "text": [
      "(138.33777967307867, 150.08443964817604, -15.0)\n",
      "[[0. 0. 1. 0.]]\n",
      "(141.3379514792679, 148.72462780651688, -16.5)\n",
      "[[0. 0. 1. 0.]]\n",
      "(145.71471350470816, 147.97317961620726, -17.0)\n",
      "[[0. 0. 1. 0.]]\n",
      "(146.04146200456177, 148.2650410706106, -18.0)\n",
      "[[0. 0. 1. 0.]]\n"
     ]
    },
    {
     "name": "stderr",
     "output_type": "stream",
     "text": [
      "C:\\Users\\smhrd\\AppData\\Local\\Temp\\ipykernel_6176\\3034425392.py:75: FutureWarning: The frame.append method is deprecated and will be removed from pandas in a future version. Use pandas.concat instead.\n",
      "  df = df.append([globals()[f'list']])\n",
      "C:\\Users\\smhrd\\AppData\\Roaming\\Python\\Python39\\site-packages\\sklearn\\base.py:450: UserWarning: X does not have valid feature names, but KNeighborsClassifier was fitted with feature names\n",
      "  warnings.warn(\n",
      "C:\\Users\\smhrd\\AppData\\Local\\Temp\\ipykernel_6176\\3034425392.py:75: FutureWarning: The frame.append method is deprecated and will be removed from pandas in a future version. Use pandas.concat instead.\n",
      "  df = df.append([globals()[f'list']])\n",
      "C:\\Users\\smhrd\\AppData\\Roaming\\Python\\Python39\\site-packages\\sklearn\\base.py:450: UserWarning: X does not have valid feature names, but KNeighborsClassifier was fitted with feature names\n",
      "  warnings.warn(\n",
      "C:\\Users\\smhrd\\AppData\\Local\\Temp\\ipykernel_6176\\3034425392.py:75: FutureWarning: The frame.append method is deprecated and will be removed from pandas in a future version. Use pandas.concat instead.\n",
      "  df = df.append([globals()[f'list']])\n",
      "C:\\Users\\smhrd\\AppData\\Roaming\\Python\\Python39\\site-packages\\sklearn\\base.py:450: UserWarning: X does not have valid feature names, but KNeighborsClassifier was fitted with feature names\n",
      "  warnings.warn(\n",
      "C:\\Users\\smhrd\\AppData\\Local\\Temp\\ipykernel_6176\\3034425392.py:75: FutureWarning: The frame.append method is deprecated and will be removed from pandas in a future version. Use pandas.concat instead.\n",
      "  df = df.append([globals()[f'list']])\n",
      "C:\\Users\\smhrd\\AppData\\Roaming\\Python\\Python39\\site-packages\\sklearn\\base.py:450: UserWarning: X does not have valid feature names, but KNeighborsClassifier was fitted with feature names\n",
      "  warnings.warn(\n"
     ]
    },
    {
     "name": "stdout",
     "output_type": "stream",
     "text": [
      "(149.27294500258606, 145.28965802424906, -23.0)\n",
      "[[0. 0. 1. 0.]]\n",
      "(153.93945630454073, 144.61917800476434, -25.0)\n",
      "[[0. 0. 1. 0.]]\n",
      "(154.47671529532988, 144.81144585974977, -23.0)\n",
      "[[0. 0. 1. 0.]]\n",
      "(144.84334681898468, 147.61106724159814, -13.0)\n",
      "[[0. 0. 1. 0.]]\n"
     ]
    },
    {
     "name": "stderr",
     "output_type": "stream",
     "text": [
      "C:\\Users\\smhrd\\AppData\\Local\\Temp\\ipykernel_6176\\3034425392.py:75: FutureWarning: The frame.append method is deprecated and will be removed from pandas in a future version. Use pandas.concat instead.\n",
      "  df = df.append([globals()[f'list']])\n",
      "C:\\Users\\smhrd\\AppData\\Roaming\\Python\\Python39\\site-packages\\sklearn\\base.py:450: UserWarning: X does not have valid feature names, but KNeighborsClassifier was fitted with feature names\n",
      "  warnings.warn(\n",
      "C:\\Users\\smhrd\\AppData\\Local\\Temp\\ipykernel_6176\\3034425392.py:75: FutureWarning: The frame.append method is deprecated and will be removed from pandas in a future version. Use pandas.concat instead.\n",
      "  df = df.append([globals()[f'list']])\n",
      "C:\\Users\\smhrd\\AppData\\Roaming\\Python\\Python39\\site-packages\\sklearn\\base.py:450: UserWarning: X does not have valid feature names, but KNeighborsClassifier was fitted with feature names\n",
      "  warnings.warn(\n",
      "C:\\Users\\smhrd\\AppData\\Local\\Temp\\ipykernel_6176\\3034425392.py:75: FutureWarning: The frame.append method is deprecated and will be removed from pandas in a future version. Use pandas.concat instead.\n",
      "  df = df.append([globals()[f'list']])\n",
      "C:\\Users\\smhrd\\AppData\\Roaming\\Python\\Python39\\site-packages\\sklearn\\base.py:450: UserWarning: X does not have valid feature names, but KNeighborsClassifier was fitted with feature names\n",
      "  warnings.warn(\n"
     ]
    },
    {
     "name": "stdout",
     "output_type": "stream",
     "text": [
      "(151.3412477255671, 147.17775941986523, -18.5)\n",
      "[[0. 0. 1. 0.]]\n",
      "(155.32852606256924, 145.83815274317413, -22.0)\n",
      "[[0. 0. 1. 0.]]\n",
      "(153.1352589384958, 143.3986161682477, -26.5)\n",
      "[[0. 0. 1. 0.]]\n"
     ]
    },
    {
     "name": "stderr",
     "output_type": "stream",
     "text": [
      "C:\\Users\\smhrd\\AppData\\Local\\Temp\\ipykernel_6176\\3034425392.py:75: FutureWarning: The frame.append method is deprecated and will be removed from pandas in a future version. Use pandas.concat instead.\n",
      "  df = df.append([globals()[f'list']])\n",
      "C:\\Users\\smhrd\\AppData\\Roaming\\Python\\Python39\\site-packages\\sklearn\\base.py:450: UserWarning: X does not have valid feature names, but KNeighborsClassifier was fitted with feature names\n",
      "  warnings.warn(\n",
      "C:\\Users\\smhrd\\AppData\\Local\\Temp\\ipykernel_6176\\3034425392.py:75: FutureWarning: The frame.append method is deprecated and will be removed from pandas in a future version. Use pandas.concat instead.\n",
      "  df = df.append([globals()[f'list']])\n",
      "C:\\Users\\smhrd\\AppData\\Roaming\\Python\\Python39\\site-packages\\sklearn\\base.py:450: UserWarning: X does not have valid feature names, but KNeighborsClassifier was fitted with feature names\n",
      "  warnings.warn(\n",
      "C:\\Users\\smhrd\\AppData\\Local\\Temp\\ipykernel_6176\\3034425392.py:75: FutureWarning: The frame.append method is deprecated and will be removed from pandas in a future version. Use pandas.concat instead.\n",
      "  df = df.append([globals()[f'list']])\n",
      "C:\\Users\\smhrd\\AppData\\Roaming\\Python\\Python39\\site-packages\\sklearn\\base.py:450: UserWarning: X does not have valid feature names, but KNeighborsClassifier was fitted with feature names\n",
      "  warnings.warn(\n"
     ]
    },
    {
     "name": "stdout",
     "output_type": "stream",
     "text": [
      "(177.92426760693368, 143.61987095634152, -30.5)\n",
      "[[0. 0. 1. 0.]]\n",
      "(163.07211903438133, 142.6618633104838, -37.0)\n",
      "[[0. 0. 1. 0.]]\n",
      "(163.48844035459766, 139.58515877723767, -45.5)\n",
      "[[0. 0. 1. 0.]]\n"
     ]
    },
    {
     "name": "stderr",
     "output_type": "stream",
     "text": [
      "C:\\Users\\smhrd\\AppData\\Local\\Temp\\ipykernel_6176\\3034425392.py:75: FutureWarning: The frame.append method is deprecated and will be removed from pandas in a future version. Use pandas.concat instead.\n",
      "  df = df.append([globals()[f'list']])\n",
      "C:\\Users\\smhrd\\AppData\\Roaming\\Python\\Python39\\site-packages\\sklearn\\base.py:450: UserWarning: X does not have valid feature names, but KNeighborsClassifier was fitted with feature names\n",
      "  warnings.warn(\n",
      "C:\\Users\\smhrd\\AppData\\Local\\Temp\\ipykernel_6176\\3034425392.py:75: FutureWarning: The frame.append method is deprecated and will be removed from pandas in a future version. Use pandas.concat instead.\n",
      "  df = df.append([globals()[f'list']])\n",
      "C:\\Users\\smhrd\\AppData\\Roaming\\Python\\Python39\\site-packages\\sklearn\\base.py:450: UserWarning: X does not have valid feature names, but KNeighborsClassifier was fitted with feature names\n",
      "  warnings.warn(\n",
      "C:\\Users\\smhrd\\AppData\\Local\\Temp\\ipykernel_6176\\3034425392.py:75: FutureWarning: The frame.append method is deprecated and will be removed from pandas in a future version. Use pandas.concat instead.\n",
      "  df = df.append([globals()[f'list']])\n",
      "C:\\Users\\smhrd\\AppData\\Roaming\\Python\\Python39\\site-packages\\sklearn\\base.py:450: UserWarning: X does not have valid feature names, but KNeighborsClassifier was fitted with feature names\n",
      "  warnings.warn(\n",
      "C:\\Users\\smhrd\\AppData\\Local\\Temp\\ipykernel_6176\\3034425392.py:75: FutureWarning: The frame.append method is deprecated and will be removed from pandas in a future version. Use pandas.concat instead.\n",
      "  df = df.append([globals()[f'list']])\n",
      "C:\\Users\\smhrd\\AppData\\Roaming\\Python\\Python39\\site-packages\\sklearn\\base.py:450: UserWarning: X does not have valid feature names, but KNeighborsClassifier was fitted with feature names\n",
      "  warnings.warn(\n"
     ]
    },
    {
     "name": "stdout",
     "output_type": "stream",
     "text": [
      "(166.97707676710203, 138.99309832077276, -53.0)\n",
      "[[0.         0.         0.66666667 0.33333333]]\n",
      "(169.35001327847414, 135.6382942404194, -59.5)\n",
      "[[0. 0. 1. 0.]]\n",
      "(171.82232127221533, 136.779219585669, -62.5)\n",
      "[[0. 0. 1. 0.]]\n",
      "(161.58459646067712, 134.62240580972812, -75.0)\n",
      "[[0. 0. 1. 0.]]\n"
     ]
    },
    {
     "name": "stderr",
     "output_type": "stream",
     "text": [
      "C:\\Users\\smhrd\\AppData\\Local\\Temp\\ipykernel_6176\\3034425392.py:75: FutureWarning: The frame.append method is deprecated and will be removed from pandas in a future version. Use pandas.concat instead.\n",
      "  df = df.append([globals()[f'list']])\n",
      "C:\\Users\\smhrd\\AppData\\Roaming\\Python\\Python39\\site-packages\\sklearn\\base.py:450: UserWarning: X does not have valid feature names, but KNeighborsClassifier was fitted with feature names\n",
      "  warnings.warn(\n",
      "C:\\Users\\smhrd\\AppData\\Local\\Temp\\ipykernel_6176\\3034425392.py:75: FutureWarning: The frame.append method is deprecated and will be removed from pandas in a future version. Use pandas.concat instead.\n",
      "  df = df.append([globals()[f'list']])\n",
      "C:\\Users\\smhrd\\AppData\\Roaming\\Python\\Python39\\site-packages\\sklearn\\base.py:450: UserWarning: X does not have valid feature names, but KNeighborsClassifier was fitted with feature names\n",
      "  warnings.warn(\n",
      "C:\\Users\\smhrd\\AppData\\Local\\Temp\\ipykernel_6176\\3034425392.py:75: FutureWarning: The frame.append method is deprecated and will be removed from pandas in a future version. Use pandas.concat instead.\n",
      "  df = df.append([globals()[f'list']])\n",
      "C:\\Users\\smhrd\\AppData\\Roaming\\Python\\Python39\\site-packages\\sklearn\\base.py:450: UserWarning: X does not have valid feature names, but KNeighborsClassifier was fitted with feature names\n",
      "  warnings.warn(\n",
      "C:\\Users\\smhrd\\AppData\\Local\\Temp\\ipykernel_6176\\3034425392.py:75: FutureWarning: The frame.append method is deprecated and will be removed from pandas in a future version. Use pandas.concat instead.\n",
      "  df = df.append([globals()[f'list']])\n",
      "C:\\Users\\smhrd\\AppData\\Roaming\\Python\\Python39\\site-packages\\sklearn\\base.py:450: UserWarning: X does not have valid feature names, but KNeighborsClassifier was fitted with feature names\n",
      "  warnings.warn(\n"
     ]
    },
    {
     "name": "stdout",
     "output_type": "stream",
     "text": [
      "(166.13872356997388, 133.99520161004338, -78.0)\n",
      "[[0. 0. 1. 0.]]\n",
      "(164.81767242613046, 134.6932823197954, -77.0)\n",
      "[[0. 0. 1. 0.]]\n",
      "(165.04366835990004, 131.86919760261642, -85.0)\n",
      "[[0. 0. 1. 0.]]\n",
      "(167.44541507876508, 133.04928764083365, -83.0)\n",
      "[[0. 0. 1. 0.]]\n"
     ]
    },
    {
     "name": "stderr",
     "output_type": "stream",
     "text": [
      "C:\\Users\\smhrd\\AppData\\Local\\Temp\\ipykernel_6176\\3034425392.py:75: FutureWarning: The frame.append method is deprecated and will be removed from pandas in a future version. Use pandas.concat instead.\n",
      "  df = df.append([globals()[f'list']])\n",
      "C:\\Users\\smhrd\\AppData\\Roaming\\Python\\Python39\\site-packages\\sklearn\\base.py:450: UserWarning: X does not have valid feature names, but KNeighborsClassifier was fitted with feature names\n",
      "  warnings.warn(\n",
      "C:\\Users\\smhrd\\AppData\\Local\\Temp\\ipykernel_6176\\3034425392.py:75: FutureWarning: The frame.append method is deprecated and will be removed from pandas in a future version. Use pandas.concat instead.\n",
      "  df = df.append([globals()[f'list']])\n",
      "C:\\Users\\smhrd\\AppData\\Roaming\\Python\\Python39\\site-packages\\sklearn\\base.py:450: UserWarning: X does not have valid feature names, but KNeighborsClassifier was fitted with feature names\n",
      "  warnings.warn(\n",
      "C:\\Users\\smhrd\\AppData\\Local\\Temp\\ipykernel_6176\\3034425392.py:75: FutureWarning: The frame.append method is deprecated and will be removed from pandas in a future version. Use pandas.concat instead.\n",
      "  df = df.append([globals()[f'list']])\n",
      "C:\\Users\\smhrd\\AppData\\Roaming\\Python\\Python39\\site-packages\\sklearn\\base.py:450: UserWarning: X does not have valid feature names, but KNeighborsClassifier was fitted with feature names\n",
      "  warnings.warn(\n",
      "C:\\Users\\smhrd\\AppData\\Local\\Temp\\ipykernel_6176\\3034425392.py:75: FutureWarning: The frame.append method is deprecated and will be removed from pandas in a future version. Use pandas.concat instead.\n",
      "  df = df.append([globals()[f'list']])\n",
      "C:\\Users\\smhrd\\AppData\\Roaming\\Python\\Python39\\site-packages\\sklearn\\base.py:450: UserWarning: X does not have valid feature names, but KNeighborsClassifier was fitted with feature names\n",
      "  warnings.warn(\n"
     ]
    },
    {
     "name": "stdout",
     "output_type": "stream",
     "text": [
      "(171.26010489266443, 130.51956035021485, -86.0)\n",
      "[[0.         0.         0.66666667 0.33333333]]\n",
      "(172.8075472654657, 133.113101655971, -85.5)\n",
      "[[0. 0. 0. 1.]]\n",
      "(165.27192539718544, 132.240415004202, -87.0)\n",
      "[[0. 0. 1. 0.]]\n",
      "(163.23134407498628, 131.9052676885663, -84.5)\n",
      "[[0. 0. 1. 0.]]\n"
     ]
    },
    {
     "name": "stderr",
     "output_type": "stream",
     "text": [
      "C:\\Users\\smhrd\\AppData\\Local\\Temp\\ipykernel_6176\\3034425392.py:75: FutureWarning: The frame.append method is deprecated and will be removed from pandas in a future version. Use pandas.concat instead.\n",
      "  df = df.append([globals()[f'list']])\n",
      "C:\\Users\\smhrd\\AppData\\Roaming\\Python\\Python39\\site-packages\\sklearn\\base.py:450: UserWarning: X does not have valid feature names, but KNeighborsClassifier was fitted with feature names\n",
      "  warnings.warn(\n",
      "C:\\Users\\smhrd\\AppData\\Local\\Temp\\ipykernel_6176\\3034425392.py:75: FutureWarning: The frame.append method is deprecated and will be removed from pandas in a future version. Use pandas.concat instead.\n",
      "  df = df.append([globals()[f'list']])\n",
      "C:\\Users\\smhrd\\AppData\\Roaming\\Python\\Python39\\site-packages\\sklearn\\base.py:450: UserWarning: X does not have valid feature names, but KNeighborsClassifier was fitted with feature names\n",
      "  warnings.warn(\n",
      "C:\\Users\\smhrd\\AppData\\Local\\Temp\\ipykernel_6176\\3034425392.py:75: FutureWarning: The frame.append method is deprecated and will be removed from pandas in a future version. Use pandas.concat instead.\n",
      "  df = df.append([globals()[f'list']])\n",
      "C:\\Users\\smhrd\\AppData\\Roaming\\Python\\Python39\\site-packages\\sklearn\\base.py:450: UserWarning: X does not have valid feature names, but KNeighborsClassifier was fitted with feature names\n",
      "  warnings.warn(\n"
     ]
    },
    {
     "name": "stdout",
     "output_type": "stream",
     "text": [
      "(165.75037307412947, 133.8286550427259, -83.0)\n",
      "[[0. 0. 1. 0.]]\n",
      "(161.34104803671192, 136.26133497363944, -69.0)\n",
      "[[0.         0.         0.66666667 0.33333333]]\n",
      "(167.361021569545, 135.7787452588146, -68.0)\n",
      "[[0. 0. 1. 0.]]\n"
     ]
    },
    {
     "name": "stderr",
     "output_type": "stream",
     "text": [
      "C:\\Users\\smhrd\\AppData\\Local\\Temp\\ipykernel_6176\\3034425392.py:75: FutureWarning: The frame.append method is deprecated and will be removed from pandas in a future version. Use pandas.concat instead.\n",
      "  df = df.append([globals()[f'list']])\n",
      "C:\\Users\\smhrd\\AppData\\Roaming\\Python\\Python39\\site-packages\\sklearn\\base.py:450: UserWarning: X does not have valid feature names, but KNeighborsClassifier was fitted with feature names\n",
      "  warnings.warn(\n",
      "C:\\Users\\smhrd\\AppData\\Local\\Temp\\ipykernel_6176\\3034425392.py:75: FutureWarning: The frame.append method is deprecated and will be removed from pandas in a future version. Use pandas.concat instead.\n",
      "  df = df.append([globals()[f'list']])\n",
      "C:\\Users\\smhrd\\AppData\\Roaming\\Python\\Python39\\site-packages\\sklearn\\base.py:450: UserWarning: X does not have valid feature names, but KNeighborsClassifier was fitted with feature names\n",
      "  warnings.warn(\n",
      "C:\\Users\\smhrd\\AppData\\Local\\Temp\\ipykernel_6176\\3034425392.py:75: FutureWarning: The frame.append method is deprecated and will be removed from pandas in a future version. Use pandas.concat instead.\n",
      "  df = df.append([globals()[f'list']])\n",
      "C:\\Users\\smhrd\\AppData\\Roaming\\Python\\Python39\\site-packages\\sklearn\\base.py:450: UserWarning: X does not have valid feature names, but KNeighborsClassifier was fitted with feature names\n",
      "  warnings.warn(\n"
     ]
    },
    {
     "name": "stdout",
     "output_type": "stream",
     "text": [
      "(160.70233990774346, 137.27142257357144, -64.0)\n",
      "[[0. 0. 1. 0.]]\n",
      "(164.25946994119602, 138.62502820058268, -57.5)\n",
      "[[0. 0. 1. 0.]]\n",
      "(163.82947449338337, 141.1889687035183, -46.0)\n",
      "[[0. 0. 1. 0.]]\n",
      "(161.26414802589215, 143.84850168020606, -41.5)\n",
      "[[0. 0. 1. 0.]]\n",
      "(158.6385303536759, 145.29180395146045, -31.5)\n",
      "[[0. 0. 1. 0.]]\n"
     ]
    },
    {
     "name": "stderr",
     "output_type": "stream",
     "text": [
      "C:\\Users\\smhrd\\AppData\\Local\\Temp\\ipykernel_6176\\3034425392.py:75: FutureWarning: The frame.append method is deprecated and will be removed from pandas in a future version. Use pandas.concat instead.\n",
      "  df = df.append([globals()[f'list']])\n",
      "C:\\Users\\smhrd\\AppData\\Roaming\\Python\\Python39\\site-packages\\sklearn\\base.py:450: UserWarning: X does not have valid feature names, but KNeighborsClassifier was fitted with feature names\n",
      "  warnings.warn(\n",
      "C:\\Users\\smhrd\\AppData\\Local\\Temp\\ipykernel_6176\\3034425392.py:75: FutureWarning: The frame.append method is deprecated and will be removed from pandas in a future version. Use pandas.concat instead.\n",
      "  df = df.append([globals()[f'list']])\n",
      "C:\\Users\\smhrd\\AppData\\Roaming\\Python\\Python39\\site-packages\\sklearn\\base.py:450: UserWarning: X does not have valid feature names, but KNeighborsClassifier was fitted with feature names\n",
      "  warnings.warn(\n"
     ]
    },
    {
     "name": "stderr",
     "output_type": "stream",
     "text": [
      "C:\\Users\\smhrd\\AppData\\Local\\Temp\\ipykernel_6176\\3034425392.py:75: FutureWarning: The frame.append method is deprecated and will be removed from pandas in a future version. Use pandas.concat instead.\n",
      "  df = df.append([globals()[f'list']])\n",
      "C:\\Users\\smhrd\\AppData\\Roaming\\Python\\Python39\\site-packages\\sklearn\\base.py:450: UserWarning: X does not have valid feature names, but KNeighborsClassifier was fitted with feature names\n",
      "  warnings.warn(\n"
     ]
    },
    {
     "name": "stdout",
     "output_type": "stream",
     "text": [
      "(170.42577211490817, 146.87089513830227, -28.0)\n",
      "[[0. 0. 1. 0.]]\n",
      "(168.4227169990701, 146.15337679769516, -25.0)\n",
      "[[0. 0. 1. 0.]]\n",
      "(155.00012495743678, 146.11383691901187, -23.0)\n",
      "[[0. 0. 1. 0.]]\n",
      "(156.4765862381737, 148.6116190941453, -16.5)\n",
      "[[0. 0. 1. 0.]]\n"
     ]
    },
    {
     "name": "stderr",
     "output_type": "stream",
     "text": [
      "C:\\Users\\smhrd\\AppData\\Local\\Temp\\ipykernel_6176\\3034425392.py:75: FutureWarning: The frame.append method is deprecated and will be removed from pandas in a future version. Use pandas.concat instead.\n",
      "  df = df.append([globals()[f'list']])\n",
      "C:\\Users\\smhrd\\AppData\\Roaming\\Python\\Python39\\site-packages\\sklearn\\base.py:450: UserWarning: X does not have valid feature names, but KNeighborsClassifier was fitted with feature names\n",
      "  warnings.warn(\n",
      "C:\\Users\\smhrd\\AppData\\Local\\Temp\\ipykernel_6176\\3034425392.py:75: FutureWarning: The frame.append method is deprecated and will be removed from pandas in a future version. Use pandas.concat instead.\n",
      "  df = df.append([globals()[f'list']])\n",
      "C:\\Users\\smhrd\\AppData\\Roaming\\Python\\Python39\\site-packages\\sklearn\\base.py:450: UserWarning: X does not have valid feature names, but KNeighborsClassifier was fitted with feature names\n",
      "  warnings.warn(\n",
      "C:\\Users\\smhrd\\AppData\\Local\\Temp\\ipykernel_6176\\3034425392.py:75: FutureWarning: The frame.append method is deprecated and will be removed from pandas in a future version. Use pandas.concat instead.\n",
      "  df = df.append([globals()[f'list']])\n",
      "C:\\Users\\smhrd\\AppData\\Roaming\\Python\\Python39\\site-packages\\sklearn\\base.py:450: UserWarning: X does not have valid feature names, but KNeighborsClassifier was fitted with feature names\n",
      "  warnings.warn(\n",
      "C:\\Users\\smhrd\\AppData\\Local\\Temp\\ipykernel_6176\\3034425392.py:75: FutureWarning: The frame.append method is deprecated and will be removed from pandas in a future version. Use pandas.concat instead.\n",
      "  df = df.append([globals()[f'list']])\n",
      "C:\\Users\\smhrd\\AppData\\Roaming\\Python\\Python39\\site-packages\\sklearn\\base.py:450: UserWarning: X does not have valid feature names, but KNeighborsClassifier was fitted with feature names\n",
      "  warnings.warn(\n",
      "C:\\Users\\smhrd\\AppData\\Local\\Temp\\ipykernel_6176\\3034425392.py:75: FutureWarning: The frame.append method is deprecated and will be removed from pandas in a future version. Use pandas.concat instead.\n",
      "  df = df.append([globals()[f'list']])\n",
      "C:\\Users\\smhrd\\AppData\\Roaming\\Python\\Python39\\site-packages\\sklearn\\base.py:450: UserWarning: X does not have valid feature names, but KNeighborsClassifier was fitted with feature names\n",
      "  warnings.warn(\n",
      "C:\\Users\\smhrd\\AppData\\Local\\Temp\\ipykernel_6176\\3034425392.py:75: FutureWarning: The frame.append method is deprecated and will be removed from pandas in a future version. Use pandas.concat instead.\n",
      "  df = df.append([globals()[f'list']])\n",
      "C:\\Users\\smhrd\\AppData\\Roaming\\Python\\Python39\\site-packages\\sklearn\\base.py:450: UserWarning: X does not have valid feature names, but KNeighborsClassifier was fitted with feature names\n",
      "  warnings.warn(\n"
     ]
    },
    {
     "name": "stdout",
     "output_type": "stream",
     "text": [
      "(158.35449701188375, 148.39633863332807, -15.5)\n",
      "[[0. 0. 1. 0.]]\n",
      "(153.11660501463788, 150.7682960196611, -6.0)\n",
      "[[0. 0. 1. 0.]]\n",
      "(158.73792659891672, 146.94521014040976, -20.0)\n",
      "[[0. 0. 1. 0.]]\n"
     ]
    },
    {
     "name": "stderr",
     "output_type": "stream",
     "text": [
      "C:\\Users\\smhrd\\AppData\\Local\\Temp\\ipykernel_6176\\3034425392.py:75: FutureWarning: The frame.append method is deprecated and will be removed from pandas in a future version. Use pandas.concat instead.\n",
      "  df = df.append([globals()[f'list']])\n",
      "C:\\Users\\smhrd\\AppData\\Roaming\\Python\\Python39\\site-packages\\sklearn\\base.py:450: UserWarning: X does not have valid feature names, but KNeighborsClassifier was fitted with feature names\n",
      "  warnings.warn(\n",
      "C:\\Users\\smhrd\\AppData\\Local\\Temp\\ipykernel_6176\\3034425392.py:75: FutureWarning: The frame.append method is deprecated and will be removed from pandas in a future version. Use pandas.concat instead.\n",
      "  df = df.append([globals()[f'list']])\n",
      "C:\\Users\\smhrd\\AppData\\Roaming\\Python\\Python39\\site-packages\\sklearn\\base.py:450: UserWarning: X does not have valid feature names, but KNeighborsClassifier was fitted with feature names\n",
      "  warnings.warn(\n",
      "C:\\Users\\smhrd\\AppData\\Local\\Temp\\ipykernel_6176\\3034425392.py:75: FutureWarning: The frame.append method is deprecated and will be removed from pandas in a future version. Use pandas.concat instead.\n",
      "  df = df.append([globals()[f'list']])\n",
      "C:\\Users\\smhrd\\AppData\\Roaming\\Python\\Python39\\site-packages\\sklearn\\base.py:450: UserWarning: X does not have valid feature names, but KNeighborsClassifier was fitted with feature names\n",
      "  warnings.warn(\n"
     ]
    },
    {
     "name": "stdout",
     "output_type": "stream",
     "text": [
      "(153.02026842219502, 146.32985494810418, -21.5)\n",
      "[[0. 0. 1. 0.]]\n",
      "(151.00684840259296, 146.5354986287824, -24.0)\n",
      "[[0. 0. 1. 0.]]\n",
      "(150.56915020041228, 147.3758838183689, -18.0)\n",
      "[[0. 0. 1. 0.]]\n"
     ]
    },
    {
     "name": "stderr",
     "output_type": "stream",
     "text": [
      "C:\\Users\\smhrd\\AppData\\Local\\Temp\\ipykernel_6176\\3034425392.py:75: FutureWarning: The frame.append method is deprecated and will be removed from pandas in a future version. Use pandas.concat instead.\n",
      "  df = df.append([globals()[f'list']])\n",
      "C:\\Users\\smhrd\\AppData\\Roaming\\Python\\Python39\\site-packages\\sklearn\\base.py:450: UserWarning: X does not have valid feature names, but KNeighborsClassifier was fitted with feature names\n",
      "  warnings.warn(\n",
      "C:\\Users\\smhrd\\AppData\\Local\\Temp\\ipykernel_6176\\3034425392.py:75: FutureWarning: The frame.append method is deprecated and will be removed from pandas in a future version. Use pandas.concat instead.\n",
      "  df = df.append([globals()[f'list']])\n",
      "C:\\Users\\smhrd\\AppData\\Roaming\\Python\\Python39\\site-packages\\sklearn\\base.py:450: UserWarning: X does not have valid feature names, but KNeighborsClassifier was fitted with feature names\n",
      "  warnings.warn(\n",
      "C:\\Users\\smhrd\\AppData\\Local\\Temp\\ipykernel_6176\\3034425392.py:75: FutureWarning: The frame.append method is deprecated and will be removed from pandas in a future version. Use pandas.concat instead.\n",
      "  df = df.append([globals()[f'list']])\n",
      "C:\\Users\\smhrd\\AppData\\Roaming\\Python\\Python39\\site-packages\\sklearn\\base.py:450: UserWarning: X does not have valid feature names, but KNeighborsClassifier was fitted with feature names\n",
      "  warnings.warn(\n"
     ]
    },
    {
     "name": "stdout",
     "output_type": "stream",
     "text": [
      "(145.6910342643976, 147.91739786942446, -19.5)\n",
      "[[0. 0. 1. 0.]]\n",
      "(143.42157546228424, 147.66847352505584, -20.5)\n",
      "[[0. 0. 1. 0.]]\n",
      "(140.7801728128289, 148.54282905008824, -16.0)\n",
      "[[0. 0. 1. 0.]]\n"
     ]
    },
    {
     "name": "stderr",
     "output_type": "stream",
     "text": [
      "C:\\Users\\smhrd\\AppData\\Local\\Temp\\ipykernel_6176\\3034425392.py:75: FutureWarning: The frame.append method is deprecated and will be removed from pandas in a future version. Use pandas.concat instead.\n",
      "  df = df.append([globals()[f'list']])\n",
      "C:\\Users\\smhrd\\AppData\\Roaming\\Python\\Python39\\site-packages\\sklearn\\base.py:450: UserWarning: X does not have valid feature names, but KNeighborsClassifier was fitted with feature names\n",
      "  warnings.warn(\n",
      "C:\\Users\\smhrd\\AppData\\Local\\Temp\\ipykernel_6176\\3034425392.py:75: FutureWarning: The frame.append method is deprecated and will be removed from pandas in a future version. Use pandas.concat instead.\n",
      "  df = df.append([globals()[f'list']])\n",
      "C:\\Users\\smhrd\\AppData\\Roaming\\Python\\Python39\\site-packages\\sklearn\\base.py:450: UserWarning: X does not have valid feature names, but KNeighborsClassifier was fitted with feature names\n",
      "  warnings.warn(\n",
      "C:\\Users\\smhrd\\AppData\\Local\\Temp\\ipykernel_6176\\3034425392.py:75: FutureWarning: The frame.append method is deprecated and will be removed from pandas in a future version. Use pandas.concat instead.\n",
      "  df = df.append([globals()[f'list']])\n",
      "C:\\Users\\smhrd\\AppData\\Roaming\\Python\\Python39\\site-packages\\sklearn\\base.py:450: UserWarning: X does not have valid feature names, but KNeighborsClassifier was fitted with feature names\n",
      "  warnings.warn(\n"
     ]
    },
    {
     "name": "stdout",
     "output_type": "stream",
     "text": [
      "(137.4246737144593, 147.85742309234678, -18.0)\n",
      "[[0. 0. 1. 0.]]\n",
      "(137.21605104543067, 147.28556306685292, -17.0)\n",
      "[[0. 0. 1. 0.]]\n",
      "(139.36974798579485, 149.7331586638026, -17.0)\n",
      "[[0. 0. 1. 0.]]\n"
     ]
    },
    {
     "name": "stderr",
     "output_type": "stream",
     "text": [
      "C:\\Users\\smhrd\\AppData\\Local\\Temp\\ipykernel_6176\\3034425392.py:75: FutureWarning: The frame.append method is deprecated and will be removed from pandas in a future version. Use pandas.concat instead.\n",
      "  df = df.append([globals()[f'list']])\n",
      "C:\\Users\\smhrd\\AppData\\Roaming\\Python\\Python39\\site-packages\\sklearn\\base.py:450: UserWarning: X does not have valid feature names, but KNeighborsClassifier was fitted with feature names\n",
      "  warnings.warn(\n",
      "C:\\Users\\smhrd\\AppData\\Local\\Temp\\ipykernel_6176\\3034425392.py:75: FutureWarning: The frame.append method is deprecated and will be removed from pandas in a future version. Use pandas.concat instead.\n",
      "  df = df.append([globals()[f'list']])\n",
      "C:\\Users\\smhrd\\AppData\\Roaming\\Python\\Python39\\site-packages\\sklearn\\base.py:450: UserWarning: X does not have valid feature names, but KNeighborsClassifier was fitted with feature names\n",
      "  warnings.warn(\n",
      "C:\\Users\\smhrd\\AppData\\Local\\Temp\\ipykernel_6176\\3034425392.py:75: FutureWarning: The frame.append method is deprecated and will be removed from pandas in a future version. Use pandas.concat instead.\n",
      "  df = df.append([globals()[f'list']])\n",
      "C:\\Users\\smhrd\\AppData\\Roaming\\Python\\Python39\\site-packages\\sklearn\\base.py:450: UserWarning: X does not have valid feature names, but KNeighborsClassifier was fitted with feature names\n",
      "  warnings.warn(\n",
      "C:\\Users\\smhrd\\AppData\\Local\\Temp\\ipykernel_6176\\3034425392.py:75: FutureWarning: The frame.append method is deprecated and will be removed from pandas in a future version. Use pandas.concat instead.\n",
      "  df = df.append([globals()[f'list']])\n",
      "C:\\Users\\smhrd\\AppData\\Roaming\\Python\\Python39\\site-packages\\sklearn\\base.py:450: UserWarning: X does not have valid feature names, but KNeighborsClassifier was fitted with feature names\n",
      "  warnings.warn(\n"
     ]
    },
    {
     "name": "stdout",
     "output_type": "stream",
     "text": [
      "(139.83161658200663, 148.8080882596827, -17.5)\n",
      "[[0. 0. 1. 0.]]\n",
      "(135.31709185974918, 146.59627233848266, -18.5)\n",
      "[[0. 0. 1. 0.]]\n",
      "(134.7342354587513, 150.067130191682, -17.5)\n",
      "[[0. 0. 1. 0.]]\n",
      "(136.29698916492617, 148.8832591832824, -15.5)\n",
      "[[0. 0. 1. 0.]]\n"
     ]
    },
    {
     "name": "stderr",
     "output_type": "stream",
     "text": [
      "C:\\Users\\smhrd\\AppData\\Local\\Temp\\ipykernel_6176\\3034425392.py:75: FutureWarning: The frame.append method is deprecated and will be removed from pandas in a future version. Use pandas.concat instead.\n",
      "  df = df.append([globals()[f'list']])\n",
      "C:\\Users\\smhrd\\AppData\\Roaming\\Python\\Python39\\site-packages\\sklearn\\base.py:450: UserWarning: X does not have valid feature names, but KNeighborsClassifier was fitted with feature names\n",
      "  warnings.warn(\n",
      "C:\\Users\\smhrd\\AppData\\Local\\Temp\\ipykernel_6176\\3034425392.py:75: FutureWarning: The frame.append method is deprecated and will be removed from pandas in a future version. Use pandas.concat instead.\n",
      "  df = df.append([globals()[f'list']])\n",
      "C:\\Users\\smhrd\\AppData\\Roaming\\Python\\Python39\\site-packages\\sklearn\\base.py:450: UserWarning: X does not have valid feature names, but KNeighborsClassifier was fitted with feature names\n",
      "  warnings.warn(\n",
      "C:\\Users\\smhrd\\AppData\\Local\\Temp\\ipykernel_6176\\3034425392.py:75: FutureWarning: The frame.append method is deprecated and will be removed from pandas in a future version. Use pandas.concat instead.\n",
      "  df = df.append([globals()[f'list']])\n",
      "C:\\Users\\smhrd\\AppData\\Roaming\\Python\\Python39\\site-packages\\sklearn\\base.py:450: UserWarning: X does not have valid feature names, but KNeighborsClassifier was fitted with feature names\n",
      "  warnings.warn(\n"
     ]
    },
    {
     "name": "stdout",
     "output_type": "stream",
     "text": [
      "(133.88066342449721, 150.1202168700774, -14.5)\n",
      "[[0. 0. 1. 0.]]\n",
      "(134.98987553762768, 149.08396150567938, -14.5)\n",
      "[[0. 0. 1. 0.]]\n",
      "(135.2482091021316, 150.1200774068907, -16.0)\n",
      "[[0. 0. 1. 0.]]\n"
     ]
    },
    {
     "name": "stderr",
     "output_type": "stream",
     "text": [
      "C:\\Users\\smhrd\\AppData\\Local\\Temp\\ipykernel_6176\\3034425392.py:75: FutureWarning: The frame.append method is deprecated and will be removed from pandas in a future version. Use pandas.concat instead.\n",
      "  df = df.append([globals()[f'list']])\n",
      "C:\\Users\\smhrd\\AppData\\Roaming\\Python\\Python39\\site-packages\\sklearn\\base.py:450: UserWarning: X does not have valid feature names, but KNeighborsClassifier was fitted with feature names\n",
      "  warnings.warn(\n",
      "C:\\Users\\smhrd\\AppData\\Local\\Temp\\ipykernel_6176\\3034425392.py:75: FutureWarning: The frame.append method is deprecated and will be removed from pandas in a future version. Use pandas.concat instead.\n",
      "  df = df.append([globals()[f'list']])\n",
      "C:\\Users\\smhrd\\AppData\\Roaming\\Python\\Python39\\site-packages\\sklearn\\base.py:450: UserWarning: X does not have valid feature names, but KNeighborsClassifier was fitted with feature names\n",
      "  warnings.warn(\n",
      "C:\\Users\\smhrd\\AppData\\Local\\Temp\\ipykernel_6176\\3034425392.py:75: FutureWarning: The frame.append method is deprecated and will be removed from pandas in a future version. Use pandas.concat instead.\n",
      "  df = df.append([globals()[f'list']])\n",
      "C:\\Users\\smhrd\\AppData\\Roaming\\Python\\Python39\\site-packages\\sklearn\\base.py:450: UserWarning: X does not have valid feature names, but KNeighborsClassifier was fitted with feature names\n",
      "  warnings.warn(\n"
     ]
    },
    {
     "name": "stdout",
     "output_type": "stream",
     "text": [
      "(135.18035776790086, 150.2324120460192, -16.5)\n",
      "[[0. 0. 1. 0.]]\n",
      "(134.28992111792357, 150.33835958449103, -16.5)\n",
      "[[0. 0. 1. 0.]]\n",
      "(136.64183585794777, 149.9581980560344, -18.5)\n",
      "[[0. 0. 1. 0.]]\n"
     ]
    },
    {
     "name": "stderr",
     "output_type": "stream",
     "text": [
      "C:\\Users\\smhrd\\AppData\\Local\\Temp\\ipykernel_6176\\3034425392.py:75: FutureWarning: The frame.append method is deprecated and will be removed from pandas in a future version. Use pandas.concat instead.\n",
      "  df = df.append([globals()[f'list']])\n",
      "C:\\Users\\smhrd\\AppData\\Roaming\\Python\\Python39\\site-packages\\sklearn\\base.py:450: UserWarning: X does not have valid feature names, but KNeighborsClassifier was fitted with feature names\n",
      "  warnings.warn(\n",
      "C:\\Users\\smhrd\\AppData\\Local\\Temp\\ipykernel_6176\\3034425392.py:75: FutureWarning: The frame.append method is deprecated and will be removed from pandas in a future version. Use pandas.concat instead.\n",
      "  df = df.append([globals()[f'list']])\n",
      "C:\\Users\\smhrd\\AppData\\Roaming\\Python\\Python39\\site-packages\\sklearn\\base.py:450: UserWarning: X does not have valid feature names, but KNeighborsClassifier was fitted with feature names\n",
      "  warnings.warn(\n",
      "C:\\Users\\smhrd\\AppData\\Local\\Temp\\ipykernel_6176\\3034425392.py:75: FutureWarning: The frame.append method is deprecated and will be removed from pandas in a future version. Use pandas.concat instead.\n",
      "  df = df.append([globals()[f'list']])\n",
      "C:\\Users\\smhrd\\AppData\\Roaming\\Python\\Python39\\site-packages\\sklearn\\base.py:450: UserWarning: X does not have valid feature names, but KNeighborsClassifier was fitted with feature names\n",
      "  warnings.warn(\n",
      "C:\\Users\\smhrd\\AppData\\Local\\Temp\\ipykernel_6176\\3034425392.py:75: FutureWarning: The frame.append method is deprecated and will be removed from pandas in a future version. Use pandas.concat instead.\n",
      "  df = df.append([globals()[f'list']])\n",
      "C:\\Users\\smhrd\\AppData\\Roaming\\Python\\Python39\\site-packages\\sklearn\\base.py:450: UserWarning: X does not have valid feature names, but KNeighborsClassifier was fitted with feature names\n",
      "  warnings.warn(\n"
     ]
    },
    {
     "name": "stdout",
     "output_type": "stream",
     "text": [
      "(135.8347254029329, 150.23948689746717, -17.0)\n",
      "[[0. 0. 1. 0.]]\n",
      "(135.7296966940416, 149.75578611575153, -17.5)\n",
      "[[0. 0. 1. 0.]]\n",
      "(136.18633072132513, 149.1103763344243, -17.0)\n",
      "[[0. 0. 1. 0.]]\n",
      "(134.8539961850636, 147.5579887885814, -18.5)\n",
      "[[0. 0. 1. 0.]]\n"
     ]
    },
    {
     "name": "stderr",
     "output_type": "stream",
     "text": [
      "C:\\Users\\smhrd\\AppData\\Local\\Temp\\ipykernel_6176\\3034425392.py:75: FutureWarning: The frame.append method is deprecated and will be removed from pandas in a future version. Use pandas.concat instead.\n",
      "  df = df.append([globals()[f'list']])\n",
      "C:\\Users\\smhrd\\AppData\\Roaming\\Python\\Python39\\site-packages\\sklearn\\base.py:450: UserWarning: X does not have valid feature names, but KNeighborsClassifier was fitted with feature names\n",
      "  warnings.warn(\n",
      "C:\\Users\\smhrd\\AppData\\Local\\Temp\\ipykernel_6176\\3034425392.py:75: FutureWarning: The frame.append method is deprecated and will be removed from pandas in a future version. Use pandas.concat instead.\n",
      "  df = df.append([globals()[f'list']])\n",
      "C:\\Users\\smhrd\\AppData\\Roaming\\Python\\Python39\\site-packages\\sklearn\\base.py:450: UserWarning: X does not have valid feature names, but KNeighborsClassifier was fitted with feature names\n",
      "  warnings.warn(\n",
      "C:\\Users\\smhrd\\AppData\\Local\\Temp\\ipykernel_6176\\3034425392.py:75: FutureWarning: The frame.append method is deprecated and will be removed from pandas in a future version. Use pandas.concat instead.\n",
      "  df = df.append([globals()[f'list']])\n",
      "C:\\Users\\smhrd\\AppData\\Roaming\\Python\\Python39\\site-packages\\sklearn\\base.py:450: UserWarning: X does not have valid feature names, but KNeighborsClassifier was fitted with feature names\n",
      "  warnings.warn(\n",
      "C:\\Users\\smhrd\\AppData\\Local\\Temp\\ipykernel_6176\\3034425392.py:75: FutureWarning: The frame.append method is deprecated and will be removed from pandas in a future version. Use pandas.concat instead.\n",
      "  df = df.append([globals()[f'list']])\n",
      "C:\\Users\\smhrd\\AppData\\Roaming\\Python\\Python39\\site-packages\\sklearn\\base.py:450: UserWarning: X does not have valid feature names, but KNeighborsClassifier was fitted with feature names\n",
      "  warnings.warn(\n"
     ]
    },
    {
     "name": "stdout",
     "output_type": "stream",
     "text": [
      "(138.3625020799388, 149.23929143733767, -18.0)\n",
      "[[0. 0. 1. 0.]]\n",
      "(141.7805376119481, 149.56202954809407, -17.0)\n",
      "[[0. 0. 1. 0.]]\n",
      "(141.49494888797696, 148.84763465506214, -17.5)\n",
      "[[0. 0. 1. 0.]]\n",
      "(140.2041462494583, 149.3246791188454, -18.5)\n",
      "[[0. 0. 1. 0.]]\n"
     ]
    },
    {
     "name": "stderr",
     "output_type": "stream",
     "text": [
      "C:\\Users\\smhrd\\AppData\\Local\\Temp\\ipykernel_6176\\3034425392.py:75: FutureWarning: The frame.append method is deprecated and will be removed from pandas in a future version. Use pandas.concat instead.\n",
      "  df = df.append([globals()[f'list']])\n",
      "C:\\Users\\smhrd\\AppData\\Roaming\\Python\\Python39\\site-packages\\sklearn\\base.py:450: UserWarning: X does not have valid feature names, but KNeighborsClassifier was fitted with feature names\n",
      "  warnings.warn(\n",
      "C:\\Users\\smhrd\\AppData\\Local\\Temp\\ipykernel_6176\\3034425392.py:75: FutureWarning: The frame.append method is deprecated and will be removed from pandas in a future version. Use pandas.concat instead.\n",
      "  df = df.append([globals()[f'list']])\n",
      "C:\\Users\\smhrd\\AppData\\Roaming\\Python\\Python39\\site-packages\\sklearn\\base.py:450: UserWarning: X does not have valid feature names, but KNeighborsClassifier was fitted with feature names\n",
      "  warnings.warn(\n",
      "C:\\Users\\smhrd\\AppData\\Local\\Temp\\ipykernel_6176\\3034425392.py:75: FutureWarning: The frame.append method is deprecated and will be removed from pandas in a future version. Use pandas.concat instead.\n",
      "  df = df.append([globals()[f'list']])\n",
      "C:\\Users\\smhrd\\AppData\\Roaming\\Python\\Python39\\site-packages\\sklearn\\base.py:450: UserWarning: X does not have valid feature names, but KNeighborsClassifier was fitted with feature names\n",
      "  warnings.warn(\n",
      "C:\\Users\\smhrd\\AppData\\Local\\Temp\\ipykernel_6176\\3034425392.py:75: FutureWarning: The frame.append method is deprecated and will be removed from pandas in a future version. Use pandas.concat instead.\n",
      "  df = df.append([globals()[f'list']])\n",
      "C:\\Users\\smhrd\\AppData\\Roaming\\Python\\Python39\\site-packages\\sklearn\\base.py:450: UserWarning: X does not have valid feature names, but KNeighborsClassifier was fitted with feature names\n",
      "  warnings.warn(\n"
     ]
    },
    {
     "name": "stdout",
     "output_type": "stream",
     "text": [
      "(143.0101046891356, 151.13777517831116, -14.5)\n",
      "[[0. 0. 1. 0.]]\n",
      "(145.30459427886794, 149.04772500293885, -18.0)\n",
      "[[0. 0. 1. 0.]]\n",
      "(148.82185622092933, 148.13774362624025, -21.0)\n",
      "[[0. 0. 1. 0.]]\n",
      "(148.72270514034852, 147.37011608499373, -21.5)\n",
      "[[0. 0. 1. 0.]]\n"
     ]
    },
    {
     "name": "stderr",
     "output_type": "stream",
     "text": [
      "C:\\Users\\smhrd\\AppData\\Local\\Temp\\ipykernel_6176\\3034425392.py:75: FutureWarning: The frame.append method is deprecated and will be removed from pandas in a future version. Use pandas.concat instead.\n",
      "  df = df.append([globals()[f'list']])\n",
      "C:\\Users\\smhrd\\AppData\\Roaming\\Python\\Python39\\site-packages\\sklearn\\base.py:450: UserWarning: X does not have valid feature names, but KNeighborsClassifier was fitted with feature names\n",
      "  warnings.warn(\n",
      "C:\\Users\\smhrd\\AppData\\Local\\Temp\\ipykernel_6176\\3034425392.py:75: FutureWarning: The frame.append method is deprecated and will be removed from pandas in a future version. Use pandas.concat instead.\n",
      "  df = df.append([globals()[f'list']])\n",
      "C:\\Users\\smhrd\\AppData\\Roaming\\Python\\Python39\\site-packages\\sklearn\\base.py:450: UserWarning: X does not have valid feature names, but KNeighborsClassifier was fitted with feature names\n",
      "  warnings.warn(\n",
      "C:\\Users\\smhrd\\AppData\\Local\\Temp\\ipykernel_6176\\3034425392.py:75: FutureWarning: The frame.append method is deprecated and will be removed from pandas in a future version. Use pandas.concat instead.\n",
      "  df = df.append([globals()[f'list']])\n",
      "C:\\Users\\smhrd\\AppData\\Roaming\\Python\\Python39\\site-packages\\sklearn\\base.py:450: UserWarning: X does not have valid feature names, but KNeighborsClassifier was fitted with feature names\n",
      "  warnings.warn(\n",
      "C:\\Users\\smhrd\\AppData\\Local\\Temp\\ipykernel_6176\\3034425392.py:75: FutureWarning: The frame.append method is deprecated and will be removed from pandas in a future version. Use pandas.concat instead.\n",
      "  df = df.append([globals()[f'list']])\n",
      "C:\\Users\\smhrd\\AppData\\Roaming\\Python\\Python39\\site-packages\\sklearn\\base.py:450: UserWarning: X does not have valid feature names, but KNeighborsClassifier was fitted with feature names\n",
      "  warnings.warn(\n"
     ]
    },
    {
     "name": "stdout",
     "output_type": "stream",
     "text": [
      "(148.75346940564566, 147.34290389581713, -19.0)\n",
      "[[0. 0. 1. 0.]]\n",
      "(153.36347565567294, 148.29746720641842, -16.5)\n",
      "[[0. 0. 1. 0.]]\n",
      "(157.20535126203782, 151.2346636944704, -6.0)\n",
      "[[0. 0. 1. 0.]]\n",
      "(149.6322758081446, 147.42108217295402, -19.0)\n",
      "[[0. 0. 1. 0.]]\n"
     ]
    },
    {
     "name": "stderr",
     "output_type": "stream",
     "text": [
      "C:\\Users\\smhrd\\AppData\\Local\\Temp\\ipykernel_6176\\3034425392.py:75: FutureWarning: The frame.append method is deprecated and will be removed from pandas in a future version. Use pandas.concat instead.\n",
      "  df = df.append([globals()[f'list']])\n",
      "C:\\Users\\smhrd\\AppData\\Roaming\\Python\\Python39\\site-packages\\sklearn\\base.py:450: UserWarning: X does not have valid feature names, but KNeighborsClassifier was fitted with feature names\n",
      "  warnings.warn(\n",
      "C:\\Users\\smhrd\\AppData\\Local\\Temp\\ipykernel_6176\\3034425392.py:75: FutureWarning: The frame.append method is deprecated and will be removed from pandas in a future version. Use pandas.concat instead.\n",
      "  df = df.append([globals()[f'list']])\n",
      "C:\\Users\\smhrd\\AppData\\Roaming\\Python\\Python39\\site-packages\\sklearn\\base.py:450: UserWarning: X does not have valid feature names, but KNeighborsClassifier was fitted with feature names\n",
      "  warnings.warn(\n",
      "C:\\Users\\smhrd\\AppData\\Local\\Temp\\ipykernel_6176\\3034425392.py:75: FutureWarning: The frame.append method is deprecated and will be removed from pandas in a future version. Use pandas.concat instead.\n",
      "  df = df.append([globals()[f'list']])\n",
      "C:\\Users\\smhrd\\AppData\\Roaming\\Python\\Python39\\site-packages\\sklearn\\base.py:450: UserWarning: X does not have valid feature names, but KNeighborsClassifier was fitted with feature names\n",
      "  warnings.warn(\n"
     ]
    },
    {
     "name": "stdout",
     "output_type": "stream",
     "text": [
      "(152.14994834742197, 148.0089630900297, -15.0)\n",
      "[[0. 0. 1. 0.]]\n",
      "(162.52229428424798, 144.57784253814214, -24.5)\n",
      "[[0. 0. 1. 0.]]\n",
      "(170.0550148120622, 145.5815371294042, -29.0)\n",
      "[[0. 0. 1. 0.]]\n"
     ]
    },
    {
     "name": "stderr",
     "output_type": "stream",
     "text": [
      "C:\\Users\\smhrd\\AppData\\Local\\Temp\\ipykernel_6176\\3034425392.py:75: FutureWarning: The frame.append method is deprecated and will be removed from pandas in a future version. Use pandas.concat instead.\n",
      "  df = df.append([globals()[f'list']])\n",
      "C:\\Users\\smhrd\\AppData\\Roaming\\Python\\Python39\\site-packages\\sklearn\\base.py:450: UserWarning: X does not have valid feature names, but KNeighborsClassifier was fitted with feature names\n",
      "  warnings.warn(\n",
      "C:\\Users\\smhrd\\AppData\\Local\\Temp\\ipykernel_6176\\3034425392.py:75: FutureWarning: The frame.append method is deprecated and will be removed from pandas in a future version. Use pandas.concat instead.\n",
      "  df = df.append([globals()[f'list']])\n",
      "C:\\Users\\smhrd\\AppData\\Roaming\\Python\\Python39\\site-packages\\sklearn\\base.py:450: UserWarning: X does not have valid feature names, but KNeighborsClassifier was fitted with feature names\n",
      "  warnings.warn(\n",
      "C:\\Users\\smhrd\\AppData\\Local\\Temp\\ipykernel_6176\\3034425392.py:75: FutureWarning: The frame.append method is deprecated and will be removed from pandas in a future version. Use pandas.concat instead.\n",
      "  df = df.append([globals()[f'list']])\n",
      "C:\\Users\\smhrd\\AppData\\Roaming\\Python\\Python39\\site-packages\\sklearn\\base.py:450: UserWarning: X does not have valid feature names, but KNeighborsClassifier was fitted with feature names\n",
      "  warnings.warn(\n"
     ]
    },
    {
     "name": "stdout",
     "output_type": "stream",
     "text": [
      "(162.32540783301073, 145.48569440497823, -31.0)\n",
      "[[0. 0. 1. 0.]]\n",
      "(161.84392840779228, 141.3185230379353, -45.5)\n",
      "[[0. 0. 1. 0.]]\n",
      "(171.2244897531603, 140.99338100841248, -45.5)\n",
      "[[0. 0. 1. 0.]]\n"
     ]
    },
    {
     "name": "stderr",
     "output_type": "stream",
     "text": [
      "C:\\Users\\smhrd\\AppData\\Local\\Temp\\ipykernel_6176\\3034425392.py:75: FutureWarning: The frame.append method is deprecated and will be removed from pandas in a future version. Use pandas.concat instead.\n",
      "  df = df.append([globals()[f'list']])\n",
      "C:\\Users\\smhrd\\AppData\\Roaming\\Python\\Python39\\site-packages\\sklearn\\base.py:450: UserWarning: X does not have valid feature names, but KNeighborsClassifier was fitted with feature names\n",
      "  warnings.warn(\n",
      "C:\\Users\\smhrd\\AppData\\Local\\Temp\\ipykernel_6176\\3034425392.py:75: FutureWarning: The frame.append method is deprecated and will be removed from pandas in a future version. Use pandas.concat instead.\n",
      "  df = df.append([globals()[f'list']])\n",
      "C:\\Users\\smhrd\\AppData\\Roaming\\Python\\Python39\\site-packages\\sklearn\\base.py:450: UserWarning: X does not have valid feature names, but KNeighborsClassifier was fitted with feature names\n",
      "  warnings.warn(\n",
      "C:\\Users\\smhrd\\AppData\\Local\\Temp\\ipykernel_6176\\3034425392.py:75: FutureWarning: The frame.append method is deprecated and will be removed from pandas in a future version. Use pandas.concat instead.\n",
      "  df = df.append([globals()[f'list']])\n",
      "C:\\Users\\smhrd\\AppData\\Roaming\\Python\\Python39\\site-packages\\sklearn\\base.py:450: UserWarning: X does not have valid feature names, but KNeighborsClassifier was fitted with feature names\n",
      "  warnings.warn(\n"
     ]
    },
    {
     "name": "stdout",
     "output_type": "stream",
     "text": [
      "(163.2292190075728, 138.67735575370534, -56.0)\n",
      "[[0. 0. 1. 0.]]\n",
      "(168.1555247978995, 134.19640259497268, -70.0)\n",
      "[[0. 0. 1. 0.]]\n",
      "(168.978694751495, 133.6562856956571, -78.0)\n",
      "[[0.         0.         0.33333333 0.66666667]]\n"
     ]
    },
    {
     "name": "stderr",
     "output_type": "stream",
     "text": [
      "C:\\Users\\smhrd\\AppData\\Local\\Temp\\ipykernel_6176\\3034425392.py:75: FutureWarning: The frame.append method is deprecated and will be removed from pandas in a future version. Use pandas.concat instead.\n",
      "  df = df.append([globals()[f'list']])\n",
      "C:\\Users\\smhrd\\AppData\\Roaming\\Python\\Python39\\site-packages\\sklearn\\base.py:450: UserWarning: X does not have valid feature names, but KNeighborsClassifier was fitted with feature names\n",
      "  warnings.warn(\n",
      "C:\\Users\\smhrd\\AppData\\Local\\Temp\\ipykernel_6176\\3034425392.py:75: FutureWarning: The frame.append method is deprecated and will be removed from pandas in a future version. Use pandas.concat instead.\n",
      "  df = df.append([globals()[f'list']])\n",
      "C:\\Users\\smhrd\\AppData\\Roaming\\Python\\Python39\\site-packages\\sklearn\\base.py:450: UserWarning: X does not have valid feature names, but KNeighborsClassifier was fitted with feature names\n",
      "  warnings.warn(\n",
      "C:\\Users\\smhrd\\AppData\\Local\\Temp\\ipykernel_6176\\3034425392.py:75: FutureWarning: The frame.append method is deprecated and will be removed from pandas in a future version. Use pandas.concat instead.\n",
      "  df = df.append([globals()[f'list']])\n",
      "C:\\Users\\smhrd\\AppData\\Roaming\\Python\\Python39\\site-packages\\sklearn\\base.py:450: UserWarning: X does not have valid feature names, but KNeighborsClassifier was fitted with feature names\n",
      "  warnings.warn(\n"
     ]
    },
    {
     "name": "stdout",
     "output_type": "stream",
     "text": [
      "(168.18070127912313, 134.51692146187816, -78.5)\n",
      "[[0.         0.         0.33333333 0.66666667]]\n",
      "(169.45273954584567, 135.14425426875565, -78.5)\n",
      "[[0.         0.         0.33333333 0.66666667]]\n",
      "(164.787186771392, 135.54658032265425, -77.0)\n",
      "[[0. 0. 1. 0.]]\n"
     ]
    },
    {
     "name": "stderr",
     "output_type": "stream",
     "text": [
      "C:\\Users\\smhrd\\AppData\\Local\\Temp\\ipykernel_6176\\3034425392.py:75: FutureWarning: The frame.append method is deprecated and will be removed from pandas in a future version. Use pandas.concat instead.\n",
      "  df = df.append([globals()[f'list']])\n",
      "C:\\Users\\smhrd\\AppData\\Roaming\\Python\\Python39\\site-packages\\sklearn\\base.py:450: UserWarning: X does not have valid feature names, but KNeighborsClassifier was fitted with feature names\n",
      "  warnings.warn(\n",
      "C:\\Users\\smhrd\\AppData\\Local\\Temp\\ipykernel_6176\\3034425392.py:75: FutureWarning: The frame.append method is deprecated and will be removed from pandas in a future version. Use pandas.concat instead.\n",
      "  df = df.append([globals()[f'list']])\n",
      "C:\\Users\\smhrd\\AppData\\Roaming\\Python\\Python39\\site-packages\\sklearn\\base.py:450: UserWarning: X does not have valid feature names, but KNeighborsClassifier was fitted with feature names\n",
      "  warnings.warn(\n",
      "C:\\Users\\smhrd\\AppData\\Local\\Temp\\ipykernel_6176\\3034425392.py:75: FutureWarning: The frame.append method is deprecated and will be removed from pandas in a future version. Use pandas.concat instead.\n",
      "  df = df.append([globals()[f'list']])\n",
      "C:\\Users\\smhrd\\AppData\\Roaming\\Python\\Python39\\site-packages\\sklearn\\base.py:450: UserWarning: X does not have valid feature names, but KNeighborsClassifier was fitted with feature names\n",
      "  warnings.warn(\n"
     ]
    },
    {
     "name": "stdout",
     "output_type": "stream",
     "text": [
      "(167.6478877244888, 136.26911208841224, -73.0)\n",
      "[[0. 0. 1. 0.]]\n",
      "(163.03898203539973, 136.70479190260005, -76.5)\n",
      "[[0. 0. 1. 0.]]\n",
      "(165.01176715352665, 135.0, -76.5)\n",
      "[[0. 0. 1. 0.]]\n"
     ]
    },
    {
     "name": "stderr",
     "output_type": "stream",
     "text": [
      "C:\\Users\\smhrd\\AppData\\Local\\Temp\\ipykernel_6176\\3034425392.py:75: FutureWarning: The frame.append method is deprecated and will be removed from pandas in a future version. Use pandas.concat instead.\n",
      "  df = df.append([globals()[f'list']])\n",
      "C:\\Users\\smhrd\\AppData\\Roaming\\Python\\Python39\\site-packages\\sklearn\\base.py:450: UserWarning: X does not have valid feature names, but KNeighborsClassifier was fitted with feature names\n",
      "  warnings.warn(\n",
      "C:\\Users\\smhrd\\AppData\\Local\\Temp\\ipykernel_6176\\3034425392.py:75: FutureWarning: The frame.append method is deprecated and will be removed from pandas in a future version. Use pandas.concat instead.\n",
      "  df = df.append([globals()[f'list']])\n",
      "C:\\Users\\smhrd\\AppData\\Roaming\\Python\\Python39\\site-packages\\sklearn\\base.py:450: UserWarning: X does not have valid feature names, but KNeighborsClassifier was fitted with feature names\n",
      "  warnings.warn(\n",
      "C:\\Users\\smhrd\\AppData\\Local\\Temp\\ipykernel_6176\\3034425392.py:75: FutureWarning: The frame.append method is deprecated and will be removed from pandas in a future version. Use pandas.concat instead.\n",
      "  df = df.append([globals()[f'list']])\n",
      "C:\\Users\\smhrd\\AppData\\Roaming\\Python\\Python39\\site-packages\\sklearn\\base.py:450: UserWarning: X does not have valid feature names, but KNeighborsClassifier was fitted with feature names\n",
      "  warnings.warn(\n"
     ]
    },
    {
     "name": "stdout",
     "output_type": "stream",
     "text": [
      "(170.32264858158555, 136.8917057931626, -74.5)\n",
      "[[0. 0. 1. 0.]]\n",
      "(169.0718301300176, 135.91552764527654, -73.5)\n",
      "[[0. 0. 1. 0.]]\n",
      "(162.74266290096108, 137.76146515243167, -65.5)\n",
      "[[0. 0. 1. 0.]]\n"
     ]
    },
    {
     "name": "stderr",
     "output_type": "stream",
     "text": [
      "C:\\Users\\smhrd\\AppData\\Local\\Temp\\ipykernel_6176\\3034425392.py:75: FutureWarning: The frame.append method is deprecated and will be removed from pandas in a future version. Use pandas.concat instead.\n",
      "  df = df.append([globals()[f'list']])\n",
      "C:\\Users\\smhrd\\AppData\\Roaming\\Python\\Python39\\site-packages\\sklearn\\base.py:450: UserWarning: X does not have valid feature names, but KNeighborsClassifier was fitted with feature names\n",
      "  warnings.warn(\n",
      "C:\\Users\\smhrd\\AppData\\Local\\Temp\\ipykernel_6176\\3034425392.py:75: FutureWarning: The frame.append method is deprecated and will be removed from pandas in a future version. Use pandas.concat instead.\n",
      "  df = df.append([globals()[f'list']])\n",
      "C:\\Users\\smhrd\\AppData\\Roaming\\Python\\Python39\\site-packages\\sklearn\\base.py:450: UserWarning: X does not have valid feature names, but KNeighborsClassifier was fitted with feature names\n",
      "  warnings.warn(\n",
      "C:\\Users\\smhrd\\AppData\\Local\\Temp\\ipykernel_6176\\3034425392.py:75: FutureWarning: The frame.append method is deprecated and will be removed from pandas in a future version. Use pandas.concat instead.\n",
      "  df = df.append([globals()[f'list']])\n",
      "C:\\Users\\smhrd\\AppData\\Roaming\\Python\\Python39\\site-packages\\sklearn\\base.py:450: UserWarning: X does not have valid feature names, but KNeighborsClassifier was fitted with feature names\n",
      "  warnings.warn(\n"
     ]
    },
    {
     "name": "stdout",
     "output_type": "stream",
     "text": [
      "(161.60476565398451, 138.63511836390376, -65.0)\n",
      "[[0. 0. 1. 0.]]\n",
      "(159.95521012727804, 137.93040315824447, -59.0)\n",
      "[[0. 0. 1. 0.]]\n",
      "(161.05916924435175, 139.55254442129237, -58.5)\n",
      "[[0. 0. 1. 0.]]\n"
     ]
    },
    {
     "name": "stderr",
     "output_type": "stream",
     "text": [
      "C:\\Users\\smhrd\\AppData\\Local\\Temp\\ipykernel_6176\\3034425392.py:75: FutureWarning: The frame.append method is deprecated and will be removed from pandas in a future version. Use pandas.concat instead.\n",
      "  df = df.append([globals()[f'list']])\n",
      "C:\\Users\\smhrd\\AppData\\Roaming\\Python\\Python39\\site-packages\\sklearn\\base.py:450: UserWarning: X does not have valid feature names, but KNeighborsClassifier was fitted with feature names\n",
      "  warnings.warn(\n",
      "C:\\Users\\smhrd\\AppData\\Local\\Temp\\ipykernel_6176\\3034425392.py:75: FutureWarning: The frame.append method is deprecated and will be removed from pandas in a future version. Use pandas.concat instead.\n",
      "  df = df.append([globals()[f'list']])\n",
      "C:\\Users\\smhrd\\AppData\\Roaming\\Python\\Python39\\site-packages\\sklearn\\base.py:450: UserWarning: X does not have valid feature names, but KNeighborsClassifier was fitted with feature names\n",
      "  warnings.warn(\n",
      "C:\\Users\\smhrd\\AppData\\Local\\Temp\\ipykernel_6176\\3034425392.py:75: FutureWarning: The frame.append method is deprecated and will be removed from pandas in a future version. Use pandas.concat instead.\n",
      "  df = df.append([globals()[f'list']])\n",
      "C:\\Users\\smhrd\\AppData\\Roaming\\Python\\Python39\\site-packages\\sklearn\\base.py:450: UserWarning: X does not have valid feature names, but KNeighborsClassifier was fitted with feature names\n",
      "  warnings.warn(\n"
     ]
    },
    {
     "name": "stdout",
     "output_type": "stream",
     "text": [
      "(166.17554688116127, 142.55217410883364, -49.5)\n",
      "[[0. 0. 1. 0.]]\n",
      "(163.91760190584938, 141.18071879976895, -46.0)\n",
      "[[0. 0. 1. 0.]]\n",
      "(164.12329057185525, 145.0117759837397, -40.5)\n",
      "[[0. 0. 1. 0.]]\n"
     ]
    },
    {
     "name": "stderr",
     "output_type": "stream",
     "text": [
      "C:\\Users\\smhrd\\AppData\\Local\\Temp\\ipykernel_6176\\3034425392.py:75: FutureWarning: The frame.append method is deprecated and will be removed from pandas in a future version. Use pandas.concat instead.\n",
      "  df = df.append([globals()[f'list']])\n",
      "C:\\Users\\smhrd\\AppData\\Roaming\\Python\\Python39\\site-packages\\sklearn\\base.py:450: UserWarning: X does not have valid feature names, but KNeighborsClassifier was fitted with feature names\n",
      "  warnings.warn(\n",
      "C:\\Users\\smhrd\\AppData\\Local\\Temp\\ipykernel_6176\\3034425392.py:75: FutureWarning: The frame.append method is deprecated and will be removed from pandas in a future version. Use pandas.concat instead.\n",
      "  df = df.append([globals()[f'list']])\n",
      "C:\\Users\\smhrd\\AppData\\Roaming\\Python\\Python39\\site-packages\\sklearn\\base.py:450: UserWarning: X does not have valid feature names, but KNeighborsClassifier was fitted with feature names\n",
      "  warnings.warn(\n",
      "C:\\Users\\smhrd\\AppData\\Local\\Temp\\ipykernel_6176\\3034425392.py:75: FutureWarning: The frame.append method is deprecated and will be removed from pandas in a future version. Use pandas.concat instead.\n",
      "  df = df.append([globals()[f'list']])\n",
      "C:\\Users\\smhrd\\AppData\\Roaming\\Python\\Python39\\site-packages\\sklearn\\base.py:450: UserWarning: X does not have valid feature names, but KNeighborsClassifier was fitted with feature names\n",
      "  warnings.warn(\n",
      "C:\\Users\\smhrd\\AppData\\Local\\Temp\\ipykernel_6176\\3034425392.py:75: FutureWarning: The frame.append method is deprecated and will be removed from pandas in a future version. Use pandas.concat instead.\n",
      "  df = df.append([globals()[f'list']])\n"
     ]
    },
    {
     "name": "stdout",
     "output_type": "stream",
     "text": [
      "(164.5494782200787, 146.1787721438914, -31.5)\n",
      "[[0. 0. 1. 0.]]\n",
      "(159.38446035606256, 148.54517592745228, -22.0)\n",
      "[[0. 0. 1. 0.]]\n",
      "(170.8305610147783, 145.93969115687187, -26.5)\n",
      "[[0. 0. 1. 0.]]\n",
      "(168.125798726485, 146.62357581214079, -22.0)\n"
     ]
    },
    {
     "name": "stderr",
     "output_type": "stream",
     "text": [
      "C:\\Users\\smhrd\\AppData\\Roaming\\Python\\Python39\\site-packages\\sklearn\\base.py:450: UserWarning: X does not have valid feature names, but KNeighborsClassifier was fitted with feature names\n",
      "  warnings.warn(\n",
      "C:\\Users\\smhrd\\AppData\\Local\\Temp\\ipykernel_6176\\3034425392.py:75: FutureWarning: The frame.append method is deprecated and will be removed from pandas in a future version. Use pandas.concat instead.\n",
      "  df = df.append([globals()[f'list']])\n",
      "C:\\Users\\smhrd\\AppData\\Roaming\\Python\\Python39\\site-packages\\sklearn\\base.py:450: UserWarning: X does not have valid feature names, but KNeighborsClassifier was fitted with feature names\n",
      "  warnings.warn(\n",
      "C:\\Users\\smhrd\\AppData\\Local\\Temp\\ipykernel_6176\\3034425392.py:75: FutureWarning: The frame.append method is deprecated and will be removed from pandas in a future version. Use pandas.concat instead.\n",
      "  df = df.append([globals()[f'list']])\n",
      "C:\\Users\\smhrd\\AppData\\Roaming\\Python\\Python39\\site-packages\\sklearn\\base.py:450: UserWarning: X does not have valid feature names, but KNeighborsClassifier was fitted with feature names\n",
      "  warnings.warn(\n"
     ]
    },
    {
     "name": "stdout",
     "output_type": "stream",
     "text": [
      "[[0. 0. 1. 0.]]\n",
      "(158.63710501855647, 145.94219619712032, -22.5)\n",
      "[[0. 0. 1. 0.]]\n",
      "(159.54459738503218, 149.23644028439176, -17.5)\n",
      "[[0. 0. 1. 0.]]\n"
     ]
    },
    {
     "name": "stderr",
     "output_type": "stream",
     "text": [
      "C:\\Users\\smhrd\\AppData\\Local\\Temp\\ipykernel_6176\\3034425392.py:75: FutureWarning: The frame.append method is deprecated and will be removed from pandas in a future version. Use pandas.concat instead.\n",
      "  df = df.append([globals()[f'list']])\n",
      "C:\\Users\\smhrd\\AppData\\Roaming\\Python\\Python39\\site-packages\\sklearn\\base.py:450: UserWarning: X does not have valid feature names, but KNeighborsClassifier was fitted with feature names\n",
      "  warnings.warn(\n",
      "C:\\Users\\smhrd\\AppData\\Local\\Temp\\ipykernel_6176\\3034425392.py:75: FutureWarning: The frame.append method is deprecated and will be removed from pandas in a future version. Use pandas.concat instead.\n",
      "  df = df.append([globals()[f'list']])\n",
      "C:\\Users\\smhrd\\AppData\\Roaming\\Python\\Python39\\site-packages\\sklearn\\base.py:450: UserWarning: X does not have valid feature names, but KNeighborsClassifier was fitted with feature names\n",
      "  warnings.warn(\n",
      "C:\\Users\\smhrd\\AppData\\Local\\Temp\\ipykernel_6176\\3034425392.py:75: FutureWarning: The frame.append method is deprecated and will be removed from pandas in a future version. Use pandas.concat instead.\n",
      "  df = df.append([globals()[f'list']])\n",
      "C:\\Users\\smhrd\\AppData\\Roaming\\Python\\Python39\\site-packages\\sklearn\\base.py:450: UserWarning: X does not have valid feature names, but KNeighborsClassifier was fitted with feature names\n",
      "  warnings.warn(\n"
     ]
    },
    {
     "name": "stdout",
     "output_type": "stream",
     "text": [
      "(164.9842818787025, 150.8760589183832, -7.0)\n",
      "[[0. 0. 1. 0.]]\n",
      "(161.25627920895906, 151.2454018307678, -9.0)\n",
      "[[0. 0. 1. 0.]]\n",
      "(157.4259228255206, 148.44958040251058, -16.0)\n",
      "[[0. 0. 1. 0.]]\n"
     ]
    },
    {
     "name": "stderr",
     "output_type": "stream",
     "text": [
      "C:\\Users\\smhrd\\AppData\\Local\\Temp\\ipykernel_6176\\3034425392.py:75: FutureWarning: The frame.append method is deprecated and will be removed from pandas in a future version. Use pandas.concat instead.\n",
      "  df = df.append([globals()[f'list']])\n",
      "C:\\Users\\smhrd\\AppData\\Roaming\\Python\\Python39\\site-packages\\sklearn\\base.py:450: UserWarning: X does not have valid feature names, but KNeighborsClassifier was fitted with feature names\n",
      "  warnings.warn(\n",
      "C:\\Users\\smhrd\\AppData\\Local\\Temp\\ipykernel_6176\\3034425392.py:75: FutureWarning: The frame.append method is deprecated and will be removed from pandas in a future version. Use pandas.concat instead.\n",
      "  df = df.append([globals()[f'list']])\n",
      "C:\\Users\\smhrd\\AppData\\Roaming\\Python\\Python39\\site-packages\\sklearn\\base.py:450: UserWarning: X does not have valid feature names, but KNeighborsClassifier was fitted with feature names\n",
      "  warnings.warn(\n",
      "C:\\Users\\smhrd\\AppData\\Local\\Temp\\ipykernel_6176\\3034425392.py:75: FutureWarning: The frame.append method is deprecated and will be removed from pandas in a future version. Use pandas.concat instead.\n",
      "  df = df.append([globals()[f'list']])\n",
      "C:\\Users\\smhrd\\AppData\\Roaming\\Python\\Python39\\site-packages\\sklearn\\base.py:450: UserWarning: X does not have valid feature names, but KNeighborsClassifier was fitted with feature names\n",
      "  warnings.warn(\n"
     ]
    },
    {
     "name": "stdout",
     "output_type": "stream",
     "text": [
      "(157.01732621622145, 148.66063136221445, -20.5)\n",
      "[[0. 0. 1. 0.]]\n",
      "(152.73493887735188, 148.62965738286167, -21.0)\n",
      "[[0. 0. 1. 0.]]\n",
      "(149.48697933452974, 147.6627989836722, -20.0)\n",
      "[[0. 0. 1. 0.]]\n"
     ]
    },
    {
     "name": "stderr",
     "output_type": "stream",
     "text": [
      "C:\\Users\\smhrd\\AppData\\Local\\Temp\\ipykernel_6176\\3034425392.py:75: FutureWarning: The frame.append method is deprecated and will be removed from pandas in a future version. Use pandas.concat instead.\n",
      "  df = df.append([globals()[f'list']])\n",
      "C:\\Users\\smhrd\\AppData\\Roaming\\Python\\Python39\\site-packages\\sklearn\\base.py:450: UserWarning: X does not have valid feature names, but KNeighborsClassifier was fitted with feature names\n",
      "  warnings.warn(\n",
      "C:\\Users\\smhrd\\AppData\\Local\\Temp\\ipykernel_6176\\3034425392.py:75: FutureWarning: The frame.append method is deprecated and will be removed from pandas in a future version. Use pandas.concat instead.\n",
      "  df = df.append([globals()[f'list']])\n",
      "C:\\Users\\smhrd\\AppData\\Roaming\\Python\\Python39\\site-packages\\sklearn\\base.py:450: UserWarning: X does not have valid feature names, but KNeighborsClassifier was fitted with feature names\n",
      "  warnings.warn(\n",
      "C:\\Users\\smhrd\\AppData\\Local\\Temp\\ipykernel_6176\\3034425392.py:75: FutureWarning: The frame.append method is deprecated and will be removed from pandas in a future version. Use pandas.concat instead.\n",
      "  df = df.append([globals()[f'list']])\n",
      "C:\\Users\\smhrd\\AppData\\Roaming\\Python\\Python39\\site-packages\\sklearn\\base.py:450: UserWarning: X does not have valid feature names, but KNeighborsClassifier was fitted with feature names\n",
      "  warnings.warn(\n",
      "C:\\Users\\smhrd\\AppData\\Local\\Temp\\ipykernel_6176\\3034425392.py:75: FutureWarning: The frame.append method is deprecated and will be removed from pandas in a future version. Use pandas.concat instead.\n",
      "  df = df.append([globals()[f'list']])\n",
      "C:\\Users\\smhrd\\AppData\\Roaming\\Python\\Python39\\site-packages\\sklearn\\base.py:450: UserWarning: X does not have valid feature names, but KNeighborsClassifier was fitted with feature names\n",
      "  warnings.warn(\n"
     ]
    },
    {
     "name": "stdout",
     "output_type": "stream",
     "text": [
      "(148.19585981369005, 150.21756568558556, -20.0)\n",
      "[[0. 0. 1. 0.]]\n",
      "(147.48817535617508, 148.31517734899072, -21.5)\n",
      "[[0. 0. 1. 0.]]\n",
      "(144.26100136674756, 149.62724744748408, -14.0)\n",
      "[[0. 0. 1. 0.]]\n",
      "(142.03470378040558, 149.8221136923554, -16.5)\n",
      "[[0. 0. 1. 0.]]\n"
     ]
    },
    {
     "name": "stderr",
     "output_type": "stream",
     "text": [
      "C:\\Users\\smhrd\\AppData\\Local\\Temp\\ipykernel_6176\\3034425392.py:75: FutureWarning: The frame.append method is deprecated and will be removed from pandas in a future version. Use pandas.concat instead.\n",
      "  df = df.append([globals()[f'list']])\n",
      "C:\\Users\\smhrd\\AppData\\Roaming\\Python\\Python39\\site-packages\\sklearn\\base.py:450: UserWarning: X does not have valid feature names, but KNeighborsClassifier was fitted with feature names\n",
      "  warnings.warn(\n",
      "C:\\Users\\smhrd\\AppData\\Local\\Temp\\ipykernel_6176\\3034425392.py:75: FutureWarning: The frame.append method is deprecated and will be removed from pandas in a future version. Use pandas.concat instead.\n",
      "  df = df.append([globals()[f'list']])\n",
      "C:\\Users\\smhrd\\AppData\\Roaming\\Python\\Python39\\site-packages\\sklearn\\base.py:450: UserWarning: X does not have valid feature names, but KNeighborsClassifier was fitted with feature names\n",
      "  warnings.warn(\n",
      "C:\\Users\\smhrd\\AppData\\Local\\Temp\\ipykernel_6176\\3034425392.py:75: FutureWarning: The frame.append method is deprecated and will be removed from pandas in a future version. Use pandas.concat instead.\n",
      "  df = df.append([globals()[f'list']])\n",
      "C:\\Users\\smhrd\\AppData\\Roaming\\Python\\Python39\\site-packages\\sklearn\\base.py:450: UserWarning: X does not have valid feature names, but KNeighborsClassifier was fitted with feature names\n",
      "  warnings.warn(\n"
     ]
    },
    {
     "name": "stdout",
     "output_type": "stream",
     "text": [
      "(140.2592675592492, 151.06431378849518, -12.0)\n",
      "[[0. 0. 1. 0.]]\n",
      "(143.91152566672847, 150.35588891360058, -18.0)\n",
      "[[0. 0. 1. 0.]]\n",
      "(143.26451348835414, 150.3264946592858, -15.0)\n",
      "[[0. 0. 1. 0.]]\n"
     ]
    },
    {
     "name": "stderr",
     "output_type": "stream",
     "text": [
      "C:\\Users\\smhrd\\AppData\\Local\\Temp\\ipykernel_6176\\3034425392.py:75: FutureWarning: The frame.append method is deprecated and will be removed from pandas in a future version. Use pandas.concat instead.\n",
      "  df = df.append([globals()[f'list']])\n",
      "C:\\Users\\smhrd\\AppData\\Roaming\\Python\\Python39\\site-packages\\sklearn\\base.py:450: UserWarning: X does not have valid feature names, but KNeighborsClassifier was fitted with feature names\n",
      "  warnings.warn(\n",
      "C:\\Users\\smhrd\\AppData\\Local\\Temp\\ipykernel_6176\\3034425392.py:75: FutureWarning: The frame.append method is deprecated and will be removed from pandas in a future version. Use pandas.concat instead.\n",
      "  df = df.append([globals()[f'list']])\n",
      "C:\\Users\\smhrd\\AppData\\Roaming\\Python\\Python39\\site-packages\\sklearn\\base.py:450: UserWarning: X does not have valid feature names, but KNeighborsClassifier was fitted with feature names\n",
      "  warnings.warn(\n",
      "C:\\Users\\smhrd\\AppData\\Local\\Temp\\ipykernel_6176\\3034425392.py:75: FutureWarning: The frame.append method is deprecated and will be removed from pandas in a future version. Use pandas.concat instead.\n",
      "  df = df.append([globals()[f'list']])\n",
      "C:\\Users\\smhrd\\AppData\\Roaming\\Python\\Python39\\site-packages\\sklearn\\base.py:450: UserWarning: X does not have valid feature names, but KNeighborsClassifier was fitted with feature names\n",
      "  warnings.warn(\n",
      "C:\\Users\\smhrd\\AppData\\Local\\Temp\\ipykernel_6176\\3034425392.py:75: FutureWarning: The frame.append method is deprecated and will be removed from pandas in a future version. Use pandas.concat instead.\n",
      "  df = df.append([globals()[f'list']])\n",
      "C:\\Users\\smhrd\\AppData\\Roaming\\Python\\Python39\\site-packages\\sklearn\\base.py:450: UserWarning: X does not have valid feature names, but KNeighborsClassifier was fitted with feature names\n",
      "  warnings.warn(\n"
     ]
    },
    {
     "name": "stdout",
     "output_type": "stream",
     "text": [
      "(140.4588357988873, 148.2837910459257, -18.0)\n",
      "[[0. 0. 1. 0.]]\n",
      "(138.5827361078218, 149.26587782449803, -15.5)\n",
      "[[0. 0. 1. 0.]]\n",
      "(137.02980472078673, 150.62399285438138, -15.0)\n",
      "[[0. 0. 1. 0.]]\n",
      "(136.37236931534966, 149.78842379404472, -17.0)\n",
      "[[0. 0. 1. 0.]]\n"
     ]
    },
    {
     "name": "stderr",
     "output_type": "stream",
     "text": [
      "C:\\Users\\smhrd\\AppData\\Local\\Temp\\ipykernel_6176\\3034425392.py:75: FutureWarning: The frame.append method is deprecated and will be removed from pandas in a future version. Use pandas.concat instead.\n",
      "  df = df.append([globals()[f'list']])\n",
      "C:\\Users\\smhrd\\AppData\\Roaming\\Python\\Python39\\site-packages\\sklearn\\base.py:450: UserWarning: X does not have valid feature names, but KNeighborsClassifier was fitted with feature names\n",
      "  warnings.warn(\n",
      "C:\\Users\\smhrd\\AppData\\Local\\Temp\\ipykernel_6176\\3034425392.py:75: FutureWarning: The frame.append method is deprecated and will be removed from pandas in a future version. Use pandas.concat instead.\n",
      "  df = df.append([globals()[f'list']])\n",
      "C:\\Users\\smhrd\\AppData\\Roaming\\Python\\Python39\\site-packages\\sklearn\\base.py:450: UserWarning: X does not have valid feature names, but KNeighborsClassifier was fitted with feature names\n",
      "  warnings.warn(\n",
      "C:\\Users\\smhrd\\AppData\\Local\\Temp\\ipykernel_6176\\3034425392.py:75: FutureWarning: The frame.append method is deprecated and will be removed from pandas in a future version. Use pandas.concat instead.\n",
      "  df = df.append([globals()[f'list']])\n",
      "C:\\Users\\smhrd\\AppData\\Roaming\\Python\\Python39\\site-packages\\sklearn\\base.py:450: UserWarning: X does not have valid feature names, but KNeighborsClassifier was fitted with feature names\n",
      "  warnings.warn(\n"
     ]
    },
    {
     "name": "stdout",
     "output_type": "stream",
     "text": [
      "(136.83215547773898, 148.25109784780395, -16.5)\n",
      "[[0. 0. 1. 0.]]\n",
      "(136.94545609832065, 148.58349285667927, -17.0)\n",
      "[[0. 0. 1. 0.]]\n",
      "(137.42951551976978, 147.65796431361537, -16.5)\n",
      "[[0. 0. 1. 0.]]\n"
     ]
    },
    {
     "name": "stderr",
     "output_type": "stream",
     "text": [
      "C:\\Users\\smhrd\\AppData\\Local\\Temp\\ipykernel_6176\\3034425392.py:75: FutureWarning: The frame.append method is deprecated and will be removed from pandas in a future version. Use pandas.concat instead.\n",
      "  df = df.append([globals()[f'list']])\n",
      "C:\\Users\\smhrd\\AppData\\Roaming\\Python\\Python39\\site-packages\\sklearn\\base.py:450: UserWarning: X does not have valid feature names, but KNeighborsClassifier was fitted with feature names\n",
      "  warnings.warn(\n",
      "C:\\Users\\smhrd\\AppData\\Local\\Temp\\ipykernel_6176\\3034425392.py:75: FutureWarning: The frame.append method is deprecated and will be removed from pandas in a future version. Use pandas.concat instead.\n",
      "  df = df.append([globals()[f'list']])\n",
      "C:\\Users\\smhrd\\AppData\\Roaming\\Python\\Python39\\site-packages\\sklearn\\base.py:450: UserWarning: X does not have valid feature names, but KNeighborsClassifier was fitted with feature names\n",
      "  warnings.warn(\n",
      "C:\\Users\\smhrd\\AppData\\Local\\Temp\\ipykernel_6176\\3034425392.py:75: FutureWarning: The frame.append method is deprecated and will be removed from pandas in a future version. Use pandas.concat instead.\n",
      "  df = df.append([globals()[f'list']])\n",
      "C:\\Users\\smhrd\\AppData\\Roaming\\Python\\Python39\\site-packages\\sklearn\\base.py:450: UserWarning: X does not have valid feature names, but KNeighborsClassifier was fitted with feature names\n",
      "  warnings.warn(\n"
     ]
    },
    {
     "name": "stdout",
     "output_type": "stream",
     "text": [
      "(138.04732250712865, 147.68523526304799, -18.0)\n",
      "[[0. 0. 1. 0.]]\n",
      "(137.18811025861962, 147.96581233843114, -16.5)\n",
      "[[0. 0. 1. 0.]]\n",
      "(137.34461303163027, 148.5000917904632, -16.0)\n",
      "[[0. 0. 1. 0.]]\n"
     ]
    },
    {
     "name": "stderr",
     "output_type": "stream",
     "text": [
      "C:\\Users\\smhrd\\AppData\\Local\\Temp\\ipykernel_6176\\3034425392.py:75: FutureWarning: The frame.append method is deprecated and will be removed from pandas in a future version. Use pandas.concat instead.\n",
      "  df = df.append([globals()[f'list']])\n",
      "C:\\Users\\smhrd\\AppData\\Roaming\\Python\\Python39\\site-packages\\sklearn\\base.py:450: UserWarning: X does not have valid feature names, but KNeighborsClassifier was fitted with feature names\n",
      "  warnings.warn(\n",
      "C:\\Users\\smhrd\\AppData\\Local\\Temp\\ipykernel_6176\\3034425392.py:75: FutureWarning: The frame.append method is deprecated and will be removed from pandas in a future version. Use pandas.concat instead.\n",
      "  df = df.append([globals()[f'list']])\n",
      "C:\\Users\\smhrd\\AppData\\Roaming\\Python\\Python39\\site-packages\\sklearn\\base.py:450: UserWarning: X does not have valid feature names, but KNeighborsClassifier was fitted with feature names\n",
      "  warnings.warn(\n",
      "C:\\Users\\smhrd\\AppData\\Local\\Temp\\ipykernel_6176\\3034425392.py:75: FutureWarning: The frame.append method is deprecated and will be removed from pandas in a future version. Use pandas.concat instead.\n",
      "  df = df.append([globals()[f'list']])\n",
      "C:\\Users\\smhrd\\AppData\\Roaming\\Python\\Python39\\site-packages\\sklearn\\base.py:450: UserWarning: X does not have valid feature names, but KNeighborsClassifier was fitted with feature names\n",
      "  warnings.warn(\n",
      "C:\\Users\\smhrd\\AppData\\Local\\Temp\\ipykernel_6176\\3034425392.py:75: FutureWarning: The frame.append method is deprecated and will be removed from pandas in a future version. Use pandas.concat instead.\n",
      "  df = df.append([globals()[f'list']])\n",
      "C:\\Users\\smhrd\\AppData\\Roaming\\Python\\Python39\\site-packages\\sklearn\\base.py:450: UserWarning: X does not have valid feature names, but KNeighborsClassifier was fitted with feature names\n",
      "  warnings.warn(\n"
     ]
    },
    {
     "name": "stdout",
     "output_type": "stream",
     "text": [
      "(139.34846794611323, 147.37771934652102, -17.5)\n",
      "[[0. 0. 1. 0.]]\n",
      "(138.61554896362964, 148.23238257716977, -16.5)\n",
      "[[0. 0. 1. 0.]]\n",
      "(137.1340112396754, 148.0346703646376, -17.0)\n",
      "[[0. 0. 1. 0.]]\n",
      "(138.49110841622462, 148.8274039122715, -19.5)\n",
      "[[0. 0. 1. 0.]]\n"
     ]
    },
    {
     "name": "stderr",
     "output_type": "stream",
     "text": [
      "C:\\Users\\smhrd\\AppData\\Local\\Temp\\ipykernel_6176\\3034425392.py:75: FutureWarning: The frame.append method is deprecated and will be removed from pandas in a future version. Use pandas.concat instead.\n",
      "  df = df.append([globals()[f'list']])\n",
      "C:\\Users\\smhrd\\AppData\\Roaming\\Python\\Python39\\site-packages\\sklearn\\base.py:450: UserWarning: X does not have valid feature names, but KNeighborsClassifier was fitted with feature names\n",
      "  warnings.warn(\n",
      "C:\\Users\\smhrd\\AppData\\Local\\Temp\\ipykernel_6176\\3034425392.py:75: FutureWarning: The frame.append method is deprecated and will be removed from pandas in a future version. Use pandas.concat instead.\n",
      "  df = df.append([globals()[f'list']])\n",
      "C:\\Users\\smhrd\\AppData\\Roaming\\Python\\Python39\\site-packages\\sklearn\\base.py:450: UserWarning: X does not have valid feature names, but KNeighborsClassifier was fitted with feature names\n",
      "  warnings.warn(\n",
      "C:\\Users\\smhrd\\AppData\\Local\\Temp\\ipykernel_6176\\3034425392.py:75: FutureWarning: The frame.append method is deprecated and will be removed from pandas in a future version. Use pandas.concat instead.\n",
      "  df = df.append([globals()[f'list']])\n",
      "C:\\Users\\smhrd\\AppData\\Roaming\\Python\\Python39\\site-packages\\sklearn\\base.py:450: UserWarning: X does not have valid feature names, but KNeighborsClassifier was fitted with feature names\n",
      "  warnings.warn(\n",
      "C:\\Users\\smhrd\\AppData\\Local\\Temp\\ipykernel_6176\\3034425392.py:75: FutureWarning: The frame.append method is deprecated and will be removed from pandas in a future version. Use pandas.concat instead.\n",
      "  df = df.append([globals()[f'list']])\n",
      "C:\\Users\\smhrd\\AppData\\Roaming\\Python\\Python39\\site-packages\\sklearn\\base.py:450: UserWarning: X does not have valid feature names, but KNeighborsClassifier was fitted with feature names\n",
      "  warnings.warn(\n"
     ]
    },
    {
     "name": "stdout",
     "output_type": "stream",
     "text": [
      "(139.0532235794257, 149.92076277360007, -16.0)\n",
      "[[0. 0. 1. 0.]]\n",
      "(138.29239008246066, 145.62356176217855, -22.0)\n",
      "[[0. 0. 1. 0.]]\n",
      "(142.15126473386906, 150.32435314461492, -15.5)\n",
      "[[0. 0. 1. 0.]]\n",
      "(139.31660486832865, 149.64117957428357, -15.5)\n",
      "[[0. 0. 1. 0.]]\n"
     ]
    },
    {
     "name": "stderr",
     "output_type": "stream",
     "text": [
      "C:\\Users\\smhrd\\AppData\\Local\\Temp\\ipykernel_6176\\3034425392.py:75: FutureWarning: The frame.append method is deprecated and will be removed from pandas in a future version. Use pandas.concat instead.\n",
      "  df = df.append([globals()[f'list']])\n",
      "C:\\Users\\smhrd\\AppData\\Roaming\\Python\\Python39\\site-packages\\sklearn\\base.py:450: UserWarning: X does not have valid feature names, but KNeighborsClassifier was fitted with feature names\n",
      "  warnings.warn(\n",
      "C:\\Users\\smhrd\\AppData\\Local\\Temp\\ipykernel_6176\\3034425392.py:75: FutureWarning: The frame.append method is deprecated and will be removed from pandas in a future version. Use pandas.concat instead.\n",
      "  df = df.append([globals()[f'list']])\n",
      "C:\\Users\\smhrd\\AppData\\Roaming\\Python\\Python39\\site-packages\\sklearn\\base.py:450: UserWarning: X does not have valid feature names, but KNeighborsClassifier was fitted with feature names\n",
      "  warnings.warn(\n",
      "C:\\Users\\smhrd\\AppData\\Local\\Temp\\ipykernel_6176\\3034425392.py:75: FutureWarning: The frame.append method is deprecated and will be removed from pandas in a future version. Use pandas.concat instead.\n",
      "  df = df.append([globals()[f'list']])\n",
      "C:\\Users\\smhrd\\AppData\\Roaming\\Python\\Python39\\site-packages\\sklearn\\base.py:450: UserWarning: X does not have valid feature names, but KNeighborsClassifier was fitted with feature names\n",
      "  warnings.warn(\n"
     ]
    },
    {
     "name": "stdout",
     "output_type": "stream",
     "text": [
      "(136.8522428067984, 148.95440723472183, -16.0)\n",
      "[[0. 0. 1. 0.]]\n",
      "(139.09509695023178, 148.76787375166694, -15.0)\n",
      "[[0. 0. 1. 0.]]\n",
      "(143.00802346322678, 149.5667473144957, -15.5)\n",
      "[[0. 0. 1. 0.]]\n"
     ]
    },
    {
     "name": "stderr",
     "output_type": "stream",
     "text": [
      "C:\\Users\\smhrd\\AppData\\Local\\Temp\\ipykernel_6176\\3034425392.py:75: FutureWarning: The frame.append method is deprecated and will be removed from pandas in a future version. Use pandas.concat instead.\n",
      "  df = df.append([globals()[f'list']])\n",
      "C:\\Users\\smhrd\\AppData\\Roaming\\Python\\Python39\\site-packages\\sklearn\\base.py:450: UserWarning: X does not have valid feature names, but KNeighborsClassifier was fitted with feature names\n",
      "  warnings.warn(\n",
      "C:\\Users\\smhrd\\AppData\\Local\\Temp\\ipykernel_6176\\3034425392.py:75: FutureWarning: The frame.append method is deprecated and will be removed from pandas in a future version. Use pandas.concat instead.\n",
      "  df = df.append([globals()[f'list']])\n",
      "C:\\Users\\smhrd\\AppData\\Roaming\\Python\\Python39\\site-packages\\sklearn\\base.py:450: UserWarning: X does not have valid feature names, but KNeighborsClassifier was fitted with feature names\n",
      "  warnings.warn(\n",
      "C:\\Users\\smhrd\\AppData\\Local\\Temp\\ipykernel_6176\\3034425392.py:75: FutureWarning: The frame.append method is deprecated and will be removed from pandas in a future version. Use pandas.concat instead.\n",
      "  df = df.append([globals()[f'list']])\n",
      "C:\\Users\\smhrd\\AppData\\Roaming\\Python\\Python39\\site-packages\\sklearn\\base.py:450: UserWarning: X does not have valid feature names, but KNeighborsClassifier was fitted with feature names\n",
      "  warnings.warn(\n",
      "C:\\Users\\smhrd\\AppData\\Local\\Temp\\ipykernel_6176\\3034425392.py:75: FutureWarning: The frame.append method is deprecated and will be removed from pandas in a future version. Use pandas.concat instead.\n",
      "  df = df.append([globals()[f'list']])\n",
      "C:\\Users\\smhrd\\AppData\\Roaming\\Python\\Python39\\site-packages\\sklearn\\base.py:450: UserWarning: X does not have valid feature names, but KNeighborsClassifier was fitted with feature names\n",
      "  warnings.warn(\n"
     ]
    },
    {
     "name": "stdout",
     "output_type": "stream",
     "text": [
      "(144.80643686629273, 148.08304566274148, -18.5)\n",
      "[[0. 0. 1. 0.]]\n",
      "(144.0666981646755, 146.1248965517411, -22.0)\n",
      "[[0. 0. 1. 0.]]\n",
      "(157.59026237794743, 149.55391726191039, -12.0)\n",
      "[[0. 0. 1. 0.]]\n",
      "(153.81712734275843, 148.57056206475428, -14.5)\n",
      "[[0. 0. 1. 0.]]\n"
     ]
    },
    {
     "name": "stderr",
     "output_type": "stream",
     "text": [
      "C:\\Users\\smhrd\\AppData\\Local\\Temp\\ipykernel_6176\\3034425392.py:75: FutureWarning: The frame.append method is deprecated and will be removed from pandas in a future version. Use pandas.concat instead.\n",
      "  df = df.append([globals()[f'list']])\n",
      "C:\\Users\\smhrd\\AppData\\Roaming\\Python\\Python39\\site-packages\\sklearn\\base.py:450: UserWarning: X does not have valid feature names, but KNeighborsClassifier was fitted with feature names\n",
      "  warnings.warn(\n",
      "C:\\Users\\smhrd\\AppData\\Local\\Temp\\ipykernel_6176\\3034425392.py:75: FutureWarning: The frame.append method is deprecated and will be removed from pandas in a future version. Use pandas.concat instead.\n",
      "  df = df.append([globals()[f'list']])\n",
      "C:\\Users\\smhrd\\AppData\\Roaming\\Python\\Python39\\site-packages\\sklearn\\base.py:450: UserWarning: X does not have valid feature names, but KNeighborsClassifier was fitted with feature names\n",
      "  warnings.warn(\n",
      "C:\\Users\\smhrd\\AppData\\Local\\Temp\\ipykernel_6176\\3034425392.py:75: FutureWarning: The frame.append method is deprecated and will be removed from pandas in a future version. Use pandas.concat instead.\n",
      "  df = df.append([globals()[f'list']])\n",
      "C:\\Users\\smhrd\\AppData\\Roaming\\Python\\Python39\\site-packages\\sklearn\\base.py:450: UserWarning: X does not have valid feature names, but KNeighborsClassifier was fitted with feature names\n",
      "  warnings.warn(\n"
     ]
    },
    {
     "name": "stdout",
     "output_type": "stream",
     "text": [
      "(150.054289181184, 148.2875016563311, -18.0)\n",
      "[[0. 0. 1. 0.]]\n",
      "(149.1643115375988, 146.37332476694186, -23.5)\n",
      "[[0. 0. 1. 0.]]\n",
      "(154.4170730752673, 144.06998914417343, -27.0)\n",
      "[[0. 0. 1. 0.]]\n"
     ]
    },
    {
     "name": "stderr",
     "output_type": "stream",
     "text": [
      "C:\\Users\\smhrd\\AppData\\Local\\Temp\\ipykernel_6176\\3034425392.py:75: FutureWarning: The frame.append method is deprecated and will be removed from pandas in a future version. Use pandas.concat instead.\n",
      "  df = df.append([globals()[f'list']])\n",
      "C:\\Users\\smhrd\\AppData\\Roaming\\Python\\Python39\\site-packages\\sklearn\\base.py:450: UserWarning: X does not have valid feature names, but KNeighborsClassifier was fitted with feature names\n",
      "  warnings.warn(\n",
      "C:\\Users\\smhrd\\AppData\\Local\\Temp\\ipykernel_6176\\3034425392.py:75: FutureWarning: The frame.append method is deprecated and will be removed from pandas in a future version. Use pandas.concat instead.\n",
      "  df = df.append([globals()[f'list']])\n",
      "C:\\Users\\smhrd\\AppData\\Roaming\\Python\\Python39\\site-packages\\sklearn\\base.py:450: UserWarning: X does not have valid feature names, but KNeighborsClassifier was fitted with feature names\n",
      "  warnings.warn(\n",
      "C:\\Users\\smhrd\\AppData\\Local\\Temp\\ipykernel_6176\\3034425392.py:75: FutureWarning: The frame.append method is deprecated and will be removed from pandas in a future version. Use pandas.concat instead.\n",
      "  df = df.append([globals()[f'list']])\n",
      "C:\\Users\\smhrd\\AppData\\Roaming\\Python\\Python39\\site-packages\\sklearn\\base.py:450: UserWarning: X does not have valid feature names, but KNeighborsClassifier was fitted with feature names\n",
      "  warnings.warn(\n",
      "C:\\Users\\smhrd\\AppData\\Local\\Temp\\ipykernel_6176\\3034425392.py:75: FutureWarning: The frame.append method is deprecated and will be removed from pandas in a future version. Use pandas.concat instead.\n",
      "  df = df.append([globals()[f'list']])\n",
      "C:\\Users\\smhrd\\AppData\\Roaming\\Python\\Python39\\site-packages\\sklearn\\base.py:450: UserWarning: X does not have valid feature names, but KNeighborsClassifier was fitted with feature names\n",
      "  warnings.warn(\n"
     ]
    },
    {
     "name": "stdout",
     "output_type": "stream",
     "text": [
      "(168.66041132805202, 144.3922211627145, -32.0)\n",
      "[[0. 0. 1. 0.]]\n",
      "(159.36214220572188, 144.52140416595898, -36.0)\n",
      "[[0. 0. 1. 0.]]\n",
      "(167.53870943078192, 143.3584348901375, -43.5)\n",
      "[[0. 0. 1. 0.]]\n",
      "(166.10080409459022, 136.64436864730703, -57.0)\n",
      "[[0. 0. 1. 0.]]\n"
     ]
    }
   ],
   "source": [
    "app = Flask(__name__)\n",
    "@app.route(\"/W_result\", methods=['GET', 'POST'])\n",
    "def W_result():\n",
    "    if request.method == 'POST':\n",
    "        # 값 받아오는 부분\n",
    "        get_json = request.form['test']\n",
    "        # 모델에 학습하고\n",
    "        # 테스트 할 영상 경로 넣으면 됨\n",
    "        video = cv2.VideoCapture('./test_video2.mp4')\n",
    "        df = pd.DataFrame() # predict에 넣어 줄 X_test\n",
    "        actions = ['bend', 'headup', 'right', 'waistup']\n",
    "\n",
    "        while video.isOpened():\n",
    "            # Read a frame.\n",
    "            ok, frame = video.read()\n",
    "            # Check if frame is not read properly.\n",
    "            if not ok:\n",
    "                # Break the loop.\n",
    "                break\n",
    "            # display -> False 넣어서 img랑 렌드마크 받기\n",
    "            output_img, landmarks,visible = detectPose(frame,pose,display=False)\n",
    "\n",
    "            if landmarks:\n",
    "                # visible 가져오기\n",
    "                left_shoulder = visible[mp_pose.PoseLandmark.LEFT_SHOULDER.value]\n",
    "                right_shoulder = visible[mp_pose.PoseLandmark.RIGHT_SHOULDER.value]\n",
    "                left_hip = visible[mp_pose.PoseLandmark.LEFT_HIP.value]\n",
    "                right_hip = visible[mp_pose.PoseLandmark.RIGHT_HIP.value]\n",
    "                left_knee = visible[mp_pose.PoseLandmark.LEFT_KNEE.value]\n",
    "                right_knee = visible[mp_pose.PoseLandmark.RIGHT_KNEE.value]\n",
    "                left_ankle = visible[mp_pose.PoseLandmark.LEFT_ANKLE.value]\n",
    "                right_ankle = visible[mp_pose.PoseLandmark.RIGHT_ANKLE.value]\n",
    "                right_pinky = visible[mp_pose.PoseLandmark.RIGHT_PINKY.value]\n",
    "                left_pinkey = visible[mp_pose.PoseLandmark.LEFT_PINKY.value]\n",
    "                # 어깨 - 엉덩이 - 무릎 => 올리는 동작 각도 구하기 위함 -> Main angle\n",
    "                if left_hip>right_hip:\n",
    "                    main_angle = calculateAngle(landmarks[mp_pose.PoseLandmark.LEFT_SHOULDER.value],\n",
    "                                                        landmarks[mp_pose.PoseLandmark.LEFT_HIP.value],\n",
    "                                                        landmarks[mp_pose.PoseLandmark.LEFT_KNEE.value])\n",
    "                else:\n",
    "                    main_angle = calculateAngle(landmarks[mp_pose.PoseLandmark.RIGHT_SHOULDER.value],\n",
    "                                                        landmarks[mp_pose.PoseLandmark.RIGHT_HIP.value],\n",
    "                                                        landmarks[mp_pose.PoseLandmark.RIGHT_KNEE.value])                                                    \n",
    "                \n",
    "                # 엉덩이 - 무릎 - 발목 => 무릎 꺾였는지 보기 위함\n",
    "                if left_knee > right_knee:\n",
    "                    knee_angle = calculateAngle(landmarks[mp_pose.PoseLandmark.LEFT_HIP.value],\n",
    "                                                    landmarks[mp_pose.PoseLandmark.LEFT_KNEE.value],\n",
    "                                                    landmarks[mp_pose.PoseLandmark.LEFT_ANKLE.value])\n",
    "                else:\n",
    "                    knee_angle = calculateAngle(landmarks[mp_pose.PoseLandmark.RIGHT_HIP.value],\n",
    "                                                    landmarks[mp_pose.PoseLandmark.RIGHT_KNEE.value],\n",
    "                                                    landmarks[mp_pose.PoseLandmark.RIGHT_ANKLE.value])\n",
    "                                                    \n",
    "                # 어깨 허리  중앙값\n",
    "                cen_shoulder = center_Landmark(landmarks[mp_pose.PoseLandmark.LEFT_SHOULDER.value],\n",
    "                                            landmarks[mp_pose.PoseLandmark.RIGHT_SHOULDER.value])\n",
    "                cen_hip = center_Landmark(landmarks[mp_pose.PoseLandmark.LEFT_HIP.value],\n",
    "                                        landmarks[mp_pose.PoseLandmark.RIGHT_HIP.value])\n",
    "            \n",
    "                # 코 - 어깨 - 엉덩이 => 목 각도\n",
    "                head_angle = calculateAngle(landmarks[mp_pose.PoseLandmark.NOSE.value],\n",
    "                                            cen_shoulder,cen_hip)\n",
    "\n",
    "                # 잘보이는 새끼손가락의 y 좌표\n",
    "                if right_pinky > left_pinkey:\n",
    "                    y_pinky = landmarks[mp_pose.PoseLandmark.RIGHT_PINKY.value][1]\n",
    "                else:\n",
    "                    y_pinky = landmarks[mp_pose.PoseLandmark.LEFT_PINKY.value][1]\n",
    "\n",
    "                # 엉덩이 중앙의 y좌표와 새끼손가락의 y 좌표사이의 거리 \n",
    "                waist_len = cen_hip[1]-cen_shoulder[1]\n",
    "\n",
    "                globals()['list'] = knee_angle,head_angle,waist_len\n",
    "                df = df.append([globals()[f'list']])\n",
    "                print(globals()['list'])\n",
    "                loaded_model = pickle.load(open('03.Knn_model', 'rb'))\n",
    "                result = loaded_model.predict_proba([globals()['list']])\n",
    "                print(result)\n",
    "                # 각 회마다 맞는 자세인지 매핑하기\n",
    "                if result.argmax() ==0:\n",
    "                    cv2.putText(output_img, actions[0], (120,200),cv2.FONT_HERSHEY_SIMPLEX, 1, (0,255, 0), 4, cv2.LINE_AA)\n",
    "                elif result.argmax() ==1:\n",
    "                    cv2.putText(output_img, actions[1], (120,200),cv2.FONT_HERSHEY_SIMPLEX, 1, (0,255, 0), 4, cv2.LINE_AA)\n",
    "                elif result.argmax() == 2:\n",
    "                    cv2.putText(output_img, actions[2], (120,200),cv2.FONT_HERSHEY_SIMPLEX, 1, (0,255, 0), 4, cv2.LINE_AA)\n",
    "                elif result.argmax() ==3:\n",
    "                    cv2.putText(output_img, actions[3], (120,200),cv2.FONT_HERSHEY_SIMPLEX, 1, (0,255, 0), 4, cv2.LINE_AA)\n",
    "                \n",
    "            cv2.imshow('img',output_img)\n",
    "            cv2.waitKey(10)\n",
    "        video.release()\n",
    "        cv2.destroyAllWindows()\n",
    "\n",
    "        # 제이슨 어레이에 담아서\n",
    "        st = result\n",
    "        json_test = json.loads(result)\n",
    "        print(json_test)\n",
    "        return json_test\n",
    "\n",
    "\n",
    "\n",
    "if __name__ == '__main__':\n",
    "    app.run(host=\"0.0.0.0\", port=5000)"
   ]
  },
  {
   "cell_type": "code",
   "execution_count": null,
   "metadata": {},
   "outputs": [],
   "source": []
  }
 ],
 "metadata": {
  "kernelspec": {
   "display_name": "tensorflow",
   "language": "python",
   "name": "python3"
  },
  "language_info": {
   "codemirror_mode": {
    "name": "ipython",
    "version": 3
   },
   "file_extension": ".py",
   "mimetype": "text/x-python",
   "name": "python",
   "nbconvert_exporter": "python",
   "pygments_lexer": "ipython3",
   "version": "3.9.15 (main, Nov 24 2022, 14:39:17) [MSC v.1916 64 bit (AMD64)]"
  },
  "orig_nbformat": 4,
  "vscode": {
   "interpreter": {
    "hash": "04b12d0f46d0b94a4a210922b4c957acdd0ce8f9b1ff617e952ccd892edfddf0"
   }
  }
 },
 "nbformat": 4,
 "nbformat_minor": 2
}
