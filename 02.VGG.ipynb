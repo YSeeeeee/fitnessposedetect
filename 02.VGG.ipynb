{
 "cells": [
  {
   "cell_type": "code",
   "execution_count": 14,
   "metadata": {},
   "outputs": [],
   "source": [
    "import numpy as np\n",
    "import os\n",
    "from tensorflow.keras.preprocessing.image import ImageDataGenerator\n",
    "os.environ[\"CUDA_VISIBLE_DEVICES\"]=\"0\"\n",
    "from tensorflow.keras import Sequential\n",
    "from tensorflow.keras.layers import Dense , Flatten\n",
    "from tensorflow.keras.applications import VGG16"
   ]
  },
  {
   "cell_type": "code",
   "execution_count": 15,
   "metadata": {},
   "outputs": [],
   "source": [
    "train_dir = './4pose_dataset/train/'\n",
    "test_dir = './4pose_dataset/test/'\n",
    "val_dir = './4pose_dataset/val/'"
   ]
  },
  {
   "cell_type": "code",
   "execution_count": 16,
   "metadata": {},
   "outputs": [
    {
     "name": "stdout",
     "output_type": "stream",
     "text": [
      "Found 2292 images belonging to 4 classes.\n",
      "Found 290 images belonging to 4 classes.\n",
      "Found 284 images belonging to 4 classes.\n",
      "{'bend': 0, 'headup': 1, 'right': 2, 'waistup': 3}\n"
     ]
    }
   ],
   "source": [
    "generator = ImageDataGenerator(rescale = 1./255)\n",
    "train_generator = generator.flow_from_directory(\n",
    "    directory = train_dir, \n",
    "    target_size = (150,150), \n",
    "    batch_size = 100, \n",
    "    class_mode = 'categorical'\n",
    ")\n",
    "test_generator = generator.flow_from_directory(\n",
    "    directory = test_dir, \n",
    "    target_size = (150,150), \n",
    "    batch_size = 100, \n",
    "    class_mode = 'categorical'\n",
    ")\n",
    "val_generator = generator.flow_from_directory(\n",
    "    directory = val_dir, \n",
    "    target_size = (150,150), \n",
    "    batch_size = 100, \n",
    "    class_mode = 'categorical'\n",
    ")\n",
    "print(train_generator.class_indices)"
   ]
  },
  {
   "cell_type": "code",
   "execution_count": 17,
   "metadata": {},
   "outputs": [],
   "source": [
    "# 전이학습 -> VGG모델 사용\n",
    "conv_base = VGG16(\n",
    "    weights = 'imagenet',\n",
    "    include_top = False,\n",
    "    input_shape = (150,150,3)\n",
    ")"
   ]
  },
  {
   "cell_type": "code",
   "execution_count": 18,
   "metadata": {},
   "outputs": [],
   "source": [
    "# 가중치 동결 \n",
    "conv_base.trainable=False"
   ]
  },
  {
   "cell_type": "code",
   "execution_count": 19,
   "metadata": {},
   "outputs": [],
   "source": [
    "model = Sequential()\n",
    "\n",
    "model.add(conv_base)\n",
    "model.add(Flatten())\n",
    "model.add(Dense(64, activation='relu'))\n",
    "model.add(Dense(4, activation='softmax'))"
   ]
  },
  {
   "cell_type": "code",
   "execution_count": 20,
   "metadata": {},
   "outputs": [],
   "source": [
    "model.compile(\n",
    "    loss = 'categorical_crossentropy',\n",
    "    optimizer = 'adam',\n",
    "    metrics = ['accuracy']\n",
    ")"
   ]
  },
  {
   "cell_type": "code",
   "execution_count": 21,
   "metadata": {},
   "outputs": [
    {
     "name": "stderr",
     "output_type": "stream",
     "text": [
      "C:\\Users\\smhrd\\AppData\\Local\\Temp\\ipykernel_15044\\647605993.py:1: UserWarning: `Model.fit_generator` is deprecated and will be removed in a future version. Please use `Model.fit`, which supports generators.\n",
      "  model.fit_generator(\n"
     ]
    },
    {
     "name": "stdout",
     "output_type": "stream",
     "text": [
      "Epoch 1/20\n",
      "23/23 [==============================] - 45s 2s/step - loss: 0.8175 - accuracy: 0.6505 - val_loss: 0.5448 - val_accuracy: 0.7782\n",
      "Epoch 2/20\n",
      "23/23 [==============================] - 42s 2s/step - loss: 0.4664 - accuracy: 0.8093 - val_loss: 0.4062 - val_accuracy: 0.8486\n",
      "Epoch 3/20\n",
      "23/23 [==============================] - 41s 2s/step - loss: 0.3566 - accuracy: 0.8743 - val_loss: 0.3107 - val_accuracy: 0.9049\n",
      "Epoch 4/20\n",
      "23/23 [==============================] - 42s 2s/step - loss: 0.2904 - accuracy: 0.9136 - val_loss: 0.2567 - val_accuracy: 0.9225\n",
      "Epoch 5/20\n",
      "23/23 [==============================] - 42s 2s/step - loss: 0.2427 - accuracy: 0.9293 - val_loss: 0.2207 - val_accuracy: 0.9366\n",
      "Epoch 6/20\n",
      "23/23 [==============================] - 42s 2s/step - loss: 0.2080 - accuracy: 0.9433 - val_loss: 0.1958 - val_accuracy: 0.9401\n",
      "Epoch 7/20\n",
      "23/23 [==============================] - 41s 2s/step - loss: 0.1821 - accuracy: 0.9507 - val_loss: 0.1946 - val_accuracy: 0.9261\n",
      "Epoch 8/20\n",
      "23/23 [==============================] - 41s 2s/step - loss: 0.1623 - accuracy: 0.9546 - val_loss: 0.1612 - val_accuracy: 0.9437\n",
      "Epoch 9/20\n",
      "23/23 [==============================] - 41s 2s/step - loss: 0.1497 - accuracy: 0.9594 - val_loss: 0.1650 - val_accuracy: 0.9507\n",
      "Epoch 10/20\n",
      "23/23 [==============================] - 42s 2s/step - loss: 0.1357 - accuracy: 0.9603 - val_loss: 0.1461 - val_accuracy: 0.9401\n",
      "Epoch 11/20\n",
      "23/23 [==============================] - 46s 2s/step - loss: 0.1434 - accuracy: 0.9520 - val_loss: 0.1345 - val_accuracy: 0.9437\n",
      "Epoch 12/20\n",
      "23/23 [==============================] - 46s 2s/step - loss: 0.1299 - accuracy: 0.9590 - val_loss: 0.1364 - val_accuracy: 0.9401\n",
      "Epoch 13/20\n",
      "23/23 [==============================] - 41s 2s/step - loss: 0.1218 - accuracy: 0.9607 - val_loss: 0.1326 - val_accuracy: 0.9507\n",
      "Epoch 14/20\n",
      "23/23 [==============================] - 41s 2s/step - loss: 0.1112 - accuracy: 0.9638 - val_loss: 0.1206 - val_accuracy: 0.9507\n",
      "Epoch 15/20\n",
      "23/23 [==============================] - 41s 2s/step - loss: 0.1016 - accuracy: 0.9664 - val_loss: 0.1213 - val_accuracy: 0.9507\n",
      "Epoch 16/20\n",
      "23/23 [==============================] - 41s 2s/step - loss: 0.0954 - accuracy: 0.9725 - val_loss: 0.1150 - val_accuracy: 0.9542\n",
      "Epoch 17/20\n",
      "23/23 [==============================] - 41s 2s/step - loss: 0.0942 - accuracy: 0.9695 - val_loss: 0.1150 - val_accuracy: 0.9577\n",
      "Epoch 18/20\n",
      "23/23 [==============================] - 41s 2s/step - loss: 0.0918 - accuracy: 0.9725 - val_loss: 0.1179 - val_accuracy: 0.9542\n",
      "Epoch 19/20\n",
      "23/23 [==============================] - 41s 2s/step - loss: 0.0888 - accuracy: 0.9734 - val_loss: 0.1117 - val_accuracy: 0.9472\n",
      "Epoch 20/20\n",
      "23/23 [==============================] - 41s 2s/step - loss: 0.0832 - accuracy: 0.9699 - val_loss: 0.1079 - val_accuracy: 0.9472\n"
     ]
    },
    {
     "data": {
      "text/plain": [
       "<keras.callbacks.History at 0x24fd63b3a90>"
      ]
     },
     "execution_count": 21,
     "metadata": {},
     "output_type": "execute_result"
    }
   ],
   "source": [
    "model.fit_generator(\n",
    "    generator = train_generator,\n",
    "    epochs = 20,\n",
    "    validation_data = val_generator\n",
    ")"
   ]
  },
  {
   "cell_type": "code",
   "execution_count": 22,
   "metadata": {},
   "outputs": [],
   "source": [
    "# 저장\n",
    "from keras.models import load_model\n",
    "model.save('02.VGG_model.h5')"
   ]
  },
  {
   "cell_type": "code",
   "execution_count": null,
   "metadata": {},
   "outputs": [],
   "source": []
  }
 ],
 "metadata": {
  "kernelspec": {
   "display_name": "tensorflow",
   "language": "python",
   "name": "python3"
  },
  "language_info": {
   "codemirror_mode": {
    "name": "ipython",
    "version": 3
   },
   "file_extension": ".py",
   "mimetype": "text/x-python",
   "name": "python",
   "nbconvert_exporter": "python",
   "pygments_lexer": "ipython3",
   "version": "3.9.15 (main, Nov 24 2022, 14:39:17) [MSC v.1916 64 bit (AMD64)]"
  },
  "orig_nbformat": 4,
  "vscode": {
   "interpreter": {
    "hash": "04b12d0f46d0b94a4a210922b4c957acdd0ce8f9b1ff617e952ccd892edfddf0"
   }
  }
 },
 "nbformat": 4,
 "nbformat_minor": 2
}
