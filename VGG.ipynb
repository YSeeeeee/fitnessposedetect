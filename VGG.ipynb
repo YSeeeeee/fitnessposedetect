{
 "cells": [
  {
   "cell_type": "code",
   "execution_count": 1,
   "metadata": {},
   "outputs": [],
   "source": [
    "import numpy as np\n",
    "import os\n",
    "from tensorflow.keras.preprocessing.image import ImageDataGenerator\n",
    "os.environ[\"CUDA_VISIBLE_DEVICES\"]=\"0\"\n",
    "from tensorflow.keras import Sequential\n",
    "from tensorflow.keras.layers import Dense , Flatten\n",
    "from tensorflow.keras.applications import VGG16"
   ]
  },
  {
   "cell_type": "code",
   "execution_count": 2,
   "metadata": {},
   "outputs": [],
   "source": [
    "train_dir = './dataset/train/'\n",
    "test_dir = './dataset/test/'\n",
    "val_dir = './dataset/val/'"
   ]
  },
  {
   "cell_type": "code",
   "execution_count": 3,
   "metadata": {},
   "outputs": [
    {
     "name": "stdout",
     "output_type": "stream",
     "text": [
      "Found 320 images belonging to 4 classes.\n",
      "Found 40 images belonging to 4 classes.\n",
      "Found 40 images belonging to 4 classes.\n",
      "{'90leg': 0, 'head up': 1, 'lay down': 2, 'lay up': 3}\n"
     ]
    }
   ],
   "source": [
    "generator = ImageDataGenerator(rescale = 1./255)\n",
    "train_generator = generator.flow_from_directory(\n",
    "    directory = train_dir, \n",
    "    target_size = (150,150), \n",
    "    batch_size = 100, \n",
    "    class_mode = 'categorical'\n",
    ")\n",
    "test_generator = generator.flow_from_directory(\n",
    "    directory = test_dir, \n",
    "    target_size = (150,150), \n",
    "    batch_size = 100, \n",
    "    class_mode = 'categorical'\n",
    ")\n",
    "val_generator = generator.flow_from_directory(\n",
    "    directory = val_dir, \n",
    "    target_size = (150,150), \n",
    "    batch_size = 100, \n",
    "    class_mode = 'categorical'\n",
    ")\n",
    "print(train_generator.class_indices)"
   ]
  },
  {
   "cell_type": "code",
   "execution_count": 4,
   "metadata": {},
   "outputs": [],
   "source": [
    "# 전이학습 -> VGG모델 사용\n",
    "conv_base = VGG16(\n",
    "    weights = 'imagenet',\n",
    "    include_top = False,\n",
    "    input_shape = (150,150,3)\n",
    ")"
   ]
  },
  {
   "cell_type": "code",
   "execution_count": 5,
   "metadata": {},
   "outputs": [],
   "source": [
    "# 가중치 동결 \n",
    "conv_base.trainable=False"
   ]
  },
  {
   "cell_type": "code",
   "execution_count": 6,
   "metadata": {},
   "outputs": [],
   "source": [
    "model = Sequential()\n",
    "\n",
    "model.add(conv_base)\n",
    "model.add(Flatten())\n",
    "model.add(Dense(64, activation='relu'))\n",
    "model.add(Dense(4, activation='softmax'))"
   ]
  },
  {
   "cell_type": "code",
   "execution_count": 7,
   "metadata": {},
   "outputs": [],
   "source": [
    "model.compile(\n",
    "    loss = 'categorical_crossentropy',\n",
    "    optimizer = 'adam',\n",
    "    metrics = ['accuracy']\n",
    ")"
   ]
  },
  {
   "cell_type": "code",
   "execution_count": 8,
   "metadata": {},
   "outputs": [
    {
     "name": "stderr",
     "output_type": "stream",
     "text": [
      "C:\\Users\\smhrd\\AppData\\Local\\Temp\\ipykernel_17080\\647605993.py:1: UserWarning: `Model.fit_generator` is deprecated and will be removed in a future version. Please use `Model.fit`, which supports generators.\n",
      "  model.fit_generator(\n"
     ]
    },
    {
     "name": "stdout",
     "output_type": "stream",
     "text": [
      "Epoch 1/20\n",
      "4/4 [==============================] - 9s 2s/step - loss: 1.6180 - accuracy: 0.4656 - val_loss: 0.7613 - val_accuracy: 0.6750\n",
      "Epoch 2/20\n",
      "4/4 [==============================] - 3s 691ms/step - loss: 0.8535 - accuracy: 0.5906 - val_loss: 0.5926 - val_accuracy: 0.7250\n",
      "Epoch 3/20\n",
      "4/4 [==============================] - 3s 705ms/step - loss: 0.7172 - accuracy: 0.7219 - val_loss: 0.5347 - val_accuracy: 0.8000\n",
      "Epoch 4/20\n",
      "4/4 [==============================] - 3s 681ms/step - loss: 0.5767 - accuracy: 0.7875 - val_loss: 0.4215 - val_accuracy: 0.8750\n",
      "Epoch 5/20\n",
      "4/4 [==============================] - 3s 669ms/step - loss: 0.4778 - accuracy: 0.8500 - val_loss: 0.3935 - val_accuracy: 0.8500\n",
      "Epoch 6/20\n",
      "4/4 [==============================] - 3s 680ms/step - loss: 0.3950 - accuracy: 0.9125 - val_loss: 0.3970 - val_accuracy: 0.9000\n",
      "Epoch 7/20\n",
      "4/4 [==============================] - 3s 905ms/step - loss: 0.3520 - accuracy: 0.8844 - val_loss: 0.2910 - val_accuracy: 0.9000\n",
      "Epoch 8/20\n",
      "4/4 [==============================] - 3s 656ms/step - loss: 0.3183 - accuracy: 0.8813 - val_loss: 0.3171 - val_accuracy: 0.9000\n",
      "Epoch 9/20\n",
      "4/4 [==============================] - 3s 924ms/step - loss: 0.2889 - accuracy: 0.9406 - val_loss: 0.3435 - val_accuracy: 0.8750\n",
      "Epoch 10/20\n",
      "4/4 [==============================] - 3s 676ms/step - loss: 0.2612 - accuracy: 0.9438 - val_loss: 0.2770 - val_accuracy: 0.9500\n",
      "Epoch 11/20\n",
      "4/4 [==============================] - 3s 892ms/step - loss: 0.2343 - accuracy: 0.9500 - val_loss: 0.2438 - val_accuracy: 0.9250\n",
      "Epoch 12/20\n",
      "4/4 [==============================] - 3s 667ms/step - loss: 0.2085 - accuracy: 0.9406 - val_loss: 0.2300 - val_accuracy: 0.9500\n",
      "Epoch 13/20\n",
      "4/4 [==============================] - 3s 650ms/step - loss: 0.1794 - accuracy: 0.9594 - val_loss: 0.2789 - val_accuracy: 0.9500\n",
      "Epoch 14/20\n",
      "4/4 [==============================] - 3s 658ms/step - loss: 0.1748 - accuracy: 0.9656 - val_loss: 0.2300 - val_accuracy: 0.9500\n",
      "Epoch 15/20\n",
      "4/4 [==============================] - 3s 655ms/step - loss: 0.1459 - accuracy: 0.9688 - val_loss: 0.1952 - val_accuracy: 0.9750\n",
      "Epoch 16/20\n",
      "4/4 [==============================] - 3s 614ms/step - loss: 0.1369 - accuracy: 0.9750 - val_loss: 0.1890 - val_accuracy: 0.9750\n",
      "Epoch 17/20\n",
      "4/4 [==============================] - 3s 888ms/step - loss: 0.1248 - accuracy: 0.9781 - val_loss: 0.1896 - val_accuracy: 0.9500\n",
      "Epoch 18/20\n",
      "4/4 [==============================] - 3s 915ms/step - loss: 0.1167 - accuracy: 0.9812 - val_loss: 0.1833 - val_accuracy: 0.9500\n",
      "Epoch 19/20\n",
      "4/4 [==============================] - 3s 925ms/step - loss: 0.1142 - accuracy: 0.9875 - val_loss: 0.1931 - val_accuracy: 0.9500\n",
      "Epoch 20/20\n",
      "4/4 [==============================] - 3s 612ms/step - loss: 0.1060 - accuracy: 0.9875 - val_loss: 0.1590 - val_accuracy: 0.9750\n"
     ]
    },
    {
     "data": {
      "text/plain": [
       "<keras.callbacks.History at 0x27c915464f0>"
      ]
     },
     "execution_count": 8,
     "metadata": {},
     "output_type": "execute_result"
    }
   ],
   "source": [
    "model.fit_generator(\n",
    "    generator = train_generator,\n",
    "    epochs = 20,\n",
    "    validation_data = val_generator\n",
    ")"
   ]
  },
  {
   "cell_type": "code",
   "execution_count": 9,
   "metadata": {},
   "outputs": [],
   "source": [
    "# 저장\n",
    "from keras.models import load_model\n",
    "model.save('VGG_model_epoch20.h5')"
   ]
  }
 ],
 "metadata": {
  "kernelspec": {
   "display_name": "Python 3.9.15 ('project')",
   "language": "python",
   "name": "python3"
  },
  "language_info": {
   "codemirror_mode": {
    "name": "ipython",
    "version": 3
   },
   "file_extension": ".py",
   "mimetype": "text/x-python",
   "name": "python",
   "nbconvert_exporter": "python",
   "pygments_lexer": "ipython3",
   "version": "3.9.15"
  },
  "orig_nbformat": 4,
  "vscode": {
   "interpreter": {
    "hash": "25f0ce4f8edf86d47345577984872101956248f255ca518b20876280a4f11d3d"
   }
  }
 },
 "nbformat": 4,
 "nbformat_minor": 2
}
