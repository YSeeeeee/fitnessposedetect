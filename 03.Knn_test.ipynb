{
 "cells": [
  {
   "cell_type": "code",
   "execution_count": 20,
   "metadata": {},
   "outputs": [],
   "source": [
    "import cv2\n",
    "import mediapipe as mp\n",
    "import pickle\n",
    "import math\n",
    "import os\n",
    "import numpy as np\n",
    "os.environ[\"CUDA_VISIBLE_DEVICES\"]=\"0\"\n",
    "import pandas as pd\n",
    "import matplotlib.pyplot as plt"
   ]
  },
  {
   "cell_type": "code",
   "execution_count": 21,
   "metadata": {},
   "outputs": [],
   "source": [
    "# media pipe pose 전역변수로 설정\n",
    "mp_pose = mp.solutions.pose\n",
    "pose = mp_pose.Pose(static_image_mode=True,min_detection_confidence=0.3, model_complexity=0)\n",
    "mp_drawing = mp.solutions.drawing_utils"
   ]
  },
  {
   "cell_type": "code",
   "execution_count": 22,
   "metadata": {},
   "outputs": [],
   "source": [
    "# 포즈 감지 함수\n",
    "def detectPose(image,pose,display=True):\n",
    "    # input 이미지 복사\n",
    "    output_image = image.copy()\n",
    "    # RGB로 변환\n",
    "    image_BGR = cv2.cvtColor(image,cv2.COLOR_BGR2RGB)\n",
    "    # 렌드마크 찍기\n",
    "    image_BGR.flags.writeable = False\n",
    "    results = pose.process(image_BGR)\n",
    "    image_BGR.flags.writeable = True\n",
    "    \n",
    "    # 사진 사이즈 구하기\n",
    "    height, width, _ = image.shape\n",
    "    # 렌드마크 값 리스트 만들기\n",
    "    landmarks = []\n",
    "    visible = []\n",
    "    if results.pose_landmarks:\n",
    "        # 렌드마크 그리기\n",
    "        mp_drawing.draw_landmarks(image=output_image, landmark_list=results.pose_landmarks, connections=mp_pose.POSE_CONNECTIONS)\n",
    "        #렌드마크 정규값 landmarks 리스트에 넣기\n",
    "        for landmark in results.pose_landmarks.landmark:\n",
    "            landmarks.append((int(landmark.x*width), int(landmark.y*height), (landmark.z*width)))\n",
    "            # visible 값 따로 리스트에 넣기 \n",
    "            visible.append(landmark.visibility)\n",
    "    # 사진 결과 보기\n",
    "    if display:\n",
    "        plt.figure(figsize=[22,22])\n",
    "        plt.subplot(121);plt.imshow(image[:,:,::-1]);plt.title(\"Original Image\");plt.axis('off');\n",
    "        plt.subplot(122);plt.imshow(output_image[:,:,::-1]);plt.title(\"Output Image\");plt.axis('off');\n",
    "        # 3차원으로도 봐보기\n",
    "        mp_drawing.plot_landmarks(results.pose_world_landmarks, mp_pose.POSE_CONNECTIONS)\n",
    "    else:\n",
    "        \n",
    "        return output_image, landmarks , visible"
   ]
  },
  {
   "cell_type": "code",
   "execution_count": 23,
   "metadata": {},
   "outputs": [],
   "source": [
    "# 각도 구하는 함수\n",
    "def calculateAngle(landmark1, landmark2, landmark3):\n",
    "    x1,y1,_ = landmark1 # z 좌표는 사용 x\n",
    "    x2,y2,_ = landmark2\n",
    "    x3,y3,_ = landmark3\n",
    "    # 3점의 각도 -> 선 2개 -> 각도\n",
    "    angle = math.degrees(math.atan2(y3-y2, x3-x2) - math.atan2(y1-y2,x1-x2))\n",
    "\n",
    "    angle = np.abs(angle)\n",
    "    # 음수의 각도가 나오면 양수로 바꾸기\n",
    "    if angle >180.0:\n",
    "        angle = 360 - angle\n",
    "        \n",
    "    return angle"
   ]
  },
  {
   "cell_type": "code",
   "execution_count": 24,
   "metadata": {},
   "outputs": [],
   "source": [
    "# 중앙 각도 구하는 함수\n",
    "def center_Landmark(landmarks1,landmarks2):\n",
    "    x1,y1,_ = landmarks1\n",
    "    x2,y2,_ = landmarks2\n",
    "    x_cen = (x1+x2)/2\n",
    "    y_cen = (y1+y2)/2\n",
    "    return x_cen,y_cen,_"
   ]
  },
  {
   "cell_type": "code",
   "execution_count": 25,
   "metadata": {},
   "outputs": [
    {
     "name": "stderr",
     "output_type": "stream",
     "text": [
      "C:\\Users\\smhrd\\AppData\\Local\\Temp\\ipykernel_15348\\2774937686.py:68: FutureWarning: The frame.append method is deprecated and will be removed from pandas in a future version. Use pandas.concat instead.\n",
      "  df = df.append([globals()[f'list']])\n",
      "C:\\Users\\smhrd\\AppData\\Roaming\\Python\\Python39\\site-packages\\sklearn\\base.py:450: UserWarning: X does not have valid feature names, but KNeighborsClassifier was fitted with feature names\n",
      "  warnings.warn(\n",
      "C:\\Users\\smhrd\\AppData\\Local\\Temp\\ipykernel_15348\\2774937686.py:68: FutureWarning: The frame.append method is deprecated and will be removed from pandas in a future version. Use pandas.concat instead.\n",
      "  df = df.append([globals()[f'list']])\n",
      "C:\\Users\\smhrd\\AppData\\Roaming\\Python\\Python39\\site-packages\\sklearn\\base.py:450: UserWarning: X does not have valid feature names, but KNeighborsClassifier was fitted with feature names\n",
      "  warnings.warn(\n",
      "C:\\Users\\smhrd\\AppData\\Local\\Temp\\ipykernel_15348\\2774937686.py:68: FutureWarning: The frame.append method is deprecated and will be removed from pandas in a future version. Use pandas.concat instead.\n",
      "  df = df.append([globals()[f'list']])\n",
      "C:\\Users\\smhrd\\AppData\\Roaming\\Python\\Python39\\site-packages\\sklearn\\base.py:450: UserWarning: X does not have valid feature names, but KNeighborsClassifier was fitted with feature names\n",
      "  warnings.warn(\n",
      "C:\\Users\\smhrd\\AppData\\Local\\Temp\\ipykernel_15348\\2774937686.py:68: FutureWarning: The frame.append method is deprecated and will be removed from pandas in a future version. Use pandas.concat instead.\n",
      "  df = df.append([globals()[f'list']])\n",
      "C:\\Users\\smhrd\\AppData\\Roaming\\Python\\Python39\\site-packages\\sklearn\\base.py:450: UserWarning: X does not have valid feature names, but KNeighborsClassifier was fitted with feature names\n",
      "  warnings.warn(\n"
     ]
    },
    {
     "name": "stdout",
     "output_type": "stream",
     "text": [
      "(59.34304524517642, 150.56214994469173, -41.0)\n",
      "[[1. 0. 0. 0.]]\n",
      "(55.59819447873041, 150.9674900585958, -33.5)\n",
      "[[1. 0. 0. 0.]]\n",
      "(52.01728190538944, 150.51302970533655, -36.5)\n",
      "[[1. 0. 0. 0.]]\n",
      "(51.80131482398157, 153.18740832052922, -34.0)\n",
      "[[1. 0. 0. 0.]]\n"
     ]
    },
    {
     "name": "stderr",
     "output_type": "stream",
     "text": [
      "C:\\Users\\smhrd\\AppData\\Local\\Temp\\ipykernel_15348\\2774937686.py:68: FutureWarning: The frame.append method is deprecated and will be removed from pandas in a future version. Use pandas.concat instead.\n",
      "  df = df.append([globals()[f'list']])\n",
      "C:\\Users\\smhrd\\AppData\\Roaming\\Python\\Python39\\site-packages\\sklearn\\base.py:450: UserWarning: X does not have valid feature names, but KNeighborsClassifier was fitted with feature names\n",
      "  warnings.warn(\n",
      "C:\\Users\\smhrd\\AppData\\Local\\Temp\\ipykernel_15348\\2774937686.py:68: FutureWarning: The frame.append method is deprecated and will be removed from pandas in a future version. Use pandas.concat instead.\n",
      "  df = df.append([globals()[f'list']])\n",
      "C:\\Users\\smhrd\\AppData\\Roaming\\Python\\Python39\\site-packages\\sklearn\\base.py:450: UserWarning: X does not have valid feature names, but KNeighborsClassifier was fitted with feature names\n",
      "  warnings.warn(\n",
      "C:\\Users\\smhrd\\AppData\\Local\\Temp\\ipykernel_15348\\2774937686.py:68: FutureWarning: The frame.append method is deprecated and will be removed from pandas in a future version. Use pandas.concat instead.\n",
      "  df = df.append([globals()[f'list']])\n",
      "C:\\Users\\smhrd\\AppData\\Roaming\\Python\\Python39\\site-packages\\sklearn\\base.py:450: UserWarning: X does not have valid feature names, but KNeighborsClassifier was fitted with feature names\n",
      "  warnings.warn(\n",
      "C:\\Users\\smhrd\\AppData\\Local\\Temp\\ipykernel_15348\\2774937686.py:68: FutureWarning: The frame.append method is deprecated and will be removed from pandas in a future version. Use pandas.concat instead.\n",
      "  df = df.append([globals()[f'list']])\n",
      "C:\\Users\\smhrd\\AppData\\Roaming\\Python\\Python39\\site-packages\\sklearn\\base.py:450: UserWarning: X does not have valid feature names, but KNeighborsClassifier was fitted with feature names\n",
      "  warnings.warn(\n"
     ]
    },
    {
     "name": "stdout",
     "output_type": "stream",
     "text": [
      "(51.91006080459521, 153.2229950623735, -32.5)\n",
      "[[1. 0. 0. 0.]]\n",
      "(52.401159070957334, 152.56540966891785, -31.5)\n",
      "[[1. 0. 0. 0.]]\n",
      "(52.118725639713944, 151.9975920715037, -35.0)\n",
      "[[1. 0. 0. 0.]]\n",
      "(51.74163874613831, 149.15908889403917, -36.5)\n",
      "[[1. 0. 0. 0.]]\n"
     ]
    },
    {
     "name": "stderr",
     "output_type": "stream",
     "text": [
      "C:\\Users\\smhrd\\AppData\\Local\\Temp\\ipykernel_15348\\2774937686.py:68: FutureWarning: The frame.append method is deprecated and will be removed from pandas in a future version. Use pandas.concat instead.\n",
      "  df = df.append([globals()[f'list']])\n",
      "C:\\Users\\smhrd\\AppData\\Roaming\\Python\\Python39\\site-packages\\sklearn\\base.py:450: UserWarning: X does not have valid feature names, but KNeighborsClassifier was fitted with feature names\n",
      "  warnings.warn(\n",
      "C:\\Users\\smhrd\\AppData\\Local\\Temp\\ipykernel_15348\\2774937686.py:68: FutureWarning: The frame.append method is deprecated and will be removed from pandas in a future version. Use pandas.concat instead.\n",
      "  df = df.append([globals()[f'list']])\n",
      "C:\\Users\\smhrd\\AppData\\Roaming\\Python\\Python39\\site-packages\\sklearn\\base.py:450: UserWarning: X does not have valid feature names, but KNeighborsClassifier was fitted with feature names\n",
      "  warnings.warn(\n",
      "C:\\Users\\smhrd\\AppData\\Local\\Temp\\ipykernel_15348\\2774937686.py:68: FutureWarning: The frame.append method is deprecated and will be removed from pandas in a future version. Use pandas.concat instead.\n",
      "  df = df.append([globals()[f'list']])\n",
      "C:\\Users\\smhrd\\AppData\\Roaming\\Python\\Python39\\site-packages\\sklearn\\base.py:450: UserWarning: X does not have valid feature names, but KNeighborsClassifier was fitted with feature names\n",
      "  warnings.warn(\n",
      "C:\\Users\\smhrd\\AppData\\Local\\Temp\\ipykernel_15348\\2774937686.py:68: FutureWarning: The frame.append method is deprecated and will be removed from pandas in a future version. Use pandas.concat instead.\n",
      "  df = df.append([globals()[f'list']])\n",
      "C:\\Users\\smhrd\\AppData\\Roaming\\Python\\Python39\\site-packages\\sklearn\\base.py:450: UserWarning: X does not have valid feature names, but KNeighborsClassifier was fitted with feature names\n",
      "  warnings.warn(\n"
     ]
    },
    {
     "name": "stdout",
     "output_type": "stream",
     "text": [
      "(52.68731413244614, 148.233017004609, -40.5)\n",
      "[[1. 0. 0. 0.]]\n",
      "(51.92377583337939, 149.02976125451136, -38.0)\n",
      "[[1. 0. 0. 0.]]\n",
      "(51.148666325654034, 151.97154087636363, -35.0)\n",
      "[[1. 0. 0. 0.]]\n",
      "(54.503176371624924, 152.29002351173358, -36.0)\n",
      "[[1. 0. 0. 0.]]\n"
     ]
    },
    {
     "name": "stderr",
     "output_type": "stream",
     "text": [
      "C:\\Users\\smhrd\\AppData\\Local\\Temp\\ipykernel_15348\\2774937686.py:68: FutureWarning: The frame.append method is deprecated and will be removed from pandas in a future version. Use pandas.concat instead.\n",
      "  df = df.append([globals()[f'list']])\n",
      "C:\\Users\\smhrd\\AppData\\Roaming\\Python\\Python39\\site-packages\\sklearn\\base.py:450: UserWarning: X does not have valid feature names, but KNeighborsClassifier was fitted with feature names\n",
      "  warnings.warn(\n",
      "C:\\Users\\smhrd\\AppData\\Local\\Temp\\ipykernel_15348\\2774937686.py:68: FutureWarning: The frame.append method is deprecated and will be removed from pandas in a future version. Use pandas.concat instead.\n",
      "  df = df.append([globals()[f'list']])\n",
      "C:\\Users\\smhrd\\AppData\\Roaming\\Python\\Python39\\site-packages\\sklearn\\base.py:450: UserWarning: X does not have valid feature names, but KNeighborsClassifier was fitted with feature names\n",
      "  warnings.warn(\n",
      "C:\\Users\\smhrd\\AppData\\Local\\Temp\\ipykernel_15348\\2774937686.py:68: FutureWarning: The frame.append method is deprecated and will be removed from pandas in a future version. Use pandas.concat instead.\n",
      "  df = df.append([globals()[f'list']])\n",
      "C:\\Users\\smhrd\\AppData\\Roaming\\Python\\Python39\\site-packages\\sklearn\\base.py:450: UserWarning: X does not have valid feature names, but KNeighborsClassifier was fitted with feature names\n",
      "  warnings.warn(\n",
      "C:\\Users\\smhrd\\AppData\\Local\\Temp\\ipykernel_15348\\2774937686.py:68: FutureWarning: The frame.append method is deprecated and will be removed from pandas in a future version. Use pandas.concat instead.\n",
      "  df = df.append([globals()[f'list']])\n",
      "C:\\Users\\smhrd\\AppData\\Roaming\\Python\\Python39\\site-packages\\sklearn\\base.py:450: UserWarning: X does not have valid feature names, but KNeighborsClassifier was fitted with feature names\n",
      "  warnings.warn(\n"
     ]
    },
    {
     "name": "stdout",
     "output_type": "stream",
     "text": [
      "(55.654260078186724, 148.90729321982127, -36.0)\n",
      "[[1. 0. 0. 0.]]\n",
      "(52.69980611422095, 153.10876709755516, -34.0)\n",
      "[[1. 0. 0. 0.]]\n",
      "(54.11480432825586, 154.16242527297084, -35.5)\n",
      "[[1. 0. 0. 0.]]\n",
      "(52.174481126035325, 155.89131941555905, -32.5)\n",
      "[[1. 0. 0. 0.]]\n"
     ]
    },
    {
     "name": "stderr",
     "output_type": "stream",
     "text": [
      "C:\\Users\\smhrd\\AppData\\Local\\Temp\\ipykernel_15348\\2774937686.py:68: FutureWarning: The frame.append method is deprecated and will be removed from pandas in a future version. Use pandas.concat instead.\n",
      "  df = df.append([globals()[f'list']])\n",
      "C:\\Users\\smhrd\\AppData\\Roaming\\Python\\Python39\\site-packages\\sklearn\\base.py:450: UserWarning: X does not have valid feature names, but KNeighborsClassifier was fitted with feature names\n",
      "  warnings.warn(\n",
      "C:\\Users\\smhrd\\AppData\\Local\\Temp\\ipykernel_15348\\2774937686.py:68: FutureWarning: The frame.append method is deprecated and will be removed from pandas in a future version. Use pandas.concat instead.\n",
      "  df = df.append([globals()[f'list']])\n",
      "C:\\Users\\smhrd\\AppData\\Roaming\\Python\\Python39\\site-packages\\sklearn\\base.py:450: UserWarning: X does not have valid feature names, but KNeighborsClassifier was fitted with feature names\n",
      "  warnings.warn(\n",
      "C:\\Users\\smhrd\\AppData\\Local\\Temp\\ipykernel_15348\\2774937686.py:68: FutureWarning: The frame.append method is deprecated and will be removed from pandas in a future version. Use pandas.concat instead.\n",
      "  df = df.append([globals()[f'list']])\n",
      "C:\\Users\\smhrd\\AppData\\Roaming\\Python\\Python39\\site-packages\\sklearn\\base.py:450: UserWarning: X does not have valid feature names, but KNeighborsClassifier was fitted with feature names\n",
      "  warnings.warn(\n",
      "C:\\Users\\smhrd\\AppData\\Local\\Temp\\ipykernel_15348\\2774937686.py:68: FutureWarning: The frame.append method is deprecated and will be removed from pandas in a future version. Use pandas.concat instead.\n",
      "  df = df.append([globals()[f'list']])\n",
      "C:\\Users\\smhrd\\AppData\\Roaming\\Python\\Python39\\site-packages\\sklearn\\base.py:450: UserWarning: X does not have valid feature names, but KNeighborsClassifier was fitted with feature names\n",
      "  warnings.warn(\n"
     ]
    },
    {
     "name": "stdout",
     "output_type": "stream",
     "text": [
      "(52.1453493221912, 155.11141334681662, -33.0)\n",
      "[[1. 0. 0. 0.]]\n",
      "(51.79771352418506, 152.91774347638167, -34.5)\n",
      "[[1. 0. 0. 0.]]\n",
      "(52.82175442423588, 156.15396377974648, -34.5)\n",
      "[[1. 0. 0. 0.]]\n",
      "(51.840538134000916, 156.97847557396437, -32.0)\n",
      "[[1. 0. 0. 0.]]\n"
     ]
    },
    {
     "name": "stderr",
     "output_type": "stream",
     "text": [
      "C:\\Users\\smhrd\\AppData\\Local\\Temp\\ipykernel_15348\\2774937686.py:68: FutureWarning: The frame.append method is deprecated and will be removed from pandas in a future version. Use pandas.concat instead.\n",
      "  df = df.append([globals()[f'list']])\n",
      "C:\\Users\\smhrd\\AppData\\Roaming\\Python\\Python39\\site-packages\\sklearn\\base.py:450: UserWarning: X does not have valid feature names, but KNeighborsClassifier was fitted with feature names\n",
      "  warnings.warn(\n",
      "C:\\Users\\smhrd\\AppData\\Local\\Temp\\ipykernel_15348\\2774937686.py:68: FutureWarning: The frame.append method is deprecated and will be removed from pandas in a future version. Use pandas.concat instead.\n",
      "  df = df.append([globals()[f'list']])\n",
      "C:\\Users\\smhrd\\AppData\\Roaming\\Python\\Python39\\site-packages\\sklearn\\base.py:450: UserWarning: X does not have valid feature names, but KNeighborsClassifier was fitted with feature names\n",
      "  warnings.warn(\n",
      "C:\\Users\\smhrd\\AppData\\Local\\Temp\\ipykernel_15348\\2774937686.py:68: FutureWarning: The frame.append method is deprecated and will be removed from pandas in a future version. Use pandas.concat instead.\n",
      "  df = df.append([globals()[f'list']])\n",
      "C:\\Users\\smhrd\\AppData\\Roaming\\Python\\Python39\\site-packages\\sklearn\\base.py:450: UserWarning: X does not have valid feature names, but KNeighborsClassifier was fitted with feature names\n",
      "  warnings.warn(\n",
      "C:\\Users\\smhrd\\AppData\\Local\\Temp\\ipykernel_15348\\2774937686.py:68: FutureWarning: The frame.append method is deprecated and will be removed from pandas in a future version. Use pandas.concat instead.\n",
      "  df = df.append([globals()[f'list']])\n",
      "C:\\Users\\smhrd\\AppData\\Roaming\\Python\\Python39\\site-packages\\sklearn\\base.py:450: UserWarning: X does not have valid feature names, but KNeighborsClassifier was fitted with feature names\n",
      "  warnings.warn(\n"
     ]
    },
    {
     "name": "stdout",
     "output_type": "stream",
     "text": [
      "(50.99611806909893, 158.02657848276232, -30.0)\n",
      "[[1. 0. 0. 0.]]\n",
      "(52.053313950530665, 157.89000670283082, -31.5)\n",
      "[[1. 0. 0. 0.]]\n",
      "(51.276379481661785, 158.51802662433352, -32.0)\n",
      "[[1. 0. 0. 0.]]\n",
      "(50.681972339230086, 161.05051528388918, -31.0)\n",
      "[[1. 0. 0. 0.]]\n"
     ]
    },
    {
     "name": "stderr",
     "output_type": "stream",
     "text": [
      "C:\\Users\\smhrd\\AppData\\Local\\Temp\\ipykernel_15348\\2774937686.py:68: FutureWarning: The frame.append method is deprecated and will be removed from pandas in a future version. Use pandas.concat instead.\n",
      "  df = df.append([globals()[f'list']])\n",
      "C:\\Users\\smhrd\\AppData\\Roaming\\Python\\Python39\\site-packages\\sklearn\\base.py:450: UserWarning: X does not have valid feature names, but KNeighborsClassifier was fitted with feature names\n",
      "  warnings.warn(\n",
      "C:\\Users\\smhrd\\AppData\\Local\\Temp\\ipykernel_15348\\2774937686.py:68: FutureWarning: The frame.append method is deprecated and will be removed from pandas in a future version. Use pandas.concat instead.\n",
      "  df = df.append([globals()[f'list']])\n",
      "C:\\Users\\smhrd\\AppData\\Roaming\\Python\\Python39\\site-packages\\sklearn\\base.py:450: UserWarning: X does not have valid feature names, but KNeighborsClassifier was fitted with feature names\n",
      "  warnings.warn(\n",
      "C:\\Users\\smhrd\\AppData\\Local\\Temp\\ipykernel_15348\\2774937686.py:68: FutureWarning: The frame.append method is deprecated and will be removed from pandas in a future version. Use pandas.concat instead.\n",
      "  df = df.append([globals()[f'list']])\n",
      "C:\\Users\\smhrd\\AppData\\Roaming\\Python\\Python39\\site-packages\\sklearn\\base.py:450: UserWarning: X does not have valid feature names, but KNeighborsClassifier was fitted with feature names\n",
      "  warnings.warn(\n",
      "C:\\Users\\smhrd\\AppData\\Local\\Temp\\ipykernel_15348\\2774937686.py:68: FutureWarning: The frame.append method is deprecated and will be removed from pandas in a future version. Use pandas.concat instead.\n",
      "  df = df.append([globals()[f'list']])\n",
      "C:\\Users\\smhrd\\AppData\\Roaming\\Python\\Python39\\site-packages\\sklearn\\base.py:450: UserWarning: X does not have valid feature names, but KNeighborsClassifier was fitted with feature names\n",
      "  warnings.warn(\n"
     ]
    },
    {
     "name": "stdout",
     "output_type": "stream",
     "text": [
      "(48.43055215142282, 158.07358159410128, -28.0)\n",
      "[[1. 0. 0. 0.]]\n",
      "(46.352365189767355, 156.0945059139099, -28.5)\n",
      "[[1. 0. 0. 0.]]\n",
      "(48.185951090120405, 152.39605677099874, -32.5)\n",
      "[[1. 0. 0. 0.]]\n",
      "(45.42061038384896, 152.33799929284996, -30.5)\n",
      "[[1. 0. 0. 0.]]\n"
     ]
    },
    {
     "name": "stderr",
     "output_type": "stream",
     "text": [
      "C:\\Users\\smhrd\\AppData\\Local\\Temp\\ipykernel_15348\\2774937686.py:68: FutureWarning: The frame.append method is deprecated and will be removed from pandas in a future version. Use pandas.concat instead.\n",
      "  df = df.append([globals()[f'list']])\n",
      "C:\\Users\\smhrd\\AppData\\Roaming\\Python\\Python39\\site-packages\\sklearn\\base.py:450: UserWarning: X does not have valid feature names, but KNeighborsClassifier was fitted with feature names\n",
      "  warnings.warn(\n",
      "C:\\Users\\smhrd\\AppData\\Local\\Temp\\ipykernel_15348\\2774937686.py:68: FutureWarning: The frame.append method is deprecated and will be removed from pandas in a future version. Use pandas.concat instead.\n",
      "  df = df.append([globals()[f'list']])\n",
      "C:\\Users\\smhrd\\AppData\\Roaming\\Python\\Python39\\site-packages\\sklearn\\base.py:450: UserWarning: X does not have valid feature names, but KNeighborsClassifier was fitted with feature names\n",
      "  warnings.warn(\n",
      "C:\\Users\\smhrd\\AppData\\Local\\Temp\\ipykernel_15348\\2774937686.py:68: FutureWarning: The frame.append method is deprecated and will be removed from pandas in a future version. Use pandas.concat instead.\n",
      "  df = df.append([globals()[f'list']])\n",
      "C:\\Users\\smhrd\\AppData\\Roaming\\Python\\Python39\\site-packages\\sklearn\\base.py:450: UserWarning: X does not have valid feature names, but KNeighborsClassifier was fitted with feature names\n",
      "  warnings.warn(\n",
      "C:\\Users\\smhrd\\AppData\\Local\\Temp\\ipykernel_15348\\2774937686.py:68: FutureWarning: The frame.append method is deprecated and will be removed from pandas in a future version. Use pandas.concat instead.\n",
      "  df = df.append([globals()[f'list']])\n",
      "C:\\Users\\smhrd\\AppData\\Roaming\\Python\\Python39\\site-packages\\sklearn\\base.py:450: UserWarning: X does not have valid feature names, but KNeighborsClassifier was fitted with feature names\n",
      "  warnings.warn(\n"
     ]
    },
    {
     "name": "stdout",
     "output_type": "stream",
     "text": [
      "(46.01963570280771, 150.6188978708331, -32.5)\n",
      "[[1. 0. 0. 0.]]\n",
      "(46.0795414542642, 146.87163780658676, -34.0)\n",
      "[[1. 0. 0. 0.]]\n",
      "(44.26339737301771, 148.51696637146657, -35.5)\n",
      "[[1. 0. 0. 0.]]\n",
      "(47.66042210701938, 151.73181792428187, -32.0)\n",
      "[[1. 0. 0. 0.]]\n"
     ]
    },
    {
     "name": "stderr",
     "output_type": "stream",
     "text": [
      "C:\\Users\\smhrd\\AppData\\Local\\Temp\\ipykernel_15348\\2774937686.py:68: FutureWarning: The frame.append method is deprecated and will be removed from pandas in a future version. Use pandas.concat instead.\n",
      "  df = df.append([globals()[f'list']])\n",
      "C:\\Users\\smhrd\\AppData\\Roaming\\Python\\Python39\\site-packages\\sklearn\\base.py:450: UserWarning: X does not have valid feature names, but KNeighborsClassifier was fitted with feature names\n",
      "  warnings.warn(\n",
      "C:\\Users\\smhrd\\AppData\\Local\\Temp\\ipykernel_15348\\2774937686.py:68: FutureWarning: The frame.append method is deprecated and will be removed from pandas in a future version. Use pandas.concat instead.\n",
      "  df = df.append([globals()[f'list']])\n",
      "C:\\Users\\smhrd\\AppData\\Roaming\\Python\\Python39\\site-packages\\sklearn\\base.py:450: UserWarning: X does not have valid feature names, but KNeighborsClassifier was fitted with feature names\n",
      "  warnings.warn(\n",
      "C:\\Users\\smhrd\\AppData\\Local\\Temp\\ipykernel_15348\\2774937686.py:68: FutureWarning: The frame.append method is deprecated and will be removed from pandas in a future version. Use pandas.concat instead.\n",
      "  df = df.append([globals()[f'list']])\n",
      "C:\\Users\\smhrd\\AppData\\Roaming\\Python\\Python39\\site-packages\\sklearn\\base.py:450: UserWarning: X does not have valid feature names, but KNeighborsClassifier was fitted with feature names\n",
      "  warnings.warn(\n",
      "C:\\Users\\smhrd\\AppData\\Local\\Temp\\ipykernel_15348\\2774937686.py:68: FutureWarning: The frame.append method is deprecated and will be removed from pandas in a future version. Use pandas.concat instead.\n",
      "  df = df.append([globals()[f'list']])\n",
      "C:\\Users\\smhrd\\AppData\\Roaming\\Python\\Python39\\site-packages\\sklearn\\base.py:450: UserWarning: X does not have valid feature names, but KNeighborsClassifier was fitted with feature names\n",
      "  warnings.warn(\n"
     ]
    },
    {
     "name": "stdout",
     "output_type": "stream",
     "text": [
      "(45.86655455810508, 150.16802279367292, -32.0)\n",
      "[[1. 0. 0. 0.]]\n",
      "(43.85997453948939, 149.84615440452026, -32.5)\n",
      "[[1. 0. 0. 0.]]\n",
      "(48.94163407237975, 146.8855769863935, -34.5)\n",
      "[[1. 0. 0. 0.]]\n",
      "(47.38923146909537, 149.9733784902098, -32.5)\n",
      "[[1. 0. 0. 0.]]\n"
     ]
    },
    {
     "name": "stderr",
     "output_type": "stream",
     "text": [
      "C:\\Users\\smhrd\\AppData\\Local\\Temp\\ipykernel_15348\\2774937686.py:68: FutureWarning: The frame.append method is deprecated and will be removed from pandas in a future version. Use pandas.concat instead.\n",
      "  df = df.append([globals()[f'list']])\n",
      "C:\\Users\\smhrd\\AppData\\Roaming\\Python\\Python39\\site-packages\\sklearn\\base.py:450: UserWarning: X does not have valid feature names, but KNeighborsClassifier was fitted with feature names\n",
      "  warnings.warn(\n",
      "C:\\Users\\smhrd\\AppData\\Local\\Temp\\ipykernel_15348\\2774937686.py:68: FutureWarning: The frame.append method is deprecated and will be removed from pandas in a future version. Use pandas.concat instead.\n",
      "  df = df.append([globals()[f'list']])\n",
      "C:\\Users\\smhrd\\AppData\\Roaming\\Python\\Python39\\site-packages\\sklearn\\base.py:450: UserWarning: X does not have valid feature names, but KNeighborsClassifier was fitted with feature names\n",
      "  warnings.warn(\n",
      "C:\\Users\\smhrd\\AppData\\Local\\Temp\\ipykernel_15348\\2774937686.py:68: FutureWarning: The frame.append method is deprecated and will be removed from pandas in a future version. Use pandas.concat instead.\n",
      "  df = df.append([globals()[f'list']])\n",
      "C:\\Users\\smhrd\\AppData\\Roaming\\Python\\Python39\\site-packages\\sklearn\\base.py:450: UserWarning: X does not have valid feature names, but KNeighborsClassifier was fitted with feature names\n",
      "  warnings.warn(\n",
      "C:\\Users\\smhrd\\AppData\\Local\\Temp\\ipykernel_15348\\2774937686.py:68: FutureWarning: The frame.append method is deprecated and will be removed from pandas in a future version. Use pandas.concat instead.\n",
      "  df = df.append([globals()[f'list']])\n",
      "C:\\Users\\smhrd\\AppData\\Roaming\\Python\\Python39\\site-packages\\sklearn\\base.py:450: UserWarning: X does not have valid feature names, but KNeighborsClassifier was fitted with feature names\n",
      "  warnings.warn(\n"
     ]
    },
    {
     "name": "stdout",
     "output_type": "stream",
     "text": [
      "(46.560044117430394, 151.6991672574732, -33.0)\n",
      "[[1. 0. 0. 0.]]\n",
      "(45.123444086185216, 151.73669552269772, -33.0)\n",
      "[[1. 0. 0. 0.]]\n",
      "(48.45022452174343, 150.37808060369102, -34.5)\n",
      "[[1. 0. 0. 0.]]\n",
      "(48.64430900906608, 150.44911364910706, -33.5)\n",
      "[[1. 0. 0. 0.]]\n"
     ]
    },
    {
     "name": "stderr",
     "output_type": "stream",
     "text": [
      "C:\\Users\\smhrd\\AppData\\Local\\Temp\\ipykernel_15348\\2774937686.py:68: FutureWarning: The frame.append method is deprecated and will be removed from pandas in a future version. Use pandas.concat instead.\n",
      "  df = df.append([globals()[f'list']])\n",
      "C:\\Users\\smhrd\\AppData\\Roaming\\Python\\Python39\\site-packages\\sklearn\\base.py:450: UserWarning: X does not have valid feature names, but KNeighborsClassifier was fitted with feature names\n",
      "  warnings.warn(\n",
      "C:\\Users\\smhrd\\AppData\\Local\\Temp\\ipykernel_15348\\2774937686.py:68: FutureWarning: The frame.append method is deprecated and will be removed from pandas in a future version. Use pandas.concat instead.\n",
      "  df = df.append([globals()[f'list']])\n",
      "C:\\Users\\smhrd\\AppData\\Roaming\\Python\\Python39\\site-packages\\sklearn\\base.py:450: UserWarning: X does not have valid feature names, but KNeighborsClassifier was fitted with feature names\n",
      "  warnings.warn(\n",
      "C:\\Users\\smhrd\\AppData\\Local\\Temp\\ipykernel_15348\\2774937686.py:68: FutureWarning: The frame.append method is deprecated and will be removed from pandas in a future version. Use pandas.concat instead.\n",
      "  df = df.append([globals()[f'list']])\n",
      "C:\\Users\\smhrd\\AppData\\Roaming\\Python\\Python39\\site-packages\\sklearn\\base.py:450: UserWarning: X does not have valid feature names, but KNeighborsClassifier was fitted with feature names\n",
      "  warnings.warn(\n",
      "C:\\Users\\smhrd\\AppData\\Local\\Temp\\ipykernel_15348\\2774937686.py:68: FutureWarning: The frame.append method is deprecated and will be removed from pandas in a future version. Use pandas.concat instead.\n",
      "  df = df.append([globals()[f'list']])\n",
      "C:\\Users\\smhrd\\AppData\\Roaming\\Python\\Python39\\site-packages\\sklearn\\base.py:450: UserWarning: X does not have valid feature names, but KNeighborsClassifier was fitted with feature names\n",
      "  warnings.warn(\n"
     ]
    },
    {
     "name": "stdout",
     "output_type": "stream",
     "text": [
      "(46.522120394709766, 149.65099386755497, -32.5)\n",
      "[[1. 0. 0. 0.]]\n",
      "(45.83577361705779, 150.05745488801043, -36.5)\n",
      "[[1. 0. 0. 0.]]\n",
      "(47.066960858330354, 148.76081500639043, -37.0)\n",
      "[[1. 0. 0. 0.]]\n",
      "(49.326466714749685, 148.90616919425318, -35.5)\n",
      "[[1. 0. 0. 0.]]\n"
     ]
    },
    {
     "name": "stderr",
     "output_type": "stream",
     "text": [
      "C:\\Users\\smhrd\\AppData\\Local\\Temp\\ipykernel_15348\\2774937686.py:68: FutureWarning: The frame.append method is deprecated and will be removed from pandas in a future version. Use pandas.concat instead.\n",
      "  df = df.append([globals()[f'list']])\n",
      "C:\\Users\\smhrd\\AppData\\Roaming\\Python\\Python39\\site-packages\\sklearn\\base.py:450: UserWarning: X does not have valid feature names, but KNeighborsClassifier was fitted with feature names\n",
      "  warnings.warn(\n",
      "C:\\Users\\smhrd\\AppData\\Local\\Temp\\ipykernel_15348\\2774937686.py:68: FutureWarning: The frame.append method is deprecated and will be removed from pandas in a future version. Use pandas.concat instead.\n",
      "  df = df.append([globals()[f'list']])\n",
      "C:\\Users\\smhrd\\AppData\\Roaming\\Python\\Python39\\site-packages\\sklearn\\base.py:450: UserWarning: X does not have valid feature names, but KNeighborsClassifier was fitted with feature names\n",
      "  warnings.warn(\n",
      "C:\\Users\\smhrd\\AppData\\Local\\Temp\\ipykernel_15348\\2774937686.py:68: FutureWarning: The frame.append method is deprecated and will be removed from pandas in a future version. Use pandas.concat instead.\n",
      "  df = df.append([globals()[f'list']])\n",
      "C:\\Users\\smhrd\\AppData\\Roaming\\Python\\Python39\\site-packages\\sklearn\\base.py:450: UserWarning: X does not have valid feature names, but KNeighborsClassifier was fitted with feature names\n",
      "  warnings.warn(\n",
      "C:\\Users\\smhrd\\AppData\\Local\\Temp\\ipykernel_15348\\2774937686.py:68: FutureWarning: The frame.append method is deprecated and will be removed from pandas in a future version. Use pandas.concat instead.\n",
      "  df = df.append([globals()[f'list']])\n",
      "C:\\Users\\smhrd\\AppData\\Roaming\\Python\\Python39\\site-packages\\sklearn\\base.py:450: UserWarning: X does not have valid feature names, but KNeighborsClassifier was fitted with feature names\n",
      "  warnings.warn(\n"
     ]
    },
    {
     "name": "stdout",
     "output_type": "stream",
     "text": [
      "(49.45030885591495, 149.4839370348457, -36.5)\n",
      "[[1. 0. 0. 0.]]\n",
      "(45.80146429583095, 147.76672521047985, -37.0)\n",
      "[[1. 0. 0. 0.]]\n",
      "(48.31856054975183, 151.58373823080282, -34.5)\n",
      "[[1. 0. 0. 0.]]\n",
      "(46.56986327017606, 147.65807412392388, -35.5)\n",
      "[[1. 0. 0. 0.]]\n"
     ]
    },
    {
     "name": "stderr",
     "output_type": "stream",
     "text": [
      "C:\\Users\\smhrd\\AppData\\Local\\Temp\\ipykernel_15348\\2774937686.py:68: FutureWarning: The frame.append method is deprecated and will be removed from pandas in a future version. Use pandas.concat instead.\n",
      "  df = df.append([globals()[f'list']])\n",
      "C:\\Users\\smhrd\\AppData\\Roaming\\Python\\Python39\\site-packages\\sklearn\\base.py:450: UserWarning: X does not have valid feature names, but KNeighborsClassifier was fitted with feature names\n",
      "  warnings.warn(\n",
      "C:\\Users\\smhrd\\AppData\\Local\\Temp\\ipykernel_15348\\2774937686.py:68: FutureWarning: The frame.append method is deprecated and will be removed from pandas in a future version. Use pandas.concat instead.\n",
      "  df = df.append([globals()[f'list']])\n",
      "C:\\Users\\smhrd\\AppData\\Roaming\\Python\\Python39\\site-packages\\sklearn\\base.py:450: UserWarning: X does not have valid feature names, but KNeighborsClassifier was fitted with feature names\n",
      "  warnings.warn(\n",
      "C:\\Users\\smhrd\\AppData\\Local\\Temp\\ipykernel_15348\\2774937686.py:68: FutureWarning: The frame.append method is deprecated and will be removed from pandas in a future version. Use pandas.concat instead.\n",
      "  df = df.append([globals()[f'list']])\n",
      "C:\\Users\\smhrd\\AppData\\Roaming\\Python\\Python39\\site-packages\\sklearn\\base.py:450: UserWarning: X does not have valid feature names, but KNeighborsClassifier was fitted with feature names\n",
      "  warnings.warn(\n",
      "C:\\Users\\smhrd\\AppData\\Local\\Temp\\ipykernel_15348\\2774937686.py:68: FutureWarning: The frame.append method is deprecated and will be removed from pandas in a future version. Use pandas.concat instead.\n",
      "  df = df.append([globals()[f'list']])\n",
      "C:\\Users\\smhrd\\AppData\\Roaming\\Python\\Python39\\site-packages\\sklearn\\base.py:450: UserWarning: X does not have valid feature names, but KNeighborsClassifier was fitted with feature names\n",
      "  warnings.warn(\n"
     ]
    },
    {
     "name": "stdout",
     "output_type": "stream",
     "text": [
      "(45.39199284519465, 149.28654842430413, -35.0)\n",
      "[[1. 0. 0. 0.]]\n",
      "(47.41381498922848, 150.81068563646653, -33.5)\n",
      "[[1. 0. 0. 0.]]\n",
      "(46.13953698121605, 153.12153341232766, -32.0)\n",
      "[[1. 0. 0. 0.]]\n",
      "(48.30843176974722, 151.96566102637107, -34.0)\n",
      "[[1. 0. 0. 0.]]\n"
     ]
    },
    {
     "name": "stderr",
     "output_type": "stream",
     "text": [
      "C:\\Users\\smhrd\\AppData\\Local\\Temp\\ipykernel_15348\\2774937686.py:68: FutureWarning: The frame.append method is deprecated and will be removed from pandas in a future version. Use pandas.concat instead.\n",
      "  df = df.append([globals()[f'list']])\n",
      "C:\\Users\\smhrd\\AppData\\Roaming\\Python\\Python39\\site-packages\\sklearn\\base.py:450: UserWarning: X does not have valid feature names, but KNeighborsClassifier was fitted with feature names\n",
      "  warnings.warn(\n",
      "C:\\Users\\smhrd\\AppData\\Local\\Temp\\ipykernel_15348\\2774937686.py:68: FutureWarning: The frame.append method is deprecated and will be removed from pandas in a future version. Use pandas.concat instead.\n",
      "  df = df.append([globals()[f'list']])\n",
      "C:\\Users\\smhrd\\AppData\\Roaming\\Python\\Python39\\site-packages\\sklearn\\base.py:450: UserWarning: X does not have valid feature names, but KNeighborsClassifier was fitted with feature names\n",
      "  warnings.warn(\n",
      "C:\\Users\\smhrd\\AppData\\Local\\Temp\\ipykernel_15348\\2774937686.py:68: FutureWarning: The frame.append method is deprecated and will be removed from pandas in a future version. Use pandas.concat instead.\n",
      "  df = df.append([globals()[f'list']])\n",
      "C:\\Users\\smhrd\\AppData\\Roaming\\Python\\Python39\\site-packages\\sklearn\\base.py:450: UserWarning: X does not have valid feature names, but KNeighborsClassifier was fitted with feature names\n",
      "  warnings.warn(\n",
      "C:\\Users\\smhrd\\AppData\\Local\\Temp\\ipykernel_15348\\2774937686.py:68: FutureWarning: The frame.append method is deprecated and will be removed from pandas in a future version. Use pandas.concat instead.\n",
      "  df = df.append([globals()[f'list']])\n",
      "C:\\Users\\smhrd\\AppData\\Roaming\\Python\\Python39\\site-packages\\sklearn\\base.py:450: UserWarning: X does not have valid feature names, but KNeighborsClassifier was fitted with feature names\n",
      "  warnings.warn(\n"
     ]
    },
    {
     "name": "stdout",
     "output_type": "stream",
     "text": [
      "(46.71343390963132, 153.05909014223883, -31.5)\n",
      "[[1. 0. 0. 0.]]\n",
      "(47.02274734034787, 151.2575226425206, -34.0)\n",
      "[[1. 0. 0. 0.]]\n",
      "(47.59062680927135, 151.58312434985572, -33.5)\n",
      "[[1. 0. 0. 0.]]\n",
      "(47.18472246162396, 151.58050792570043, -36.5)\n",
      "[[1. 0. 0. 0.]]\n"
     ]
    },
    {
     "name": "stderr",
     "output_type": "stream",
     "text": [
      "C:\\Users\\smhrd\\AppData\\Local\\Temp\\ipykernel_15348\\2774937686.py:68: FutureWarning: The frame.append method is deprecated and will be removed from pandas in a future version. Use pandas.concat instead.\n",
      "  df = df.append([globals()[f'list']])\n",
      "C:\\Users\\smhrd\\AppData\\Roaming\\Python\\Python39\\site-packages\\sklearn\\base.py:450: UserWarning: X does not have valid feature names, but KNeighborsClassifier was fitted with feature names\n",
      "  warnings.warn(\n",
      "C:\\Users\\smhrd\\AppData\\Local\\Temp\\ipykernel_15348\\2774937686.py:68: FutureWarning: The frame.append method is deprecated and will be removed from pandas in a future version. Use pandas.concat instead.\n",
      "  df = df.append([globals()[f'list']])\n",
      "C:\\Users\\smhrd\\AppData\\Roaming\\Python\\Python39\\site-packages\\sklearn\\base.py:450: UserWarning: X does not have valid feature names, but KNeighborsClassifier was fitted with feature names\n",
      "  warnings.warn(\n",
      "C:\\Users\\smhrd\\AppData\\Local\\Temp\\ipykernel_15348\\2774937686.py:68: FutureWarning: The frame.append method is deprecated and will be removed from pandas in a future version. Use pandas.concat instead.\n",
      "  df = df.append([globals()[f'list']])\n",
      "C:\\Users\\smhrd\\AppData\\Roaming\\Python\\Python39\\site-packages\\sklearn\\base.py:450: UserWarning: X does not have valid feature names, but KNeighborsClassifier was fitted with feature names\n",
      "  warnings.warn(\n",
      "C:\\Users\\smhrd\\AppData\\Local\\Temp\\ipykernel_15348\\2774937686.py:68: FutureWarning: The frame.append method is deprecated and will be removed from pandas in a future version. Use pandas.concat instead.\n",
      "  df = df.append([globals()[f'list']])\n",
      "C:\\Users\\smhrd\\AppData\\Roaming\\Python\\Python39\\site-packages\\sklearn\\base.py:450: UserWarning: X does not have valid feature names, but KNeighborsClassifier was fitted with feature names\n",
      "  warnings.warn(\n"
     ]
    },
    {
     "name": "stdout",
     "output_type": "stream",
     "text": [
      "(52.61116785359447, 153.72102670672143, -30.0)\n",
      "[[1. 0. 0. 0.]]\n",
      "(52.571669128035666, 150.15874452191898, -35.0)\n",
      "[[1. 0. 0. 0.]]\n",
      "(52.25015621257264, 151.09024114584804, -30.5)\n",
      "[[1. 0. 0. 0.]]\n",
      "(51.91915849951883, 148.4337705270303, -28.5)\n",
      "[[1. 0. 0. 0.]]\n"
     ]
    },
    {
     "name": "stderr",
     "output_type": "stream",
     "text": [
      "C:\\Users\\smhrd\\AppData\\Local\\Temp\\ipykernel_15348\\2774937686.py:68: FutureWarning: The frame.append method is deprecated and will be removed from pandas in a future version. Use pandas.concat instead.\n",
      "  df = df.append([globals()[f'list']])\n",
      "C:\\Users\\smhrd\\AppData\\Roaming\\Python\\Python39\\site-packages\\sklearn\\base.py:450: UserWarning: X does not have valid feature names, but KNeighborsClassifier was fitted with feature names\n",
      "  warnings.warn(\n",
      "C:\\Users\\smhrd\\AppData\\Local\\Temp\\ipykernel_15348\\2774937686.py:68: FutureWarning: The frame.append method is deprecated and will be removed from pandas in a future version. Use pandas.concat instead.\n",
      "  df = df.append([globals()[f'list']])\n",
      "C:\\Users\\smhrd\\AppData\\Roaming\\Python\\Python39\\site-packages\\sklearn\\base.py:450: UserWarning: X does not have valid feature names, but KNeighborsClassifier was fitted with feature names\n",
      "  warnings.warn(\n",
      "C:\\Users\\smhrd\\AppData\\Local\\Temp\\ipykernel_15348\\2774937686.py:68: FutureWarning: The frame.append method is deprecated and will be removed from pandas in a future version. Use pandas.concat instead.\n",
      "  df = df.append([globals()[f'list']])\n",
      "C:\\Users\\smhrd\\AppData\\Roaming\\Python\\Python39\\site-packages\\sklearn\\base.py:450: UserWarning: X does not have valid feature names, but KNeighborsClassifier was fitted with feature names\n",
      "  warnings.warn(\n",
      "C:\\Users\\smhrd\\AppData\\Local\\Temp\\ipykernel_15348\\2774937686.py:68: FutureWarning: The frame.append method is deprecated and will be removed from pandas in a future version. Use pandas.concat instead.\n",
      "  df = df.append([globals()[f'list']])\n",
      "C:\\Users\\smhrd\\AppData\\Roaming\\Python\\Python39\\site-packages\\sklearn\\base.py:450: UserWarning: X does not have valid feature names, but KNeighborsClassifier was fitted with feature names\n",
      "  warnings.warn(\n"
     ]
    },
    {
     "name": "stdout",
     "output_type": "stream",
     "text": [
      "(52.96438462061503, 148.98097595723863, -29.5)\n",
      "[[1. 0. 0. 0.]]\n",
      "(51.992351195585265, 148.48074452851952, -28.5)\n",
      "[[1. 0. 0. 0.]]\n",
      "(51.006831572117285, 148.13803491570408, -30.5)\n",
      "[[1. 0. 0. 0.]]\n",
      "(55.63649330565192, 144.11525839266716, -27.0)\n",
      "[[1. 0. 0. 0.]]\n"
     ]
    },
    {
     "name": "stderr",
     "output_type": "stream",
     "text": [
      "C:\\Users\\smhrd\\AppData\\Local\\Temp\\ipykernel_15348\\2774937686.py:68: FutureWarning: The frame.append method is deprecated and will be removed from pandas in a future version. Use pandas.concat instead.\n",
      "  df = df.append([globals()[f'list']])\n",
      "C:\\Users\\smhrd\\AppData\\Roaming\\Python\\Python39\\site-packages\\sklearn\\base.py:450: UserWarning: X does not have valid feature names, but KNeighborsClassifier was fitted with feature names\n",
      "  warnings.warn(\n",
      "C:\\Users\\smhrd\\AppData\\Local\\Temp\\ipykernel_15348\\2774937686.py:68: FutureWarning: The frame.append method is deprecated and will be removed from pandas in a future version. Use pandas.concat instead.\n",
      "  df = df.append([globals()[f'list']])\n",
      "C:\\Users\\smhrd\\AppData\\Roaming\\Python\\Python39\\site-packages\\sklearn\\base.py:450: UserWarning: X does not have valid feature names, but KNeighborsClassifier was fitted with feature names\n",
      "  warnings.warn(\n",
      "C:\\Users\\smhrd\\AppData\\Local\\Temp\\ipykernel_15348\\2774937686.py:68: FutureWarning: The frame.append method is deprecated and will be removed from pandas in a future version. Use pandas.concat instead.\n",
      "  df = df.append([globals()[f'list']])\n",
      "C:\\Users\\smhrd\\AppData\\Roaming\\Python\\Python39\\site-packages\\sklearn\\base.py:450: UserWarning: X does not have valid feature names, but KNeighborsClassifier was fitted with feature names\n",
      "  warnings.warn(\n",
      "C:\\Users\\smhrd\\AppData\\Local\\Temp\\ipykernel_15348\\2774937686.py:68: FutureWarning: The frame.append method is deprecated and will be removed from pandas in a future version. Use pandas.concat instead.\n",
      "  df = df.append([globals()[f'list']])\n",
      "C:\\Users\\smhrd\\AppData\\Roaming\\Python\\Python39\\site-packages\\sklearn\\base.py:450: UserWarning: X does not have valid feature names, but KNeighborsClassifier was fitted with feature names\n",
      "  warnings.warn(\n"
     ]
    },
    {
     "name": "stdout",
     "output_type": "stream",
     "text": [
      "(58.890811834717326, 144.54375767010865, -27.5)\n",
      "[[1. 0. 0. 0.]]\n",
      "(50.832604992744216, 141.74942641444756, -26.0)\n",
      "[[0.66666667 0.         0.33333333 0.        ]]\n",
      "(54.18041462437433, 144.13934384094574, -19.0)\n",
      "[[1. 0. 0. 0.]]\n",
      "(59.80014192885648, 145.62129475825017, -16.5)\n",
      "[[1. 0. 0. 0.]]\n"
     ]
    },
    {
     "name": "stderr",
     "output_type": "stream",
     "text": [
      "C:\\Users\\smhrd\\AppData\\Local\\Temp\\ipykernel_15348\\2774937686.py:68: FutureWarning: The frame.append method is deprecated and will be removed from pandas in a future version. Use pandas.concat instead.\n",
      "  df = df.append([globals()[f'list']])\n",
      "C:\\Users\\smhrd\\AppData\\Roaming\\Python\\Python39\\site-packages\\sklearn\\base.py:450: UserWarning: X does not have valid feature names, but KNeighborsClassifier was fitted with feature names\n",
      "  warnings.warn(\n",
      "C:\\Users\\smhrd\\AppData\\Local\\Temp\\ipykernel_15348\\2774937686.py:68: FutureWarning: The frame.append method is deprecated and will be removed from pandas in a future version. Use pandas.concat instead.\n",
      "  df = df.append([globals()[f'list']])\n",
      "C:\\Users\\smhrd\\AppData\\Roaming\\Python\\Python39\\site-packages\\sklearn\\base.py:450: UserWarning: X does not have valid feature names, but KNeighborsClassifier was fitted with feature names\n",
      "  warnings.warn(\n",
      "C:\\Users\\smhrd\\AppData\\Local\\Temp\\ipykernel_15348\\2774937686.py:68: FutureWarning: The frame.append method is deprecated and will be removed from pandas in a future version. Use pandas.concat instead.\n",
      "  df = df.append([globals()[f'list']])\n",
      "C:\\Users\\smhrd\\AppData\\Roaming\\Python\\Python39\\site-packages\\sklearn\\base.py:450: UserWarning: X does not have valid feature names, but KNeighborsClassifier was fitted with feature names\n",
      "  warnings.warn(\n",
      "C:\\Users\\smhrd\\AppData\\Local\\Temp\\ipykernel_15348\\2774937686.py:68: FutureWarning: The frame.append method is deprecated and will be removed from pandas in a future version. Use pandas.concat instead.\n",
      "  df = df.append([globals()[f'list']])\n",
      "C:\\Users\\smhrd\\AppData\\Roaming\\Python\\Python39\\site-packages\\sklearn\\base.py:450: UserWarning: X does not have valid feature names, but KNeighborsClassifier was fitted with feature names\n",
      "  warnings.warn(\n"
     ]
    },
    {
     "name": "stdout",
     "output_type": "stream",
     "text": [
      "(51.784396455773006, 145.7589814135252, -12.5)\n",
      "[[0.33333333 0.         0.66666667 0.        ]]\n",
      "(57.497482892956775, 144.49278248134576, -13.5)\n",
      "[[0.66666667 0.         0.33333333 0.        ]]\n",
      "(59.78581112929644, 148.48962290920923, -7.5)\n",
      "[[0.66666667 0.         0.33333333 0.        ]]\n",
      "(54.763752364034936, 148.68812988963518, -7.0)\n",
      "[[0.33333333 0.         0.66666667 0.        ]]\n"
     ]
    },
    {
     "name": "stderr",
     "output_type": "stream",
     "text": [
      "C:\\Users\\smhrd\\AppData\\Local\\Temp\\ipykernel_15348\\2774937686.py:68: FutureWarning: The frame.append method is deprecated and will be removed from pandas in a future version. Use pandas.concat instead.\n",
      "  df = df.append([globals()[f'list']])\n",
      "C:\\Users\\smhrd\\AppData\\Roaming\\Python\\Python39\\site-packages\\sklearn\\base.py:450: UserWarning: X does not have valid feature names, but KNeighborsClassifier was fitted with feature names\n",
      "  warnings.warn(\n",
      "C:\\Users\\smhrd\\AppData\\Local\\Temp\\ipykernel_15348\\2774937686.py:68: FutureWarning: The frame.append method is deprecated and will be removed from pandas in a future version. Use pandas.concat instead.\n",
      "  df = df.append([globals()[f'list']])\n",
      "C:\\Users\\smhrd\\AppData\\Roaming\\Python\\Python39\\site-packages\\sklearn\\base.py:450: UserWarning: X does not have valid feature names, but KNeighborsClassifier was fitted with feature names\n",
      "  warnings.warn(\n",
      "C:\\Users\\smhrd\\AppData\\Local\\Temp\\ipykernel_15348\\2774937686.py:68: FutureWarning: The frame.append method is deprecated and will be removed from pandas in a future version. Use pandas.concat instead.\n",
      "  df = df.append([globals()[f'list']])\n",
      "C:\\Users\\smhrd\\AppData\\Roaming\\Python\\Python39\\site-packages\\sklearn\\base.py:450: UserWarning: X does not have valid feature names, but KNeighborsClassifier was fitted with feature names\n",
      "  warnings.warn(\n",
      "C:\\Users\\smhrd\\AppData\\Local\\Temp\\ipykernel_15348\\2774937686.py:68: FutureWarning: The frame.append method is deprecated and will be removed from pandas in a future version. Use pandas.concat instead.\n",
      "  df = df.append([globals()[f'list']])\n",
      "C:\\Users\\smhrd\\AppData\\Roaming\\Python\\Python39\\site-packages\\sklearn\\base.py:450: UserWarning: X does not have valid feature names, but KNeighborsClassifier was fitted with feature names\n",
      "  warnings.warn(\n"
     ]
    },
    {
     "name": "stdout",
     "output_type": "stream",
     "text": [
      "(56.90970591909654, 151.79926549693113, -5.5)\n",
      "[[0.66666667 0.         0.33333333 0.        ]]\n",
      "(55.201010307024454, 151.93934539916802, -5.0)\n",
      "[[0.66666667 0.         0.33333333 0.        ]]\n",
      "(55.75337427773405, 150.61463138099776, -4.5)\n",
      "[[0.66666667 0.         0.33333333 0.        ]]\n",
      "(55.74608352049682, 153.20335483423432, -6.5)\n",
      "[[0.66666667 0.         0.33333333 0.        ]]\n"
     ]
    },
    {
     "name": "stderr",
     "output_type": "stream",
     "text": [
      "C:\\Users\\smhrd\\AppData\\Local\\Temp\\ipykernel_15348\\2774937686.py:68: FutureWarning: The frame.append method is deprecated and will be removed from pandas in a future version. Use pandas.concat instead.\n",
      "  df = df.append([globals()[f'list']])\n",
      "C:\\Users\\smhrd\\AppData\\Roaming\\Python\\Python39\\site-packages\\sklearn\\base.py:450: UserWarning: X does not have valid feature names, but KNeighborsClassifier was fitted with feature names\n",
      "  warnings.warn(\n",
      "C:\\Users\\smhrd\\AppData\\Local\\Temp\\ipykernel_15348\\2774937686.py:68: FutureWarning: The frame.append method is deprecated and will be removed from pandas in a future version. Use pandas.concat instead.\n",
      "  df = df.append([globals()[f'list']])\n",
      "C:\\Users\\smhrd\\AppData\\Roaming\\Python\\Python39\\site-packages\\sklearn\\base.py:450: UserWarning: X does not have valid feature names, but KNeighborsClassifier was fitted with feature names\n",
      "  warnings.warn(\n",
      "C:\\Users\\smhrd\\AppData\\Local\\Temp\\ipykernel_15348\\2774937686.py:68: FutureWarning: The frame.append method is deprecated and will be removed from pandas in a future version. Use pandas.concat instead.\n",
      "  df = df.append([globals()[f'list']])\n",
      "C:\\Users\\smhrd\\AppData\\Roaming\\Python\\Python39\\site-packages\\sklearn\\base.py:450: UserWarning: X does not have valid feature names, but KNeighborsClassifier was fitted with feature names\n",
      "  warnings.warn(\n"
     ]
    },
    {
     "name": "stdout",
     "output_type": "stream",
     "text": [
      "(61.23666510411379, 151.71034218269668, -7.5)\n",
      "[[0.66666667 0.         0.33333333 0.        ]]\n",
      "(56.86904897379783, 150.45211868442058, -8.0)\n",
      "[[0.66666667 0.         0.33333333 0.        ]]\n",
      "(57.425267893620735, 150.32770009254952, -8.0)\n",
      "[[0.66666667 0.         0.33333333 0.        ]]\n"
     ]
    },
    {
     "name": "stderr",
     "output_type": "stream",
     "text": [
      "C:\\Users\\smhrd\\AppData\\Local\\Temp\\ipykernel_15348\\2774937686.py:68: FutureWarning: The frame.append method is deprecated and will be removed from pandas in a future version. Use pandas.concat instead.\n",
      "  df = df.append([globals()[f'list']])\n",
      "C:\\Users\\smhrd\\AppData\\Roaming\\Python\\Python39\\site-packages\\sklearn\\base.py:450: UserWarning: X does not have valid feature names, but KNeighborsClassifier was fitted with feature names\n",
      "  warnings.warn(\n",
      "C:\\Users\\smhrd\\AppData\\Local\\Temp\\ipykernel_15348\\2774937686.py:68: FutureWarning: The frame.append method is deprecated and will be removed from pandas in a future version. Use pandas.concat instead.\n",
      "  df = df.append([globals()[f'list']])\n",
      "C:\\Users\\smhrd\\AppData\\Roaming\\Python\\Python39\\site-packages\\sklearn\\base.py:450: UserWarning: X does not have valid feature names, but KNeighborsClassifier was fitted with feature names\n",
      "  warnings.warn(\n",
      "C:\\Users\\smhrd\\AppData\\Local\\Temp\\ipykernel_15348\\2774937686.py:68: FutureWarning: The frame.append method is deprecated and will be removed from pandas in a future version. Use pandas.concat instead.\n",
      "  df = df.append([globals()[f'list']])\n",
      "C:\\Users\\smhrd\\AppData\\Roaming\\Python\\Python39\\site-packages\\sklearn\\base.py:450: UserWarning: X does not have valid feature names, but KNeighborsClassifier was fitted with feature names\n",
      "  warnings.warn(\n",
      "C:\\Users\\smhrd\\AppData\\Local\\Temp\\ipykernel_15348\\2774937686.py:68: FutureWarning: The frame.append method is deprecated and will be removed from pandas in a future version. Use pandas.concat instead.\n",
      "  df = df.append([globals()[f'list']])\n",
      "C:\\Users\\smhrd\\AppData\\Roaming\\Python\\Python39\\site-packages\\sklearn\\base.py:450: UserWarning: X does not have valid feature names, but KNeighborsClassifier was fitted with feature names\n",
      "  warnings.warn(\n"
     ]
    },
    {
     "name": "stdout",
     "output_type": "stream",
     "text": [
      "(53.93401901880305, 148.6114069462962, -7.0)\n",
      "[[0.33333333 0.         0.66666667 0.        ]]\n",
      "(50.72911975266042, 149.35072686254455, -5.5)\n",
      "[[0.33333333 0.         0.66666667 0.        ]]\n",
      "(50.43148206609791, 150.92340136092335, -6.0)\n",
      "[[0.33333333 0.         0.66666667 0.        ]]\n",
      "(51.53333120200187, 150.12572885236247, -6.5)\n",
      "[[0.33333333 0.         0.66666667 0.        ]]\n"
     ]
    },
    {
     "name": "stderr",
     "output_type": "stream",
     "text": [
      "C:\\Users\\smhrd\\AppData\\Local\\Temp\\ipykernel_15348\\2774937686.py:68: FutureWarning: The frame.append method is deprecated and will be removed from pandas in a future version. Use pandas.concat instead.\n",
      "  df = df.append([globals()[f'list']])\n",
      "C:\\Users\\smhrd\\AppData\\Roaming\\Python\\Python39\\site-packages\\sklearn\\base.py:450: UserWarning: X does not have valid feature names, but KNeighborsClassifier was fitted with feature names\n",
      "  warnings.warn(\n",
      "C:\\Users\\smhrd\\AppData\\Local\\Temp\\ipykernel_15348\\2774937686.py:68: FutureWarning: The frame.append method is deprecated and will be removed from pandas in a future version. Use pandas.concat instead.\n",
      "  df = df.append([globals()[f'list']])\n",
      "C:\\Users\\smhrd\\AppData\\Roaming\\Python\\Python39\\site-packages\\sklearn\\base.py:450: UserWarning: X does not have valid feature names, but KNeighborsClassifier was fitted with feature names\n",
      "  warnings.warn(\n",
      "C:\\Users\\smhrd\\AppData\\Local\\Temp\\ipykernel_15348\\2774937686.py:68: FutureWarning: The frame.append method is deprecated and will be removed from pandas in a future version. Use pandas.concat instead.\n",
      "  df = df.append([globals()[f'list']])\n",
      "C:\\Users\\smhrd\\AppData\\Roaming\\Python\\Python39\\site-packages\\sklearn\\base.py:450: UserWarning: X does not have valid feature names, but KNeighborsClassifier was fitted with feature names\n",
      "  warnings.warn(\n",
      "C:\\Users\\smhrd\\AppData\\Local\\Temp\\ipykernel_15348\\2774937686.py:68: FutureWarning: The frame.append method is deprecated and will be removed from pandas in a future version. Use pandas.concat instead.\n",
      "  df = df.append([globals()[f'list']])\n",
      "C:\\Users\\smhrd\\AppData\\Roaming\\Python\\Python39\\site-packages\\sklearn\\base.py:450: UserWarning: X does not have valid feature names, but KNeighborsClassifier was fitted with feature names\n",
      "  warnings.warn(\n"
     ]
    },
    {
     "name": "stdout",
     "output_type": "stream",
     "text": [
      "(51.96804200326399, 149.85197147355746, -5.5)\n",
      "[[0.33333333 0.         0.66666667 0.        ]]\n",
      "(51.61292394748466, 148.69369300448463, -6.5)\n",
      "[[0.33333333 0.         0.66666667 0.        ]]\n",
      "(55.74420833095356, 151.72989496194717, -2.5)\n",
      "[[0.66666667 0.         0.33333333 0.        ]]\n",
      "(56.204223441566604, 150.16160704815138, -2.5)\n",
      "[[0.66666667 0.         0.33333333 0.        ]]\n"
     ]
    },
    {
     "name": "stderr",
     "output_type": "stream",
     "text": [
      "C:\\Users\\smhrd\\AppData\\Local\\Temp\\ipykernel_15348\\2774937686.py:68: FutureWarning: The frame.append method is deprecated and will be removed from pandas in a future version. Use pandas.concat instead.\n",
      "  df = df.append([globals()[f'list']])\n",
      "C:\\Users\\smhrd\\AppData\\Roaming\\Python\\Python39\\site-packages\\sklearn\\base.py:450: UserWarning: X does not have valid feature names, but KNeighborsClassifier was fitted with feature names\n",
      "  warnings.warn(\n",
      "C:\\Users\\smhrd\\AppData\\Local\\Temp\\ipykernel_15348\\2774937686.py:68: FutureWarning: The frame.append method is deprecated and will be removed from pandas in a future version. Use pandas.concat instead.\n",
      "  df = df.append([globals()[f'list']])\n",
      "C:\\Users\\smhrd\\AppData\\Roaming\\Python\\Python39\\site-packages\\sklearn\\base.py:450: UserWarning: X does not have valid feature names, but KNeighborsClassifier was fitted with feature names\n",
      "  warnings.warn(\n",
      "C:\\Users\\smhrd\\AppData\\Local\\Temp\\ipykernel_15348\\2774937686.py:68: FutureWarning: The frame.append method is deprecated and will be removed from pandas in a future version. Use pandas.concat instead.\n",
      "  df = df.append([globals()[f'list']])\n",
      "C:\\Users\\smhrd\\AppData\\Roaming\\Python\\Python39\\site-packages\\sklearn\\base.py:450: UserWarning: X does not have valid feature names, but KNeighborsClassifier was fitted with feature names\n",
      "  warnings.warn(\n",
      "C:\\Users\\smhrd\\AppData\\Local\\Temp\\ipykernel_15348\\2774937686.py:68: FutureWarning: The frame.append method is deprecated and will be removed from pandas in a future version. Use pandas.concat instead.\n",
      "  df = df.append([globals()[f'list']])\n",
      "C:\\Users\\smhrd\\AppData\\Roaming\\Python\\Python39\\site-packages\\sklearn\\base.py:450: UserWarning: X does not have valid feature names, but KNeighborsClassifier was fitted with feature names\n",
      "  warnings.warn(\n"
     ]
    },
    {
     "name": "stdout",
     "output_type": "stream",
     "text": [
      "(50.6860945193856, 149.25292057017703, -3.5)\n",
      "[[0. 0. 1. 0.]]\n",
      "(51.669301898238466, 152.14491688033073, -1.0)\n",
      "[[0.33333333 0.         0.66666667 0.        ]]\n",
      "(49.48605799371862, 149.64366471976842, -1.0)\n",
      "[[0. 0. 1. 0.]]\n",
      "(48.49808176670434, 151.8425978750914, 3.5)\n",
      "[[0. 0. 1. 0.]]\n"
     ]
    },
    {
     "name": "stderr",
     "output_type": "stream",
     "text": [
      "C:\\Users\\smhrd\\AppData\\Local\\Temp\\ipykernel_15348\\2774937686.py:68: FutureWarning: The frame.append method is deprecated and will be removed from pandas in a future version. Use pandas.concat instead.\n",
      "  df = df.append([globals()[f'list']])\n",
      "C:\\Users\\smhrd\\AppData\\Roaming\\Python\\Python39\\site-packages\\sklearn\\base.py:450: UserWarning: X does not have valid feature names, but KNeighborsClassifier was fitted with feature names\n",
      "  warnings.warn(\n",
      "C:\\Users\\smhrd\\AppData\\Local\\Temp\\ipykernel_15348\\2774937686.py:68: FutureWarning: The frame.append method is deprecated and will be removed from pandas in a future version. Use pandas.concat instead.\n",
      "  df = df.append([globals()[f'list']])\n",
      "C:\\Users\\smhrd\\AppData\\Roaming\\Python\\Python39\\site-packages\\sklearn\\base.py:450: UserWarning: X does not have valid feature names, but KNeighborsClassifier was fitted with feature names\n",
      "  warnings.warn(\n",
      "C:\\Users\\smhrd\\AppData\\Local\\Temp\\ipykernel_15348\\2774937686.py:68: FutureWarning: The frame.append method is deprecated and will be removed from pandas in a future version. Use pandas.concat instead.\n",
      "  df = df.append([globals()[f'list']])\n",
      "C:\\Users\\smhrd\\AppData\\Roaming\\Python\\Python39\\site-packages\\sklearn\\base.py:450: UserWarning: X does not have valid feature names, but KNeighborsClassifier was fitted with feature names\n",
      "  warnings.warn(\n"
     ]
    },
    {
     "name": "stdout",
     "output_type": "stream",
     "text": [
      "(50.05918502510297, 151.53347548131043, 0.5)\n",
      "[[0. 0. 1. 0.]]\n",
      "(50.47939021759187, 150.98587914107028, -0.5)\n",
      "[[0. 0. 1. 0.]]\n",
      "(52.0362388615632, 149.11768730719197, -1.5)\n",
      "[[0. 0. 1. 0.]]\n"
     ]
    },
    {
     "name": "stderr",
     "output_type": "stream",
     "text": [
      "C:\\Users\\smhrd\\AppData\\Local\\Temp\\ipykernel_15348\\2774937686.py:68: FutureWarning: The frame.append method is deprecated and will be removed from pandas in a future version. Use pandas.concat instead.\n",
      "  df = df.append([globals()[f'list']])\n",
      "C:\\Users\\smhrd\\AppData\\Roaming\\Python\\Python39\\site-packages\\sklearn\\base.py:450: UserWarning: X does not have valid feature names, but KNeighborsClassifier was fitted with feature names\n",
      "  warnings.warn(\n",
      "C:\\Users\\smhrd\\AppData\\Local\\Temp\\ipykernel_15348\\2774937686.py:68: FutureWarning: The frame.append method is deprecated and will be removed from pandas in a future version. Use pandas.concat instead.\n",
      "  df = df.append([globals()[f'list']])\n",
      "C:\\Users\\smhrd\\AppData\\Roaming\\Python\\Python39\\site-packages\\sklearn\\base.py:450: UserWarning: X does not have valid feature names, but KNeighborsClassifier was fitted with feature names\n",
      "  warnings.warn(\n",
      "C:\\Users\\smhrd\\AppData\\Local\\Temp\\ipykernel_15348\\2774937686.py:68: FutureWarning: The frame.append method is deprecated and will be removed from pandas in a future version. Use pandas.concat instead.\n",
      "  df = df.append([globals()[f'list']])\n",
      "C:\\Users\\smhrd\\AppData\\Roaming\\Python\\Python39\\site-packages\\sklearn\\base.py:450: UserWarning: X does not have valid feature names, but KNeighborsClassifier was fitted with feature names\n",
      "  warnings.warn(\n"
     ]
    },
    {
     "name": "stdout",
     "output_type": "stream",
     "text": [
      "(56.82148834060726, 148.4781488296994, -4.5)\n",
      "[[0.66666667 0.         0.33333333 0.        ]]\n",
      "(52.30725335814353, 147.9696227242449, -6.5)\n",
      "[[0.33333333 0.         0.66666667 0.        ]]\n",
      "(50.78198891618569, 148.78470539466323, -2.0)\n",
      "[[0. 0. 1. 0.]]\n"
     ]
    },
    {
     "name": "stderr",
     "output_type": "stream",
     "text": [
      "C:\\Users\\smhrd\\AppData\\Local\\Temp\\ipykernel_15348\\2774937686.py:68: FutureWarning: The frame.append method is deprecated and will be removed from pandas in a future version. Use pandas.concat instead.\n",
      "  df = df.append([globals()[f'list']])\n",
      "C:\\Users\\smhrd\\AppData\\Roaming\\Python\\Python39\\site-packages\\sklearn\\base.py:450: UserWarning: X does not have valid feature names, but KNeighborsClassifier was fitted with feature names\n",
      "  warnings.warn(\n",
      "C:\\Users\\smhrd\\AppData\\Local\\Temp\\ipykernel_15348\\2774937686.py:68: FutureWarning: The frame.append method is deprecated and will be removed from pandas in a future version. Use pandas.concat instead.\n",
      "  df = df.append([globals()[f'list']])\n",
      "C:\\Users\\smhrd\\AppData\\Roaming\\Python\\Python39\\site-packages\\sklearn\\base.py:450: UserWarning: X does not have valid feature names, but KNeighborsClassifier was fitted with feature names\n",
      "  warnings.warn(\n",
      "C:\\Users\\smhrd\\AppData\\Local\\Temp\\ipykernel_15348\\2774937686.py:68: FutureWarning: The frame.append method is deprecated and will be removed from pandas in a future version. Use pandas.concat instead.\n",
      "  df = df.append([globals()[f'list']])\n",
      "C:\\Users\\smhrd\\AppData\\Roaming\\Python\\Python39\\site-packages\\sklearn\\base.py:450: UserWarning: X does not have valid feature names, but KNeighborsClassifier was fitted with feature names\n",
      "  warnings.warn(\n",
      "C:\\Users\\smhrd\\AppData\\Local\\Temp\\ipykernel_15348\\2774937686.py:68: FutureWarning: The frame.append method is deprecated and will be removed from pandas in a future version. Use pandas.concat instead.\n",
      "  df = df.append([globals()[f'list']])\n",
      "C:\\Users\\smhrd\\AppData\\Roaming\\Python\\Python39\\site-packages\\sklearn\\base.py:450: UserWarning: X does not have valid feature names, but KNeighborsClassifier was fitted with feature names\n",
      "  warnings.warn(\n"
     ]
    },
    {
     "name": "stdout",
     "output_type": "stream",
     "text": [
      "(50.25047365998183, 151.32176560389553, 1.0)\n",
      "[[0. 0. 1. 0.]]\n",
      "(50.265054157698465, 148.15314953778523, -3.0)\n",
      "[[0. 0. 1. 0.]]\n",
      "(49.91645335940724, 151.0955127251347, 0.5)\n",
      "[[0. 0. 1. 0.]]\n",
      "(49.334493593724986, 151.4033356832192, 1.5)\n",
      "[[0. 0. 1. 0.]]\n"
     ]
    },
    {
     "name": "stderr",
     "output_type": "stream",
     "text": [
      "C:\\Users\\smhrd\\AppData\\Local\\Temp\\ipykernel_15348\\2774937686.py:68: FutureWarning: The frame.append method is deprecated and will be removed from pandas in a future version. Use pandas.concat instead.\n",
      "  df = df.append([globals()[f'list']])\n",
      "C:\\Users\\smhrd\\AppData\\Roaming\\Python\\Python39\\site-packages\\sklearn\\base.py:450: UserWarning: X does not have valid feature names, but KNeighborsClassifier was fitted with feature names\n",
      "  warnings.warn(\n",
      "C:\\Users\\smhrd\\AppData\\Local\\Temp\\ipykernel_15348\\2774937686.py:68: FutureWarning: The frame.append method is deprecated and will be removed from pandas in a future version. Use pandas.concat instead.\n",
      "  df = df.append([globals()[f'list']])\n",
      "C:\\Users\\smhrd\\AppData\\Roaming\\Python\\Python39\\site-packages\\sklearn\\base.py:450: UserWarning: X does not have valid feature names, but KNeighborsClassifier was fitted with feature names\n",
      "  warnings.warn(\n",
      "C:\\Users\\smhrd\\AppData\\Local\\Temp\\ipykernel_15348\\2774937686.py:68: FutureWarning: The frame.append method is deprecated and will be removed from pandas in a future version. Use pandas.concat instead.\n",
      "  df = df.append([globals()[f'list']])\n",
      "C:\\Users\\smhrd\\AppData\\Roaming\\Python\\Python39\\site-packages\\sklearn\\base.py:450: UserWarning: X does not have valid feature names, but KNeighborsClassifier was fitted with feature names\n",
      "  warnings.warn(\n",
      "C:\\Users\\smhrd\\AppData\\Local\\Temp\\ipykernel_15348\\2774937686.py:68: FutureWarning: The frame.append method is deprecated and will be removed from pandas in a future version. Use pandas.concat instead.\n",
      "  df = df.append([globals()[f'list']])\n",
      "C:\\Users\\smhrd\\AppData\\Roaming\\Python\\Python39\\site-packages\\sklearn\\base.py:450: UserWarning: X does not have valid feature names, but KNeighborsClassifier was fitted with feature names\n",
      "  warnings.warn(\n"
     ]
    },
    {
     "name": "stdout",
     "output_type": "stream",
     "text": [
      "(49.22220896122507, 150.4513950165376, 0.5)\n",
      "[[0. 0. 1. 0.]]\n",
      "(49.15475500417031, 147.92462375692597, -2.0)\n",
      "[[0. 0. 1. 0.]]\n",
      "(49.568955961374115, 146.8011068862489, -3.0)\n",
      "[[0. 0. 1. 0.]]\n",
      "(50.0210889116748, 150.01079452000582, -2.5)\n",
      "[[0. 0. 1. 0.]]\n"
     ]
    },
    {
     "name": "stderr",
     "output_type": "stream",
     "text": [
      "C:\\Users\\smhrd\\AppData\\Local\\Temp\\ipykernel_15348\\2774937686.py:68: FutureWarning: The frame.append method is deprecated and will be removed from pandas in a future version. Use pandas.concat instead.\n",
      "  df = df.append([globals()[f'list']])\n",
      "C:\\Users\\smhrd\\AppData\\Roaming\\Python\\Python39\\site-packages\\sklearn\\base.py:450: UserWarning: X does not have valid feature names, but KNeighborsClassifier was fitted with feature names\n",
      "  warnings.warn(\n",
      "C:\\Users\\smhrd\\AppData\\Local\\Temp\\ipykernel_15348\\2774937686.py:68: FutureWarning: The frame.append method is deprecated and will be removed from pandas in a future version. Use pandas.concat instead.\n",
      "  df = df.append([globals()[f'list']])\n",
      "C:\\Users\\smhrd\\AppData\\Roaming\\Python\\Python39\\site-packages\\sklearn\\base.py:450: UserWarning: X does not have valid feature names, but KNeighborsClassifier was fitted with feature names\n",
      "  warnings.warn(\n",
      "C:\\Users\\smhrd\\AppData\\Local\\Temp\\ipykernel_15348\\2774937686.py:68: FutureWarning: The frame.append method is deprecated and will be removed from pandas in a future version. Use pandas.concat instead.\n",
      "  df = df.append([globals()[f'list']])\n",
      "C:\\Users\\smhrd\\AppData\\Roaming\\Python\\Python39\\site-packages\\sklearn\\base.py:450: UserWarning: X does not have valid feature names, but KNeighborsClassifier was fitted with feature names\n",
      "  warnings.warn(\n"
     ]
    },
    {
     "name": "stdout",
     "output_type": "stream",
     "text": [
      "(48.65952192946191, 149.1839706449846, 0.5)\n",
      "[[0. 0. 1. 0.]]\n",
      "(50.1660006867037, 148.09017704834858, -3.5)\n",
      "[[0. 0. 1. 0.]]\n",
      "(49.01689650892802, 150.49707462537276, -2.5)\n",
      "[[0. 0. 1. 0.]]\n"
     ]
    },
    {
     "name": "stderr",
     "output_type": "stream",
     "text": [
      "C:\\Users\\smhrd\\AppData\\Local\\Temp\\ipykernel_15348\\2774937686.py:68: FutureWarning: The frame.append method is deprecated and will be removed from pandas in a future version. Use pandas.concat instead.\n",
      "  df = df.append([globals()[f'list']])\n",
      "C:\\Users\\smhrd\\AppData\\Roaming\\Python\\Python39\\site-packages\\sklearn\\base.py:450: UserWarning: X does not have valid feature names, but KNeighborsClassifier was fitted with feature names\n",
      "  warnings.warn(\n",
      "C:\\Users\\smhrd\\AppData\\Local\\Temp\\ipykernel_15348\\2774937686.py:68: FutureWarning: The frame.append method is deprecated and will be removed from pandas in a future version. Use pandas.concat instead.\n",
      "  df = df.append([globals()[f'list']])\n",
      "C:\\Users\\smhrd\\AppData\\Roaming\\Python\\Python39\\site-packages\\sklearn\\base.py:450: UserWarning: X does not have valid feature names, but KNeighborsClassifier was fitted with feature names\n",
      "  warnings.warn(\n",
      "C:\\Users\\smhrd\\AppData\\Local\\Temp\\ipykernel_15348\\2774937686.py:68: FutureWarning: The frame.append method is deprecated and will be removed from pandas in a future version. Use pandas.concat instead.\n",
      "  df = df.append([globals()[f'list']])\n",
      "C:\\Users\\smhrd\\AppData\\Roaming\\Python\\Python39\\site-packages\\sklearn\\base.py:450: UserWarning: X does not have valid feature names, but KNeighborsClassifier was fitted with feature names\n",
      "  warnings.warn(\n",
      "C:\\Users\\smhrd\\AppData\\Local\\Temp\\ipykernel_15348\\2774937686.py:68: FutureWarning: The frame.append method is deprecated and will be removed from pandas in a future version. Use pandas.concat instead.\n",
      "  df = df.append([globals()[f'list']])\n",
      "C:\\Users\\smhrd\\AppData\\Roaming\\Python\\Python39\\site-packages\\sklearn\\base.py:450: UserWarning: X does not have valid feature names, but KNeighborsClassifier was fitted with feature names\n",
      "  warnings.warn(\n"
     ]
    },
    {
     "name": "stdout",
     "output_type": "stream",
     "text": [
      "(50.58409329996156, 147.5856770195437, -4.5)\n",
      "[[0. 0. 1. 0.]]\n",
      "(48.99042880097054, 148.358130571918, -2.5)\n",
      "[[0. 0. 1. 0.]]\n",
      "(49.47776701185837, 148.92140672931112, -4.5)\n",
      "[[0. 0. 1. 0.]]\n",
      "(48.40705433270271, 148.66578772803825, -1.0)\n",
      "[[0. 0. 1. 0.]]\n"
     ]
    },
    {
     "name": "stderr",
     "output_type": "stream",
     "text": [
      "C:\\Users\\smhrd\\AppData\\Local\\Temp\\ipykernel_15348\\2774937686.py:68: FutureWarning: The frame.append method is deprecated and will be removed from pandas in a future version. Use pandas.concat instead.\n",
      "  df = df.append([globals()[f'list']])\n",
      "C:\\Users\\smhrd\\AppData\\Roaming\\Python\\Python39\\site-packages\\sklearn\\base.py:450: UserWarning: X does not have valid feature names, but KNeighborsClassifier was fitted with feature names\n",
      "  warnings.warn(\n",
      "C:\\Users\\smhrd\\AppData\\Local\\Temp\\ipykernel_15348\\2774937686.py:68: FutureWarning: The frame.append method is deprecated and will be removed from pandas in a future version. Use pandas.concat instead.\n",
      "  df = df.append([globals()[f'list']])\n",
      "C:\\Users\\smhrd\\AppData\\Roaming\\Python\\Python39\\site-packages\\sklearn\\base.py:450: UserWarning: X does not have valid feature names, but KNeighborsClassifier was fitted with feature names\n",
      "  warnings.warn(\n",
      "C:\\Users\\smhrd\\AppData\\Local\\Temp\\ipykernel_15348\\2774937686.py:68: FutureWarning: The frame.append method is deprecated and will be removed from pandas in a future version. Use pandas.concat instead.\n",
      "  df = df.append([globals()[f'list']])\n",
      "C:\\Users\\smhrd\\AppData\\Roaming\\Python\\Python39\\site-packages\\sklearn\\base.py:450: UserWarning: X does not have valid feature names, but KNeighborsClassifier was fitted with feature names\n",
      "  warnings.warn(\n",
      "C:\\Users\\smhrd\\AppData\\Local\\Temp\\ipykernel_15348\\2774937686.py:68: FutureWarning: The frame.append method is deprecated and will be removed from pandas in a future version. Use pandas.concat instead.\n",
      "  df = df.append([globals()[f'list']])\n",
      "C:\\Users\\smhrd\\AppData\\Roaming\\Python\\Python39\\site-packages\\sklearn\\base.py:450: UserWarning: X does not have valid feature names, but KNeighborsClassifier was fitted with feature names\n",
      "  warnings.warn(\n"
     ]
    },
    {
     "name": "stdout",
     "output_type": "stream",
     "text": [
      "(47.45899812295184, 147.9828489793217, -2.5)\n",
      "[[0. 0. 1. 0.]]\n",
      "(47.61005000816111, 148.85213622548963, -7.0)\n",
      "[[0. 0. 1. 0.]]\n",
      "(48.494585529028086, 148.80092420106604, -5.5)\n",
      "[[0. 0. 1. 0.]]\n",
      "(48.18764460147331, 150.9385260760482, -6.5)\n",
      "[[0.33333333 0.         0.66666667 0.        ]]\n"
     ]
    },
    {
     "name": "stderr",
     "output_type": "stream",
     "text": [
      "C:\\Users\\smhrd\\AppData\\Local\\Temp\\ipykernel_15348\\2774937686.py:68: FutureWarning: The frame.append method is deprecated and will be removed from pandas in a future version. Use pandas.concat instead.\n",
      "  df = df.append([globals()[f'list']])\n",
      "C:\\Users\\smhrd\\AppData\\Roaming\\Python\\Python39\\site-packages\\sklearn\\base.py:450: UserWarning: X does not have valid feature names, but KNeighborsClassifier was fitted with feature names\n",
      "  warnings.warn(\n",
      "C:\\Users\\smhrd\\AppData\\Local\\Temp\\ipykernel_15348\\2774937686.py:68: FutureWarning: The frame.append method is deprecated and will be removed from pandas in a future version. Use pandas.concat instead.\n",
      "  df = df.append([globals()[f'list']])\n",
      "C:\\Users\\smhrd\\AppData\\Roaming\\Python\\Python39\\site-packages\\sklearn\\base.py:450: UserWarning: X does not have valid feature names, but KNeighborsClassifier was fitted with feature names\n",
      "  warnings.warn(\n",
      "C:\\Users\\smhrd\\AppData\\Local\\Temp\\ipykernel_15348\\2774937686.py:68: FutureWarning: The frame.append method is deprecated and will be removed from pandas in a future version. Use pandas.concat instead.\n",
      "  df = df.append([globals()[f'list']])\n",
      "C:\\Users\\smhrd\\AppData\\Roaming\\Python\\Python39\\site-packages\\sklearn\\base.py:450: UserWarning: X does not have valid feature names, but KNeighborsClassifier was fitted with feature names\n",
      "  warnings.warn(\n",
      "C:\\Users\\smhrd\\AppData\\Local\\Temp\\ipykernel_15348\\2774937686.py:68: FutureWarning: The frame.append method is deprecated and will be removed from pandas in a future version. Use pandas.concat instead.\n",
      "  df = df.append([globals()[f'list']])\n",
      "C:\\Users\\smhrd\\AppData\\Roaming\\Python\\Python39\\site-packages\\sklearn\\base.py:450: UserWarning: X does not have valid feature names, but KNeighborsClassifier was fitted with feature names\n",
      "  warnings.warn(\n"
     ]
    },
    {
     "name": "stdout",
     "output_type": "stream",
     "text": [
      "(47.268652294421884, 149.2621966458872, -5.0)\n",
      "[[0. 0. 1. 0.]]\n",
      "(45.586983706925864, 151.22484000239086, -4.0)\n",
      "[[0. 0. 1. 0.]]\n",
      "(45.71690743471952, 150.6647392755396, -4.0)\n",
      "[[0. 0. 1. 0.]]\n",
      "(45.9215373365878, 150.08324393229972, -5.0)\n",
      "[[0. 0. 1. 0.]]\n"
     ]
    },
    {
     "name": "stderr",
     "output_type": "stream",
     "text": [
      "C:\\Users\\smhrd\\AppData\\Local\\Temp\\ipykernel_15348\\2774937686.py:68: FutureWarning: The frame.append method is deprecated and will be removed from pandas in a future version. Use pandas.concat instead.\n",
      "  df = df.append([globals()[f'list']])\n",
      "C:\\Users\\smhrd\\AppData\\Roaming\\Python\\Python39\\site-packages\\sklearn\\base.py:450: UserWarning: X does not have valid feature names, but KNeighborsClassifier was fitted with feature names\n",
      "  warnings.warn(\n",
      "C:\\Users\\smhrd\\AppData\\Local\\Temp\\ipykernel_15348\\2774937686.py:68: FutureWarning: The frame.append method is deprecated and will be removed from pandas in a future version. Use pandas.concat instead.\n",
      "  df = df.append([globals()[f'list']])\n",
      "C:\\Users\\smhrd\\AppData\\Roaming\\Python\\Python39\\site-packages\\sklearn\\base.py:450: UserWarning: X does not have valid feature names, but KNeighborsClassifier was fitted with feature names\n",
      "  warnings.warn(\n",
      "C:\\Users\\smhrd\\AppData\\Local\\Temp\\ipykernel_15348\\2774937686.py:68: FutureWarning: The frame.append method is deprecated and will be removed from pandas in a future version. Use pandas.concat instead.\n",
      "  df = df.append([globals()[f'list']])\n",
      "C:\\Users\\smhrd\\AppData\\Roaming\\Python\\Python39\\site-packages\\sklearn\\base.py:450: UserWarning: X does not have valid feature names, but KNeighborsClassifier was fitted with feature names\n",
      "  warnings.warn(\n",
      "C:\\Users\\smhrd\\AppData\\Local\\Temp\\ipykernel_15348\\2774937686.py:68: FutureWarning: The frame.append method is deprecated and will be removed from pandas in a future version. Use pandas.concat instead.\n",
      "  df = df.append([globals()[f'list']])\n",
      "C:\\Users\\smhrd\\AppData\\Roaming\\Python\\Python39\\site-packages\\sklearn\\base.py:450: UserWarning: X does not have valid feature names, but KNeighborsClassifier was fitted with feature names\n",
      "  warnings.warn(\n"
     ]
    },
    {
     "name": "stdout",
     "output_type": "stream",
     "text": [
      "(48.43795868868355, 150.46887854443287, -2.0)\n",
      "[[0. 0. 1. 0.]]\n",
      "(46.15953917345016, 150.33828166908265, -5.5)\n",
      "[[0. 0. 1. 0.]]\n",
      "(45.7624079822826, 150.31421701281417, -5.5)\n",
      "[[0. 0. 1. 0.]]\n",
      "(46.66611075831085, 148.62372300829261, -6.5)\n",
      "[[0. 0. 1. 0.]]\n"
     ]
    },
    {
     "name": "stderr",
     "output_type": "stream",
     "text": [
      "C:\\Users\\smhrd\\AppData\\Local\\Temp\\ipykernel_15348\\2774937686.py:68: FutureWarning: The frame.append method is deprecated and will be removed from pandas in a future version. Use pandas.concat instead.\n",
      "  df = df.append([globals()[f'list']])\n",
      "C:\\Users\\smhrd\\AppData\\Roaming\\Python\\Python39\\site-packages\\sklearn\\base.py:450: UserWarning: X does not have valid feature names, but KNeighborsClassifier was fitted with feature names\n",
      "  warnings.warn(\n",
      "C:\\Users\\smhrd\\AppData\\Local\\Temp\\ipykernel_15348\\2774937686.py:68: FutureWarning: The frame.append method is deprecated and will be removed from pandas in a future version. Use pandas.concat instead.\n",
      "  df = df.append([globals()[f'list']])\n",
      "C:\\Users\\smhrd\\AppData\\Roaming\\Python\\Python39\\site-packages\\sklearn\\base.py:450: UserWarning: X does not have valid feature names, but KNeighborsClassifier was fitted with feature names\n",
      "  warnings.warn(\n",
      "C:\\Users\\smhrd\\AppData\\Local\\Temp\\ipykernel_15348\\2774937686.py:68: FutureWarning: The frame.append method is deprecated and will be removed from pandas in a future version. Use pandas.concat instead.\n",
      "  df = df.append([globals()[f'list']])\n",
      "C:\\Users\\smhrd\\AppData\\Roaming\\Python\\Python39\\site-packages\\sklearn\\base.py:450: UserWarning: X does not have valid feature names, but KNeighborsClassifier was fitted with feature names\n",
      "  warnings.warn(\n",
      "C:\\Users\\smhrd\\AppData\\Local\\Temp\\ipykernel_15348\\2774937686.py:68: FutureWarning: The frame.append method is deprecated and will be removed from pandas in a future version. Use pandas.concat instead.\n",
      "  df = df.append([globals()[f'list']])\n",
      "C:\\Users\\smhrd\\AppData\\Roaming\\Python\\Python39\\site-packages\\sklearn\\base.py:450: UserWarning: X does not have valid feature names, but KNeighborsClassifier was fitted with feature names\n",
      "  warnings.warn(\n"
     ]
    },
    {
     "name": "stdout",
     "output_type": "stream",
     "text": [
      "(46.897693351176116, 147.87033890749404, -6.5)\n",
      "[[0. 0. 1. 0.]]\n",
      "(44.67758425334344, 150.0294807349447, -3.0)\n",
      "[[0. 0. 1. 0.]]\n",
      "(44.712552399175586, 149.37582636107004, -4.0)\n",
      "[[0. 0. 1. 0.]]\n",
      "(51.527263542976286, 148.90600738267173, -3.0)\n",
      "[[0. 0. 1. 0.]]\n"
     ]
    },
    {
     "name": "stderr",
     "output_type": "stream",
     "text": [
      "C:\\Users\\smhrd\\AppData\\Local\\Temp\\ipykernel_15348\\2774937686.py:68: FutureWarning: The frame.append method is deprecated and will be removed from pandas in a future version. Use pandas.concat instead.\n",
      "  df = df.append([globals()[f'list']])\n",
      "C:\\Users\\smhrd\\AppData\\Roaming\\Python\\Python39\\site-packages\\sklearn\\base.py:450: UserWarning: X does not have valid feature names, but KNeighborsClassifier was fitted with feature names\n",
      "  warnings.warn(\n",
      "C:\\Users\\smhrd\\AppData\\Local\\Temp\\ipykernel_15348\\2774937686.py:68: FutureWarning: The frame.append method is deprecated and will be removed from pandas in a future version. Use pandas.concat instead.\n",
      "  df = df.append([globals()[f'list']])\n",
      "C:\\Users\\smhrd\\AppData\\Roaming\\Python\\Python39\\site-packages\\sklearn\\base.py:450: UserWarning: X does not have valid feature names, but KNeighborsClassifier was fitted with feature names\n",
      "  warnings.warn(\n",
      "C:\\Users\\smhrd\\AppData\\Local\\Temp\\ipykernel_15348\\2774937686.py:68: FutureWarning: The frame.append method is deprecated and will be removed from pandas in a future version. Use pandas.concat instead.\n",
      "  df = df.append([globals()[f'list']])\n",
      "C:\\Users\\smhrd\\AppData\\Roaming\\Python\\Python39\\site-packages\\sklearn\\base.py:450: UserWarning: X does not have valid feature names, but KNeighborsClassifier was fitted with feature names\n",
      "  warnings.warn(\n",
      "C:\\Users\\smhrd\\AppData\\Local\\Temp\\ipykernel_15348\\2774937686.py:68: FutureWarning: The frame.append method is deprecated and will be removed from pandas in a future version. Use pandas.concat instead.\n",
      "  df = df.append([globals()[f'list']])\n",
      "C:\\Users\\smhrd\\AppData\\Roaming\\Python\\Python39\\site-packages\\sklearn\\base.py:450: UserWarning: X does not have valid feature names, but KNeighborsClassifier was fitted with feature names\n",
      "  warnings.warn(\n"
     ]
    },
    {
     "name": "stdout",
     "output_type": "stream",
     "text": [
      "(50.06958077585312, 149.22250647220932, -6.5)\n",
      "[[0.33333333 0.         0.66666667 0.        ]]\n",
      "(49.250592503164874, 148.92491052310797, -3.5)\n",
      "[[0. 0. 1. 0.]]\n",
      "(47.049823201069614, 149.59299051632865, -5.0)\n",
      "[[0. 0. 1. 0.]]\n",
      "(49.61220954495162, 150.2965630865384, -5.5)\n",
      "[[0.33333333 0.         0.66666667 0.        ]]\n"
     ]
    },
    {
     "name": "stderr",
     "output_type": "stream",
     "text": [
      "C:\\Users\\smhrd\\AppData\\Local\\Temp\\ipykernel_15348\\2774937686.py:68: FutureWarning: The frame.append method is deprecated and will be removed from pandas in a future version. Use pandas.concat instead.\n",
      "  df = df.append([globals()[f'list']])\n",
      "C:\\Users\\smhrd\\AppData\\Roaming\\Python\\Python39\\site-packages\\sklearn\\base.py:450: UserWarning: X does not have valid feature names, but KNeighborsClassifier was fitted with feature names\n",
      "  warnings.warn(\n",
      "C:\\Users\\smhrd\\AppData\\Local\\Temp\\ipykernel_15348\\2774937686.py:68: FutureWarning: The frame.append method is deprecated and will be removed from pandas in a future version. Use pandas.concat instead.\n",
      "  df = df.append([globals()[f'list']])\n",
      "C:\\Users\\smhrd\\AppData\\Roaming\\Python\\Python39\\site-packages\\sklearn\\base.py:450: UserWarning: X does not have valid feature names, but KNeighborsClassifier was fitted with feature names\n",
      "  warnings.warn(\n",
      "C:\\Users\\smhrd\\AppData\\Local\\Temp\\ipykernel_15348\\2774937686.py:68: FutureWarning: The frame.append method is deprecated and will be removed from pandas in a future version. Use pandas.concat instead.\n",
      "  df = df.append([globals()[f'list']])\n",
      "C:\\Users\\smhrd\\AppData\\Roaming\\Python\\Python39\\site-packages\\sklearn\\base.py:450: UserWarning: X does not have valid feature names, but KNeighborsClassifier was fitted with feature names\n",
      "  warnings.warn(\n",
      "C:\\Users\\smhrd\\AppData\\Local\\Temp\\ipykernel_15348\\2774937686.py:68: FutureWarning: The frame.append method is deprecated and will be removed from pandas in a future version. Use pandas.concat instead.\n",
      "  df = df.append([globals()[f'list']])\n",
      "C:\\Users\\smhrd\\AppData\\Roaming\\Python\\Python39\\site-packages\\sklearn\\base.py:450: UserWarning: X does not have valid feature names, but KNeighborsClassifier was fitted with feature names\n",
      "  warnings.warn(\n"
     ]
    },
    {
     "name": "stdout",
     "output_type": "stream",
     "text": [
      "(47.44321834594139, 149.28352552852115, -4.5)\n",
      "[[0. 0. 1. 0.]]\n",
      "(48.25054708812053, 149.63236301585147, -3.0)\n",
      "[[0. 0. 1. 0.]]\n",
      "(46.93069215978492, 151.40885086596091, -1.0)\n",
      "[[0. 0. 1. 0.]]\n",
      "(46.75641965893342, 149.89641722605523, -3.5)\n",
      "[[0. 0. 1. 0.]]\n"
     ]
    },
    {
     "name": "stderr",
     "output_type": "stream",
     "text": [
      "C:\\Users\\smhrd\\AppData\\Local\\Temp\\ipykernel_15348\\2774937686.py:68: FutureWarning: The frame.append method is deprecated and will be removed from pandas in a future version. Use pandas.concat instead.\n",
      "  df = df.append([globals()[f'list']])\n",
      "C:\\Users\\smhrd\\AppData\\Roaming\\Python\\Python39\\site-packages\\sklearn\\base.py:450: UserWarning: X does not have valid feature names, but KNeighborsClassifier was fitted with feature names\n",
      "  warnings.warn(\n",
      "C:\\Users\\smhrd\\AppData\\Local\\Temp\\ipykernel_15348\\2774937686.py:68: FutureWarning: The frame.append method is deprecated and will be removed from pandas in a future version. Use pandas.concat instead.\n",
      "  df = df.append([globals()[f'list']])\n",
      "C:\\Users\\smhrd\\AppData\\Roaming\\Python\\Python39\\site-packages\\sklearn\\base.py:450: UserWarning: X does not have valid feature names, but KNeighborsClassifier was fitted with feature names\n",
      "  warnings.warn(\n",
      "C:\\Users\\smhrd\\AppData\\Local\\Temp\\ipykernel_15348\\2774937686.py:68: FutureWarning: The frame.append method is deprecated and will be removed from pandas in a future version. Use pandas.concat instead.\n",
      "  df = df.append([globals()[f'list']])\n",
      "C:\\Users\\smhrd\\AppData\\Roaming\\Python\\Python39\\site-packages\\sklearn\\base.py:450: UserWarning: X does not have valid feature names, but KNeighborsClassifier was fitted with feature names\n",
      "  warnings.warn(\n",
      "C:\\Users\\smhrd\\AppData\\Local\\Temp\\ipykernel_15348\\2774937686.py:68: FutureWarning: The frame.append method is deprecated and will be removed from pandas in a future version. Use pandas.concat instead.\n",
      "  df = df.append([globals()[f'list']])\n",
      "C:\\Users\\smhrd\\AppData\\Roaming\\Python\\Python39\\site-packages\\sklearn\\base.py:450: UserWarning: X does not have valid feature names, but KNeighborsClassifier was fitted with feature names\n",
      "  warnings.warn(\n"
     ]
    },
    {
     "name": "stdout",
     "output_type": "stream",
     "text": [
      "(44.18999661807192, 148.2188196115221, -5.5)\n",
      "[[0. 0. 1. 0.]]\n",
      "(44.02204078735842, 148.5854371150495, -4.0)\n",
      "[[0. 0. 1. 0.]]\n",
      "(43.3469042712606, 148.16638925867446, -4.0)\n",
      "[[0. 0. 1. 0.]]\n",
      "(46.116235436398036, 149.3630879668466, -5.5)\n",
      "[[0. 0. 1. 0.]]\n"
     ]
    },
    {
     "name": "stderr",
     "output_type": "stream",
     "text": [
      "C:\\Users\\smhrd\\AppData\\Local\\Temp\\ipykernel_15348\\2774937686.py:68: FutureWarning: The frame.append method is deprecated and will be removed from pandas in a future version. Use pandas.concat instead.\n",
      "  df = df.append([globals()[f'list']])\n",
      "C:\\Users\\smhrd\\AppData\\Roaming\\Python\\Python39\\site-packages\\sklearn\\base.py:450: UserWarning: X does not have valid feature names, but KNeighborsClassifier was fitted with feature names\n",
      "  warnings.warn(\n",
      "C:\\Users\\smhrd\\AppData\\Local\\Temp\\ipykernel_15348\\2774937686.py:68: FutureWarning: The frame.append method is deprecated and will be removed from pandas in a future version. Use pandas.concat instead.\n",
      "  df = df.append([globals()[f'list']])\n",
      "C:\\Users\\smhrd\\AppData\\Roaming\\Python\\Python39\\site-packages\\sklearn\\base.py:450: UserWarning: X does not have valid feature names, but KNeighborsClassifier was fitted with feature names\n",
      "  warnings.warn(\n",
      "C:\\Users\\smhrd\\AppData\\Local\\Temp\\ipykernel_15348\\2774937686.py:68: FutureWarning: The frame.append method is deprecated and will be removed from pandas in a future version. Use pandas.concat instead.\n",
      "  df = df.append([globals()[f'list']])\n",
      "C:\\Users\\smhrd\\AppData\\Roaming\\Python\\Python39\\site-packages\\sklearn\\base.py:450: UserWarning: X does not have valid feature names, but KNeighborsClassifier was fitted with feature names\n",
      "  warnings.warn(\n",
      "C:\\Users\\smhrd\\AppData\\Local\\Temp\\ipykernel_15348\\2774937686.py:68: FutureWarning: The frame.append method is deprecated and will be removed from pandas in a future version. Use pandas.concat instead.\n",
      "  df = df.append([globals()[f'list']])\n",
      "C:\\Users\\smhrd\\AppData\\Roaming\\Python\\Python39\\site-packages\\sklearn\\base.py:450: UserWarning: X does not have valid feature names, but KNeighborsClassifier was fitted with feature names\n",
      "  warnings.warn(\n"
     ]
    },
    {
     "name": "stdout",
     "output_type": "stream",
     "text": [
      "(46.14281240503313, 150.81020180957438, -6.0)\n",
      "[[0.33333333 0.         0.66666667 0.        ]]\n",
      "(47.66436923089562, 147.86654885370606, -6.0)\n",
      "[[0. 0. 1. 0.]]\n",
      "(47.34442938069938, 148.16364129049842, -6.0)\n",
      "[[0. 0. 1. 0.]]\n",
      "(48.026598433931696, 150.23850412589323, -6.0)\n",
      "[[0.33333333 0.         0.66666667 0.        ]]\n"
     ]
    },
    {
     "name": "stderr",
     "output_type": "stream",
     "text": [
      "C:\\Users\\smhrd\\AppData\\Local\\Temp\\ipykernel_15348\\2774937686.py:68: FutureWarning: The frame.append method is deprecated and will be removed from pandas in a future version. Use pandas.concat instead.\n",
      "  df = df.append([globals()[f'list']])\n",
      "C:\\Users\\smhrd\\AppData\\Roaming\\Python\\Python39\\site-packages\\sklearn\\base.py:450: UserWarning: X does not have valid feature names, but KNeighborsClassifier was fitted with feature names\n",
      "  warnings.warn(\n",
      "C:\\Users\\smhrd\\AppData\\Local\\Temp\\ipykernel_15348\\2774937686.py:68: FutureWarning: The frame.append method is deprecated and will be removed from pandas in a future version. Use pandas.concat instead.\n",
      "  df = df.append([globals()[f'list']])\n",
      "C:\\Users\\smhrd\\AppData\\Roaming\\Python\\Python39\\site-packages\\sklearn\\base.py:450: UserWarning: X does not have valid feature names, but KNeighborsClassifier was fitted with feature names\n",
      "  warnings.warn(\n",
      "C:\\Users\\smhrd\\AppData\\Local\\Temp\\ipykernel_15348\\2774937686.py:68: FutureWarning: The frame.append method is deprecated and will be removed from pandas in a future version. Use pandas.concat instead.\n",
      "  df = df.append([globals()[f'list']])\n",
      "C:\\Users\\smhrd\\AppData\\Roaming\\Python\\Python39\\site-packages\\sklearn\\base.py:450: UserWarning: X does not have valid feature names, but KNeighborsClassifier was fitted with feature names\n",
      "  warnings.warn(\n",
      "C:\\Users\\smhrd\\AppData\\Local\\Temp\\ipykernel_15348\\2774937686.py:68: FutureWarning: The frame.append method is deprecated and will be removed from pandas in a future version. Use pandas.concat instead.\n",
      "  df = df.append([globals()[f'list']])\n",
      "C:\\Users\\smhrd\\AppData\\Roaming\\Python\\Python39\\site-packages\\sklearn\\base.py:450: UserWarning: X does not have valid feature names, but KNeighborsClassifier was fitted with feature names\n",
      "  warnings.warn(\n"
     ]
    },
    {
     "name": "stdout",
     "output_type": "stream",
     "text": [
      "(51.15302867904347, 149.215258468147, -10.0)\n",
      "[[0.33333333 0.         0.66666667 0.        ]]\n",
      "(49.08393213378725, 149.19742965549548, -8.0)\n",
      "[[0.33333333 0.         0.66666667 0.        ]]\n",
      "(53.51333671223979, 148.7109218779479, -6.5)\n",
      "[[0.33333333 0.         0.66666667 0.        ]]\n",
      "(53.64381507697097, 149.41826899163127, -6.0)\n",
      "[[0.33333333 0.         0.66666667 0.        ]]\n"
     ]
    },
    {
     "name": "stderr",
     "output_type": "stream",
     "text": [
      "C:\\Users\\smhrd\\AppData\\Local\\Temp\\ipykernel_15348\\2774937686.py:68: FutureWarning: The frame.append method is deprecated and will be removed from pandas in a future version. Use pandas.concat instead.\n",
      "  df = df.append([globals()[f'list']])\n",
      "C:\\Users\\smhrd\\AppData\\Roaming\\Python\\Python39\\site-packages\\sklearn\\base.py:450: UserWarning: X does not have valid feature names, but KNeighborsClassifier was fitted with feature names\n",
      "  warnings.warn(\n",
      "C:\\Users\\smhrd\\AppData\\Local\\Temp\\ipykernel_15348\\2774937686.py:68: FutureWarning: The frame.append method is deprecated and will be removed from pandas in a future version. Use pandas.concat instead.\n",
      "  df = df.append([globals()[f'list']])\n",
      "C:\\Users\\smhrd\\AppData\\Roaming\\Python\\Python39\\site-packages\\sklearn\\base.py:450: UserWarning: X does not have valid feature names, but KNeighborsClassifier was fitted with feature names\n",
      "  warnings.warn(\n",
      "C:\\Users\\smhrd\\AppData\\Local\\Temp\\ipykernel_15348\\2774937686.py:68: FutureWarning: The frame.append method is deprecated and will be removed from pandas in a future version. Use pandas.concat instead.\n",
      "  df = df.append([globals()[f'list']])\n",
      "C:\\Users\\smhrd\\AppData\\Roaming\\Python\\Python39\\site-packages\\sklearn\\base.py:450: UserWarning: X does not have valid feature names, but KNeighborsClassifier was fitted with feature names\n",
      "  warnings.warn(\n",
      "C:\\Users\\smhrd\\AppData\\Local\\Temp\\ipykernel_15348\\2774937686.py:68: FutureWarning: The frame.append method is deprecated and will be removed from pandas in a future version. Use pandas.concat instead.\n",
      "  df = df.append([globals()[f'list']])\n",
      "C:\\Users\\smhrd\\AppData\\Roaming\\Python\\Python39\\site-packages\\sklearn\\base.py:450: UserWarning: X does not have valid feature names, but KNeighborsClassifier was fitted with feature names\n",
      "  warnings.warn(\n"
     ]
    },
    {
     "name": "stdout",
     "output_type": "stream",
     "text": [
      "(47.70467032819499, 150.10356574356058, -3.0)\n",
      "[[0. 0. 1. 0.]]\n",
      "(46.83992540269113, 149.31421421305996, -4.5)\n",
      "[[0. 0. 1. 0.]]\n",
      "(45.245467418421015, 150.75395820113252, -2.5)\n",
      "[[0. 0. 1. 0.]]\n",
      "(45.55797288038582, 148.68433010587364, -7.5)\n",
      "[[0. 0. 1. 0.]]\n"
     ]
    },
    {
     "name": "stderr",
     "output_type": "stream",
     "text": [
      "C:\\Users\\smhrd\\AppData\\Local\\Temp\\ipykernel_15348\\2774937686.py:68: FutureWarning: The frame.append method is deprecated and will be removed from pandas in a future version. Use pandas.concat instead.\n",
      "  df = df.append([globals()[f'list']])\n",
      "C:\\Users\\smhrd\\AppData\\Roaming\\Python\\Python39\\site-packages\\sklearn\\base.py:450: UserWarning: X does not have valid feature names, but KNeighborsClassifier was fitted with feature names\n",
      "  warnings.warn(\n",
      "C:\\Users\\smhrd\\AppData\\Local\\Temp\\ipykernel_15348\\2774937686.py:68: FutureWarning: The frame.append method is deprecated and will be removed from pandas in a future version. Use pandas.concat instead.\n",
      "  df = df.append([globals()[f'list']])\n",
      "C:\\Users\\smhrd\\AppData\\Roaming\\Python\\Python39\\site-packages\\sklearn\\base.py:450: UserWarning: X does not have valid feature names, but KNeighborsClassifier was fitted with feature names\n",
      "  warnings.warn(\n",
      "C:\\Users\\smhrd\\AppData\\Local\\Temp\\ipykernel_15348\\2774937686.py:68: FutureWarning: The frame.append method is deprecated and will be removed from pandas in a future version. Use pandas.concat instead.\n",
      "  df = df.append([globals()[f'list']])\n",
      "C:\\Users\\smhrd\\AppData\\Roaming\\Python\\Python39\\site-packages\\sklearn\\base.py:450: UserWarning: X does not have valid feature names, but KNeighborsClassifier was fitted with feature names\n",
      "  warnings.warn(\n",
      "C:\\Users\\smhrd\\AppData\\Local\\Temp\\ipykernel_15348\\2774937686.py:68: FutureWarning: The frame.append method is deprecated and will be removed from pandas in a future version. Use pandas.concat instead.\n",
      "  df = df.append([globals()[f'list']])\n",
      "C:\\Users\\smhrd\\AppData\\Roaming\\Python\\Python39\\site-packages\\sklearn\\base.py:450: UserWarning: X does not have valid feature names, but KNeighborsClassifier was fitted with feature names\n",
      "  warnings.warn(\n"
     ]
    },
    {
     "name": "stdout",
     "output_type": "stream",
     "text": [
      "(55.09105723888892, 150.30407467484534, -3.5)\n",
      "[[0.66666667 0.         0.33333333 0.        ]]\n",
      "(53.141393831472094, 150.89150324967432, -3.0)\n",
      "[[0.33333333 0.         0.66666667 0.        ]]\n",
      "(53.8523139076214, 149.64980985994495, -3.0)\n",
      "[[0.33333333 0.         0.66666667 0.        ]]\n",
      "(49.604944501727246, 150.14766556353672, -3.0)\n",
      "[[0. 0. 1. 0.]]\n"
     ]
    },
    {
     "name": "stderr",
     "output_type": "stream",
     "text": [
      "C:\\Users\\smhrd\\AppData\\Local\\Temp\\ipykernel_15348\\2774937686.py:68: FutureWarning: The frame.append method is deprecated and will be removed from pandas in a future version. Use pandas.concat instead.\n",
      "  df = df.append([globals()[f'list']])\n",
      "C:\\Users\\smhrd\\AppData\\Roaming\\Python\\Python39\\site-packages\\sklearn\\base.py:450: UserWarning: X does not have valid feature names, but KNeighborsClassifier was fitted with feature names\n",
      "  warnings.warn(\n",
      "C:\\Users\\smhrd\\AppData\\Local\\Temp\\ipykernel_15348\\2774937686.py:68: FutureWarning: The frame.append method is deprecated and will be removed from pandas in a future version. Use pandas.concat instead.\n",
      "  df = df.append([globals()[f'list']])\n",
      "C:\\Users\\smhrd\\AppData\\Roaming\\Python\\Python39\\site-packages\\sklearn\\base.py:450: UserWarning: X does not have valid feature names, but KNeighborsClassifier was fitted with feature names\n",
      "  warnings.warn(\n",
      "C:\\Users\\smhrd\\AppData\\Local\\Temp\\ipykernel_15348\\2774937686.py:68: FutureWarning: The frame.append method is deprecated and will be removed from pandas in a future version. Use pandas.concat instead.\n",
      "  df = df.append([globals()[f'list']])\n",
      "C:\\Users\\smhrd\\AppData\\Roaming\\Python\\Python39\\site-packages\\sklearn\\base.py:450: UserWarning: X does not have valid feature names, but KNeighborsClassifier was fitted with feature names\n",
      "  warnings.warn(\n",
      "C:\\Users\\smhrd\\AppData\\Local\\Temp\\ipykernel_15348\\2774937686.py:68: FutureWarning: The frame.append method is deprecated and will be removed from pandas in a future version. Use pandas.concat instead.\n",
      "  df = df.append([globals()[f'list']])\n",
      "C:\\Users\\smhrd\\AppData\\Roaming\\Python\\Python39\\site-packages\\sklearn\\base.py:450: UserWarning: X does not have valid feature names, but KNeighborsClassifier was fitted with feature names\n",
      "  warnings.warn(\n"
     ]
    },
    {
     "name": "stdout",
     "output_type": "stream",
     "text": [
      "(48.59952361956105, 152.14828838513245, -0.5)\n",
      "[[0. 0. 1. 0.]]\n",
      "(46.88438006841518, 149.4899179271966, -7.0)\n",
      "[[0.33333333 0.         0.66666667 0.        ]]\n",
      "(47.25034187847861, 149.60430441202828, -6.0)\n",
      "[[0. 0. 1. 0.]]\n",
      "(51.991682210448396, 154.60881348266733, 2.0)\n",
      "[[0.33333333 0.         0.66666667 0.        ]]\n"
     ]
    },
    {
     "name": "stderr",
     "output_type": "stream",
     "text": [
      "C:\\Users\\smhrd\\AppData\\Local\\Temp\\ipykernel_15348\\2774937686.py:68: FutureWarning: The frame.append method is deprecated and will be removed from pandas in a future version. Use pandas.concat instead.\n",
      "  df = df.append([globals()[f'list']])\n",
      "C:\\Users\\smhrd\\AppData\\Roaming\\Python\\Python39\\site-packages\\sklearn\\base.py:450: UserWarning: X does not have valid feature names, but KNeighborsClassifier was fitted with feature names\n",
      "  warnings.warn(\n",
      "C:\\Users\\smhrd\\AppData\\Local\\Temp\\ipykernel_15348\\2774937686.py:68: FutureWarning: The frame.append method is deprecated and will be removed from pandas in a future version. Use pandas.concat instead.\n",
      "  df = df.append([globals()[f'list']])\n",
      "C:\\Users\\smhrd\\AppData\\Roaming\\Python\\Python39\\site-packages\\sklearn\\base.py:450: UserWarning: X does not have valid feature names, but KNeighborsClassifier was fitted with feature names\n",
      "  warnings.warn(\n",
      "C:\\Users\\smhrd\\AppData\\Local\\Temp\\ipykernel_15348\\2774937686.py:68: FutureWarning: The frame.append method is deprecated and will be removed from pandas in a future version. Use pandas.concat instead.\n",
      "  df = df.append([globals()[f'list']])\n",
      "C:\\Users\\smhrd\\AppData\\Roaming\\Python\\Python39\\site-packages\\sklearn\\base.py:450: UserWarning: X does not have valid feature names, but KNeighborsClassifier was fitted with feature names\n",
      "  warnings.warn(\n",
      "C:\\Users\\smhrd\\AppData\\Local\\Temp\\ipykernel_15348\\2774937686.py:68: FutureWarning: The frame.append method is deprecated and will be removed from pandas in a future version. Use pandas.concat instead.\n",
      "  df = df.append([globals()[f'list']])\n",
      "C:\\Users\\smhrd\\AppData\\Roaming\\Python\\Python39\\site-packages\\sklearn\\base.py:450: UserWarning: X does not have valid feature names, but KNeighborsClassifier was fitted with feature names\n",
      "  warnings.warn(\n"
     ]
    },
    {
     "name": "stdout",
     "output_type": "stream",
     "text": [
      "(50.858612481359955, 151.84888470948314, -1.5)\n",
      "[[0.33333333 0.         0.66666667 0.        ]]\n",
      "(47.26579732874313, 153.2231881506428, -2.5)\n",
      "[[0.33333333 0.         0.66666667 0.        ]]\n",
      "(50.00989760399886, 152.69614324896312, -2.0)\n",
      "[[0.33333333 0.         0.66666667 0.        ]]\n",
      "(54.06996099837888, 151.72515262636506, -3.5)\n",
      "[[0.66666667 0.         0.33333333 0.        ]]\n"
     ]
    },
    {
     "name": "stderr",
     "output_type": "stream",
     "text": [
      "C:\\Users\\smhrd\\AppData\\Local\\Temp\\ipykernel_15348\\2774937686.py:68: FutureWarning: The frame.append method is deprecated and will be removed from pandas in a future version. Use pandas.concat instead.\n",
      "  df = df.append([globals()[f'list']])\n",
      "C:\\Users\\smhrd\\AppData\\Roaming\\Python\\Python39\\site-packages\\sklearn\\base.py:450: UserWarning: X does not have valid feature names, but KNeighborsClassifier was fitted with feature names\n",
      "  warnings.warn(\n",
      "C:\\Users\\smhrd\\AppData\\Local\\Temp\\ipykernel_15348\\2774937686.py:68: FutureWarning: The frame.append method is deprecated and will be removed from pandas in a future version. Use pandas.concat instead.\n",
      "  df = df.append([globals()[f'list']])\n",
      "C:\\Users\\smhrd\\AppData\\Roaming\\Python\\Python39\\site-packages\\sklearn\\base.py:450: UserWarning: X does not have valid feature names, but KNeighborsClassifier was fitted with feature names\n",
      "  warnings.warn(\n",
      "C:\\Users\\smhrd\\AppData\\Local\\Temp\\ipykernel_15348\\2774937686.py:68: FutureWarning: The frame.append method is deprecated and will be removed from pandas in a future version. Use pandas.concat instead.\n",
      "  df = df.append([globals()[f'list']])\n",
      "C:\\Users\\smhrd\\AppData\\Roaming\\Python\\Python39\\site-packages\\sklearn\\base.py:450: UserWarning: X does not have valid feature names, but KNeighborsClassifier was fitted with feature names\n",
      "  warnings.warn(\n",
      "C:\\Users\\smhrd\\AppData\\Local\\Temp\\ipykernel_15348\\2774937686.py:68: FutureWarning: The frame.append method is deprecated and will be removed from pandas in a future version. Use pandas.concat instead.\n",
      "  df = df.append([globals()[f'list']])\n",
      "C:\\Users\\smhrd\\AppData\\Roaming\\Python\\Python39\\site-packages\\sklearn\\base.py:450: UserWarning: X does not have valid feature names, but KNeighborsClassifier was fitted with feature names\n",
      "  warnings.warn(\n"
     ]
    },
    {
     "name": "stdout",
     "output_type": "stream",
     "text": [
      "(57.260565971632914, 152.71980547221384, 2.0)\n",
      "[[0.66666667 0.         0.33333333 0.        ]]\n",
      "(57.464052038847925, 152.38713590356807, -2.0)\n",
      "[[0.66666667 0.         0.33333333 0.        ]]\n",
      "(56.912726838679774, 151.4819962642554, -7.0)\n",
      "[[0.66666667 0.         0.33333333 0.        ]]\n",
      "(58.91798933291707, 151.67025897849572, -6.0)\n",
      "[[0.66666667 0.         0.33333333 0.        ]]\n"
     ]
    },
    {
     "name": "stderr",
     "output_type": "stream",
     "text": [
      "C:\\Users\\smhrd\\AppData\\Local\\Temp\\ipykernel_15348\\2774937686.py:68: FutureWarning: The frame.append method is deprecated and will be removed from pandas in a future version. Use pandas.concat instead.\n",
      "  df = df.append([globals()[f'list']])\n",
      "C:\\Users\\smhrd\\AppData\\Roaming\\Python\\Python39\\site-packages\\sklearn\\base.py:450: UserWarning: X does not have valid feature names, but KNeighborsClassifier was fitted with feature names\n",
      "  warnings.warn(\n",
      "C:\\Users\\smhrd\\AppData\\Local\\Temp\\ipykernel_15348\\2774937686.py:68: FutureWarning: The frame.append method is deprecated and will be removed from pandas in a future version. Use pandas.concat instead.\n",
      "  df = df.append([globals()[f'list']])\n",
      "C:\\Users\\smhrd\\AppData\\Roaming\\Python\\Python39\\site-packages\\sklearn\\base.py:450: UserWarning: X does not have valid feature names, but KNeighborsClassifier was fitted with feature names\n",
      "  warnings.warn(\n",
      "C:\\Users\\smhrd\\AppData\\Local\\Temp\\ipykernel_15348\\2774937686.py:68: FutureWarning: The frame.append method is deprecated and will be removed from pandas in a future version. Use pandas.concat instead.\n",
      "  df = df.append([globals()[f'list']])\n",
      "C:\\Users\\smhrd\\AppData\\Roaming\\Python\\Python39\\site-packages\\sklearn\\base.py:450: UserWarning: X does not have valid feature names, but KNeighborsClassifier was fitted with feature names\n",
      "  warnings.warn(\n",
      "C:\\Users\\smhrd\\AppData\\Local\\Temp\\ipykernel_15348\\2774937686.py:68: FutureWarning: The frame.append method is deprecated and will be removed from pandas in a future version. Use pandas.concat instead.\n",
      "  df = df.append([globals()[f'list']])\n",
      "C:\\Users\\smhrd\\AppData\\Roaming\\Python\\Python39\\site-packages\\sklearn\\base.py:450: UserWarning: X does not have valid feature names, but KNeighborsClassifier was fitted with feature names\n",
      "  warnings.warn(\n"
     ]
    },
    {
     "name": "stdout",
     "output_type": "stream",
     "text": [
      "(59.661879776122035, 148.93512466808508, -6.5)\n",
      "[[0.66666667 0.         0.33333333 0.        ]]\n",
      "(60.907865378960196, 149.8881327580945, -5.5)\n",
      "[[0.66666667 0.         0.33333333 0.        ]]\n",
      "(61.30439698493157, 151.46692161985305, -4.5)\n",
      "[[0.66666667 0.         0.33333333 0.        ]]\n",
      "(59.847595306064505, 147.54287548797592, -9.5)\n",
      "[[0.66666667 0.         0.33333333 0.        ]]\n"
     ]
    },
    {
     "name": "stderr",
     "output_type": "stream",
     "text": [
      "C:\\Users\\smhrd\\AppData\\Local\\Temp\\ipykernel_15348\\2774937686.py:68: FutureWarning: The frame.append method is deprecated and will be removed from pandas in a future version. Use pandas.concat instead.\n",
      "  df = df.append([globals()[f'list']])\n",
      "C:\\Users\\smhrd\\AppData\\Roaming\\Python\\Python39\\site-packages\\sklearn\\base.py:450: UserWarning: X does not have valid feature names, but KNeighborsClassifier was fitted with feature names\n",
      "  warnings.warn(\n",
      "C:\\Users\\smhrd\\AppData\\Local\\Temp\\ipykernel_15348\\2774937686.py:68: FutureWarning: The frame.append method is deprecated and will be removed from pandas in a future version. Use pandas.concat instead.\n",
      "  df = df.append([globals()[f'list']])\n",
      "C:\\Users\\smhrd\\AppData\\Roaming\\Python\\Python39\\site-packages\\sklearn\\base.py:450: UserWarning: X does not have valid feature names, but KNeighborsClassifier was fitted with feature names\n",
      "  warnings.warn(\n",
      "C:\\Users\\smhrd\\AppData\\Local\\Temp\\ipykernel_15348\\2774937686.py:68: FutureWarning: The frame.append method is deprecated and will be removed from pandas in a future version. Use pandas.concat instead.\n",
      "  df = df.append([globals()[f'list']])\n",
      "C:\\Users\\smhrd\\AppData\\Roaming\\Python\\Python39\\site-packages\\sklearn\\base.py:450: UserWarning: X does not have valid feature names, but KNeighborsClassifier was fitted with feature names\n",
      "  warnings.warn(\n",
      "C:\\Users\\smhrd\\AppData\\Local\\Temp\\ipykernel_15348\\2774937686.py:68: FutureWarning: The frame.append method is deprecated and will be removed from pandas in a future version. Use pandas.concat instead.\n",
      "  df = df.append([globals()[f'list']])\n",
      "C:\\Users\\smhrd\\AppData\\Roaming\\Python\\Python39\\site-packages\\sklearn\\base.py:450: UserWarning: X does not have valid feature names, but KNeighborsClassifier was fitted with feature names\n",
      "  warnings.warn(\n"
     ]
    },
    {
     "name": "stdout",
     "output_type": "stream",
     "text": [
      "(60.7681108164476, 149.05092098069505, -8.5)\n",
      "[[0.66666667 0.         0.33333333 0.        ]]\n",
      "(64.39150259673012, 147.5504177558006, -9.0)\n",
      "[[1. 0. 0. 0.]]\n",
      "(64.26796318042257, 147.20764843402125, -10.5)\n",
      "[[1. 0. 0. 0.]]\n",
      "(65.14502844808602, 148.79278129282886, -7.5)\n",
      "[[1. 0. 0. 0.]]\n"
     ]
    },
    {
     "name": "stderr",
     "output_type": "stream",
     "text": [
      "C:\\Users\\smhrd\\AppData\\Local\\Temp\\ipykernel_15348\\2774937686.py:68: FutureWarning: The frame.append method is deprecated and will be removed from pandas in a future version. Use pandas.concat instead.\n",
      "  df = df.append([globals()[f'list']])\n",
      "C:\\Users\\smhrd\\AppData\\Roaming\\Python\\Python39\\site-packages\\sklearn\\base.py:450: UserWarning: X does not have valid feature names, but KNeighborsClassifier was fitted with feature names\n",
      "  warnings.warn(\n",
      "C:\\Users\\smhrd\\AppData\\Local\\Temp\\ipykernel_15348\\2774937686.py:68: FutureWarning: The frame.append method is deprecated and will be removed from pandas in a future version. Use pandas.concat instead.\n",
      "  df = df.append([globals()[f'list']])\n",
      "C:\\Users\\smhrd\\AppData\\Roaming\\Python\\Python39\\site-packages\\sklearn\\base.py:450: UserWarning: X does not have valid feature names, but KNeighborsClassifier was fitted with feature names\n",
      "  warnings.warn(\n",
      "C:\\Users\\smhrd\\AppData\\Local\\Temp\\ipykernel_15348\\2774937686.py:68: FutureWarning: The frame.append method is deprecated and will be removed from pandas in a future version. Use pandas.concat instead.\n",
      "  df = df.append([globals()[f'list']])\n",
      "C:\\Users\\smhrd\\AppData\\Roaming\\Python\\Python39\\site-packages\\sklearn\\base.py:450: UserWarning: X does not have valid feature names, but KNeighborsClassifier was fitted with feature names\n",
      "  warnings.warn(\n",
      "C:\\Users\\smhrd\\AppData\\Local\\Temp\\ipykernel_15348\\2774937686.py:68: FutureWarning: The frame.append method is deprecated and will be removed from pandas in a future version. Use pandas.concat instead.\n",
      "  df = df.append([globals()[f'list']])\n",
      "C:\\Users\\smhrd\\AppData\\Roaming\\Python\\Python39\\site-packages\\sklearn\\base.py:450: UserWarning: X does not have valid feature names, but KNeighborsClassifier was fitted with feature names\n",
      "  warnings.warn(\n"
     ]
    },
    {
     "name": "stdout",
     "output_type": "stream",
     "text": [
      "(64.46694538653313, 150.7838514524354, -7.0)\n",
      "[[1. 0. 0. 0.]]\n",
      "(65.87204354020885, 149.32441534120528, -8.5)\n",
      "[[1. 0. 0. 0.]]\n",
      "(66.50642361834426, 150.47043218406387, -8.5)\n",
      "[[1. 0. 0. 0.]]\n",
      "(65.78446345652824, 149.33371096337302, -12.5)\n",
      "[[1. 0. 0. 0.]]\n"
     ]
    },
    {
     "name": "stderr",
     "output_type": "stream",
     "text": [
      "C:\\Users\\smhrd\\AppData\\Local\\Temp\\ipykernel_15348\\2774937686.py:68: FutureWarning: The frame.append method is deprecated and will be removed from pandas in a future version. Use pandas.concat instead.\n",
      "  df = df.append([globals()[f'list']])\n",
      "C:\\Users\\smhrd\\AppData\\Roaming\\Python\\Python39\\site-packages\\sklearn\\base.py:450: UserWarning: X does not have valid feature names, but KNeighborsClassifier was fitted with feature names\n",
      "  warnings.warn(\n",
      "C:\\Users\\smhrd\\AppData\\Local\\Temp\\ipykernel_15348\\2774937686.py:68: FutureWarning: The frame.append method is deprecated and will be removed from pandas in a future version. Use pandas.concat instead.\n",
      "  df = df.append([globals()[f'list']])\n",
      "C:\\Users\\smhrd\\AppData\\Roaming\\Python\\Python39\\site-packages\\sklearn\\base.py:450: UserWarning: X does not have valid feature names, but KNeighborsClassifier was fitted with feature names\n",
      "  warnings.warn(\n",
      "C:\\Users\\smhrd\\AppData\\Local\\Temp\\ipykernel_15348\\2774937686.py:68: FutureWarning: The frame.append method is deprecated and will be removed from pandas in a future version. Use pandas.concat instead.\n",
      "  df = df.append([globals()[f'list']])\n",
      "C:\\Users\\smhrd\\AppData\\Roaming\\Python\\Python39\\site-packages\\sklearn\\base.py:450: UserWarning: X does not have valid feature names, but KNeighborsClassifier was fitted with feature names\n",
      "  warnings.warn(\n",
      "C:\\Users\\smhrd\\AppData\\Local\\Temp\\ipykernel_15348\\2774937686.py:68: FutureWarning: The frame.append method is deprecated and will be removed from pandas in a future version. Use pandas.concat instead.\n",
      "  df = df.append([globals()[f'list']])\n",
      "C:\\Users\\smhrd\\AppData\\Roaming\\Python\\Python39\\site-packages\\sklearn\\base.py:450: UserWarning: X does not have valid feature names, but KNeighborsClassifier was fitted with feature names\n",
      "  warnings.warn(\n"
     ]
    },
    {
     "name": "stdout",
     "output_type": "stream",
     "text": [
      "(67.55659744223921, 150.43682279134873, -11.0)\n",
      "[[1. 0. 0. 0.]]\n",
      "(68.43790061138446, 149.57814783733218, -10.0)\n",
      "[[1. 0. 0. 0.]]\n",
      "(67.80273750269015, 149.696717453634, -10.0)\n",
      "[[1. 0. 0. 0.]]\n",
      "(70.05266718580923, 148.7809064199416, -13.0)\n",
      "[[1. 0. 0. 0.]]\n"
     ]
    },
    {
     "name": "stderr",
     "output_type": "stream",
     "text": [
      "C:\\Users\\smhrd\\AppData\\Local\\Temp\\ipykernel_15348\\2774937686.py:68: FutureWarning: The frame.append method is deprecated and will be removed from pandas in a future version. Use pandas.concat instead.\n",
      "  df = df.append([globals()[f'list']])\n",
      "C:\\Users\\smhrd\\AppData\\Roaming\\Python\\Python39\\site-packages\\sklearn\\base.py:450: UserWarning: X does not have valid feature names, but KNeighborsClassifier was fitted with feature names\n",
      "  warnings.warn(\n",
      "C:\\Users\\smhrd\\AppData\\Local\\Temp\\ipykernel_15348\\2774937686.py:68: FutureWarning: The frame.append method is deprecated and will be removed from pandas in a future version. Use pandas.concat instead.\n",
      "  df = df.append([globals()[f'list']])\n",
      "C:\\Users\\smhrd\\AppData\\Roaming\\Python\\Python39\\site-packages\\sklearn\\base.py:450: UserWarning: X does not have valid feature names, but KNeighborsClassifier was fitted with feature names\n",
      "  warnings.warn(\n",
      "C:\\Users\\smhrd\\AppData\\Local\\Temp\\ipykernel_15348\\2774937686.py:68: FutureWarning: The frame.append method is deprecated and will be removed from pandas in a future version. Use pandas.concat instead.\n",
      "  df = df.append([globals()[f'list']])\n",
      "C:\\Users\\smhrd\\AppData\\Roaming\\Python\\Python39\\site-packages\\sklearn\\base.py:450: UserWarning: X does not have valid feature names, but KNeighborsClassifier was fitted with feature names\n",
      "  warnings.warn(\n",
      "C:\\Users\\smhrd\\AppData\\Local\\Temp\\ipykernel_15348\\2774937686.py:68: FutureWarning: The frame.append method is deprecated and will be removed from pandas in a future version. Use pandas.concat instead.\n",
      "  df = df.append([globals()[f'list']])\n",
      "C:\\Users\\smhrd\\AppData\\Roaming\\Python\\Python39\\site-packages\\sklearn\\base.py:450: UserWarning: X does not have valid feature names, but KNeighborsClassifier was fitted with feature names\n",
      "  warnings.warn(\n"
     ]
    },
    {
     "name": "stdout",
     "output_type": "stream",
     "text": [
      "(71.47919249757169, 152.0411352126291, -12.0)\n",
      "[[1. 0. 0. 0.]]\n",
      "(71.74810416292145, 149.53302917392767, -16.0)\n",
      "[[1. 0. 0. 0.]]\n",
      "(72.57999731432602, 148.09964112376065, -16.5)\n",
      "[[1. 0. 0. 0.]]\n",
      "(74.06775253342315, 150.2186623818595, -12.0)\n",
      "[[1. 0. 0. 0.]]\n"
     ]
    },
    {
     "name": "stderr",
     "output_type": "stream",
     "text": [
      "C:\\Users\\smhrd\\AppData\\Local\\Temp\\ipykernel_15348\\2774937686.py:68: FutureWarning: The frame.append method is deprecated and will be removed from pandas in a future version. Use pandas.concat instead.\n",
      "  df = df.append([globals()[f'list']])\n",
      "C:\\Users\\smhrd\\AppData\\Roaming\\Python\\Python39\\site-packages\\sklearn\\base.py:450: UserWarning: X does not have valid feature names, but KNeighborsClassifier was fitted with feature names\n",
      "  warnings.warn(\n",
      "C:\\Users\\smhrd\\AppData\\Local\\Temp\\ipykernel_15348\\2774937686.py:68: FutureWarning: The frame.append method is deprecated and will be removed from pandas in a future version. Use pandas.concat instead.\n",
      "  df = df.append([globals()[f'list']])\n",
      "C:\\Users\\smhrd\\AppData\\Roaming\\Python\\Python39\\site-packages\\sklearn\\base.py:450: UserWarning: X does not have valid feature names, but KNeighborsClassifier was fitted with feature names\n",
      "  warnings.warn(\n",
      "C:\\Users\\smhrd\\AppData\\Local\\Temp\\ipykernel_15348\\2774937686.py:68: FutureWarning: The frame.append method is deprecated and will be removed from pandas in a future version. Use pandas.concat instead.\n",
      "  df = df.append([globals()[f'list']])\n",
      "C:\\Users\\smhrd\\AppData\\Roaming\\Python\\Python39\\site-packages\\sklearn\\base.py:450: UserWarning: X does not have valid feature names, but KNeighborsClassifier was fitted with feature names\n",
      "  warnings.warn(\n",
      "C:\\Users\\smhrd\\AppData\\Local\\Temp\\ipykernel_15348\\2774937686.py:68: FutureWarning: The frame.append method is deprecated and will be removed from pandas in a future version. Use pandas.concat instead.\n",
      "  df = df.append([globals()[f'list']])\n",
      "C:\\Users\\smhrd\\AppData\\Roaming\\Python\\Python39\\site-packages\\sklearn\\base.py:450: UserWarning: X does not have valid feature names, but KNeighborsClassifier was fitted with feature names\n",
      "  warnings.warn(\n"
     ]
    },
    {
     "name": "stdout",
     "output_type": "stream",
     "text": [
      "(73.83555586085001, 146.63841263328362, -17.5)\n",
      "[[1. 0. 0. 0.]]\n",
      "(75.22858103297153, 149.03885887758886, -14.0)\n",
      "[[1. 0. 0. 0.]]\n",
      "(75.94563298630197, 150.51296678322456, -15.0)\n",
      "[[1. 0. 0. 0.]]\n",
      "(76.55629825876024, 147.96491007236588, -17.0)\n",
      "[[1. 0. 0. 0.]]\n"
     ]
    },
    {
     "name": "stderr",
     "output_type": "stream",
     "text": [
      "C:\\Users\\smhrd\\AppData\\Local\\Temp\\ipykernel_15348\\2774937686.py:68: FutureWarning: The frame.append method is deprecated and will be removed from pandas in a future version. Use pandas.concat instead.\n",
      "  df = df.append([globals()[f'list']])\n",
      "C:\\Users\\smhrd\\AppData\\Roaming\\Python\\Python39\\site-packages\\sklearn\\base.py:450: UserWarning: X does not have valid feature names, but KNeighborsClassifier was fitted with feature names\n",
      "  warnings.warn(\n",
      "C:\\Users\\smhrd\\AppData\\Local\\Temp\\ipykernel_15348\\2774937686.py:68: FutureWarning: The frame.append method is deprecated and will be removed from pandas in a future version. Use pandas.concat instead.\n",
      "  df = df.append([globals()[f'list']])\n",
      "C:\\Users\\smhrd\\AppData\\Roaming\\Python\\Python39\\site-packages\\sklearn\\base.py:450: UserWarning: X does not have valid feature names, but KNeighborsClassifier was fitted with feature names\n",
      "  warnings.warn(\n",
      "C:\\Users\\smhrd\\AppData\\Local\\Temp\\ipykernel_15348\\2774937686.py:68: FutureWarning: The frame.append method is deprecated and will be removed from pandas in a future version. Use pandas.concat instead.\n",
      "  df = df.append([globals()[f'list']])\n",
      "C:\\Users\\smhrd\\AppData\\Roaming\\Python\\Python39\\site-packages\\sklearn\\base.py:450: UserWarning: X does not have valid feature names, but KNeighborsClassifier was fitted with feature names\n",
      "  warnings.warn(\n",
      "C:\\Users\\smhrd\\AppData\\Local\\Temp\\ipykernel_15348\\2774937686.py:68: FutureWarning: The frame.append method is deprecated and will be removed from pandas in a future version. Use pandas.concat instead.\n",
      "  df = df.append([globals()[f'list']])\n",
      "C:\\Users\\smhrd\\AppData\\Roaming\\Python\\Python39\\site-packages\\sklearn\\base.py:450: UserWarning: X does not have valid feature names, but KNeighborsClassifier was fitted with feature names\n",
      "  warnings.warn(\n"
     ]
    },
    {
     "name": "stdout",
     "output_type": "stream",
     "text": [
      "(77.3098565285198, 147.53478757541552, -15.5)\n",
      "[[1. 0. 0. 0.]]\n",
      "(76.82744657667311, 149.13442962517738, -14.0)\n",
      "[[1. 0. 0. 0.]]\n",
      "(76.85823903867966, 150.20422288100724, -12.0)\n",
      "[[1. 0. 0. 0.]]\n",
      "(77.67379879526561, 151.7897932933397, -12.5)\n",
      "[[1. 0. 0. 0.]]\n"
     ]
    },
    {
     "name": "stderr",
     "output_type": "stream",
     "text": [
      "C:\\Users\\smhrd\\AppData\\Local\\Temp\\ipykernel_15348\\2774937686.py:68: FutureWarning: The frame.append method is deprecated and will be removed from pandas in a future version. Use pandas.concat instead.\n",
      "  df = df.append([globals()[f'list']])\n",
      "C:\\Users\\smhrd\\AppData\\Roaming\\Python\\Python39\\site-packages\\sklearn\\base.py:450: UserWarning: X does not have valid feature names, but KNeighborsClassifier was fitted with feature names\n",
      "  warnings.warn(\n",
      "C:\\Users\\smhrd\\AppData\\Local\\Temp\\ipykernel_15348\\2774937686.py:68: FutureWarning: The frame.append method is deprecated and will be removed from pandas in a future version. Use pandas.concat instead.\n",
      "  df = df.append([globals()[f'list']])\n",
      "C:\\Users\\smhrd\\AppData\\Roaming\\Python\\Python39\\site-packages\\sklearn\\base.py:450: UserWarning: X does not have valid feature names, but KNeighborsClassifier was fitted with feature names\n",
      "  warnings.warn(\n",
      "C:\\Users\\smhrd\\AppData\\Local\\Temp\\ipykernel_15348\\2774937686.py:68: FutureWarning: The frame.append method is deprecated and will be removed from pandas in a future version. Use pandas.concat instead.\n",
      "  df = df.append([globals()[f'list']])\n",
      "C:\\Users\\smhrd\\AppData\\Roaming\\Python\\Python39\\site-packages\\sklearn\\base.py:450: UserWarning: X does not have valid feature names, but KNeighborsClassifier was fitted with feature names\n",
      "  warnings.warn(\n",
      "C:\\Users\\smhrd\\AppData\\Local\\Temp\\ipykernel_15348\\2774937686.py:68: FutureWarning: The frame.append method is deprecated and will be removed from pandas in a future version. Use pandas.concat instead.\n",
      "  df = df.append([globals()[f'list']])\n",
      "C:\\Users\\smhrd\\AppData\\Roaming\\Python\\Python39\\site-packages\\sklearn\\base.py:450: UserWarning: X does not have valid feature names, but KNeighborsClassifier was fitted with feature names\n",
      "  warnings.warn(\n"
     ]
    },
    {
     "name": "stdout",
     "output_type": "stream",
     "text": [
      "(77.82569014961894, 148.87492609178162, -13.0)\n",
      "[[1. 0. 0. 0.]]\n",
      "(77.07164660897195, 147.72907043887346, -14.5)\n",
      "[[1. 0. 0. 0.]]\n",
      "(77.97772331381648, 149.40481868237055, -15.5)\n",
      "[[1. 0. 0. 0.]]\n",
      "(77.62193747991579, 148.4201273411909, -17.5)\n",
      "[[1. 0. 0. 0.]]\n"
     ]
    },
    {
     "name": "stderr",
     "output_type": "stream",
     "text": [
      "C:\\Users\\smhrd\\AppData\\Local\\Temp\\ipykernel_15348\\2774937686.py:68: FutureWarning: The frame.append method is deprecated and will be removed from pandas in a future version. Use pandas.concat instead.\n",
      "  df = df.append([globals()[f'list']])\n",
      "C:\\Users\\smhrd\\AppData\\Roaming\\Python\\Python39\\site-packages\\sklearn\\base.py:450: UserWarning: X does not have valid feature names, but KNeighborsClassifier was fitted with feature names\n",
      "  warnings.warn(\n",
      "C:\\Users\\smhrd\\AppData\\Local\\Temp\\ipykernel_15348\\2774937686.py:68: FutureWarning: The frame.append method is deprecated and will be removed from pandas in a future version. Use pandas.concat instead.\n",
      "  df = df.append([globals()[f'list']])\n",
      "C:\\Users\\smhrd\\AppData\\Roaming\\Python\\Python39\\site-packages\\sklearn\\base.py:450: UserWarning: X does not have valid feature names, but KNeighborsClassifier was fitted with feature names\n",
      "  warnings.warn(\n",
      "C:\\Users\\smhrd\\AppData\\Local\\Temp\\ipykernel_15348\\2774937686.py:68: FutureWarning: The frame.append method is deprecated and will be removed from pandas in a future version. Use pandas.concat instead.\n",
      "  df = df.append([globals()[f'list']])\n",
      "C:\\Users\\smhrd\\AppData\\Roaming\\Python\\Python39\\site-packages\\sklearn\\base.py:450: UserWarning: X does not have valid feature names, but KNeighborsClassifier was fitted with feature names\n",
      "  warnings.warn(\n",
      "C:\\Users\\smhrd\\AppData\\Local\\Temp\\ipykernel_15348\\2774937686.py:68: FutureWarning: The frame.append method is deprecated and will be removed from pandas in a future version. Use pandas.concat instead.\n",
      "  df = df.append([globals()[f'list']])\n",
      "C:\\Users\\smhrd\\AppData\\Roaming\\Python\\Python39\\site-packages\\sklearn\\base.py:450: UserWarning: X does not have valid feature names, but KNeighborsClassifier was fitted with feature names\n",
      "  warnings.warn(\n"
     ]
    },
    {
     "name": "stdout",
     "output_type": "stream",
     "text": [
      "(78.99060914379889, 146.46389477680594, -17.5)\n",
      "[[1. 0. 0. 0.]]\n",
      "(80.47575501870033, 145.43194662346232, -15.0)\n",
      "[[1. 0. 0. 0.]]\n",
      "(80.53767779197437, 147.88402702190893, -15.0)\n",
      "[[1. 0. 0. 0.]]\n",
      "(81.62889401723697, 149.27437957099195, -13.5)\n",
      "[[1. 0. 0. 0.]]\n"
     ]
    },
    {
     "name": "stderr",
     "output_type": "stream",
     "text": [
      "C:\\Users\\smhrd\\AppData\\Local\\Temp\\ipykernel_15348\\2774937686.py:68: FutureWarning: The frame.append method is deprecated and will be removed from pandas in a future version. Use pandas.concat instead.\n",
      "  df = df.append([globals()[f'list']])\n",
      "C:\\Users\\smhrd\\AppData\\Roaming\\Python\\Python39\\site-packages\\sklearn\\base.py:450: UserWarning: X does not have valid feature names, but KNeighborsClassifier was fitted with feature names\n",
      "  warnings.warn(\n",
      "C:\\Users\\smhrd\\AppData\\Local\\Temp\\ipykernel_15348\\2774937686.py:68: FutureWarning: The frame.append method is deprecated and will be removed from pandas in a future version. Use pandas.concat instead.\n",
      "  df = df.append([globals()[f'list']])\n",
      "C:\\Users\\smhrd\\AppData\\Roaming\\Python\\Python39\\site-packages\\sklearn\\base.py:450: UserWarning: X does not have valid feature names, but KNeighborsClassifier was fitted with feature names\n",
      "  warnings.warn(\n",
      "C:\\Users\\smhrd\\AppData\\Local\\Temp\\ipykernel_15348\\2774937686.py:68: FutureWarning: The frame.append method is deprecated and will be removed from pandas in a future version. Use pandas.concat instead.\n",
      "  df = df.append([globals()[f'list']])\n",
      "C:\\Users\\smhrd\\AppData\\Roaming\\Python\\Python39\\site-packages\\sklearn\\base.py:450: UserWarning: X does not have valid feature names, but KNeighborsClassifier was fitted with feature names\n",
      "  warnings.warn(\n",
      "C:\\Users\\smhrd\\AppData\\Local\\Temp\\ipykernel_15348\\2774937686.py:68: FutureWarning: The frame.append method is deprecated and will be removed from pandas in a future version. Use pandas.concat instead.\n",
      "  df = df.append([globals()[f'list']])\n",
      "C:\\Users\\smhrd\\AppData\\Roaming\\Python\\Python39\\site-packages\\sklearn\\base.py:450: UserWarning: X does not have valid feature names, but KNeighborsClassifier was fitted with feature names\n",
      "  warnings.warn(\n"
     ]
    },
    {
     "name": "stdout",
     "output_type": "stream",
     "text": [
      "(83.75967375598526, 149.82122386154288, -14.5)\n",
      "[[1. 0. 0. 0.]]\n",
      "(82.54162012557042, 147.99863901757402, -18.5)\n",
      "[[1. 0. 0. 0.]]\n",
      "(84.46485130952541, 150.16008265752507, -15.5)\n",
      "[[1. 0. 0. 0.]]\n",
      "(81.48666757308962, 150.33504597298727, -13.0)\n",
      "[[1. 0. 0. 0.]]\n"
     ]
    },
    {
     "name": "stderr",
     "output_type": "stream",
     "text": [
      "C:\\Users\\smhrd\\AppData\\Local\\Temp\\ipykernel_15348\\2774937686.py:68: FutureWarning: The frame.append method is deprecated and will be removed from pandas in a future version. Use pandas.concat instead.\n",
      "  df = df.append([globals()[f'list']])\n",
      "C:\\Users\\smhrd\\AppData\\Roaming\\Python\\Python39\\site-packages\\sklearn\\base.py:450: UserWarning: X does not have valid feature names, but KNeighborsClassifier was fitted with feature names\n",
      "  warnings.warn(\n",
      "C:\\Users\\smhrd\\AppData\\Local\\Temp\\ipykernel_15348\\2774937686.py:68: FutureWarning: The frame.append method is deprecated and will be removed from pandas in a future version. Use pandas.concat instead.\n",
      "  df = df.append([globals()[f'list']])\n",
      "C:\\Users\\smhrd\\AppData\\Roaming\\Python\\Python39\\site-packages\\sklearn\\base.py:450: UserWarning: X does not have valid feature names, but KNeighborsClassifier was fitted with feature names\n",
      "  warnings.warn(\n",
      "C:\\Users\\smhrd\\AppData\\Local\\Temp\\ipykernel_15348\\2774937686.py:68: FutureWarning: The frame.append method is deprecated and will be removed from pandas in a future version. Use pandas.concat instead.\n",
      "  df = df.append([globals()[f'list']])\n",
      "C:\\Users\\smhrd\\AppData\\Roaming\\Python\\Python39\\site-packages\\sklearn\\base.py:450: UserWarning: X does not have valid feature names, but KNeighborsClassifier was fitted with feature names\n",
      "  warnings.warn(\n",
      "C:\\Users\\smhrd\\AppData\\Local\\Temp\\ipykernel_15348\\2774937686.py:68: FutureWarning: The frame.append method is deprecated and will be removed from pandas in a future version. Use pandas.concat instead.\n",
      "  df = df.append([globals()[f'list']])\n",
      "C:\\Users\\smhrd\\AppData\\Roaming\\Python\\Python39\\site-packages\\sklearn\\base.py:450: UserWarning: X does not have valid feature names, but KNeighborsClassifier was fitted with feature names\n",
      "  warnings.warn(\n"
     ]
    },
    {
     "name": "stdout",
     "output_type": "stream",
     "text": [
      "(82.65771206491753, 148.45561259636824, -18.5)\n",
      "[[1. 0. 0. 0.]]\n",
      "(83.61071299527264, 147.2408284316049, -17.5)\n",
      "[[1. 0. 0. 0.]]\n",
      "(83.0900955559035, 146.54915486196495, -23.0)\n",
      "[[1. 0. 0. 0.]]\n",
      "(84.46992721432201, 146.9526636546939, -18.0)\n",
      "[[1. 0. 0. 0.]]\n"
     ]
    },
    {
     "name": "stderr",
     "output_type": "stream",
     "text": [
      "C:\\Users\\smhrd\\AppData\\Local\\Temp\\ipykernel_15348\\2774937686.py:68: FutureWarning: The frame.append method is deprecated and will be removed from pandas in a future version. Use pandas.concat instead.\n",
      "  df = df.append([globals()[f'list']])\n",
      "C:\\Users\\smhrd\\AppData\\Roaming\\Python\\Python39\\site-packages\\sklearn\\base.py:450: UserWarning: X does not have valid feature names, but KNeighborsClassifier was fitted with feature names\n",
      "  warnings.warn(\n",
      "C:\\Users\\smhrd\\AppData\\Local\\Temp\\ipykernel_15348\\2774937686.py:68: FutureWarning: The frame.append method is deprecated and will be removed from pandas in a future version. Use pandas.concat instead.\n",
      "  df = df.append([globals()[f'list']])\n",
      "C:\\Users\\smhrd\\AppData\\Roaming\\Python\\Python39\\site-packages\\sklearn\\base.py:450: UserWarning: X does not have valid feature names, but KNeighborsClassifier was fitted with feature names\n",
      "  warnings.warn(\n",
      "C:\\Users\\smhrd\\AppData\\Local\\Temp\\ipykernel_15348\\2774937686.py:68: FutureWarning: The frame.append method is deprecated and will be removed from pandas in a future version. Use pandas.concat instead.\n",
      "  df = df.append([globals()[f'list']])\n",
      "C:\\Users\\smhrd\\AppData\\Roaming\\Python\\Python39\\site-packages\\sklearn\\base.py:450: UserWarning: X does not have valid feature names, but KNeighborsClassifier was fitted with feature names\n",
      "  warnings.warn(\n"
     ]
    },
    {
     "name": "stdout",
     "output_type": "stream",
     "text": [
      "(85.85993653074998, 146.61043450227592, -15.0)\n",
      "[[1. 0. 0. 0.]]\n",
      "(85.71084667118097, 145.8818930647891, -17.5)\n",
      "[[1. 0. 0. 0.]]\n",
      "(84.48654987752319, 147.56444732392598, -21.0)\n",
      "[[1. 0. 0. 0.]]\n"
     ]
    },
    {
     "name": "stderr",
     "output_type": "stream",
     "text": [
      "C:\\Users\\smhrd\\AppData\\Local\\Temp\\ipykernel_15348\\2774937686.py:68: FutureWarning: The frame.append method is deprecated and will be removed from pandas in a future version. Use pandas.concat instead.\n",
      "  df = df.append([globals()[f'list']])\n",
      "C:\\Users\\smhrd\\AppData\\Roaming\\Python\\Python39\\site-packages\\sklearn\\base.py:450: UserWarning: X does not have valid feature names, but KNeighborsClassifier was fitted with feature names\n",
      "  warnings.warn(\n",
      "C:\\Users\\smhrd\\AppData\\Local\\Temp\\ipykernel_15348\\2774937686.py:68: FutureWarning: The frame.append method is deprecated and will be removed from pandas in a future version. Use pandas.concat instead.\n",
      "  df = df.append([globals()[f'list']])\n",
      "C:\\Users\\smhrd\\AppData\\Roaming\\Python\\Python39\\site-packages\\sklearn\\base.py:450: UserWarning: X does not have valid feature names, but KNeighborsClassifier was fitted with feature names\n",
      "  warnings.warn(\n",
      "C:\\Users\\smhrd\\AppData\\Local\\Temp\\ipykernel_15348\\2774937686.py:68: FutureWarning: The frame.append method is deprecated and will be removed from pandas in a future version. Use pandas.concat instead.\n",
      "  df = df.append([globals()[f'list']])\n",
      "C:\\Users\\smhrd\\AppData\\Roaming\\Python\\Python39\\site-packages\\sklearn\\base.py:450: UserWarning: X does not have valid feature names, but KNeighborsClassifier was fitted with feature names\n",
      "  warnings.warn(\n"
     ]
    },
    {
     "name": "stdout",
     "output_type": "stream",
     "text": [
      "(84.4729261339751, 147.2054476725981, -15.5)\n",
      "[[1. 0. 0. 0.]]\n",
      "(85.30349229935844, 146.1797725374879, -17.0)\n",
      "[[1. 0. 0. 0.]]\n",
      "(84.32531127596933, 146.7509976738267, -17.0)\n",
      "[[1. 0. 0. 0.]]\n"
     ]
    },
    {
     "name": "stderr",
     "output_type": "stream",
     "text": [
      "C:\\Users\\smhrd\\AppData\\Local\\Temp\\ipykernel_15348\\2774937686.py:68: FutureWarning: The frame.append method is deprecated and will be removed from pandas in a future version. Use pandas.concat instead.\n",
      "  df = df.append([globals()[f'list']])\n",
      "C:\\Users\\smhrd\\AppData\\Roaming\\Python\\Python39\\site-packages\\sklearn\\base.py:450: UserWarning: X does not have valid feature names, but KNeighborsClassifier was fitted with feature names\n",
      "  warnings.warn(\n",
      "C:\\Users\\smhrd\\AppData\\Local\\Temp\\ipykernel_15348\\2774937686.py:68: FutureWarning: The frame.append method is deprecated and will be removed from pandas in a future version. Use pandas.concat instead.\n",
      "  df = df.append([globals()[f'list']])\n",
      "C:\\Users\\smhrd\\AppData\\Roaming\\Python\\Python39\\site-packages\\sklearn\\base.py:450: UserWarning: X does not have valid feature names, but KNeighborsClassifier was fitted with feature names\n",
      "  warnings.warn(\n",
      "C:\\Users\\smhrd\\AppData\\Local\\Temp\\ipykernel_15348\\2774937686.py:68: FutureWarning: The frame.append method is deprecated and will be removed from pandas in a future version. Use pandas.concat instead.\n",
      "  df = df.append([globals()[f'list']])\n",
      "C:\\Users\\smhrd\\AppData\\Roaming\\Python\\Python39\\site-packages\\sklearn\\base.py:450: UserWarning: X does not have valid feature names, but KNeighborsClassifier was fitted with feature names\n",
      "  warnings.warn(\n",
      "C:\\Users\\smhrd\\AppData\\Local\\Temp\\ipykernel_15348\\2774937686.py:68: FutureWarning: The frame.append method is deprecated and will be removed from pandas in a future version. Use pandas.concat instead.\n",
      "  df = df.append([globals()[f'list']])\n",
      "C:\\Users\\smhrd\\AppData\\Roaming\\Python\\Python39\\site-packages\\sklearn\\base.py:450: UserWarning: X does not have valid feature names, but KNeighborsClassifier was fitted with feature names\n",
      "  warnings.warn(\n"
     ]
    },
    {
     "name": "stdout",
     "output_type": "stream",
     "text": [
      "(83.81608781255503, 145.9899402734891, -21.0)\n",
      "[[1. 0. 0. 0.]]\n",
      "(84.71962136125819, 148.26198859287862, -16.5)\n",
      "[[1. 0. 0. 0.]]\n",
      "(84.92435888311421, 146.47456855128553, -17.5)\n",
      "[[1. 0. 0. 0.]]\n",
      "(85.28066304326599, 146.4862843491537, -14.0)\n",
      "[[1. 0. 0. 0.]]\n"
     ]
    },
    {
     "name": "stderr",
     "output_type": "stream",
     "text": [
      "C:\\Users\\smhrd\\AppData\\Local\\Temp\\ipykernel_15348\\2774937686.py:68: FutureWarning: The frame.append method is deprecated and will be removed from pandas in a future version. Use pandas.concat instead.\n",
      "  df = df.append([globals()[f'list']])\n",
      "C:\\Users\\smhrd\\AppData\\Roaming\\Python\\Python39\\site-packages\\sklearn\\base.py:450: UserWarning: X does not have valid feature names, but KNeighborsClassifier was fitted with feature names\n",
      "  warnings.warn(\n",
      "C:\\Users\\smhrd\\AppData\\Local\\Temp\\ipykernel_15348\\2774937686.py:68: FutureWarning: The frame.append method is deprecated and will be removed from pandas in a future version. Use pandas.concat instead.\n",
      "  df = df.append([globals()[f'list']])\n",
      "C:\\Users\\smhrd\\AppData\\Roaming\\Python\\Python39\\site-packages\\sklearn\\base.py:450: UserWarning: X does not have valid feature names, but KNeighborsClassifier was fitted with feature names\n",
      "  warnings.warn(\n",
      "C:\\Users\\smhrd\\AppData\\Local\\Temp\\ipykernel_15348\\2774937686.py:68: FutureWarning: The frame.append method is deprecated and will be removed from pandas in a future version. Use pandas.concat instead.\n",
      "  df = df.append([globals()[f'list']])\n",
      "C:\\Users\\smhrd\\AppData\\Roaming\\Python\\Python39\\site-packages\\sklearn\\base.py:450: UserWarning: X does not have valid feature names, but KNeighborsClassifier was fitted with feature names\n",
      "  warnings.warn(\n",
      "C:\\Users\\smhrd\\AppData\\Local\\Temp\\ipykernel_15348\\2774937686.py:68: FutureWarning: The frame.append method is deprecated and will be removed from pandas in a future version. Use pandas.concat instead.\n",
      "  df = df.append([globals()[f'list']])\n",
      "C:\\Users\\smhrd\\AppData\\Roaming\\Python\\Python39\\site-packages\\sklearn\\base.py:450: UserWarning: X does not have valid feature names, but KNeighborsClassifier was fitted with feature names\n",
      "  warnings.warn(\n"
     ]
    },
    {
     "name": "stdout",
     "output_type": "stream",
     "text": [
      "(84.94621679992633, 146.79505880980497, -14.0)\n",
      "[[1. 0. 0. 0.]]\n",
      "(84.24975113912696, 146.95121090903163, -15.5)\n",
      "[[1. 0. 0. 0.]]\n",
      "(85.1559454153109, 150.74545047844018, -15.5)\n",
      "[[1. 0. 0. 0.]]\n",
      "(84.83345903336445, 149.95763550128305, -16.0)\n",
      "[[1. 0. 0. 0.]]\n"
     ]
    },
    {
     "name": "stderr",
     "output_type": "stream",
     "text": [
      "C:\\Users\\smhrd\\AppData\\Local\\Temp\\ipykernel_15348\\2774937686.py:68: FutureWarning: The frame.append method is deprecated and will be removed from pandas in a future version. Use pandas.concat instead.\n",
      "  df = df.append([globals()[f'list']])\n",
      "C:\\Users\\smhrd\\AppData\\Roaming\\Python\\Python39\\site-packages\\sklearn\\base.py:450: UserWarning: X does not have valid feature names, but KNeighborsClassifier was fitted with feature names\n",
      "  warnings.warn(\n",
      "C:\\Users\\smhrd\\AppData\\Local\\Temp\\ipykernel_15348\\2774937686.py:68: FutureWarning: The frame.append method is deprecated and will be removed from pandas in a future version. Use pandas.concat instead.\n",
      "  df = df.append([globals()[f'list']])\n",
      "C:\\Users\\smhrd\\AppData\\Roaming\\Python\\Python39\\site-packages\\sklearn\\base.py:450: UserWarning: X does not have valid feature names, but KNeighborsClassifier was fitted with feature names\n",
      "  warnings.warn(\n",
      "C:\\Users\\smhrd\\AppData\\Local\\Temp\\ipykernel_15348\\2774937686.py:68: FutureWarning: The frame.append method is deprecated and will be removed from pandas in a future version. Use pandas.concat instead.\n",
      "  df = df.append([globals()[f'list']])\n",
      "C:\\Users\\smhrd\\AppData\\Roaming\\Python\\Python39\\site-packages\\sklearn\\base.py:450: UserWarning: X does not have valid feature names, but KNeighborsClassifier was fitted with feature names\n",
      "  warnings.warn(\n",
      "C:\\Users\\smhrd\\AppData\\Local\\Temp\\ipykernel_15348\\2774937686.py:68: FutureWarning: The frame.append method is deprecated and will be removed from pandas in a future version. Use pandas.concat instead.\n",
      "  df = df.append([globals()[f'list']])\n",
      "C:\\Users\\smhrd\\AppData\\Roaming\\Python\\Python39\\site-packages\\sklearn\\base.py:450: UserWarning: X does not have valid feature names, but KNeighborsClassifier was fitted with feature names\n",
      "  warnings.warn(\n"
     ]
    },
    {
     "name": "stdout",
     "output_type": "stream",
     "text": [
      "(85.32287407677988, 147.79913517562875, -18.0)\n",
      "[[1. 0. 0. 0.]]\n",
      "(85.50579240462119, 147.4996946507115, -18.0)\n",
      "[[1. 0. 0. 0.]]\n",
      "(84.43743214334047, 148.72673140102677, -16.0)\n",
      "[[1. 0. 0. 0.]]\n",
      "(82.93298068409115, 148.50867824048362, -16.5)\n",
      "[[1. 0. 0. 0.]]\n"
     ]
    },
    {
     "name": "stderr",
     "output_type": "stream",
     "text": [
      "C:\\Users\\smhrd\\AppData\\Local\\Temp\\ipykernel_15348\\2774937686.py:68: FutureWarning: The frame.append method is deprecated and will be removed from pandas in a future version. Use pandas.concat instead.\n",
      "  df = df.append([globals()[f'list']])\n",
      "C:\\Users\\smhrd\\AppData\\Roaming\\Python\\Python39\\site-packages\\sklearn\\base.py:450: UserWarning: X does not have valid feature names, but KNeighborsClassifier was fitted with feature names\n",
      "  warnings.warn(\n",
      "C:\\Users\\smhrd\\AppData\\Local\\Temp\\ipykernel_15348\\2774937686.py:68: FutureWarning: The frame.append method is deprecated and will be removed from pandas in a future version. Use pandas.concat instead.\n",
      "  df = df.append([globals()[f'list']])\n",
      "C:\\Users\\smhrd\\AppData\\Roaming\\Python\\Python39\\site-packages\\sklearn\\base.py:450: UserWarning: X does not have valid feature names, but KNeighborsClassifier was fitted with feature names\n",
      "  warnings.warn(\n",
      "C:\\Users\\smhrd\\AppData\\Local\\Temp\\ipykernel_15348\\2774937686.py:68: FutureWarning: The frame.append method is deprecated and will be removed from pandas in a future version. Use pandas.concat instead.\n",
      "  df = df.append([globals()[f'list']])\n",
      "C:\\Users\\smhrd\\AppData\\Roaming\\Python\\Python39\\site-packages\\sklearn\\base.py:450: UserWarning: X does not have valid feature names, but KNeighborsClassifier was fitted with feature names\n",
      "  warnings.warn(\n"
     ]
    },
    {
     "name": "stdout",
     "output_type": "stream",
     "text": [
      "(83.60938203902063, 148.88606468762217, -16.0)\n",
      "[[1. 0. 0. 0.]]\n",
      "(82.55691613938575, 149.88073577643317, -17.0)\n",
      "[[1. 0. 0. 0.]]\n",
      "(83.06456433634165, 150.20113946168243, -15.0)\n",
      "[[1. 0. 0. 0.]]\n"
     ]
    },
    {
     "name": "stderr",
     "output_type": "stream",
     "text": [
      "C:\\Users\\smhrd\\AppData\\Local\\Temp\\ipykernel_15348\\2774937686.py:68: FutureWarning: The frame.append method is deprecated and will be removed from pandas in a future version. Use pandas.concat instead.\n",
      "  df = df.append([globals()[f'list']])\n",
      "C:\\Users\\smhrd\\AppData\\Roaming\\Python\\Python39\\site-packages\\sklearn\\base.py:450: UserWarning: X does not have valid feature names, but KNeighborsClassifier was fitted with feature names\n",
      "  warnings.warn(\n",
      "C:\\Users\\smhrd\\AppData\\Local\\Temp\\ipykernel_15348\\2774937686.py:68: FutureWarning: The frame.append method is deprecated and will be removed from pandas in a future version. Use pandas.concat instead.\n",
      "  df = df.append([globals()[f'list']])\n",
      "C:\\Users\\smhrd\\AppData\\Roaming\\Python\\Python39\\site-packages\\sklearn\\base.py:450: UserWarning: X does not have valid feature names, but KNeighborsClassifier was fitted with feature names\n",
      "  warnings.warn(\n",
      "C:\\Users\\smhrd\\AppData\\Local\\Temp\\ipykernel_15348\\2774937686.py:68: FutureWarning: The frame.append method is deprecated and will be removed from pandas in a future version. Use pandas.concat instead.\n",
      "  df = df.append([globals()[f'list']])\n",
      "C:\\Users\\smhrd\\AppData\\Roaming\\Python\\Python39\\site-packages\\sklearn\\base.py:450: UserWarning: X does not have valid feature names, but KNeighborsClassifier was fitted with feature names\n",
      "  warnings.warn(\n",
      "C:\\Users\\smhrd\\AppData\\Local\\Temp\\ipykernel_15348\\2774937686.py:68: FutureWarning: The frame.append method is deprecated and will be removed from pandas in a future version. Use pandas.concat instead.\n",
      "  df = df.append([globals()[f'list']])\n",
      "C:\\Users\\smhrd\\AppData\\Roaming\\Python\\Python39\\site-packages\\sklearn\\base.py:450: UserWarning: X does not have valid feature names, but KNeighborsClassifier was fitted with feature names\n",
      "  warnings.warn(\n"
     ]
    },
    {
     "name": "stdout",
     "output_type": "stream",
     "text": [
      "(83.79944063980398, 149.65716360866105, -14.5)\n",
      "[[1. 0. 0. 0.]]\n",
      "(84.85519450192992, 146.50862802730722, -13.5)\n",
      "[[1. 0. 0. 0.]]\n",
      "(85.37235136364761, 148.85450273340115, -14.0)\n",
      "[[1. 0. 0. 0.]]\n",
      "(84.52081910760597, 146.81110558739877, -16.0)\n",
      "[[1. 0. 0. 0.]]\n"
     ]
    },
    {
     "name": "stderr",
     "output_type": "stream",
     "text": [
      "C:\\Users\\smhrd\\AppData\\Local\\Temp\\ipykernel_15348\\2774937686.py:68: FutureWarning: The frame.append method is deprecated and will be removed from pandas in a future version. Use pandas.concat instead.\n",
      "  df = df.append([globals()[f'list']])\n",
      "C:\\Users\\smhrd\\AppData\\Roaming\\Python\\Python39\\site-packages\\sklearn\\base.py:450: UserWarning: X does not have valid feature names, but KNeighborsClassifier was fitted with feature names\n",
      "  warnings.warn(\n",
      "C:\\Users\\smhrd\\AppData\\Local\\Temp\\ipykernel_15348\\2774937686.py:68: FutureWarning: The frame.append method is deprecated and will be removed from pandas in a future version. Use pandas.concat instead.\n",
      "  df = df.append([globals()[f'list']])\n",
      "C:\\Users\\smhrd\\AppData\\Roaming\\Python\\Python39\\site-packages\\sklearn\\base.py:450: UserWarning: X does not have valid feature names, but KNeighborsClassifier was fitted with feature names\n",
      "  warnings.warn(\n",
      "C:\\Users\\smhrd\\AppData\\Local\\Temp\\ipykernel_15348\\2774937686.py:68: FutureWarning: The frame.append method is deprecated and will be removed from pandas in a future version. Use pandas.concat instead.\n",
      "  df = df.append([globals()[f'list']])\n",
      "C:\\Users\\smhrd\\AppData\\Roaming\\Python\\Python39\\site-packages\\sklearn\\base.py:450: UserWarning: X does not have valid feature names, but KNeighborsClassifier was fitted with feature names\n",
      "  warnings.warn(\n",
      "C:\\Users\\smhrd\\AppData\\Local\\Temp\\ipykernel_15348\\2774937686.py:68: FutureWarning: The frame.append method is deprecated and will be removed from pandas in a future version. Use pandas.concat instead.\n",
      "  df = df.append([globals()[f'list']])\n",
      "C:\\Users\\smhrd\\AppData\\Roaming\\Python\\Python39\\site-packages\\sklearn\\base.py:450: UserWarning: X does not have valid feature names, but KNeighborsClassifier was fitted with feature names\n",
      "  warnings.warn(\n"
     ]
    },
    {
     "name": "stdout",
     "output_type": "stream",
     "text": [
      "(84.32641227933765, 146.8082379394693, -19.0)\n",
      "[[1. 0. 0. 0.]]\n",
      "(84.24540218363802, 146.6055367308893, -20.0)\n",
      "[[1. 0. 0. 0.]]\n",
      "(84.88669725850752, 147.39359262482827, -19.5)\n",
      "[[1. 0. 0. 0.]]\n",
      "(84.068958132404, 147.2482406794979, -19.0)\n",
      "[[1. 0. 0. 0.]]\n"
     ]
    },
    {
     "name": "stderr",
     "output_type": "stream",
     "text": [
      "C:\\Users\\smhrd\\AppData\\Local\\Temp\\ipykernel_15348\\2774937686.py:68: FutureWarning: The frame.append method is deprecated and will be removed from pandas in a future version. Use pandas.concat instead.\n",
      "  df = df.append([globals()[f'list']])\n",
      "C:\\Users\\smhrd\\AppData\\Roaming\\Python\\Python39\\site-packages\\sklearn\\base.py:450: UserWarning: X does not have valid feature names, but KNeighborsClassifier was fitted with feature names\n",
      "  warnings.warn(\n",
      "C:\\Users\\smhrd\\AppData\\Local\\Temp\\ipykernel_15348\\2774937686.py:68: FutureWarning: The frame.append method is deprecated and will be removed from pandas in a future version. Use pandas.concat instead.\n",
      "  df = df.append([globals()[f'list']])\n",
      "C:\\Users\\smhrd\\AppData\\Roaming\\Python\\Python39\\site-packages\\sklearn\\base.py:450: UserWarning: X does not have valid feature names, but KNeighborsClassifier was fitted with feature names\n",
      "  warnings.warn(\n",
      "C:\\Users\\smhrd\\AppData\\Local\\Temp\\ipykernel_15348\\2774937686.py:68: FutureWarning: The frame.append method is deprecated and will be removed from pandas in a future version. Use pandas.concat instead.\n",
      "  df = df.append([globals()[f'list']])\n",
      "C:\\Users\\smhrd\\AppData\\Roaming\\Python\\Python39\\site-packages\\sklearn\\base.py:450: UserWarning: X does not have valid feature names, but KNeighborsClassifier was fitted with feature names\n",
      "  warnings.warn(\n",
      "C:\\Users\\smhrd\\AppData\\Local\\Temp\\ipykernel_15348\\2774937686.py:68: FutureWarning: The frame.append method is deprecated and will be removed from pandas in a future version. Use pandas.concat instead.\n",
      "  df = df.append([globals()[f'list']])\n",
      "C:\\Users\\smhrd\\AppData\\Roaming\\Python\\Python39\\site-packages\\sklearn\\base.py:450: UserWarning: X does not have valid feature names, but KNeighborsClassifier was fitted with feature names\n",
      "  warnings.warn(\n"
     ]
    },
    {
     "name": "stdout",
     "output_type": "stream",
     "text": [
      "(85.09853039922776, 146.3029762324604, -17.5)\n",
      "[[1. 0. 0. 0.]]\n",
      "(84.90690234008146, 146.78389750301238, -19.0)\n",
      "[[1. 0. 0. 0.]]\n",
      "(84.10712279392823, 147.07350179856678, -18.5)\n",
      "[[1. 0. 0. 0.]]\n",
      "(84.94944772700113, 148.02716343028047, -15.5)\n",
      "[[1. 0. 0. 0.]]\n"
     ]
    },
    {
     "name": "stderr",
     "output_type": "stream",
     "text": [
      "C:\\Users\\smhrd\\AppData\\Local\\Temp\\ipykernel_15348\\2774937686.py:68: FutureWarning: The frame.append method is deprecated and will be removed from pandas in a future version. Use pandas.concat instead.\n",
      "  df = df.append([globals()[f'list']])\n",
      "C:\\Users\\smhrd\\AppData\\Roaming\\Python\\Python39\\site-packages\\sklearn\\base.py:450: UserWarning: X does not have valid feature names, but KNeighborsClassifier was fitted with feature names\n",
      "  warnings.warn(\n",
      "C:\\Users\\smhrd\\AppData\\Local\\Temp\\ipykernel_15348\\2774937686.py:68: FutureWarning: The frame.append method is deprecated and will be removed from pandas in a future version. Use pandas.concat instead.\n",
      "  df = df.append([globals()[f'list']])\n",
      "C:\\Users\\smhrd\\AppData\\Roaming\\Python\\Python39\\site-packages\\sklearn\\base.py:450: UserWarning: X does not have valid feature names, but KNeighborsClassifier was fitted with feature names\n",
      "  warnings.warn(\n",
      "C:\\Users\\smhrd\\AppData\\Local\\Temp\\ipykernel_15348\\2774937686.py:68: FutureWarning: The frame.append method is deprecated and will be removed from pandas in a future version. Use pandas.concat instead.\n",
      "  df = df.append([globals()[f'list']])\n",
      "C:\\Users\\smhrd\\AppData\\Roaming\\Python\\Python39\\site-packages\\sklearn\\base.py:450: UserWarning: X does not have valid feature names, but KNeighborsClassifier was fitted with feature names\n",
      "  warnings.warn(\n",
      "C:\\Users\\smhrd\\AppData\\Local\\Temp\\ipykernel_15348\\2774937686.py:68: FutureWarning: The frame.append method is deprecated and will be removed from pandas in a future version. Use pandas.concat instead.\n",
      "  df = df.append([globals()[f'list']])\n",
      "C:\\Users\\smhrd\\AppData\\Roaming\\Python\\Python39\\site-packages\\sklearn\\base.py:450: UserWarning: X does not have valid feature names, but KNeighborsClassifier was fitted with feature names\n",
      "  warnings.warn(\n"
     ]
    },
    {
     "name": "stdout",
     "output_type": "stream",
     "text": [
      "(84.9001290655657, 148.35729153600408, -12.0)\n",
      "[[1. 0. 0. 0.]]\n",
      "(84.67563896711782, 146.2180789483975, -16.0)\n",
      "[[1. 0. 0. 0.]]\n",
      "(85.10525837944861, 147.9924576579509, -10.5)\n",
      "[[1. 0. 0. 0.]]\n",
      "(84.84945915177188, 149.5192756915542, -12.0)\n",
      "[[1. 0. 0. 0.]]\n"
     ]
    },
    {
     "name": "stderr",
     "output_type": "stream",
     "text": [
      "C:\\Users\\smhrd\\AppData\\Local\\Temp\\ipykernel_15348\\2774937686.py:68: FutureWarning: The frame.append method is deprecated and will be removed from pandas in a future version. Use pandas.concat instead.\n",
      "  df = df.append([globals()[f'list']])\n",
      "C:\\Users\\smhrd\\AppData\\Roaming\\Python\\Python39\\site-packages\\sklearn\\base.py:450: UserWarning: X does not have valid feature names, but KNeighborsClassifier was fitted with feature names\n",
      "  warnings.warn(\n",
      "C:\\Users\\smhrd\\AppData\\Local\\Temp\\ipykernel_15348\\2774937686.py:68: FutureWarning: The frame.append method is deprecated and will be removed from pandas in a future version. Use pandas.concat instead.\n",
      "  df = df.append([globals()[f'list']])\n",
      "C:\\Users\\smhrd\\AppData\\Roaming\\Python\\Python39\\site-packages\\sklearn\\base.py:450: UserWarning: X does not have valid feature names, but KNeighborsClassifier was fitted with feature names\n",
      "  warnings.warn(\n",
      "C:\\Users\\smhrd\\AppData\\Local\\Temp\\ipykernel_15348\\2774937686.py:68: FutureWarning: The frame.append method is deprecated and will be removed from pandas in a future version. Use pandas.concat instead.\n",
      "  df = df.append([globals()[f'list']])\n",
      "C:\\Users\\smhrd\\AppData\\Roaming\\Python\\Python39\\site-packages\\sklearn\\base.py:450: UserWarning: X does not have valid feature names, but KNeighborsClassifier was fitted with feature names\n",
      "  warnings.warn(\n",
      "C:\\Users\\smhrd\\AppData\\Local\\Temp\\ipykernel_15348\\2774937686.py:68: FutureWarning: The frame.append method is deprecated and will be removed from pandas in a future version. Use pandas.concat instead.\n",
      "  df = df.append([globals()[f'list']])\n",
      "C:\\Users\\smhrd\\AppData\\Roaming\\Python\\Python39\\site-packages\\sklearn\\base.py:450: UserWarning: X does not have valid feature names, but KNeighborsClassifier was fitted with feature names\n",
      "  warnings.warn(\n"
     ]
    },
    {
     "name": "stdout",
     "output_type": "stream",
     "text": [
      "(84.09584466862614, 144.79134155109665, -18.5)\n",
      "[[1. 0. 0. 0.]]\n",
      "(83.44109853461366, 147.75911373487992, -16.5)\n",
      "[[1. 0. 0. 0.]]\n",
      "(83.08877288097533, 146.99645177459777, -19.5)\n",
      "[[1. 0. 0. 0.]]\n",
      "(82.36088985159745, 148.67691229286194, -16.5)\n",
      "[[1. 0. 0. 0.]]\n"
     ]
    },
    {
     "name": "stderr",
     "output_type": "stream",
     "text": [
      "C:\\Users\\smhrd\\AppData\\Local\\Temp\\ipykernel_15348\\2774937686.py:68: FutureWarning: The frame.append method is deprecated and will be removed from pandas in a future version. Use pandas.concat instead.\n",
      "  df = df.append([globals()[f'list']])\n",
      "C:\\Users\\smhrd\\AppData\\Roaming\\Python\\Python39\\site-packages\\sklearn\\base.py:450: UserWarning: X does not have valid feature names, but KNeighborsClassifier was fitted with feature names\n",
      "  warnings.warn(\n",
      "C:\\Users\\smhrd\\AppData\\Local\\Temp\\ipykernel_15348\\2774937686.py:68: FutureWarning: The frame.append method is deprecated and will be removed from pandas in a future version. Use pandas.concat instead.\n",
      "  df = df.append([globals()[f'list']])\n",
      "C:\\Users\\smhrd\\AppData\\Roaming\\Python\\Python39\\site-packages\\sklearn\\base.py:450: UserWarning: X does not have valid feature names, but KNeighborsClassifier was fitted with feature names\n",
      "  warnings.warn(\n",
      "C:\\Users\\smhrd\\AppData\\Local\\Temp\\ipykernel_15348\\2774937686.py:68: FutureWarning: The frame.append method is deprecated and will be removed from pandas in a future version. Use pandas.concat instead.\n",
      "  df = df.append([globals()[f'list']])\n",
      "C:\\Users\\smhrd\\AppData\\Roaming\\Python\\Python39\\site-packages\\sklearn\\base.py:450: UserWarning: X does not have valid feature names, but KNeighborsClassifier was fitted with feature names\n",
      "  warnings.warn(\n",
      "C:\\Users\\smhrd\\AppData\\Local\\Temp\\ipykernel_15348\\2774937686.py:68: FutureWarning: The frame.append method is deprecated and will be removed from pandas in a future version. Use pandas.concat instead.\n",
      "  df = df.append([globals()[f'list']])\n",
      "C:\\Users\\smhrd\\AppData\\Roaming\\Python\\Python39\\site-packages\\sklearn\\base.py:450: UserWarning: X does not have valid feature names, but KNeighborsClassifier was fitted with feature names\n",
      "  warnings.warn(\n"
     ]
    },
    {
     "name": "stdout",
     "output_type": "stream",
     "text": [
      "(83.4081790433688, 147.46678729100486, -15.0)\n",
      "[[1. 0. 0. 0.]]\n",
      "(83.66384329442597, 148.036769922021, -15.5)\n",
      "[[1. 0. 0. 0.]]\n",
      "(83.18112930344034, 148.2444038348773, -15.0)\n",
      "[[1. 0. 0. 0.]]\n",
      "(82.04222760023025, 145.87270420443312, -17.0)\n",
      "[[1. 0. 0. 0.]]\n"
     ]
    },
    {
     "name": "stderr",
     "output_type": "stream",
     "text": [
      "C:\\Users\\smhrd\\AppData\\Local\\Temp\\ipykernel_15348\\2774937686.py:68: FutureWarning: The frame.append method is deprecated and will be removed from pandas in a future version. Use pandas.concat instead.\n",
      "  df = df.append([globals()[f'list']])\n",
      "C:\\Users\\smhrd\\AppData\\Roaming\\Python\\Python39\\site-packages\\sklearn\\base.py:450: UserWarning: X does not have valid feature names, but KNeighborsClassifier was fitted with feature names\n",
      "  warnings.warn(\n",
      "C:\\Users\\smhrd\\AppData\\Local\\Temp\\ipykernel_15348\\2774937686.py:68: FutureWarning: The frame.append method is deprecated and will be removed from pandas in a future version. Use pandas.concat instead.\n",
      "  df = df.append([globals()[f'list']])\n",
      "C:\\Users\\smhrd\\AppData\\Roaming\\Python\\Python39\\site-packages\\sklearn\\base.py:450: UserWarning: X does not have valid feature names, but KNeighborsClassifier was fitted with feature names\n",
      "  warnings.warn(\n",
      "C:\\Users\\smhrd\\AppData\\Local\\Temp\\ipykernel_15348\\2774937686.py:68: FutureWarning: The frame.append method is deprecated and will be removed from pandas in a future version. Use pandas.concat instead.\n",
      "  df = df.append([globals()[f'list']])\n",
      "C:\\Users\\smhrd\\AppData\\Roaming\\Python\\Python39\\site-packages\\sklearn\\base.py:450: UserWarning: X does not have valid feature names, but KNeighborsClassifier was fitted with feature names\n",
      "  warnings.warn(\n",
      "C:\\Users\\smhrd\\AppData\\Local\\Temp\\ipykernel_15348\\2774937686.py:68: FutureWarning: The frame.append method is deprecated and will be removed from pandas in a future version. Use pandas.concat instead.\n",
      "  df = df.append([globals()[f'list']])\n",
      "C:\\Users\\smhrd\\AppData\\Roaming\\Python\\Python39\\site-packages\\sklearn\\base.py:450: UserWarning: X does not have valid feature names, but KNeighborsClassifier was fitted with feature names\n",
      "  warnings.warn(\n"
     ]
    },
    {
     "name": "stdout",
     "output_type": "stream",
     "text": [
      "(82.56808405599662, 148.83099688989327, -12.5)\n",
      "[[1. 0. 0. 0.]]\n",
      "(83.79515797257208, 149.97994294353146, -11.5)\n",
      "[[1. 0. 0. 0.]]\n",
      "(82.51746200377046, 147.99295443192625, -12.0)\n",
      "[[1. 0. 0. 0.]]\n",
      "(82.9337801674829, 149.3196649354327, -12.5)\n",
      "[[1. 0. 0. 0.]]\n"
     ]
    },
    {
     "name": "stderr",
     "output_type": "stream",
     "text": [
      "C:\\Users\\smhrd\\AppData\\Local\\Temp\\ipykernel_15348\\2774937686.py:68: FutureWarning: The frame.append method is deprecated and will be removed from pandas in a future version. Use pandas.concat instead.\n",
      "  df = df.append([globals()[f'list']])\n",
      "C:\\Users\\smhrd\\AppData\\Roaming\\Python\\Python39\\site-packages\\sklearn\\base.py:450: UserWarning: X does not have valid feature names, but KNeighborsClassifier was fitted with feature names\n",
      "  warnings.warn(\n",
      "C:\\Users\\smhrd\\AppData\\Local\\Temp\\ipykernel_15348\\2774937686.py:68: FutureWarning: The frame.append method is deprecated and will be removed from pandas in a future version. Use pandas.concat instead.\n",
      "  df = df.append([globals()[f'list']])\n",
      "C:\\Users\\smhrd\\AppData\\Roaming\\Python\\Python39\\site-packages\\sklearn\\base.py:450: UserWarning: X does not have valid feature names, but KNeighborsClassifier was fitted with feature names\n",
      "  warnings.warn(\n",
      "C:\\Users\\smhrd\\AppData\\Local\\Temp\\ipykernel_15348\\2774937686.py:68: FutureWarning: The frame.append method is deprecated and will be removed from pandas in a future version. Use pandas.concat instead.\n",
      "  df = df.append([globals()[f'list']])\n",
      "C:\\Users\\smhrd\\AppData\\Roaming\\Python\\Python39\\site-packages\\sklearn\\base.py:450: UserWarning: X does not have valid feature names, but KNeighborsClassifier was fitted with feature names\n",
      "  warnings.warn(\n"
     ]
    },
    {
     "name": "stdout",
     "output_type": "stream",
     "text": [
      "(82.71668444929476, 148.31888366985, -13.0)\n",
      "[[1. 0. 0. 0.]]\n",
      "(82.69804643440584, 148.2518581251101, -13.5)\n",
      "[[1. 0. 0. 0.]]\n",
      "(81.53300533449374, 148.26998901915186, -15.0)\n",
      "[[1. 0. 0. 0.]]\n"
     ]
    },
    {
     "name": "stderr",
     "output_type": "stream",
     "text": [
      "C:\\Users\\smhrd\\AppData\\Local\\Temp\\ipykernel_15348\\2774937686.py:68: FutureWarning: The frame.append method is deprecated and will be removed from pandas in a future version. Use pandas.concat instead.\n",
      "  df = df.append([globals()[f'list']])\n",
      "C:\\Users\\smhrd\\AppData\\Roaming\\Python\\Python39\\site-packages\\sklearn\\base.py:450: UserWarning: X does not have valid feature names, but KNeighborsClassifier was fitted with feature names\n",
      "  warnings.warn(\n",
      "C:\\Users\\smhrd\\AppData\\Local\\Temp\\ipykernel_15348\\2774937686.py:68: FutureWarning: The frame.append method is deprecated and will be removed from pandas in a future version. Use pandas.concat instead.\n",
      "  df = df.append([globals()[f'list']])\n",
      "C:\\Users\\smhrd\\AppData\\Roaming\\Python\\Python39\\site-packages\\sklearn\\base.py:450: UserWarning: X does not have valid feature names, but KNeighborsClassifier was fitted with feature names\n",
      "  warnings.warn(\n",
      "C:\\Users\\smhrd\\AppData\\Local\\Temp\\ipykernel_15348\\2774937686.py:68: FutureWarning: The frame.append method is deprecated and will be removed from pandas in a future version. Use pandas.concat instead.\n",
      "  df = df.append([globals()[f'list']])\n",
      "C:\\Users\\smhrd\\AppData\\Roaming\\Python\\Python39\\site-packages\\sklearn\\base.py:450: UserWarning: X does not have valid feature names, but KNeighborsClassifier was fitted with feature names\n",
      "  warnings.warn(\n",
      "C:\\Users\\smhrd\\AppData\\Local\\Temp\\ipykernel_15348\\2774937686.py:68: FutureWarning: The frame.append method is deprecated and will be removed from pandas in a future version. Use pandas.concat instead.\n",
      "  df = df.append([globals()[f'list']])\n",
      "C:\\Users\\smhrd\\AppData\\Roaming\\Python\\Python39\\site-packages\\sklearn\\base.py:450: UserWarning: X does not have valid feature names, but KNeighborsClassifier was fitted with feature names\n",
      "  warnings.warn(\n"
     ]
    },
    {
     "name": "stdout",
     "output_type": "stream",
     "text": [
      "(81.99609225228552, 148.79931019724887, -13.5)\n",
      "[[1. 0. 0. 0.]]\n",
      "(82.18256857522985, 148.51658962426822, -10.5)\n",
      "[[1. 0. 0. 0.]]\n",
      "(82.68811590515708, 148.18509922038396, -13.0)\n",
      "[[1. 0. 0. 0.]]\n",
      "(82.10457366196341, 148.00297704956756, -13.5)\n",
      "[[1. 0. 0. 0.]]\n"
     ]
    },
    {
     "name": "stderr",
     "output_type": "stream",
     "text": [
      "C:\\Users\\smhrd\\AppData\\Local\\Temp\\ipykernel_15348\\2774937686.py:68: FutureWarning: The frame.append method is deprecated and will be removed from pandas in a future version. Use pandas.concat instead.\n",
      "  df = df.append([globals()[f'list']])\n",
      "C:\\Users\\smhrd\\AppData\\Roaming\\Python\\Python39\\site-packages\\sklearn\\base.py:450: UserWarning: X does not have valid feature names, but KNeighborsClassifier was fitted with feature names\n",
      "  warnings.warn(\n",
      "C:\\Users\\smhrd\\AppData\\Local\\Temp\\ipykernel_15348\\2774937686.py:68: FutureWarning: The frame.append method is deprecated and will be removed from pandas in a future version. Use pandas.concat instead.\n",
      "  df = df.append([globals()[f'list']])\n",
      "C:\\Users\\smhrd\\AppData\\Roaming\\Python\\Python39\\site-packages\\sklearn\\base.py:450: UserWarning: X does not have valid feature names, but KNeighborsClassifier was fitted with feature names\n",
      "  warnings.warn(\n",
      "C:\\Users\\smhrd\\AppData\\Local\\Temp\\ipykernel_15348\\2774937686.py:68: FutureWarning: The frame.append method is deprecated and will be removed from pandas in a future version. Use pandas.concat instead.\n",
      "  df = df.append([globals()[f'list']])\n",
      "C:\\Users\\smhrd\\AppData\\Roaming\\Python\\Python39\\site-packages\\sklearn\\base.py:450: UserWarning: X does not have valid feature names, but KNeighborsClassifier was fitted with feature names\n",
      "  warnings.warn(\n",
      "C:\\Users\\smhrd\\AppData\\Local\\Temp\\ipykernel_15348\\2774937686.py:68: FutureWarning: The frame.append method is deprecated and will be removed from pandas in a future version. Use pandas.concat instead.\n",
      "  df = df.append([globals()[f'list']])\n",
      "C:\\Users\\smhrd\\AppData\\Roaming\\Python\\Python39\\site-packages\\sklearn\\base.py:450: UserWarning: X does not have valid feature names, but KNeighborsClassifier was fitted with feature names\n",
      "  warnings.warn(\n"
     ]
    },
    {
     "name": "stdout",
     "output_type": "stream",
     "text": [
      "(82.98784582570548, 149.1753524388596, -9.5)\n",
      "[[1. 0. 0. 0.]]\n",
      "(82.61395684873273, 150.47748004123645, -7.0)\n",
      "[[1. 0. 0. 0.]]\n",
      "(82.26391994509696, 150.5914445708401, -8.0)\n",
      "[[1. 0. 0. 0.]]\n",
      "(82.57204441370601, 149.49735591181894, -9.5)\n",
      "[[1. 0. 0. 0.]]\n"
     ]
    },
    {
     "name": "stderr",
     "output_type": "stream",
     "text": [
      "C:\\Users\\smhrd\\AppData\\Local\\Temp\\ipykernel_15348\\2774937686.py:68: FutureWarning: The frame.append method is deprecated and will be removed from pandas in a future version. Use pandas.concat instead.\n",
      "  df = df.append([globals()[f'list']])\n",
      "C:\\Users\\smhrd\\AppData\\Roaming\\Python\\Python39\\site-packages\\sklearn\\base.py:450: UserWarning: X does not have valid feature names, but KNeighborsClassifier was fitted with feature names\n",
      "  warnings.warn(\n",
      "C:\\Users\\smhrd\\AppData\\Local\\Temp\\ipykernel_15348\\2774937686.py:68: FutureWarning: The frame.append method is deprecated and will be removed from pandas in a future version. Use pandas.concat instead.\n",
      "  df = df.append([globals()[f'list']])\n",
      "C:\\Users\\smhrd\\AppData\\Roaming\\Python\\Python39\\site-packages\\sklearn\\base.py:450: UserWarning: X does not have valid feature names, but KNeighborsClassifier was fitted with feature names\n",
      "  warnings.warn(\n",
      "C:\\Users\\smhrd\\AppData\\Local\\Temp\\ipykernel_15348\\2774937686.py:68: FutureWarning: The frame.append method is deprecated and will be removed from pandas in a future version. Use pandas.concat instead.\n",
      "  df = df.append([globals()[f'list']])\n",
      "C:\\Users\\smhrd\\AppData\\Roaming\\Python\\Python39\\site-packages\\sklearn\\base.py:450: UserWarning: X does not have valid feature names, but KNeighborsClassifier was fitted with feature names\n",
      "  warnings.warn(\n",
      "C:\\Users\\smhrd\\AppData\\Local\\Temp\\ipykernel_15348\\2774937686.py:68: FutureWarning: The frame.append method is deprecated and will be removed from pandas in a future version. Use pandas.concat instead.\n",
      "  df = df.append([globals()[f'list']])\n",
      "C:\\Users\\smhrd\\AppData\\Roaming\\Python\\Python39\\site-packages\\sklearn\\base.py:450: UserWarning: X does not have valid feature names, but KNeighborsClassifier was fitted with feature names\n",
      "  warnings.warn(\n"
     ]
    },
    {
     "name": "stdout",
     "output_type": "stream",
     "text": [
      "(81.36640680049791, 153.89378824917495, -6.5)\n",
      "[[1. 0. 0. 0.]]\n",
      "(81.23620670426546, 152.8549993582415, -9.5)\n",
      "[[1. 0. 0. 0.]]\n",
      "(79.70727009721726, 152.3183627205126, -10.0)\n",
      "[[1. 0. 0. 0.]]\n",
      "(81.03804034157334, 152.11120769855577, -10.5)\n",
      "[[1. 0. 0. 0.]]\n"
     ]
    },
    {
     "name": "stderr",
     "output_type": "stream",
     "text": [
      "C:\\Users\\smhrd\\AppData\\Local\\Temp\\ipykernel_15348\\2774937686.py:68: FutureWarning: The frame.append method is deprecated and will be removed from pandas in a future version. Use pandas.concat instead.\n",
      "  df = df.append([globals()[f'list']])\n",
      "C:\\Users\\smhrd\\AppData\\Roaming\\Python\\Python39\\site-packages\\sklearn\\base.py:450: UserWarning: X does not have valid feature names, but KNeighborsClassifier was fitted with feature names\n",
      "  warnings.warn(\n",
      "C:\\Users\\smhrd\\AppData\\Local\\Temp\\ipykernel_15348\\2774937686.py:68: FutureWarning: The frame.append method is deprecated and will be removed from pandas in a future version. Use pandas.concat instead.\n",
      "  df = df.append([globals()[f'list']])\n",
      "C:\\Users\\smhrd\\AppData\\Roaming\\Python\\Python39\\site-packages\\sklearn\\base.py:450: UserWarning: X does not have valid feature names, but KNeighborsClassifier was fitted with feature names\n",
      "  warnings.warn(\n",
      "C:\\Users\\smhrd\\AppData\\Local\\Temp\\ipykernel_15348\\2774937686.py:68: FutureWarning: The frame.append method is deprecated and will be removed from pandas in a future version. Use pandas.concat instead.\n",
      "  df = df.append([globals()[f'list']])\n",
      "C:\\Users\\smhrd\\AppData\\Roaming\\Python\\Python39\\site-packages\\sklearn\\base.py:450: UserWarning: X does not have valid feature names, but KNeighborsClassifier was fitted with feature names\n",
      "  warnings.warn(\n"
     ]
    },
    {
     "name": "stdout",
     "output_type": "stream",
     "text": [
      "(80.86319507936483, 150.85978646671353, -10.5)\n",
      "[[1. 0. 0. 0.]]\n",
      "(80.4034312875747, 146.43269537905985, -12.5)\n",
      "[[1. 0. 0. 0.]]\n",
      "(80.99318381545882, 147.22251535329391, -11.5)\n",
      "[[1. 0. 0. 0.]]\n"
     ]
    },
    {
     "name": "stderr",
     "output_type": "stream",
     "text": [
      "C:\\Users\\smhrd\\AppData\\Local\\Temp\\ipykernel_15348\\2774937686.py:68: FutureWarning: The frame.append method is deprecated and will be removed from pandas in a future version. Use pandas.concat instead.\n",
      "  df = df.append([globals()[f'list']])\n",
      "C:\\Users\\smhrd\\AppData\\Roaming\\Python\\Python39\\site-packages\\sklearn\\base.py:450: UserWarning: X does not have valid feature names, but KNeighborsClassifier was fitted with feature names\n",
      "  warnings.warn(\n",
      "C:\\Users\\smhrd\\AppData\\Local\\Temp\\ipykernel_15348\\2774937686.py:68: FutureWarning: The frame.append method is deprecated and will be removed from pandas in a future version. Use pandas.concat instead.\n",
      "  df = df.append([globals()[f'list']])\n",
      "C:\\Users\\smhrd\\AppData\\Roaming\\Python\\Python39\\site-packages\\sklearn\\base.py:450: UserWarning: X does not have valid feature names, but KNeighborsClassifier was fitted with feature names\n",
      "  warnings.warn(\n",
      "C:\\Users\\smhrd\\AppData\\Local\\Temp\\ipykernel_15348\\2774937686.py:68: FutureWarning: The frame.append method is deprecated and will be removed from pandas in a future version. Use pandas.concat instead.\n",
      "  df = df.append([globals()[f'list']])\n",
      "C:\\Users\\smhrd\\AppData\\Roaming\\Python\\Python39\\site-packages\\sklearn\\base.py:450: UserWarning: X does not have valid feature names, but KNeighborsClassifier was fitted with feature names\n",
      "  warnings.warn(\n",
      "C:\\Users\\smhrd\\AppData\\Local\\Temp\\ipykernel_15348\\2774937686.py:68: FutureWarning: The frame.append method is deprecated and will be removed from pandas in a future version. Use pandas.concat instead.\n",
      "  df = df.append([globals()[f'list']])\n",
      "C:\\Users\\smhrd\\AppData\\Roaming\\Python\\Python39\\site-packages\\sklearn\\base.py:450: UserWarning: X does not have valid feature names, but KNeighborsClassifier was fitted with feature names\n",
      "  warnings.warn(\n"
     ]
    },
    {
     "name": "stdout",
     "output_type": "stream",
     "text": [
      "(79.14192240133785, 146.04805661048957, -16.5)\n",
      "[[1. 0. 0. 0.]]\n",
      "(80.30800797218664, 148.93323802876412, -13.0)\n",
      "[[1. 0. 0. 0.]]\n",
      "(80.92594959180065, 149.5852960349113, -10.5)\n",
      "[[1. 0. 0. 0.]]\n",
      "(81.2362898296858, 148.31677469154118, -11.5)\n",
      "[[1. 0. 0. 0.]]\n"
     ]
    },
    {
     "name": "stderr",
     "output_type": "stream",
     "text": [
      "C:\\Users\\smhrd\\AppData\\Local\\Temp\\ipykernel_15348\\2774937686.py:68: FutureWarning: The frame.append method is deprecated and will be removed from pandas in a future version. Use pandas.concat instead.\n",
      "  df = df.append([globals()[f'list']])\n",
      "C:\\Users\\smhrd\\AppData\\Roaming\\Python\\Python39\\site-packages\\sklearn\\base.py:450: UserWarning: X does not have valid feature names, but KNeighborsClassifier was fitted with feature names\n",
      "  warnings.warn(\n",
      "C:\\Users\\smhrd\\AppData\\Local\\Temp\\ipykernel_15348\\2774937686.py:68: FutureWarning: The frame.append method is deprecated and will be removed from pandas in a future version. Use pandas.concat instead.\n",
      "  df = df.append([globals()[f'list']])\n",
      "C:\\Users\\smhrd\\AppData\\Roaming\\Python\\Python39\\site-packages\\sklearn\\base.py:450: UserWarning: X does not have valid feature names, but KNeighborsClassifier was fitted with feature names\n",
      "  warnings.warn(\n",
      "C:\\Users\\smhrd\\AppData\\Local\\Temp\\ipykernel_15348\\2774937686.py:68: FutureWarning: The frame.append method is deprecated and will be removed from pandas in a future version. Use pandas.concat instead.\n",
      "  df = df.append([globals()[f'list']])\n",
      "C:\\Users\\smhrd\\AppData\\Roaming\\Python\\Python39\\site-packages\\sklearn\\base.py:450: UserWarning: X does not have valid feature names, but KNeighborsClassifier was fitted with feature names\n",
      "  warnings.warn(\n",
      "C:\\Users\\smhrd\\AppData\\Local\\Temp\\ipykernel_15348\\2774937686.py:68: FutureWarning: The frame.append method is deprecated and will be removed from pandas in a future version. Use pandas.concat instead.\n",
      "  df = df.append([globals()[f'list']])\n",
      "C:\\Users\\smhrd\\AppData\\Roaming\\Python\\Python39\\site-packages\\sklearn\\base.py:450: UserWarning: X does not have valid feature names, but KNeighborsClassifier was fitted with feature names\n",
      "  warnings.warn(\n"
     ]
    },
    {
     "name": "stdout",
     "output_type": "stream",
     "text": [
      "(79.25268970095259, 147.11737705042094, -13.5)\n",
      "[[1. 0. 0. 0.]]\n",
      "(79.13856409814181, 147.2635556846539, -9.0)\n",
      "[[1. 0. 0. 0.]]\n",
      "(78.87204949689699, 150.56525992641687, -11.5)\n",
      "[[1. 0. 0. 0.]]\n",
      "(79.53501201930546, 149.2646367112275, -10.0)\n",
      "[[1. 0. 0. 0.]]\n"
     ]
    },
    {
     "name": "stderr",
     "output_type": "stream",
     "text": [
      "C:\\Users\\smhrd\\AppData\\Local\\Temp\\ipykernel_15348\\2774937686.py:68: FutureWarning: The frame.append method is deprecated and will be removed from pandas in a future version. Use pandas.concat instead.\n",
      "  df = df.append([globals()[f'list']])\n",
      "C:\\Users\\smhrd\\AppData\\Roaming\\Python\\Python39\\site-packages\\sklearn\\base.py:450: UserWarning: X does not have valid feature names, but KNeighborsClassifier was fitted with feature names\n",
      "  warnings.warn(\n",
      "C:\\Users\\smhrd\\AppData\\Local\\Temp\\ipykernel_15348\\2774937686.py:68: FutureWarning: The frame.append method is deprecated and will be removed from pandas in a future version. Use pandas.concat instead.\n",
      "  df = df.append([globals()[f'list']])\n",
      "C:\\Users\\smhrd\\AppData\\Roaming\\Python\\Python39\\site-packages\\sklearn\\base.py:450: UserWarning: X does not have valid feature names, but KNeighborsClassifier was fitted with feature names\n",
      "  warnings.warn(\n",
      "C:\\Users\\smhrd\\AppData\\Local\\Temp\\ipykernel_15348\\2774937686.py:68: FutureWarning: The frame.append method is deprecated and will be removed from pandas in a future version. Use pandas.concat instead.\n",
      "  df = df.append([globals()[f'list']])\n",
      "C:\\Users\\smhrd\\AppData\\Roaming\\Python\\Python39\\site-packages\\sklearn\\base.py:450: UserWarning: X does not have valid feature names, but KNeighborsClassifier was fitted with feature names\n",
      "  warnings.warn(\n",
      "C:\\Users\\smhrd\\AppData\\Local\\Temp\\ipykernel_15348\\2774937686.py:68: FutureWarning: The frame.append method is deprecated and will be removed from pandas in a future version. Use pandas.concat instead.\n",
      "  df = df.append([globals()[f'list']])\n",
      "C:\\Users\\smhrd\\AppData\\Roaming\\Python\\Python39\\site-packages\\sklearn\\base.py:450: UserWarning: X does not have valid feature names, but KNeighborsClassifier was fitted with feature names\n",
      "  warnings.warn(\n"
     ]
    },
    {
     "name": "stdout",
     "output_type": "stream",
     "text": [
      "(77.81278052565105, 149.18418771034013, -14.0)\n",
      "[[1. 0. 0. 0.]]\n",
      "(79.35626749616293, 147.86146339904036, -14.0)\n",
      "[[1. 0. 0. 0.]]\n",
      "(78.84506526691236, 147.45266718319098, -11.5)\n",
      "[[1. 0. 0. 0.]]\n",
      "(78.87014637943251, 150.4930861053939, -10.5)\n",
      "[[1. 0. 0. 0.]]\n"
     ]
    },
    {
     "name": "stderr",
     "output_type": "stream",
     "text": [
      "C:\\Users\\smhrd\\AppData\\Local\\Temp\\ipykernel_15348\\2774937686.py:68: FutureWarning: The frame.append method is deprecated and will be removed from pandas in a future version. Use pandas.concat instead.\n",
      "  df = df.append([globals()[f'list']])\n",
      "C:\\Users\\smhrd\\AppData\\Roaming\\Python\\Python39\\site-packages\\sklearn\\base.py:450: UserWarning: X does not have valid feature names, but KNeighborsClassifier was fitted with feature names\n",
      "  warnings.warn(\n",
      "C:\\Users\\smhrd\\AppData\\Local\\Temp\\ipykernel_15348\\2774937686.py:68: FutureWarning: The frame.append method is deprecated and will be removed from pandas in a future version. Use pandas.concat instead.\n",
      "  df = df.append([globals()[f'list']])\n",
      "C:\\Users\\smhrd\\AppData\\Roaming\\Python\\Python39\\site-packages\\sklearn\\base.py:450: UserWarning: X does not have valid feature names, but KNeighborsClassifier was fitted with feature names\n",
      "  warnings.warn(\n",
      "C:\\Users\\smhrd\\AppData\\Local\\Temp\\ipykernel_15348\\2774937686.py:68: FutureWarning: The frame.append method is deprecated and will be removed from pandas in a future version. Use pandas.concat instead.\n",
      "  df = df.append([globals()[f'list']])\n",
      "C:\\Users\\smhrd\\AppData\\Roaming\\Python\\Python39\\site-packages\\sklearn\\base.py:450: UserWarning: X does not have valid feature names, but KNeighborsClassifier was fitted with feature names\n",
      "  warnings.warn(\n",
      "C:\\Users\\smhrd\\AppData\\Local\\Temp\\ipykernel_15348\\2774937686.py:68: FutureWarning: The frame.append method is deprecated and will be removed from pandas in a future version. Use pandas.concat instead.\n",
      "  df = df.append([globals()[f'list']])\n",
      "C:\\Users\\smhrd\\AppData\\Roaming\\Python\\Python39\\site-packages\\sklearn\\base.py:450: UserWarning: X does not have valid feature names, but KNeighborsClassifier was fitted with feature names\n",
      "  warnings.warn(\n"
     ]
    },
    {
     "name": "stdout",
     "output_type": "stream",
     "text": [
      "(80.53030804477251, 148.05380859826224, -12.0)\n",
      "[[1. 0. 0. 0.]]\n",
      "(79.71700546744108, 149.69082350599342, -9.5)\n",
      "[[1. 0. 0. 0.]]\n",
      "(77.83326756364133, 148.5082883813127, -11.5)\n",
      "[[1. 0. 0. 0.]]\n",
      "(77.1676039278968, 149.534098053557, -11.5)\n",
      "[[1. 0. 0. 0.]]\n"
     ]
    },
    {
     "name": "stderr",
     "output_type": "stream",
     "text": [
      "C:\\Users\\smhrd\\AppData\\Local\\Temp\\ipykernel_15348\\2774937686.py:68: FutureWarning: The frame.append method is deprecated and will be removed from pandas in a future version. Use pandas.concat instead.\n",
      "  df = df.append([globals()[f'list']])\n",
      "C:\\Users\\smhrd\\AppData\\Roaming\\Python\\Python39\\site-packages\\sklearn\\base.py:450: UserWarning: X does not have valid feature names, but KNeighborsClassifier was fitted with feature names\n",
      "  warnings.warn(\n",
      "C:\\Users\\smhrd\\AppData\\Local\\Temp\\ipykernel_15348\\2774937686.py:68: FutureWarning: The frame.append method is deprecated and will be removed from pandas in a future version. Use pandas.concat instead.\n",
      "  df = df.append([globals()[f'list']])\n",
      "C:\\Users\\smhrd\\AppData\\Roaming\\Python\\Python39\\site-packages\\sklearn\\base.py:450: UserWarning: X does not have valid feature names, but KNeighborsClassifier was fitted with feature names\n",
      "  warnings.warn(\n",
      "C:\\Users\\smhrd\\AppData\\Local\\Temp\\ipykernel_15348\\2774937686.py:68: FutureWarning: The frame.append method is deprecated and will be removed from pandas in a future version. Use pandas.concat instead.\n",
      "  df = df.append([globals()[f'list']])\n",
      "C:\\Users\\smhrd\\AppData\\Roaming\\Python\\Python39\\site-packages\\sklearn\\base.py:450: UserWarning: X does not have valid feature names, but KNeighborsClassifier was fitted with feature names\n",
      "  warnings.warn(\n",
      "C:\\Users\\smhrd\\AppData\\Local\\Temp\\ipykernel_15348\\2774937686.py:68: FutureWarning: The frame.append method is deprecated and will be removed from pandas in a future version. Use pandas.concat instead.\n",
      "  df = df.append([globals()[f'list']])\n",
      "C:\\Users\\smhrd\\AppData\\Roaming\\Python\\Python39\\site-packages\\sklearn\\base.py:450: UserWarning: X does not have valid feature names, but KNeighborsClassifier was fitted with feature names\n",
      "  warnings.warn(\n"
     ]
    },
    {
     "name": "stdout",
     "output_type": "stream",
     "text": [
      "(77.20851581401425, 147.62814079877793, -10.0)\n",
      "[[1. 0. 0. 0.]]\n",
      "(76.60224352347109, 149.24979833335635, -12.5)\n",
      "[[1. 0. 0. 0.]]\n",
      "(76.87556532511212, 150.23448644629272, -7.5)\n",
      "[[1. 0. 0. 0.]]\n",
      "(76.66732483986614, 149.81636705077614, -12.0)\n",
      "[[1. 0. 0. 0.]]\n"
     ]
    },
    {
     "name": "stderr",
     "output_type": "stream",
     "text": [
      "C:\\Users\\smhrd\\AppData\\Local\\Temp\\ipykernel_15348\\2774937686.py:68: FutureWarning: The frame.append method is deprecated and will be removed from pandas in a future version. Use pandas.concat instead.\n",
      "  df = df.append([globals()[f'list']])\n",
      "C:\\Users\\smhrd\\AppData\\Roaming\\Python\\Python39\\site-packages\\sklearn\\base.py:450: UserWarning: X does not have valid feature names, but KNeighborsClassifier was fitted with feature names\n",
      "  warnings.warn(\n",
      "C:\\Users\\smhrd\\AppData\\Local\\Temp\\ipykernel_15348\\2774937686.py:68: FutureWarning: The frame.append method is deprecated and will be removed from pandas in a future version. Use pandas.concat instead.\n",
      "  df = df.append([globals()[f'list']])\n",
      "C:\\Users\\smhrd\\AppData\\Roaming\\Python\\Python39\\site-packages\\sklearn\\base.py:450: UserWarning: X does not have valid feature names, but KNeighborsClassifier was fitted with feature names\n",
      "  warnings.warn(\n",
      "C:\\Users\\smhrd\\AppData\\Local\\Temp\\ipykernel_15348\\2774937686.py:68: FutureWarning: The frame.append method is deprecated and will be removed from pandas in a future version. Use pandas.concat instead.\n",
      "  df = df.append([globals()[f'list']])\n",
      "C:\\Users\\smhrd\\AppData\\Roaming\\Python\\Python39\\site-packages\\sklearn\\base.py:450: UserWarning: X does not have valid feature names, but KNeighborsClassifier was fitted with feature names\n",
      "  warnings.warn(\n",
      "C:\\Users\\smhrd\\AppData\\Local\\Temp\\ipykernel_15348\\2774937686.py:68: FutureWarning: The frame.append method is deprecated and will be removed from pandas in a future version. Use pandas.concat instead.\n",
      "  df = df.append([globals()[f'list']])\n",
      "C:\\Users\\smhrd\\AppData\\Roaming\\Python\\Python39\\site-packages\\sklearn\\base.py:450: UserWarning: X does not have valid feature names, but KNeighborsClassifier was fitted with feature names\n",
      "  warnings.warn(\n"
     ]
    },
    {
     "name": "stdout",
     "output_type": "stream",
     "text": [
      "(76.39084459877722, 149.8790677012874, -12.0)\n",
      "[[1. 0. 0. 0.]]\n",
      "(74.30682900399684, 146.83456623610243, -10.5)\n",
      "[[1. 0. 0. 0.]]\n",
      "(74.52024968882836, 148.85273233121967, -12.5)\n",
      "[[1. 0. 0. 0.]]\n",
      "(76.16975588356469, 148.88083331755118, -10.5)\n",
      "[[1. 0. 0. 0.]]\n"
     ]
    },
    {
     "name": "stderr",
     "output_type": "stream",
     "text": [
      "C:\\Users\\smhrd\\AppData\\Local\\Temp\\ipykernel_15348\\2774937686.py:68: FutureWarning: The frame.append method is deprecated and will be removed from pandas in a future version. Use pandas.concat instead.\n",
      "  df = df.append([globals()[f'list']])\n",
      "C:\\Users\\smhrd\\AppData\\Roaming\\Python\\Python39\\site-packages\\sklearn\\base.py:450: UserWarning: X does not have valid feature names, but KNeighborsClassifier was fitted with feature names\n",
      "  warnings.warn(\n",
      "C:\\Users\\smhrd\\AppData\\Local\\Temp\\ipykernel_15348\\2774937686.py:68: FutureWarning: The frame.append method is deprecated and will be removed from pandas in a future version. Use pandas.concat instead.\n",
      "  df = df.append([globals()[f'list']])\n",
      "C:\\Users\\smhrd\\AppData\\Roaming\\Python\\Python39\\site-packages\\sklearn\\base.py:450: UserWarning: X does not have valid feature names, but KNeighborsClassifier was fitted with feature names\n",
      "  warnings.warn(\n",
      "C:\\Users\\smhrd\\AppData\\Local\\Temp\\ipykernel_15348\\2774937686.py:68: FutureWarning: The frame.append method is deprecated and will be removed from pandas in a future version. Use pandas.concat instead.\n",
      "  df = df.append([globals()[f'list']])\n",
      "C:\\Users\\smhrd\\AppData\\Roaming\\Python\\Python39\\site-packages\\sklearn\\base.py:450: UserWarning: X does not have valid feature names, but KNeighborsClassifier was fitted with feature names\n",
      "  warnings.warn(\n",
      "C:\\Users\\smhrd\\AppData\\Local\\Temp\\ipykernel_15348\\2774937686.py:68: FutureWarning: The frame.append method is deprecated and will be removed from pandas in a future version. Use pandas.concat instead.\n",
      "  df = df.append([globals()[f'list']])\n",
      "C:\\Users\\smhrd\\AppData\\Roaming\\Python\\Python39\\site-packages\\sklearn\\base.py:450: UserWarning: X does not have valid feature names, but KNeighborsClassifier was fitted with feature names\n",
      "  warnings.warn(\n"
     ]
    },
    {
     "name": "stdout",
     "output_type": "stream",
     "text": [
      "(76.64486574519984, 148.76321660681333, -11.0)\n",
      "[[1. 0. 0. 0.]]\n",
      "(77.47686159817937, 149.84502627097484, -8.5)\n",
      "[[1. 0. 0. 0.]]\n",
      "(75.98190246322076, 149.59383236104463, -11.5)\n",
      "[[1. 0. 0. 0.]]\n",
      "(76.9826131199159, 148.17658217800678, -11.0)\n",
      "[[1. 0. 0. 0.]]\n"
     ]
    },
    {
     "name": "stderr",
     "output_type": "stream",
     "text": [
      "C:\\Users\\smhrd\\AppData\\Local\\Temp\\ipykernel_15348\\2774937686.py:68: FutureWarning: The frame.append method is deprecated and will be removed from pandas in a future version. Use pandas.concat instead.\n",
      "  df = df.append([globals()[f'list']])\n",
      "C:\\Users\\smhrd\\AppData\\Roaming\\Python\\Python39\\site-packages\\sklearn\\base.py:450: UserWarning: X does not have valid feature names, but KNeighborsClassifier was fitted with feature names\n",
      "  warnings.warn(\n",
      "C:\\Users\\smhrd\\AppData\\Local\\Temp\\ipykernel_15348\\2774937686.py:68: FutureWarning: The frame.append method is deprecated and will be removed from pandas in a future version. Use pandas.concat instead.\n",
      "  df = df.append([globals()[f'list']])\n",
      "C:\\Users\\smhrd\\AppData\\Roaming\\Python\\Python39\\site-packages\\sklearn\\base.py:450: UserWarning: X does not have valid feature names, but KNeighborsClassifier was fitted with feature names\n",
      "  warnings.warn(\n",
      "C:\\Users\\smhrd\\AppData\\Local\\Temp\\ipykernel_15348\\2774937686.py:68: FutureWarning: The frame.append method is deprecated and will be removed from pandas in a future version. Use pandas.concat instead.\n",
      "  df = df.append([globals()[f'list']])\n",
      "C:\\Users\\smhrd\\AppData\\Roaming\\Python\\Python39\\site-packages\\sklearn\\base.py:450: UserWarning: X does not have valid feature names, but KNeighborsClassifier was fitted with feature names\n",
      "  warnings.warn(\n",
      "C:\\Users\\smhrd\\AppData\\Local\\Temp\\ipykernel_15348\\2774937686.py:68: FutureWarning: The frame.append method is deprecated and will be removed from pandas in a future version. Use pandas.concat instead.\n",
      "  df = df.append([globals()[f'list']])\n",
      "C:\\Users\\smhrd\\AppData\\Roaming\\Python\\Python39\\site-packages\\sklearn\\base.py:450: UserWarning: X does not have valid feature names, but KNeighborsClassifier was fitted with feature names\n",
      "  warnings.warn(\n"
     ]
    },
    {
     "name": "stdout",
     "output_type": "stream",
     "text": [
      "(77.00376073399646, 147.53890151012405, -10.0)\n",
      "[[1. 0. 0. 0.]]\n",
      "(75.96568671550656, 147.81847045624764, -12.0)\n",
      "[[1. 0. 0. 0.]]\n",
      "(76.74628437350464, 150.01555571864455, -9.5)\n",
      "[[1. 0. 0. 0.]]\n",
      "(76.5463898531636, 148.88749581560424, -13.0)\n",
      "[[1. 0. 0. 0.]]\n"
     ]
    },
    {
     "name": "stderr",
     "output_type": "stream",
     "text": [
      "C:\\Users\\smhrd\\AppData\\Local\\Temp\\ipykernel_15348\\2774937686.py:68: FutureWarning: The frame.append method is deprecated and will be removed from pandas in a future version. Use pandas.concat instead.\n",
      "  df = df.append([globals()[f'list']])\n",
      "C:\\Users\\smhrd\\AppData\\Roaming\\Python\\Python39\\site-packages\\sklearn\\base.py:450: UserWarning: X does not have valid feature names, but KNeighborsClassifier was fitted with feature names\n",
      "  warnings.warn(\n",
      "C:\\Users\\smhrd\\AppData\\Local\\Temp\\ipykernel_15348\\2774937686.py:68: FutureWarning: The frame.append method is deprecated and will be removed from pandas in a future version. Use pandas.concat instead.\n",
      "  df = df.append([globals()[f'list']])\n",
      "C:\\Users\\smhrd\\AppData\\Roaming\\Python\\Python39\\site-packages\\sklearn\\base.py:450: UserWarning: X does not have valid feature names, but KNeighborsClassifier was fitted with feature names\n",
      "  warnings.warn(\n",
      "C:\\Users\\smhrd\\AppData\\Local\\Temp\\ipykernel_15348\\2774937686.py:68: FutureWarning: The frame.append method is deprecated and will be removed from pandas in a future version. Use pandas.concat instead.\n",
      "  df = df.append([globals()[f'list']])\n",
      "C:\\Users\\smhrd\\AppData\\Roaming\\Python\\Python39\\site-packages\\sklearn\\base.py:450: UserWarning: X does not have valid feature names, but KNeighborsClassifier was fitted with feature names\n",
      "  warnings.warn(\n",
      "C:\\Users\\smhrd\\AppData\\Local\\Temp\\ipykernel_15348\\2774937686.py:68: FutureWarning: The frame.append method is deprecated and will be removed from pandas in a future version. Use pandas.concat instead.\n",
      "  df = df.append([globals()[f'list']])\n",
      "C:\\Users\\smhrd\\AppData\\Roaming\\Python\\Python39\\site-packages\\sklearn\\base.py:450: UserWarning: X does not have valid feature names, but KNeighborsClassifier was fitted with feature names\n",
      "  warnings.warn(\n"
     ]
    },
    {
     "name": "stdout",
     "output_type": "stream",
     "text": [
      "(76.00634835982973, 148.1479657075343, -12.5)\n",
      "[[1. 0. 0. 0.]]\n",
      "(76.36177655019611, 148.82073310560762, -9.0)\n",
      "[[1. 0. 0. 0.]]\n",
      "(76.14733672167496, 147.3474149514605, -9.5)\n",
      "[[1. 0. 0. 0.]]\n",
      "(75.193342275357, 146.6981327006152, -10.0)\n",
      "[[1. 0. 0. 0.]]\n"
     ]
    },
    {
     "name": "stderr",
     "output_type": "stream",
     "text": [
      "C:\\Users\\smhrd\\AppData\\Local\\Temp\\ipykernel_15348\\2774937686.py:68: FutureWarning: The frame.append method is deprecated and will be removed from pandas in a future version. Use pandas.concat instead.\n",
      "  df = df.append([globals()[f'list']])\n",
      "C:\\Users\\smhrd\\AppData\\Roaming\\Python\\Python39\\site-packages\\sklearn\\base.py:450: UserWarning: X does not have valid feature names, but KNeighborsClassifier was fitted with feature names\n",
      "  warnings.warn(\n",
      "C:\\Users\\smhrd\\AppData\\Local\\Temp\\ipykernel_15348\\2774937686.py:68: FutureWarning: The frame.append method is deprecated and will be removed from pandas in a future version. Use pandas.concat instead.\n",
      "  df = df.append([globals()[f'list']])\n",
      "C:\\Users\\smhrd\\AppData\\Roaming\\Python\\Python39\\site-packages\\sklearn\\base.py:450: UserWarning: X does not have valid feature names, but KNeighborsClassifier was fitted with feature names\n",
      "  warnings.warn(\n",
      "C:\\Users\\smhrd\\AppData\\Local\\Temp\\ipykernel_15348\\2774937686.py:68: FutureWarning: The frame.append method is deprecated and will be removed from pandas in a future version. Use pandas.concat instead.\n",
      "  df = df.append([globals()[f'list']])\n",
      "C:\\Users\\smhrd\\AppData\\Roaming\\Python\\Python39\\site-packages\\sklearn\\base.py:450: UserWarning: X does not have valid feature names, but KNeighborsClassifier was fitted with feature names\n",
      "  warnings.warn(\n",
      "C:\\Users\\smhrd\\AppData\\Local\\Temp\\ipykernel_15348\\2774937686.py:68: FutureWarning: The frame.append method is deprecated and will be removed from pandas in a future version. Use pandas.concat instead.\n",
      "  df = df.append([globals()[f'list']])\n",
      "C:\\Users\\smhrd\\AppData\\Roaming\\Python\\Python39\\site-packages\\sklearn\\base.py:450: UserWarning: X does not have valid feature names, but KNeighborsClassifier was fitted with feature names\n",
      "  warnings.warn(\n"
     ]
    },
    {
     "name": "stdout",
     "output_type": "stream",
     "text": [
      "(75.67825852690464, 148.58302280319273, -8.0)\n",
      "[[1. 0. 0. 0.]]\n",
      "(75.50182022099716, 148.79110095302292, -9.5)\n",
      "[[1. 0. 0. 0.]]\n",
      "(76.10998384347967, 148.30633584014885, -7.0)\n",
      "[[1. 0. 0. 0.]]\n",
      "(74.92138696102938, 148.81779187514798, -6.5)\n",
      "[[1. 0. 0. 0.]]\n"
     ]
    },
    {
     "name": "stderr",
     "output_type": "stream",
     "text": [
      "C:\\Users\\smhrd\\AppData\\Local\\Temp\\ipykernel_15348\\2774937686.py:68: FutureWarning: The frame.append method is deprecated and will be removed from pandas in a future version. Use pandas.concat instead.\n",
      "  df = df.append([globals()[f'list']])\n",
      "C:\\Users\\smhrd\\AppData\\Roaming\\Python\\Python39\\site-packages\\sklearn\\base.py:450: UserWarning: X does not have valid feature names, but KNeighborsClassifier was fitted with feature names\n",
      "  warnings.warn(\n",
      "C:\\Users\\smhrd\\AppData\\Local\\Temp\\ipykernel_15348\\2774937686.py:68: FutureWarning: The frame.append method is deprecated and will be removed from pandas in a future version. Use pandas.concat instead.\n",
      "  df = df.append([globals()[f'list']])\n",
      "C:\\Users\\smhrd\\AppData\\Roaming\\Python\\Python39\\site-packages\\sklearn\\base.py:450: UserWarning: X does not have valid feature names, but KNeighborsClassifier was fitted with feature names\n",
      "  warnings.warn(\n",
      "C:\\Users\\smhrd\\AppData\\Local\\Temp\\ipykernel_15348\\2774937686.py:68: FutureWarning: The frame.append method is deprecated and will be removed from pandas in a future version. Use pandas.concat instead.\n",
      "  df = df.append([globals()[f'list']])\n",
      "C:\\Users\\smhrd\\AppData\\Roaming\\Python\\Python39\\site-packages\\sklearn\\base.py:450: UserWarning: X does not have valid feature names, but KNeighborsClassifier was fitted with feature names\n",
      "  warnings.warn(\n"
     ]
    },
    {
     "name": "stdout",
     "output_type": "stream",
     "text": [
      "(75.64883821293729, 149.90830274698496, -9.0)\n",
      "[[1. 0. 0. 0.]]\n",
      "(74.17522223644323, 148.64964543414973, -9.0)\n",
      "[[1. 0. 0. 0.]]\n",
      "(74.60691094687886, 149.6637601003863, -9.5)\n",
      "[[1. 0. 0. 0.]]\n"
     ]
    },
    {
     "name": "stderr",
     "output_type": "stream",
     "text": [
      "C:\\Users\\smhrd\\AppData\\Local\\Temp\\ipykernel_15348\\2774937686.py:68: FutureWarning: The frame.append method is deprecated and will be removed from pandas in a future version. Use pandas.concat instead.\n",
      "  df = df.append([globals()[f'list']])\n",
      "C:\\Users\\smhrd\\AppData\\Roaming\\Python\\Python39\\site-packages\\sklearn\\base.py:450: UserWarning: X does not have valid feature names, but KNeighborsClassifier was fitted with feature names\n",
      "  warnings.warn(\n",
      "C:\\Users\\smhrd\\AppData\\Local\\Temp\\ipykernel_15348\\2774937686.py:68: FutureWarning: The frame.append method is deprecated and will be removed from pandas in a future version. Use pandas.concat instead.\n",
      "  df = df.append([globals()[f'list']])\n",
      "C:\\Users\\smhrd\\AppData\\Roaming\\Python\\Python39\\site-packages\\sklearn\\base.py:450: UserWarning: X does not have valid feature names, but KNeighborsClassifier was fitted with feature names\n",
      "  warnings.warn(\n",
      "C:\\Users\\smhrd\\AppData\\Local\\Temp\\ipykernel_15348\\2774937686.py:68: FutureWarning: The frame.append method is deprecated and will be removed from pandas in a future version. Use pandas.concat instead.\n",
      "  df = df.append([globals()[f'list']])\n",
      "C:\\Users\\smhrd\\AppData\\Roaming\\Python\\Python39\\site-packages\\sklearn\\base.py:450: UserWarning: X does not have valid feature names, but KNeighborsClassifier was fitted with feature names\n",
      "  warnings.warn(\n"
     ]
    },
    {
     "name": "stdout",
     "output_type": "stream",
     "text": [
      "(73.54907203033781, 148.57712663013282, -12.0)\n",
      "[[1. 0. 0. 0.]]\n",
      "(72.02681927877104, 149.87477962266448, -10.0)\n",
      "[[1. 0. 0. 0.]]\n",
      "(72.23499354157182, 149.08447337255487, -11.0)\n",
      "[[1. 0. 0. 0.]]\n"
     ]
    },
    {
     "name": "stderr",
     "output_type": "stream",
     "text": [
      "C:\\Users\\smhrd\\AppData\\Local\\Temp\\ipykernel_15348\\2774937686.py:68: FutureWarning: The frame.append method is deprecated and will be removed from pandas in a future version. Use pandas.concat instead.\n",
      "  df = df.append([globals()[f'list']])\n",
      "C:\\Users\\smhrd\\AppData\\Roaming\\Python\\Python39\\site-packages\\sklearn\\base.py:450: UserWarning: X does not have valid feature names, but KNeighborsClassifier was fitted with feature names\n",
      "  warnings.warn(\n",
      "C:\\Users\\smhrd\\AppData\\Local\\Temp\\ipykernel_15348\\2774937686.py:68: FutureWarning: The frame.append method is deprecated and will be removed from pandas in a future version. Use pandas.concat instead.\n",
      "  df = df.append([globals()[f'list']])\n",
      "C:\\Users\\smhrd\\AppData\\Roaming\\Python\\Python39\\site-packages\\sklearn\\base.py:450: UserWarning: X does not have valid feature names, but KNeighborsClassifier was fitted with feature names\n",
      "  warnings.warn(\n",
      "C:\\Users\\smhrd\\AppData\\Local\\Temp\\ipykernel_15348\\2774937686.py:68: FutureWarning: The frame.append method is deprecated and will be removed from pandas in a future version. Use pandas.concat instead.\n",
      "  df = df.append([globals()[f'list']])\n",
      "C:\\Users\\smhrd\\AppData\\Roaming\\Python\\Python39\\site-packages\\sklearn\\base.py:450: UserWarning: X does not have valid feature names, but KNeighborsClassifier was fitted with feature names\n",
      "  warnings.warn(\n",
      "C:\\Users\\smhrd\\AppData\\Local\\Temp\\ipykernel_15348\\2774937686.py:68: FutureWarning: The frame.append method is deprecated and will be removed from pandas in a future version. Use pandas.concat instead.\n",
      "  df = df.append([globals()[f'list']])\n",
      "C:\\Users\\smhrd\\AppData\\Roaming\\Python\\Python39\\site-packages\\sklearn\\base.py:450: UserWarning: X does not have valid feature names, but KNeighborsClassifier was fitted with feature names\n",
      "  warnings.warn(\n"
     ]
    },
    {
     "name": "stdout",
     "output_type": "stream",
     "text": [
      "(72.81054495305281, 149.0201001825731, -11.0)\n",
      "[[1. 0. 0. 0.]]\n",
      "(73.33760579505811, 148.4424707661627, -12.5)\n",
      "[[1. 0. 0. 0.]]\n",
      "(74.81881693772281, 149.09822143286695, -9.5)\n",
      "[[1. 0. 0. 0.]]\n",
      "(72.69193936680922, 149.61944235661602, -14.0)\n",
      "[[1. 0. 0. 0.]]\n"
     ]
    },
    {
     "name": "stderr",
     "output_type": "stream",
     "text": [
      "C:\\Users\\smhrd\\AppData\\Local\\Temp\\ipykernel_15348\\2774937686.py:68: FutureWarning: The frame.append method is deprecated and will be removed from pandas in a future version. Use pandas.concat instead.\n",
      "  df = df.append([globals()[f'list']])\n",
      "C:\\Users\\smhrd\\AppData\\Roaming\\Python\\Python39\\site-packages\\sklearn\\base.py:450: UserWarning: X does not have valid feature names, but KNeighborsClassifier was fitted with feature names\n",
      "  warnings.warn(\n",
      "C:\\Users\\smhrd\\AppData\\Local\\Temp\\ipykernel_15348\\2774937686.py:68: FutureWarning: The frame.append method is deprecated and will be removed from pandas in a future version. Use pandas.concat instead.\n",
      "  df = df.append([globals()[f'list']])\n",
      "C:\\Users\\smhrd\\AppData\\Roaming\\Python\\Python39\\site-packages\\sklearn\\base.py:450: UserWarning: X does not have valid feature names, but KNeighborsClassifier was fitted with feature names\n",
      "  warnings.warn(\n",
      "C:\\Users\\smhrd\\AppData\\Local\\Temp\\ipykernel_15348\\2774937686.py:68: FutureWarning: The frame.append method is deprecated and will be removed from pandas in a future version. Use pandas.concat instead.\n",
      "  df = df.append([globals()[f'list']])\n",
      "C:\\Users\\smhrd\\AppData\\Roaming\\Python\\Python39\\site-packages\\sklearn\\base.py:450: UserWarning: X does not have valid feature names, but KNeighborsClassifier was fitted with feature names\n",
      "  warnings.warn(\n",
      "C:\\Users\\smhrd\\AppData\\Local\\Temp\\ipykernel_15348\\2774937686.py:68: FutureWarning: The frame.append method is deprecated and will be removed from pandas in a future version. Use pandas.concat instead.\n",
      "  df = df.append([globals()[f'list']])\n",
      "C:\\Users\\smhrd\\AppData\\Roaming\\Python\\Python39\\site-packages\\sklearn\\base.py:450: UserWarning: X does not have valid feature names, but KNeighborsClassifier was fitted with feature names\n",
      "  warnings.warn(\n"
     ]
    },
    {
     "name": "stdout",
     "output_type": "stream",
     "text": [
      "(70.46689830272004, 150.26090697937352, -12.5)\n",
      "[[1. 0. 0. 0.]]\n",
      "(70.85119614876817, 150.2216561997073, -10.5)\n",
      "[[1. 0. 0. 0.]]\n",
      "(73.69674842529574, 147.97505797532352, -13.0)\n",
      "[[1. 0. 0. 0.]]\n",
      "(73.00455347075176, 150.0899118685893, -10.0)\n",
      "[[1. 0. 0. 0.]]\n"
     ]
    },
    {
     "name": "stderr",
     "output_type": "stream",
     "text": [
      "C:\\Users\\smhrd\\AppData\\Local\\Temp\\ipykernel_15348\\2774937686.py:68: FutureWarning: The frame.append method is deprecated and will be removed from pandas in a future version. Use pandas.concat instead.\n",
      "  df = df.append([globals()[f'list']])\n",
      "C:\\Users\\smhrd\\AppData\\Roaming\\Python\\Python39\\site-packages\\sklearn\\base.py:450: UserWarning: X does not have valid feature names, but KNeighborsClassifier was fitted with feature names\n",
      "  warnings.warn(\n",
      "C:\\Users\\smhrd\\AppData\\Local\\Temp\\ipykernel_15348\\2774937686.py:68: FutureWarning: The frame.append method is deprecated and will be removed from pandas in a future version. Use pandas.concat instead.\n",
      "  df = df.append([globals()[f'list']])\n",
      "C:\\Users\\smhrd\\AppData\\Roaming\\Python\\Python39\\site-packages\\sklearn\\base.py:450: UserWarning: X does not have valid feature names, but KNeighborsClassifier was fitted with feature names\n",
      "  warnings.warn(\n",
      "C:\\Users\\smhrd\\AppData\\Local\\Temp\\ipykernel_15348\\2774937686.py:68: FutureWarning: The frame.append method is deprecated and will be removed from pandas in a future version. Use pandas.concat instead.\n",
      "  df = df.append([globals()[f'list']])\n",
      "C:\\Users\\smhrd\\AppData\\Roaming\\Python\\Python39\\site-packages\\sklearn\\base.py:450: UserWarning: X does not have valid feature names, but KNeighborsClassifier was fitted with feature names\n",
      "  warnings.warn(\n",
      "C:\\Users\\smhrd\\AppData\\Local\\Temp\\ipykernel_15348\\2774937686.py:68: FutureWarning: The frame.append method is deprecated and will be removed from pandas in a future version. Use pandas.concat instead.\n",
      "  df = df.append([globals()[f'list']])\n",
      "C:\\Users\\smhrd\\AppData\\Roaming\\Python\\Python39\\site-packages\\sklearn\\base.py:450: UserWarning: X does not have valid feature names, but KNeighborsClassifier was fitted with feature names\n",
      "  warnings.warn(\n"
     ]
    },
    {
     "name": "stdout",
     "output_type": "stream",
     "text": [
      "(71.33587403105864, 149.99064919962944, -7.5)\n",
      "[[1. 0. 0. 0.]]\n",
      "(74.34611926048085, 150.37914590542596, -7.0)\n",
      "[[1. 0. 0. 0.]]\n",
      "(74.10869161770266, 151.47356267533596, -8.0)\n",
      "[[1. 0. 0. 0.]]\n",
      "(71.30180215064561, 150.76049536909858, -5.5)\n",
      "[[1. 0. 0. 0.]]\n"
     ]
    },
    {
     "name": "stderr",
     "output_type": "stream",
     "text": [
      "C:\\Users\\smhrd\\AppData\\Local\\Temp\\ipykernel_15348\\2774937686.py:68: FutureWarning: The frame.append method is deprecated and will be removed from pandas in a future version. Use pandas.concat instead.\n",
      "  df = df.append([globals()[f'list']])\n",
      "C:\\Users\\smhrd\\AppData\\Roaming\\Python\\Python39\\site-packages\\sklearn\\base.py:450: UserWarning: X does not have valid feature names, but KNeighborsClassifier was fitted with feature names\n",
      "  warnings.warn(\n",
      "C:\\Users\\smhrd\\AppData\\Local\\Temp\\ipykernel_15348\\2774937686.py:68: FutureWarning: The frame.append method is deprecated and will be removed from pandas in a future version. Use pandas.concat instead.\n",
      "  df = df.append([globals()[f'list']])\n",
      "C:\\Users\\smhrd\\AppData\\Roaming\\Python\\Python39\\site-packages\\sklearn\\base.py:450: UserWarning: X does not have valid feature names, but KNeighborsClassifier was fitted with feature names\n",
      "  warnings.warn(\n",
      "C:\\Users\\smhrd\\AppData\\Local\\Temp\\ipykernel_15348\\2774937686.py:68: FutureWarning: The frame.append method is deprecated and will be removed from pandas in a future version. Use pandas.concat instead.\n",
      "  df = df.append([globals()[f'list']])\n",
      "C:\\Users\\smhrd\\AppData\\Roaming\\Python\\Python39\\site-packages\\sklearn\\base.py:450: UserWarning: X does not have valid feature names, but KNeighborsClassifier was fitted with feature names\n",
      "  warnings.warn(\n",
      "C:\\Users\\smhrd\\AppData\\Local\\Temp\\ipykernel_15348\\2774937686.py:68: FutureWarning: The frame.append method is deprecated and will be removed from pandas in a future version. Use pandas.concat instead.\n",
      "  df = df.append([globals()[f'list']])\n",
      "C:\\Users\\smhrd\\AppData\\Roaming\\Python\\Python39\\site-packages\\sklearn\\base.py:450: UserWarning: X does not have valid feature names, but KNeighborsClassifier was fitted with feature names\n",
      "  warnings.warn(\n"
     ]
    },
    {
     "name": "stdout",
     "output_type": "stream",
     "text": [
      "(69.35439951888333, 152.39946128960068, -4.0)\n",
      "[[1. 0. 0. 0.]]\n",
      "(70.80830714260819, 150.61808798630668, -4.0)\n",
      "[[1. 0. 0. 0.]]\n",
      "(68.4861378110118, 153.00182315130675, -8.5)\n",
      "[[1. 0. 0. 0.]]\n",
      "(71.00259819822756, 151.796557727914, -6.0)\n",
      "[[1. 0. 0. 0.]]\n"
     ]
    },
    {
     "name": "stderr",
     "output_type": "stream",
     "text": [
      "C:\\Users\\smhrd\\AppData\\Local\\Temp\\ipykernel_15348\\2774937686.py:68: FutureWarning: The frame.append method is deprecated and will be removed from pandas in a future version. Use pandas.concat instead.\n",
      "  df = df.append([globals()[f'list']])\n",
      "C:\\Users\\smhrd\\AppData\\Roaming\\Python\\Python39\\site-packages\\sklearn\\base.py:450: UserWarning: X does not have valid feature names, but KNeighborsClassifier was fitted with feature names\n",
      "  warnings.warn(\n",
      "C:\\Users\\smhrd\\AppData\\Local\\Temp\\ipykernel_15348\\2774937686.py:68: FutureWarning: The frame.append method is deprecated and will be removed from pandas in a future version. Use pandas.concat instead.\n",
      "  df = df.append([globals()[f'list']])\n",
      "C:\\Users\\smhrd\\AppData\\Roaming\\Python\\Python39\\site-packages\\sklearn\\base.py:450: UserWarning: X does not have valid feature names, but KNeighborsClassifier was fitted with feature names\n",
      "  warnings.warn(\n",
      "C:\\Users\\smhrd\\AppData\\Local\\Temp\\ipykernel_15348\\2774937686.py:68: FutureWarning: The frame.append method is deprecated and will be removed from pandas in a future version. Use pandas.concat instead.\n",
      "  df = df.append([globals()[f'list']])\n",
      "C:\\Users\\smhrd\\AppData\\Roaming\\Python\\Python39\\site-packages\\sklearn\\base.py:450: UserWarning: X does not have valid feature names, but KNeighborsClassifier was fitted with feature names\n",
      "  warnings.warn(\n",
      "C:\\Users\\smhrd\\AppData\\Local\\Temp\\ipykernel_15348\\2774937686.py:68: FutureWarning: The frame.append method is deprecated and will be removed from pandas in a future version. Use pandas.concat instead.\n",
      "  df = df.append([globals()[f'list']])\n",
      "C:\\Users\\smhrd\\AppData\\Roaming\\Python\\Python39\\site-packages\\sklearn\\base.py:450: UserWarning: X does not have valid feature names, but KNeighborsClassifier was fitted with feature names\n",
      "  warnings.warn(\n"
     ]
    },
    {
     "name": "stdout",
     "output_type": "stream",
     "text": [
      "(69.45535125555477, 152.56732251092927, -7.5)\n",
      "[[1. 0. 0. 0.]]\n",
      "(68.1455547221398, 153.2609374510314, -5.0)\n",
      "[[1. 0. 0. 0.]]\n",
      "(69.13881972520082, 150.72250408616068, -5.5)\n",
      "[[1. 0. 0. 0.]]\n",
      "(68.66773687211142, 149.8369262704962, -6.5)\n",
      "[[1. 0. 0. 0.]]\n"
     ]
    },
    {
     "name": "stderr",
     "output_type": "stream",
     "text": [
      "C:\\Users\\smhrd\\AppData\\Local\\Temp\\ipykernel_15348\\2774937686.py:68: FutureWarning: The frame.append method is deprecated and will be removed from pandas in a future version. Use pandas.concat instead.\n",
      "  df = df.append([globals()[f'list']])\n",
      "C:\\Users\\smhrd\\AppData\\Roaming\\Python\\Python39\\site-packages\\sklearn\\base.py:450: UserWarning: X does not have valid feature names, but KNeighborsClassifier was fitted with feature names\n",
      "  warnings.warn(\n",
      "C:\\Users\\smhrd\\AppData\\Local\\Temp\\ipykernel_15348\\2774937686.py:68: FutureWarning: The frame.append method is deprecated and will be removed from pandas in a future version. Use pandas.concat instead.\n",
      "  df = df.append([globals()[f'list']])\n",
      "C:\\Users\\smhrd\\AppData\\Roaming\\Python\\Python39\\site-packages\\sklearn\\base.py:450: UserWarning: X does not have valid feature names, but KNeighborsClassifier was fitted with feature names\n",
      "  warnings.warn(\n",
      "C:\\Users\\smhrd\\AppData\\Local\\Temp\\ipykernel_15348\\2774937686.py:68: FutureWarning: The frame.append method is deprecated and will be removed from pandas in a future version. Use pandas.concat instead.\n",
      "  df = df.append([globals()[f'list']])\n",
      "C:\\Users\\smhrd\\AppData\\Roaming\\Python\\Python39\\site-packages\\sklearn\\base.py:450: UserWarning: X does not have valid feature names, but KNeighborsClassifier was fitted with feature names\n",
      "  warnings.warn(\n",
      "C:\\Users\\smhrd\\AppData\\Local\\Temp\\ipykernel_15348\\2774937686.py:68: FutureWarning: The frame.append method is deprecated and will be removed from pandas in a future version. Use pandas.concat instead.\n",
      "  df = df.append([globals()[f'list']])\n",
      "C:\\Users\\smhrd\\AppData\\Roaming\\Python\\Python39\\site-packages\\sklearn\\base.py:450: UserWarning: X does not have valid feature names, but KNeighborsClassifier was fitted with feature names\n",
      "  warnings.warn(\n"
     ]
    },
    {
     "name": "stdout",
     "output_type": "stream",
     "text": [
      "(68.96335732927353, 150.04739282129313, -6.5)\n",
      "[[1. 0. 0. 0.]]\n",
      "(68.49458567379263, 151.01071825519168, -5.5)\n",
      "[[1. 0. 0. 0.]]\n",
      "(69.71384272676724, 149.23040400230929, -7.5)\n",
      "[[1. 0. 0. 0.]]\n",
      "(68.99630486992776, 150.59620350783277, -5.5)\n",
      "[[1. 0. 0. 0.]]\n"
     ]
    },
    {
     "name": "stderr",
     "output_type": "stream",
     "text": [
      "C:\\Users\\smhrd\\AppData\\Local\\Temp\\ipykernel_15348\\2774937686.py:68: FutureWarning: The frame.append method is deprecated and will be removed from pandas in a future version. Use pandas.concat instead.\n",
      "  df = df.append([globals()[f'list']])\n",
      "C:\\Users\\smhrd\\AppData\\Roaming\\Python\\Python39\\site-packages\\sklearn\\base.py:450: UserWarning: X does not have valid feature names, but KNeighborsClassifier was fitted with feature names\n",
      "  warnings.warn(\n",
      "C:\\Users\\smhrd\\AppData\\Local\\Temp\\ipykernel_15348\\2774937686.py:68: FutureWarning: The frame.append method is deprecated and will be removed from pandas in a future version. Use pandas.concat instead.\n",
      "  df = df.append([globals()[f'list']])\n",
      "C:\\Users\\smhrd\\AppData\\Roaming\\Python\\Python39\\site-packages\\sklearn\\base.py:450: UserWarning: X does not have valid feature names, but KNeighborsClassifier was fitted with feature names\n",
      "  warnings.warn(\n",
      "C:\\Users\\smhrd\\AppData\\Local\\Temp\\ipykernel_15348\\2774937686.py:68: FutureWarning: The frame.append method is deprecated and will be removed from pandas in a future version. Use pandas.concat instead.\n",
      "  df = df.append([globals()[f'list']])\n",
      "C:\\Users\\smhrd\\AppData\\Roaming\\Python\\Python39\\site-packages\\sklearn\\base.py:450: UserWarning: X does not have valid feature names, but KNeighborsClassifier was fitted with feature names\n",
      "  warnings.warn(\n",
      "C:\\Users\\smhrd\\AppData\\Local\\Temp\\ipykernel_15348\\2774937686.py:68: FutureWarning: The frame.append method is deprecated and will be removed from pandas in a future version. Use pandas.concat instead.\n",
      "  df = df.append([globals()[f'list']])\n",
      "C:\\Users\\smhrd\\AppData\\Roaming\\Python\\Python39\\site-packages\\sklearn\\base.py:450: UserWarning: X does not have valid feature names, but KNeighborsClassifier was fitted with feature names\n",
      "  warnings.warn(\n"
     ]
    },
    {
     "name": "stdout",
     "output_type": "stream",
     "text": [
      "(69.44395478041653, 149.93034468911787, -7.0)\n",
      "[[1. 0. 0. 0.]]\n",
      "(67.7866146959347, 150.46069474331694, -5.0)\n",
      "[[1. 0. 0. 0.]]\n",
      "(69.42368160370842, 150.52503129261197, -3.5)\n",
      "[[1. 0. 0. 0.]]\n",
      "(70.94912371598956, 150.08867390981808, -6.0)\n",
      "[[1. 0. 0. 0.]]\n"
     ]
    },
    {
     "name": "stderr",
     "output_type": "stream",
     "text": [
      "C:\\Users\\smhrd\\AppData\\Local\\Temp\\ipykernel_15348\\2774937686.py:68: FutureWarning: The frame.append method is deprecated and will be removed from pandas in a future version. Use pandas.concat instead.\n",
      "  df = df.append([globals()[f'list']])\n",
      "C:\\Users\\smhrd\\AppData\\Roaming\\Python\\Python39\\site-packages\\sklearn\\base.py:450: UserWarning: X does not have valid feature names, but KNeighborsClassifier was fitted with feature names\n",
      "  warnings.warn(\n",
      "C:\\Users\\smhrd\\AppData\\Local\\Temp\\ipykernel_15348\\2774937686.py:68: FutureWarning: The frame.append method is deprecated and will be removed from pandas in a future version. Use pandas.concat instead.\n",
      "  df = df.append([globals()[f'list']])\n",
      "C:\\Users\\smhrd\\AppData\\Roaming\\Python\\Python39\\site-packages\\sklearn\\base.py:450: UserWarning: X does not have valid feature names, but KNeighborsClassifier was fitted with feature names\n",
      "  warnings.warn(\n",
      "C:\\Users\\smhrd\\AppData\\Local\\Temp\\ipykernel_15348\\2774937686.py:68: FutureWarning: The frame.append method is deprecated and will be removed from pandas in a future version. Use pandas.concat instead.\n",
      "  df = df.append([globals()[f'list']])\n",
      "C:\\Users\\smhrd\\AppData\\Roaming\\Python\\Python39\\site-packages\\sklearn\\base.py:450: UserWarning: X does not have valid feature names, but KNeighborsClassifier was fitted with feature names\n",
      "  warnings.warn(\n",
      "C:\\Users\\smhrd\\AppData\\Local\\Temp\\ipykernel_15348\\2774937686.py:68: FutureWarning: The frame.append method is deprecated and will be removed from pandas in a future version. Use pandas.concat instead.\n",
      "  df = df.append([globals()[f'list']])\n",
      "C:\\Users\\smhrd\\AppData\\Roaming\\Python\\Python39\\site-packages\\sklearn\\base.py:450: UserWarning: X does not have valid feature names, but KNeighborsClassifier was fitted with feature names\n",
      "  warnings.warn(\n"
     ]
    },
    {
     "name": "stdout",
     "output_type": "stream",
     "text": [
      "(71.4872290752103, 150.0004066687579, -6.5)\n",
      "[[1. 0. 0. 0.]]\n",
      "(72.68533121679499, 150.11981248026026, -5.0)\n",
      "[[1. 0. 0. 0.]]\n",
      "(68.84663238939153, 153.54622002470992, -1.5)\n",
      "[[1. 0. 0. 0.]]\n",
      "(68.9082031522654, 152.08698855085981, -3.5)\n",
      "[[1. 0. 0. 0.]]\n"
     ]
    },
    {
     "name": "stderr",
     "output_type": "stream",
     "text": [
      "C:\\Users\\smhrd\\AppData\\Local\\Temp\\ipykernel_15348\\2774937686.py:68: FutureWarning: The frame.append method is deprecated and will be removed from pandas in a future version. Use pandas.concat instead.\n",
      "  df = df.append([globals()[f'list']])\n",
      "C:\\Users\\smhrd\\AppData\\Roaming\\Python\\Python39\\site-packages\\sklearn\\base.py:450: UserWarning: X does not have valid feature names, but KNeighborsClassifier was fitted with feature names\n",
      "  warnings.warn(\n",
      "C:\\Users\\smhrd\\AppData\\Local\\Temp\\ipykernel_15348\\2774937686.py:68: FutureWarning: The frame.append method is deprecated and will be removed from pandas in a future version. Use pandas.concat instead.\n",
      "  df = df.append([globals()[f'list']])\n",
      "C:\\Users\\smhrd\\AppData\\Roaming\\Python\\Python39\\site-packages\\sklearn\\base.py:450: UserWarning: X does not have valid feature names, but KNeighborsClassifier was fitted with feature names\n",
      "  warnings.warn(\n",
      "C:\\Users\\smhrd\\AppData\\Local\\Temp\\ipykernel_15348\\2774937686.py:68: FutureWarning: The frame.append method is deprecated and will be removed from pandas in a future version. Use pandas.concat instead.\n",
      "  df = df.append([globals()[f'list']])\n",
      "C:\\Users\\smhrd\\AppData\\Roaming\\Python\\Python39\\site-packages\\sklearn\\base.py:450: UserWarning: X does not have valid feature names, but KNeighborsClassifier was fitted with feature names\n",
      "  warnings.warn(\n",
      "C:\\Users\\smhrd\\AppData\\Local\\Temp\\ipykernel_15348\\2774937686.py:68: FutureWarning: The frame.append method is deprecated and will be removed from pandas in a future version. Use pandas.concat instead.\n",
      "  df = df.append([globals()[f'list']])\n",
      "C:\\Users\\smhrd\\AppData\\Roaming\\Python\\Python39\\site-packages\\sklearn\\base.py:450: UserWarning: X does not have valid feature names, but KNeighborsClassifier was fitted with feature names\n",
      "  warnings.warn(\n"
     ]
    },
    {
     "name": "stdout",
     "output_type": "stream",
     "text": [
      "(67.87785154047043, 151.18831158183883, -2.0)\n",
      "[[1. 0. 0. 0.]]\n",
      "(68.23578703525834, 152.8186220416464, -2.5)\n",
      "[[1. 0. 0. 0.]]\n",
      "(68.05487230458242, 151.97752923064573, -4.0)\n",
      "[[1. 0. 0. 0.]]\n",
      "(70.01689347810004, 151.22919818067325, -3.5)\n",
      "[[1. 0. 0. 0.]]\n"
     ]
    },
    {
     "name": "stderr",
     "output_type": "stream",
     "text": [
      "C:\\Users\\smhrd\\AppData\\Local\\Temp\\ipykernel_15348\\2774937686.py:68: FutureWarning: The frame.append method is deprecated and will be removed from pandas in a future version. Use pandas.concat instead.\n",
      "  df = df.append([globals()[f'list']])\n",
      "C:\\Users\\smhrd\\AppData\\Roaming\\Python\\Python39\\site-packages\\sklearn\\base.py:450: UserWarning: X does not have valid feature names, but KNeighborsClassifier was fitted with feature names\n",
      "  warnings.warn(\n",
      "C:\\Users\\smhrd\\AppData\\Local\\Temp\\ipykernel_15348\\2774937686.py:68: FutureWarning: The frame.append method is deprecated and will be removed from pandas in a future version. Use pandas.concat instead.\n",
      "  df = df.append([globals()[f'list']])\n",
      "C:\\Users\\smhrd\\AppData\\Roaming\\Python\\Python39\\site-packages\\sklearn\\base.py:450: UserWarning: X does not have valid feature names, but KNeighborsClassifier was fitted with feature names\n",
      "  warnings.warn(\n",
      "C:\\Users\\smhrd\\AppData\\Local\\Temp\\ipykernel_15348\\2774937686.py:68: FutureWarning: The frame.append method is deprecated and will be removed from pandas in a future version. Use pandas.concat instead.\n",
      "  df = df.append([globals()[f'list']])\n",
      "C:\\Users\\smhrd\\AppData\\Roaming\\Python\\Python39\\site-packages\\sklearn\\base.py:450: UserWarning: X does not have valid feature names, but KNeighborsClassifier was fitted with feature names\n",
      "  warnings.warn(\n",
      "C:\\Users\\smhrd\\AppData\\Local\\Temp\\ipykernel_15348\\2774937686.py:68: FutureWarning: The frame.append method is deprecated and will be removed from pandas in a future version. Use pandas.concat instead.\n",
      "  df = df.append([globals()[f'list']])\n",
      "C:\\Users\\smhrd\\AppData\\Roaming\\Python\\Python39\\site-packages\\sklearn\\base.py:450: UserWarning: X does not have valid feature names, but KNeighborsClassifier was fitted with feature names\n",
      "  warnings.warn(\n"
     ]
    },
    {
     "name": "stdout",
     "output_type": "stream",
     "text": [
      "(68.49071957797568, 152.38560113607187, -1.5)\n",
      "[[1. 0. 0. 0.]]\n",
      "(66.82641946454426, 151.7516437511268, -5.0)\n",
      "[[1. 0. 0. 0.]]\n",
      "(68.56825719072292, 151.56328520568837, -4.5)\n",
      "[[1. 0. 0. 0.]]\n",
      "(66.75809771436246, 151.96638071787348, -1.5)\n",
      "[[1. 0. 0. 0.]]\n"
     ]
    },
    {
     "name": "stderr",
     "output_type": "stream",
     "text": [
      "C:\\Users\\smhrd\\AppData\\Local\\Temp\\ipykernel_15348\\2774937686.py:68: FutureWarning: The frame.append method is deprecated and will be removed from pandas in a future version. Use pandas.concat instead.\n",
      "  df = df.append([globals()[f'list']])\n",
      "C:\\Users\\smhrd\\AppData\\Roaming\\Python\\Python39\\site-packages\\sklearn\\base.py:450: UserWarning: X does not have valid feature names, but KNeighborsClassifier was fitted with feature names\n",
      "  warnings.warn(\n",
      "C:\\Users\\smhrd\\AppData\\Local\\Temp\\ipykernel_15348\\2774937686.py:68: FutureWarning: The frame.append method is deprecated and will be removed from pandas in a future version. Use pandas.concat instead.\n",
      "  df = df.append([globals()[f'list']])\n",
      "C:\\Users\\smhrd\\AppData\\Roaming\\Python\\Python39\\site-packages\\sklearn\\base.py:450: UserWarning: X does not have valid feature names, but KNeighborsClassifier was fitted with feature names\n",
      "  warnings.warn(\n",
      "C:\\Users\\smhrd\\AppData\\Local\\Temp\\ipykernel_15348\\2774937686.py:68: FutureWarning: The frame.append method is deprecated and will be removed from pandas in a future version. Use pandas.concat instead.\n",
      "  df = df.append([globals()[f'list']])\n",
      "C:\\Users\\smhrd\\AppData\\Roaming\\Python\\Python39\\site-packages\\sklearn\\base.py:450: UserWarning: X does not have valid feature names, but KNeighborsClassifier was fitted with feature names\n",
      "  warnings.warn(\n",
      "C:\\Users\\smhrd\\AppData\\Local\\Temp\\ipykernel_15348\\2774937686.py:68: FutureWarning: The frame.append method is deprecated and will be removed from pandas in a future version. Use pandas.concat instead.\n",
      "  df = df.append([globals()[f'list']])\n",
      "C:\\Users\\smhrd\\AppData\\Roaming\\Python\\Python39\\site-packages\\sklearn\\base.py:450: UserWarning: X does not have valid feature names, but KNeighborsClassifier was fitted with feature names\n",
      "  warnings.warn(\n"
     ]
    },
    {
     "name": "stdout",
     "output_type": "stream",
     "text": [
      "(65.77413206267734, 151.5696415195376, -2.5)\n",
      "[[1. 0. 0. 0.]]\n",
      "(66.52815788183283, 151.22334861352607, -1.0)\n",
      "[[1. 0. 0. 0.]]\n",
      "(66.69302159797601, 151.35014564534976, -5.0)\n",
      "[[1. 0. 0. 0.]]\n",
      "(66.50515570123947, 151.76255446183274, -4.0)\n",
      "[[1. 0. 0. 0.]]\n"
     ]
    },
    {
     "name": "stderr",
     "output_type": "stream",
     "text": [
      "C:\\Users\\smhrd\\AppData\\Local\\Temp\\ipykernel_15348\\2774937686.py:68: FutureWarning: The frame.append method is deprecated and will be removed from pandas in a future version. Use pandas.concat instead.\n",
      "  df = df.append([globals()[f'list']])\n",
      "C:\\Users\\smhrd\\AppData\\Roaming\\Python\\Python39\\site-packages\\sklearn\\base.py:450: UserWarning: X does not have valid feature names, but KNeighborsClassifier was fitted with feature names\n",
      "  warnings.warn(\n",
      "C:\\Users\\smhrd\\AppData\\Local\\Temp\\ipykernel_15348\\2774937686.py:68: FutureWarning: The frame.append method is deprecated and will be removed from pandas in a future version. Use pandas.concat instead.\n",
      "  df = df.append([globals()[f'list']])\n",
      "C:\\Users\\smhrd\\AppData\\Roaming\\Python\\Python39\\site-packages\\sklearn\\base.py:450: UserWarning: X does not have valid feature names, but KNeighborsClassifier was fitted with feature names\n",
      "  warnings.warn(\n",
      "C:\\Users\\smhrd\\AppData\\Local\\Temp\\ipykernel_15348\\2774937686.py:68: FutureWarning: The frame.append method is deprecated and will be removed from pandas in a future version. Use pandas.concat instead.\n",
      "  df = df.append([globals()[f'list']])\n",
      "C:\\Users\\smhrd\\AppData\\Roaming\\Python\\Python39\\site-packages\\sklearn\\base.py:450: UserWarning: X does not have valid feature names, but KNeighborsClassifier was fitted with feature names\n",
      "  warnings.warn(\n",
      "C:\\Users\\smhrd\\AppData\\Local\\Temp\\ipykernel_15348\\2774937686.py:68: FutureWarning: The frame.append method is deprecated and will be removed from pandas in a future version. Use pandas.concat instead.\n",
      "  df = df.append([globals()[f'list']])\n",
      "C:\\Users\\smhrd\\AppData\\Roaming\\Python\\Python39\\site-packages\\sklearn\\base.py:450: UserWarning: X does not have valid feature names, but KNeighborsClassifier was fitted with feature names\n",
      "  warnings.warn(\n"
     ]
    },
    {
     "name": "stdout",
     "output_type": "stream",
     "text": [
      "(66.07234677944167, 151.55994230160002, -4.0)\n",
      "[[1. 0. 0. 0.]]\n",
      "(66.61472797664476, 151.87372058933587, -4.0)\n",
      "[[1. 0. 0. 0.]]\n",
      "(65.8946156457578, 150.91147618789503, -4.5)\n",
      "[[1. 0. 0. 0.]]\n",
      "(67.10668260735684, 149.79032633995308, -5.0)\n",
      "[[1. 0. 0. 0.]]\n"
     ]
    },
    {
     "name": "stderr",
     "output_type": "stream",
     "text": [
      "C:\\Users\\smhrd\\AppData\\Local\\Temp\\ipykernel_15348\\2774937686.py:68: FutureWarning: The frame.append method is deprecated and will be removed from pandas in a future version. Use pandas.concat instead.\n",
      "  df = df.append([globals()[f'list']])\n",
      "C:\\Users\\smhrd\\AppData\\Roaming\\Python\\Python39\\site-packages\\sklearn\\base.py:450: UserWarning: X does not have valid feature names, but KNeighborsClassifier was fitted with feature names\n",
      "  warnings.warn(\n",
      "C:\\Users\\smhrd\\AppData\\Local\\Temp\\ipykernel_15348\\2774937686.py:68: FutureWarning: The frame.append method is deprecated and will be removed from pandas in a future version. Use pandas.concat instead.\n",
      "  df = df.append([globals()[f'list']])\n",
      "C:\\Users\\smhrd\\AppData\\Roaming\\Python\\Python39\\site-packages\\sklearn\\base.py:450: UserWarning: X does not have valid feature names, but KNeighborsClassifier was fitted with feature names\n",
      "  warnings.warn(\n",
      "C:\\Users\\smhrd\\AppData\\Local\\Temp\\ipykernel_15348\\2774937686.py:68: FutureWarning: The frame.append method is deprecated and will be removed from pandas in a future version. Use pandas.concat instead.\n",
      "  df = df.append([globals()[f'list']])\n",
      "C:\\Users\\smhrd\\AppData\\Roaming\\Python\\Python39\\site-packages\\sklearn\\base.py:450: UserWarning: X does not have valid feature names, but KNeighborsClassifier was fitted with feature names\n",
      "  warnings.warn(\n",
      "C:\\Users\\smhrd\\AppData\\Local\\Temp\\ipykernel_15348\\2774937686.py:68: FutureWarning: The frame.append method is deprecated and will be removed from pandas in a future version. Use pandas.concat instead.\n",
      "  df = df.append([globals()[f'list']])\n",
      "C:\\Users\\smhrd\\AppData\\Roaming\\Python\\Python39\\site-packages\\sklearn\\base.py:450: UserWarning: X does not have valid feature names, but KNeighborsClassifier was fitted with feature names\n",
      "  warnings.warn(\n"
     ]
    },
    {
     "name": "stdout",
     "output_type": "stream",
     "text": [
      "(66.60592424023169, 151.0038372610746, -4.5)\n",
      "[[1. 0. 0. 0.]]\n",
      "(67.11226246294555, 151.34974439003943, -6.5)\n",
      "[[1. 0. 0. 0.]]\n",
      "(66.15207756141027, 151.34580647535, -3.0)\n",
      "[[1. 0. 0. 0.]]\n",
      "(65.63517309101344, 150.181127306625, -2.5)\n",
      "[[1. 0. 0. 0.]]\n"
     ]
    },
    {
     "name": "stderr",
     "output_type": "stream",
     "text": [
      "C:\\Users\\smhrd\\AppData\\Local\\Temp\\ipykernel_15348\\2774937686.py:68: FutureWarning: The frame.append method is deprecated and will be removed from pandas in a future version. Use pandas.concat instead.\n",
      "  df = df.append([globals()[f'list']])\n",
      "C:\\Users\\smhrd\\AppData\\Roaming\\Python\\Python39\\site-packages\\sklearn\\base.py:450: UserWarning: X does not have valid feature names, but KNeighborsClassifier was fitted with feature names\n",
      "  warnings.warn(\n",
      "C:\\Users\\smhrd\\AppData\\Local\\Temp\\ipykernel_15348\\2774937686.py:68: FutureWarning: The frame.append method is deprecated and will be removed from pandas in a future version. Use pandas.concat instead.\n",
      "  df = df.append([globals()[f'list']])\n",
      "C:\\Users\\smhrd\\AppData\\Roaming\\Python\\Python39\\site-packages\\sklearn\\base.py:450: UserWarning: X does not have valid feature names, but KNeighborsClassifier was fitted with feature names\n",
      "  warnings.warn(\n",
      "C:\\Users\\smhrd\\AppData\\Local\\Temp\\ipykernel_15348\\2774937686.py:68: FutureWarning: The frame.append method is deprecated and will be removed from pandas in a future version. Use pandas.concat instead.\n",
      "  df = df.append([globals()[f'list']])\n",
      "C:\\Users\\smhrd\\AppData\\Roaming\\Python\\Python39\\site-packages\\sklearn\\base.py:450: UserWarning: X does not have valid feature names, but KNeighborsClassifier was fitted with feature names\n",
      "  warnings.warn(\n",
      "C:\\Users\\smhrd\\AppData\\Local\\Temp\\ipykernel_15348\\2774937686.py:68: FutureWarning: The frame.append method is deprecated and will be removed from pandas in a future version. Use pandas.concat instead.\n",
      "  df = df.append([globals()[f'list']])\n",
      "C:\\Users\\smhrd\\AppData\\Roaming\\Python\\Python39\\site-packages\\sklearn\\base.py:450: UserWarning: X does not have valid feature names, but KNeighborsClassifier was fitted with feature names\n",
      "  warnings.warn(\n"
     ]
    },
    {
     "name": "stdout",
     "output_type": "stream",
     "text": [
      "(66.05527697129511, 152.18535660139187, -2.0)\n",
      "[[1. 0. 0. 0.]]\n",
      "(66.25880219439239, 149.13834823922593, -3.0)\n",
      "[[1. 0. 0. 0.]]\n",
      "(66.7632123056686, 149.17947234577463, -5.0)\n",
      "[[1. 0. 0. 0.]]\n",
      "(67.62013920153974, 149.2412205410262, -3.5)\n",
      "[[1. 0. 0. 0.]]\n"
     ]
    },
    {
     "name": "stderr",
     "output_type": "stream",
     "text": [
      "C:\\Users\\smhrd\\AppData\\Local\\Temp\\ipykernel_15348\\2774937686.py:68: FutureWarning: The frame.append method is deprecated and will be removed from pandas in a future version. Use pandas.concat instead.\n",
      "  df = df.append([globals()[f'list']])\n",
      "C:\\Users\\smhrd\\AppData\\Roaming\\Python\\Python39\\site-packages\\sklearn\\base.py:450: UserWarning: X does not have valid feature names, but KNeighborsClassifier was fitted with feature names\n",
      "  warnings.warn(\n",
      "C:\\Users\\smhrd\\AppData\\Local\\Temp\\ipykernel_15348\\2774937686.py:68: FutureWarning: The frame.append method is deprecated and will be removed from pandas in a future version. Use pandas.concat instead.\n",
      "  df = df.append([globals()[f'list']])\n",
      "C:\\Users\\smhrd\\AppData\\Roaming\\Python\\Python39\\site-packages\\sklearn\\base.py:450: UserWarning: X does not have valid feature names, but KNeighborsClassifier was fitted with feature names\n",
      "  warnings.warn(\n",
      "C:\\Users\\smhrd\\AppData\\Local\\Temp\\ipykernel_15348\\2774937686.py:68: FutureWarning: The frame.append method is deprecated and will be removed from pandas in a future version. Use pandas.concat instead.\n",
      "  df = df.append([globals()[f'list']])\n",
      "C:\\Users\\smhrd\\AppData\\Roaming\\Python\\Python39\\site-packages\\sklearn\\base.py:450: UserWarning: X does not have valid feature names, but KNeighborsClassifier was fitted with feature names\n",
      "  warnings.warn(\n",
      "C:\\Users\\smhrd\\AppData\\Local\\Temp\\ipykernel_15348\\2774937686.py:68: FutureWarning: The frame.append method is deprecated and will be removed from pandas in a future version. Use pandas.concat instead.\n",
      "  df = df.append([globals()[f'list']])\n",
      "C:\\Users\\smhrd\\AppData\\Roaming\\Python\\Python39\\site-packages\\sklearn\\base.py:450: UserWarning: X does not have valid feature names, but KNeighborsClassifier was fitted with feature names\n",
      "  warnings.warn(\n"
     ]
    },
    {
     "name": "stdout",
     "output_type": "stream",
     "text": [
      "(66.698155955243, 151.30143595795693, -3.5)\n",
      "[[1. 0. 0. 0.]]\n",
      "(68.07524735709322, 151.13580377823885, -7.0)\n",
      "[[1. 0. 0. 0.]]\n",
      "(66.25108346134249, 151.32677160769384, -3.5)\n",
      "[[1. 0. 0. 0.]]\n",
      "(66.36319787309202, 150.315828413573, -5.5)\n",
      "[[1. 0. 0. 0.]]\n"
     ]
    },
    {
     "name": "stderr",
     "output_type": "stream",
     "text": [
      "C:\\Users\\smhrd\\AppData\\Local\\Temp\\ipykernel_15348\\2774937686.py:68: FutureWarning: The frame.append method is deprecated and will be removed from pandas in a future version. Use pandas.concat instead.\n",
      "  df = df.append([globals()[f'list']])\n",
      "C:\\Users\\smhrd\\AppData\\Roaming\\Python\\Python39\\site-packages\\sklearn\\base.py:450: UserWarning: X does not have valid feature names, but KNeighborsClassifier was fitted with feature names\n",
      "  warnings.warn(\n",
      "C:\\Users\\smhrd\\AppData\\Local\\Temp\\ipykernel_15348\\2774937686.py:68: FutureWarning: The frame.append method is deprecated and will be removed from pandas in a future version. Use pandas.concat instead.\n",
      "  df = df.append([globals()[f'list']])\n",
      "C:\\Users\\smhrd\\AppData\\Roaming\\Python\\Python39\\site-packages\\sklearn\\base.py:450: UserWarning: X does not have valid feature names, but KNeighborsClassifier was fitted with feature names\n",
      "  warnings.warn(\n",
      "C:\\Users\\smhrd\\AppData\\Local\\Temp\\ipykernel_15348\\2774937686.py:68: FutureWarning: The frame.append method is deprecated and will be removed from pandas in a future version. Use pandas.concat instead.\n",
      "  df = df.append([globals()[f'list']])\n",
      "C:\\Users\\smhrd\\AppData\\Roaming\\Python\\Python39\\site-packages\\sklearn\\base.py:450: UserWarning: X does not have valid feature names, but KNeighborsClassifier was fitted with feature names\n",
      "  warnings.warn(\n",
      "C:\\Users\\smhrd\\AppData\\Local\\Temp\\ipykernel_15348\\2774937686.py:68: FutureWarning: The frame.append method is deprecated and will be removed from pandas in a future version. Use pandas.concat instead.\n",
      "  df = df.append([globals()[f'list']])\n",
      "C:\\Users\\smhrd\\AppData\\Roaming\\Python\\Python39\\site-packages\\sklearn\\base.py:450: UserWarning: X does not have valid feature names, but KNeighborsClassifier was fitted with feature names\n",
      "  warnings.warn(\n"
     ]
    },
    {
     "name": "stdout",
     "output_type": "stream",
     "text": [
      "(68.1185166317147, 149.3751852351529, -5.5)\n",
      "[[1. 0. 0. 0.]]\n",
      "(67.89588773954296, 150.82818389325942, -7.0)\n",
      "[[1. 0. 0. 0.]]\n",
      "(69.22230689579301, 151.7663084201107, -5.0)\n",
      "[[1. 0. 0. 0.]]\n",
      "(69.33937669985683, 150.68526551120834, -5.0)\n",
      "[[1. 0. 0. 0.]]\n"
     ]
    },
    {
     "name": "stderr",
     "output_type": "stream",
     "text": [
      "C:\\Users\\smhrd\\AppData\\Local\\Temp\\ipykernel_15348\\2774937686.py:68: FutureWarning: The frame.append method is deprecated and will be removed from pandas in a future version. Use pandas.concat instead.\n",
      "  df = df.append([globals()[f'list']])\n",
      "C:\\Users\\smhrd\\AppData\\Roaming\\Python\\Python39\\site-packages\\sklearn\\base.py:450: UserWarning: X does not have valid feature names, but KNeighborsClassifier was fitted with feature names\n",
      "  warnings.warn(\n",
      "C:\\Users\\smhrd\\AppData\\Local\\Temp\\ipykernel_15348\\2774937686.py:68: FutureWarning: The frame.append method is deprecated and will be removed from pandas in a future version. Use pandas.concat instead.\n",
      "  df = df.append([globals()[f'list']])\n",
      "C:\\Users\\smhrd\\AppData\\Roaming\\Python\\Python39\\site-packages\\sklearn\\base.py:450: UserWarning: X does not have valid feature names, but KNeighborsClassifier was fitted with feature names\n",
      "  warnings.warn(\n",
      "C:\\Users\\smhrd\\AppData\\Local\\Temp\\ipykernel_15348\\2774937686.py:68: FutureWarning: The frame.append method is deprecated and will be removed from pandas in a future version. Use pandas.concat instead.\n",
      "  df = df.append([globals()[f'list']])\n",
      "C:\\Users\\smhrd\\AppData\\Roaming\\Python\\Python39\\site-packages\\sklearn\\base.py:450: UserWarning: X does not have valid feature names, but KNeighborsClassifier was fitted with feature names\n",
      "  warnings.warn(\n",
      "C:\\Users\\smhrd\\AppData\\Local\\Temp\\ipykernel_15348\\2774937686.py:68: FutureWarning: The frame.append method is deprecated and will be removed from pandas in a future version. Use pandas.concat instead.\n",
      "  df = df.append([globals()[f'list']])\n",
      "C:\\Users\\smhrd\\AppData\\Roaming\\Python\\Python39\\site-packages\\sklearn\\base.py:450: UserWarning: X does not have valid feature names, but KNeighborsClassifier was fitted with feature names\n",
      "  warnings.warn(\n"
     ]
    },
    {
     "name": "stdout",
     "output_type": "stream",
     "text": [
      "(68.85426881504664, 149.520927627361, -7.0)\n",
      "[[1. 0. 0. 0.]]\n",
      "(70.9110072773613, 149.93292390376166, -7.0)\n",
      "[[1. 0. 0. 0.]]\n",
      "(67.88824756731593, 151.69242304627178, -6.5)\n",
      "[[1. 0. 0. 0.]]\n",
      "(70.58666048782285, 151.5606768888294, -6.0)\n",
      "[[1. 0. 0. 0.]]\n"
     ]
    },
    {
     "name": "stderr",
     "output_type": "stream",
     "text": [
      "C:\\Users\\smhrd\\AppData\\Local\\Temp\\ipykernel_15348\\2774937686.py:68: FutureWarning: The frame.append method is deprecated and will be removed from pandas in a future version. Use pandas.concat instead.\n",
      "  df = df.append([globals()[f'list']])\n",
      "C:\\Users\\smhrd\\AppData\\Roaming\\Python\\Python39\\site-packages\\sklearn\\base.py:450: UserWarning: X does not have valid feature names, but KNeighborsClassifier was fitted with feature names\n",
      "  warnings.warn(\n",
      "C:\\Users\\smhrd\\AppData\\Local\\Temp\\ipykernel_15348\\2774937686.py:68: FutureWarning: The frame.append method is deprecated and will be removed from pandas in a future version. Use pandas.concat instead.\n",
      "  df = df.append([globals()[f'list']])\n",
      "C:\\Users\\smhrd\\AppData\\Roaming\\Python\\Python39\\site-packages\\sklearn\\base.py:450: UserWarning: X does not have valid feature names, but KNeighborsClassifier was fitted with feature names\n",
      "  warnings.warn(\n",
      "C:\\Users\\smhrd\\AppData\\Local\\Temp\\ipykernel_15348\\2774937686.py:68: FutureWarning: The frame.append method is deprecated and will be removed from pandas in a future version. Use pandas.concat instead.\n",
      "  df = df.append([globals()[f'list']])\n",
      "C:\\Users\\smhrd\\AppData\\Roaming\\Python\\Python39\\site-packages\\sklearn\\base.py:450: UserWarning: X does not have valid feature names, but KNeighborsClassifier was fitted with feature names\n",
      "  warnings.warn(\n",
      "C:\\Users\\smhrd\\AppData\\Local\\Temp\\ipykernel_15348\\2774937686.py:68: FutureWarning: The frame.append method is deprecated and will be removed from pandas in a future version. Use pandas.concat instead.\n",
      "  df = df.append([globals()[f'list']])\n",
      "C:\\Users\\smhrd\\AppData\\Roaming\\Python\\Python39\\site-packages\\sklearn\\base.py:450: UserWarning: X does not have valid feature names, but KNeighborsClassifier was fitted with feature names\n",
      "  warnings.warn(\n"
     ]
    },
    {
     "name": "stdout",
     "output_type": "stream",
     "text": [
      "(70.704822517357, 151.30224704268156, -2.5)\n",
      "[[1. 0. 0. 0.]]\n",
      "(70.80284561425208, 150.16196150190024, -6.0)\n",
      "[[1. 0. 0. 0.]]\n",
      "(71.79016413855568, 148.8075190162013, -7.0)\n",
      "[[1. 0. 0. 0.]]\n",
      "(72.79496787658834, 149.19147082480694, -10.5)\n",
      "[[1. 0. 0. 0.]]\n"
     ]
    },
    {
     "name": "stderr",
     "output_type": "stream",
     "text": [
      "C:\\Users\\smhrd\\AppData\\Local\\Temp\\ipykernel_15348\\2774937686.py:68: FutureWarning: The frame.append method is deprecated and will be removed from pandas in a future version. Use pandas.concat instead.\n",
      "  df = df.append([globals()[f'list']])\n",
      "C:\\Users\\smhrd\\AppData\\Roaming\\Python\\Python39\\site-packages\\sklearn\\base.py:450: UserWarning: X does not have valid feature names, but KNeighborsClassifier was fitted with feature names\n",
      "  warnings.warn(\n",
      "C:\\Users\\smhrd\\AppData\\Local\\Temp\\ipykernel_15348\\2774937686.py:68: FutureWarning: The frame.append method is deprecated and will be removed from pandas in a future version. Use pandas.concat instead.\n",
      "  df = df.append([globals()[f'list']])\n",
      "C:\\Users\\smhrd\\AppData\\Roaming\\Python\\Python39\\site-packages\\sklearn\\base.py:450: UserWarning: X does not have valid feature names, but KNeighborsClassifier was fitted with feature names\n",
      "  warnings.warn(\n",
      "C:\\Users\\smhrd\\AppData\\Local\\Temp\\ipykernel_15348\\2774937686.py:68: FutureWarning: The frame.append method is deprecated and will be removed from pandas in a future version. Use pandas.concat instead.\n",
      "  df = df.append([globals()[f'list']])\n",
      "C:\\Users\\smhrd\\AppData\\Roaming\\Python\\Python39\\site-packages\\sklearn\\base.py:450: UserWarning: X does not have valid feature names, but KNeighborsClassifier was fitted with feature names\n",
      "  warnings.warn(\n",
      "C:\\Users\\smhrd\\AppData\\Local\\Temp\\ipykernel_15348\\2774937686.py:68: FutureWarning: The frame.append method is deprecated and will be removed from pandas in a future version. Use pandas.concat instead.\n",
      "  df = df.append([globals()[f'list']])\n",
      "C:\\Users\\smhrd\\AppData\\Roaming\\Python\\Python39\\site-packages\\sklearn\\base.py:450: UserWarning: X does not have valid feature names, but KNeighborsClassifier was fitted with feature names\n",
      "  warnings.warn(\n"
     ]
    },
    {
     "name": "stdout",
     "output_type": "stream",
     "text": [
      "(71.42155357781034, 149.50192728705758, -8.0)\n",
      "[[1. 0. 0. 0.]]\n",
      "(72.57253241295602, 148.93611909298585, -6.5)\n",
      "[[1. 0. 0. 0.]]\n",
      "(74.65675224969064, 149.53280612954794, -7.0)\n",
      "[[1. 0. 0. 0.]]\n",
      "(74.3662436279882, 148.51157633686452, -6.0)\n",
      "[[1. 0. 0. 0.]]\n"
     ]
    },
    {
     "name": "stderr",
     "output_type": "stream",
     "text": [
      "C:\\Users\\smhrd\\AppData\\Local\\Temp\\ipykernel_15348\\2774937686.py:68: FutureWarning: The frame.append method is deprecated and will be removed from pandas in a future version. Use pandas.concat instead.\n",
      "  df = df.append([globals()[f'list']])\n",
      "C:\\Users\\smhrd\\AppData\\Roaming\\Python\\Python39\\site-packages\\sklearn\\base.py:450: UserWarning: X does not have valid feature names, but KNeighborsClassifier was fitted with feature names\n",
      "  warnings.warn(\n",
      "C:\\Users\\smhrd\\AppData\\Local\\Temp\\ipykernel_15348\\2774937686.py:68: FutureWarning: The frame.append method is deprecated and will be removed from pandas in a future version. Use pandas.concat instead.\n",
      "  df = df.append([globals()[f'list']])\n",
      "C:\\Users\\smhrd\\AppData\\Roaming\\Python\\Python39\\site-packages\\sklearn\\base.py:450: UserWarning: X does not have valid feature names, but KNeighborsClassifier was fitted with feature names\n",
      "  warnings.warn(\n",
      "C:\\Users\\smhrd\\AppData\\Local\\Temp\\ipykernel_15348\\2774937686.py:68: FutureWarning: The frame.append method is deprecated and will be removed from pandas in a future version. Use pandas.concat instead.\n",
      "  df = df.append([globals()[f'list']])\n",
      "C:\\Users\\smhrd\\AppData\\Roaming\\Python\\Python39\\site-packages\\sklearn\\base.py:450: UserWarning: X does not have valid feature names, but KNeighborsClassifier was fitted with feature names\n",
      "  warnings.warn(\n",
      "C:\\Users\\smhrd\\AppData\\Local\\Temp\\ipykernel_15348\\2774937686.py:68: FutureWarning: The frame.append method is deprecated and will be removed from pandas in a future version. Use pandas.concat instead.\n",
      "  df = df.append([globals()[f'list']])\n",
      "C:\\Users\\smhrd\\AppData\\Roaming\\Python\\Python39\\site-packages\\sklearn\\base.py:450: UserWarning: X does not have valid feature names, but KNeighborsClassifier was fitted with feature names\n",
      "  warnings.warn(\n"
     ]
    },
    {
     "name": "stdout",
     "output_type": "stream",
     "text": [
      "(72.84082944329445, 149.09508960245532, -5.5)\n",
      "[[1. 0. 0. 0.]]\n",
      "(75.05941723306884, 149.15364722009042, -6.0)\n",
      "[[1. 0. 0. 0.]]\n",
      "(74.38484085075744, 148.33144913229654, -8.0)\n",
      "[[1. 0. 0. 0.]]\n",
      "(75.62113743535105, 147.84711450966893, -10.5)\n",
      "[[1. 0. 0. 0.]]\n"
     ]
    },
    {
     "name": "stderr",
     "output_type": "stream",
     "text": [
      "C:\\Users\\smhrd\\AppData\\Local\\Temp\\ipykernel_15348\\2774937686.py:68: FutureWarning: The frame.append method is deprecated and will be removed from pandas in a future version. Use pandas.concat instead.\n",
      "  df = df.append([globals()[f'list']])\n",
      "C:\\Users\\smhrd\\AppData\\Roaming\\Python\\Python39\\site-packages\\sklearn\\base.py:450: UserWarning: X does not have valid feature names, but KNeighborsClassifier was fitted with feature names\n",
      "  warnings.warn(\n",
      "C:\\Users\\smhrd\\AppData\\Local\\Temp\\ipykernel_15348\\2774937686.py:68: FutureWarning: The frame.append method is deprecated and will be removed from pandas in a future version. Use pandas.concat instead.\n",
      "  df = df.append([globals()[f'list']])\n",
      "C:\\Users\\smhrd\\AppData\\Roaming\\Python\\Python39\\site-packages\\sklearn\\base.py:450: UserWarning: X does not have valid feature names, but KNeighborsClassifier was fitted with feature names\n",
      "  warnings.warn(\n",
      "C:\\Users\\smhrd\\AppData\\Local\\Temp\\ipykernel_15348\\2774937686.py:68: FutureWarning: The frame.append method is deprecated and will be removed from pandas in a future version. Use pandas.concat instead.\n",
      "  df = df.append([globals()[f'list']])\n",
      "C:\\Users\\smhrd\\AppData\\Roaming\\Python\\Python39\\site-packages\\sklearn\\base.py:450: UserWarning: X does not have valid feature names, but KNeighborsClassifier was fitted with feature names\n",
      "  warnings.warn(\n",
      "C:\\Users\\smhrd\\AppData\\Local\\Temp\\ipykernel_15348\\2774937686.py:68: FutureWarning: The frame.append method is deprecated and will be removed from pandas in a future version. Use pandas.concat instead.\n",
      "  df = df.append([globals()[f'list']])\n",
      "C:\\Users\\smhrd\\AppData\\Roaming\\Python\\Python39\\site-packages\\sklearn\\base.py:450: UserWarning: X does not have valid feature names, but KNeighborsClassifier was fitted with feature names\n",
      "  warnings.warn(\n"
     ]
    },
    {
     "name": "stdout",
     "output_type": "stream",
     "text": [
      "(75.16902246355778, 147.9740380364352, -7.0)\n",
      "[[1. 0. 0. 0.]]\n",
      "(76.89304239085217, 148.93165394929224, -8.0)\n",
      "[[1. 0. 0. 0.]]\n",
      "(75.66239855804291, 148.87622350616465, -7.5)\n",
      "[[1. 0. 0. 0.]]\n",
      "(76.42439087159559, 148.98818613754952, -7.0)\n",
      "[[1. 0. 0. 0.]]\n"
     ]
    },
    {
     "name": "stderr",
     "output_type": "stream",
     "text": [
      "C:\\Users\\smhrd\\AppData\\Local\\Temp\\ipykernel_15348\\2774937686.py:68: FutureWarning: The frame.append method is deprecated and will be removed from pandas in a future version. Use pandas.concat instead.\n",
      "  df = df.append([globals()[f'list']])\n",
      "C:\\Users\\smhrd\\AppData\\Roaming\\Python\\Python39\\site-packages\\sklearn\\base.py:450: UserWarning: X does not have valid feature names, but KNeighborsClassifier was fitted with feature names\n",
      "  warnings.warn(\n",
      "C:\\Users\\smhrd\\AppData\\Local\\Temp\\ipykernel_15348\\2774937686.py:68: FutureWarning: The frame.append method is deprecated and will be removed from pandas in a future version. Use pandas.concat instead.\n",
      "  df = df.append([globals()[f'list']])\n",
      "C:\\Users\\smhrd\\AppData\\Roaming\\Python\\Python39\\site-packages\\sklearn\\base.py:450: UserWarning: X does not have valid feature names, but KNeighborsClassifier was fitted with feature names\n",
      "  warnings.warn(\n",
      "C:\\Users\\smhrd\\AppData\\Local\\Temp\\ipykernel_15348\\2774937686.py:68: FutureWarning: The frame.append method is deprecated and will be removed from pandas in a future version. Use pandas.concat instead.\n",
      "  df = df.append([globals()[f'list']])\n",
      "C:\\Users\\smhrd\\AppData\\Roaming\\Python\\Python39\\site-packages\\sklearn\\base.py:450: UserWarning: X does not have valid feature names, but KNeighborsClassifier was fitted with feature names\n",
      "  warnings.warn(\n",
      "C:\\Users\\smhrd\\AppData\\Local\\Temp\\ipykernel_15348\\2774937686.py:68: FutureWarning: The frame.append method is deprecated and will be removed from pandas in a future version. Use pandas.concat instead.\n",
      "  df = df.append([globals()[f'list']])\n",
      "C:\\Users\\smhrd\\AppData\\Roaming\\Python\\Python39\\site-packages\\sklearn\\base.py:450: UserWarning: X does not have valid feature names, but KNeighborsClassifier was fitted with feature names\n",
      "  warnings.warn(\n"
     ]
    },
    {
     "name": "stdout",
     "output_type": "stream",
     "text": [
      "(78.59456724543512, 148.87436963926297, -4.5)\n",
      "[[1. 0. 0. 0.]]\n",
      "(78.48392588836384, 148.02017407414368, -8.0)\n",
      "[[1. 0. 0. 0.]]\n",
      "(79.19385436247128, 147.7331969224346, -9.0)\n",
      "[[1. 0. 0. 0.]]\n",
      "(80.79580033557973, 147.6511184111101, -8.0)\n",
      "[[1. 0. 0. 0.]]\n"
     ]
    },
    {
     "name": "stderr",
     "output_type": "stream",
     "text": [
      "C:\\Users\\smhrd\\AppData\\Local\\Temp\\ipykernel_15348\\2774937686.py:68: FutureWarning: The frame.append method is deprecated and will be removed from pandas in a future version. Use pandas.concat instead.\n",
      "  df = df.append([globals()[f'list']])\n",
      "C:\\Users\\smhrd\\AppData\\Roaming\\Python\\Python39\\site-packages\\sklearn\\base.py:450: UserWarning: X does not have valid feature names, but KNeighborsClassifier was fitted with feature names\n",
      "  warnings.warn(\n",
      "C:\\Users\\smhrd\\AppData\\Local\\Temp\\ipykernel_15348\\2774937686.py:68: FutureWarning: The frame.append method is deprecated and will be removed from pandas in a future version. Use pandas.concat instead.\n",
      "  df = df.append([globals()[f'list']])\n",
      "C:\\Users\\smhrd\\AppData\\Roaming\\Python\\Python39\\site-packages\\sklearn\\base.py:450: UserWarning: X does not have valid feature names, but KNeighborsClassifier was fitted with feature names\n",
      "  warnings.warn(\n",
      "C:\\Users\\smhrd\\AppData\\Local\\Temp\\ipykernel_15348\\2774937686.py:68: FutureWarning: The frame.append method is deprecated and will be removed from pandas in a future version. Use pandas.concat instead.\n",
      "  df = df.append([globals()[f'list']])\n",
      "C:\\Users\\smhrd\\AppData\\Roaming\\Python\\Python39\\site-packages\\sklearn\\base.py:450: UserWarning: X does not have valid feature names, but KNeighborsClassifier was fitted with feature names\n",
      "  warnings.warn(\n"
     ]
    },
    {
     "name": "stdout",
     "output_type": "stream",
     "text": [
      "(80.78417140121694, 146.972068229173, -13.0)\n",
      "[[1. 0. 0. 0.]]\n",
      "(80.93188351048842, 149.23032394352552, -9.0)\n",
      "[[1. 0. 0. 0.]]\n",
      "(81.75661377765414, 147.40297953179342, -10.0)\n",
      "[[1. 0. 0. 0.]]\n"
     ]
    },
    {
     "name": "stderr",
     "output_type": "stream",
     "text": [
      "C:\\Users\\smhrd\\AppData\\Local\\Temp\\ipykernel_15348\\2774937686.py:68: FutureWarning: The frame.append method is deprecated and will be removed from pandas in a future version. Use pandas.concat instead.\n",
      "  df = df.append([globals()[f'list']])\n",
      "C:\\Users\\smhrd\\AppData\\Roaming\\Python\\Python39\\site-packages\\sklearn\\base.py:450: UserWarning: X does not have valid feature names, but KNeighborsClassifier was fitted with feature names\n",
      "  warnings.warn(\n",
      "C:\\Users\\smhrd\\AppData\\Local\\Temp\\ipykernel_15348\\2774937686.py:68: FutureWarning: The frame.append method is deprecated and will be removed from pandas in a future version. Use pandas.concat instead.\n",
      "  df = df.append([globals()[f'list']])\n",
      "C:\\Users\\smhrd\\AppData\\Roaming\\Python\\Python39\\site-packages\\sklearn\\base.py:450: UserWarning: X does not have valid feature names, but KNeighborsClassifier was fitted with feature names\n",
      "  warnings.warn(\n",
      "C:\\Users\\smhrd\\AppData\\Local\\Temp\\ipykernel_15348\\2774937686.py:68: FutureWarning: The frame.append method is deprecated and will be removed from pandas in a future version. Use pandas.concat instead.\n",
      "  df = df.append([globals()[f'list']])\n",
      "C:\\Users\\smhrd\\AppData\\Roaming\\Python\\Python39\\site-packages\\sklearn\\base.py:450: UserWarning: X does not have valid feature names, but KNeighborsClassifier was fitted with feature names\n",
      "  warnings.warn(\n",
      "C:\\Users\\smhrd\\AppData\\Local\\Temp\\ipykernel_15348\\2774937686.py:68: FutureWarning: The frame.append method is deprecated and will be removed from pandas in a future version. Use pandas.concat instead.\n",
      "  df = df.append([globals()[f'list']])\n",
      "C:\\Users\\smhrd\\AppData\\Roaming\\Python\\Python39\\site-packages\\sklearn\\base.py:450: UserWarning: X does not have valid feature names, but KNeighborsClassifier was fitted with feature names\n",
      "  warnings.warn(\n"
     ]
    },
    {
     "name": "stdout",
     "output_type": "stream",
     "text": [
      "(81.91703117236322, 146.54659597389045, -11.0)\n",
      "[[1. 0. 0. 0.]]\n",
      "(83.2649498315893, 149.34357691636387, -10.5)\n",
      "[[1. 0. 0. 0.]]\n",
      "(83.91846996383539, 147.9462333026552, -11.0)\n",
      "[[1. 0. 0. 0.]]\n",
      "(82.08058006452347, 145.598079589586, -12.0)\n",
      "[[1. 0. 0. 0.]]\n"
     ]
    },
    {
     "name": "stderr",
     "output_type": "stream",
     "text": [
      "C:\\Users\\smhrd\\AppData\\Local\\Temp\\ipykernel_15348\\2774937686.py:68: FutureWarning: The frame.append method is deprecated and will be removed from pandas in a future version. Use pandas.concat instead.\n",
      "  df = df.append([globals()[f'list']])\n",
      "C:\\Users\\smhrd\\AppData\\Roaming\\Python\\Python39\\site-packages\\sklearn\\base.py:450: UserWarning: X does not have valid feature names, but KNeighborsClassifier was fitted with feature names\n",
      "  warnings.warn(\n",
      "C:\\Users\\smhrd\\AppData\\Local\\Temp\\ipykernel_15348\\2774937686.py:68: FutureWarning: The frame.append method is deprecated and will be removed from pandas in a future version. Use pandas.concat instead.\n",
      "  df = df.append([globals()[f'list']])\n",
      "C:\\Users\\smhrd\\AppData\\Roaming\\Python\\Python39\\site-packages\\sklearn\\base.py:450: UserWarning: X does not have valid feature names, but KNeighborsClassifier was fitted with feature names\n",
      "  warnings.warn(\n",
      "C:\\Users\\smhrd\\AppData\\Local\\Temp\\ipykernel_15348\\2774937686.py:68: FutureWarning: The frame.append method is deprecated and will be removed from pandas in a future version. Use pandas.concat instead.\n",
      "  df = df.append([globals()[f'list']])\n",
      "C:\\Users\\smhrd\\AppData\\Roaming\\Python\\Python39\\site-packages\\sklearn\\base.py:450: UserWarning: X does not have valid feature names, but KNeighborsClassifier was fitted with feature names\n",
      "  warnings.warn(\n",
      "C:\\Users\\smhrd\\AppData\\Local\\Temp\\ipykernel_15348\\2774937686.py:68: FutureWarning: The frame.append method is deprecated and will be removed from pandas in a future version. Use pandas.concat instead.\n",
      "  df = df.append([globals()[f'list']])\n",
      "C:\\Users\\smhrd\\AppData\\Roaming\\Python\\Python39\\site-packages\\sklearn\\base.py:450: UserWarning: X does not have valid feature names, but KNeighborsClassifier was fitted with feature names\n",
      "  warnings.warn(\n"
     ]
    },
    {
     "name": "stdout",
     "output_type": "stream",
     "text": [
      "(84.08032057257526, 145.85847202163072, -14.0)\n",
      "[[1. 0. 0. 0.]]\n",
      "(84.02492698465191, 146.17516132679083, -13.5)\n",
      "[[1. 0. 0. 0.]]\n",
      "(85.10561368191405, 145.46003259630152, -15.5)\n",
      "[[1. 0. 0. 0.]]\n",
      "(83.716272128129, 145.19788948177822, -13.5)\n",
      "[[1. 0. 0. 0.]]\n"
     ]
    },
    {
     "name": "stderr",
     "output_type": "stream",
     "text": [
      "C:\\Users\\smhrd\\AppData\\Local\\Temp\\ipykernel_15348\\2774937686.py:68: FutureWarning: The frame.append method is deprecated and will be removed from pandas in a future version. Use pandas.concat instead.\n",
      "  df = df.append([globals()[f'list']])\n",
      "C:\\Users\\smhrd\\AppData\\Roaming\\Python\\Python39\\site-packages\\sklearn\\base.py:450: UserWarning: X does not have valid feature names, but KNeighborsClassifier was fitted with feature names\n",
      "  warnings.warn(\n",
      "C:\\Users\\smhrd\\AppData\\Local\\Temp\\ipykernel_15348\\2774937686.py:68: FutureWarning: The frame.append method is deprecated and will be removed from pandas in a future version. Use pandas.concat instead.\n",
      "  df = df.append([globals()[f'list']])\n",
      "C:\\Users\\smhrd\\AppData\\Roaming\\Python\\Python39\\site-packages\\sklearn\\base.py:450: UserWarning: X does not have valid feature names, but KNeighborsClassifier was fitted with feature names\n",
      "  warnings.warn(\n",
      "C:\\Users\\smhrd\\AppData\\Local\\Temp\\ipykernel_15348\\2774937686.py:68: FutureWarning: The frame.append method is deprecated and will be removed from pandas in a future version. Use pandas.concat instead.\n",
      "  df = df.append([globals()[f'list']])\n",
      "C:\\Users\\smhrd\\AppData\\Roaming\\Python\\Python39\\site-packages\\sklearn\\base.py:450: UserWarning: X does not have valid feature names, but KNeighborsClassifier was fitted with feature names\n",
      "  warnings.warn(\n",
      "C:\\Users\\smhrd\\AppData\\Local\\Temp\\ipykernel_15348\\2774937686.py:68: FutureWarning: The frame.append method is deprecated and will be removed from pandas in a future version. Use pandas.concat instead.\n",
      "  df = df.append([globals()[f'list']])\n",
      "C:\\Users\\smhrd\\AppData\\Roaming\\Python\\Python39\\site-packages\\sklearn\\base.py:450: UserWarning: X does not have valid feature names, but KNeighborsClassifier was fitted with feature names\n",
      "  warnings.warn(\n"
     ]
    },
    {
     "name": "stdout",
     "output_type": "stream",
     "text": [
      "(85.29821167908936, 146.89299740794237, -11.0)\n",
      "[[1. 0. 0. 0.]]\n",
      "(85.56838667166797, 143.97055315998784, -11.5)\n",
      "[[1. 0. 0. 0.]]\n",
      "(83.52611430654659, 146.35272244329644, -13.5)\n",
      "[[1. 0. 0. 0.]]\n",
      "(85.70403009259768, 145.6112544434727, -14.5)\n",
      "[[1. 0. 0. 0.]]\n"
     ]
    },
    {
     "name": "stderr",
     "output_type": "stream",
     "text": [
      "C:\\Users\\smhrd\\AppData\\Local\\Temp\\ipykernel_15348\\2774937686.py:68: FutureWarning: The frame.append method is deprecated and will be removed from pandas in a future version. Use pandas.concat instead.\n",
      "  df = df.append([globals()[f'list']])\n",
      "C:\\Users\\smhrd\\AppData\\Roaming\\Python\\Python39\\site-packages\\sklearn\\base.py:450: UserWarning: X does not have valid feature names, but KNeighborsClassifier was fitted with feature names\n",
      "  warnings.warn(\n",
      "C:\\Users\\smhrd\\AppData\\Local\\Temp\\ipykernel_15348\\2774937686.py:68: FutureWarning: The frame.append method is deprecated and will be removed from pandas in a future version. Use pandas.concat instead.\n",
      "  df = df.append([globals()[f'list']])\n",
      "C:\\Users\\smhrd\\AppData\\Roaming\\Python\\Python39\\site-packages\\sklearn\\base.py:450: UserWarning: X does not have valid feature names, but KNeighborsClassifier was fitted with feature names\n",
      "  warnings.warn(\n",
      "C:\\Users\\smhrd\\AppData\\Local\\Temp\\ipykernel_15348\\2774937686.py:68: FutureWarning: The frame.append method is deprecated and will be removed from pandas in a future version. Use pandas.concat instead.\n",
      "  df = df.append([globals()[f'list']])\n",
      "C:\\Users\\smhrd\\AppData\\Roaming\\Python\\Python39\\site-packages\\sklearn\\base.py:450: UserWarning: X does not have valid feature names, but KNeighborsClassifier was fitted with feature names\n",
      "  warnings.warn(\n",
      "C:\\Users\\smhrd\\AppData\\Local\\Temp\\ipykernel_15348\\2774937686.py:68: FutureWarning: The frame.append method is deprecated and will be removed from pandas in a future version. Use pandas.concat instead.\n",
      "  df = df.append([globals()[f'list']])\n",
      "C:\\Users\\smhrd\\AppData\\Roaming\\Python\\Python39\\site-packages\\sklearn\\base.py:450: UserWarning: X does not have valid feature names, but KNeighborsClassifier was fitted with feature names\n",
      "  warnings.warn(\n"
     ]
    },
    {
     "name": "stdout",
     "output_type": "stream",
     "text": [
      "(84.98798172766091, 145.20125299522664, -15.5)\n",
      "[[1. 0. 0. 0.]]\n",
      "(85.60558779596454, 147.5211847191067, -14.5)\n",
      "[[1. 0. 0. 0.]]\n",
      "(86.75308116749655, 146.4240939759266, -14.0)\n",
      "[[1. 0. 0. 0.]]\n",
      "(85.06576780921937, 146.74298036104503, -12.5)\n",
      "[[1. 0. 0. 0.]]\n"
     ]
    },
    {
     "name": "stderr",
     "output_type": "stream",
     "text": [
      "C:\\Users\\smhrd\\AppData\\Local\\Temp\\ipykernel_15348\\2774937686.py:68: FutureWarning: The frame.append method is deprecated and will be removed from pandas in a future version. Use pandas.concat instead.\n",
      "  df = df.append([globals()[f'list']])\n",
      "C:\\Users\\smhrd\\AppData\\Roaming\\Python\\Python39\\site-packages\\sklearn\\base.py:450: UserWarning: X does not have valid feature names, but KNeighborsClassifier was fitted with feature names\n",
      "  warnings.warn(\n",
      "C:\\Users\\smhrd\\AppData\\Local\\Temp\\ipykernel_15348\\2774937686.py:68: FutureWarning: The frame.append method is deprecated and will be removed from pandas in a future version. Use pandas.concat instead.\n",
      "  df = df.append([globals()[f'list']])\n",
      "C:\\Users\\smhrd\\AppData\\Roaming\\Python\\Python39\\site-packages\\sklearn\\base.py:450: UserWarning: X does not have valid feature names, but KNeighborsClassifier was fitted with feature names\n",
      "  warnings.warn(\n",
      "C:\\Users\\smhrd\\AppData\\Local\\Temp\\ipykernel_15348\\2774937686.py:68: FutureWarning: The frame.append method is deprecated and will be removed from pandas in a future version. Use pandas.concat instead.\n",
      "  df = df.append([globals()[f'list']])\n",
      "C:\\Users\\smhrd\\AppData\\Roaming\\Python\\Python39\\site-packages\\sklearn\\base.py:450: UserWarning: X does not have valid feature names, but KNeighborsClassifier was fitted with feature names\n",
      "  warnings.warn(\n",
      "C:\\Users\\smhrd\\AppData\\Local\\Temp\\ipykernel_15348\\2774937686.py:68: FutureWarning: The frame.append method is deprecated and will be removed from pandas in a future version. Use pandas.concat instead.\n",
      "  df = df.append([globals()[f'list']])\n",
      "C:\\Users\\smhrd\\AppData\\Roaming\\Python\\Python39\\site-packages\\sklearn\\base.py:450: UserWarning: X does not have valid feature names, but KNeighborsClassifier was fitted with feature names\n",
      "  warnings.warn(\n"
     ]
    },
    {
     "name": "stdout",
     "output_type": "stream",
     "text": [
      "(86.7989294151656, 148.1405203297328, -11.5)\n",
      "[[1. 0. 0. 0.]]\n",
      "(87.0490404088384, 147.96495664272567, -8.5)\n",
      "[[1. 0. 0. 0.]]\n",
      "(85.94626628857398, 145.04898169693473, -13.5)\n",
      "[[1. 0. 0. 0.]]\n",
      "(85.80464410466838, 145.2648591277658, -16.5)\n",
      "[[1. 0. 0. 0.]]\n"
     ]
    },
    {
     "name": "stderr",
     "output_type": "stream",
     "text": [
      "C:\\Users\\smhrd\\AppData\\Local\\Temp\\ipykernel_15348\\2774937686.py:68: FutureWarning: The frame.append method is deprecated and will be removed from pandas in a future version. Use pandas.concat instead.\n",
      "  df = df.append([globals()[f'list']])\n",
      "C:\\Users\\smhrd\\AppData\\Roaming\\Python\\Python39\\site-packages\\sklearn\\base.py:450: UserWarning: X does not have valid feature names, but KNeighborsClassifier was fitted with feature names\n",
      "  warnings.warn(\n",
      "C:\\Users\\smhrd\\AppData\\Local\\Temp\\ipykernel_15348\\2774937686.py:68: FutureWarning: The frame.append method is deprecated and will be removed from pandas in a future version. Use pandas.concat instead.\n",
      "  df = df.append([globals()[f'list']])\n",
      "C:\\Users\\smhrd\\AppData\\Roaming\\Python\\Python39\\site-packages\\sklearn\\base.py:450: UserWarning: X does not have valid feature names, but KNeighborsClassifier was fitted with feature names\n",
      "  warnings.warn(\n",
      "C:\\Users\\smhrd\\AppData\\Local\\Temp\\ipykernel_15348\\2774937686.py:68: FutureWarning: The frame.append method is deprecated and will be removed from pandas in a future version. Use pandas.concat instead.\n",
      "  df = df.append([globals()[f'list']])\n",
      "C:\\Users\\smhrd\\AppData\\Roaming\\Python\\Python39\\site-packages\\sklearn\\base.py:450: UserWarning: X does not have valid feature names, but KNeighborsClassifier was fitted with feature names\n",
      "  warnings.warn(\n",
      "C:\\Users\\smhrd\\AppData\\Local\\Temp\\ipykernel_15348\\2774937686.py:68: FutureWarning: The frame.append method is deprecated and will be removed from pandas in a future version. Use pandas.concat instead.\n",
      "  df = df.append([globals()[f'list']])\n",
      "C:\\Users\\smhrd\\AppData\\Roaming\\Python\\Python39\\site-packages\\sklearn\\base.py:450: UserWarning: X does not have valid feature names, but KNeighborsClassifier was fitted with feature names\n",
      "  warnings.warn(\n"
     ]
    },
    {
     "name": "stdout",
     "output_type": "stream",
     "text": [
      "(87.79162139985542, 143.7867428151966, -17.0)\n",
      "[[1. 0. 0. 0.]]\n",
      "(87.87981163325199, 143.37946797158335, -17.5)\n",
      "[[1. 0. 0. 0.]]\n",
      "(86.70221682080289, 147.7811673034302, -14.0)\n",
      "[[1. 0. 0. 0.]]\n",
      "(86.70413043627308, 148.0377372438075, -14.0)\n",
      "[[1. 0. 0. 0.]]\n"
     ]
    },
    {
     "name": "stderr",
     "output_type": "stream",
     "text": [
      "C:\\Users\\smhrd\\AppData\\Local\\Temp\\ipykernel_15348\\2774937686.py:68: FutureWarning: The frame.append method is deprecated and will be removed from pandas in a future version. Use pandas.concat instead.\n",
      "  df = df.append([globals()[f'list']])\n",
      "C:\\Users\\smhrd\\AppData\\Roaming\\Python\\Python39\\site-packages\\sklearn\\base.py:450: UserWarning: X does not have valid feature names, but KNeighborsClassifier was fitted with feature names\n",
      "  warnings.warn(\n",
      "C:\\Users\\smhrd\\AppData\\Local\\Temp\\ipykernel_15348\\2774937686.py:68: FutureWarning: The frame.append method is deprecated and will be removed from pandas in a future version. Use pandas.concat instead.\n",
      "  df = df.append([globals()[f'list']])\n",
      "C:\\Users\\smhrd\\AppData\\Roaming\\Python\\Python39\\site-packages\\sklearn\\base.py:450: UserWarning: X does not have valid feature names, but KNeighborsClassifier was fitted with feature names\n",
      "  warnings.warn(\n",
      "C:\\Users\\smhrd\\AppData\\Local\\Temp\\ipykernel_15348\\2774937686.py:68: FutureWarning: The frame.append method is deprecated and will be removed from pandas in a future version. Use pandas.concat instead.\n",
      "  df = df.append([globals()[f'list']])\n",
      "C:\\Users\\smhrd\\AppData\\Roaming\\Python\\Python39\\site-packages\\sklearn\\base.py:450: UserWarning: X does not have valid feature names, but KNeighborsClassifier was fitted with feature names\n",
      "  warnings.warn(\n"
     ]
    },
    {
     "name": "stdout",
     "output_type": "stream",
     "text": [
      "(87.92371476858652, 146.56837065610085, -13.5)\n",
      "[[1. 0. 0. 0.]]\n",
      "(87.35570661609059, 148.16333263608394, -11.5)\n",
      "[[1. 0. 0. 0.]]\n",
      "(88.372510788671, 148.01266392852213, -11.0)\n",
      "[[1. 0. 0. 0.]]\n"
     ]
    },
    {
     "name": "stderr",
     "output_type": "stream",
     "text": [
      "C:\\Users\\smhrd\\AppData\\Local\\Temp\\ipykernel_15348\\2774937686.py:68: FutureWarning: The frame.append method is deprecated and will be removed from pandas in a future version. Use pandas.concat instead.\n",
      "  df = df.append([globals()[f'list']])\n",
      "C:\\Users\\smhrd\\AppData\\Roaming\\Python\\Python39\\site-packages\\sklearn\\base.py:450: UserWarning: X does not have valid feature names, but KNeighborsClassifier was fitted with feature names\n",
      "  warnings.warn(\n",
      "C:\\Users\\smhrd\\AppData\\Local\\Temp\\ipykernel_15348\\2774937686.py:68: FutureWarning: The frame.append method is deprecated and will be removed from pandas in a future version. Use pandas.concat instead.\n",
      "  df = df.append([globals()[f'list']])\n",
      "C:\\Users\\smhrd\\AppData\\Roaming\\Python\\Python39\\site-packages\\sklearn\\base.py:450: UserWarning: X does not have valid feature names, but KNeighborsClassifier was fitted with feature names\n",
      "  warnings.warn(\n",
      "C:\\Users\\smhrd\\AppData\\Local\\Temp\\ipykernel_15348\\2774937686.py:68: FutureWarning: The frame.append method is deprecated and will be removed from pandas in a future version. Use pandas.concat instead.\n",
      "  df = df.append([globals()[f'list']])\n",
      "C:\\Users\\smhrd\\AppData\\Roaming\\Python\\Python39\\site-packages\\sklearn\\base.py:450: UserWarning: X does not have valid feature names, but KNeighborsClassifier was fitted with feature names\n",
      "  warnings.warn(\n",
      "C:\\Users\\smhrd\\AppData\\Local\\Temp\\ipykernel_15348\\2774937686.py:68: FutureWarning: The frame.append method is deprecated and will be removed from pandas in a future version. Use pandas.concat instead.\n",
      "  df = df.append([globals()[f'list']])\n",
      "C:\\Users\\smhrd\\AppData\\Roaming\\Python\\Python39\\site-packages\\sklearn\\base.py:450: UserWarning: X does not have valid feature names, but KNeighborsClassifier was fitted with feature names\n",
      "  warnings.warn(\n"
     ]
    },
    {
     "name": "stdout",
     "output_type": "stream",
     "text": [
      "(87.36648126779684, 148.71367465284393, -11.5)\n",
      "[[1. 0. 0. 0.]]\n",
      "(90.37672353979873, 148.75864012105947, -7.5)\n",
      "[[1. 0. 0. 0.]]\n",
      "(92.40518430503872, 148.0452467397296, -7.0)\n",
      "[[1. 0. 0. 0.]]\n",
      "(90.96388873698004, 149.77879966800776, -6.5)\n",
      "[[1. 0. 0. 0.]]\n"
     ]
    },
    {
     "name": "stderr",
     "output_type": "stream",
     "text": [
      "C:\\Users\\smhrd\\AppData\\Local\\Temp\\ipykernel_15348\\2774937686.py:68: FutureWarning: The frame.append method is deprecated and will be removed from pandas in a future version. Use pandas.concat instead.\n",
      "  df = df.append([globals()[f'list']])\n",
      "C:\\Users\\smhrd\\AppData\\Roaming\\Python\\Python39\\site-packages\\sklearn\\base.py:450: UserWarning: X does not have valid feature names, but KNeighborsClassifier was fitted with feature names\n",
      "  warnings.warn(\n",
      "C:\\Users\\smhrd\\AppData\\Local\\Temp\\ipykernel_15348\\2774937686.py:68: FutureWarning: The frame.append method is deprecated and will be removed from pandas in a future version. Use pandas.concat instead.\n",
      "  df = df.append([globals()[f'list']])\n",
      "C:\\Users\\smhrd\\AppData\\Roaming\\Python\\Python39\\site-packages\\sklearn\\base.py:450: UserWarning: X does not have valid feature names, but KNeighborsClassifier was fitted with feature names\n",
      "  warnings.warn(\n",
      "C:\\Users\\smhrd\\AppData\\Local\\Temp\\ipykernel_15348\\2774937686.py:68: FutureWarning: The frame.append method is deprecated and will be removed from pandas in a future version. Use pandas.concat instead.\n",
      "  df = df.append([globals()[f'list']])\n",
      "C:\\Users\\smhrd\\AppData\\Roaming\\Python\\Python39\\site-packages\\sklearn\\base.py:450: UserWarning: X does not have valid feature names, but KNeighborsClassifier was fitted with feature names\n",
      "  warnings.warn(\n",
      "C:\\Users\\smhrd\\AppData\\Local\\Temp\\ipykernel_15348\\2774937686.py:68: FutureWarning: The frame.append method is deprecated and will be removed from pandas in a future version. Use pandas.concat instead.\n",
      "  df = df.append([globals()[f'list']])\n",
      "C:\\Users\\smhrd\\AppData\\Roaming\\Python\\Python39\\site-packages\\sklearn\\base.py:450: UserWarning: X does not have valid feature names, but KNeighborsClassifier was fitted with feature names\n",
      "  warnings.warn(\n"
     ]
    },
    {
     "name": "stdout",
     "output_type": "stream",
     "text": [
      "(91.14057976362047, 148.52331066790498, -8.5)\n",
      "[[1. 0. 0. 0.]]\n",
      "(90.31232943298728, 149.46673266464745, -10.5)\n",
      "[[1. 0. 0. 0.]]\n",
      "(89.05873416300578, 149.73700819757514, -12.5)\n",
      "[[1. 0. 0. 0.]]\n",
      "(89.54410685976411, 146.15989049098272, -15.0)\n",
      "[[1. 0. 0. 0.]]\n"
     ]
    },
    {
     "name": "stderr",
     "output_type": "stream",
     "text": [
      "C:\\Users\\smhrd\\AppData\\Local\\Temp\\ipykernel_15348\\2774937686.py:68: FutureWarning: The frame.append method is deprecated and will be removed from pandas in a future version. Use pandas.concat instead.\n",
      "  df = df.append([globals()[f'list']])\n",
      "C:\\Users\\smhrd\\AppData\\Roaming\\Python\\Python39\\site-packages\\sklearn\\base.py:450: UserWarning: X does not have valid feature names, but KNeighborsClassifier was fitted with feature names\n",
      "  warnings.warn(\n",
      "C:\\Users\\smhrd\\AppData\\Local\\Temp\\ipykernel_15348\\2774937686.py:68: FutureWarning: The frame.append method is deprecated and will be removed from pandas in a future version. Use pandas.concat instead.\n",
      "  df = df.append([globals()[f'list']])\n",
      "C:\\Users\\smhrd\\AppData\\Roaming\\Python\\Python39\\site-packages\\sklearn\\base.py:450: UserWarning: X does not have valid feature names, but KNeighborsClassifier was fitted with feature names\n",
      "  warnings.warn(\n",
      "C:\\Users\\smhrd\\AppData\\Local\\Temp\\ipykernel_15348\\2774937686.py:68: FutureWarning: The frame.append method is deprecated and will be removed from pandas in a future version. Use pandas.concat instead.\n",
      "  df = df.append([globals()[f'list']])\n",
      "C:\\Users\\smhrd\\AppData\\Roaming\\Python\\Python39\\site-packages\\sklearn\\base.py:450: UserWarning: X does not have valid feature names, but KNeighborsClassifier was fitted with feature names\n",
      "  warnings.warn(\n",
      "C:\\Users\\smhrd\\AppData\\Local\\Temp\\ipykernel_15348\\2774937686.py:68: FutureWarning: The frame.append method is deprecated and will be removed from pandas in a future version. Use pandas.concat instead.\n",
      "  df = df.append([globals()[f'list']])\n",
      "C:\\Users\\smhrd\\AppData\\Roaming\\Python\\Python39\\site-packages\\sklearn\\base.py:450: UserWarning: X does not have valid feature names, but KNeighborsClassifier was fitted with feature names\n",
      "  warnings.warn(\n"
     ]
    },
    {
     "name": "stdout",
     "output_type": "stream",
     "text": [
      "(89.06055908816496, 147.9871442480591, -14.0)\n",
      "[[1. 0. 0. 0.]]\n",
      "(88.55429737631715, 145.27575783938374, -16.0)\n",
      "[[1. 0. 0. 0.]]\n",
      "(89.32706503039782, 144.9706358819953, -16.0)\n",
      "[[1. 0. 0. 0.]]\n",
      "(89.12685419387184, 143.7013995460693, -20.5)\n",
      "[[1. 0. 0. 0.]]\n"
     ]
    },
    {
     "name": "stderr",
     "output_type": "stream",
     "text": [
      "C:\\Users\\smhrd\\AppData\\Local\\Temp\\ipykernel_15348\\2774937686.py:68: FutureWarning: The frame.append method is deprecated and will be removed from pandas in a future version. Use pandas.concat instead.\n",
      "  df = df.append([globals()[f'list']])\n",
      "C:\\Users\\smhrd\\AppData\\Roaming\\Python\\Python39\\site-packages\\sklearn\\base.py:450: UserWarning: X does not have valid feature names, but KNeighborsClassifier was fitted with feature names\n",
      "  warnings.warn(\n",
      "C:\\Users\\smhrd\\AppData\\Local\\Temp\\ipykernel_15348\\2774937686.py:68: FutureWarning: The frame.append method is deprecated and will be removed from pandas in a future version. Use pandas.concat instead.\n",
      "  df = df.append([globals()[f'list']])\n",
      "C:\\Users\\smhrd\\AppData\\Roaming\\Python\\Python39\\site-packages\\sklearn\\base.py:450: UserWarning: X does not have valid feature names, but KNeighborsClassifier was fitted with feature names\n",
      "  warnings.warn(\n",
      "C:\\Users\\smhrd\\AppData\\Local\\Temp\\ipykernel_15348\\2774937686.py:68: FutureWarning: The frame.append method is deprecated and will be removed from pandas in a future version. Use pandas.concat instead.\n",
      "  df = df.append([globals()[f'list']])\n",
      "C:\\Users\\smhrd\\AppData\\Roaming\\Python\\Python39\\site-packages\\sklearn\\base.py:450: UserWarning: X does not have valid feature names, but KNeighborsClassifier was fitted with feature names\n",
      "  warnings.warn(\n",
      "C:\\Users\\smhrd\\AppData\\Local\\Temp\\ipykernel_15348\\2774937686.py:68: FutureWarning: The frame.append method is deprecated and will be removed from pandas in a future version. Use pandas.concat instead.\n",
      "  df = df.append([globals()[f'list']])\n",
      "C:\\Users\\smhrd\\AppData\\Roaming\\Python\\Python39\\site-packages\\sklearn\\base.py:450: UserWarning: X does not have valid feature names, but KNeighborsClassifier was fitted with feature names\n",
      "  warnings.warn(\n"
     ]
    },
    {
     "name": "stdout",
     "output_type": "stream",
     "text": [
      "(90.58771098311993, 146.71533644466086, -15.0)\n",
      "[[1. 0. 0. 0.]]\n",
      "(89.07854455767439, 145.344989213778, -17.5)\n",
      "[[1. 0. 0. 0.]]\n",
      "(89.94615979932205, 143.71603318482326, -19.5)\n",
      "[[1. 0. 0. 0.]]\n",
      "(90.98913545434611, 145.63275054826315, -16.5)\n",
      "[[1. 0. 0. 0.]]\n"
     ]
    },
    {
     "name": "stderr",
     "output_type": "stream",
     "text": [
      "C:\\Users\\smhrd\\AppData\\Local\\Temp\\ipykernel_15348\\2774937686.py:68: FutureWarning: The frame.append method is deprecated and will be removed from pandas in a future version. Use pandas.concat instead.\n",
      "  df = df.append([globals()[f'list']])\n",
      "C:\\Users\\smhrd\\AppData\\Roaming\\Python\\Python39\\site-packages\\sklearn\\base.py:450: UserWarning: X does not have valid feature names, but KNeighborsClassifier was fitted with feature names\n",
      "  warnings.warn(\n",
      "C:\\Users\\smhrd\\AppData\\Local\\Temp\\ipykernel_15348\\2774937686.py:68: FutureWarning: The frame.append method is deprecated and will be removed from pandas in a future version. Use pandas.concat instead.\n",
      "  df = df.append([globals()[f'list']])\n",
      "C:\\Users\\smhrd\\AppData\\Roaming\\Python\\Python39\\site-packages\\sklearn\\base.py:450: UserWarning: X does not have valid feature names, but KNeighborsClassifier was fitted with feature names\n",
      "  warnings.warn(\n",
      "C:\\Users\\smhrd\\AppData\\Local\\Temp\\ipykernel_15348\\2774937686.py:68: FutureWarning: The frame.append method is deprecated and will be removed from pandas in a future version. Use pandas.concat instead.\n",
      "  df = df.append([globals()[f'list']])\n",
      "C:\\Users\\smhrd\\AppData\\Roaming\\Python\\Python39\\site-packages\\sklearn\\base.py:450: UserWarning: X does not have valid feature names, but KNeighborsClassifier was fitted with feature names\n",
      "  warnings.warn(\n",
      "C:\\Users\\smhrd\\AppData\\Local\\Temp\\ipykernel_15348\\2774937686.py:68: FutureWarning: The frame.append method is deprecated and will be removed from pandas in a future version. Use pandas.concat instead.\n",
      "  df = df.append([globals()[f'list']])\n",
      "C:\\Users\\smhrd\\AppData\\Roaming\\Python\\Python39\\site-packages\\sklearn\\base.py:450: UserWarning: X does not have valid feature names, but KNeighborsClassifier was fitted with feature names\n",
      "  warnings.warn(\n"
     ]
    },
    {
     "name": "stdout",
     "output_type": "stream",
     "text": [
      "(91.19981087186278, 145.32831575831258, -18.0)\n",
      "[[1. 0. 0. 0.]]\n",
      "(90.464665405317, 143.985380157651, -20.0)\n",
      "[[1. 0. 0. 0.]]\n",
      "(88.67325122855964, 147.02510705881048, -16.5)\n",
      "[[1. 0. 0. 0.]]\n",
      "(89.85892586526498, 145.1797590394836, -16.0)\n",
      "[[1. 0. 0. 0.]]\n"
     ]
    },
    {
     "name": "stderr",
     "output_type": "stream",
     "text": [
      "C:\\Users\\smhrd\\AppData\\Local\\Temp\\ipykernel_15348\\2774937686.py:68: FutureWarning: The frame.append method is deprecated and will be removed from pandas in a future version. Use pandas.concat instead.\n",
      "  df = df.append([globals()[f'list']])\n",
      "C:\\Users\\smhrd\\AppData\\Roaming\\Python\\Python39\\site-packages\\sklearn\\base.py:450: UserWarning: X does not have valid feature names, but KNeighborsClassifier was fitted with feature names\n",
      "  warnings.warn(\n",
      "C:\\Users\\smhrd\\AppData\\Local\\Temp\\ipykernel_15348\\2774937686.py:68: FutureWarning: The frame.append method is deprecated and will be removed from pandas in a future version. Use pandas.concat instead.\n",
      "  df = df.append([globals()[f'list']])\n",
      "C:\\Users\\smhrd\\AppData\\Roaming\\Python\\Python39\\site-packages\\sklearn\\base.py:450: UserWarning: X does not have valid feature names, but KNeighborsClassifier was fitted with feature names\n",
      "  warnings.warn(\n",
      "C:\\Users\\smhrd\\AppData\\Local\\Temp\\ipykernel_15348\\2774937686.py:68: FutureWarning: The frame.append method is deprecated and will be removed from pandas in a future version. Use pandas.concat instead.\n",
      "  df = df.append([globals()[f'list']])\n",
      "C:\\Users\\smhrd\\AppData\\Roaming\\Python\\Python39\\site-packages\\sklearn\\base.py:450: UserWarning: X does not have valid feature names, but KNeighborsClassifier was fitted with feature names\n",
      "  warnings.warn(\n",
      "C:\\Users\\smhrd\\AppData\\Local\\Temp\\ipykernel_15348\\2774937686.py:68: FutureWarning: The frame.append method is deprecated and will be removed from pandas in a future version. Use pandas.concat instead.\n",
      "  df = df.append([globals()[f'list']])\n",
      "C:\\Users\\smhrd\\AppData\\Roaming\\Python\\Python39\\site-packages\\sklearn\\base.py:450: UserWarning: X does not have valid feature names, but KNeighborsClassifier was fitted with feature names\n",
      "  warnings.warn(\n"
     ]
    },
    {
     "name": "stdout",
     "output_type": "stream",
     "text": [
      "(90.06900331410525, 146.68564344488945, -17.5)\n",
      "[[1. 0. 0. 0.]]\n",
      "(90.00887137556013, 146.0299284845203, -17.5)\n",
      "[[1. 0. 0. 0.]]\n",
      "(90.20980966767524, 147.37261787474773, -18.0)\n",
      "[[1. 0. 0. 0.]]\n",
      "(89.50659124056561, 146.57299131309028, -19.5)\n",
      "[[1. 0. 0. 0.]]\n"
     ]
    },
    {
     "name": "stderr",
     "output_type": "stream",
     "text": [
      "C:\\Users\\smhrd\\AppData\\Local\\Temp\\ipykernel_15348\\2774937686.py:68: FutureWarning: The frame.append method is deprecated and will be removed from pandas in a future version. Use pandas.concat instead.\n",
      "  df = df.append([globals()[f'list']])\n",
      "C:\\Users\\smhrd\\AppData\\Roaming\\Python\\Python39\\site-packages\\sklearn\\base.py:450: UserWarning: X does not have valid feature names, but KNeighborsClassifier was fitted with feature names\n",
      "  warnings.warn(\n",
      "C:\\Users\\smhrd\\AppData\\Local\\Temp\\ipykernel_15348\\2774937686.py:68: FutureWarning: The frame.append method is deprecated and will be removed from pandas in a future version. Use pandas.concat instead.\n",
      "  df = df.append([globals()[f'list']])\n",
      "C:\\Users\\smhrd\\AppData\\Roaming\\Python\\Python39\\site-packages\\sklearn\\base.py:450: UserWarning: X does not have valid feature names, but KNeighborsClassifier was fitted with feature names\n",
      "  warnings.warn(\n",
      "C:\\Users\\smhrd\\AppData\\Local\\Temp\\ipykernel_15348\\2774937686.py:68: FutureWarning: The frame.append method is deprecated and will be removed from pandas in a future version. Use pandas.concat instead.\n",
      "  df = df.append([globals()[f'list']])\n",
      "C:\\Users\\smhrd\\AppData\\Roaming\\Python\\Python39\\site-packages\\sklearn\\base.py:450: UserWarning: X does not have valid feature names, but KNeighborsClassifier was fitted with feature names\n",
      "  warnings.warn(\n",
      "C:\\Users\\smhrd\\AppData\\Local\\Temp\\ipykernel_15348\\2774937686.py:68: FutureWarning: The frame.append method is deprecated and will be removed from pandas in a future version. Use pandas.concat instead.\n",
      "  df = df.append([globals()[f'list']])\n",
      "C:\\Users\\smhrd\\AppData\\Roaming\\Python\\Python39\\site-packages\\sklearn\\base.py:450: UserWarning: X does not have valid feature names, but KNeighborsClassifier was fitted with feature names\n",
      "  warnings.warn(\n"
     ]
    },
    {
     "name": "stdout",
     "output_type": "stream",
     "text": [
      "(91.1555318336916, 147.5863515268135, -16.5)\n",
      "[[1. 0. 0. 0.]]\n",
      "(90.77947171540382, 147.64511523793624, -18.0)\n",
      "[[1. 0. 0. 0.]]\n",
      "(90.7006813705332, 147.01924454011947, -14.0)\n",
      "[[1. 0. 0. 0.]]\n",
      "(91.2180281176447, 147.53143921512097, -14.0)\n",
      "[[1. 0. 0. 0.]]\n"
     ]
    },
    {
     "name": "stderr",
     "output_type": "stream",
     "text": [
      "C:\\Users\\smhrd\\AppData\\Local\\Temp\\ipykernel_15348\\2774937686.py:68: FutureWarning: The frame.append method is deprecated and will be removed from pandas in a future version. Use pandas.concat instead.\n",
      "  df = df.append([globals()[f'list']])\n",
      "C:\\Users\\smhrd\\AppData\\Roaming\\Python\\Python39\\site-packages\\sklearn\\base.py:450: UserWarning: X does not have valid feature names, but KNeighborsClassifier was fitted with feature names\n",
      "  warnings.warn(\n",
      "C:\\Users\\smhrd\\AppData\\Local\\Temp\\ipykernel_15348\\2774937686.py:68: FutureWarning: The frame.append method is deprecated and will be removed from pandas in a future version. Use pandas.concat instead.\n",
      "  df = df.append([globals()[f'list']])\n",
      "C:\\Users\\smhrd\\AppData\\Roaming\\Python\\Python39\\site-packages\\sklearn\\base.py:450: UserWarning: X does not have valid feature names, but KNeighborsClassifier was fitted with feature names\n",
      "  warnings.warn(\n",
      "C:\\Users\\smhrd\\AppData\\Local\\Temp\\ipykernel_15348\\2774937686.py:68: FutureWarning: The frame.append method is deprecated and will be removed from pandas in a future version. Use pandas.concat instead.\n",
      "  df = df.append([globals()[f'list']])\n",
      "C:\\Users\\smhrd\\AppData\\Roaming\\Python\\Python39\\site-packages\\sklearn\\base.py:450: UserWarning: X does not have valid feature names, but KNeighborsClassifier was fitted with feature names\n",
      "  warnings.warn(\n",
      "C:\\Users\\smhrd\\AppData\\Local\\Temp\\ipykernel_15348\\2774937686.py:68: FutureWarning: The frame.append method is deprecated and will be removed from pandas in a future version. Use pandas.concat instead.\n",
      "  df = df.append([globals()[f'list']])\n",
      "C:\\Users\\smhrd\\AppData\\Roaming\\Python\\Python39\\site-packages\\sklearn\\base.py:450: UserWarning: X does not have valid feature names, but KNeighborsClassifier was fitted with feature names\n",
      "  warnings.warn(\n"
     ]
    },
    {
     "name": "stdout",
     "output_type": "stream",
     "text": [
      "(89.60764498866067, 146.0769193249307, -16.0)\n",
      "[[1. 0. 0. 0.]]\n",
      "(89.46750561516232, 148.0267306853101, -18.0)\n",
      "[[1. 0. 0. 0.]]\n",
      "(89.99888944449711, 147.09703850966156, -18.5)\n",
      "[[1. 0. 0. 0.]]\n",
      "(90.46421242483551, 148.1830814981453, -15.5)\n",
      "[[1. 0. 0. 0.]]\n"
     ]
    },
    {
     "name": "stderr",
     "output_type": "stream",
     "text": [
      "C:\\Users\\smhrd\\AppData\\Local\\Temp\\ipykernel_15348\\2774937686.py:68: FutureWarning: The frame.append method is deprecated and will be removed from pandas in a future version. Use pandas.concat instead.\n",
      "  df = df.append([globals()[f'list']])\n",
      "C:\\Users\\smhrd\\AppData\\Roaming\\Python\\Python39\\site-packages\\sklearn\\base.py:450: UserWarning: X does not have valid feature names, but KNeighborsClassifier was fitted with feature names\n",
      "  warnings.warn(\n",
      "C:\\Users\\smhrd\\AppData\\Local\\Temp\\ipykernel_15348\\2774937686.py:68: FutureWarning: The frame.append method is deprecated and will be removed from pandas in a future version. Use pandas.concat instead.\n",
      "  df = df.append([globals()[f'list']])\n",
      "C:\\Users\\smhrd\\AppData\\Roaming\\Python\\Python39\\site-packages\\sklearn\\base.py:450: UserWarning: X does not have valid feature names, but KNeighborsClassifier was fitted with feature names\n",
      "  warnings.warn(\n",
      "C:\\Users\\smhrd\\AppData\\Local\\Temp\\ipykernel_15348\\2774937686.py:68: FutureWarning: The frame.append method is deprecated and will be removed from pandas in a future version. Use pandas.concat instead.\n",
      "  df = df.append([globals()[f'list']])\n",
      "C:\\Users\\smhrd\\AppData\\Roaming\\Python\\Python39\\site-packages\\sklearn\\base.py:450: UserWarning: X does not have valid feature names, but KNeighborsClassifier was fitted with feature names\n",
      "  warnings.warn(\n",
      "C:\\Users\\smhrd\\AppData\\Local\\Temp\\ipykernel_15348\\2774937686.py:68: FutureWarning: The frame.append method is deprecated and will be removed from pandas in a future version. Use pandas.concat instead.\n",
      "  df = df.append([globals()[f'list']])\n",
      "C:\\Users\\smhrd\\AppData\\Roaming\\Python\\Python39\\site-packages\\sklearn\\base.py:450: UserWarning: X does not have valid feature names, but KNeighborsClassifier was fitted with feature names\n",
      "  warnings.warn(\n"
     ]
    },
    {
     "name": "stdout",
     "output_type": "stream",
     "text": [
      "(91.16442451125904, 149.5129558030625, -13.0)\n",
      "[[1. 0. 0. 0.]]\n",
      "(91.63319661191356, 148.75464363958937, -15.0)\n",
      "[[1. 0. 0. 0.]]\n",
      "(88.82912249288498, 147.94594474542848, -18.0)\n",
      "[[1. 0. 0. 0.]]\n",
      "(89.28577240532053, 145.90792647015746, -19.0)\n",
      "[[1. 0. 0. 0.]]\n"
     ]
    },
    {
     "name": "stderr",
     "output_type": "stream",
     "text": [
      "C:\\Users\\smhrd\\AppData\\Local\\Temp\\ipykernel_15348\\2774937686.py:68: FutureWarning: The frame.append method is deprecated and will be removed from pandas in a future version. Use pandas.concat instead.\n",
      "  df = df.append([globals()[f'list']])\n",
      "C:\\Users\\smhrd\\AppData\\Roaming\\Python\\Python39\\site-packages\\sklearn\\base.py:450: UserWarning: X does not have valid feature names, but KNeighborsClassifier was fitted with feature names\n",
      "  warnings.warn(\n",
      "C:\\Users\\smhrd\\AppData\\Local\\Temp\\ipykernel_15348\\2774937686.py:68: FutureWarning: The frame.append method is deprecated and will be removed from pandas in a future version. Use pandas.concat instead.\n",
      "  df = df.append([globals()[f'list']])\n",
      "C:\\Users\\smhrd\\AppData\\Roaming\\Python\\Python39\\site-packages\\sklearn\\base.py:450: UserWarning: X does not have valid feature names, but KNeighborsClassifier was fitted with feature names\n",
      "  warnings.warn(\n",
      "C:\\Users\\smhrd\\AppData\\Local\\Temp\\ipykernel_15348\\2774937686.py:68: FutureWarning: The frame.append method is deprecated and will be removed from pandas in a future version. Use pandas.concat instead.\n",
      "  df = df.append([globals()[f'list']])\n",
      "C:\\Users\\smhrd\\AppData\\Roaming\\Python\\Python39\\site-packages\\sklearn\\base.py:450: UserWarning: X does not have valid feature names, but KNeighborsClassifier was fitted with feature names\n",
      "  warnings.warn(\n",
      "C:\\Users\\smhrd\\AppData\\Local\\Temp\\ipykernel_15348\\2774937686.py:68: FutureWarning: The frame.append method is deprecated and will be removed from pandas in a future version. Use pandas.concat instead.\n",
      "  df = df.append([globals()[f'list']])\n",
      "C:\\Users\\smhrd\\AppData\\Roaming\\Python\\Python39\\site-packages\\sklearn\\base.py:450: UserWarning: X does not have valid feature names, but KNeighborsClassifier was fitted with feature names\n",
      "  warnings.warn(\n"
     ]
    },
    {
     "name": "stdout",
     "output_type": "stream",
     "text": [
      "(90.55499920299145, 146.15462708755848, -20.5)\n",
      "[[1. 0. 0. 0.]]\n",
      "(86.7339666433552, 147.03963803387748, -21.0)\n",
      "[[1. 0. 0. 0.]]\n",
      "(88.01413931648639, 144.91706153777665, -20.0)\n",
      "[[1. 0. 0. 0.]]\n",
      "(89.29062805116719, 145.08869110705513, -21.0)\n",
      "[[1. 0. 0. 0.]]\n"
     ]
    },
    {
     "name": "stderr",
     "output_type": "stream",
     "text": [
      "C:\\Users\\smhrd\\AppData\\Local\\Temp\\ipykernel_15348\\2774937686.py:68: FutureWarning: The frame.append method is deprecated and will be removed from pandas in a future version. Use pandas.concat instead.\n",
      "  df = df.append([globals()[f'list']])\n",
      "C:\\Users\\smhrd\\AppData\\Roaming\\Python\\Python39\\site-packages\\sklearn\\base.py:450: UserWarning: X does not have valid feature names, but KNeighborsClassifier was fitted with feature names\n",
      "  warnings.warn(\n",
      "C:\\Users\\smhrd\\AppData\\Local\\Temp\\ipykernel_15348\\2774937686.py:68: FutureWarning: The frame.append method is deprecated and will be removed from pandas in a future version. Use pandas.concat instead.\n",
      "  df = df.append([globals()[f'list']])\n",
      "C:\\Users\\smhrd\\AppData\\Roaming\\Python\\Python39\\site-packages\\sklearn\\base.py:450: UserWarning: X does not have valid feature names, but KNeighborsClassifier was fitted with feature names\n",
      "  warnings.warn(\n",
      "C:\\Users\\smhrd\\AppData\\Local\\Temp\\ipykernel_15348\\2774937686.py:68: FutureWarning: The frame.append method is deprecated and will be removed from pandas in a future version. Use pandas.concat instead.\n",
      "  df = df.append([globals()[f'list']])\n",
      "C:\\Users\\smhrd\\AppData\\Roaming\\Python\\Python39\\site-packages\\sklearn\\base.py:450: UserWarning: X does not have valid feature names, but KNeighborsClassifier was fitted with feature names\n",
      "  warnings.warn(\n",
      "C:\\Users\\smhrd\\AppData\\Local\\Temp\\ipykernel_15348\\2774937686.py:68: FutureWarning: The frame.append method is deprecated and will be removed from pandas in a future version. Use pandas.concat instead.\n",
      "  df = df.append([globals()[f'list']])\n",
      "C:\\Users\\smhrd\\AppData\\Roaming\\Python\\Python39\\site-packages\\sklearn\\base.py:450: UserWarning: X does not have valid feature names, but KNeighborsClassifier was fitted with feature names\n",
      "  warnings.warn(\n"
     ]
    },
    {
     "name": "stdout",
     "output_type": "stream",
     "text": [
      "(87.94481580805933, 144.7360276893256, -18.5)\n",
      "[[1. 0. 0. 0.]]\n",
      "(89.6540690232435, 145.236120173949, -20.0)\n",
      "[[1. 0. 0. 0.]]\n",
      "(89.38281536584391, 145.02538329386311, -18.0)\n",
      "[[1. 0. 0. 0.]]\n",
      "(89.67682929417981, 144.08979757799636, -17.5)\n",
      "[[1. 0. 0. 0.]]\n"
     ]
    },
    {
     "name": "stderr",
     "output_type": "stream",
     "text": [
      "C:\\Users\\smhrd\\AppData\\Local\\Temp\\ipykernel_15348\\2774937686.py:68: FutureWarning: The frame.append method is deprecated and will be removed from pandas in a future version. Use pandas.concat instead.\n",
      "  df = df.append([globals()[f'list']])\n",
      "C:\\Users\\smhrd\\AppData\\Roaming\\Python\\Python39\\site-packages\\sklearn\\base.py:450: UserWarning: X does not have valid feature names, but KNeighborsClassifier was fitted with feature names\n",
      "  warnings.warn(\n",
      "C:\\Users\\smhrd\\AppData\\Local\\Temp\\ipykernel_15348\\2774937686.py:68: FutureWarning: The frame.append method is deprecated and will be removed from pandas in a future version. Use pandas.concat instead.\n",
      "  df = df.append([globals()[f'list']])\n",
      "C:\\Users\\smhrd\\AppData\\Roaming\\Python\\Python39\\site-packages\\sklearn\\base.py:450: UserWarning: X does not have valid feature names, but KNeighborsClassifier was fitted with feature names\n",
      "  warnings.warn(\n",
      "C:\\Users\\smhrd\\AppData\\Local\\Temp\\ipykernel_15348\\2774937686.py:68: FutureWarning: The frame.append method is deprecated and will be removed from pandas in a future version. Use pandas.concat instead.\n",
      "  df = df.append([globals()[f'list']])\n",
      "C:\\Users\\smhrd\\AppData\\Roaming\\Python\\Python39\\site-packages\\sklearn\\base.py:450: UserWarning: X does not have valid feature names, but KNeighborsClassifier was fitted with feature names\n",
      "  warnings.warn(\n",
      "C:\\Users\\smhrd\\AppData\\Local\\Temp\\ipykernel_15348\\2774937686.py:68: FutureWarning: The frame.append method is deprecated and will be removed from pandas in a future version. Use pandas.concat instead.\n",
      "  df = df.append([globals()[f'list']])\n",
      "C:\\Users\\smhrd\\AppData\\Roaming\\Python\\Python39\\site-packages\\sklearn\\base.py:450: UserWarning: X does not have valid feature names, but KNeighborsClassifier was fitted with feature names\n",
      "  warnings.warn(\n"
     ]
    },
    {
     "name": "stdout",
     "output_type": "stream",
     "text": [
      "(88.67067954043536, 145.71847999642458, -19.5)\n",
      "[[1. 0. 0. 0.]]\n",
      "(88.21876583283665, 147.55841418142487, -19.0)\n",
      "[[1. 0. 0. 0.]]\n",
      "(89.02474457169978, 143.75270128043437, -20.5)\n",
      "[[1. 0. 0. 0.]]\n",
      "(91.4047613066525, 145.12096499006168, -18.0)\n",
      "[[1. 0. 0. 0.]]\n"
     ]
    },
    {
     "name": "stderr",
     "output_type": "stream",
     "text": [
      "C:\\Users\\smhrd\\AppData\\Local\\Temp\\ipykernel_15348\\2774937686.py:68: FutureWarning: The frame.append method is deprecated and will be removed from pandas in a future version. Use pandas.concat instead.\n",
      "  df = df.append([globals()[f'list']])\n",
      "C:\\Users\\smhrd\\AppData\\Roaming\\Python\\Python39\\site-packages\\sklearn\\base.py:450: UserWarning: X does not have valid feature names, but KNeighborsClassifier was fitted with feature names\n",
      "  warnings.warn(\n",
      "C:\\Users\\smhrd\\AppData\\Local\\Temp\\ipykernel_15348\\2774937686.py:68: FutureWarning: The frame.append method is deprecated and will be removed from pandas in a future version. Use pandas.concat instead.\n",
      "  df = df.append([globals()[f'list']])\n",
      "C:\\Users\\smhrd\\AppData\\Roaming\\Python\\Python39\\site-packages\\sklearn\\base.py:450: UserWarning: X does not have valid feature names, but KNeighborsClassifier was fitted with feature names\n",
      "  warnings.warn(\n",
      "C:\\Users\\smhrd\\AppData\\Local\\Temp\\ipykernel_15348\\2774937686.py:68: FutureWarning: The frame.append method is deprecated and will be removed from pandas in a future version. Use pandas.concat instead.\n",
      "  df = df.append([globals()[f'list']])\n",
      "C:\\Users\\smhrd\\AppData\\Roaming\\Python\\Python39\\site-packages\\sklearn\\base.py:450: UserWarning: X does not have valid feature names, but KNeighborsClassifier was fitted with feature names\n",
      "  warnings.warn(\n",
      "C:\\Users\\smhrd\\AppData\\Local\\Temp\\ipykernel_15348\\2774937686.py:68: FutureWarning: The frame.append method is deprecated and will be removed from pandas in a future version. Use pandas.concat instead.\n",
      "  df = df.append([globals()[f'list']])\n",
      "C:\\Users\\smhrd\\AppData\\Roaming\\Python\\Python39\\site-packages\\sklearn\\base.py:450: UserWarning: X does not have valid feature names, but KNeighborsClassifier was fitted with feature names\n",
      "  warnings.warn(\n"
     ]
    },
    {
     "name": "stdout",
     "output_type": "stream",
     "text": [
      "(90.50287805699658, 142.74289872143507, -18.5)\n",
      "[[1. 0. 0. 0.]]\n",
      "(90.69813431788688, 146.12293889927102, -17.5)\n",
      "[[1. 0. 0. 0.]]\n",
      "(91.35761695867936, 144.29873480661445, -16.0)\n",
      "[[1. 0. 0. 0.]]\n",
      "(90.67214815852923, 146.73582897718546, -13.0)\n",
      "[[1. 0. 0. 0.]]\n"
     ]
    },
    {
     "name": "stderr",
     "output_type": "stream",
     "text": [
      "C:\\Users\\smhrd\\AppData\\Local\\Temp\\ipykernel_15348\\2774937686.py:68: FutureWarning: The frame.append method is deprecated and will be removed from pandas in a future version. Use pandas.concat instead.\n",
      "  df = df.append([globals()[f'list']])\n",
      "C:\\Users\\smhrd\\AppData\\Roaming\\Python\\Python39\\site-packages\\sklearn\\base.py:450: UserWarning: X does not have valid feature names, but KNeighborsClassifier was fitted with feature names\n",
      "  warnings.warn(\n",
      "C:\\Users\\smhrd\\AppData\\Local\\Temp\\ipykernel_15348\\2774937686.py:68: FutureWarning: The frame.append method is deprecated and will be removed from pandas in a future version. Use pandas.concat instead.\n",
      "  df = df.append([globals()[f'list']])\n",
      "C:\\Users\\smhrd\\AppData\\Roaming\\Python\\Python39\\site-packages\\sklearn\\base.py:450: UserWarning: X does not have valid feature names, but KNeighborsClassifier was fitted with feature names\n",
      "  warnings.warn(\n",
      "C:\\Users\\smhrd\\AppData\\Local\\Temp\\ipykernel_15348\\2774937686.py:68: FutureWarning: The frame.append method is deprecated and will be removed from pandas in a future version. Use pandas.concat instead.\n",
      "  df = df.append([globals()[f'list']])\n",
      "C:\\Users\\smhrd\\AppData\\Roaming\\Python\\Python39\\site-packages\\sklearn\\base.py:450: UserWarning: X does not have valid feature names, but KNeighborsClassifier was fitted with feature names\n",
      "  warnings.warn(\n",
      "C:\\Users\\smhrd\\AppData\\Local\\Temp\\ipykernel_15348\\2774937686.py:68: FutureWarning: The frame.append method is deprecated and will be removed from pandas in a future version. Use pandas.concat instead.\n",
      "  df = df.append([globals()[f'list']])\n",
      "C:\\Users\\smhrd\\AppData\\Roaming\\Python\\Python39\\site-packages\\sklearn\\base.py:450: UserWarning: X does not have valid feature names, but KNeighborsClassifier was fitted with feature names\n",
      "  warnings.warn(\n"
     ]
    },
    {
     "name": "stdout",
     "output_type": "stream",
     "text": [
      "(89.81139550340019, 145.22595375191764, -14.5)\n",
      "[[1. 0. 0. 0.]]\n",
      "(89.60933935216451, 146.92265592085016, -15.0)\n",
      "[[1. 0. 0. 0.]]\n",
      "(89.1772712053952, 144.5720851362476, -16.0)\n",
      "[[1. 0. 0. 0.]]\n",
      "(89.6078912876776, 144.23128734392702, -16.0)\n",
      "[[1. 0. 0. 0.]]\n"
     ]
    },
    {
     "name": "stderr",
     "output_type": "stream",
     "text": [
      "C:\\Users\\smhrd\\AppData\\Local\\Temp\\ipykernel_15348\\2774937686.py:68: FutureWarning: The frame.append method is deprecated and will be removed from pandas in a future version. Use pandas.concat instead.\n",
      "  df = df.append([globals()[f'list']])\n",
      "C:\\Users\\smhrd\\AppData\\Roaming\\Python\\Python39\\site-packages\\sklearn\\base.py:450: UserWarning: X does not have valid feature names, but KNeighborsClassifier was fitted with feature names\n",
      "  warnings.warn(\n",
      "C:\\Users\\smhrd\\AppData\\Local\\Temp\\ipykernel_15348\\2774937686.py:68: FutureWarning: The frame.append method is deprecated and will be removed from pandas in a future version. Use pandas.concat instead.\n",
      "  df = df.append([globals()[f'list']])\n",
      "C:\\Users\\smhrd\\AppData\\Roaming\\Python\\Python39\\site-packages\\sklearn\\base.py:450: UserWarning: X does not have valid feature names, but KNeighborsClassifier was fitted with feature names\n",
      "  warnings.warn(\n",
      "C:\\Users\\smhrd\\AppData\\Local\\Temp\\ipykernel_15348\\2774937686.py:68: FutureWarning: The frame.append method is deprecated and will be removed from pandas in a future version. Use pandas.concat instead.\n",
      "  df = df.append([globals()[f'list']])\n",
      "C:\\Users\\smhrd\\AppData\\Roaming\\Python\\Python39\\site-packages\\sklearn\\base.py:450: UserWarning: X does not have valid feature names, but KNeighborsClassifier was fitted with feature names\n",
      "  warnings.warn(\n",
      "C:\\Users\\smhrd\\AppData\\Local\\Temp\\ipykernel_15348\\2774937686.py:68: FutureWarning: The frame.append method is deprecated and will be removed from pandas in a future version. Use pandas.concat instead.\n",
      "  df = df.append([globals()[f'list']])\n",
      "C:\\Users\\smhrd\\AppData\\Roaming\\Python\\Python39\\site-packages\\sklearn\\base.py:450: UserWarning: X does not have valid feature names, but KNeighborsClassifier was fitted with feature names\n",
      "  warnings.warn(\n"
     ]
    },
    {
     "name": "stdout",
     "output_type": "stream",
     "text": [
      "(88.48666008184274, 146.3869654230355, -16.0)\n",
      "[[1. 0. 0. 0.]]\n",
      "(89.124670888708, 146.675765634832, -12.0)\n",
      "[[1. 0. 0. 0.]]\n",
      "(90.23868046578883, 147.27357149662714, -13.0)\n",
      "[[1. 0. 0. 0.]]\n",
      "(87.37107385935434, 147.89922508731343, -13.0)\n",
      "[[1. 0. 0. 0.]]\n"
     ]
    },
    {
     "name": "stderr",
     "output_type": "stream",
     "text": [
      "C:\\Users\\smhrd\\AppData\\Local\\Temp\\ipykernel_15348\\2774937686.py:68: FutureWarning: The frame.append method is deprecated and will be removed from pandas in a future version. Use pandas.concat instead.\n",
      "  df = df.append([globals()[f'list']])\n",
      "C:\\Users\\smhrd\\AppData\\Roaming\\Python\\Python39\\site-packages\\sklearn\\base.py:450: UserWarning: X does not have valid feature names, but KNeighborsClassifier was fitted with feature names\n",
      "  warnings.warn(\n",
      "C:\\Users\\smhrd\\AppData\\Local\\Temp\\ipykernel_15348\\2774937686.py:68: FutureWarning: The frame.append method is deprecated and will be removed from pandas in a future version. Use pandas.concat instead.\n",
      "  df = df.append([globals()[f'list']])\n",
      "C:\\Users\\smhrd\\AppData\\Roaming\\Python\\Python39\\site-packages\\sklearn\\base.py:450: UserWarning: X does not have valid feature names, but KNeighborsClassifier was fitted with feature names\n",
      "  warnings.warn(\n",
      "C:\\Users\\smhrd\\AppData\\Local\\Temp\\ipykernel_15348\\2774937686.py:68: FutureWarning: The frame.append method is deprecated and will be removed from pandas in a future version. Use pandas.concat instead.\n",
      "  df = df.append([globals()[f'list']])\n",
      "C:\\Users\\smhrd\\AppData\\Roaming\\Python\\Python39\\site-packages\\sklearn\\base.py:450: UserWarning: X does not have valid feature names, but KNeighborsClassifier was fitted with feature names\n",
      "  warnings.warn(\n",
      "C:\\Users\\smhrd\\AppData\\Local\\Temp\\ipykernel_15348\\2774937686.py:68: FutureWarning: The frame.append method is deprecated and will be removed from pandas in a future version. Use pandas.concat instead.\n",
      "  df = df.append([globals()[f'list']])\n",
      "C:\\Users\\smhrd\\AppData\\Roaming\\Python\\Python39\\site-packages\\sklearn\\base.py:450: UserWarning: X does not have valid feature names, but KNeighborsClassifier was fitted with feature names\n",
      "  warnings.warn(\n"
     ]
    },
    {
     "name": "stdout",
     "output_type": "stream",
     "text": [
      "(88.23786470956016, 146.32918877198654, -11.5)\n",
      "[[1. 0. 0. 0.]]\n",
      "(87.31734098120832, 146.79348721818735, -13.0)\n",
      "[[1. 0. 0. 0.]]\n",
      "(87.63471465799817, 147.92202351367726, -12.0)\n",
      "[[1. 0. 0. 0.]]\n",
      "(86.65927638814684, 147.74491472983817, -12.5)\n",
      "[[1. 0. 0. 0.]]\n"
     ]
    },
    {
     "name": "stderr",
     "output_type": "stream",
     "text": [
      "C:\\Users\\smhrd\\AppData\\Local\\Temp\\ipykernel_15348\\2774937686.py:68: FutureWarning: The frame.append method is deprecated and will be removed from pandas in a future version. Use pandas.concat instead.\n",
      "  df = df.append([globals()[f'list']])\n",
      "C:\\Users\\smhrd\\AppData\\Roaming\\Python\\Python39\\site-packages\\sklearn\\base.py:450: UserWarning: X does not have valid feature names, but KNeighborsClassifier was fitted with feature names\n",
      "  warnings.warn(\n",
      "C:\\Users\\smhrd\\AppData\\Local\\Temp\\ipykernel_15348\\2774937686.py:68: FutureWarning: The frame.append method is deprecated and will be removed from pandas in a future version. Use pandas.concat instead.\n",
      "  df = df.append([globals()[f'list']])\n",
      "C:\\Users\\smhrd\\AppData\\Roaming\\Python\\Python39\\site-packages\\sklearn\\base.py:450: UserWarning: X does not have valid feature names, but KNeighborsClassifier was fitted with feature names\n",
      "  warnings.warn(\n",
      "C:\\Users\\smhrd\\AppData\\Local\\Temp\\ipykernel_15348\\2774937686.py:68: FutureWarning: The frame.append method is deprecated and will be removed from pandas in a future version. Use pandas.concat instead.\n",
      "  df = df.append([globals()[f'list']])\n",
      "C:\\Users\\smhrd\\AppData\\Roaming\\Python\\Python39\\site-packages\\sklearn\\base.py:450: UserWarning: X does not have valid feature names, but KNeighborsClassifier was fitted with feature names\n",
      "  warnings.warn(\n",
      "C:\\Users\\smhrd\\AppData\\Local\\Temp\\ipykernel_15348\\2774937686.py:68: FutureWarning: The frame.append method is deprecated and will be removed from pandas in a future version. Use pandas.concat instead.\n",
      "  df = df.append([globals()[f'list']])\n",
      "C:\\Users\\smhrd\\AppData\\Roaming\\Python\\Python39\\site-packages\\sklearn\\base.py:450: UserWarning: X does not have valid feature names, but KNeighborsClassifier was fitted with feature names\n",
      "  warnings.warn(\n"
     ]
    },
    {
     "name": "stdout",
     "output_type": "stream",
     "text": [
      "(87.24115307573913, 148.96881211818436, -8.5)\n",
      "[[1. 0. 0. 0.]]\n",
      "(85.5870612406872, 149.6811388219905, -15.0)\n",
      "[[1. 0. 0. 0.]]\n",
      "(86.48336779174888, 147.69792880467494, -11.0)\n",
      "[[1. 0. 0. 0.]]\n",
      "(86.17935325683449, 148.96314834377262, -10.5)\n",
      "[[1. 0. 0. 0.]]\n"
     ]
    },
    {
     "name": "stderr",
     "output_type": "stream",
     "text": [
      "C:\\Users\\smhrd\\AppData\\Local\\Temp\\ipykernel_15348\\2774937686.py:68: FutureWarning: The frame.append method is deprecated and will be removed from pandas in a future version. Use pandas.concat instead.\n",
      "  df = df.append([globals()[f'list']])\n",
      "C:\\Users\\smhrd\\AppData\\Roaming\\Python\\Python39\\site-packages\\sklearn\\base.py:450: UserWarning: X does not have valid feature names, but KNeighborsClassifier was fitted with feature names\n",
      "  warnings.warn(\n",
      "C:\\Users\\smhrd\\AppData\\Local\\Temp\\ipykernel_15348\\2774937686.py:68: FutureWarning: The frame.append method is deprecated and will be removed from pandas in a future version. Use pandas.concat instead.\n",
      "  df = df.append([globals()[f'list']])\n",
      "C:\\Users\\smhrd\\AppData\\Roaming\\Python\\Python39\\site-packages\\sklearn\\base.py:450: UserWarning: X does not have valid feature names, but KNeighborsClassifier was fitted with feature names\n",
      "  warnings.warn(\n",
      "C:\\Users\\smhrd\\AppData\\Local\\Temp\\ipykernel_15348\\2774937686.py:68: FutureWarning: The frame.append method is deprecated and will be removed from pandas in a future version. Use pandas.concat instead.\n",
      "  df = df.append([globals()[f'list']])\n",
      "C:\\Users\\smhrd\\AppData\\Roaming\\Python\\Python39\\site-packages\\sklearn\\base.py:450: UserWarning: X does not have valid feature names, but KNeighborsClassifier was fitted with feature names\n",
      "  warnings.warn(\n",
      "C:\\Users\\smhrd\\AppData\\Local\\Temp\\ipykernel_15348\\2774937686.py:68: FutureWarning: The frame.append method is deprecated and will be removed from pandas in a future version. Use pandas.concat instead.\n",
      "  df = df.append([globals()[f'list']])\n",
      "C:\\Users\\smhrd\\AppData\\Roaming\\Python\\Python39\\site-packages\\sklearn\\base.py:450: UserWarning: X does not have valid feature names, but KNeighborsClassifier was fitted with feature names\n",
      "  warnings.warn(\n"
     ]
    },
    {
     "name": "stdout",
     "output_type": "stream",
     "text": [
      "(87.33738091444683, 148.20736231348243, -12.5)\n",
      "[[1. 0. 0. 0.]]\n",
      "(86.65520433321223, 148.39641221874243, -11.0)\n",
      "[[1. 0. 0. 0.]]\n",
      "(85.75195006407012, 147.43443127996633, -13.5)\n",
      "[[1. 0. 0. 0.]]\n",
      "(86.04012505665945, 146.8459445221396, -14.5)\n",
      "[[1. 0. 0. 0.]]\n"
     ]
    },
    {
     "name": "stderr",
     "output_type": "stream",
     "text": [
      "C:\\Users\\smhrd\\AppData\\Local\\Temp\\ipykernel_15348\\2774937686.py:68: FutureWarning: The frame.append method is deprecated and will be removed from pandas in a future version. Use pandas.concat instead.\n",
      "  df = df.append([globals()[f'list']])\n",
      "C:\\Users\\smhrd\\AppData\\Roaming\\Python\\Python39\\site-packages\\sklearn\\base.py:450: UserWarning: X does not have valid feature names, but KNeighborsClassifier was fitted with feature names\n",
      "  warnings.warn(\n",
      "C:\\Users\\smhrd\\AppData\\Local\\Temp\\ipykernel_15348\\2774937686.py:68: FutureWarning: The frame.append method is deprecated and will be removed from pandas in a future version. Use pandas.concat instead.\n",
      "  df = df.append([globals()[f'list']])\n",
      "C:\\Users\\smhrd\\AppData\\Roaming\\Python\\Python39\\site-packages\\sklearn\\base.py:450: UserWarning: X does not have valid feature names, but KNeighborsClassifier was fitted with feature names\n",
      "  warnings.warn(\n",
      "C:\\Users\\smhrd\\AppData\\Local\\Temp\\ipykernel_15348\\2774937686.py:68: FutureWarning: The frame.append method is deprecated and will be removed from pandas in a future version. Use pandas.concat instead.\n",
      "  df = df.append([globals()[f'list']])\n",
      "C:\\Users\\smhrd\\AppData\\Roaming\\Python\\Python39\\site-packages\\sklearn\\base.py:450: UserWarning: X does not have valid feature names, but KNeighborsClassifier was fitted with feature names\n",
      "  warnings.warn(\n",
      "C:\\Users\\smhrd\\AppData\\Local\\Temp\\ipykernel_15348\\2774937686.py:68: FutureWarning: The frame.append method is deprecated and will be removed from pandas in a future version. Use pandas.concat instead.\n",
      "  df = df.append([globals()[f'list']])\n",
      "C:\\Users\\smhrd\\AppData\\Roaming\\Python\\Python39\\site-packages\\sklearn\\base.py:450: UserWarning: X does not have valid feature names, but KNeighborsClassifier was fitted with feature names\n",
      "  warnings.warn(\n"
     ]
    },
    {
     "name": "stdout",
     "output_type": "stream",
     "text": [
      "(85.32461297945865, 149.82923800653333, -11.5)\n",
      "[[1. 0. 0. 0.]]\n",
      "(84.71679004965793, 147.94523736506653, -12.5)\n",
      "[[1. 0. 0. 0.]]\n",
      "(85.17336546016557, 147.2412798137135, -14.0)\n",
      "[[1. 0. 0. 0.]]\n",
      "(84.49381466852506, 148.0094868239145, -11.0)\n",
      "[[1. 0. 0. 0.]]\n"
     ]
    },
    {
     "name": "stderr",
     "output_type": "stream",
     "text": [
      "C:\\Users\\smhrd\\AppData\\Local\\Temp\\ipykernel_15348\\2774937686.py:68: FutureWarning: The frame.append method is deprecated and will be removed from pandas in a future version. Use pandas.concat instead.\n",
      "  df = df.append([globals()[f'list']])\n",
      "C:\\Users\\smhrd\\AppData\\Roaming\\Python\\Python39\\site-packages\\sklearn\\base.py:450: UserWarning: X does not have valid feature names, but KNeighborsClassifier was fitted with feature names\n",
      "  warnings.warn(\n",
      "C:\\Users\\smhrd\\AppData\\Local\\Temp\\ipykernel_15348\\2774937686.py:68: FutureWarning: The frame.append method is deprecated and will be removed from pandas in a future version. Use pandas.concat instead.\n",
      "  df = df.append([globals()[f'list']])\n",
      "C:\\Users\\smhrd\\AppData\\Roaming\\Python\\Python39\\site-packages\\sklearn\\base.py:450: UserWarning: X does not have valid feature names, but KNeighborsClassifier was fitted with feature names\n",
      "  warnings.warn(\n",
      "C:\\Users\\smhrd\\AppData\\Local\\Temp\\ipykernel_15348\\2774937686.py:68: FutureWarning: The frame.append method is deprecated and will be removed from pandas in a future version. Use pandas.concat instead.\n",
      "  df = df.append([globals()[f'list']])\n",
      "C:\\Users\\smhrd\\AppData\\Roaming\\Python\\Python39\\site-packages\\sklearn\\base.py:450: UserWarning: X does not have valid feature names, but KNeighborsClassifier was fitted with feature names\n",
      "  warnings.warn(\n",
      "C:\\Users\\smhrd\\AppData\\Local\\Temp\\ipykernel_15348\\2774937686.py:68: FutureWarning: The frame.append method is deprecated and will be removed from pandas in a future version. Use pandas.concat instead.\n",
      "  df = df.append([globals()[f'list']])\n",
      "C:\\Users\\smhrd\\AppData\\Roaming\\Python\\Python39\\site-packages\\sklearn\\base.py:450: UserWarning: X does not have valid feature names, but KNeighborsClassifier was fitted with feature names\n",
      "  warnings.warn(\n"
     ]
    },
    {
     "name": "stdout",
     "output_type": "stream",
     "text": [
      "(83.93538466760806, 147.6243025182552, -9.0)\n",
      "[[1. 0. 0. 0.]]\n",
      "(84.39618030453606, 148.02382511702885, -9.5)\n",
      "[[1. 0. 0. 0.]]\n",
      "(83.52342404744634, 147.1026404224371, -12.5)\n",
      "[[1. 0. 0. 0.]]\n",
      "(82.41039739540719, 146.66142073391757, -11.5)\n",
      "[[1. 0. 0. 0.]]\n"
     ]
    },
    {
     "name": "stderr",
     "output_type": "stream",
     "text": [
      "C:\\Users\\smhrd\\AppData\\Local\\Temp\\ipykernel_15348\\2774937686.py:68: FutureWarning: The frame.append method is deprecated and will be removed from pandas in a future version. Use pandas.concat instead.\n",
      "  df = df.append([globals()[f'list']])\n",
      "C:\\Users\\smhrd\\AppData\\Roaming\\Python\\Python39\\site-packages\\sklearn\\base.py:450: UserWarning: X does not have valid feature names, but KNeighborsClassifier was fitted with feature names\n",
      "  warnings.warn(\n",
      "C:\\Users\\smhrd\\AppData\\Local\\Temp\\ipykernel_15348\\2774937686.py:68: FutureWarning: The frame.append method is deprecated and will be removed from pandas in a future version. Use pandas.concat instead.\n",
      "  df = df.append([globals()[f'list']])\n",
      "C:\\Users\\smhrd\\AppData\\Roaming\\Python\\Python39\\site-packages\\sklearn\\base.py:450: UserWarning: X does not have valid feature names, but KNeighborsClassifier was fitted with feature names\n",
      "  warnings.warn(\n",
      "C:\\Users\\smhrd\\AppData\\Local\\Temp\\ipykernel_15348\\2774937686.py:68: FutureWarning: The frame.append method is deprecated and will be removed from pandas in a future version. Use pandas.concat instead.\n",
      "  df = df.append([globals()[f'list']])\n",
      "C:\\Users\\smhrd\\AppData\\Roaming\\Python\\Python39\\site-packages\\sklearn\\base.py:450: UserWarning: X does not have valid feature names, but KNeighborsClassifier was fitted with feature names\n",
      "  warnings.warn(\n"
     ]
    },
    {
     "name": "stdout",
     "output_type": "stream",
     "text": [
      "(83.49566530503174, 146.94122296021348, -12.0)\n",
      "[[1. 0. 0. 0.]]\n",
      "(82.50829371954391, 148.83231742377484, -11.5)\n",
      "[[1. 0. 0. 0.]]\n",
      "(82.07230430149708, 146.72279467877289, -10.5)\n",
      "[[1. 0. 0. 0.]]\n"
     ]
    },
    {
     "name": "stderr",
     "output_type": "stream",
     "text": [
      "C:\\Users\\smhrd\\AppData\\Local\\Temp\\ipykernel_15348\\2774937686.py:68: FutureWarning: The frame.append method is deprecated and will be removed from pandas in a future version. Use pandas.concat instead.\n",
      "  df = df.append([globals()[f'list']])\n",
      "C:\\Users\\smhrd\\AppData\\Roaming\\Python\\Python39\\site-packages\\sklearn\\base.py:450: UserWarning: X does not have valid feature names, but KNeighborsClassifier was fitted with feature names\n",
      "  warnings.warn(\n",
      "C:\\Users\\smhrd\\AppData\\Local\\Temp\\ipykernel_15348\\2774937686.py:68: FutureWarning: The frame.append method is deprecated and will be removed from pandas in a future version. Use pandas.concat instead.\n",
      "  df = df.append([globals()[f'list']])\n",
      "C:\\Users\\smhrd\\AppData\\Roaming\\Python\\Python39\\site-packages\\sklearn\\base.py:450: UserWarning: X does not have valid feature names, but KNeighborsClassifier was fitted with feature names\n",
      "  warnings.warn(\n",
      "C:\\Users\\smhrd\\AppData\\Local\\Temp\\ipykernel_15348\\2774937686.py:68: FutureWarning: The frame.append method is deprecated and will be removed from pandas in a future version. Use pandas.concat instead.\n",
      "  df = df.append([globals()[f'list']])\n",
      "C:\\Users\\smhrd\\AppData\\Roaming\\Python\\Python39\\site-packages\\sklearn\\base.py:450: UserWarning: X does not have valid feature names, but KNeighborsClassifier was fitted with feature names\n",
      "  warnings.warn(\n",
      "C:\\Users\\smhrd\\AppData\\Local\\Temp\\ipykernel_15348\\2774937686.py:68: FutureWarning: The frame.append method is deprecated and will be removed from pandas in a future version. Use pandas.concat instead.\n",
      "  df = df.append([globals()[f'list']])\n",
      "C:\\Users\\smhrd\\AppData\\Roaming\\Python\\Python39\\site-packages\\sklearn\\base.py:450: UserWarning: X does not have valid feature names, but KNeighborsClassifier was fitted with feature names\n",
      "  warnings.warn(\n"
     ]
    },
    {
     "name": "stdout",
     "output_type": "stream",
     "text": [
      "(80.61385206064985, 145.73796621902878, -11.5)\n",
      "[[1. 0. 0. 0.]]\n",
      "(80.89505342700043, 147.76420313823184, -10.5)\n",
      "[[1. 0. 0. 0.]]\n",
      "(80.8741816395189, 148.1378612068012, -8.5)\n",
      "[[1. 0. 0. 0.]]\n",
      "(80.95092809422336, 148.08628948622993, -7.5)\n",
      "[[1. 0. 0. 0.]]\n"
     ]
    },
    {
     "name": "stderr",
     "output_type": "stream",
     "text": [
      "C:\\Users\\smhrd\\AppData\\Local\\Temp\\ipykernel_15348\\2774937686.py:68: FutureWarning: The frame.append method is deprecated and will be removed from pandas in a future version. Use pandas.concat instead.\n",
      "  df = df.append([globals()[f'list']])\n",
      "C:\\Users\\smhrd\\AppData\\Roaming\\Python\\Python39\\site-packages\\sklearn\\base.py:450: UserWarning: X does not have valid feature names, but KNeighborsClassifier was fitted with feature names\n",
      "  warnings.warn(\n",
      "C:\\Users\\smhrd\\AppData\\Local\\Temp\\ipykernel_15348\\2774937686.py:68: FutureWarning: The frame.append method is deprecated and will be removed from pandas in a future version. Use pandas.concat instead.\n",
      "  df = df.append([globals()[f'list']])\n",
      "C:\\Users\\smhrd\\AppData\\Roaming\\Python\\Python39\\site-packages\\sklearn\\base.py:450: UserWarning: X does not have valid feature names, but KNeighborsClassifier was fitted with feature names\n",
      "  warnings.warn(\n",
      "C:\\Users\\smhrd\\AppData\\Local\\Temp\\ipykernel_15348\\2774937686.py:68: FutureWarning: The frame.append method is deprecated and will be removed from pandas in a future version. Use pandas.concat instead.\n",
      "  df = df.append([globals()[f'list']])\n",
      "C:\\Users\\smhrd\\AppData\\Roaming\\Python\\Python39\\site-packages\\sklearn\\base.py:450: UserWarning: X does not have valid feature names, but KNeighborsClassifier was fitted with feature names\n",
      "  warnings.warn(\n",
      "C:\\Users\\smhrd\\AppData\\Local\\Temp\\ipykernel_15348\\2774937686.py:68: FutureWarning: The frame.append method is deprecated and will be removed from pandas in a future version. Use pandas.concat instead.\n",
      "  df = df.append([globals()[f'list']])\n",
      "C:\\Users\\smhrd\\AppData\\Roaming\\Python\\Python39\\site-packages\\sklearn\\base.py:450: UserWarning: X does not have valid feature names, but KNeighborsClassifier was fitted with feature names\n",
      "  warnings.warn(\n"
     ]
    },
    {
     "name": "stdout",
     "output_type": "stream",
     "text": [
      "(80.09668801453851, 148.804851210508, -12.5)\n",
      "[[1. 0. 0. 0.]]\n",
      "(79.65331653281845, 148.74035641327103, -11.5)\n",
      "[[1. 0. 0. 0.]]\n",
      "(78.29352028965288, 150.793424304892, -9.0)\n",
      "[[1. 0. 0. 0.]]\n",
      "(80.63456495098272, 151.60337472705075, -10.5)\n",
      "[[1. 0. 0. 0.]]\n"
     ]
    },
    {
     "name": "stderr",
     "output_type": "stream",
     "text": [
      "C:\\Users\\smhrd\\AppData\\Local\\Temp\\ipykernel_15348\\2774937686.py:68: FutureWarning: The frame.append method is deprecated and will be removed from pandas in a future version. Use pandas.concat instead.\n",
      "  df = df.append([globals()[f'list']])\n",
      "C:\\Users\\smhrd\\AppData\\Roaming\\Python\\Python39\\site-packages\\sklearn\\base.py:450: UserWarning: X does not have valid feature names, but KNeighborsClassifier was fitted with feature names\n",
      "  warnings.warn(\n",
      "C:\\Users\\smhrd\\AppData\\Local\\Temp\\ipykernel_15348\\2774937686.py:68: FutureWarning: The frame.append method is deprecated and will be removed from pandas in a future version. Use pandas.concat instead.\n",
      "  df = df.append([globals()[f'list']])\n",
      "C:\\Users\\smhrd\\AppData\\Roaming\\Python\\Python39\\site-packages\\sklearn\\base.py:450: UserWarning: X does not have valid feature names, but KNeighborsClassifier was fitted with feature names\n",
      "  warnings.warn(\n",
      "C:\\Users\\smhrd\\AppData\\Local\\Temp\\ipykernel_15348\\2774937686.py:68: FutureWarning: The frame.append method is deprecated and will be removed from pandas in a future version. Use pandas.concat instead.\n",
      "  df = df.append([globals()[f'list']])\n",
      "C:\\Users\\smhrd\\AppData\\Roaming\\Python\\Python39\\site-packages\\sklearn\\base.py:450: UserWarning: X does not have valid feature names, but KNeighborsClassifier was fitted with feature names\n",
      "  warnings.warn(\n"
     ]
    },
    {
     "name": "stdout",
     "output_type": "stream",
     "text": [
      "(77.99546208954769, 149.41481335152014, -10.0)\n",
      "[[1. 0. 0. 0.]]\n",
      "(76.79185798601405, 149.5143338611629, -10.5)\n",
      "[[1. 0. 0. 0.]]\n",
      "(79.49218054459232, 152.30330170348572, -8.0)\n",
      "[[1. 0. 0. 0.]]\n"
     ]
    },
    {
     "name": "stderr",
     "output_type": "stream",
     "text": [
      "C:\\Users\\smhrd\\AppData\\Local\\Temp\\ipykernel_15348\\2774937686.py:68: FutureWarning: The frame.append method is deprecated and will be removed from pandas in a future version. Use pandas.concat instead.\n",
      "  df = df.append([globals()[f'list']])\n",
      "C:\\Users\\smhrd\\AppData\\Roaming\\Python\\Python39\\site-packages\\sklearn\\base.py:450: UserWarning: X does not have valid feature names, but KNeighborsClassifier was fitted with feature names\n",
      "  warnings.warn(\n",
      "C:\\Users\\smhrd\\AppData\\Local\\Temp\\ipykernel_15348\\2774937686.py:68: FutureWarning: The frame.append method is deprecated and will be removed from pandas in a future version. Use pandas.concat instead.\n",
      "  df = df.append([globals()[f'list']])\n",
      "C:\\Users\\smhrd\\AppData\\Roaming\\Python\\Python39\\site-packages\\sklearn\\base.py:450: UserWarning: X does not have valid feature names, but KNeighborsClassifier was fitted with feature names\n",
      "  warnings.warn(\n",
      "C:\\Users\\smhrd\\AppData\\Local\\Temp\\ipykernel_15348\\2774937686.py:68: FutureWarning: The frame.append method is deprecated and will be removed from pandas in a future version. Use pandas.concat instead.\n",
      "  df = df.append([globals()[f'list']])\n",
      "C:\\Users\\smhrd\\AppData\\Roaming\\Python\\Python39\\site-packages\\sklearn\\base.py:450: UserWarning: X does not have valid feature names, but KNeighborsClassifier was fitted with feature names\n",
      "  warnings.warn(\n",
      "C:\\Users\\smhrd\\AppData\\Local\\Temp\\ipykernel_15348\\2774937686.py:68: FutureWarning: The frame.append method is deprecated and will be removed from pandas in a future version. Use pandas.concat instead.\n",
      "  df = df.append([globals()[f'list']])\n",
      "C:\\Users\\smhrd\\AppData\\Roaming\\Python\\Python39\\site-packages\\sklearn\\base.py:450: UserWarning: X does not have valid feature names, but KNeighborsClassifier was fitted with feature names\n",
      "  warnings.warn(\n"
     ]
    },
    {
     "name": "stdout",
     "output_type": "stream",
     "text": [
      "(79.68542101006919, 151.46353738910867, -8.5)\n",
      "[[1. 0. 0. 0.]]\n",
      "(78.16776874881937, 147.3212835673675, -10.0)\n",
      "[[1. 0. 0. 0.]]\n",
      "(77.77428136931249, 146.11425972087173, -12.0)\n",
      "[[1. 0. 0. 0.]]\n",
      "(77.04120710237905, 147.0417626914646, -12.5)\n",
      "[[1. 0. 0. 0.]]\n"
     ]
    },
    {
     "name": "stderr",
     "output_type": "stream",
     "text": [
      "C:\\Users\\smhrd\\AppData\\Local\\Temp\\ipykernel_15348\\2774937686.py:68: FutureWarning: The frame.append method is deprecated and will be removed from pandas in a future version. Use pandas.concat instead.\n",
      "  df = df.append([globals()[f'list']])\n",
      "C:\\Users\\smhrd\\AppData\\Roaming\\Python\\Python39\\site-packages\\sklearn\\base.py:450: UserWarning: X does not have valid feature names, but KNeighborsClassifier was fitted with feature names\n",
      "  warnings.warn(\n",
      "C:\\Users\\smhrd\\AppData\\Local\\Temp\\ipykernel_15348\\2774937686.py:68: FutureWarning: The frame.append method is deprecated and will be removed from pandas in a future version. Use pandas.concat instead.\n",
      "  df = df.append([globals()[f'list']])\n",
      "C:\\Users\\smhrd\\AppData\\Roaming\\Python\\Python39\\site-packages\\sklearn\\base.py:450: UserWarning: X does not have valid feature names, but KNeighborsClassifier was fitted with feature names\n",
      "  warnings.warn(\n",
      "C:\\Users\\smhrd\\AppData\\Local\\Temp\\ipykernel_15348\\2774937686.py:68: FutureWarning: The frame.append method is deprecated and will be removed from pandas in a future version. Use pandas.concat instead.\n",
      "  df = df.append([globals()[f'list']])\n",
      "C:\\Users\\smhrd\\AppData\\Roaming\\Python\\Python39\\site-packages\\sklearn\\base.py:450: UserWarning: X does not have valid feature names, but KNeighborsClassifier was fitted with feature names\n",
      "  warnings.warn(\n",
      "C:\\Users\\smhrd\\AppData\\Local\\Temp\\ipykernel_15348\\2774937686.py:68: FutureWarning: The frame.append method is deprecated and will be removed from pandas in a future version. Use pandas.concat instead.\n",
      "  df = df.append([globals()[f'list']])\n",
      "C:\\Users\\smhrd\\AppData\\Roaming\\Python\\Python39\\site-packages\\sklearn\\base.py:450: UserWarning: X does not have valid feature names, but KNeighborsClassifier was fitted with feature names\n",
      "  warnings.warn(\n"
     ]
    },
    {
     "name": "stdout",
     "output_type": "stream",
     "text": [
      "(76.09041817281212, 149.36801253852536, -9.5)\n",
      "[[1. 0. 0. 0.]]\n",
      "(76.54394654028056, 149.02074174474805, -11.5)\n",
      "[[1. 0. 0. 0.]]\n",
      "(74.54615625412403, 147.24753351496705, -11.0)\n",
      "[[1. 0. 0. 0.]]\n",
      "(75.30983177065836, 148.28121148601517, -9.5)\n",
      "[[1. 0. 0. 0.]]\n"
     ]
    },
    {
     "name": "stderr",
     "output_type": "stream",
     "text": [
      "C:\\Users\\smhrd\\AppData\\Local\\Temp\\ipykernel_15348\\2774937686.py:68: FutureWarning: The frame.append method is deprecated and will be removed from pandas in a future version. Use pandas.concat instead.\n",
      "  df = df.append([globals()[f'list']])\n",
      "C:\\Users\\smhrd\\AppData\\Roaming\\Python\\Python39\\site-packages\\sklearn\\base.py:450: UserWarning: X does not have valid feature names, but KNeighborsClassifier was fitted with feature names\n",
      "  warnings.warn(\n",
      "C:\\Users\\smhrd\\AppData\\Local\\Temp\\ipykernel_15348\\2774937686.py:68: FutureWarning: The frame.append method is deprecated and will be removed from pandas in a future version. Use pandas.concat instead.\n",
      "  df = df.append([globals()[f'list']])\n",
      "C:\\Users\\smhrd\\AppData\\Roaming\\Python\\Python39\\site-packages\\sklearn\\base.py:450: UserWarning: X does not have valid feature names, but KNeighborsClassifier was fitted with feature names\n",
      "  warnings.warn(\n",
      "C:\\Users\\smhrd\\AppData\\Local\\Temp\\ipykernel_15348\\2774937686.py:68: FutureWarning: The frame.append method is deprecated and will be removed from pandas in a future version. Use pandas.concat instead.\n",
      "  df = df.append([globals()[f'list']])\n",
      "C:\\Users\\smhrd\\AppData\\Roaming\\Python\\Python39\\site-packages\\sklearn\\base.py:450: UserWarning: X does not have valid feature names, but KNeighborsClassifier was fitted with feature names\n",
      "  warnings.warn(\n",
      "C:\\Users\\smhrd\\AppData\\Local\\Temp\\ipykernel_15348\\2774937686.py:68: FutureWarning: The frame.append method is deprecated and will be removed from pandas in a future version. Use pandas.concat instead.\n",
      "  df = df.append([globals()[f'list']])\n",
      "C:\\Users\\smhrd\\AppData\\Roaming\\Python\\Python39\\site-packages\\sklearn\\base.py:450: UserWarning: X does not have valid feature names, but KNeighborsClassifier was fitted with feature names\n",
      "  warnings.warn(\n"
     ]
    },
    {
     "name": "stdout",
     "output_type": "stream",
     "text": [
      "(74.04381727090042, 148.31536136967713, -9.5)\n",
      "[[1. 0. 0. 0.]]\n",
      "(73.4277667098907, 151.1729965876613, -7.0)\n",
      "[[1. 0. 0. 0.]]\n",
      "(72.38616054096653, 149.19928022370095, -9.5)\n",
      "[[1. 0. 0. 0.]]\n",
      "(73.80279466816835, 150.83432761206822, -10.0)\n",
      "[[1. 0. 0. 0.]]\n"
     ]
    },
    {
     "name": "stderr",
     "output_type": "stream",
     "text": [
      "C:\\Users\\smhrd\\AppData\\Local\\Temp\\ipykernel_15348\\2774937686.py:68: FutureWarning: The frame.append method is deprecated and will be removed from pandas in a future version. Use pandas.concat instead.\n",
      "  df = df.append([globals()[f'list']])\n",
      "C:\\Users\\smhrd\\AppData\\Roaming\\Python\\Python39\\site-packages\\sklearn\\base.py:450: UserWarning: X does not have valid feature names, but KNeighborsClassifier was fitted with feature names\n",
      "  warnings.warn(\n",
      "C:\\Users\\smhrd\\AppData\\Local\\Temp\\ipykernel_15348\\2774937686.py:68: FutureWarning: The frame.append method is deprecated and will be removed from pandas in a future version. Use pandas.concat instead.\n",
      "  df = df.append([globals()[f'list']])\n",
      "C:\\Users\\smhrd\\AppData\\Roaming\\Python\\Python39\\site-packages\\sklearn\\base.py:450: UserWarning: X does not have valid feature names, but KNeighborsClassifier was fitted with feature names\n",
      "  warnings.warn(\n",
      "C:\\Users\\smhrd\\AppData\\Local\\Temp\\ipykernel_15348\\2774937686.py:68: FutureWarning: The frame.append method is deprecated and will be removed from pandas in a future version. Use pandas.concat instead.\n",
      "  df = df.append([globals()[f'list']])\n",
      "C:\\Users\\smhrd\\AppData\\Roaming\\Python\\Python39\\site-packages\\sklearn\\base.py:450: UserWarning: X does not have valid feature names, but KNeighborsClassifier was fitted with feature names\n",
      "  warnings.warn(\n",
      "C:\\Users\\smhrd\\AppData\\Local\\Temp\\ipykernel_15348\\2774937686.py:68: FutureWarning: The frame.append method is deprecated and will be removed from pandas in a future version. Use pandas.concat instead.\n",
      "  df = df.append([globals()[f'list']])\n",
      "C:\\Users\\smhrd\\AppData\\Roaming\\Python\\Python39\\site-packages\\sklearn\\base.py:450: UserWarning: X does not have valid feature names, but KNeighborsClassifier was fitted with feature names\n",
      "  warnings.warn(\n"
     ]
    },
    {
     "name": "stdout",
     "output_type": "stream",
     "text": [
      "(72.43640269475637, 150.24992381573523, -8.0)\n",
      "[[1. 0. 0. 0.]]\n",
      "(71.51406117614029, 151.25140785732572, -10.0)\n",
      "[[1. 0. 0. 0.]]\n",
      "(70.43739991229205, 149.93704818133727, -10.0)\n",
      "[[1. 0. 0. 0.]]\n",
      "(68.20401354565956, 150.51946420622644, -9.0)\n",
      "[[1. 0. 0. 0.]]\n"
     ]
    },
    {
     "name": "stderr",
     "output_type": "stream",
     "text": [
      "C:\\Users\\smhrd\\AppData\\Local\\Temp\\ipykernel_15348\\2774937686.py:68: FutureWarning: The frame.append method is deprecated and will be removed from pandas in a future version. Use pandas.concat instead.\n",
      "  df = df.append([globals()[f'list']])\n",
      "C:\\Users\\smhrd\\AppData\\Roaming\\Python\\Python39\\site-packages\\sklearn\\base.py:450: UserWarning: X does not have valid feature names, but KNeighborsClassifier was fitted with feature names\n",
      "  warnings.warn(\n",
      "C:\\Users\\smhrd\\AppData\\Local\\Temp\\ipykernel_15348\\2774937686.py:68: FutureWarning: The frame.append method is deprecated and will be removed from pandas in a future version. Use pandas.concat instead.\n",
      "  df = df.append([globals()[f'list']])\n",
      "C:\\Users\\smhrd\\AppData\\Roaming\\Python\\Python39\\site-packages\\sklearn\\base.py:450: UserWarning: X does not have valid feature names, but KNeighborsClassifier was fitted with feature names\n",
      "  warnings.warn(\n",
      "C:\\Users\\smhrd\\AppData\\Local\\Temp\\ipykernel_15348\\2774937686.py:68: FutureWarning: The frame.append method is deprecated and will be removed from pandas in a future version. Use pandas.concat instead.\n",
      "  df = df.append([globals()[f'list']])\n",
      "C:\\Users\\smhrd\\AppData\\Roaming\\Python\\Python39\\site-packages\\sklearn\\base.py:450: UserWarning: X does not have valid feature names, but KNeighborsClassifier was fitted with feature names\n",
      "  warnings.warn(\n",
      "C:\\Users\\smhrd\\AppData\\Local\\Temp\\ipykernel_15348\\2774937686.py:68: FutureWarning: The frame.append method is deprecated and will be removed from pandas in a future version. Use pandas.concat instead.\n",
      "  df = df.append([globals()[f'list']])\n",
      "C:\\Users\\smhrd\\AppData\\Roaming\\Python\\Python39\\site-packages\\sklearn\\base.py:450: UserWarning: X does not have valid feature names, but KNeighborsClassifier was fitted with feature names\n",
      "  warnings.warn(\n"
     ]
    },
    {
     "name": "stdout",
     "output_type": "stream",
     "text": [
      "(66.78600360805373, 151.98734913606555, -7.0)\n",
      "[[1. 0. 0. 0.]]\n",
      "(66.04980425562248, 151.02842378832375, -9.0)\n",
      "[[1. 0. 0. 0.]]\n",
      "(60.830375959996545, 150.5091074882694, -10.0)\n",
      "[[1. 0. 0. 0.]]\n",
      "(58.97350620712807, 152.01596718056877, -10.0)\n",
      "[[1. 0. 0. 0.]]\n"
     ]
    },
    {
     "name": "stderr",
     "output_type": "stream",
     "text": [
      "C:\\Users\\smhrd\\AppData\\Local\\Temp\\ipykernel_15348\\2774937686.py:68: FutureWarning: The frame.append method is deprecated and will be removed from pandas in a future version. Use pandas.concat instead.\n",
      "  df = df.append([globals()[f'list']])\n",
      "C:\\Users\\smhrd\\AppData\\Roaming\\Python\\Python39\\site-packages\\sklearn\\base.py:450: UserWarning: X does not have valid feature names, but KNeighborsClassifier was fitted with feature names\n",
      "  warnings.warn(\n",
      "C:\\Users\\smhrd\\AppData\\Local\\Temp\\ipykernel_15348\\2774937686.py:68: FutureWarning: The frame.append method is deprecated and will be removed from pandas in a future version. Use pandas.concat instead.\n",
      "  df = df.append([globals()[f'list']])\n",
      "C:\\Users\\smhrd\\AppData\\Roaming\\Python\\Python39\\site-packages\\sklearn\\base.py:450: UserWarning: X does not have valid feature names, but KNeighborsClassifier was fitted with feature names\n",
      "  warnings.warn(\n",
      "C:\\Users\\smhrd\\AppData\\Local\\Temp\\ipykernel_15348\\2774937686.py:68: FutureWarning: The frame.append method is deprecated and will be removed from pandas in a future version. Use pandas.concat instead.\n",
      "  df = df.append([globals()[f'list']])\n",
      "C:\\Users\\smhrd\\AppData\\Roaming\\Python\\Python39\\site-packages\\sklearn\\base.py:450: UserWarning: X does not have valid feature names, but KNeighborsClassifier was fitted with feature names\n",
      "  warnings.warn(\n",
      "C:\\Users\\smhrd\\AppData\\Local\\Temp\\ipykernel_15348\\2774937686.py:68: FutureWarning: The frame.append method is deprecated and will be removed from pandas in a future version. Use pandas.concat instead.\n",
      "  df = df.append([globals()[f'list']])\n",
      "C:\\Users\\smhrd\\AppData\\Roaming\\Python\\Python39\\site-packages\\sklearn\\base.py:450: UserWarning: X does not have valid feature names, but KNeighborsClassifier was fitted with feature names\n",
      "  warnings.warn(\n"
     ]
    },
    {
     "name": "stdout",
     "output_type": "stream",
     "text": [
      "(56.8537703850465, 151.7784727050177, -9.0)\n",
      "[[0.66666667 0.         0.33333333 0.        ]]\n",
      "(54.473010505213765, 150.9111835395351, -7.5)\n",
      "[[0.66666667 0.         0.33333333 0.        ]]\n",
      "(51.12225796728416, 150.36371477746266, -7.0)\n",
      "[[0.33333333 0.         0.66666667 0.        ]]\n",
      "(49.79447073241771, 151.32916472991153, -5.0)\n",
      "[[0.33333333 0.         0.66666667 0.        ]]\n"
     ]
    },
    {
     "name": "stderr",
     "output_type": "stream",
     "text": [
      "C:\\Users\\smhrd\\AppData\\Local\\Temp\\ipykernel_15348\\2774937686.py:68: FutureWarning: The frame.append method is deprecated and will be removed from pandas in a future version. Use pandas.concat instead.\n",
      "  df = df.append([globals()[f'list']])\n",
      "C:\\Users\\smhrd\\AppData\\Roaming\\Python\\Python39\\site-packages\\sklearn\\base.py:450: UserWarning: X does not have valid feature names, but KNeighborsClassifier was fitted with feature names\n",
      "  warnings.warn(\n",
      "C:\\Users\\smhrd\\AppData\\Local\\Temp\\ipykernel_15348\\2774937686.py:68: FutureWarning: The frame.append method is deprecated and will be removed from pandas in a future version. Use pandas.concat instead.\n",
      "  df = df.append([globals()[f'list']])\n",
      "C:\\Users\\smhrd\\AppData\\Roaming\\Python\\Python39\\site-packages\\sklearn\\base.py:450: UserWarning: X does not have valid feature names, but KNeighborsClassifier was fitted with feature names\n",
      "  warnings.warn(\n",
      "C:\\Users\\smhrd\\AppData\\Local\\Temp\\ipykernel_15348\\2774937686.py:68: FutureWarning: The frame.append method is deprecated and will be removed from pandas in a future version. Use pandas.concat instead.\n",
      "  df = df.append([globals()[f'list']])\n",
      "C:\\Users\\smhrd\\AppData\\Roaming\\Python\\Python39\\site-packages\\sklearn\\base.py:450: UserWarning: X does not have valid feature names, but KNeighborsClassifier was fitted with feature names\n",
      "  warnings.warn(\n",
      "C:\\Users\\smhrd\\AppData\\Local\\Temp\\ipykernel_15348\\2774937686.py:68: FutureWarning: The frame.append method is deprecated and will be removed from pandas in a future version. Use pandas.concat instead.\n",
      "  df = df.append([globals()[f'list']])\n",
      "C:\\Users\\smhrd\\AppData\\Roaming\\Python\\Python39\\site-packages\\sklearn\\base.py:450: UserWarning: X does not have valid feature names, but KNeighborsClassifier was fitted with feature names\n",
      "  warnings.warn(\n"
     ]
    },
    {
     "name": "stdout",
     "output_type": "stream",
     "text": [
      "(51.423183860731676, 150.45541387300702, -4.0)\n",
      "[[0.33333333 0.         0.66666667 0.        ]]\n",
      "(47.54026401738468, 152.41451095257062, 0.5)\n",
      "[[0. 0. 1. 0.]]\n",
      "(46.62329247315227, 152.10272896905238, 0.0)\n",
      "[[0. 0. 1. 0.]]\n",
      "(46.446740589507286, 151.91593431538087, 0.5)\n",
      "[[0. 0. 1. 0.]]\n"
     ]
    },
    {
     "name": "stderr",
     "output_type": "stream",
     "text": [
      "C:\\Users\\smhrd\\AppData\\Local\\Temp\\ipykernel_15348\\2774937686.py:68: FutureWarning: The frame.append method is deprecated and will be removed from pandas in a future version. Use pandas.concat instead.\n",
      "  df = df.append([globals()[f'list']])\n",
      "C:\\Users\\smhrd\\AppData\\Roaming\\Python\\Python39\\site-packages\\sklearn\\base.py:450: UserWarning: X does not have valid feature names, but KNeighborsClassifier was fitted with feature names\n",
      "  warnings.warn(\n",
      "C:\\Users\\smhrd\\AppData\\Local\\Temp\\ipykernel_15348\\2774937686.py:68: FutureWarning: The frame.append method is deprecated and will be removed from pandas in a future version. Use pandas.concat instead.\n",
      "  df = df.append([globals()[f'list']])\n",
      "C:\\Users\\smhrd\\AppData\\Roaming\\Python\\Python39\\site-packages\\sklearn\\base.py:450: UserWarning: X does not have valid feature names, but KNeighborsClassifier was fitted with feature names\n",
      "  warnings.warn(\n",
      "C:\\Users\\smhrd\\AppData\\Local\\Temp\\ipykernel_15348\\2774937686.py:68: FutureWarning: The frame.append method is deprecated and will be removed from pandas in a future version. Use pandas.concat instead.\n",
      "  df = df.append([globals()[f'list']])\n",
      "C:\\Users\\smhrd\\AppData\\Roaming\\Python\\Python39\\site-packages\\sklearn\\base.py:450: UserWarning: X does not have valid feature names, but KNeighborsClassifier was fitted with feature names\n",
      "  warnings.warn(\n",
      "C:\\Users\\smhrd\\AppData\\Local\\Temp\\ipykernel_15348\\2774937686.py:68: FutureWarning: The frame.append method is deprecated and will be removed from pandas in a future version. Use pandas.concat instead.\n",
      "  df = df.append([globals()[f'list']])\n",
      "C:\\Users\\smhrd\\AppData\\Roaming\\Python\\Python39\\site-packages\\sklearn\\base.py:450: UserWarning: X does not have valid feature names, but KNeighborsClassifier was fitted with feature names\n",
      "  warnings.warn(\n"
     ]
    },
    {
     "name": "stdout",
     "output_type": "stream",
     "text": [
      "(48.14872267379041, 152.56335157467817, -1.0)\n",
      "[[0. 0. 1. 0.]]\n",
      "(46.441461771075716, 152.22142977915018, -1.0)\n",
      "[[0. 0. 1. 0.]]\n",
      "(51.51876364890516, 151.74093228592037, -5.0)\n",
      "[[0.33333333 0.         0.66666667 0.        ]]\n",
      "(46.5195311310912, 150.03501371798262, -3.5)\n",
      "[[0. 0. 1. 0.]]\n"
     ]
    },
    {
     "name": "stderr",
     "output_type": "stream",
     "text": [
      "C:\\Users\\smhrd\\AppData\\Local\\Temp\\ipykernel_15348\\2774937686.py:68: FutureWarning: The frame.append method is deprecated and will be removed from pandas in a future version. Use pandas.concat instead.\n",
      "  df = df.append([globals()[f'list']])\n",
      "C:\\Users\\smhrd\\AppData\\Roaming\\Python\\Python39\\site-packages\\sklearn\\base.py:450: UserWarning: X does not have valid feature names, but KNeighborsClassifier was fitted with feature names\n",
      "  warnings.warn(\n",
      "C:\\Users\\smhrd\\AppData\\Local\\Temp\\ipykernel_15348\\2774937686.py:68: FutureWarning: The frame.append method is deprecated and will be removed from pandas in a future version. Use pandas.concat instead.\n",
      "  df = df.append([globals()[f'list']])\n",
      "C:\\Users\\smhrd\\AppData\\Roaming\\Python\\Python39\\site-packages\\sklearn\\base.py:450: UserWarning: X does not have valid feature names, but KNeighborsClassifier was fitted with feature names\n",
      "  warnings.warn(\n",
      "C:\\Users\\smhrd\\AppData\\Local\\Temp\\ipykernel_15348\\2774937686.py:68: FutureWarning: The frame.append method is deprecated and will be removed from pandas in a future version. Use pandas.concat instead.\n",
      "  df = df.append([globals()[f'list']])\n",
      "C:\\Users\\smhrd\\AppData\\Roaming\\Python\\Python39\\site-packages\\sklearn\\base.py:450: UserWarning: X does not have valid feature names, but KNeighborsClassifier was fitted with feature names\n",
      "  warnings.warn(\n",
      "C:\\Users\\smhrd\\AppData\\Local\\Temp\\ipykernel_15348\\2774937686.py:68: FutureWarning: The frame.append method is deprecated and will be removed from pandas in a future version. Use pandas.concat instead.\n",
      "  df = df.append([globals()[f'list']])\n",
      "C:\\Users\\smhrd\\AppData\\Roaming\\Python\\Python39\\site-packages\\sklearn\\base.py:450: UserWarning: X does not have valid feature names, but KNeighborsClassifier was fitted with feature names\n",
      "  warnings.warn(\n"
     ]
    },
    {
     "name": "stdout",
     "output_type": "stream",
     "text": [
      "(45.527715453351306, 147.83469594584002, -6.5)\n",
      "[[0. 0. 1. 0.]]\n",
      "(44.63739229235324, 149.02341046459875, -5.0)\n",
      "[[0. 0. 1. 0.]]\n",
      "(44.46008734072535, 147.9042818934747, -6.0)\n",
      "[[0. 0. 1. 0.]]\n",
      "(45.75111370909119, 148.2340038479444, -6.0)\n",
      "[[0. 0. 1. 0.]]\n"
     ]
    },
    {
     "name": "stderr",
     "output_type": "stream",
     "text": [
      "C:\\Users\\smhrd\\AppData\\Local\\Temp\\ipykernel_15348\\2774937686.py:68: FutureWarning: The frame.append method is deprecated and will be removed from pandas in a future version. Use pandas.concat instead.\n",
      "  df = df.append([globals()[f'list']])\n",
      "C:\\Users\\smhrd\\AppData\\Roaming\\Python\\Python39\\site-packages\\sklearn\\base.py:450: UserWarning: X does not have valid feature names, but KNeighborsClassifier was fitted with feature names\n",
      "  warnings.warn(\n",
      "C:\\Users\\smhrd\\AppData\\Local\\Temp\\ipykernel_15348\\2774937686.py:68: FutureWarning: The frame.append method is deprecated and will be removed from pandas in a future version. Use pandas.concat instead.\n",
      "  df = df.append([globals()[f'list']])\n",
      "C:\\Users\\smhrd\\AppData\\Roaming\\Python\\Python39\\site-packages\\sklearn\\base.py:450: UserWarning: X does not have valid feature names, but KNeighborsClassifier was fitted with feature names\n",
      "  warnings.warn(\n",
      "C:\\Users\\smhrd\\AppData\\Local\\Temp\\ipykernel_15348\\2774937686.py:68: FutureWarning: The frame.append method is deprecated and will be removed from pandas in a future version. Use pandas.concat instead.\n",
      "  df = df.append([globals()[f'list']])\n",
      "C:\\Users\\smhrd\\AppData\\Roaming\\Python\\Python39\\site-packages\\sklearn\\base.py:450: UserWarning: X does not have valid feature names, but KNeighborsClassifier was fitted with feature names\n",
      "  warnings.warn(\n",
      "C:\\Users\\smhrd\\AppData\\Local\\Temp\\ipykernel_15348\\2774937686.py:68: FutureWarning: The frame.append method is deprecated and will be removed from pandas in a future version. Use pandas.concat instead.\n",
      "  df = df.append([globals()[f'list']])\n",
      "C:\\Users\\smhrd\\AppData\\Roaming\\Python\\Python39\\site-packages\\sklearn\\base.py:450: UserWarning: X does not have valid feature names, but KNeighborsClassifier was fitted with feature names\n",
      "  warnings.warn(\n"
     ]
    },
    {
     "name": "stdout",
     "output_type": "stream",
     "text": [
      "(48.00066819087889, 147.504349612414, -3.0)\n",
      "[[0. 0. 1. 0.]]\n",
      "(53.22083675112666, 149.2835975990575, -3.5)\n",
      "[[0. 0. 1. 0.]]\n",
      "(48.30074702172744, 149.64421334280885, -2.0)\n",
      "[[0. 0. 1. 0.]]\n",
      "(51.713119424616394, 149.35018297834728, -2.5)\n",
      "[[0. 0. 1. 0.]]\n"
     ]
    },
    {
     "name": "stderr",
     "output_type": "stream",
     "text": [
      "C:\\Users\\smhrd\\AppData\\Local\\Temp\\ipykernel_15348\\2774937686.py:68: FutureWarning: The frame.append method is deprecated and will be removed from pandas in a future version. Use pandas.concat instead.\n",
      "  df = df.append([globals()[f'list']])\n",
      "C:\\Users\\smhrd\\AppData\\Roaming\\Python\\Python39\\site-packages\\sklearn\\base.py:450: UserWarning: X does not have valid feature names, but KNeighborsClassifier was fitted with feature names\n",
      "  warnings.warn(\n",
      "C:\\Users\\smhrd\\AppData\\Local\\Temp\\ipykernel_15348\\2774937686.py:68: FutureWarning: The frame.append method is deprecated and will be removed from pandas in a future version. Use pandas.concat instead.\n",
      "  df = df.append([globals()[f'list']])\n",
      "C:\\Users\\smhrd\\AppData\\Roaming\\Python\\Python39\\site-packages\\sklearn\\base.py:450: UserWarning: X does not have valid feature names, but KNeighborsClassifier was fitted with feature names\n",
      "  warnings.warn(\n",
      "C:\\Users\\smhrd\\AppData\\Local\\Temp\\ipykernel_15348\\2774937686.py:68: FutureWarning: The frame.append method is deprecated and will be removed from pandas in a future version. Use pandas.concat instead.\n",
      "  df = df.append([globals()[f'list']])\n",
      "C:\\Users\\smhrd\\AppData\\Roaming\\Python\\Python39\\site-packages\\sklearn\\base.py:450: UserWarning: X does not have valid feature names, but KNeighborsClassifier was fitted with feature names\n",
      "  warnings.warn(\n",
      "C:\\Users\\smhrd\\AppData\\Local\\Temp\\ipykernel_15348\\2774937686.py:68: FutureWarning: The frame.append method is deprecated and will be removed from pandas in a future version. Use pandas.concat instead.\n",
      "  df = df.append([globals()[f'list']])\n",
      "C:\\Users\\smhrd\\AppData\\Roaming\\Python\\Python39\\site-packages\\sklearn\\base.py:450: UserWarning: X does not have valid feature names, but KNeighborsClassifier was fitted with feature names\n",
      "  warnings.warn(\n"
     ]
    },
    {
     "name": "stdout",
     "output_type": "stream",
     "text": [
      "(52.8378209073162, 149.019671015127, -2.5)\n",
      "[[0. 0. 1. 0.]]\n",
      "(51.75813099074928, 153.58962636116019, -1.0)\n",
      "[[0.33333333 0.         0.66666667 0.        ]]\n",
      "(51.19141524892987, 155.82790784604262, -1.5)\n",
      "[[0.33333333 0.         0.66666667 0.        ]]\n",
      "(51.589376978331686, 152.58775320284477, -4.0)\n",
      "[[0.33333333 0.         0.66666667 0.        ]]\n"
     ]
    },
    {
     "name": "stderr",
     "output_type": "stream",
     "text": [
      "C:\\Users\\smhrd\\AppData\\Local\\Temp\\ipykernel_15348\\2774937686.py:68: FutureWarning: The frame.append method is deprecated and will be removed from pandas in a future version. Use pandas.concat instead.\n",
      "  df = df.append([globals()[f'list']])\n",
      "C:\\Users\\smhrd\\AppData\\Roaming\\Python\\Python39\\site-packages\\sklearn\\base.py:450: UserWarning: X does not have valid feature names, but KNeighborsClassifier was fitted with feature names\n",
      "  warnings.warn(\n",
      "C:\\Users\\smhrd\\AppData\\Local\\Temp\\ipykernel_15348\\2774937686.py:68: FutureWarning: The frame.append method is deprecated and will be removed from pandas in a future version. Use pandas.concat instead.\n",
      "  df = df.append([globals()[f'list']])\n",
      "C:\\Users\\smhrd\\AppData\\Roaming\\Python\\Python39\\site-packages\\sklearn\\base.py:450: UserWarning: X does not have valid feature names, but KNeighborsClassifier was fitted with feature names\n",
      "  warnings.warn(\n",
      "C:\\Users\\smhrd\\AppData\\Local\\Temp\\ipykernel_15348\\2774937686.py:68: FutureWarning: The frame.append method is deprecated and will be removed from pandas in a future version. Use pandas.concat instead.\n",
      "  df = df.append([globals()[f'list']])\n",
      "C:\\Users\\smhrd\\AppData\\Roaming\\Python\\Python39\\site-packages\\sklearn\\base.py:450: UserWarning: X does not have valid feature names, but KNeighborsClassifier was fitted with feature names\n",
      "  warnings.warn(\n",
      "C:\\Users\\smhrd\\AppData\\Local\\Temp\\ipykernel_15348\\2774937686.py:68: FutureWarning: The frame.append method is deprecated and will be removed from pandas in a future version. Use pandas.concat instead.\n",
      "  df = df.append([globals()[f'list']])\n",
      "C:\\Users\\smhrd\\AppData\\Roaming\\Python\\Python39\\site-packages\\sklearn\\base.py:450: UserWarning: X does not have valid feature names, but KNeighborsClassifier was fitted with feature names\n",
      "  warnings.warn(\n"
     ]
    },
    {
     "name": "stdout",
     "output_type": "stream",
     "text": [
      "(54.72850519275865, 154.15755641441322, -1.0)\n",
      "[[0.66666667 0.         0.33333333 0.        ]]\n",
      "(56.87016278475284, 154.82567116069987, -1.5)\n",
      "[[0.66666667 0.         0.33333333 0.        ]]\n",
      "(57.257520544763906, 155.3349045747777, -2.5)\n",
      "[[0.66666667 0.         0.33333333 0.        ]]\n",
      "(53.11044447582335, 156.55612328784906, -1.5)\n",
      "[[0.66666667 0.         0.33333333 0.        ]]\n"
     ]
    },
    {
     "name": "stderr",
     "output_type": "stream",
     "text": [
      "C:\\Users\\smhrd\\AppData\\Local\\Temp\\ipykernel_15348\\2774937686.py:68: FutureWarning: The frame.append method is deprecated and will be removed from pandas in a future version. Use pandas.concat instead.\n",
      "  df = df.append([globals()[f'list']])\n",
      "C:\\Users\\smhrd\\AppData\\Roaming\\Python\\Python39\\site-packages\\sklearn\\base.py:450: UserWarning: X does not have valid feature names, but KNeighborsClassifier was fitted with feature names\n",
      "  warnings.warn(\n",
      "C:\\Users\\smhrd\\AppData\\Local\\Temp\\ipykernel_15348\\2774937686.py:68: FutureWarning: The frame.append method is deprecated and will be removed from pandas in a future version. Use pandas.concat instead.\n",
      "  df = df.append([globals()[f'list']])\n",
      "C:\\Users\\smhrd\\AppData\\Roaming\\Python\\Python39\\site-packages\\sklearn\\base.py:450: UserWarning: X does not have valid feature names, but KNeighborsClassifier was fitted with feature names\n",
      "  warnings.warn(\n",
      "C:\\Users\\smhrd\\AppData\\Local\\Temp\\ipykernel_15348\\2774937686.py:68: FutureWarning: The frame.append method is deprecated and will be removed from pandas in a future version. Use pandas.concat instead.\n",
      "  df = df.append([globals()[f'list']])\n",
      "C:\\Users\\smhrd\\AppData\\Roaming\\Python\\Python39\\site-packages\\sklearn\\base.py:450: UserWarning: X does not have valid feature names, but KNeighborsClassifier was fitted with feature names\n",
      "  warnings.warn(\n",
      "C:\\Users\\smhrd\\AppData\\Local\\Temp\\ipykernel_15348\\2774937686.py:68: FutureWarning: The frame.append method is deprecated and will be removed from pandas in a future version. Use pandas.concat instead.\n",
      "  df = df.append([globals()[f'list']])\n",
      "C:\\Users\\smhrd\\AppData\\Roaming\\Python\\Python39\\site-packages\\sklearn\\base.py:450: UserWarning: X does not have valid feature names, but KNeighborsClassifier was fitted with feature names\n",
      "  warnings.warn(\n"
     ]
    },
    {
     "name": "stdout",
     "output_type": "stream",
     "text": [
      "(53.80135042520929, 154.07385199230254, -3.5)\n",
      "[[0.66666667 0.         0.33333333 0.        ]]\n",
      "(52.93092014750951, 156.73882537195945, -1.0)\n",
      "[[0.66666667 0.         0.33333333 0.        ]]\n",
      "(54.28146491882858, 156.72145312091655, -2.5)\n",
      "[[0.66666667 0.         0.33333333 0.        ]]\n",
      "(54.56605634977821, 154.94992027241065, -4.5)\n",
      "[[0.66666667 0.         0.33333333 0.        ]]\n"
     ]
    },
    {
     "name": "stderr",
     "output_type": "stream",
     "text": [
      "C:\\Users\\smhrd\\AppData\\Local\\Temp\\ipykernel_15348\\2774937686.py:68: FutureWarning: The frame.append method is deprecated and will be removed from pandas in a future version. Use pandas.concat instead.\n",
      "  df = df.append([globals()[f'list']])\n",
      "C:\\Users\\smhrd\\AppData\\Roaming\\Python\\Python39\\site-packages\\sklearn\\base.py:450: UserWarning: X does not have valid feature names, but KNeighborsClassifier was fitted with feature names\n",
      "  warnings.warn(\n",
      "C:\\Users\\smhrd\\AppData\\Local\\Temp\\ipykernel_15348\\2774937686.py:68: FutureWarning: The frame.append method is deprecated and will be removed from pandas in a future version. Use pandas.concat instead.\n",
      "  df = df.append([globals()[f'list']])\n",
      "C:\\Users\\smhrd\\AppData\\Roaming\\Python\\Python39\\site-packages\\sklearn\\base.py:450: UserWarning: X does not have valid feature names, but KNeighborsClassifier was fitted with feature names\n",
      "  warnings.warn(\n",
      "C:\\Users\\smhrd\\AppData\\Local\\Temp\\ipykernel_15348\\2774937686.py:68: FutureWarning: The frame.append method is deprecated and will be removed from pandas in a future version. Use pandas.concat instead.\n",
      "  df = df.append([globals()[f'list']])\n",
      "C:\\Users\\smhrd\\AppData\\Roaming\\Python\\Python39\\site-packages\\sklearn\\base.py:450: UserWarning: X does not have valid feature names, but KNeighborsClassifier was fitted with feature names\n",
      "  warnings.warn(\n",
      "C:\\Users\\smhrd\\AppData\\Local\\Temp\\ipykernel_15348\\2774937686.py:68: FutureWarning: The frame.append method is deprecated and will be removed from pandas in a future version. Use pandas.concat instead.\n",
      "  df = df.append([globals()[f'list']])\n",
      "C:\\Users\\smhrd\\AppData\\Roaming\\Python\\Python39\\site-packages\\sklearn\\base.py:450: UserWarning: X does not have valid feature names, but KNeighborsClassifier was fitted with feature names\n",
      "  warnings.warn(\n"
     ]
    },
    {
     "name": "stdout",
     "output_type": "stream",
     "text": [
      "(53.55633796693574, 157.83097455115336, -1.5)\n",
      "[[0.66666667 0.         0.33333333 0.        ]]\n",
      "(56.26521489745712, 156.90028553910145, 1.0)\n",
      "[[0.66666667 0.         0.33333333 0.        ]]\n",
      "(51.59648570937265, 156.55442965783658, 1.5)\n",
      "[[0.66666667 0.         0.33333333 0.        ]]\n",
      "(56.13494374710948, 155.63584272736634, 1.5)\n",
      "[[0.66666667 0.         0.33333333 0.        ]]\n"
     ]
    },
    {
     "name": "stderr",
     "output_type": "stream",
     "text": [
      "C:\\Users\\smhrd\\AppData\\Local\\Temp\\ipykernel_15348\\2774937686.py:68: FutureWarning: The frame.append method is deprecated and will be removed from pandas in a future version. Use pandas.concat instead.\n",
      "  df = df.append([globals()[f'list']])\n",
      "C:\\Users\\smhrd\\AppData\\Roaming\\Python\\Python39\\site-packages\\sklearn\\base.py:450: UserWarning: X does not have valid feature names, but KNeighborsClassifier was fitted with feature names\n",
      "  warnings.warn(\n",
      "C:\\Users\\smhrd\\AppData\\Local\\Temp\\ipykernel_15348\\2774937686.py:68: FutureWarning: The frame.append method is deprecated and will be removed from pandas in a future version. Use pandas.concat instead.\n",
      "  df = df.append([globals()[f'list']])\n",
      "C:\\Users\\smhrd\\AppData\\Roaming\\Python\\Python39\\site-packages\\sklearn\\base.py:450: UserWarning: X does not have valid feature names, but KNeighborsClassifier was fitted with feature names\n",
      "  warnings.warn(\n",
      "C:\\Users\\smhrd\\AppData\\Local\\Temp\\ipykernel_15348\\2774937686.py:68: FutureWarning: The frame.append method is deprecated and will be removed from pandas in a future version. Use pandas.concat instead.\n",
      "  df = df.append([globals()[f'list']])\n",
      "C:\\Users\\smhrd\\AppData\\Roaming\\Python\\Python39\\site-packages\\sklearn\\base.py:450: UserWarning: X does not have valid feature names, but KNeighborsClassifier was fitted with feature names\n",
      "  warnings.warn(\n",
      "C:\\Users\\smhrd\\AppData\\Local\\Temp\\ipykernel_15348\\2774937686.py:68: FutureWarning: The frame.append method is deprecated and will be removed from pandas in a future version. Use pandas.concat instead.\n",
      "  df = df.append([globals()[f'list']])\n",
      "C:\\Users\\smhrd\\AppData\\Roaming\\Python\\Python39\\site-packages\\sklearn\\base.py:450: UserWarning: X does not have valid feature names, but KNeighborsClassifier was fitted with feature names\n",
      "  warnings.warn(\n"
     ]
    },
    {
     "name": "stdout",
     "output_type": "stream",
     "text": [
      "(57.281041475591415, 155.60913934739543, -2.0)\n",
      "[[0.66666667 0.         0.33333333 0.        ]]\n",
      "(55.17599754713854, 150.95163318864869, -1.5)\n",
      "[[0.33333333 0.         0.66666667 0.        ]]\n",
      "(54.057432970124424, 151.9469174051898, -4.5)\n",
      "[[0.66666667 0.         0.33333333 0.        ]]\n",
      "(51.818214571651865, 146.9106451226297, -0.5)\n",
      "[[0. 0. 1. 0.]]\n"
     ]
    },
    {
     "name": "stderr",
     "output_type": "stream",
     "text": [
      "C:\\Users\\smhrd\\AppData\\Local\\Temp\\ipykernel_15348\\2774937686.py:68: FutureWarning: The frame.append method is deprecated and will be removed from pandas in a future version. Use pandas.concat instead.\n",
      "  df = df.append([globals()[f'list']])\n",
      "C:\\Users\\smhrd\\AppData\\Roaming\\Python\\Python39\\site-packages\\sklearn\\base.py:450: UserWarning: X does not have valid feature names, but KNeighborsClassifier was fitted with feature names\n",
      "  warnings.warn(\n",
      "C:\\Users\\smhrd\\AppData\\Local\\Temp\\ipykernel_15348\\2774937686.py:68: FutureWarning: The frame.append method is deprecated and will be removed from pandas in a future version. Use pandas.concat instead.\n",
      "  df = df.append([globals()[f'list']])\n",
      "C:\\Users\\smhrd\\AppData\\Roaming\\Python\\Python39\\site-packages\\sklearn\\base.py:450: UserWarning: X does not have valid feature names, but KNeighborsClassifier was fitted with feature names\n",
      "  warnings.warn(\n",
      "C:\\Users\\smhrd\\AppData\\Local\\Temp\\ipykernel_15348\\2774937686.py:68: FutureWarning: The frame.append method is deprecated and will be removed from pandas in a future version. Use pandas.concat instead.\n",
      "  df = df.append([globals()[f'list']])\n",
      "C:\\Users\\smhrd\\AppData\\Roaming\\Python\\Python39\\site-packages\\sklearn\\base.py:450: UserWarning: X does not have valid feature names, but KNeighborsClassifier was fitted with feature names\n",
      "  warnings.warn(\n"
     ]
    },
    {
     "name": "stdout",
     "output_type": "stream",
     "text": [
      "(51.69432317368962, 149.68713251619, 6.0)\n",
      "[[0. 0. 1. 0.]]\n",
      "(54.49250504767369, 146.25955488833486, -4.5)\n",
      "[[0. 0. 1. 0.]]\n",
      "(52.34739169683528, 151.20289038367676, -7.0)\n",
      "[[0.33333333 0.         0.66666667 0.        ]]\n"
     ]
    },
    {
     "name": "stderr",
     "output_type": "stream",
     "text": [
      "C:\\Users\\smhrd\\AppData\\Local\\Temp\\ipykernel_15348\\2774937686.py:68: FutureWarning: The frame.append method is deprecated and will be removed from pandas in a future version. Use pandas.concat instead.\n",
      "  df = df.append([globals()[f'list']])\n",
      "C:\\Users\\smhrd\\AppData\\Roaming\\Python\\Python39\\site-packages\\sklearn\\base.py:450: UserWarning: X does not have valid feature names, but KNeighborsClassifier was fitted with feature names\n",
      "  warnings.warn(\n",
      "C:\\Users\\smhrd\\AppData\\Local\\Temp\\ipykernel_15348\\2774937686.py:68: FutureWarning: The frame.append method is deprecated and will be removed from pandas in a future version. Use pandas.concat instead.\n",
      "  df = df.append([globals()[f'list']])\n",
      "C:\\Users\\smhrd\\AppData\\Roaming\\Python\\Python39\\site-packages\\sklearn\\base.py:450: UserWarning: X does not have valid feature names, but KNeighborsClassifier was fitted with feature names\n",
      "  warnings.warn(\n",
      "C:\\Users\\smhrd\\AppData\\Local\\Temp\\ipykernel_15348\\2774937686.py:68: FutureWarning: The frame.append method is deprecated and will be removed from pandas in a future version. Use pandas.concat instead.\n",
      "  df = df.append([globals()[f'list']])\n",
      "C:\\Users\\smhrd\\AppData\\Roaming\\Python\\Python39\\site-packages\\sklearn\\base.py:450: UserWarning: X does not have valid feature names, but KNeighborsClassifier was fitted with feature names\n",
      "  warnings.warn(\n",
      "C:\\Users\\smhrd\\AppData\\Local\\Temp\\ipykernel_15348\\2774937686.py:68: FutureWarning: The frame.append method is deprecated and will be removed from pandas in a future version. Use pandas.concat instead.\n",
      "  df = df.append([globals()[f'list']])\n",
      "C:\\Users\\smhrd\\AppData\\Roaming\\Python\\Python39\\site-packages\\sklearn\\base.py:450: UserWarning: X does not have valid feature names, but KNeighborsClassifier was fitted with feature names\n",
      "  warnings.warn(\n"
     ]
    },
    {
     "name": "stdout",
     "output_type": "stream",
     "text": [
      "(55.70520955178869, 151.41681526386563, -6.0)\n",
      "[[0.66666667 0.         0.33333333 0.        ]]\n",
      "(57.13150869449455, 153.81396441192814, -11.5)\n",
      "[[1. 0. 0. 0.]]\n",
      "(59.646319749628766, 152.9596999273861, -14.0)\n",
      "[[1. 0. 0. 0.]]\n",
      "(59.67959537718154, 149.9068752820135, -13.0)\n",
      "[[1. 0. 0. 0.]]\n"
     ]
    },
    {
     "name": "stderr",
     "output_type": "stream",
     "text": [
      "C:\\Users\\smhrd\\AppData\\Local\\Temp\\ipykernel_15348\\2774937686.py:68: FutureWarning: The frame.append method is deprecated and will be removed from pandas in a future version. Use pandas.concat instead.\n",
      "  df = df.append([globals()[f'list']])\n",
      "C:\\Users\\smhrd\\AppData\\Roaming\\Python\\Python39\\site-packages\\sklearn\\base.py:450: UserWarning: X does not have valid feature names, but KNeighborsClassifier was fitted with feature names\n",
      "  warnings.warn(\n",
      "C:\\Users\\smhrd\\AppData\\Local\\Temp\\ipykernel_15348\\2774937686.py:68: FutureWarning: The frame.append method is deprecated and will be removed from pandas in a future version. Use pandas.concat instead.\n",
      "  df = df.append([globals()[f'list']])\n",
      "C:\\Users\\smhrd\\AppData\\Roaming\\Python\\Python39\\site-packages\\sklearn\\base.py:450: UserWarning: X does not have valid feature names, but KNeighborsClassifier was fitted with feature names\n",
      "  warnings.warn(\n",
      "C:\\Users\\smhrd\\AppData\\Local\\Temp\\ipykernel_15348\\2774937686.py:68: FutureWarning: The frame.append method is deprecated and will be removed from pandas in a future version. Use pandas.concat instead.\n",
      "  df = df.append([globals()[f'list']])\n",
      "C:\\Users\\smhrd\\AppData\\Roaming\\Python\\Python39\\site-packages\\sklearn\\base.py:450: UserWarning: X does not have valid feature names, but KNeighborsClassifier was fitted with feature names\n",
      "  warnings.warn(\n",
      "C:\\Users\\smhrd\\AppData\\Local\\Temp\\ipykernel_15348\\2774937686.py:68: FutureWarning: The frame.append method is deprecated and will be removed from pandas in a future version. Use pandas.concat instead.\n",
      "  df = df.append([globals()[f'list']])\n",
      "C:\\Users\\smhrd\\AppData\\Roaming\\Python\\Python39\\site-packages\\sklearn\\base.py:450: UserWarning: X does not have valid feature names, but KNeighborsClassifier was fitted with feature names\n",
      "  warnings.warn(\n"
     ]
    },
    {
     "name": "stdout",
     "output_type": "stream",
     "text": [
      "(60.38159924708508, 149.86333605022398, -14.0)\n",
      "[[1. 0. 0. 0.]]\n",
      "(59.390383720201505, 149.5519028873579, -14.0)\n",
      "[[1. 0. 0. 0.]]\n",
      "(58.2592534636704, 150.6839588626038, -11.5)\n",
      "[[0.66666667 0.         0.33333333 0.        ]]\n",
      "(58.87655758694925, 152.0364106947889, -12.0)\n",
      "[[1. 0. 0. 0.]]\n"
     ]
    },
    {
     "name": "stderr",
     "output_type": "stream",
     "text": [
      "C:\\Users\\smhrd\\AppData\\Local\\Temp\\ipykernel_15348\\2774937686.py:68: FutureWarning: The frame.append method is deprecated and will be removed from pandas in a future version. Use pandas.concat instead.\n",
      "  df = df.append([globals()[f'list']])\n",
      "C:\\Users\\smhrd\\AppData\\Roaming\\Python\\Python39\\site-packages\\sklearn\\base.py:450: UserWarning: X does not have valid feature names, but KNeighborsClassifier was fitted with feature names\n",
      "  warnings.warn(\n",
      "C:\\Users\\smhrd\\AppData\\Local\\Temp\\ipykernel_15348\\2774937686.py:68: FutureWarning: The frame.append method is deprecated and will be removed from pandas in a future version. Use pandas.concat instead.\n",
      "  df = df.append([globals()[f'list']])\n",
      "C:\\Users\\smhrd\\AppData\\Roaming\\Python\\Python39\\site-packages\\sklearn\\base.py:450: UserWarning: X does not have valid feature names, but KNeighborsClassifier was fitted with feature names\n",
      "  warnings.warn(\n",
      "C:\\Users\\smhrd\\AppData\\Local\\Temp\\ipykernel_15348\\2774937686.py:68: FutureWarning: The frame.append method is deprecated and will be removed from pandas in a future version. Use pandas.concat instead.\n",
      "  df = df.append([globals()[f'list']])\n",
      "C:\\Users\\smhrd\\AppData\\Roaming\\Python\\Python39\\site-packages\\sklearn\\base.py:450: UserWarning: X does not have valid feature names, but KNeighborsClassifier was fitted with feature names\n",
      "  warnings.warn(\n",
      "C:\\Users\\smhrd\\AppData\\Local\\Temp\\ipykernel_15348\\2774937686.py:68: FutureWarning: The frame.append method is deprecated and will be removed from pandas in a future version. Use pandas.concat instead.\n",
      "  df = df.append([globals()[f'list']])\n",
      "C:\\Users\\smhrd\\AppData\\Roaming\\Python\\Python39\\site-packages\\sklearn\\base.py:450: UserWarning: X does not have valid feature names, but KNeighborsClassifier was fitted with feature names\n",
      "  warnings.warn(\n"
     ]
    },
    {
     "name": "stdout",
     "output_type": "stream",
     "text": [
      "(54.87143282709202, 154.02580949194768, -9.5)\n",
      "[[0.66666667 0.         0.33333333 0.        ]]\n",
      "(54.90215370575048, 149.6782956795292, -12.5)\n",
      "[[0.66666667 0.         0.33333333 0.        ]]\n",
      "(61.00060006673107, 150.60521377000435, -12.0)\n",
      "[[1. 0. 0. 0.]]\n",
      "(69.42646295259112, 148.29445887641995, -9.5)\n",
      "[[1. 0. 0. 0.]]\n"
     ]
    },
    {
     "name": "stderr",
     "output_type": "stream",
     "text": [
      "C:\\Users\\smhrd\\AppData\\Local\\Temp\\ipykernel_15348\\2774937686.py:68: FutureWarning: The frame.append method is deprecated and will be removed from pandas in a future version. Use pandas.concat instead.\n",
      "  df = df.append([globals()[f'list']])\n",
      "C:\\Users\\smhrd\\AppData\\Roaming\\Python\\Python39\\site-packages\\sklearn\\base.py:450: UserWarning: X does not have valid feature names, but KNeighborsClassifier was fitted with feature names\n",
      "  warnings.warn(\n",
      "C:\\Users\\smhrd\\AppData\\Local\\Temp\\ipykernel_15348\\2774937686.py:68: FutureWarning: The frame.append method is deprecated and will be removed from pandas in a future version. Use pandas.concat instead.\n",
      "  df = df.append([globals()[f'list']])\n",
      "C:\\Users\\smhrd\\AppData\\Roaming\\Python\\Python39\\site-packages\\sklearn\\base.py:450: UserWarning: X does not have valid feature names, but KNeighborsClassifier was fitted with feature names\n",
      "  warnings.warn(\n",
      "C:\\Users\\smhrd\\AppData\\Local\\Temp\\ipykernel_15348\\2774937686.py:68: FutureWarning: The frame.append method is deprecated and will be removed from pandas in a future version. Use pandas.concat instead.\n",
      "  df = df.append([globals()[f'list']])\n",
      "C:\\Users\\smhrd\\AppData\\Roaming\\Python\\Python39\\site-packages\\sklearn\\base.py:450: UserWarning: X does not have valid feature names, but KNeighborsClassifier was fitted with feature names\n",
      "  warnings.warn(\n",
      "C:\\Users\\smhrd\\AppData\\Local\\Temp\\ipykernel_15348\\2774937686.py:68: FutureWarning: The frame.append method is deprecated and will be removed from pandas in a future version. Use pandas.concat instead.\n",
      "  df = df.append([globals()[f'list']])\n",
      "C:\\Users\\smhrd\\AppData\\Roaming\\Python\\Python39\\site-packages\\sklearn\\base.py:450: UserWarning: X does not have valid feature names, but KNeighborsClassifier was fitted with feature names\n",
      "  warnings.warn(\n"
     ]
    },
    {
     "name": "stdout",
     "output_type": "stream",
     "text": [
      "(64.51937408889218, 146.10576483028888, -10.5)\n",
      "[[1. 0. 0. 0.]]\n",
      "(62.53644433621047, 149.7731009803521, -10.0)\n",
      "[[1. 0. 0. 0.]]\n",
      "(59.0806473181271, 148.46184809932856, -8.0)\n",
      "[[0.66666667 0.         0.33333333 0.        ]]\n",
      "(61.8590169835688, 151.21873984277764, -5.5)\n",
      "[[0.66666667 0.         0.33333333 0.        ]]\n"
     ]
    },
    {
     "name": "stderr",
     "output_type": "stream",
     "text": [
      "C:\\Users\\smhrd\\AppData\\Local\\Temp\\ipykernel_15348\\2774937686.py:68: FutureWarning: The frame.append method is deprecated and will be removed from pandas in a future version. Use pandas.concat instead.\n",
      "  df = df.append([globals()[f'list']])\n",
      "C:\\Users\\smhrd\\AppData\\Roaming\\Python\\Python39\\site-packages\\sklearn\\base.py:450: UserWarning: X does not have valid feature names, but KNeighborsClassifier was fitted with feature names\n",
      "  warnings.warn(\n",
      "C:\\Users\\smhrd\\AppData\\Local\\Temp\\ipykernel_15348\\2774937686.py:68: FutureWarning: The frame.append method is deprecated and will be removed from pandas in a future version. Use pandas.concat instead.\n",
      "  df = df.append([globals()[f'list']])\n",
      "C:\\Users\\smhrd\\AppData\\Roaming\\Python\\Python39\\site-packages\\sklearn\\base.py:450: UserWarning: X does not have valid feature names, but KNeighborsClassifier was fitted with feature names\n",
      "  warnings.warn(\n",
      "C:\\Users\\smhrd\\AppData\\Local\\Temp\\ipykernel_15348\\2774937686.py:68: FutureWarning: The frame.append method is deprecated and will be removed from pandas in a future version. Use pandas.concat instead.\n",
      "  df = df.append([globals()[f'list']])\n",
      "C:\\Users\\smhrd\\AppData\\Roaming\\Python\\Python39\\site-packages\\sklearn\\base.py:450: UserWarning: X does not have valid feature names, but KNeighborsClassifier was fitted with feature names\n",
      "  warnings.warn(\n",
      "C:\\Users\\smhrd\\AppData\\Local\\Temp\\ipykernel_15348\\2774937686.py:68: FutureWarning: The frame.append method is deprecated and will be removed from pandas in a future version. Use pandas.concat instead.\n",
      "  df = df.append([globals()[f'list']])\n",
      "C:\\Users\\smhrd\\AppData\\Roaming\\Python\\Python39\\site-packages\\sklearn\\base.py:450: UserWarning: X does not have valid feature names, but KNeighborsClassifier was fitted with feature names\n",
      "  warnings.warn(\n"
     ]
    },
    {
     "name": "stdout",
     "output_type": "stream",
     "text": [
      "(59.87854852417569, 148.50029247882827, -9.5)\n",
      "[[0.66666667 0.         0.33333333 0.        ]]\n",
      "(58.99255071113445, 150.6395538785833, -7.5)\n",
      "[[0.66666667 0.         0.33333333 0.        ]]\n",
      "(61.82921272013297, 150.43756960329708, -6.5)\n",
      "[[0.66666667 0.         0.33333333 0.        ]]\n",
      "(59.40714423271094, 151.19051625212276, -7.0)\n",
      "[[0.66666667 0.         0.33333333 0.        ]]\n"
     ]
    },
    {
     "name": "stderr",
     "output_type": "stream",
     "text": [
      "C:\\Users\\smhrd\\AppData\\Local\\Temp\\ipykernel_15348\\2774937686.py:68: FutureWarning: The frame.append method is deprecated and will be removed from pandas in a future version. Use pandas.concat instead.\n",
      "  df = df.append([globals()[f'list']])\n",
      "C:\\Users\\smhrd\\AppData\\Roaming\\Python\\Python39\\site-packages\\sklearn\\base.py:450: UserWarning: X does not have valid feature names, but KNeighborsClassifier was fitted with feature names\n",
      "  warnings.warn(\n",
      "C:\\Users\\smhrd\\AppData\\Local\\Temp\\ipykernel_15348\\2774937686.py:68: FutureWarning: The frame.append method is deprecated and will be removed from pandas in a future version. Use pandas.concat instead.\n",
      "  df = df.append([globals()[f'list']])\n",
      "C:\\Users\\smhrd\\AppData\\Roaming\\Python\\Python39\\site-packages\\sklearn\\base.py:450: UserWarning: X does not have valid feature names, but KNeighborsClassifier was fitted with feature names\n",
      "  warnings.warn(\n",
      "C:\\Users\\smhrd\\AppData\\Local\\Temp\\ipykernel_15348\\2774937686.py:68: FutureWarning: The frame.append method is deprecated and will be removed from pandas in a future version. Use pandas.concat instead.\n",
      "  df = df.append([globals()[f'list']])\n",
      "C:\\Users\\smhrd\\AppData\\Roaming\\Python\\Python39\\site-packages\\sklearn\\base.py:450: UserWarning: X does not have valid feature names, but KNeighborsClassifier was fitted with feature names\n",
      "  warnings.warn(\n",
      "C:\\Users\\smhrd\\AppData\\Local\\Temp\\ipykernel_15348\\2774937686.py:68: FutureWarning: The frame.append method is deprecated and will be removed from pandas in a future version. Use pandas.concat instead.\n",
      "  df = df.append([globals()[f'list']])\n",
      "C:\\Users\\smhrd\\AppData\\Roaming\\Python\\Python39\\site-packages\\sklearn\\base.py:450: UserWarning: X does not have valid feature names, but KNeighborsClassifier was fitted with feature names\n",
      "  warnings.warn(\n"
     ]
    },
    {
     "name": "stdout",
     "output_type": "stream",
     "text": [
      "(62.003081002790715, 150.88096443327422, -6.5)\n",
      "[[0.66666667 0.         0.33333333 0.        ]]\n",
      "(60.797512381230106, 150.0639665413833, -7.0)\n",
      "[[0.66666667 0.         0.33333333 0.        ]]\n",
      "(60.946404172340436, 148.17335950292406, -6.0)\n",
      "[[0.66666667 0.         0.33333333 0.        ]]\n",
      "(58.736268305622566, 146.20375032430022, -6.5)\n",
      "[[0.66666667 0.         0.33333333 0.        ]]\n"
     ]
    },
    {
     "name": "stderr",
     "output_type": "stream",
     "text": [
      "C:\\Users\\smhrd\\AppData\\Local\\Temp\\ipykernel_15348\\2774937686.py:68: FutureWarning: The frame.append method is deprecated and will be removed from pandas in a future version. Use pandas.concat instead.\n",
      "  df = df.append([globals()[f'list']])\n",
      "C:\\Users\\smhrd\\AppData\\Roaming\\Python\\Python39\\site-packages\\sklearn\\base.py:450: UserWarning: X does not have valid feature names, but KNeighborsClassifier was fitted with feature names\n",
      "  warnings.warn(\n",
      "C:\\Users\\smhrd\\AppData\\Local\\Temp\\ipykernel_15348\\2774937686.py:68: FutureWarning: The frame.append method is deprecated and will be removed from pandas in a future version. Use pandas.concat instead.\n",
      "  df = df.append([globals()[f'list']])\n",
      "C:\\Users\\smhrd\\AppData\\Roaming\\Python\\Python39\\site-packages\\sklearn\\base.py:450: UserWarning: X does not have valid feature names, but KNeighborsClassifier was fitted with feature names\n",
      "  warnings.warn(\n",
      "C:\\Users\\smhrd\\AppData\\Local\\Temp\\ipykernel_15348\\2774937686.py:68: FutureWarning: The frame.append method is deprecated and will be removed from pandas in a future version. Use pandas.concat instead.\n",
      "  df = df.append([globals()[f'list']])\n",
      "C:\\Users\\smhrd\\AppData\\Roaming\\Python\\Python39\\site-packages\\sklearn\\base.py:450: UserWarning: X does not have valid feature names, but KNeighborsClassifier was fitted with feature names\n",
      "  warnings.warn(\n",
      "C:\\Users\\smhrd\\AppData\\Local\\Temp\\ipykernel_15348\\2774937686.py:68: FutureWarning: The frame.append method is deprecated and will be removed from pandas in a future version. Use pandas.concat instead.\n",
      "  df = df.append([globals()[f'list']])\n",
      "C:\\Users\\smhrd\\AppData\\Roaming\\Python\\Python39\\site-packages\\sklearn\\base.py:450: UserWarning: X does not have valid feature names, but KNeighborsClassifier was fitted with feature names\n",
      "  warnings.warn(\n"
     ]
    },
    {
     "name": "stdout",
     "output_type": "stream",
     "text": [
      "(57.49615813327472, 146.60137478848003, -7.5)\n",
      "[[0.66666667 0.         0.33333333 0.        ]]\n",
      "(62.581838981458546, 146.72641243824322, -5.5)\n",
      "[[0.66666667 0.         0.33333333 0.        ]]\n",
      "(58.674960431194116, 146.27981460312677, -5.5)\n",
      "[[0.66666667 0.         0.33333333 0.        ]]\n",
      "(57.20154373832078, 149.46313691550586, -1.5)\n",
      "[[0.66666667 0.         0.33333333 0.        ]]\n"
     ]
    },
    {
     "name": "stderr",
     "output_type": "stream",
     "text": [
      "C:\\Users\\smhrd\\AppData\\Local\\Temp\\ipykernel_15348\\2774937686.py:68: FutureWarning: The frame.append method is deprecated and will be removed from pandas in a future version. Use pandas.concat instead.\n",
      "  df = df.append([globals()[f'list']])\n",
      "C:\\Users\\smhrd\\AppData\\Roaming\\Python\\Python39\\site-packages\\sklearn\\base.py:450: UserWarning: X does not have valid feature names, but KNeighborsClassifier was fitted with feature names\n",
      "  warnings.warn(\n",
      "C:\\Users\\smhrd\\AppData\\Local\\Temp\\ipykernel_15348\\2774937686.py:68: FutureWarning: The frame.append method is deprecated and will be removed from pandas in a future version. Use pandas.concat instead.\n",
      "  df = df.append([globals()[f'list']])\n",
      "C:\\Users\\smhrd\\AppData\\Roaming\\Python\\Python39\\site-packages\\sklearn\\base.py:450: UserWarning: X does not have valid feature names, but KNeighborsClassifier was fitted with feature names\n",
      "  warnings.warn(\n",
      "C:\\Users\\smhrd\\AppData\\Local\\Temp\\ipykernel_15348\\2774937686.py:68: FutureWarning: The frame.append method is deprecated and will be removed from pandas in a future version. Use pandas.concat instead.\n",
      "  df = df.append([globals()[f'list']])\n",
      "C:\\Users\\smhrd\\AppData\\Roaming\\Python\\Python39\\site-packages\\sklearn\\base.py:450: UserWarning: X does not have valid feature names, but KNeighborsClassifier was fitted with feature names\n",
      "  warnings.warn(\n",
      "C:\\Users\\smhrd\\AppData\\Local\\Temp\\ipykernel_15348\\2774937686.py:68: FutureWarning: The frame.append method is deprecated and will be removed from pandas in a future version. Use pandas.concat instead.\n",
      "  df = df.append([globals()[f'list']])\n",
      "C:\\Users\\smhrd\\AppData\\Roaming\\Python\\Python39\\site-packages\\sklearn\\base.py:450: UserWarning: X does not have valid feature names, but KNeighborsClassifier was fitted with feature names\n",
      "  warnings.warn(\n"
     ]
    },
    {
     "name": "stdout",
     "output_type": "stream",
     "text": [
      "(53.29478270222189, 145.3885948350491, -6.0)\n",
      "[[0. 0. 1. 0.]]\n",
      "(56.274751630952096, 148.36182201004618, -5.0)\n",
      "[[0.33333333 0.         0.66666667 0.        ]]\n",
      "(63.37980321939691, 147.43870633132363, -4.0)\n",
      "[[0.66666667 0.         0.33333333 0.        ]]\n",
      "(72.51757233287442, 147.67947544719578, -8.0)\n",
      "[[1. 0. 0. 0.]]\n"
     ]
    },
    {
     "name": "stderr",
     "output_type": "stream",
     "text": [
      "C:\\Users\\smhrd\\AppData\\Local\\Temp\\ipykernel_15348\\2774937686.py:68: FutureWarning: The frame.append method is deprecated and will be removed from pandas in a future version. Use pandas.concat instead.\n",
      "  df = df.append([globals()[f'list']])\n",
      "C:\\Users\\smhrd\\AppData\\Roaming\\Python\\Python39\\site-packages\\sklearn\\base.py:450: UserWarning: X does not have valid feature names, but KNeighborsClassifier was fitted with feature names\n",
      "  warnings.warn(\n",
      "C:\\Users\\smhrd\\AppData\\Local\\Temp\\ipykernel_15348\\2774937686.py:68: FutureWarning: The frame.append method is deprecated and will be removed from pandas in a future version. Use pandas.concat instead.\n",
      "  df = df.append([globals()[f'list']])\n",
      "C:\\Users\\smhrd\\AppData\\Roaming\\Python\\Python39\\site-packages\\sklearn\\base.py:450: UserWarning: X does not have valid feature names, but KNeighborsClassifier was fitted with feature names\n",
      "  warnings.warn(\n",
      "C:\\Users\\smhrd\\AppData\\Local\\Temp\\ipykernel_15348\\2774937686.py:68: FutureWarning: The frame.append method is deprecated and will be removed from pandas in a future version. Use pandas.concat instead.\n",
      "  df = df.append([globals()[f'list']])\n",
      "C:\\Users\\smhrd\\AppData\\Roaming\\Python\\Python39\\site-packages\\sklearn\\base.py:450: UserWarning: X does not have valid feature names, but KNeighborsClassifier was fitted with feature names\n",
      "  warnings.warn(\n"
     ]
    },
    {
     "name": "stdout",
     "output_type": "stream",
     "text": [
      "(75.94514595038294, 152.92834202373925, -3.0)\n",
      "[[1. 0. 0. 0.]]\n",
      "(82.65504487171198, 142.4409473216029, -10.5)\n",
      "[[1. 0. 0. 0.]]\n",
      "(84.59509744913784, 147.80160557742443, -4.0)\n",
      "[[1. 0. 0. 0.]]\n"
     ]
    },
    {
     "name": "stderr",
     "output_type": "stream",
     "text": [
      "C:\\Users\\smhrd\\AppData\\Local\\Temp\\ipykernel_15348\\2774937686.py:68: FutureWarning: The frame.append method is deprecated and will be removed from pandas in a future version. Use pandas.concat instead.\n",
      "  df = df.append([globals()[f'list']])\n",
      "C:\\Users\\smhrd\\AppData\\Roaming\\Python\\Python39\\site-packages\\sklearn\\base.py:450: UserWarning: X does not have valid feature names, but KNeighborsClassifier was fitted with feature names\n",
      "  warnings.warn(\n",
      "C:\\Users\\smhrd\\AppData\\Local\\Temp\\ipykernel_15348\\2774937686.py:68: FutureWarning: The frame.append method is deprecated and will be removed from pandas in a future version. Use pandas.concat instead.\n",
      "  df = df.append([globals()[f'list']])\n",
      "C:\\Users\\smhrd\\AppData\\Roaming\\Python\\Python39\\site-packages\\sklearn\\base.py:450: UserWarning: X does not have valid feature names, but KNeighborsClassifier was fitted with feature names\n",
      "  warnings.warn(\n",
      "C:\\Users\\smhrd\\AppData\\Local\\Temp\\ipykernel_15348\\2774937686.py:68: FutureWarning: The frame.append method is deprecated and will be removed from pandas in a future version. Use pandas.concat instead.\n",
      "  df = df.append([globals()[f'list']])\n",
      "C:\\Users\\smhrd\\AppData\\Roaming\\Python\\Python39\\site-packages\\sklearn\\base.py:450: UserWarning: X does not have valid feature names, but KNeighborsClassifier was fitted with feature names\n",
      "  warnings.warn(\n",
      "C:\\Users\\smhrd\\AppData\\Local\\Temp\\ipykernel_15348\\2774937686.py:68: FutureWarning: The frame.append method is deprecated and will be removed from pandas in a future version. Use pandas.concat instead.\n",
      "  df = df.append([globals()[f'list']])\n",
      "C:\\Users\\smhrd\\AppData\\Roaming\\Python\\Python39\\site-packages\\sklearn\\base.py:450: UserWarning: X does not have valid feature names, but KNeighborsClassifier was fitted with feature names\n",
      "  warnings.warn(\n"
     ]
    },
    {
     "name": "stdout",
     "output_type": "stream",
     "text": [
      "(90.72193434196767, 144.02239167136057, 1.0)\n",
      "[[1. 0. 0. 0.]]\n",
      "(98.63531983607164, 138.44738685186522, -4.5)\n",
      "[[1. 0. 0. 0.]]\n",
      "(101.55767306055478, 130.86841097865369, -7.0)\n",
      "[[0.66666667 0.         0.33333333 0.        ]]\n",
      "(77.37799603132058, 131.89598307442728, 1.5)\n",
      "[[0.66666667 0.         0.33333333 0.        ]]\n"
     ]
    },
    {
     "name": "stderr",
     "output_type": "stream",
     "text": [
      "C:\\Users\\smhrd\\AppData\\Local\\Temp\\ipykernel_15348\\2774937686.py:68: FutureWarning: The frame.append method is deprecated and will be removed from pandas in a future version. Use pandas.concat instead.\n",
      "  df = df.append([globals()[f'list']])\n",
      "C:\\Users\\smhrd\\AppData\\Roaming\\Python\\Python39\\site-packages\\sklearn\\base.py:450: UserWarning: X does not have valid feature names, but KNeighborsClassifier was fitted with feature names\n",
      "  warnings.warn(\n",
      "C:\\Users\\smhrd\\AppData\\Local\\Temp\\ipykernel_15348\\2774937686.py:68: FutureWarning: The frame.append method is deprecated and will be removed from pandas in a future version. Use pandas.concat instead.\n",
      "  df = df.append([globals()[f'list']])\n",
      "C:\\Users\\smhrd\\AppData\\Roaming\\Python\\Python39\\site-packages\\sklearn\\base.py:450: UserWarning: X does not have valid feature names, but KNeighborsClassifier was fitted with feature names\n",
      "  warnings.warn(\n",
      "C:\\Users\\smhrd\\AppData\\Local\\Temp\\ipykernel_15348\\2774937686.py:68: FutureWarning: The frame.append method is deprecated and will be removed from pandas in a future version. Use pandas.concat instead.\n",
      "  df = df.append([globals()[f'list']])\n",
      "C:\\Users\\smhrd\\AppData\\Roaming\\Python\\Python39\\site-packages\\sklearn\\base.py:450: UserWarning: X does not have valid feature names, but KNeighborsClassifier was fitted with feature names\n",
      "  warnings.warn(\n",
      "C:\\Users\\smhrd\\AppData\\Local\\Temp\\ipykernel_15348\\2774937686.py:68: FutureWarning: The frame.append method is deprecated and will be removed from pandas in a future version. Use pandas.concat instead.\n",
      "  df = df.append([globals()[f'list']])\n",
      "C:\\Users\\smhrd\\AppData\\Roaming\\Python\\Python39\\site-packages\\sklearn\\base.py:450: UserWarning: X does not have valid feature names, but KNeighborsClassifier was fitted with feature names\n",
      "  warnings.warn(\n"
     ]
    },
    {
     "name": "stdout",
     "output_type": "stream",
     "text": [
      "(84.40936752077451, 128.51188488348944, 0.0)\n",
      "[[0.66666667 0.         0.33333333 0.        ]]\n",
      "(100.32664238456685, 127.08972970933479, 7.5)\n",
      "[[0.33333333 0.         0.66666667 0.        ]]\n",
      "(114.54423888038646, 124.75256561867997, 10.0)\n",
      "[[0. 0. 1. 0.]]\n",
      "(128.87059946634923, 122.84099141540611, 22.5)\n",
      "[[0. 0. 1. 0.]]\n"
     ]
    },
    {
     "name": "stderr",
     "output_type": "stream",
     "text": [
      "C:\\Users\\smhrd\\AppData\\Local\\Temp\\ipykernel_15348\\2774937686.py:68: FutureWarning: The frame.append method is deprecated and will be removed from pandas in a future version. Use pandas.concat instead.\n",
      "  df = df.append([globals()[f'list']])\n",
      "C:\\Users\\smhrd\\AppData\\Roaming\\Python\\Python39\\site-packages\\sklearn\\base.py:450: UserWarning: X does not have valid feature names, but KNeighborsClassifier was fitted with feature names\n",
      "  warnings.warn(\n",
      "C:\\Users\\smhrd\\AppData\\Local\\Temp\\ipykernel_15348\\2774937686.py:68: FutureWarning: The frame.append method is deprecated and will be removed from pandas in a future version. Use pandas.concat instead.\n",
      "  df = df.append([globals()[f'list']])\n",
      "C:\\Users\\smhrd\\AppData\\Roaming\\Python\\Python39\\site-packages\\sklearn\\base.py:450: UserWarning: X does not have valid feature names, but KNeighborsClassifier was fitted with feature names\n",
      "  warnings.warn(\n",
      "C:\\Users\\smhrd\\AppData\\Local\\Temp\\ipykernel_15348\\2774937686.py:68: FutureWarning: The frame.append method is deprecated and will be removed from pandas in a future version. Use pandas.concat instead.\n",
      "  df = df.append([globals()[f'list']])\n",
      "C:\\Users\\smhrd\\AppData\\Roaming\\Python\\Python39\\site-packages\\sklearn\\base.py:450: UserWarning: X does not have valid feature names, but KNeighborsClassifier was fitted with feature names\n",
      "  warnings.warn(\n"
     ]
    },
    {
     "name": "stdout",
     "output_type": "stream",
     "text": [
      "(121.8920990643494, 128.1040282938586, 36.5)\n",
      "[[0.33333333 0.         0.66666667 0.        ]]\n",
      "(147.47410305995044, 126.39300806364359, 33.5)\n",
      "[[0. 0. 1. 0.]]\n",
      "(150.12465296569204, 127.6253256388447, 60.5)\n",
      "[[0.33333333 0.         0.66666667 0.        ]]\n"
     ]
    },
    {
     "name": "stderr",
     "output_type": "stream",
     "text": [
      "C:\\Users\\smhrd\\AppData\\Local\\Temp\\ipykernel_15348\\2774937686.py:68: FutureWarning: The frame.append method is deprecated and will be removed from pandas in a future version. Use pandas.concat instead.\n",
      "  df = df.append([globals()[f'list']])\n",
      "C:\\Users\\smhrd\\AppData\\Roaming\\Python\\Python39\\site-packages\\sklearn\\base.py:450: UserWarning: X does not have valid feature names, but KNeighborsClassifier was fitted with feature names\n",
      "  warnings.warn(\n",
      "C:\\Users\\smhrd\\AppData\\Local\\Temp\\ipykernel_15348\\2774937686.py:68: FutureWarning: The frame.append method is deprecated and will be removed from pandas in a future version. Use pandas.concat instead.\n",
      "  df = df.append([globals()[f'list']])\n",
      "C:\\Users\\smhrd\\AppData\\Roaming\\Python\\Python39\\site-packages\\sklearn\\base.py:450: UserWarning: X does not have valid feature names, but KNeighborsClassifier was fitted with feature names\n",
      "  warnings.warn(\n",
      "C:\\Users\\smhrd\\AppData\\Local\\Temp\\ipykernel_15348\\2774937686.py:68: FutureWarning: The frame.append method is deprecated and will be removed from pandas in a future version. Use pandas.concat instead.\n",
      "  df = df.append([globals()[f'list']])\n",
      "C:\\Users\\smhrd\\AppData\\Roaming\\Python\\Python39\\site-packages\\sklearn\\base.py:450: UserWarning: X does not have valid feature names, but KNeighborsClassifier was fitted with feature names\n",
      "  warnings.warn(\n",
      "C:\\Users\\smhrd\\AppData\\Local\\Temp\\ipykernel_15348\\2774937686.py:68: FutureWarning: The frame.append method is deprecated and will be removed from pandas in a future version. Use pandas.concat instead.\n",
      "  df = df.append([globals()[f'list']])\n",
      "C:\\Users\\smhrd\\AppData\\Roaming\\Python\\Python39\\site-packages\\sklearn\\base.py:450: UserWarning: X does not have valid feature names, but KNeighborsClassifier was fitted with feature names\n",
      "  warnings.warn(\n"
     ]
    },
    {
     "name": "stdout",
     "output_type": "stream",
     "text": [
      "(151.42770228830912, 119.04925573914073, 68.0)\n",
      "[[0.33333333 0.         0.66666667 0.        ]]\n",
      "(152.23184435105605, 124.87636311775275, 79.5)\n",
      "[[0.33333333 0.         0.66666667 0.        ]]\n",
      "(152.2692718974925, 114.09727593065392, 89.5)\n",
      "[[0.33333333 0.         0.66666667 0.        ]]\n",
      "(159.24309268986968, 119.32903628227622, 108.0)\n",
      "[[0.33333333 0.         0.66666667 0.        ]]\n"
     ]
    },
    {
     "name": "stderr",
     "output_type": "stream",
     "text": [
      "C:\\Users\\smhrd\\AppData\\Local\\Temp\\ipykernel_15348\\2774937686.py:68: FutureWarning: The frame.append method is deprecated and will be removed from pandas in a future version. Use pandas.concat instead.\n",
      "  df = df.append([globals()[f'list']])\n",
      "C:\\Users\\smhrd\\AppData\\Roaming\\Python\\Python39\\site-packages\\sklearn\\base.py:450: UserWarning: X does not have valid feature names, but KNeighborsClassifier was fitted with feature names\n",
      "  warnings.warn(\n",
      "C:\\Users\\smhrd\\AppData\\Local\\Temp\\ipykernel_15348\\2774937686.py:68: FutureWarning: The frame.append method is deprecated and will be removed from pandas in a future version. Use pandas.concat instead.\n",
      "  df = df.append([globals()[f'list']])\n",
      "C:\\Users\\smhrd\\AppData\\Roaming\\Python\\Python39\\site-packages\\sklearn\\base.py:450: UserWarning: X does not have valid feature names, but KNeighborsClassifier was fitted with feature names\n",
      "  warnings.warn(\n",
      "C:\\Users\\smhrd\\AppData\\Local\\Temp\\ipykernel_15348\\2774937686.py:68: FutureWarning: The frame.append method is deprecated and will be removed from pandas in a future version. Use pandas.concat instead.\n",
      "  df = df.append([globals()[f'list']])\n",
      "C:\\Users\\smhrd\\AppData\\Roaming\\Python\\Python39\\site-packages\\sklearn\\base.py:450: UserWarning: X does not have valid feature names, but KNeighborsClassifier was fitted with feature names\n",
      "  warnings.warn(\n",
      "C:\\Users\\smhrd\\AppData\\Local\\Temp\\ipykernel_15348\\2774937686.py:68: FutureWarning: The frame.append method is deprecated and will be removed from pandas in a future version. Use pandas.concat instead.\n",
      "  df = df.append([globals()[f'list']])\n",
      "C:\\Users\\smhrd\\AppData\\Roaming\\Python\\Python39\\site-packages\\sklearn\\base.py:450: UserWarning: X does not have valid feature names, but KNeighborsClassifier was fitted with feature names\n",
      "  warnings.warn(\n"
     ]
    },
    {
     "name": "stdout",
     "output_type": "stream",
     "text": [
      "(161.55851460810769, 117.43101753588566, 116.5)\n",
      "[[0.33333333 0.         0.66666667 0.        ]]\n",
      "(162.06410694437074, 127.74616324487381, 141.5)\n",
      "[[0.33333333 0.         0.66666667 0.        ]]\n",
      "(158.36001417499787, 124.71408593923962, 158.0)\n",
      "[[0.33333333 0.         0.66666667 0.        ]]\n",
      "(165.51718179665812, 126.08194765379685, 167.5)\n",
      "[[0.33333333 0.         0.66666667 0.        ]]\n"
     ]
    },
    {
     "name": "stderr",
     "output_type": "stream",
     "text": [
      "C:\\Users\\smhrd\\AppData\\Local\\Temp\\ipykernel_15348\\2774937686.py:68: FutureWarning: The frame.append method is deprecated and will be removed from pandas in a future version. Use pandas.concat instead.\n",
      "  df = df.append([globals()[f'list']])\n",
      "C:\\Users\\smhrd\\AppData\\Roaming\\Python\\Python39\\site-packages\\sklearn\\base.py:450: UserWarning: X does not have valid feature names, but KNeighborsClassifier was fitted with feature names\n",
      "  warnings.warn(\n",
      "C:\\Users\\smhrd\\AppData\\Local\\Temp\\ipykernel_15348\\2774937686.py:68: FutureWarning: The frame.append method is deprecated and will be removed from pandas in a future version. Use pandas.concat instead.\n",
      "  df = df.append([globals()[f'list']])\n",
      "C:\\Users\\smhrd\\AppData\\Roaming\\Python\\Python39\\site-packages\\sklearn\\base.py:450: UserWarning: X does not have valid feature names, but KNeighborsClassifier was fitted with feature names\n",
      "  warnings.warn(\n",
      "C:\\Users\\smhrd\\AppData\\Local\\Temp\\ipykernel_15348\\2774937686.py:68: FutureWarning: The frame.append method is deprecated and will be removed from pandas in a future version. Use pandas.concat instead.\n",
      "  df = df.append([globals()[f'list']])\n",
      "C:\\Users\\smhrd\\AppData\\Roaming\\Python\\Python39\\site-packages\\sklearn\\base.py:450: UserWarning: X does not have valid feature names, but KNeighborsClassifier was fitted with feature names\n",
      "  warnings.warn(\n",
      "C:\\Users\\smhrd\\AppData\\Local\\Temp\\ipykernel_15348\\2774937686.py:68: FutureWarning: The frame.append method is deprecated and will be removed from pandas in a future version. Use pandas.concat instead.\n",
      "  df = df.append([globals()[f'list']])\n",
      "C:\\Users\\smhrd\\AppData\\Roaming\\Python\\Python39\\site-packages\\sklearn\\base.py:450: UserWarning: X does not have valid feature names, but KNeighborsClassifier was fitted with feature names\n",
      "  warnings.warn(\n"
     ]
    },
    {
     "name": "stdout",
     "output_type": "stream",
     "text": [
      "(158.47199834254607, 119.6999690582507, 170.0)\n",
      "[[0.33333333 0.         0.66666667 0.        ]]\n",
      "(138.83314787607728, 115.26774169661056, 174.0)\n",
      "[[0.66666667 0.         0.33333333 0.        ]]\n",
      "(160.70179141086976, 119.0352190385177, 186.0)\n",
      "[[0.66666667 0.         0.33333333 0.        ]]\n",
      "(162.7934737275061, 125.42831422905455, 196.0)\n",
      "[[0.33333333 0.         0.66666667 0.        ]]\n"
     ]
    },
    {
     "name": "stderr",
     "output_type": "stream",
     "text": [
      "C:\\Users\\smhrd\\AppData\\Local\\Temp\\ipykernel_15348\\2774937686.py:68: FutureWarning: The frame.append method is deprecated and will be removed from pandas in a future version. Use pandas.concat instead.\n",
      "  df = df.append([globals()[f'list']])\n",
      "C:\\Users\\smhrd\\AppData\\Roaming\\Python\\Python39\\site-packages\\sklearn\\base.py:450: UserWarning: X does not have valid feature names, but KNeighborsClassifier was fitted with feature names\n",
      "  warnings.warn(\n",
      "C:\\Users\\smhrd\\AppData\\Local\\Temp\\ipykernel_15348\\2774937686.py:68: FutureWarning: The frame.append method is deprecated and will be removed from pandas in a future version. Use pandas.concat instead.\n",
      "  df = df.append([globals()[f'list']])\n",
      "C:\\Users\\smhrd\\AppData\\Roaming\\Python\\Python39\\site-packages\\sklearn\\base.py:450: UserWarning: X does not have valid feature names, but KNeighborsClassifier was fitted with feature names\n",
      "  warnings.warn(\n",
      "C:\\Users\\smhrd\\AppData\\Local\\Temp\\ipykernel_15348\\2774937686.py:68: FutureWarning: The frame.append method is deprecated and will be removed from pandas in a future version. Use pandas.concat instead.\n",
      "  df = df.append([globals()[f'list']])\n",
      "C:\\Users\\smhrd\\AppData\\Roaming\\Python\\Python39\\site-packages\\sklearn\\base.py:450: UserWarning: X does not have valid feature names, but KNeighborsClassifier was fitted with feature names\n",
      "  warnings.warn(\n",
      "C:\\Users\\smhrd\\AppData\\Local\\Temp\\ipykernel_15348\\2774937686.py:68: FutureWarning: The frame.append method is deprecated and will be removed from pandas in a future version. Use pandas.concat instead.\n",
      "  df = df.append([globals()[f'list']])\n",
      "C:\\Users\\smhrd\\AppData\\Roaming\\Python\\Python39\\site-packages\\sklearn\\base.py:450: UserWarning: X does not have valid feature names, but KNeighborsClassifier was fitted with feature names\n",
      "  warnings.warn(\n"
     ]
    },
    {
     "name": "stdout",
     "output_type": "stream",
     "text": [
      "(141.50524352360264, 124.85490526464255, 199.5)\n",
      "[[0.66666667 0.         0.33333333 0.        ]]\n",
      "(163.9695749307089, 129.51751918364454, 223.5)\n",
      "[[0.66666667 0.         0.33333333 0.        ]]\n",
      "(160.44946922372614, 134.2002651167542, 221.0)\n",
      "[[0.66666667 0.         0.33333333 0.        ]]\n",
      "(168.30610096228173, 136.37747338991403, 228.5)\n",
      "[[0.33333333 0.         0.66666667 0.        ]]\n"
     ]
    },
    {
     "name": "stderr",
     "output_type": "stream",
     "text": [
      "C:\\Users\\smhrd\\AppData\\Local\\Temp\\ipykernel_15348\\2774937686.py:68: FutureWarning: The frame.append method is deprecated and will be removed from pandas in a future version. Use pandas.concat instead.\n",
      "  df = df.append([globals()[f'list']])\n",
      "C:\\Users\\smhrd\\AppData\\Roaming\\Python\\Python39\\site-packages\\sklearn\\base.py:450: UserWarning: X does not have valid feature names, but KNeighborsClassifier was fitted with feature names\n",
      "  warnings.warn(\n",
      "C:\\Users\\smhrd\\AppData\\Local\\Temp\\ipykernel_15348\\2774937686.py:68: FutureWarning: The frame.append method is deprecated and will be removed from pandas in a future version. Use pandas.concat instead.\n",
      "  df = df.append([globals()[f'list']])\n",
      "C:\\Users\\smhrd\\AppData\\Roaming\\Python\\Python39\\site-packages\\sklearn\\base.py:450: UserWarning: X does not have valid feature names, but KNeighborsClassifier was fitted with feature names\n",
      "  warnings.warn(\n",
      "C:\\Users\\smhrd\\AppData\\Local\\Temp\\ipykernel_15348\\2774937686.py:68: FutureWarning: The frame.append method is deprecated and will be removed from pandas in a future version. Use pandas.concat instead.\n",
      "  df = df.append([globals()[f'list']])\n",
      "C:\\Users\\smhrd\\AppData\\Roaming\\Python\\Python39\\site-packages\\sklearn\\base.py:450: UserWarning: X does not have valid feature names, but KNeighborsClassifier was fitted with feature names\n",
      "  warnings.warn(\n",
      "C:\\Users\\smhrd\\AppData\\Local\\Temp\\ipykernel_15348\\2774937686.py:68: FutureWarning: The frame.append method is deprecated and will be removed from pandas in a future version. Use pandas.concat instead.\n",
      "  df = df.append([globals()[f'list']])\n",
      "C:\\Users\\smhrd\\AppData\\Roaming\\Python\\Python39\\site-packages\\sklearn\\base.py:450: UserWarning: X does not have valid feature names, but KNeighborsClassifier was fitted with feature names\n",
      "  warnings.warn(\n"
     ]
    },
    {
     "name": "stdout",
     "output_type": "stream",
     "text": [
      "(161.34406714460556, 136.55043189753778, 220.0)\n",
      "[[0.66666667 0.         0.33333333 0.        ]]\n",
      "(162.8774047486325, 131.4584038349992, 211.5)\n",
      "[[0.66666667 0.         0.33333333 0.        ]]\n",
      "(169.8861776430344, 128.98870687134664, 219.0)\n",
      "[[0.33333333 0.         0.66666667 0.        ]]\n",
      "(168.1651309437236, 127.85855501590369, 215.5)\n",
      "[[0.33333333 0.         0.66666667 0.        ]]\n"
     ]
    },
    {
     "name": "stderr",
     "output_type": "stream",
     "text": [
      "C:\\Users\\smhrd\\AppData\\Local\\Temp\\ipykernel_15348\\2774937686.py:68: FutureWarning: The frame.append method is deprecated and will be removed from pandas in a future version. Use pandas.concat instead.\n",
      "  df = df.append([globals()[f'list']])\n",
      "C:\\Users\\smhrd\\AppData\\Roaming\\Python\\Python39\\site-packages\\sklearn\\base.py:450: UserWarning: X does not have valid feature names, but KNeighborsClassifier was fitted with feature names\n",
      "  warnings.warn(\n",
      "C:\\Users\\smhrd\\AppData\\Local\\Temp\\ipykernel_15348\\2774937686.py:68: FutureWarning: The frame.append method is deprecated and will be removed from pandas in a future version. Use pandas.concat instead.\n",
      "  df = df.append([globals()[f'list']])\n",
      "C:\\Users\\smhrd\\AppData\\Roaming\\Python\\Python39\\site-packages\\sklearn\\base.py:450: UserWarning: X does not have valid feature names, but KNeighborsClassifier was fitted with feature names\n",
      "  warnings.warn(\n",
      "C:\\Users\\smhrd\\AppData\\Local\\Temp\\ipykernel_15348\\2774937686.py:68: FutureWarning: The frame.append method is deprecated and will be removed from pandas in a future version. Use pandas.concat instead.\n",
      "  df = df.append([globals()[f'list']])\n",
      "C:\\Users\\smhrd\\AppData\\Roaming\\Python\\Python39\\site-packages\\sklearn\\base.py:450: UserWarning: X does not have valid feature names, but KNeighborsClassifier was fitted with feature names\n",
      "  warnings.warn(\n",
      "C:\\Users\\smhrd\\AppData\\Local\\Temp\\ipykernel_15348\\2774937686.py:68: FutureWarning: The frame.append method is deprecated and will be removed from pandas in a future version. Use pandas.concat instead.\n",
      "  df = df.append([globals()[f'list']])\n",
      "C:\\Users\\smhrd\\AppData\\Roaming\\Python\\Python39\\site-packages\\sklearn\\base.py:450: UserWarning: X does not have valid feature names, but KNeighborsClassifier was fitted with feature names\n",
      "  warnings.warn(\n"
     ]
    },
    {
     "name": "stdout",
     "output_type": "stream",
     "text": [
      "(168.56631873457331, 124.85729152263242, 217.5)\n",
      "[[0.33333333 0.         0.66666667 0.        ]]\n",
      "(166.58576579866556, 131.06127345092105, 222.0)\n",
      "[[0.33333333 0.         0.66666667 0.        ]]\n",
      "(164.96741490790293, 129.7174664734058, 217.0)\n",
      "[[0.66666667 0.         0.33333333 0.        ]]\n",
      "(167.93470130328865, 129.6791520382055, 215.5)\n",
      "[[0.33333333 0.         0.66666667 0.        ]]\n"
     ]
    },
    {
     "name": "stderr",
     "output_type": "stream",
     "text": [
      "C:\\Users\\smhrd\\AppData\\Local\\Temp\\ipykernel_15348\\2774937686.py:68: FutureWarning: The frame.append method is deprecated and will be removed from pandas in a future version. Use pandas.concat instead.\n",
      "  df = df.append([globals()[f'list']])\n",
      "C:\\Users\\smhrd\\AppData\\Roaming\\Python\\Python39\\site-packages\\sklearn\\base.py:450: UserWarning: X does not have valid feature names, but KNeighborsClassifier was fitted with feature names\n",
      "  warnings.warn(\n",
      "C:\\Users\\smhrd\\AppData\\Local\\Temp\\ipykernel_15348\\2774937686.py:68: FutureWarning: The frame.append method is deprecated and will be removed from pandas in a future version. Use pandas.concat instead.\n",
      "  df = df.append([globals()[f'list']])\n",
      "C:\\Users\\smhrd\\AppData\\Roaming\\Python\\Python39\\site-packages\\sklearn\\base.py:450: UserWarning: X does not have valid feature names, but KNeighborsClassifier was fitted with feature names\n",
      "  warnings.warn(\n",
      "C:\\Users\\smhrd\\AppData\\Local\\Temp\\ipykernel_15348\\2774937686.py:68: FutureWarning: The frame.append method is deprecated and will be removed from pandas in a future version. Use pandas.concat instead.\n",
      "  df = df.append([globals()[f'list']])\n",
      "C:\\Users\\smhrd\\AppData\\Roaming\\Python\\Python39\\site-packages\\sklearn\\base.py:450: UserWarning: X does not have valid feature names, but KNeighborsClassifier was fitted with feature names\n",
      "  warnings.warn(\n",
      "C:\\Users\\smhrd\\AppData\\Local\\Temp\\ipykernel_15348\\2774937686.py:68: FutureWarning: The frame.append method is deprecated and will be removed from pandas in a future version. Use pandas.concat instead.\n",
      "  df = df.append([globals()[f'list']])\n",
      "C:\\Users\\smhrd\\AppData\\Roaming\\Python\\Python39\\site-packages\\sklearn\\base.py:450: UserWarning: X does not have valid feature names, but KNeighborsClassifier was fitted with feature names\n",
      "  warnings.warn(\n"
     ]
    },
    {
     "name": "stdout",
     "output_type": "stream",
     "text": [
      "(173.52457336767455, 126.75359027210945, 213.0)\n",
      "[[0.33333333 0.         0.66666667 0.        ]]\n",
      "(166.36346420921004, 127.7039740126734, 221.0)\n",
      "[[0.66666667 0.         0.33333333 0.        ]]\n",
      "(165.01911376766182, 124.1742067233903, 218.5)\n",
      "[[0.66666667 0.         0.33333333 0.        ]]\n",
      "(169.00010837210027, 132.47127432395803, 216.5)\n",
      "[[0.33333333 0.         0.66666667 0.        ]]\n"
     ]
    },
    {
     "name": "stderr",
     "output_type": "stream",
     "text": [
      "C:\\Users\\smhrd\\AppData\\Local\\Temp\\ipykernel_15348\\2774937686.py:68: FutureWarning: The frame.append method is deprecated and will be removed from pandas in a future version. Use pandas.concat instead.\n",
      "  df = df.append([globals()[f'list']])\n",
      "C:\\Users\\smhrd\\AppData\\Roaming\\Python\\Python39\\site-packages\\sklearn\\base.py:450: UserWarning: X does not have valid feature names, but KNeighborsClassifier was fitted with feature names\n",
      "  warnings.warn(\n",
      "C:\\Users\\smhrd\\AppData\\Local\\Temp\\ipykernel_15348\\2774937686.py:68: FutureWarning: The frame.append method is deprecated and will be removed from pandas in a future version. Use pandas.concat instead.\n",
      "  df = df.append([globals()[f'list']])\n",
      "C:\\Users\\smhrd\\AppData\\Roaming\\Python\\Python39\\site-packages\\sklearn\\base.py:450: UserWarning: X does not have valid feature names, but KNeighborsClassifier was fitted with feature names\n",
      "  warnings.warn(\n",
      "C:\\Users\\smhrd\\AppData\\Local\\Temp\\ipykernel_15348\\2774937686.py:68: FutureWarning: The frame.append method is deprecated and will be removed from pandas in a future version. Use pandas.concat instead.\n",
      "  df = df.append([globals()[f'list']])\n",
      "C:\\Users\\smhrd\\AppData\\Roaming\\Python\\Python39\\site-packages\\sklearn\\base.py:450: UserWarning: X does not have valid feature names, but KNeighborsClassifier was fitted with feature names\n",
      "  warnings.warn(\n",
      "C:\\Users\\smhrd\\AppData\\Local\\Temp\\ipykernel_15348\\2774937686.py:68: FutureWarning: The frame.append method is deprecated and will be removed from pandas in a future version. Use pandas.concat instead.\n",
      "  df = df.append([globals()[f'list']])\n",
      "C:\\Users\\smhrd\\AppData\\Roaming\\Python\\Python39\\site-packages\\sklearn\\base.py:450: UserWarning: X does not have valid feature names, but KNeighborsClassifier was fitted with feature names\n",
      "  warnings.warn(\n"
     ]
    },
    {
     "name": "stdout",
     "output_type": "stream",
     "text": [
      "(170.68382775009024, 128.53731342848027, 212.5)\n",
      "[[0.33333333 0.         0.66666667 0.        ]]\n",
      "(172.71350481278506, 125.60127240201953, 207.0)\n",
      "[[0.33333333 0.         0.66666667 0.        ]]\n",
      "(172.27573167877082, 125.6822901099394, 211.0)\n",
      "[[0.33333333 0.         0.66666667 0.        ]]\n",
      "(174.78288172061363, 123.99618977078157, 207.5)\n",
      "[[0.33333333 0.         0.66666667 0.        ]]\n"
     ]
    },
    {
     "name": "stderr",
     "output_type": "stream",
     "text": [
      "C:\\Users\\smhrd\\AppData\\Local\\Temp\\ipykernel_15348\\2774937686.py:68: FutureWarning: The frame.append method is deprecated and will be removed from pandas in a future version. Use pandas.concat instead.\n",
      "  df = df.append([globals()[f'list']])\n",
      "C:\\Users\\smhrd\\AppData\\Roaming\\Python\\Python39\\site-packages\\sklearn\\base.py:450: UserWarning: X does not have valid feature names, but KNeighborsClassifier was fitted with feature names\n",
      "  warnings.warn(\n",
      "C:\\Users\\smhrd\\AppData\\Local\\Temp\\ipykernel_15348\\2774937686.py:68: FutureWarning: The frame.append method is deprecated and will be removed from pandas in a future version. Use pandas.concat instead.\n",
      "  df = df.append([globals()[f'list']])\n",
      "C:\\Users\\smhrd\\AppData\\Roaming\\Python\\Python39\\site-packages\\sklearn\\base.py:450: UserWarning: X does not have valid feature names, but KNeighborsClassifier was fitted with feature names\n",
      "  warnings.warn(\n",
      "C:\\Users\\smhrd\\AppData\\Local\\Temp\\ipykernel_15348\\2774937686.py:68: FutureWarning: The frame.append method is deprecated and will be removed from pandas in a future version. Use pandas.concat instead.\n",
      "  df = df.append([globals()[f'list']])\n",
      "C:\\Users\\smhrd\\AppData\\Roaming\\Python\\Python39\\site-packages\\sklearn\\base.py:450: UserWarning: X does not have valid feature names, but KNeighborsClassifier was fitted with feature names\n",
      "  warnings.warn(\n",
      "C:\\Users\\smhrd\\AppData\\Local\\Temp\\ipykernel_15348\\2774937686.py:68: FutureWarning: The frame.append method is deprecated and will be removed from pandas in a future version. Use pandas.concat instead.\n",
      "  df = df.append([globals()[f'list']])\n",
      "C:\\Users\\smhrd\\AppData\\Roaming\\Python\\Python39\\site-packages\\sklearn\\base.py:450: UserWarning: X does not have valid feature names, but KNeighborsClassifier was fitted with feature names\n",
      "  warnings.warn(\n"
     ]
    },
    {
     "name": "stdout",
     "output_type": "stream",
     "text": [
      "(173.7337704460752, 125.47620154257413, 211.5)\n",
      "[[0.33333333 0.         0.66666667 0.        ]]\n",
      "(173.07750139545445, 124.18619002125237, 213.5)\n",
      "[[0.33333333 0.         0.66666667 0.        ]]\n",
      "(173.99741429281715, 122.71682942878626, 207.0)\n",
      "[[0.33333333 0.         0.66666667 0.        ]]\n",
      "(161.5007876602832, 124.91754443940002, 208.0)\n",
      "[[0.66666667 0.         0.33333333 0.        ]]\n"
     ]
    },
    {
     "name": "stderr",
     "output_type": "stream",
     "text": [
      "C:\\Users\\smhrd\\AppData\\Local\\Temp\\ipykernel_15348\\2774937686.py:68: FutureWarning: The frame.append method is deprecated and will be removed from pandas in a future version. Use pandas.concat instead.\n",
      "  df = df.append([globals()[f'list']])\n",
      "C:\\Users\\smhrd\\AppData\\Roaming\\Python\\Python39\\site-packages\\sklearn\\base.py:450: UserWarning: X does not have valid feature names, but KNeighborsClassifier was fitted with feature names\n",
      "  warnings.warn(\n",
      "C:\\Users\\smhrd\\AppData\\Local\\Temp\\ipykernel_15348\\2774937686.py:68: FutureWarning: The frame.append method is deprecated and will be removed from pandas in a future version. Use pandas.concat instead.\n",
      "  df = df.append([globals()[f'list']])\n",
      "C:\\Users\\smhrd\\AppData\\Roaming\\Python\\Python39\\site-packages\\sklearn\\base.py:450: UserWarning: X does not have valid feature names, but KNeighborsClassifier was fitted with feature names\n",
      "  warnings.warn(\n",
      "C:\\Users\\smhrd\\AppData\\Local\\Temp\\ipykernel_15348\\2774937686.py:68: FutureWarning: The frame.append method is deprecated and will be removed from pandas in a future version. Use pandas.concat instead.\n",
      "  df = df.append([globals()[f'list']])\n",
      "C:\\Users\\smhrd\\AppData\\Roaming\\Python\\Python39\\site-packages\\sklearn\\base.py:450: UserWarning: X does not have valid feature names, but KNeighborsClassifier was fitted with feature names\n",
      "  warnings.warn(\n",
      "C:\\Users\\smhrd\\AppData\\Local\\Temp\\ipykernel_15348\\2774937686.py:68: FutureWarning: The frame.append method is deprecated and will be removed from pandas in a future version. Use pandas.concat instead.\n",
      "  df = df.append([globals()[f'list']])\n",
      "C:\\Users\\smhrd\\AppData\\Roaming\\Python\\Python39\\site-packages\\sklearn\\base.py:450: UserWarning: X does not have valid feature names, but KNeighborsClassifier was fitted with feature names\n",
      "  warnings.warn(\n"
     ]
    },
    {
     "name": "stdout",
     "output_type": "stream",
     "text": [
      "(171.70101110528137, 127.76126428152858, 211.0)\n",
      "[[0.33333333 0.         0.66666667 0.        ]]\n",
      "(178.13394022863784, 129.04625709797887, 214.0)\n",
      "[[0.33333333 0.         0.66666667 0.        ]]\n",
      "(173.7734037721679, 131.48910160833591, 209.5)\n",
      "[[0.33333333 0.         0.66666667 0.        ]]\n",
      "(170.74801377629092, 130.36165530264412, 211.0)\n",
      "[[0.33333333 0.         0.66666667 0.        ]]\n"
     ]
    },
    {
     "name": "stderr",
     "output_type": "stream",
     "text": [
      "C:\\Users\\smhrd\\AppData\\Local\\Temp\\ipykernel_15348\\2774937686.py:68: FutureWarning: The frame.append method is deprecated and will be removed from pandas in a future version. Use pandas.concat instead.\n",
      "  df = df.append([globals()[f'list']])\n",
      "C:\\Users\\smhrd\\AppData\\Roaming\\Python\\Python39\\site-packages\\sklearn\\base.py:450: UserWarning: X does not have valid feature names, but KNeighborsClassifier was fitted with feature names\n",
      "  warnings.warn(\n",
      "C:\\Users\\smhrd\\AppData\\Local\\Temp\\ipykernel_15348\\2774937686.py:68: FutureWarning: The frame.append method is deprecated and will be removed from pandas in a future version. Use pandas.concat instead.\n",
      "  df = df.append([globals()[f'list']])\n",
      "C:\\Users\\smhrd\\AppData\\Roaming\\Python\\Python39\\site-packages\\sklearn\\base.py:450: UserWarning: X does not have valid feature names, but KNeighborsClassifier was fitted with feature names\n",
      "  warnings.warn(\n",
      "C:\\Users\\smhrd\\AppData\\Local\\Temp\\ipykernel_15348\\2774937686.py:68: FutureWarning: The frame.append method is deprecated and will be removed from pandas in a future version. Use pandas.concat instead.\n",
      "  df = df.append([globals()[f'list']])\n",
      "C:\\Users\\smhrd\\AppData\\Roaming\\Python\\Python39\\site-packages\\sklearn\\base.py:450: UserWarning: X does not have valid feature names, but KNeighborsClassifier was fitted with feature names\n",
      "  warnings.warn(\n",
      "C:\\Users\\smhrd\\AppData\\Local\\Temp\\ipykernel_15348\\2774937686.py:68: FutureWarning: The frame.append method is deprecated and will be removed from pandas in a future version. Use pandas.concat instead.\n",
      "  df = df.append([globals()[f'list']])\n",
      "C:\\Users\\smhrd\\AppData\\Roaming\\Python\\Python39\\site-packages\\sklearn\\base.py:450: UserWarning: X does not have valid feature names, but KNeighborsClassifier was fitted with feature names\n",
      "  warnings.warn(\n"
     ]
    },
    {
     "name": "stdout",
     "output_type": "stream",
     "text": [
      "(173.23799568565056, 131.8943195889173, 208.5)\n",
      "[[0.33333333 0.         0.66666667 0.        ]]\n",
      "(175.767773514767, 135.58645167258098, 210.0)\n",
      "[[0.33333333 0.         0.66666667 0.        ]]\n",
      "(176.52353848726415, 132.13495857620612, 203.5)\n",
      "[[0.33333333 0.         0.66666667 0.        ]]\n",
      "(176.85484228687946, 137.91051123113587, 203.0)\n",
      "[[0.33333333 0.         0.66666667 0.        ]]\n"
     ]
    },
    {
     "name": "stderr",
     "output_type": "stream",
     "text": [
      "C:\\Users\\smhrd\\AppData\\Local\\Temp\\ipykernel_15348\\2774937686.py:68: FutureWarning: The frame.append method is deprecated and will be removed from pandas in a future version. Use pandas.concat instead.\n",
      "  df = df.append([globals()[f'list']])\n",
      "C:\\Users\\smhrd\\AppData\\Roaming\\Python\\Python39\\site-packages\\sklearn\\base.py:450: UserWarning: X does not have valid feature names, but KNeighborsClassifier was fitted with feature names\n",
      "  warnings.warn(\n",
      "C:\\Users\\smhrd\\AppData\\Local\\Temp\\ipykernel_15348\\2774937686.py:68: FutureWarning: The frame.append method is deprecated and will be removed from pandas in a future version. Use pandas.concat instead.\n",
      "  df = df.append([globals()[f'list']])\n",
      "C:\\Users\\smhrd\\AppData\\Roaming\\Python\\Python39\\site-packages\\sklearn\\base.py:450: UserWarning: X does not have valid feature names, but KNeighborsClassifier was fitted with feature names\n",
      "  warnings.warn(\n",
      "C:\\Users\\smhrd\\AppData\\Local\\Temp\\ipykernel_15348\\2774937686.py:68: FutureWarning: The frame.append method is deprecated and will be removed from pandas in a future version. Use pandas.concat instead.\n",
      "  df = df.append([globals()[f'list']])\n",
      "C:\\Users\\smhrd\\AppData\\Roaming\\Python\\Python39\\site-packages\\sklearn\\base.py:450: UserWarning: X does not have valid feature names, but KNeighborsClassifier was fitted with feature names\n",
      "  warnings.warn(\n",
      "C:\\Users\\smhrd\\AppData\\Local\\Temp\\ipykernel_15348\\2774937686.py:68: FutureWarning: The frame.append method is deprecated and will be removed from pandas in a future version. Use pandas.concat instead.\n",
      "  df = df.append([globals()[f'list']])\n",
      "C:\\Users\\smhrd\\AppData\\Roaming\\Python\\Python39\\site-packages\\sklearn\\base.py:450: UserWarning: X does not have valid feature names, but KNeighborsClassifier was fitted with feature names\n",
      "  warnings.warn(\n"
     ]
    },
    {
     "name": "stdout",
     "output_type": "stream",
     "text": [
      "(3.2976324351724213, 140.93534777050476, 196.0)\n",
      "[[0.66666667 0.         0.33333333 0.        ]]\n",
      "(60.48744092057772, 145.58998372028196, 187.5)\n",
      "[[0.66666667 0.         0.33333333 0.        ]]\n",
      "(91.05496717567007, 149.76259107600217, 183.5)\n",
      "[[0.66666667 0.         0.33333333 0.        ]]\n",
      "(89.45692830627623, 149.09896637235423, 184.0)\n",
      "[[0.66666667 0.         0.33333333 0.        ]]\n"
     ]
    },
    {
     "name": "stderr",
     "output_type": "stream",
     "text": [
      "C:\\Users\\smhrd\\AppData\\Local\\Temp\\ipykernel_15348\\2774937686.py:68: FutureWarning: The frame.append method is deprecated and will be removed from pandas in a future version. Use pandas.concat instead.\n",
      "  df = df.append([globals()[f'list']])\n",
      "C:\\Users\\smhrd\\AppData\\Roaming\\Python\\Python39\\site-packages\\sklearn\\base.py:450: UserWarning: X does not have valid feature names, but KNeighborsClassifier was fitted with feature names\n",
      "  warnings.warn(\n",
      "C:\\Users\\smhrd\\AppData\\Local\\Temp\\ipykernel_15348\\2774937686.py:68: FutureWarning: The frame.append method is deprecated and will be removed from pandas in a future version. Use pandas.concat instead.\n",
      "  df = df.append([globals()[f'list']])\n",
      "C:\\Users\\smhrd\\AppData\\Roaming\\Python\\Python39\\site-packages\\sklearn\\base.py:450: UserWarning: X does not have valid feature names, but KNeighborsClassifier was fitted with feature names\n",
      "  warnings.warn(\n",
      "C:\\Users\\smhrd\\AppData\\Local\\Temp\\ipykernel_15348\\2774937686.py:68: FutureWarning: The frame.append method is deprecated and will be removed from pandas in a future version. Use pandas.concat instead.\n",
      "  df = df.append([globals()[f'list']])\n",
      "C:\\Users\\smhrd\\AppData\\Roaming\\Python\\Python39\\site-packages\\sklearn\\base.py:450: UserWarning: X does not have valid feature names, but KNeighborsClassifier was fitted with feature names\n",
      "  warnings.warn(\n"
     ]
    },
    {
     "name": "stdout",
     "output_type": "stream",
     "text": [
      "(78.6619710322098, 149.4075834148156, 188.0)\n",
      "[[0.66666667 0.         0.33333333 0.        ]]\n",
      "(164.63196372324825, 142.57120677452713, 195.0)\n",
      "[[0.33333333 0.         0.66666667 0.        ]]\n",
      "(150.2967327811531, 142.63041002483735, 206.0)\n",
      "[[0.66666667 0.         0.33333333 0.        ]]\n"
     ]
    }
   ],
   "source": [
    "# 테스트 할 영상 경로 넣으면 됨\n",
    "video = cv2.VideoCapture('./test_video3.mp4')\n",
    "df = pd.DataFrame() # predict에 넣어 줄 X_test\n",
    "actions = ['bend', 'headup', 'right', 'waistup']\n",
    "\n",
    "while video.isOpened():\n",
    "    # Read a frame.\n",
    "    ok, frame = video.read()\n",
    "    # Check if frame is not read properly.\n",
    "    if not ok:\n",
    "        # Break the loop.\n",
    "        break\n",
    "    # display -> False 넣어서 img랑 렌드마크 받기\n",
    "    output_img, landmarks,visible = detectPose(frame,pose,display=False)\n",
    "\n",
    "    if landmarks:\n",
    "        # visible 가져오기\n",
    "        left_shoulder = visible[mp_pose.PoseLandmark.LEFT_SHOULDER.value]\n",
    "        right_shoulder = visible[mp_pose.PoseLandmark.RIGHT_SHOULDER.value]\n",
    "        left_hip = visible[mp_pose.PoseLandmark.LEFT_HIP.value]\n",
    "        right_hip = visible[mp_pose.PoseLandmark.RIGHT_HIP.value]\n",
    "        left_knee = visible[mp_pose.PoseLandmark.LEFT_KNEE.value]\n",
    "        right_knee = visible[mp_pose.PoseLandmark.RIGHT_KNEE.value]\n",
    "        left_ankle = visible[mp_pose.PoseLandmark.LEFT_ANKLE.value]\n",
    "        right_ankle = visible[mp_pose.PoseLandmark.RIGHT_ANKLE.value]\n",
    "        right_pinky = visible[mp_pose.PoseLandmark.RIGHT_PINKY.value]\n",
    "        left_pinkey = visible[mp_pose.PoseLandmark.LEFT_PINKY.value]\n",
    "        # 어깨 - 엉덩이 - 무릎 => 올리는 동작 각도 구하기 위함 -> Main angle\n",
    "        if left_hip>right_hip:\n",
    "            main_angle = calculateAngle(landmarks[mp_pose.PoseLandmark.LEFT_SHOULDER.value],\n",
    "                                                landmarks[mp_pose.PoseLandmark.LEFT_HIP.value],\n",
    "                                                landmarks[mp_pose.PoseLandmark.LEFT_KNEE.value])\n",
    "        else:\n",
    "            main_angle = calculateAngle(landmarks[mp_pose.PoseLandmark.RIGHT_SHOULDER.value],\n",
    "                                                landmarks[mp_pose.PoseLandmark.RIGHT_HIP.value],\n",
    "                                                landmarks[mp_pose.PoseLandmark.RIGHT_KNEE.value])                                                    \n",
    "        \n",
    "        # 엉덩이 - 무릎 - 발목 => 무릎 꺾였는지 보기 위함\n",
    "        if left_knee > right_knee:\n",
    "            knee_angle = calculateAngle(landmarks[mp_pose.PoseLandmark.LEFT_HIP.value],\n",
    "                                            landmarks[mp_pose.PoseLandmark.LEFT_KNEE.value],\n",
    "                                            landmarks[mp_pose.PoseLandmark.LEFT_ANKLE.value])\n",
    "        else:\n",
    "            knee_angle = calculateAngle(landmarks[mp_pose.PoseLandmark.RIGHT_HIP.value],\n",
    "                                            landmarks[mp_pose.PoseLandmark.RIGHT_KNEE.value],\n",
    "                                            landmarks[mp_pose.PoseLandmark.RIGHT_ANKLE.value])\n",
    "                                            \n",
    "        # 어깨 허리  중앙값\n",
    "        cen_shoulder = center_Landmark(landmarks[mp_pose.PoseLandmark.LEFT_SHOULDER.value],\n",
    "                                    landmarks[mp_pose.PoseLandmark.RIGHT_SHOULDER.value])\n",
    "        cen_hip = center_Landmark(landmarks[mp_pose.PoseLandmark.LEFT_HIP.value],\n",
    "                                landmarks[mp_pose.PoseLandmark.RIGHT_HIP.value])\n",
    "    \n",
    "        # 코 - 어깨 - 엉덩이 => 목 각도\n",
    "        head_angle = calculateAngle(landmarks[mp_pose.PoseLandmark.NOSE.value],\n",
    "                                    cen_shoulder,cen_hip)\n",
    "\n",
    "        # 잘보이는 새끼손가락의 y 좌표\n",
    "        if right_pinky > left_pinkey:\n",
    "            y_pinky = landmarks[mp_pose.PoseLandmark.RIGHT_PINKY.value][1]\n",
    "        else:\n",
    "            y_pinky = landmarks[mp_pose.PoseLandmark.LEFT_PINKY.value][1]\n",
    "\n",
    "        # 엉덩이 중앙의 y좌표와 새끼손가락의 y 좌표사이의 거리 \n",
    "        waist_len = cen_hip[1]-cen_shoulder[1]\n",
    "\n",
    "        globals()['list'] = knee_angle,head_angle,waist_len\n",
    "        df = df.append([globals()[f'list']])\n",
    "        print(globals()['list'])\n",
    "        loaded_model = pickle.load(open('03.Knn_model', 'rb'))\n",
    "        result = loaded_model.predict_proba([globals()['list']])\n",
    "        print(result)\n",
    "        # 각 회마다 맞는 자세인지 매핑하기\n",
    "        if result.argmax() ==0:\n",
    "            cv2.putText(output_img, actions[0], (120,200),cv2.FONT_HERSHEY_SIMPLEX, 1, (0,255, 0), 4, cv2.LINE_AA)\n",
    "        elif result.argmax() ==1:\n",
    "            cv2.putText(output_img, actions[1], (120,200),cv2.FONT_HERSHEY_SIMPLEX, 1, (0,255, 0), 4, cv2.LINE_AA)\n",
    "        elif result.argmax() == 2:\n",
    "            cv2.putText(output_img, actions[2], (120,200),cv2.FONT_HERSHEY_SIMPLEX, 1, (0,255, 0), 4, cv2.LINE_AA)\n",
    "        elif result.argmax() ==3:\n",
    "            cv2.putText(output_img, actions[3], (120,200),cv2.FONT_HERSHEY_SIMPLEX, 1, (0,255, 0), 4, cv2.LINE_AA)\n",
    "        \n",
    "    cv2.imshow('img',output_img)\n",
    "    cv2.waitKey(10)\n",
    "video.release()\n",
    "cv2.destroyAllWindows()\n"
   ]
  },
  {
   "cell_type": "code",
   "execution_count": 26,
   "metadata": {},
   "outputs": [
    {
     "data": {
      "text/html": [
       "<div>\n",
       "<style scoped>\n",
       "    .dataframe tbody tr th:only-of-type {\n",
       "        vertical-align: middle;\n",
       "    }\n",
       "\n",
       "    .dataframe tbody tr th {\n",
       "        vertical-align: top;\n",
       "    }\n",
       "\n",
       "    .dataframe thead th {\n",
       "        text-align: right;\n",
       "    }\n",
       "</style>\n",
       "<table border=\"1\" class=\"dataframe\">\n",
       "  <thead>\n",
       "    <tr style=\"text-align: right;\">\n",
       "      <th></th>\n",
       "      <th>0</th>\n",
       "      <th>1</th>\n",
       "      <th>2</th>\n",
       "    </tr>\n",
       "  </thead>\n",
       "  <tbody>\n",
       "    <tr>\n",
       "      <th>0</th>\n",
       "      <td>59.343045</td>\n",
       "      <td>150.562150</td>\n",
       "      <td>-41.0</td>\n",
       "    </tr>\n",
       "    <tr>\n",
       "      <th>0</th>\n",
       "      <td>55.598194</td>\n",
       "      <td>150.967490</td>\n",
       "      <td>-33.5</td>\n",
       "    </tr>\n",
       "    <tr>\n",
       "      <th>0</th>\n",
       "      <td>52.017282</td>\n",
       "      <td>150.513030</td>\n",
       "      <td>-36.5</td>\n",
       "    </tr>\n",
       "    <tr>\n",
       "      <th>0</th>\n",
       "      <td>51.801315</td>\n",
       "      <td>153.187408</td>\n",
       "      <td>-34.0</td>\n",
       "    </tr>\n",
       "    <tr>\n",
       "      <th>0</th>\n",
       "      <td>51.910061</td>\n",
       "      <td>153.222995</td>\n",
       "      <td>-32.5</td>\n",
       "    </tr>\n",
       "    <tr>\n",
       "      <th>...</th>\n",
       "      <td>...</td>\n",
       "      <td>...</td>\n",
       "      <td>...</td>\n",
       "    </tr>\n",
       "    <tr>\n",
       "      <th>0</th>\n",
       "      <td>91.054967</td>\n",
       "      <td>149.762591</td>\n",
       "      <td>183.5</td>\n",
       "    </tr>\n",
       "    <tr>\n",
       "      <th>0</th>\n",
       "      <td>89.456928</td>\n",
       "      <td>149.098966</td>\n",
       "      <td>184.0</td>\n",
       "    </tr>\n",
       "    <tr>\n",
       "      <th>0</th>\n",
       "      <td>78.661971</td>\n",
       "      <td>149.407583</td>\n",
       "      <td>188.0</td>\n",
       "    </tr>\n",
       "    <tr>\n",
       "      <th>0</th>\n",
       "      <td>164.631964</td>\n",
       "      <td>142.571207</td>\n",
       "      <td>195.0</td>\n",
       "    </tr>\n",
       "    <tr>\n",
       "      <th>0</th>\n",
       "      <td>150.296733</td>\n",
       "      <td>142.630410</td>\n",
       "      <td>206.0</td>\n",
       "    </tr>\n",
       "  </tbody>\n",
       "</table>\n",
       "<p>697 rows × 3 columns</p>\n",
       "</div>"
      ],
      "text/plain": [
       "             0           1      2\n",
       "0    59.343045  150.562150  -41.0\n",
       "0    55.598194  150.967490  -33.5\n",
       "0    52.017282  150.513030  -36.5\n",
       "0    51.801315  153.187408  -34.0\n",
       "0    51.910061  153.222995  -32.5\n",
       "..         ...         ...    ...\n",
       "0    91.054967  149.762591  183.5\n",
       "0    89.456928  149.098966  184.0\n",
       "0    78.661971  149.407583  188.0\n",
       "0   164.631964  142.571207  195.0\n",
       "0   150.296733  142.630410  206.0\n",
       "\n",
       "[697 rows x 3 columns]"
      ]
     },
     "execution_count": 26,
     "metadata": {},
     "output_type": "execute_result"
    }
   ],
   "source": [
    "df"
   ]
  },
  {
   "cell_type": "code",
   "execution_count": 27,
   "metadata": {},
   "outputs": [
    {
     "name": "stderr",
     "output_type": "stream",
     "text": [
      "C:\\Users\\smhrd\\AppData\\Roaming\\Python\\Python39\\site-packages\\sklearn\\base.py:450: UserWarning: X does not have valid feature names, but KNeighborsClassifier was fitted with feature names\n",
      "  warnings.warn(\n",
      "C:\\Users\\smhrd\\AppData\\Roaming\\Python\\Python39\\site-packages\\sklearn\\base.py:450: UserWarning: X does not have valid feature names, but KNeighborsClassifier was fitted with feature names\n",
      "  warnings.warn(\n"
     ]
    }
   ],
   "source": [
    "# 모델 불러서 result에 예측 하기\n",
    "loaded_model = pickle.load(open('03.Knn_model', 'rb'))\n",
    "result = loaded_model.predict(df)\n",
    "proba = loaded_model.predict_proba(df)\n"
   ]
  },
  {
   "cell_type": "code",
   "execution_count": 28,
   "metadata": {},
   "outputs": [
    {
     "data": {
      "text/plain": [
       "697"
      ]
     },
     "execution_count": 28,
     "metadata": {},
     "output_type": "execute_result"
    }
   ],
   "source": [
    "len(result)"
   ]
  },
  {
   "cell_type": "code",
   "execution_count": 30,
   "metadata": {},
   "outputs": [
    {
     "data": {
      "text/plain": [
       "array([[1.        , 0.        , 0.        , 0.        ],\n",
       "       [1.        , 0.        , 0.        , 0.        ],\n",
       "       [1.        , 0.        , 0.        , 0.        ],\n",
       "       ...,\n",
       "       [0.66666667, 0.        , 0.33333333, 0.        ],\n",
       "       [0.33333333, 0.        , 0.66666667, 0.        ],\n",
       "       [0.66666667, 0.        , 0.33333333, 0.        ]])"
      ]
     },
     "execution_count": 30,
     "metadata": {},
     "output_type": "execute_result"
    }
   ],
   "source": [
    "proba"
   ]
  },
  {
   "cell_type": "code",
   "execution_count": 31,
   "metadata": {},
   "outputs": [
    {
     "name": "stdout",
     "output_type": "stream",
     "text": [
      "bend, 정확도 : [1. 0. 0. 0.]\n",
      "bend, 정확도 : [1. 0. 0. 0.]\n",
      "bend, 정확도 : [1. 0. 0. 0.]\n",
      "bend, 정확도 : [1. 0. 0. 0.]\n",
      "bend, 정확도 : [1. 0. 0. 0.]\n",
      "bend, 정확도 : [1. 0. 0. 0.]\n",
      "bend, 정확도 : [1. 0. 0. 0.]\n",
      "bend, 정확도 : [1. 0. 0. 0.]\n",
      "bend, 정확도 : [1. 0. 0. 0.]\n",
      "bend, 정확도 : [1. 0. 0. 0.]\n",
      "bend, 정확도 : [1. 0. 0. 0.]\n",
      "bend, 정확도 : [1. 0. 0. 0.]\n",
      "bend, 정확도 : [1. 0. 0. 0.]\n",
      "bend, 정확도 : [1. 0. 0. 0.]\n",
      "bend, 정확도 : [1. 0. 0. 0.]\n",
      "bend, 정확도 : [1. 0. 0. 0.]\n",
      "bend, 정확도 : [1. 0. 0. 0.]\n",
      "bend, 정확도 : [1. 0. 0. 0.]\n",
      "bend, 정확도 : [1. 0. 0. 0.]\n",
      "bend, 정확도 : [1. 0. 0. 0.]\n",
      "bend, 정확도 : [1. 0. 0. 0.]\n",
      "bend, 정확도 : [1. 0. 0. 0.]\n",
      "bend, 정확도 : [1. 0. 0. 0.]\n",
      "bend, 정확도 : [1. 0. 0. 0.]\n",
      "bend, 정확도 : [1. 0. 0. 0.]\n",
      "bend, 정확도 : [1. 0. 0. 0.]\n",
      "bend, 정확도 : [1. 0. 0. 0.]\n",
      "bend, 정확도 : [1. 0. 0. 0.]\n",
      "bend, 정확도 : [1. 0. 0. 0.]\n",
      "bend, 정확도 : [1. 0. 0. 0.]\n",
      "bend, 정확도 : [1. 0. 0. 0.]\n",
      "bend, 정확도 : [1. 0. 0. 0.]\n",
      "bend, 정확도 : [1. 0. 0. 0.]\n",
      "bend, 정확도 : [1. 0. 0. 0.]\n",
      "bend, 정확도 : [1. 0. 0. 0.]\n",
      "bend, 정확도 : [1. 0. 0. 0.]\n",
      "bend, 정확도 : [1. 0. 0. 0.]\n",
      "bend, 정확도 : [1. 0. 0. 0.]\n",
      "bend, 정확도 : [1. 0. 0. 0.]\n",
      "bend, 정확도 : [1. 0. 0. 0.]\n",
      "bend, 정확도 : [1. 0. 0. 0.]\n",
      "bend, 정확도 : [1. 0. 0. 0.]\n",
      "bend, 정확도 : [1. 0. 0. 0.]\n",
      "bend, 정확도 : [1. 0. 0. 0.]\n",
      "bend, 정확도 : [1. 0. 0. 0.]\n",
      "bend, 정확도 : [1. 0. 0. 0.]\n",
      "bend, 정확도 : [1. 0. 0. 0.]\n",
      "bend, 정확도 : [1. 0. 0. 0.]\n",
      "bend, 정확도 : [1. 0. 0. 0.]\n",
      "bend, 정확도 : [1. 0. 0. 0.]\n",
      "bend, 정확도 : [1. 0. 0. 0.]\n",
      "bend, 정확도 : [1. 0. 0. 0.]\n",
      "bend, 정확도 : [1. 0. 0. 0.]\n",
      "bend, 정확도 : [1. 0. 0. 0.]\n",
      "bend, 정확도 : [1. 0. 0. 0.]\n",
      "bend, 정확도 : [1. 0. 0. 0.]\n",
      "bend, 정확도 : [1. 0. 0. 0.]\n",
      "bend, 정확도 : [1. 0. 0. 0.]\n",
      "bend, 정확도 : [1. 0. 0. 0.]\n",
      "bend, 정확도 : [1. 0. 0. 0.]\n",
      "bend, 정확도 : [1. 0. 0. 0.]\n",
      "bend, 정확도 : [1. 0. 0. 0.]\n",
      "bend, 정확도 : [1. 0. 0. 0.]\n",
      "bend, 정확도 : [1. 0. 0. 0.]\n",
      "bend, 정확도 : [1. 0. 0. 0.]\n",
      "bend, 정확도 : [0.66666667 0.         0.33333333 0.        ]\n",
      "bend, 정확도 : [1. 0. 0. 0.]\n",
      "bend, 정확도 : [1. 0. 0. 0.]\n",
      "right, 정확도 : [0.33333333 0.         0.66666667 0.        ]\n",
      "bend, 정확도 : [0.66666667 0.         0.33333333 0.        ]\n",
      "bend, 정확도 : [0.66666667 0.         0.33333333 0.        ]\n",
      "right, 정확도 : [0.33333333 0.         0.66666667 0.        ]\n",
      "bend, 정확도 : [0.66666667 0.         0.33333333 0.        ]\n",
      "bend, 정확도 : [0.66666667 0.         0.33333333 0.        ]\n",
      "bend, 정확도 : [0.66666667 0.         0.33333333 0.        ]\n",
      "bend, 정확도 : [0.66666667 0.         0.33333333 0.        ]\n",
      "bend, 정확도 : [0.66666667 0.         0.33333333 0.        ]\n",
      "bend, 정확도 : [0.66666667 0.         0.33333333 0.        ]\n",
      "bend, 정확도 : [0.66666667 0.         0.33333333 0.        ]\n",
      "right, 정확도 : [0.33333333 0.         0.66666667 0.        ]\n",
      "right, 정확도 : [0.33333333 0.         0.66666667 0.        ]\n",
      "right, 정확도 : [0.33333333 0.         0.66666667 0.        ]\n",
      "right, 정확도 : [0.33333333 0.         0.66666667 0.        ]\n",
      "right, 정확도 : [0.33333333 0.         0.66666667 0.        ]\n",
      "right, 정확도 : [0.33333333 0.         0.66666667 0.        ]\n",
      "bend, 정확도 : [0.66666667 0.         0.33333333 0.        ]\n",
      "bend, 정확도 : [0.66666667 0.         0.33333333 0.        ]\n",
      "right, 정확도 : [0. 0. 1. 0.]\n",
      "right, 정확도 : [0.33333333 0.         0.66666667 0.        ]\n",
      "right, 정확도 : [0. 0. 1. 0.]\n",
      "right, 정확도 : [0. 0. 1. 0.]\n",
      "right, 정확도 : [0. 0. 1. 0.]\n",
      "right, 정확도 : [0. 0. 1. 0.]\n",
      "right, 정확도 : [0. 0. 1. 0.]\n",
      "bend, 정확도 : [0.66666667 0.         0.33333333 0.        ]\n",
      "right, 정확도 : [0.33333333 0.         0.66666667 0.        ]\n",
      "right, 정확도 : [0. 0. 1. 0.]\n",
      "right, 정확도 : [0. 0. 1. 0.]\n",
      "right, 정확도 : [0. 0. 1. 0.]\n",
      "right, 정확도 : [0. 0. 1. 0.]\n",
      "right, 정확도 : [0. 0. 1. 0.]\n",
      "right, 정확도 : [0. 0. 1. 0.]\n",
      "right, 정확도 : [0. 0. 1. 0.]\n",
      "right, 정확도 : [0. 0. 1. 0.]\n",
      "right, 정확도 : [0. 0. 1. 0.]\n",
      "right, 정확도 : [0. 0. 1. 0.]\n",
      "right, 정확도 : [0. 0. 1. 0.]\n",
      "right, 정확도 : [0. 0. 1. 0.]\n",
      "right, 정확도 : [0. 0. 1. 0.]\n",
      "right, 정확도 : [0. 0. 1. 0.]\n",
      "right, 정확도 : [0. 0. 1. 0.]\n",
      "right, 정확도 : [0. 0. 1. 0.]\n",
      "right, 정확도 : [0. 0. 1. 0.]\n",
      "right, 정확도 : [0. 0. 1. 0.]\n",
      "right, 정확도 : [0. 0. 1. 0.]\n",
      "right, 정확도 : [0.33333333 0.         0.66666667 0.        ]\n",
      "right, 정확도 : [0. 0. 1. 0.]\n",
      "right, 정확도 : [0. 0. 1. 0.]\n",
      "right, 정확도 : [0. 0. 1. 0.]\n",
      "right, 정확도 : [0. 0. 1. 0.]\n",
      "right, 정확도 : [0. 0. 1. 0.]\n",
      "right, 정확도 : [0. 0. 1. 0.]\n",
      "right, 정확도 : [0. 0. 1. 0.]\n",
      "right, 정확도 : [0. 0. 1. 0.]\n",
      "right, 정확도 : [0. 0. 1. 0.]\n",
      "right, 정확도 : [0. 0. 1. 0.]\n",
      "right, 정확도 : [0. 0. 1. 0.]\n",
      "right, 정확도 : [0. 0. 1. 0.]\n",
      "right, 정확도 : [0.33333333 0.         0.66666667 0.        ]\n",
      "right, 정확도 : [0. 0. 1. 0.]\n",
      "right, 정확도 : [0. 0. 1. 0.]\n",
      "right, 정확도 : [0.33333333 0.         0.66666667 0.        ]\n",
      "right, 정확도 : [0. 0. 1. 0.]\n",
      "right, 정확도 : [0. 0. 1. 0.]\n",
      "right, 정확도 : [0. 0. 1. 0.]\n",
      "right, 정확도 : [0. 0. 1. 0.]\n",
      "right, 정확도 : [0. 0. 1. 0.]\n",
      "right, 정확도 : [0. 0. 1. 0.]\n",
      "right, 정확도 : [0. 0. 1. 0.]\n",
      "right, 정확도 : [0. 0. 1. 0.]\n",
      "right, 정확도 : [0.33333333 0.         0.66666667 0.        ]\n",
      "right, 정확도 : [0. 0. 1. 0.]\n",
      "right, 정확도 : [0. 0. 1. 0.]\n",
      "right, 정확도 : [0.33333333 0.         0.66666667 0.        ]\n",
      "right, 정확도 : [0.33333333 0.         0.66666667 0.        ]\n",
      "right, 정확도 : [0.33333333 0.         0.66666667 0.        ]\n",
      "right, 정확도 : [0.33333333 0.         0.66666667 0.        ]\n",
      "right, 정확도 : [0.33333333 0.         0.66666667 0.        ]\n",
      "right, 정확도 : [0. 0. 1. 0.]\n",
      "right, 정확도 : [0. 0. 1. 0.]\n",
      "right, 정확도 : [0. 0. 1. 0.]\n",
      "right, 정확도 : [0. 0. 1. 0.]\n",
      "bend, 정확도 : [0.66666667 0.         0.33333333 0.        ]\n",
      "right, 정확도 : [0.33333333 0.         0.66666667 0.        ]\n",
      "right, 정확도 : [0.33333333 0.         0.66666667 0.        ]\n",
      "right, 정확도 : [0. 0. 1. 0.]\n",
      "right, 정확도 : [0. 0. 1. 0.]\n",
      "right, 정확도 : [0.33333333 0.         0.66666667 0.        ]\n",
      "right, 정확도 : [0. 0. 1. 0.]\n",
      "right, 정확도 : [0.33333333 0.         0.66666667 0.        ]\n",
      "right, 정확도 : [0.33333333 0.         0.66666667 0.        ]\n",
      "right, 정확도 : [0.33333333 0.         0.66666667 0.        ]\n",
      "right, 정확도 : [0.33333333 0.         0.66666667 0.        ]\n",
      "bend, 정확도 : [0.66666667 0.         0.33333333 0.        ]\n",
      "bend, 정확도 : [0.66666667 0.         0.33333333 0.        ]\n",
      "bend, 정확도 : [0.66666667 0.         0.33333333 0.        ]\n",
      "bend, 정확도 : [0.66666667 0.         0.33333333 0.        ]\n",
      "bend, 정확도 : [0.66666667 0.         0.33333333 0.        ]\n",
      "bend, 정확도 : [0.66666667 0.         0.33333333 0.        ]\n",
      "bend, 정확도 : [0.66666667 0.         0.33333333 0.        ]\n",
      "bend, 정확도 : [0.66666667 0.         0.33333333 0.        ]\n",
      "bend, 정확도 : [0.66666667 0.         0.33333333 0.        ]\n",
      "bend, 정확도 : [0.66666667 0.         0.33333333 0.        ]\n",
      "bend, 정확도 : [1. 0. 0. 0.]\n",
      "bend, 정확도 : [1. 0. 0. 0.]\n",
      "bend, 정확도 : [1. 0. 0. 0.]\n",
      "bend, 정확도 : [1. 0. 0. 0.]\n",
      "bend, 정확도 : [1. 0. 0. 0.]\n",
      "bend, 정확도 : [1. 0. 0. 0.]\n",
      "bend, 정확도 : [1. 0. 0. 0.]\n",
      "bend, 정확도 : [1. 0. 0. 0.]\n",
      "bend, 정확도 : [1. 0. 0. 0.]\n",
      "bend, 정확도 : [1. 0. 0. 0.]\n",
      "bend, 정확도 : [1. 0. 0. 0.]\n",
      "bend, 정확도 : [1. 0. 0. 0.]\n",
      "bend, 정확도 : [1. 0. 0. 0.]\n",
      "bend, 정확도 : [1. 0. 0. 0.]\n",
      "bend, 정확도 : [1. 0. 0. 0.]\n",
      "bend, 정확도 : [1. 0. 0. 0.]\n",
      "bend, 정확도 : [1. 0. 0. 0.]\n",
      "bend, 정확도 : [1. 0. 0. 0.]\n",
      "bend, 정확도 : [1. 0. 0. 0.]\n",
      "bend, 정확도 : [1. 0. 0. 0.]\n",
      "bend, 정확도 : [1. 0. 0. 0.]\n",
      "bend, 정확도 : [1. 0. 0. 0.]\n",
      "bend, 정확도 : [1. 0. 0. 0.]\n",
      "bend, 정확도 : [1. 0. 0. 0.]\n",
      "bend, 정확도 : [1. 0. 0. 0.]\n",
      "bend, 정확도 : [1. 0. 0. 0.]\n",
      "bend, 정확도 : [1. 0. 0. 0.]\n",
      "bend, 정확도 : [1. 0. 0. 0.]\n",
      "bend, 정확도 : [1. 0. 0. 0.]\n",
      "bend, 정확도 : [1. 0. 0. 0.]\n",
      "bend, 정확도 : [1. 0. 0. 0.]\n",
      "bend, 정확도 : [1. 0. 0. 0.]\n",
      "bend, 정확도 : [1. 0. 0. 0.]\n",
      "bend, 정확도 : [1. 0. 0. 0.]\n",
      "bend, 정확도 : [1. 0. 0. 0.]\n",
      "bend, 정확도 : [1. 0. 0. 0.]\n",
      "bend, 정확도 : [1. 0. 0. 0.]\n",
      "bend, 정확도 : [1. 0. 0. 0.]\n",
      "bend, 정확도 : [1. 0. 0. 0.]\n",
      "bend, 정확도 : [1. 0. 0. 0.]\n",
      "bend, 정확도 : [1. 0. 0. 0.]\n",
      "bend, 정확도 : [1. 0. 0. 0.]\n",
      "bend, 정확도 : [1. 0. 0. 0.]\n",
      "bend, 정확도 : [1. 0. 0. 0.]\n",
      "bend, 정확도 : [1. 0. 0. 0.]\n",
      "bend, 정확도 : [1. 0. 0. 0.]\n",
      "bend, 정확도 : [1. 0. 0. 0.]\n",
      "bend, 정확도 : [1. 0. 0. 0.]\n",
      "bend, 정확도 : [1. 0. 0. 0.]\n",
      "bend, 정확도 : [1. 0. 0. 0.]\n",
      "bend, 정확도 : [1. 0. 0. 0.]\n",
      "bend, 정확도 : [1. 0. 0. 0.]\n",
      "bend, 정확도 : [1. 0. 0. 0.]\n",
      "bend, 정확도 : [1. 0. 0. 0.]\n",
      "bend, 정확도 : [1. 0. 0. 0.]\n",
      "bend, 정확도 : [1. 0. 0. 0.]\n",
      "bend, 정확도 : [1. 0. 0. 0.]\n",
      "bend, 정확도 : [1. 0. 0. 0.]\n",
      "bend, 정확도 : [1. 0. 0. 0.]\n",
      "bend, 정확도 : [1. 0. 0. 0.]\n",
      "bend, 정확도 : [1. 0. 0. 0.]\n",
      "bend, 정확도 : [1. 0. 0. 0.]\n",
      "bend, 정확도 : [1. 0. 0. 0.]\n",
      "bend, 정확도 : [1. 0. 0. 0.]\n",
      "bend, 정확도 : [1. 0. 0. 0.]\n",
      "bend, 정확도 : [1. 0. 0. 0.]\n",
      "bend, 정확도 : [1. 0. 0. 0.]\n",
      "bend, 정확도 : [1. 0. 0. 0.]\n",
      "bend, 정확도 : [1. 0. 0. 0.]\n",
      "bend, 정확도 : [1. 0. 0. 0.]\n",
      "bend, 정확도 : [1. 0. 0. 0.]\n",
      "bend, 정확도 : [1. 0. 0. 0.]\n",
      "bend, 정확도 : [1. 0. 0. 0.]\n",
      "bend, 정확도 : [1. 0. 0. 0.]\n",
      "bend, 정확도 : [1. 0. 0. 0.]\n",
      "bend, 정확도 : [1. 0. 0. 0.]\n",
      "bend, 정확도 : [1. 0. 0. 0.]\n",
      "bend, 정확도 : [1. 0. 0. 0.]\n",
      "bend, 정확도 : [1. 0. 0. 0.]\n",
      "bend, 정확도 : [1. 0. 0. 0.]\n",
      "bend, 정확도 : [1. 0. 0. 0.]\n",
      "bend, 정확도 : [1. 0. 0. 0.]\n",
      "bend, 정확도 : [1. 0. 0. 0.]\n",
      "bend, 정확도 : [1. 0. 0. 0.]\n",
      "bend, 정확도 : [1. 0. 0. 0.]\n",
      "bend, 정확도 : [1. 0. 0. 0.]\n",
      "bend, 정확도 : [1. 0. 0. 0.]\n",
      "bend, 정확도 : [1. 0. 0. 0.]\n",
      "bend, 정확도 : [1. 0. 0. 0.]\n",
      "bend, 정확도 : [1. 0. 0. 0.]\n",
      "bend, 정확도 : [1. 0. 0. 0.]\n",
      "bend, 정확도 : [1. 0. 0. 0.]\n",
      "bend, 정확도 : [1. 0. 0. 0.]\n",
      "bend, 정확도 : [1. 0. 0. 0.]\n",
      "bend, 정확도 : [1. 0. 0. 0.]\n",
      "bend, 정확도 : [1. 0. 0. 0.]\n",
      "bend, 정확도 : [1. 0. 0. 0.]\n",
      "bend, 정확도 : [1. 0. 0. 0.]\n",
      "bend, 정확도 : [1. 0. 0. 0.]\n",
      "bend, 정확도 : [1. 0. 0. 0.]\n",
      "bend, 정확도 : [1. 0. 0. 0.]\n",
      "bend, 정확도 : [1. 0. 0. 0.]\n",
      "bend, 정확도 : [1. 0. 0. 0.]\n",
      "bend, 정확도 : [1. 0. 0. 0.]\n",
      "bend, 정확도 : [1. 0. 0. 0.]\n",
      "bend, 정확도 : [1. 0. 0. 0.]\n",
      "bend, 정확도 : [1. 0. 0. 0.]\n",
      "bend, 정확도 : [1. 0. 0. 0.]\n",
      "bend, 정확도 : [1. 0. 0. 0.]\n",
      "bend, 정확도 : [1. 0. 0. 0.]\n",
      "bend, 정확도 : [1. 0. 0. 0.]\n",
      "bend, 정확도 : [1. 0. 0. 0.]\n",
      "bend, 정확도 : [1. 0. 0. 0.]\n",
      "bend, 정확도 : [1. 0. 0. 0.]\n",
      "bend, 정확도 : [1. 0. 0. 0.]\n",
      "bend, 정확도 : [1. 0. 0. 0.]\n",
      "bend, 정확도 : [1. 0. 0. 0.]\n",
      "bend, 정확도 : [1. 0. 0. 0.]\n",
      "bend, 정확도 : [1. 0. 0. 0.]\n",
      "bend, 정확도 : [1. 0. 0. 0.]\n",
      "bend, 정확도 : [1. 0. 0. 0.]\n",
      "bend, 정확도 : [1. 0. 0. 0.]\n",
      "bend, 정확도 : [1. 0. 0. 0.]\n",
      "bend, 정확도 : [1. 0. 0. 0.]\n",
      "bend, 정확도 : [1. 0. 0. 0.]\n",
      "bend, 정확도 : [1. 0. 0. 0.]\n",
      "bend, 정확도 : [1. 0. 0. 0.]\n",
      "bend, 정확도 : [1. 0. 0. 0.]\n",
      "bend, 정확도 : [1. 0. 0. 0.]\n",
      "bend, 정확도 : [1. 0. 0. 0.]\n",
      "bend, 정확도 : [1. 0. 0. 0.]\n",
      "bend, 정확도 : [1. 0. 0. 0.]\n",
      "bend, 정확도 : [1. 0. 0. 0.]\n",
      "bend, 정확도 : [1. 0. 0. 0.]\n",
      "bend, 정확도 : [1. 0. 0. 0.]\n",
      "bend, 정확도 : [1. 0. 0. 0.]\n",
      "bend, 정확도 : [1. 0. 0. 0.]\n",
      "bend, 정확도 : [1. 0. 0. 0.]\n",
      "bend, 정확도 : [1. 0. 0. 0.]\n",
      "bend, 정확도 : [1. 0. 0. 0.]\n",
      "bend, 정확도 : [1. 0. 0. 0.]\n",
      "bend, 정확도 : [1. 0. 0. 0.]\n",
      "bend, 정확도 : [1. 0. 0. 0.]\n",
      "bend, 정확도 : [1. 0. 0. 0.]\n",
      "bend, 정확도 : [1. 0. 0. 0.]\n",
      "bend, 정확도 : [1. 0. 0. 0.]\n",
      "bend, 정확도 : [1. 0. 0. 0.]\n",
      "bend, 정확도 : [1. 0. 0. 0.]\n",
      "bend, 정확도 : [1. 0. 0. 0.]\n",
      "bend, 정확도 : [1. 0. 0. 0.]\n",
      "bend, 정확도 : [1. 0. 0. 0.]\n",
      "bend, 정확도 : [1. 0. 0. 0.]\n",
      "bend, 정확도 : [1. 0. 0. 0.]\n",
      "bend, 정확도 : [1. 0. 0. 0.]\n",
      "bend, 정확도 : [1. 0. 0. 0.]\n",
      "bend, 정확도 : [1. 0. 0. 0.]\n",
      "bend, 정확도 : [1. 0. 0. 0.]\n",
      "bend, 정확도 : [1. 0. 0. 0.]\n",
      "bend, 정확도 : [1. 0. 0. 0.]\n",
      "bend, 정확도 : [1. 0. 0. 0.]\n",
      "bend, 정확도 : [1. 0. 0. 0.]\n",
      "bend, 정확도 : [1. 0. 0. 0.]\n",
      "bend, 정확도 : [1. 0. 0. 0.]\n",
      "bend, 정확도 : [1. 0. 0. 0.]\n",
      "bend, 정확도 : [1. 0. 0. 0.]\n",
      "bend, 정확도 : [1. 0. 0. 0.]\n",
      "bend, 정확도 : [1. 0. 0. 0.]\n",
      "bend, 정확도 : [1. 0. 0. 0.]\n",
      "bend, 정확도 : [1. 0. 0. 0.]\n",
      "bend, 정확도 : [1. 0. 0. 0.]\n",
      "bend, 정확도 : [1. 0. 0. 0.]\n",
      "bend, 정확도 : [1. 0. 0. 0.]\n",
      "bend, 정확도 : [1. 0. 0. 0.]\n",
      "bend, 정확도 : [1. 0. 0. 0.]\n",
      "bend, 정확도 : [1. 0. 0. 0.]\n",
      "bend, 정확도 : [1. 0. 0. 0.]\n",
      "bend, 정확도 : [1. 0. 0. 0.]\n",
      "bend, 정확도 : [1. 0. 0. 0.]\n",
      "bend, 정확도 : [1. 0. 0. 0.]\n",
      "bend, 정확도 : [1. 0. 0. 0.]\n",
      "bend, 정확도 : [1. 0. 0. 0.]\n",
      "bend, 정확도 : [1. 0. 0. 0.]\n",
      "bend, 정확도 : [1. 0. 0. 0.]\n",
      "bend, 정확도 : [1. 0. 0. 0.]\n",
      "bend, 정확도 : [1. 0. 0. 0.]\n",
      "bend, 정확도 : [1. 0. 0. 0.]\n",
      "bend, 정확도 : [1. 0. 0. 0.]\n",
      "bend, 정확도 : [1. 0. 0. 0.]\n",
      "bend, 정확도 : [1. 0. 0. 0.]\n",
      "bend, 정확도 : [1. 0. 0. 0.]\n",
      "bend, 정확도 : [1. 0. 0. 0.]\n",
      "bend, 정확도 : [1. 0. 0. 0.]\n",
      "bend, 정확도 : [1. 0. 0. 0.]\n",
      "bend, 정확도 : [1. 0. 0. 0.]\n",
      "bend, 정확도 : [1. 0. 0. 0.]\n",
      "bend, 정확도 : [1. 0. 0. 0.]\n",
      "bend, 정확도 : [1. 0. 0. 0.]\n",
      "bend, 정확도 : [1. 0. 0. 0.]\n",
      "bend, 정확도 : [1. 0. 0. 0.]\n",
      "bend, 정확도 : [1. 0. 0. 0.]\n",
      "bend, 정확도 : [1. 0. 0. 0.]\n",
      "bend, 정확도 : [1. 0. 0. 0.]\n",
      "bend, 정확도 : [1. 0. 0. 0.]\n",
      "bend, 정확도 : [1. 0. 0. 0.]\n",
      "bend, 정확도 : [1. 0. 0. 0.]\n",
      "bend, 정확도 : [1. 0. 0. 0.]\n",
      "bend, 정확도 : [1. 0. 0. 0.]\n",
      "bend, 정확도 : [1. 0. 0. 0.]\n",
      "bend, 정확도 : [1. 0. 0. 0.]\n",
      "bend, 정확도 : [1. 0. 0. 0.]\n",
      "bend, 정확도 : [1. 0. 0. 0.]\n",
      "bend, 정확도 : [1. 0. 0. 0.]\n",
      "bend, 정확도 : [1. 0. 0. 0.]\n",
      "bend, 정확도 : [1. 0. 0. 0.]\n",
      "bend, 정확도 : [1. 0. 0. 0.]\n",
      "bend, 정확도 : [1. 0. 0. 0.]\n",
      "bend, 정확도 : [1. 0. 0. 0.]\n",
      "bend, 정확도 : [1. 0. 0. 0.]\n",
      "bend, 정확도 : [1. 0. 0. 0.]\n",
      "bend, 정확도 : [1. 0. 0. 0.]\n",
      "bend, 정확도 : [1. 0. 0. 0.]\n",
      "bend, 정확도 : [1. 0. 0. 0.]\n",
      "bend, 정확도 : [1. 0. 0. 0.]\n",
      "bend, 정확도 : [1. 0. 0. 0.]\n",
      "bend, 정확도 : [1. 0. 0. 0.]\n",
      "bend, 정확도 : [1. 0. 0. 0.]\n",
      "bend, 정확도 : [1. 0. 0. 0.]\n",
      "bend, 정확도 : [1. 0. 0. 0.]\n",
      "bend, 정확도 : [1. 0. 0. 0.]\n",
      "bend, 정확도 : [1. 0. 0. 0.]\n",
      "bend, 정확도 : [1. 0. 0. 0.]\n",
      "bend, 정확도 : [1. 0. 0. 0.]\n",
      "bend, 정확도 : [1. 0. 0. 0.]\n",
      "bend, 정확도 : [1. 0. 0. 0.]\n",
      "bend, 정확도 : [1. 0. 0. 0.]\n",
      "bend, 정확도 : [1. 0. 0. 0.]\n",
      "bend, 정확도 : [1. 0. 0. 0.]\n",
      "bend, 정확도 : [1. 0. 0. 0.]\n",
      "bend, 정확도 : [1. 0. 0. 0.]\n",
      "bend, 정확도 : [1. 0. 0. 0.]\n",
      "bend, 정확도 : [1. 0. 0. 0.]\n",
      "bend, 정확도 : [1. 0. 0. 0.]\n",
      "bend, 정확도 : [1. 0. 0. 0.]\n",
      "bend, 정확도 : [1. 0. 0. 0.]\n",
      "bend, 정확도 : [1. 0. 0. 0.]\n",
      "bend, 정확도 : [1. 0. 0. 0.]\n",
      "bend, 정확도 : [1. 0. 0. 0.]\n",
      "bend, 정확도 : [1. 0. 0. 0.]\n",
      "bend, 정확도 : [1. 0. 0. 0.]\n",
      "bend, 정확도 : [1. 0. 0. 0.]\n",
      "bend, 정확도 : [1. 0. 0. 0.]\n",
      "bend, 정확도 : [1. 0. 0. 0.]\n",
      "bend, 정확도 : [1. 0. 0. 0.]\n",
      "bend, 정확도 : [1. 0. 0. 0.]\n",
      "bend, 정확도 : [1. 0. 0. 0.]\n",
      "bend, 정확도 : [1. 0. 0. 0.]\n",
      "bend, 정확도 : [1. 0. 0. 0.]\n",
      "bend, 정확도 : [1. 0. 0. 0.]\n",
      "bend, 정확도 : [1. 0. 0. 0.]\n",
      "bend, 정확도 : [1. 0. 0. 0.]\n",
      "bend, 정확도 : [1. 0. 0. 0.]\n",
      "bend, 정확도 : [1. 0. 0. 0.]\n",
      "bend, 정확도 : [1. 0. 0. 0.]\n",
      "bend, 정확도 : [1. 0. 0. 0.]\n",
      "bend, 정확도 : [1. 0. 0. 0.]\n",
      "bend, 정확도 : [1. 0. 0. 0.]\n",
      "bend, 정확도 : [1. 0. 0. 0.]\n",
      "bend, 정확도 : [1. 0. 0. 0.]\n",
      "bend, 정확도 : [1. 0. 0. 0.]\n",
      "bend, 정확도 : [1. 0. 0. 0.]\n",
      "bend, 정확도 : [1. 0. 0. 0.]\n",
      "bend, 정확도 : [1. 0. 0. 0.]\n",
      "bend, 정확도 : [1. 0. 0. 0.]\n",
      "bend, 정확도 : [1. 0. 0. 0.]\n",
      "bend, 정확도 : [1. 0. 0. 0.]\n",
      "bend, 정확도 : [1. 0. 0. 0.]\n",
      "bend, 정확도 : [1. 0. 0. 0.]\n",
      "bend, 정확도 : [1. 0. 0. 0.]\n",
      "bend, 정확도 : [1. 0. 0. 0.]\n",
      "bend, 정확도 : [1. 0. 0. 0.]\n",
      "bend, 정확도 : [1. 0. 0. 0.]\n",
      "bend, 정확도 : [1. 0. 0. 0.]\n",
      "bend, 정확도 : [1. 0. 0. 0.]\n",
      "bend, 정확도 : [1. 0. 0. 0.]\n",
      "bend, 정확도 : [1. 0. 0. 0.]\n",
      "bend, 정확도 : [1. 0. 0. 0.]\n",
      "bend, 정확도 : [1. 0. 0. 0.]\n",
      "bend, 정확도 : [1. 0. 0. 0.]\n",
      "bend, 정확도 : [1. 0. 0. 0.]\n",
      "bend, 정확도 : [1. 0. 0. 0.]\n",
      "bend, 정확도 : [1. 0. 0. 0.]\n",
      "bend, 정확도 : [1. 0. 0. 0.]\n",
      "bend, 정확도 : [1. 0. 0. 0.]\n",
      "bend, 정확도 : [1. 0. 0. 0.]\n",
      "bend, 정확도 : [1. 0. 0. 0.]\n",
      "bend, 정확도 : [1. 0. 0. 0.]\n",
      "bend, 정확도 : [1. 0. 0. 0.]\n",
      "bend, 정확도 : [1. 0. 0. 0.]\n",
      "bend, 정확도 : [1. 0. 0. 0.]\n",
      "bend, 정확도 : [1. 0. 0. 0.]\n",
      "bend, 정확도 : [1. 0. 0. 0.]\n",
      "bend, 정확도 : [1. 0. 0. 0.]\n",
      "bend, 정확도 : [1. 0. 0. 0.]\n",
      "bend, 정확도 : [1. 0. 0. 0.]\n",
      "bend, 정확도 : [1. 0. 0. 0.]\n",
      "bend, 정확도 : [1. 0. 0. 0.]\n",
      "bend, 정확도 : [1. 0. 0. 0.]\n",
      "bend, 정확도 : [1. 0. 0. 0.]\n",
      "bend, 정확도 : [1. 0. 0. 0.]\n",
      "bend, 정확도 : [1. 0. 0. 0.]\n",
      "bend, 정확도 : [1. 0. 0. 0.]\n",
      "bend, 정확도 : [1. 0. 0. 0.]\n",
      "bend, 정확도 : [1. 0. 0. 0.]\n",
      "bend, 정확도 : [1. 0. 0. 0.]\n",
      "bend, 정확도 : [1. 0. 0. 0.]\n",
      "bend, 정확도 : [1. 0. 0. 0.]\n",
      "bend, 정확도 : [1. 0. 0. 0.]\n",
      "bend, 정확도 : [1. 0. 0. 0.]\n",
      "bend, 정확도 : [1. 0. 0. 0.]\n",
      "bend, 정확도 : [1. 0. 0. 0.]\n",
      "bend, 정확도 : [1. 0. 0. 0.]\n",
      "bend, 정확도 : [1. 0. 0. 0.]\n",
      "bend, 정확도 : [1. 0. 0. 0.]\n",
      "bend, 정확도 : [1. 0. 0. 0.]\n",
      "bend, 정확도 : [1. 0. 0. 0.]\n",
      "bend, 정확도 : [1. 0. 0. 0.]\n",
      "bend, 정확도 : [1. 0. 0. 0.]\n",
      "bend, 정확도 : [1. 0. 0. 0.]\n",
      "bend, 정확도 : [1. 0. 0. 0.]\n",
      "bend, 정확도 : [1. 0. 0. 0.]\n",
      "bend, 정확도 : [1. 0. 0. 0.]\n",
      "bend, 정확도 : [1. 0. 0. 0.]\n",
      "bend, 정확도 : [1. 0. 0. 0.]\n",
      "bend, 정확도 : [1. 0. 0. 0.]\n",
      "bend, 정확도 : [1. 0. 0. 0.]\n",
      "bend, 정확도 : [1. 0. 0. 0.]\n",
      "bend, 정확도 : [1. 0. 0. 0.]\n",
      "bend, 정확도 : [1. 0. 0. 0.]\n",
      "bend, 정확도 : [1. 0. 0. 0.]\n",
      "bend, 정확도 : [1. 0. 0. 0.]\n",
      "bend, 정확도 : [1. 0. 0. 0.]\n",
      "bend, 정확도 : [1. 0. 0. 0.]\n",
      "bend, 정확도 : [1. 0. 0. 0.]\n",
      "bend, 정확도 : [1. 0. 0. 0.]\n",
      "bend, 정확도 : [1. 0. 0. 0.]\n",
      "bend, 정확도 : [1. 0. 0. 0.]\n",
      "bend, 정확도 : [1. 0. 0. 0.]\n",
      "bend, 정확도 : [1. 0. 0. 0.]\n",
      "bend, 정확도 : [1. 0. 0. 0.]\n",
      "bend, 정확도 : [1. 0. 0. 0.]\n",
      "bend, 정확도 : [1. 0. 0. 0.]\n",
      "bend, 정확도 : [1. 0. 0. 0.]\n",
      "bend, 정확도 : [1. 0. 0. 0.]\n",
      "bend, 정확도 : [1. 0. 0. 0.]\n",
      "bend, 정확도 : [1. 0. 0. 0.]\n",
      "bend, 정확도 : [1. 0. 0. 0.]\n",
      "bend, 정확도 : [1. 0. 0. 0.]\n",
      "bend, 정확도 : [1. 0. 0. 0.]\n",
      "bend, 정확도 : [1. 0. 0. 0.]\n",
      "bend, 정확도 : [1. 0. 0. 0.]\n",
      "bend, 정확도 : [1. 0. 0. 0.]\n",
      "bend, 정확도 : [1. 0. 0. 0.]\n",
      "bend, 정확도 : [1. 0. 0. 0.]\n",
      "bend, 정확도 : [1. 0. 0. 0.]\n",
      "bend, 정확도 : [1. 0. 0. 0.]\n",
      "bend, 정확도 : [1. 0. 0. 0.]\n",
      "bend, 정확도 : [1. 0. 0. 0.]\n",
      "bend, 정확도 : [1. 0. 0. 0.]\n",
      "bend, 정확도 : [1. 0. 0. 0.]\n",
      "bend, 정확도 : [1. 0. 0. 0.]\n",
      "bend, 정확도 : [1. 0. 0. 0.]\n",
      "bend, 정확도 : [1. 0. 0. 0.]\n",
      "bend, 정확도 : [1. 0. 0. 0.]\n",
      "bend, 정확도 : [1. 0. 0. 0.]\n",
      "bend, 정확도 : [1. 0. 0. 0.]\n",
      "bend, 정확도 : [1. 0. 0. 0.]\n",
      "bend, 정확도 : [1. 0. 0. 0.]\n",
      "bend, 정확도 : [1. 0. 0. 0.]\n",
      "bend, 정확도 : [1. 0. 0. 0.]\n",
      "bend, 정확도 : [1. 0. 0. 0.]\n",
      "bend, 정확도 : [1. 0. 0. 0.]\n",
      "bend, 정확도 : [1. 0. 0. 0.]\n",
      "bend, 정확도 : [1. 0. 0. 0.]\n",
      "bend, 정확도 : [1. 0. 0. 0.]\n",
      "bend, 정확도 : [0.66666667 0.         0.33333333 0.        ]\n",
      "bend, 정확도 : [0.66666667 0.         0.33333333 0.        ]\n",
      "right, 정확도 : [0.33333333 0.         0.66666667 0.        ]\n",
      "right, 정확도 : [0.33333333 0.         0.66666667 0.        ]\n",
      "right, 정확도 : [0.33333333 0.         0.66666667 0.        ]\n",
      "right, 정확도 : [0. 0. 1. 0.]\n",
      "right, 정확도 : [0. 0. 1. 0.]\n",
      "right, 정확도 : [0. 0. 1. 0.]\n",
      "right, 정확도 : [0. 0. 1. 0.]\n",
      "right, 정확도 : [0. 0. 1. 0.]\n",
      "right, 정확도 : [0.33333333 0.         0.66666667 0.        ]\n",
      "right, 정확도 : [0. 0. 1. 0.]\n",
      "right, 정확도 : [0. 0. 1. 0.]\n",
      "right, 정확도 : [0. 0. 1. 0.]\n",
      "right, 정확도 : [0. 0. 1. 0.]\n",
      "right, 정확도 : [0. 0. 1. 0.]\n",
      "right, 정확도 : [0. 0. 1. 0.]\n",
      "right, 정확도 : [0. 0. 1. 0.]\n",
      "right, 정확도 : [0. 0. 1. 0.]\n",
      "right, 정확도 : [0. 0. 1. 0.]\n",
      "right, 정확도 : [0. 0. 1. 0.]\n",
      "right, 정확도 : [0.33333333 0.         0.66666667 0.        ]\n",
      "right, 정확도 : [0.33333333 0.         0.66666667 0.        ]\n",
      "right, 정확도 : [0.33333333 0.         0.66666667 0.        ]\n",
      "bend, 정확도 : [0.66666667 0.         0.33333333 0.        ]\n",
      "bend, 정확도 : [0.66666667 0.         0.33333333 0.        ]\n",
      "bend, 정확도 : [0.66666667 0.         0.33333333 0.        ]\n",
      "bend, 정확도 : [0.66666667 0.         0.33333333 0.        ]\n",
      "bend, 정확도 : [0.66666667 0.         0.33333333 0.        ]\n",
      "bend, 정확도 : [0.66666667 0.         0.33333333 0.        ]\n",
      "bend, 정확도 : [0.66666667 0.         0.33333333 0.        ]\n",
      "bend, 정확도 : [0.66666667 0.         0.33333333 0.        ]\n",
      "bend, 정확도 : [0.66666667 0.         0.33333333 0.        ]\n",
      "bend, 정확도 : [0.66666667 0.         0.33333333 0.        ]\n",
      "bend, 정확도 : [0.66666667 0.         0.33333333 0.        ]\n",
      "bend, 정확도 : [0.66666667 0.         0.33333333 0.        ]\n",
      "bend, 정확도 : [0.66666667 0.         0.33333333 0.        ]\n",
      "right, 정확도 : [0.33333333 0.         0.66666667 0.        ]\n",
      "bend, 정확도 : [0.66666667 0.         0.33333333 0.        ]\n",
      "right, 정확도 : [0. 0. 1. 0.]\n",
      "right, 정확도 : [0. 0. 1. 0.]\n",
      "right, 정확도 : [0. 0. 1. 0.]\n",
      "right, 정확도 : [0.33333333 0.         0.66666667 0.        ]\n",
      "bend, 정확도 : [0.66666667 0.         0.33333333 0.        ]\n",
      "bend, 정확도 : [1. 0. 0. 0.]\n",
      "bend, 정확도 : [1. 0. 0. 0.]\n",
      "bend, 정확도 : [1. 0. 0. 0.]\n",
      "bend, 정확도 : [1. 0. 0. 0.]\n",
      "bend, 정확도 : [1. 0. 0. 0.]\n",
      "bend, 정확도 : [0.66666667 0.         0.33333333 0.        ]\n",
      "bend, 정확도 : [1. 0. 0. 0.]\n",
      "bend, 정확도 : [0.66666667 0.         0.33333333 0.        ]\n",
      "bend, 정확도 : [0.66666667 0.         0.33333333 0.        ]\n",
      "bend, 정확도 : [1. 0. 0. 0.]\n",
      "bend, 정확도 : [1. 0. 0. 0.]\n",
      "bend, 정확도 : [1. 0. 0. 0.]\n",
      "bend, 정확도 : [1. 0. 0. 0.]\n",
      "bend, 정확도 : [0.66666667 0.         0.33333333 0.        ]\n",
      "bend, 정확도 : [0.66666667 0.         0.33333333 0.        ]\n",
      "bend, 정확도 : [0.66666667 0.         0.33333333 0.        ]\n",
      "bend, 정확도 : [0.66666667 0.         0.33333333 0.        ]\n",
      "bend, 정확도 : [0.66666667 0.         0.33333333 0.        ]\n",
      "bend, 정확도 : [0.66666667 0.         0.33333333 0.        ]\n",
      "bend, 정확도 : [0.66666667 0.         0.33333333 0.        ]\n",
      "bend, 정확도 : [0.66666667 0.         0.33333333 0.        ]\n",
      "bend, 정확도 : [0.66666667 0.         0.33333333 0.        ]\n",
      "bend, 정확도 : [0.66666667 0.         0.33333333 0.        ]\n",
      "bend, 정확도 : [0.66666667 0.         0.33333333 0.        ]\n",
      "bend, 정확도 : [0.66666667 0.         0.33333333 0.        ]\n",
      "bend, 정확도 : [0.66666667 0.         0.33333333 0.        ]\n",
      "bend, 정확도 : [0.66666667 0.         0.33333333 0.        ]\n",
      "right, 정확도 : [0. 0. 1. 0.]\n",
      "right, 정확도 : [0.33333333 0.         0.66666667 0.        ]\n",
      "bend, 정확도 : [0.66666667 0.         0.33333333 0.        ]\n",
      "bend, 정확도 : [1. 0. 0. 0.]\n",
      "bend, 정확도 : [1. 0. 0. 0.]\n",
      "bend, 정확도 : [1. 0. 0. 0.]\n",
      "bend, 정확도 : [1. 0. 0. 0.]\n",
      "bend, 정확도 : [1. 0. 0. 0.]\n",
      "bend, 정확도 : [1. 0. 0. 0.]\n",
      "bend, 정확도 : [0.66666667 0.         0.33333333 0.        ]\n",
      "bend, 정확도 : [0.66666667 0.         0.33333333 0.        ]\n",
      "bend, 정확도 : [0.66666667 0.         0.33333333 0.        ]\n",
      "right, 정확도 : [0.33333333 0.         0.66666667 0.        ]\n",
      "right, 정확도 : [0. 0. 1. 0.]\n",
      "right, 정확도 : [0. 0. 1. 0.]\n",
      "right, 정확도 : [0.33333333 0.         0.66666667 0.        ]\n",
      "right, 정확도 : [0. 0. 1. 0.]\n",
      "right, 정확도 : [0.33333333 0.         0.66666667 0.        ]\n",
      "right, 정확도 : [0.33333333 0.         0.66666667 0.        ]\n",
      "right, 정확도 : [0.33333333 0.         0.66666667 0.        ]\n",
      "right, 정확도 : [0.33333333 0.         0.66666667 0.        ]\n",
      "right, 정확도 : [0.33333333 0.         0.66666667 0.        ]\n",
      "right, 정확도 : [0.33333333 0.         0.66666667 0.        ]\n",
      "right, 정확도 : [0.33333333 0.         0.66666667 0.        ]\n",
      "right, 정확도 : [0.33333333 0.         0.66666667 0.        ]\n",
      "right, 정확도 : [0.33333333 0.         0.66666667 0.        ]\n",
      "right, 정확도 : [0.33333333 0.         0.66666667 0.        ]\n",
      "bend, 정확도 : [0.66666667 0.         0.33333333 0.        ]\n",
      "bend, 정확도 : [0.66666667 0.         0.33333333 0.        ]\n",
      "right, 정확도 : [0.33333333 0.         0.66666667 0.        ]\n",
      "bend, 정확도 : [0.66666667 0.         0.33333333 0.        ]\n",
      "bend, 정확도 : [0.66666667 0.         0.33333333 0.        ]\n",
      "bend, 정확도 : [0.66666667 0.         0.33333333 0.        ]\n",
      "right, 정확도 : [0.33333333 0.         0.66666667 0.        ]\n",
      "bend, 정확도 : [0.66666667 0.         0.33333333 0.        ]\n",
      "bend, 정확도 : [0.66666667 0.         0.33333333 0.        ]\n",
      "right, 정확도 : [0.33333333 0.         0.66666667 0.        ]\n",
      "right, 정확도 : [0.33333333 0.         0.66666667 0.        ]\n",
      "right, 정확도 : [0.33333333 0.         0.66666667 0.        ]\n",
      "right, 정확도 : [0.33333333 0.         0.66666667 0.        ]\n",
      "bend, 정확도 : [0.66666667 0.         0.33333333 0.        ]\n",
      "right, 정확도 : [0.33333333 0.         0.66666667 0.        ]\n",
      "right, 정확도 : [0.33333333 0.         0.66666667 0.        ]\n",
      "bend, 정확도 : [0.66666667 0.         0.33333333 0.        ]\n",
      "bend, 정확도 : [0.66666667 0.         0.33333333 0.        ]\n",
      "right, 정확도 : [0.33333333 0.         0.66666667 0.        ]\n",
      "right, 정확도 : [0.33333333 0.         0.66666667 0.        ]\n",
      "right, 정확도 : [0.33333333 0.         0.66666667 0.        ]\n",
      "right, 정확도 : [0.33333333 0.         0.66666667 0.        ]\n",
      "right, 정확도 : [0.33333333 0.         0.66666667 0.        ]\n",
      "right, 정확도 : [0.33333333 0.         0.66666667 0.        ]\n",
      "right, 정확도 : [0.33333333 0.         0.66666667 0.        ]\n",
      "right, 정확도 : [0.33333333 0.         0.66666667 0.        ]\n",
      "bend, 정확도 : [0.66666667 0.         0.33333333 0.        ]\n",
      "right, 정확도 : [0.33333333 0.         0.66666667 0.        ]\n",
      "right, 정확도 : [0.33333333 0.         0.66666667 0.        ]\n",
      "right, 정확도 : [0.33333333 0.         0.66666667 0.        ]\n",
      "right, 정확도 : [0.33333333 0.         0.66666667 0.        ]\n",
      "right, 정확도 : [0.33333333 0.         0.66666667 0.        ]\n",
      "right, 정확도 : [0.33333333 0.         0.66666667 0.        ]\n",
      "right, 정확도 : [0.33333333 0.         0.66666667 0.        ]\n",
      "right, 정확도 : [0.33333333 0.         0.66666667 0.        ]\n",
      "bend, 정확도 : [0.66666667 0.         0.33333333 0.        ]\n",
      "bend, 정확도 : [0.66666667 0.         0.33333333 0.        ]\n",
      "bend, 정확도 : [0.66666667 0.         0.33333333 0.        ]\n",
      "bend, 정확도 : [0.66666667 0.         0.33333333 0.        ]\n",
      "bend, 정확도 : [0.66666667 0.         0.33333333 0.        ]\n",
      "right, 정확도 : [0.33333333 0.         0.66666667 0.        ]\n",
      "bend, 정확도 : [0.66666667 0.         0.33333333 0.        ]\n"
     ]
    }
   ],
   "source": [
    "# 각 회마다 맞는 자세인지 매핑하기\n",
    "val=[]\n",
    "actions = ['bend',  'headup', 'right', 'waistup']\n",
    "for i in range(len(result)):\n",
    "    if result[i] ==0:\n",
    "        val.append(actions[0])\n",
    "    elif result[i] ==1:\n",
    "        val.append(actions[1])\n",
    "    elif result[i] == 2:\n",
    "        val.append(actions[2])\n",
    "    elif result[i] ==3:\n",
    "        val.append(actions[3])\n",
    "    \n",
    "    print(f'{val[i]}, 정확도 : {proba[i]}')"
   ]
  },
  {
   "cell_type": "code",
   "execution_count": null,
   "metadata": {},
   "outputs": [],
   "source": []
  }
 ],
 "metadata": {
  "kernelspec": {
   "display_name": "Python 3 (ipykernel)",
   "language": "python",
   "name": "python3"
  },
  "language_info": {
   "codemirror_mode": {
    "name": "ipython",
    "version": 3
   },
   "file_extension": ".py",
   "mimetype": "text/x-python",
   "name": "python",
   "nbconvert_exporter": "python",
   "pygments_lexer": "ipython3",
   "version": "3.9.15 (main, Nov 24 2022, 14:39:17) [MSC v.1916 64 bit (AMD64)]"
  },
  "vscode": {
   "interpreter": {
    "hash": "04b12d0f46d0b94a4a210922b4c957acdd0ce8f9b1ff617e952ccd892edfddf0"
   }
  }
 },
 "nbformat": 4,
 "nbformat_minor": 2
}
