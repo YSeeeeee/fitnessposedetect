{
 "cells": [
  {
   "cell_type": "code",
   "execution_count": 1,
   "metadata": {},
   "outputs": [],
   "source": [
    "import os\n",
    "import splitfolders\n",
    "from tensorflow.keras.preprocessing.image import ImageDataGenerator\n",
    "os.environ[\"CUDA_VISIBLE_DEVICES\"]=\"0\"\n",
    "from tensorflow.keras import Sequential\n",
    "from tensorflow.keras.layers import Dense , Conv2D, MaxPool2D, Flatten, Dropout"
   ]
  },
  {
   "cell_type": "code",
   "execution_count": 2,
   "metadata": {},
   "outputs": [],
   "source": [
    "# 폴더안의 데이터를 train, test, val로 나누기 -> dataset 폴더안에 나뉘어짐\n",
    "splitfolders.ratio(\"./4pose/\",output=\"./dataset/\",seed=1337,ratio=(.8,.1,.1))"
   ]
  },
  {
   "cell_type": "code",
   "execution_count": 3,
   "metadata": {},
   "outputs": [],
   "source": [
    "# 각각 폴더 경로 선언\n",
    "train_dir = './dataset/train/'\n",
    "test_dir = './dataset/test/'\n",
    "val_dir = './dataset/val/'"
   ]
  },
  {
   "cell_type": "code",
   "execution_count": 4,
   "metadata": {},
   "outputs": [
    {
     "name": "stdout",
     "output_type": "stream",
     "text": [
      "Found 320 images belonging to 4 classes.\n",
      "Found 40 images belonging to 4 classes.\n",
      "Found 40 images belonging to 4 classes.\n",
      "{'90leg': 0, 'head up': 1, 'lay down': 2, 'lay up': 3}\n"
     ]
    }
   ],
   "source": [
    "# 폴더 전처리 한번에 -> ImageDataGenerator\n",
    "generator = ImageDataGenerator(rescale = 1./255)\n",
    "train_generator = generator.flow_from_directory(\n",
    "    directory = train_dir, \n",
    "    target_size = (150,150), \n",
    "    batch_size = 100, \n",
    "    class_mode = 'categorical'\n",
    ")\n",
    "test_generator = generator.flow_from_directory(\n",
    "    directory = test_dir, \n",
    "    target_size = (150,150), \n",
    "    batch_size = 100, \n",
    "    class_mode = 'categorical'\n",
    ")\n",
    "val_generator = generator.flow_from_directory(\n",
    "    directory = val_dir, \n",
    "    target_size = (150,150), \n",
    "    batch_size = 100, \n",
    "    class_mode = 'categorical'\n",
    ")\n",
    "# 다중분류 -> categorical \n",
    "# 다리 90도 , 고개 90도, 다리 내린자세, 다리 올린자세\n",
    "print(train_generator.class_indices)"
   ]
  },
  {
   "cell_type": "code",
   "execution_count": 5,
   "metadata": {},
   "outputs": [],
   "source": [
    "# CNN 모델 선언\n",
    "model = Sequential()\n",
    "# 입력층 , Conv층 \n",
    "model.add(Conv2D(\n",
    "    filters = 32 , \n",
    "    kernel_size = (3,3),\n",
    "    input_shape = (150,150,3),\n",
    "    padding='same',\n",
    "    activation = 'relu'\n",
    "))\n",
    "\n",
    "# Pool층\n",
    "model.add(MaxPool2D(\n",
    "    pool_size= (2,2)\n",
    "))\n",
    "# 특징 과대적합 방지 -> dropout \n",
    "model.add(Dropout(0.3))\n",
    "\n",
    "model.add(Conv2D(\n",
    "    filters = 16 ,\n",
    "    kernel_size = (3,3),\n",
    "    padding='same',\n",
    "    activation = 'relu'\n",
    "))\n",
    "model.add(MaxPool2D(\n",
    "    pool_size=(2,2) \n",
    "))\n",
    "model.add(Dropout(0.3))\n",
    "# 특징 추출 끝\n",
    "# 1차원으로 펼치기 \n",
    "model.add(Flatten())\n",
    "# 시작 \n",
    "model.add(Dense(units=64, activation='relu'))\n",
    "model.add(Dropout(0.3))\n",
    "model.add(Dense(units=16, activation='relu'))\n",
    "# 출력 - units -> 특성수 = 4 , 다중분류 -> softmax\n",
    "model.add(Dense(units=4,activation='softmax'))"
   ]
  },
  {
   "cell_type": "code",
   "execution_count": 6,
   "metadata": {},
   "outputs": [],
   "source": [
    "# 모델 학습과정 설정하기\n",
    "model.compile(\n",
    "    loss = 'categorical_crossentropy',\n",
    "    optimizer = 'adam',\n",
    "    metrics = ['accuracy']\n",
    ")"
   ]
  },
  {
   "cell_type": "code",
   "execution_count": 7,
   "metadata": {},
   "outputs": [
    {
     "name": "stderr",
     "output_type": "stream",
     "text": [
      "C:\\Users\\smhrd\\AppData\\Local\\Temp\\ipykernel_10516\\647605993.py:1: UserWarning: `Model.fit_generator` is deprecated and will be removed in a future version. Please use `Model.fit`, which supports generators.\n",
      "  model.fit_generator(\n"
     ]
    },
    {
     "name": "stdout",
     "output_type": "stream",
     "text": [
      "Epoch 1/20\n",
      "4/4 [==============================] - 8s 798ms/step - loss: 1.8705 - accuracy: 0.2937 - val_loss: 1.3702 - val_accuracy: 0.4750\n",
      "Epoch 2/20\n",
      "4/4 [==============================] - 3s 639ms/step - loss: 1.4271 - accuracy: 0.3313 - val_loss: 1.3808 - val_accuracy: 0.3250\n",
      "Epoch 3/20\n",
      "4/4 [==============================] - 3s 853ms/step - loss: 1.3632 - accuracy: 0.3125 - val_loss: 1.3859 - val_accuracy: 0.2500\n",
      "Epoch 4/20\n",
      "4/4 [==============================] - 3s 838ms/step - loss: 1.3690 - accuracy: 0.3219 - val_loss: 1.3862 - val_accuracy: 0.2500\n",
      "Epoch 5/20\n",
      "4/4 [==============================] - 3s 589ms/step - loss: 1.3622 - accuracy: 0.3719 - val_loss: 1.3860 - val_accuracy: 0.2500\n",
      "Epoch 6/20\n",
      "4/4 [==============================] - 3s 862ms/step - loss: 1.3430 - accuracy: 0.3344 - val_loss: 1.3766 - val_accuracy: 0.2500\n",
      "Epoch 7/20\n",
      "4/4 [==============================] - 3s 590ms/step - loss: 1.3168 - accuracy: 0.3375 - val_loss: 1.2572 - val_accuracy: 0.5500\n",
      "Epoch 8/20\n",
      "4/4 [==============================] - 3s 679ms/step - loss: 1.2254 - accuracy: 0.4375 - val_loss: 1.1210 - val_accuracy: 0.4750\n",
      "Epoch 9/20\n",
      "4/4 [==============================] - 3s 983ms/step - loss: 1.2144 - accuracy: 0.4031 - val_loss: 1.0728 - val_accuracy: 0.5500\n",
      "Epoch 10/20\n",
      "4/4 [==============================] - 3s 595ms/step - loss: 1.1925 - accuracy: 0.4281 - val_loss: 1.1200 - val_accuracy: 0.5500\n",
      "Epoch 11/20\n",
      "4/4 [==============================] - 3s 617ms/step - loss: 1.1493 - accuracy: 0.4406 - val_loss: 1.1141 - val_accuracy: 0.5500\n",
      "Epoch 12/20\n",
      "4/4 [==============================] - 3s 629ms/step - loss: 1.1368 - accuracy: 0.5000 - val_loss: 1.0845 - val_accuracy: 0.5500\n",
      "Epoch 13/20\n",
      "4/4 [==============================] - 3s 629ms/step - loss: 1.0745 - accuracy: 0.4906 - val_loss: 1.0011 - val_accuracy: 0.5500\n",
      "Epoch 14/20\n",
      "4/4 [==============================] - 3s 615ms/step - loss: 1.0849 - accuracy: 0.4531 - val_loss: 0.9686 - val_accuracy: 0.6500\n",
      "Epoch 15/20\n",
      "4/4 [==============================] - 3s 647ms/step - loss: 1.0538 - accuracy: 0.4906 - val_loss: 0.9963 - val_accuracy: 0.7000\n",
      "Epoch 16/20\n",
      "4/4 [==============================] - 3s 598ms/step - loss: 1.0024 - accuracy: 0.5719 - val_loss: 0.9243 - val_accuracy: 0.7000\n",
      "Epoch 17/20\n",
      "4/4 [==============================] - 3s 570ms/step - loss: 1.0364 - accuracy: 0.4688 - val_loss: 0.8813 - val_accuracy: 0.7000\n",
      "Epoch 18/20\n",
      "4/4 [==============================] - 3s 581ms/step - loss: 1.0048 - accuracy: 0.5250 - val_loss: 0.8603 - val_accuracy: 0.7750\n",
      "Epoch 19/20\n",
      "4/4 [==============================] - 3s 879ms/step - loss: 0.9934 - accuracy: 0.5000 - val_loss: 0.8471 - val_accuracy: 0.6500\n",
      "Epoch 20/20\n",
      "4/4 [==============================] - 3s 569ms/step - loss: 0.9770 - accuracy: 0.5500 - val_loss: 0.8701 - val_accuracy: 0.7250\n"
     ]
    },
    {
     "data": {
      "text/plain": [
       "<keras.callbacks.History at 0x1c4502319d0>"
      ]
     },
     "execution_count": 7,
     "metadata": {},
     "output_type": "execute_result"
    }
   ],
   "source": [
    "#학습\n",
    "model.fit_generator(\n",
    "    generator = train_generator,\n",
    "    epochs = 20,\n",
    "    validation_data = val_generator\n",
    ")"
   ]
  },
  {
   "cell_type": "code",
   "execution_count": null,
   "metadata": {},
   "outputs": [],
   "source": [
    "from keras.models import load_model\n",
    "model.save('')"
   ]
  }
 ],
 "metadata": {
  "kernelspec": {
   "display_name": "Python 3.9.15 ('project')",
   "language": "python",
   "name": "python3"
  },
  "language_info": {
   "codemirror_mode": {
    "name": "ipython",
    "version": 3
   },
   "file_extension": ".py",
   "mimetype": "text/x-python",
   "name": "python",
   "nbconvert_exporter": "python",
   "pygments_lexer": "ipython3",
   "version": "3.9.15"
  },
  "orig_nbformat": 4,
  "vscode": {
   "interpreter": {
    "hash": "25f0ce4f8edf86d47345577984872101956248f255ca518b20876280a4f11d3d"
   }
  }
 },
 "nbformat": 4,
 "nbformat_minor": 2
}
