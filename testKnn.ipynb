{
 "cells": [
  {
   "cell_type": "code",
   "execution_count": 1,
   "metadata": {},
   "outputs": [],
   "source": [
    "import cv2\n",
    "import mediapipe as mp\n",
    "import pickle\n",
    "import math\n",
    "import os\n",
    "import numpy as np\n",
    "os.environ[\"CUDA_VISIBLE_DEVICES\"]=\"0\"\n",
    "import pandas as pd\n",
    "import matplotlib.pyplot as plt"
   ]
  },
  {
   "cell_type": "code",
   "execution_count": 2,
   "metadata": {},
   "outputs": [],
   "source": [
    "# media pipe pose 전역변수로 설정\n",
    "mp_pose = mp.solutions.pose\n",
    "pose = mp_pose.Pose(static_image_mode=True,min_detection_confidence=0.3, model_complexity=0)\n",
    "mp_drawing = mp.solutions.drawing_utils"
   ]
  },
  {
   "cell_type": "code",
   "execution_count": 3,
   "metadata": {},
   "outputs": [],
   "source": [
    "# 포즈 감지 함수\n",
    "def detectPose(image,pose,display=True):\n",
    "    # input 이미지 복사\n",
    "    output_image = image.copy()\n",
    "    # RGB로 변환\n",
    "    imageRGB = cv2.cvtColor(image,cv2.COLOR_BGR2RGB)\n",
    "    # 렌드마크 찍기\n",
    "    results = pose.process(imageRGB)\n",
    "    # 사진 사이즈 구하기\n",
    "    height, width, _ = image.shape\n",
    "    # 렌드마크 값 리스트 만들기\n",
    "    landmarks = []\n",
    "\n",
    "    if results.pose_landmarks:\n",
    "        # 렌드마크 그리기\n",
    "        mp_drawing.draw_landmarks(image=output_image, landmark_list=results.pose_landmarks, connections=mp_pose.POSE_CONNECTIONS)\n",
    "        #렌드마크 정규값 landmarks 리스트에 넣기\n",
    "        for landmark in results.pose_landmarks.landmark:\n",
    "\n",
    "            landmarks.append((int(landmark.x*width), int(landmark.y*height), (landmark.z*width)))\n",
    "    # 사진 결과 보기\n",
    "    if display:\n",
    "        plt.figure(figsize=[22,22])\n",
    "        plt.subplot(121);plt.imshow(image[:,:,::-1]);plt.title(\"Original Image\");plt.axis('off');\n",
    "        plt.subplot(122);plt.imshow(output_image[:,:,::-1]);plt.title(\"Output Image\");plt.axis('off');\n",
    "        # 3차원으로도 봐보기\n",
    "        mp_drawing.plot_landmarks(results.pose_world_landmarks, mp_pose.POSE_CONNECTIONS)\n",
    "    else:\n",
    "    # diaplay 에 false 입력시 이미지랑 렌드마크 정보 반환\n",
    "        return output_image, landmarks"
   ]
  },
  {
   "cell_type": "code",
   "execution_count": 4,
   "metadata": {},
   "outputs": [],
   "source": [
    "# 각도 구하는 함수\n",
    "def calculateAngle(landmark1, landmark2, landmark3):\n",
    "    x1,y1,_ = landmark1 # z 좌표는 사용 x\n",
    "    x2,y2,_ = landmark2\n",
    "    x3,y3,_ = landmark3\n",
    "    # 3점의 각도 -> 선 2개 -> 각도\n",
    "    angle = math.degrees(math.atan2(y3-y2, x3-x2) - math.atan2(y1-y2,x1-x2))\n",
    "\n",
    "    angle = np.abs(angle)\n",
    "    # 음수의 각도가 나오면 양수로 바꾸기\n",
    "    if angle >180.0:\n",
    "        angle = 360 - angle\n",
    "        \n",
    "    return angle"
   ]
  },
  {
   "cell_type": "code",
   "execution_count": 5,
   "metadata": {},
   "outputs": [],
   "source": [
    "# 테스트 할 영상 경로 넣으면 됨\n",
    "video = cv2.VideoCapture()"
   ]
  },
  {
   "cell_type": "code",
   "execution_count": null,
   "metadata": {},
   "outputs": [],
   "source": [
    "counter = 0\n",
    "stage = 'start'\n",
    "a = [] #시작각도\n",
    "b = [] #고점\n",
    "c = [] #1회 끝 (다시 시작 각도)\n",
    "df = pd.DataFrame() # predict에 넣어 줄 X_test\n",
    "while video.isOpened():\n",
    "    # Read a frame.\n",
    "    ok, frame = video.read()\n",
    "    # Check if frame is not read properly.\n",
    "    if not ok:\n",
    "        # Break the loop.\n",
    "        break\n",
    "    # display -> False 넣어서 img랑 렌드마크 받기\n",
    "    output_img, landmarks = detectPose(frame,pose,display=False)\n",
    "\n",
    "    if landmarks:\n",
    "         # 귀 - 어깨 - 엉덩이 => 고개 각도 구하기 위함\n",
    "        left_shoulder_angle = calculateAngle(landmarks[mp_pose.PoseLandmark.LEFT_EAR.value],\n",
    "                                        landmarks[mp_pose.PoseLandmark.LEFT_SHOULDER.value],\n",
    "                                        landmarks[mp_pose.PoseLandmark.LEFT_HIP.value])\n",
    "        \n",
    "        # 어깨 - 엉덩이 - 무릎 => 올리는 동작 각도 구하기 위함 -> Main angle\n",
    "        angle = calculateAngle(landmarks[mp_pose.PoseLandmark.LEFT_SHOULDER.value],\n",
    "                                            landmarks[mp_pose.PoseLandmark.LEFT_HIP.value],\n",
    "                                            landmarks[mp_pose.PoseLandmark.LEFT_KNEE.value])\n",
    "        \n",
    "        # 엉덩이 - 무릎 - 발목 => 무릎 꺾였는지 보기 위함\n",
    "        left_knee_angle = calculateAngle(landmarks[mp_pose.PoseLandmark.LEFT_HIP.value],\n",
    "                                        landmarks[mp_pose.PoseLandmark.LEFT_KNEE.value],\n",
    "                                        landmarks[mp_pose.PoseLandmark.LEFT_ANKLE.value])\n",
    "\n",
    "        if len(a) == 0 or len(a) == len(c) :\n",
    "            if angle >140 : \n",
    "                print('다리 쭉 펴진 상태 -> 140~180도')\n",
    "                # 이때의 고개 , 무릎 각도 저장\n",
    "                a.append(left_knee_angle)\n",
    "                a.append(left_shoulder_angle)\n",
    "                stage='start'\n",
    "        \n",
    "        \n",
    "        # 고점에 도착했을때            \n",
    "        elif len(b) < len(a) :\n",
    "            if angle < 110 :\n",
    "                print('다리 들어 올린상태 -> 110도보다 작아질 정도로 올리기')\n",
    "                b.append(left_knee_angle)\n",
    "                b.append(left_shoulder_angle)\n",
    "                stage = 'up'\n",
    "        \n",
    "        # 1회 완성 했을 때\n",
    "        elif len(c) < len(b) :\n",
    "            if angle >140 :\n",
    "                print('다시 다시 내린 상태 -> 전과같이 140~180도')\n",
    "                c.append(left_knee_angle)\n",
    "                c.append(left_shoulder_angle)\n",
    "                stage = 'complete'\n",
    "\n",
    "                counter += 1 # 1회 동작 완료\n",
    "\n",
    "                # 동작 완료 후 a,b,c 에 있는 각도 -> 한개의 행으로 합치기\n",
    "                # -> 학습시켯던 모델의 X데이터가 됨\n",
    "                globals()[f'f{counter}'] = a+b+c\n",
    "                print(globals()[f'f{counter}'])\n",
    "                # dataframe에 저장 -> 예측을 하기 위함\n",
    "                df= df.append([globals()[f'f{counter}']])\n",
    "                # 다시 abc 리스트 0으로 초기화\n",
    "                a = []\n",
    "                b = []\n",
    "                c = []"
   ]
  },
  {
   "cell_type": "code",
   "execution_count": null,
   "metadata": {},
   "outputs": [],
   "source": [
    "# 모델 불러서 result에 예측 하기\n",
    "loaded_model = pickle.load(open('knnpicle_file', 'rb'))\n",
    "result = loaded_model.predict(df) "
   ]
  },
  {
   "cell_type": "code",
   "execution_count": null,
   "metadata": {},
   "outputs": [],
   "source": [
    "# 각 회마다 맞는 자세인지 매핑하기\n",
    "val=[]\n",
    "for i in range(len(result)):\n",
    "    if result[i] ==0:\n",
    "        val.append('정자세')\n",
    "    elif result[i] ==1:\n",
    "        val.append('고개')\n",
    "    elif result[i] == 2:\n",
    "        val.append('다리')"
   ]
  },
  {
   "cell_type": "code",
   "execution_count": null,
   "metadata": {},
   "outputs": [],
   "source": [
    "# val -> 한회마다의 자세 정보 ,len(val) -> 영상에서의 레그레이즈 횟수\n",
    "val"
   ]
  }
 ],
 "metadata": {
  "kernelspec": {
   "display_name": "Python 3.9.15 ('project')",
   "language": "python",
   "name": "python3"
  },
  "language_info": {
   "codemirror_mode": {
    "name": "ipython",
    "version": 3
   },
   "file_extension": ".py",
   "mimetype": "text/x-python",
   "name": "python",
   "nbconvert_exporter": "python",
   "pygments_lexer": "ipython3",
   "version": "3.9.15"
  },
  "orig_nbformat": 4,
  "vscode": {
   "interpreter": {
    "hash": "25f0ce4f8edf86d47345577984872101956248f255ca518b20876280a4f11d3d"
   }
  }
 },
 "nbformat": 4,
 "nbformat_minor": 2
}
