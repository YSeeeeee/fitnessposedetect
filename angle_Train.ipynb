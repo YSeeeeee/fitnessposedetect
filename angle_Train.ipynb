{
 "cells": [
  {
   "cell_type": "code",
   "execution_count": 6,
   "metadata": {},
   "outputs": [],
   "source": [
    "import pandas as pd\n",
    "import os\n",
    "from sklearn.model_selection import train_test_split\n",
    "os.environ[\"CUDA_VISIBLE_DEVICES\"]=\"0\""
   ]
  },
  {
   "cell_type": "code",
   "execution_count": 2,
   "metadata": {},
   "outputs": [],
   "source": [
    "# csv 불러오기\n",
    "Data_set = pd.read_csv(\"Datas.csv\")"
   ]
  },
  {
   "cell_type": "code",
   "execution_count": 3,
   "metadata": {},
   "outputs": [
    {
     "data": {
      "text/plain": [
       "((207, 6), (207,))"
      ]
     },
     "execution_count": 3,
     "metadata": {},
     "output_type": "execute_result"
    }
   ],
   "source": [
    "# X , y 나누기\n",
    "X = Data_set.iloc[:,:-1]\n",
    "y = Data_set.iloc[:,-1]\n",
    "X.shape,y.shape"
   ]
  },
  {
   "cell_type": "code",
   "execution_count": 5,
   "metadata": {},
   "outputs": [],
   "source": [
    "X_train,X_test,y_train,y_test = train_test_split(X,\n",
    "                                                y,\n",
    "                                                test_size=0.3,\n",
    "                                                # 랜덤스테이트로 섞어주기 \n",
    "                                                random_state = 28\n",
    "                                                )"
   ]
  },
  {
   "cell_type": "code",
   "execution_count": 47,
   "metadata": {},
   "outputs": [],
   "source": [
    "from sklearn.tree import DecisionTreeClassifier\n",
    "from sklearn.preprocessing import StandardScaler \n",
    "from sklearn.neighbors import KNeighborsClassifier\n",
    "from sklearn.ensemble import VotingClassifier\n",
    "from sklearn.ensemble import RandomForestClassifier\n",
    "from sklearn.model_selection import GridSearchCV\n",
    "from sklearn.ensemble import AdaBoostClassifier\n",
    "from sklearn.ensemble import GradientBoostingClassifier\n",
    "from sklearn.model_selection import cross_val_score\n",
    "import xgboost\n",
    "from xgboost.sklearn import XGBClassifier\n",
    "from lightgbm import LGBMClassifier\n",
    "# 머신러닝 모델 다 써보기"
   ]
  },
  {
   "cell_type": "code",
   "execution_count": 57,
   "metadata": {},
   "outputs": [],
   "source": [
    "# 스케일링해보기 -> 각도가 대부분 큼 \n",
    "scaler= StandardScaler()\n",
    "scaler.fit(X_train)\n",
    "X_train = scaler.transform(X_train)\n",
    "X_test = scaler.transform(X_test)"
   ]
  },
  {
   "cell_type": "code",
   "execution_count": 58,
   "metadata": {},
   "outputs": [
    {
     "data": {
      "text/plain": [
       "0.8955665024630541"
      ]
     },
     "execution_count": 58,
     "metadata": {},
     "output_type": "execute_result"
    }
   ],
   "source": [
    "# 결정나무\n",
    "tree1 = DecisionTreeClassifier()\n",
    "r = cross_val_score(tree1,X_train,y_train,cv=5)\n",
    "r.mean()"
   ]
  },
  {
   "cell_type": "code",
   "execution_count": 59,
   "metadata": {},
   "outputs": [
    {
     "data": {
      "text/plain": [
       "0.90935960591133"
      ]
     },
     "execution_count": 59,
     "metadata": {},
     "output_type": "execute_result"
    }
   ],
   "source": [
    "# 파라미터 줬을때\n",
    "tree2 = DecisionTreeClassifier(max_depth=9)\n",
    "result = cross_val_score(tree2,X_train,y_train,cv=5)\n",
    "result.mean()"
   ]
  },
  {
   "cell_type": "code",
   "execution_count": 60,
   "metadata": {},
   "outputs": [
    {
     "data": {
      "text/plain": [
       "0.9445812807881773"
      ]
     },
     "execution_count": 60,
     "metadata": {},
     "output_type": "execute_result"
    }
   ],
   "source": [
    "# knn\n",
    "knn1 = KNeighborsClassifier()\n",
    "r = cross_val_score(knn1,X_train,y_train,cv=5)\n",
    "r.mean()"
   ]
  },
  {
   "cell_type": "code",
   "execution_count": 61,
   "metadata": {},
   "outputs": [
    {
     "data": {
      "text/plain": [
       "0.8610837438423644"
      ]
     },
     "execution_count": 61,
     "metadata": {},
     "output_type": "execute_result"
    }
   ],
   "source": [
    "# 파라미터 줬을때\n",
    "knn2 = KNeighborsClassifier(n_neighbors=10)\n",
    "r = cross_val_score(knn2,X_train,y_train,cv=5)\n",
    "r.mean()"
   ]
  },
  {
   "cell_type": "code",
   "execution_count": 64,
   "metadata": {},
   "outputs": [
    {
     "data": {
      "text/plain": [
       "0.9165024630541871"
      ]
     },
     "execution_count": 64,
     "metadata": {},
     "output_type": "execute_result"
    }
   ],
   "source": [
    "# voting 해보기\n",
    "voting_model = VotingClassifier(estimators=[('tree1',tree1), \n",
    "                                            ('tree2',tree2),\n",
    "                                            ('knn1',knn1),\n",
    "                                           ('knn2',knn2),\n",
    "                                           ],\n",
    "                               voting = 'soft')\n",
    "r = cross_val_score(voting_model,X_train,y_train,cv=5)\n",
    "r.mean()"
   ]
  },
  {
   "cell_type": "code",
   "execution_count": 65,
   "metadata": {},
   "outputs": [
    {
     "name": "stdout",
     "output_type": "stream",
     "text": [
      "최적의 하이퍼 파라미터 확인 {'max_depth': 5, 'max_leaf_nodes': 10, 'min_samples_split': 3, 'n_estimators': 50}\n",
      "최고의 정확도 : 0.9302955665024631\n"
     ]
    }
   ],
   "source": [
    "#렌덤포레스트  그리드 서치 해보기\n",
    "params = {'n_estimators':[50,100,150,200],\n",
    "         'max_depth':[3,5,7,9,10,12,15],\n",
    "         'max_leaf_nodes':[2,4,6,8,10,12,14],\n",
    "         'min_samples_split':[3,5,7,9,11,13]}\n",
    "grid_model = RandomForestClassifier(random_state=100)\n",
    "grid = GridSearchCV(grid_model,params,cv=5,scoring='accuracy',n_jobs=-1)\n",
    "grid.fit(X_train,y_train)\n",
    "print('최적의 하이퍼 파라미터 확인', grid.best_params_)\n",
    "print('최고의 정확도 :',grid.best_score_)"
   ]
  },
  {
   "cell_type": "code",
   "execution_count": 66,
   "metadata": {},
   "outputs": [
    {
     "data": {
      "text/plain": [
       "0.9302955665024631"
      ]
     },
     "execution_count": 66,
     "metadata": {},
     "output_type": "execute_result"
    }
   ],
   "source": [
    "best_ranfo = RandomForestClassifier(n_estimators=50,\n",
    "                                   random_state=100,\n",
    "                                   max_depth=5,\n",
    "                                   max_leaf_nodes=10,\n",
    "                                   min_samples_split=3)\n",
    "r = cross_val_score(best_ranfo,X_train,y_train,cv=5)\n",
    "r.mean()"
   ]
  },
  {
   "cell_type": "code",
   "execution_count": 67,
   "metadata": {},
   "outputs": [
    {
     "name": "stdout",
     "output_type": "stream",
     "text": [
      "최적의 하이퍼 파라미터 확인 {'learning_rate': 0.3, 'n_estimators': 50}\n",
      "최고의 정확도 : 0.8677339901477833\n"
     ]
    }
   ],
   "source": [
    "# ada 부스트 그리드 서치\n",
    "params = {'n_estimators':[50,100,150,200],\n",
    "         'learning_rate':[0.3,0.5,0.8,1]}\n",
    "adb = AdaBoostClassifier(random_state= 100)\n",
    "grid = GridSearchCV(adb,params,cv=5,scoring='accuracy',n_jobs=-1)\n",
    "grid.fit(X_train,y_train)\n",
    "print('최적의 하이퍼 파라미터 확인', grid.best_params_)\n",
    "print('최고의 정확도 :',grid.best_score_)"
   ]
  },
  {
   "cell_type": "code",
   "execution_count": 68,
   "metadata": {},
   "outputs": [
    {
     "data": {
      "text/plain": [
       "0.8677339901477833"
      ]
     },
     "execution_count": 68,
     "metadata": {},
     "output_type": "execute_result"
    }
   ],
   "source": [
    "best_adb = AdaBoostClassifier(random_state= 100,\n",
    "                        learning_rate=0.3,\n",
    "                        n_estimators=50)\n",
    "r = cross_val_score(best_adb,X_train,y_train,cv=5)\n",
    "r.mean()"
   ]
  },
  {
   "cell_type": "code",
   "execution_count": 69,
   "metadata": {},
   "outputs": [
    {
     "name": "stdout",
     "output_type": "stream",
     "text": [
      "최적의 하이퍼 파라미터 확인 {'learning_rate': 0.3, 'n_estimators': 50}\n",
      "최고의 정확도 : 0.9096059113300493\n"
     ]
    }
   ],
   "source": [
    "# GBoost\n",
    "gbm = GradientBoostingClassifier(random_state=100)\n",
    "grid = GridSearchCV(gbm,params,cv=5,scoring='accuracy',n_jobs=-1)\n",
    "grid.fit(X_train,y_train)\n",
    "print('최적의 하이퍼 파라미터 확인', grid.best_params_)\n",
    "print('최고의 정확도 :',grid.best_score_)"
   ]
  },
  {
   "cell_type": "code",
   "execution_count": 70,
   "metadata": {},
   "outputs": [
    {
     "data": {
      "text/plain": [
       "0.9096059113300493"
      ]
     },
     "execution_count": 70,
     "metadata": {},
     "output_type": "execute_result"
    }
   ],
   "source": [
    "best_gbm = GradientBoostingClassifier(random_state=100,\n",
    "                                 learning_rate=0.3,\n",
    "                                 n_estimators=150)\n",
    "r = cross_val_score(best_gbm,X_train,y_train,cv=5)\n",
    "r.mean()"
   ]
  },
  {
   "cell_type": "code",
   "execution_count": 71,
   "metadata": {},
   "outputs": [
    {
     "name": "stdout",
     "output_type": "stream",
     "text": [
      "최적의 하이퍼 파라미터 확인 {'max_depth': 5, 'n_estimators': 200}\n",
      "최고의 정확도 : 0.9096059113300493\n"
     ]
    }
   ],
   "source": [
    "# XGBoost\n",
    "params = {'n_estimators':[50,100,150,200],\n",
    "         'max_depth':[3,5,7,9,10,12,15]}\n",
    "xgb = XGBClassifier(random_state=150)\n",
    "grid = GridSearchCV(xgb,params,cv=5,scoring='accuracy',n_jobs=-1)\n",
    "grid.fit(X_train,y_train)\n",
    "print('최적의 하이퍼 파라미터 확인', grid.best_params_)\n",
    "print('최고의 정확도 :',grid.best_score_)"
   ]
  },
  {
   "cell_type": "code",
   "execution_count": 72,
   "metadata": {},
   "outputs": [
    {
     "data": {
      "text/plain": [
       "0.9096059113300493"
      ]
     },
     "execution_count": 72,
     "metadata": {},
     "output_type": "execute_result"
    }
   ],
   "source": [
    "best_xgb = XGBClassifier(random_state=100,\n",
    "                    max_depth=5,\n",
    "                    n_estimators=200)\n",
    "r= cross_val_score(best_xgb,X_train,y_train,cv=5)\n",
    "r.mean()"
   ]
  },
  {
   "cell_type": "code",
   "execution_count": 73,
   "metadata": {},
   "outputs": [
    {
     "name": "stdout",
     "output_type": "stream",
     "text": [
      "최적의 하이퍼 파라미터 확인 {'max_depth': 5, 'n_estimators': 200}\n",
      "최고의 정확도 : 0.9098522167487685\n"
     ]
    }
   ],
   "source": [
    "# light gbm\n",
    "lgb = LGBMClassifier()\n",
    "params = {'n_estimators':[50,100,150,200],\n",
    "         'max_depth':[3,5,7,9,10,12,15]}\n",
    "grid = GridSearchCV(lgb,params,cv=5,scoring='accuracy',n_jobs=-1)\n",
    "grid.fit(X_train,y_train)\n",
    "print('최적의 하이퍼 파라미터 확인', grid.best_params_)\n",
    "print('최고의 정확도 :',grid.best_score_)"
   ]
  },
  {
   "cell_type": "code",
   "execution_count": 74,
   "metadata": {},
   "outputs": [
    {
     "data": {
      "text/plain": [
       "0.9098522167487685"
      ]
     },
     "execution_count": 74,
     "metadata": {},
     "output_type": "execute_result"
    }
   ],
   "source": [
    "best_lgb = LGBMClassifier(max_depth=5,\n",
    "n_estimators=200)\n",
    "r= cross_val_score(best_lgb,X_train,y_train,cv=5)\n",
    "r.mean()"
   ]
  },
  {
   "cell_type": "code",
   "execution_count": 75,
   "metadata": {},
   "outputs": [
    {
     "data": {
      "text/plain": [
       "0.9096059113300493"
      ]
     },
     "execution_count": 75,
     "metadata": {},
     "output_type": "execute_result"
    }
   ],
   "source": [
    "voting_model2 = VotingClassifier(estimators=[('best_adb',best_adb),\n",
    "('best_xgb',best_xgb),\n",
    "('best_gbm',best_gbm),\n",
    "('best_lgb',best_lgb),\n",
    "('best_ranfo',best_ranfo)])\n",
    "r = cross_val_score(voting_model2,X_train,y_train,cv=5)\n",
    "r.mean()"
   ]
  },
  {
   "cell_type": "code",
   "execution_count": 77,
   "metadata": {},
   "outputs": [
    {
     "name": "stdout",
     "output_type": "stream",
     "text": [
      "최적의 하이퍼 파라미터 확인 {'n_neighbors': 5}\n",
      "최고의 정확도 : 0.9445812807881773\n"
     ]
    }
   ],
   "source": [
    "# => scaling 한 knn이 가장 높다\n",
    "# gridsearch로 best params 구하기 \n",
    "knn = KNeighborsClassifier()\n",
    "params = [{'n_neighbors': range(3,10)}]\n",
    "grid = GridSearchCV(knn,params,cv=5,scoring='accuracy',n_jobs=-1)\n",
    "grid.fit(X_train,y_train)\n",
    "print('최적의 하이퍼 파라미터 확인', grid.best_params_)\n",
    "print('최고의 정확도 :',grid.best_score_)"
   ]
  },
  {
   "cell_type": "code",
   "execution_count": 78,
   "metadata": {},
   "outputs": [
    {
     "data": {
      "text/plain": [
       "0.9445812807881773"
      ]
     },
     "execution_count": 78,
     "metadata": {},
     "output_type": "execute_result"
    }
   ],
   "source": [
    "best_knn = KNeighborsClassifier(n_neighbors=5)\n",
    "r = cross_val_score(best_knn,X_train,y_train,cv=5)\n",
    "r.mean()"
   ]
  },
  {
   "cell_type": "code",
   "execution_count": 81,
   "metadata": {},
   "outputs": [],
   "source": [
    "# 저장\n",
    "import pickle\n",
    "knnPickle = open('knnpickle_file', 'wb') \n",
    "pickle.dump(best_knn, knnPickle)\n",
    "knnPickle.close()"
   ]
  },
  {
   "cell_type": "code",
   "execution_count": null,
   "metadata": {},
   "outputs": [],
   "source": [
    "# 나중에 모델 쓸때\n",
    "# loaded_model = pickle.load(open('knnpickle_file', 'rb'))\n",
    "# result = loaded_model.predict(X_test) "
   ]
  }
 ],
 "metadata": {
  "kernelspec": {
   "display_name": "Python 3.9.15 ('project')",
   "language": "python",
   "name": "python3"
  },
  "language_info": {
   "codemirror_mode": {
    "name": "ipython",
    "version": 3
   },
   "file_extension": ".py",
   "mimetype": "text/x-python",
   "name": "python",
   "nbconvert_exporter": "python",
   "pygments_lexer": "ipython3",
   "version": "3.9.15"
  },
  "orig_nbformat": 4,
  "vscode": {
   "interpreter": {
    "hash": "25f0ce4f8edf86d47345577984872101956248f255ca518b20876280a4f11d3d"
   }
  }
 },
 "nbformat": 4,
 "nbformat_minor": 2
}
